{
  "nbformat": 4,
  "nbformat_minor": 0,
  "metadata": {
    "colab": {
      "name": "Tweet-Sentiment Analysis.ipynb",
      "provenance": [],
      "collapsed_sections": [],
      "authorship_tag": "ABX9TyMESe4KYjNQB0zngC7+yzaH",
      "include_colab_link": true
    },
    "kernelspec": {
      "name": "python3",
      "display_name": "Python 3"
    }
  },
  "cells": [
    {
      "cell_type": "markdown",
      "metadata": {
        "id": "view-in-github",
        "colab_type": "text"
      },
      "source": [
        "<a href=\"https://colab.research.google.com/github/arnabmy/MachineLearning/blob/master/Tweet_Sentiment_Analysis.ipynb\" target=\"_parent\"><img src=\"https://colab.research.google.com/assets/colab-badge.svg\" alt=\"Open In Colab\"/></a>"
      ]
    },
    {
      "cell_type": "code",
      "metadata": {
        "id": "344ez6jUYrSS",
        "colab_type": "code",
        "colab": {
          "base_uri": "https://localhost:8080/",
          "height": 124
        },
        "outputId": "bafe5db5-6e97-4438-b420-e623a7b512b1"
      },
      "source": [
        "!pip install twitter"
      ],
      "execution_count": 35,
      "outputs": [
        {
          "output_type": "stream",
          "text": [
            "Collecting twitter\n",
            "\u001b[?25l  Downloading https://files.pythonhosted.org/packages/85/e2/f602e3f584503f03e0389491b251464f8ecfe2596ac86e6b9068fe7419d3/twitter-1.18.0-py2.py3-none-any.whl (54kB)\n",
            "\r\u001b[K     |██████                          | 10kB 18.4MB/s eta 0:00:01\r\u001b[K     |████████████                    | 20kB 6.8MB/s eta 0:00:01\r\u001b[K     |██████████████████              | 30kB 9.0MB/s eta 0:00:01\r\u001b[K     |████████████████████████        | 40kB 6.1MB/s eta 0:00:01\r\u001b[K     |██████████████████████████████▏ | 51kB 7.3MB/s eta 0:00:01\r\u001b[K     |████████████████████████████████| 61kB 4.4MB/s \n",
            "\u001b[?25hInstalling collected packages: twitter\n",
            "Successfully installed twitter-1.18.0\n"
          ],
          "name": "stdout"
        }
      ]
    },
    {
      "cell_type": "code",
      "metadata": {
        "id": "ddFDFDprYyuL",
        "colab_type": "code",
        "colab": {
          "base_uri": "https://localhost:8080/",
          "height": 35
        },
        "outputId": "eb63e750-5c65-4af2-dd32-7e5d081c1ff9"
      },
      "source": [
        "\n",
        "import twitter\n",
        "\n",
        "OAUTH_TOKEN='365065089-n7QjTJtXfoN3S5z0ext5Fi5IgsVVIh0FCHnlrmic'\n",
        "OAUTH_TOKEN_SECRET='ACJ88lAqzk94HFLC1VKqpCbzSqPCJYsVFlRY4liLMdXfD'\n",
        "\n",
        "CONSUMER_KEY='2vVUBP1RTiigrxvfUkt6GSV34'\n",
        "CONSUMER_SECRET='TN7FeCgwZuyysS6qdLtJ8hAD1st8jv6FeYgDD9Bovh3zmaH58F'\n",
        "\n",
        "auth = twitter.oauth.OAuth(OAUTH_TOKEN,OAUTH_TOKEN_SECRET,CONSUMER_KEY,CONSUMER_SECRET)\n",
        "twitter_api = twitter.Twitter(auth=auth)\n",
        "\n",
        "print(twitter_api)\n",
        "\n"
      ],
      "execution_count": 47,
      "outputs": [
        {
          "output_type": "stream",
          "text": [
            "<twitter.api.Twitter object at 0x7f9b06081748>\n"
          ],
          "name": "stdout"
        }
      ]
    },
    {
      "cell_type": "code",
      "metadata": {
        "id": "LjjUrF4edpjW",
        "colab_type": "code",
        "colab": {
          "base_uri": "https://localhost:8080/",
          "height": 52
        },
        "outputId": "90758c6a-7d57-4627-b1d7-106736811469"
      },
      "source": [
        "!pip install nltk"
      ],
      "execution_count": 48,
      "outputs": [
        {
          "output_type": "stream",
          "text": [
            "Requirement already satisfied: nltk in /usr/local/lib/python3.6/dist-packages (3.2.5)\n",
            "Requirement already satisfied: six in /usr/local/lib/python3.6/dist-packages (from nltk) (1.12.0)\n"
          ],
          "name": "stdout"
        }
      ]
    },
    {
      "cell_type": "code",
      "metadata": {
        "id": "sD4NdjZcgyxw",
        "colab_type": "code",
        "colab": {
          "base_uri": "https://localhost:8080/",
          "height": 52
        },
        "outputId": "2d5d94a0-4d74-40b3-bd2a-ac905dd23d1e"
      },
      "source": [
        "import nltk \n",
        "nltk.download('vader_lexicon')\n",
        "import numpy as np \n",
        "from nltk.sentiment.vader import SentimentIntensityAnalyzer\n"
      ],
      "execution_count": 51,
      "outputs": [
        {
          "output_type": "stream",
          "text": [
            "[nltk_data] Downloading package vader_lexicon to /root/nltk_data...\n",
            "[nltk_data]   Package vader_lexicon is already up-to-date!\n"
          ],
          "name": "stdout"
        }
      ]
    },
    {
      "cell_type": "code",
      "metadata": {
        "id": "ZXkMEDRRg71t",
        "colab_type": "code",
        "colab": {}
      },
      "source": [
        "twitter_stream = twitter.TwitterStream(auth=auth)\n",
        "iterator = twitter_stream.statuses.sample()"
      ],
      "execution_count": 0,
      "outputs": []
    },
    {
      "cell_type": "code",
      "metadata": {
        "id": "fSod0e02hs5B",
        "colab_type": "code",
        "colab": {}
      },
      "source": [
        "tweets = []\n",
        "for tweet in iterator:\n",
        "    try:\n",
        "        if tweet['lang'] == 'en':\n",
        "            tweets.append(tweet)\n",
        "    except:\n",
        "        pass\n",
        "        if len(tweets) == 100:\n",
        "            break\n"
      ],
      "execution_count": 0,
      "outputs": []
    },
    {
      "cell_type": "code",
      "metadata": {
        "id": "Nz6xSG3iii8b",
        "colab_type": "code",
        "colab": {}
      },
      "source": [
        "analyzer = SentimentIntensityAnalyzer()"
      ],
      "execution_count": 0,
      "outputs": []
    },
    {
      "cell_type": "code",
      "metadata": {
        "id": "19IhV0orjERL",
        "colab_type": "code",
        "colab": {
          "base_uri": "https://localhost:8080/",
          "height": 35
        },
        "outputId": "e3dd191d-3a4f-4821-b22f-f28b46752e23"
      },
      "source": [
        "analyzer.polarity_scores(\"hello\")"
      ],
      "execution_count": 57,
      "outputs": [
        {
          "output_type": "execute_result",
          "data": {
            "text/plain": [
              "{'compound': 0.0, 'neg': 0.0, 'neu': 1.0, 'pos': 0.0}"
            ]
          },
          "metadata": {
            "tags": []
          },
          "execution_count": 57
        }
      ]
    },
    {
      "cell_type": "code",
      "metadata": {
        "id": "gGqRokFqjHhE",
        "colab_type": "code",
        "colab": {
          "base_uri": "https://localhost:8080/",
          "height": 35
        },
        "outputId": "5d2c15d4-1a4b-4e78-d6b6-b8795ef99760"
      },
      "source": [
        "analyzer.polarity_scores(\"i  enjoyed this program\")"
      ],
      "execution_count": 59,
      "outputs": [
        {
          "output_type": "execute_result",
          "data": {
            "text/plain": [
              "{'compound': 0.5106, 'neg': 0.0, 'neu': 0.377, 'pos': 0.623}"
            ]
          },
          "metadata": {
            "tags": []
          },
          "execution_count": 59
        }
      ]
    },
    {
      "cell_type": "code",
      "metadata": {
        "id": "tVETCK3EjM9H",
        "colab_type": "code",
        "colab": {
          "base_uri": "https://localhost:8080/",
          "height": 35
        },
        "outputId": "55f5da52-6375-4c69-9045-850d9e1899c7"
      },
      "source": [
        "analyzer.polarity_scores(\"i really enjoyed this program\")"
      ],
      "execution_count": 60,
      "outputs": [
        {
          "output_type": "execute_result",
          "data": {
            "text/plain": [
              "{'compound': 0.5563, 'neg': 0.0, 'neu': 0.455, 'pos': 0.545}"
            ]
          },
          "metadata": {
            "tags": []
          },
          "execution_count": 60
        }
      ]
    },
    {
      "cell_type": "code",
      "metadata": {
        "id": "Y6IAVU2kjSDR",
        "colab_type": "code",
        "colab": {}
      },
      "source": [
        "scores = np.zeros(len(tweets))\n",
        "\n",
        "for i,t in enumerate(tweets):\n",
        "    #extract the text portion of the tweet\n",
        "    text = t['text']\n",
        "\n",
        "    #Measure the polarity of the tweet\n",
        "    polarity = analyzer.polarity_scores(text)\n",
        "\n",
        "    #Store the normalized ,weighted composite score \n",
        "    scores[i] = polarity['compound']"
      ],
      "execution_count": 0,
      "outputs": []
    },
    {
      "cell_type": "code",
      "metadata": {
        "id": "GxcJJ0LYkQG3",
        "colab_type": "code",
        "colab": {}
      },
      "source": [
        "most_positive = np.argmax(scores)\n",
        "most_negative = np.argmin(scores)"
      ],
      "execution_count": 0,
      "outputs": []
    },
    {
      "cell_type": "code",
      "metadata": {
        "id": "xLjkTmjkkZHb",
        "colab_type": "code",
        "colab": {
          "base_uri": "https://localhost:8080/",
          "height": 35
        },
        "outputId": "84959ac7-82d5-4ed0-bd14-0bd0c2a5cb0d"
      },
      "source": [
        "print('{0:6.3f} : \"{1}'.format(scores[most_positive],tweets[most_positive]['text']))"
      ],
      "execution_count": 64,
      "outputs": [
        {
          "output_type": "stream",
          "text": [
            " 0.895 : \"RT @yeahdiors: sfc are my bestest friends truly idc i love them so much i want to kith all of them\n"
          ],
          "name": "stdout"
        }
      ]
    },
    {
      "cell_type": "code",
      "metadata": {
        "id": "4Zfe9UeFk46D",
        "colab_type": "code",
        "colab": {
          "base_uri": "https://localhost:8080/",
          "height": 69
        },
        "outputId": "519da6c1-7ee5-4d81-ef83-951bf68a4ed6"
      },
      "source": [
        "print('{0:6.3f} : \"{1}'.format(scores[most_negative],tweets[most_negative]['text']))"
      ],
      "execution_count": 65,
      "outputs": [
        {
          "output_type": "stream",
          "text": [
            "-0.925 : \"#WuhanCoronovirus is no doubt nasty but between 500 and 1,500 people a year die of the flu in Canada.\n",
            "\n",
            "And they die… https://t.co/imrovsZHOr\n"
          ],
          "name": "stdout"
        }
      ]
    },
    {
      "cell_type": "code",
      "metadata": {
        "id": "x6QNHbn1lKFf",
        "colab_type": "code",
        "colab": {}
      },
      "source": [
        ""
      ],
      "execution_count": 0,
      "outputs": []
    }
  ]
}