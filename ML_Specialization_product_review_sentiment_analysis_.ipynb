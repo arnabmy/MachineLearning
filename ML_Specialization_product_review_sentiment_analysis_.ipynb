{
  "nbformat": 4,
  "nbformat_minor": 0,
  "metadata": {
    "colab": {
      "name": "ML Specialization -  product review sentiment analysis - .ipynb",
      "provenance": [],
      "collapsed_sections": [],
      "authorship_tag": "ABX9TyPal5A4mf2rGsY5hGduwirp",
      "include_colab_link": true
    },
    "kernelspec": {
      "name": "python3",
      "display_name": "Python 3"
    },
    "language_info": {
      "name": "python"
    }
  },
  "cells": [
    {
      "cell_type": "markdown",
      "metadata": {
        "id": "view-in-github",
        "colab_type": "text"
      },
      "source": [
        "<a href=\"https://colab.research.google.com/github/arnabmy/MachineLearning/blob/master/ML_Specialization_product_review_sentiment_analysis_.ipynb\" target=\"_parent\"><img src=\"https://colab.research.google.com/assets/colab-badge.svg\" alt=\"Open In Colab\"/></a>"
      ]
    },
    {
      "cell_type": "markdown",
      "metadata": {
        "id": "ttxP4iTDuuMh"
      },
      "source": [
        "Analysing product sentiment"
      ]
    },
    {
      "cell_type": "code",
      "metadata": {
        "colab": {
          "base_uri": "https://localhost:8080/"
        },
        "id": "rL1pbCf7trf-",
        "outputId": "835f46eb-d79a-438a-f249-840b8be92950"
      },
      "source": [
        "!pip3 install turicreate"
      ],
      "execution_count": 62,
      "outputs": [
        {
          "output_type": "stream",
          "text": [
            "Requirement already satisfied: turicreate in /usr/local/lib/python3.7/dist-packages (6.4.1)\n",
            "Requirement already satisfied: scipy>=1.1.0 in /usr/local/lib/python3.7/dist-packages (from turicreate) (1.4.1)\n",
            "Requirement already satisfied: six>=1.10.0 in /usr/local/lib/python3.7/dist-packages (from turicreate) (1.15.0)\n",
            "Requirement already satisfied: numba<0.51.0 in /usr/local/lib/python3.7/dist-packages (from turicreate) (0.50.1)\n",
            "Requirement already satisfied: pillow>=5.2.0 in /usr/local/lib/python3.7/dist-packages (from turicreate) (7.1.2)\n",
            "Requirement already satisfied: numpy in /usr/local/lib/python3.7/dist-packages (from turicreate) (1.19.5)\n",
            "Requirement already satisfied: pandas>=0.23.2 in /usr/local/lib/python3.7/dist-packages (from turicreate) (1.1.5)\n",
            "Requirement already satisfied: tensorflow<2.1.0,>=2.0.0 in /usr/local/lib/python3.7/dist-packages (from turicreate) (2.0.4)\n",
            "Requirement already satisfied: resampy==0.2.1 in /usr/local/lib/python3.7/dist-packages (from turicreate) (0.2.1)\n",
            "Requirement already satisfied: prettytable==0.7.2 in /usr/local/lib/python3.7/dist-packages (from turicreate) (0.7.2)\n",
            "Requirement already satisfied: decorator>=4.0.9 in /usr/local/lib/python3.7/dist-packages (from turicreate) (4.4.2)\n",
            "Requirement already satisfied: requests>=2.9.1 in /usr/local/lib/python3.7/dist-packages (from turicreate) (2.23.0)\n",
            "Requirement already satisfied: coremltools==3.3 in /usr/local/lib/python3.7/dist-packages (from turicreate) (3.3)\n",
            "Requirement already satisfied: setuptools in /usr/local/lib/python3.7/dist-packages (from numba<0.51.0->turicreate) (56.0.0)\n",
            "Requirement already satisfied: llvmlite<0.34,>=0.33.0.dev0 in /usr/local/lib/python3.7/dist-packages (from numba<0.51.0->turicreate) (0.33.0)\n",
            "Requirement already satisfied: python-dateutil>=2.7.3 in /usr/local/lib/python3.7/dist-packages (from pandas>=0.23.2->turicreate) (2.8.1)\n",
            "Requirement already satisfied: pytz>=2017.2 in /usr/local/lib/python3.7/dist-packages (from pandas>=0.23.2->turicreate) (2018.9)\n",
            "Requirement already satisfied: wrapt>=1.11.1 in /usr/local/lib/python3.7/dist-packages (from tensorflow<2.1.0,>=2.0.0->turicreate) (1.12.1)\n",
            "Requirement already satisfied: astor>=0.6.0 in /usr/local/lib/python3.7/dist-packages (from tensorflow<2.1.0,>=2.0.0->turicreate) (0.8.1)\n",
            "Requirement already satisfied: grpcio>=1.8.6 in /usr/local/lib/python3.7/dist-packages (from tensorflow<2.1.0,>=2.0.0->turicreate) (1.32.0)\n",
            "Requirement already satisfied: wheel>=0.26; python_version >= \"3\" in /usr/local/lib/python3.7/dist-packages (from tensorflow<2.1.0,>=2.0.0->turicreate) (0.36.2)\n",
            "Requirement already satisfied: absl-py>=0.7.0 in /usr/local/lib/python3.7/dist-packages (from tensorflow<2.1.0,>=2.0.0->turicreate) (0.12.0)\n",
            "Requirement already satisfied: keras-applications>=1.0.8 in /usr/local/lib/python3.7/dist-packages (from tensorflow<2.1.0,>=2.0.0->turicreate) (1.0.8)\n",
            "Requirement already satisfied: keras-preprocessing>=1.0.5 in /usr/local/lib/python3.7/dist-packages (from tensorflow<2.1.0,>=2.0.0->turicreate) (1.1.2)\n",
            "Requirement already satisfied: tensorflow-estimator<2.1.0,>=2.0.0 in /usr/local/lib/python3.7/dist-packages (from tensorflow<2.1.0,>=2.0.0->turicreate) (2.0.1)\n",
            "Requirement already satisfied: termcolor>=1.1.0 in /usr/local/lib/python3.7/dist-packages (from tensorflow<2.1.0,>=2.0.0->turicreate) (1.1.0)\n",
            "Requirement already satisfied: gast==0.2.2 in /usr/local/lib/python3.7/dist-packages (from tensorflow<2.1.0,>=2.0.0->turicreate) (0.2.2)\n",
            "Requirement already satisfied: protobuf>=3.6.1 in /usr/local/lib/python3.7/dist-packages (from tensorflow<2.1.0,>=2.0.0->turicreate) (3.12.4)\n",
            "Requirement already satisfied: tensorboard<2.1.0,>=2.0.0 in /usr/local/lib/python3.7/dist-packages (from tensorflow<2.1.0,>=2.0.0->turicreate) (2.0.2)\n",
            "Requirement already satisfied: h5py<=2.10.0 in /usr/local/lib/python3.7/dist-packages (from tensorflow<2.1.0,>=2.0.0->turicreate) (2.10.0)\n",
            "Requirement already satisfied: opt-einsum>=2.3.2 in /usr/local/lib/python3.7/dist-packages (from tensorflow<2.1.0,>=2.0.0->turicreate) (3.3.0)\n",
            "Requirement already satisfied: google-pasta>=0.1.6 in /usr/local/lib/python3.7/dist-packages (from tensorflow<2.1.0,>=2.0.0->turicreate) (0.2.0)\n",
            "Requirement already satisfied: certifi>=2017.4.17 in /usr/local/lib/python3.7/dist-packages (from requests>=2.9.1->turicreate) (2020.12.5)\n",
            "Requirement already satisfied: idna<3,>=2.5 in /usr/local/lib/python3.7/dist-packages (from requests>=2.9.1->turicreate) (2.10)\n",
            "Requirement already satisfied: urllib3!=1.25.0,!=1.25.1,<1.26,>=1.21.1 in /usr/local/lib/python3.7/dist-packages (from requests>=2.9.1->turicreate) (1.24.3)\n",
            "Requirement already satisfied: chardet<4,>=3.0.2 in /usr/local/lib/python3.7/dist-packages (from requests>=2.9.1->turicreate) (3.0.4)\n",
            "Requirement already satisfied: google-auth-oauthlib<0.5,>=0.4.1 in /usr/local/lib/python3.7/dist-packages (from tensorboard<2.1.0,>=2.0.0->tensorflow<2.1.0,>=2.0.0->turicreate) (0.4.4)\n",
            "Requirement already satisfied: werkzeug>=0.11.15 in /usr/local/lib/python3.7/dist-packages (from tensorboard<2.1.0,>=2.0.0->tensorflow<2.1.0,>=2.0.0->turicreate) (1.0.1)\n",
            "Requirement already satisfied: google-auth<2,>=1.6.3 in /usr/local/lib/python3.7/dist-packages (from tensorboard<2.1.0,>=2.0.0->tensorflow<2.1.0,>=2.0.0->turicreate) (1.28.1)\n",
            "Requirement already satisfied: markdown>=2.6.8 in /usr/local/lib/python3.7/dist-packages (from tensorboard<2.1.0,>=2.0.0->tensorflow<2.1.0,>=2.0.0->turicreate) (3.3.4)\n",
            "Requirement already satisfied: requests-oauthlib>=0.7.0 in /usr/local/lib/python3.7/dist-packages (from google-auth-oauthlib<0.5,>=0.4.1->tensorboard<2.1.0,>=2.0.0->tensorflow<2.1.0,>=2.0.0->turicreate) (1.3.0)\n",
            "Requirement already satisfied: rsa<5,>=3.1.4; python_version >= \"3.6\" in /usr/local/lib/python3.7/dist-packages (from google-auth<2,>=1.6.3->tensorboard<2.1.0,>=2.0.0->tensorflow<2.1.0,>=2.0.0->turicreate) (4.7.2)\n",
            "Requirement already satisfied: cachetools<5.0,>=2.0.0 in /usr/local/lib/python3.7/dist-packages (from google-auth<2,>=1.6.3->tensorboard<2.1.0,>=2.0.0->tensorflow<2.1.0,>=2.0.0->turicreate) (4.2.1)\n",
            "Requirement already satisfied: pyasn1-modules>=0.2.1 in /usr/local/lib/python3.7/dist-packages (from google-auth<2,>=1.6.3->tensorboard<2.1.0,>=2.0.0->tensorflow<2.1.0,>=2.0.0->turicreate) (0.2.8)\n",
            "Requirement already satisfied: importlib-metadata; python_version < \"3.8\" in /usr/local/lib/python3.7/dist-packages (from markdown>=2.6.8->tensorboard<2.1.0,>=2.0.0->tensorflow<2.1.0,>=2.0.0->turicreate) (3.10.1)\n",
            "Requirement already satisfied: oauthlib>=3.0.0 in /usr/local/lib/python3.7/dist-packages (from requests-oauthlib>=0.7.0->google-auth-oauthlib<0.5,>=0.4.1->tensorboard<2.1.0,>=2.0.0->tensorflow<2.1.0,>=2.0.0->turicreate) (3.1.0)\n",
            "Requirement already satisfied: pyasn1>=0.1.3 in /usr/local/lib/python3.7/dist-packages (from rsa<5,>=3.1.4; python_version >= \"3.6\"->google-auth<2,>=1.6.3->tensorboard<2.1.0,>=2.0.0->tensorflow<2.1.0,>=2.0.0->turicreate) (0.4.8)\n",
            "Requirement already satisfied: zipp>=0.5 in /usr/local/lib/python3.7/dist-packages (from importlib-metadata; python_version < \"3.8\"->markdown>=2.6.8->tensorboard<2.1.0,>=2.0.0->tensorflow<2.1.0,>=2.0.0->turicreate) (3.4.1)\n",
            "Requirement already satisfied: typing-extensions>=3.6.4; python_version < \"3.8\" in /usr/local/lib/python3.7/dist-packages (from importlib-metadata; python_version < \"3.8\"->markdown>=2.6.8->tensorboard<2.1.0,>=2.0.0->tensorflow<2.1.0,>=2.0.0->turicreate) (3.7.4.3)\n"
          ],
          "name": "stdout"
        }
      ]
    },
    {
      "cell_type": "code",
      "metadata": {
        "id": "_S3QlGojuDu7"
      },
      "source": [
        "import turicreate"
      ],
      "execution_count": 63,
      "outputs": []
    },
    {
      "cell_type": "markdown",
      "metadata": {
        "id": "qPND0jPrufct"
      },
      "source": [
        "Read product review data"
      ]
    },
    {
      "cell_type": "code",
      "metadata": {
        "id": "OSFcokDzuRR0"
      },
      "source": [
        "products = turicreate.SFrame('/content/amazon_baby.sframe/')"
      ],
      "execution_count": 64,
      "outputs": []
    },
    {
      "cell_type": "code",
      "metadata": {
        "colab": {
          "base_uri": "https://localhost:8080/",
          "height": 449
        },
        "id": "5P_kw70NvRR3",
        "outputId": "2d709f2c-b48d-4f65-c982-cedad5a1cea0"
      },
      "source": [
        "products"
      ],
      "execution_count": 65,
      "outputs": [
        {
          "output_type": "execute_result",
          "data": {
            "text/html": [
              "<div style=\"max-height:1000px;max-width:1500px;overflow:auto;\"><table frame=\"box\" rules=\"cols\">\n",
              "    <tr>\n",
              "        <th style=\"padding-left: 1em; padding-right: 1em; text-align: center\">name</th>\n",
              "        <th style=\"padding-left: 1em; padding-right: 1em; text-align: center\">review</th>\n",
              "        <th style=\"padding-left: 1em; padding-right: 1em; text-align: center\">rating</th>\n",
              "    </tr>\n",
              "    <tr>\n",
              "        <td style=\"padding-left: 1em; padding-right: 1em; text-align: center; vertical-align: top\">Planetwise Flannel Wipes</td>\n",
              "        <td style=\"padding-left: 1em; padding-right: 1em; text-align: center; vertical-align: top\">These flannel wipes are<br>OK, but in my opinion ...</td>\n",
              "        <td style=\"padding-left: 1em; padding-right: 1em; text-align: center; vertical-align: top\">3.0</td>\n",
              "    </tr>\n",
              "    <tr>\n",
              "        <td style=\"padding-left: 1em; padding-right: 1em; text-align: center; vertical-align: top\">Planetwise Wipe Pouch</td>\n",
              "        <td style=\"padding-left: 1em; padding-right: 1em; text-align: center; vertical-align: top\">it came early and was not<br>disappointed. i love ...</td>\n",
              "        <td style=\"padding-left: 1em; padding-right: 1em; text-align: center; vertical-align: top\">5.0</td>\n",
              "    </tr>\n",
              "    <tr>\n",
              "        <td style=\"padding-left: 1em; padding-right: 1em; text-align: center; vertical-align: top\">Annas Dream Full Quilt<br>with 2 Shams ...</td>\n",
              "        <td style=\"padding-left: 1em; padding-right: 1em; text-align: center; vertical-align: top\">Very soft and comfortable<br>and warmer than it ...</td>\n",
              "        <td style=\"padding-left: 1em; padding-right: 1em; text-align: center; vertical-align: top\">5.0</td>\n",
              "    </tr>\n",
              "    <tr>\n",
              "        <td style=\"padding-left: 1em; padding-right: 1em; text-align: center; vertical-align: top\">Stop Pacifier Sucking<br>without tears with ...</td>\n",
              "        <td style=\"padding-left: 1em; padding-right: 1em; text-align: center; vertical-align: top\">This is a product well<br>worth the purchase.  I ...</td>\n",
              "        <td style=\"padding-left: 1em; padding-right: 1em; text-align: center; vertical-align: top\">5.0</td>\n",
              "    </tr>\n",
              "    <tr>\n",
              "        <td style=\"padding-left: 1em; padding-right: 1em; text-align: center; vertical-align: top\">Stop Pacifier Sucking<br>without tears with ...</td>\n",
              "        <td style=\"padding-left: 1em; padding-right: 1em; text-align: center; vertical-align: top\">All of my kids have cried<br>non-stop when I tried to ...</td>\n",
              "        <td style=\"padding-left: 1em; padding-right: 1em; text-align: center; vertical-align: top\">5.0</td>\n",
              "    </tr>\n",
              "    <tr>\n",
              "        <td style=\"padding-left: 1em; padding-right: 1em; text-align: center; vertical-align: top\">Stop Pacifier Sucking<br>without tears with ...</td>\n",
              "        <td style=\"padding-left: 1em; padding-right: 1em; text-align: center; vertical-align: top\">When the Binky Fairy came<br>to our house, we didn&#x27;t ...</td>\n",
              "        <td style=\"padding-left: 1em; padding-right: 1em; text-align: center; vertical-align: top\">5.0</td>\n",
              "    </tr>\n",
              "    <tr>\n",
              "        <td style=\"padding-left: 1em; padding-right: 1em; text-align: center; vertical-align: top\">A Tale of Baby&#x27;s Days<br>with Peter Rabbit ...</td>\n",
              "        <td style=\"padding-left: 1em; padding-right: 1em; text-align: center; vertical-align: top\">Lovely book, it&#x27;s bound<br>tightly so you may no ...</td>\n",
              "        <td style=\"padding-left: 1em; padding-right: 1em; text-align: center; vertical-align: top\">4.0</td>\n",
              "    </tr>\n",
              "    <tr>\n",
              "        <td style=\"padding-left: 1em; padding-right: 1em; text-align: center; vertical-align: top\">Baby Tracker&amp;reg; - Daily<br>Childcare Journal, ...</td>\n",
              "        <td style=\"padding-left: 1em; padding-right: 1em; text-align: center; vertical-align: top\">Perfect for new parents.<br>We were able to keep ...</td>\n",
              "        <td style=\"padding-left: 1em; padding-right: 1em; text-align: center; vertical-align: top\">5.0</td>\n",
              "    </tr>\n",
              "    <tr>\n",
              "        <td style=\"padding-left: 1em; padding-right: 1em; text-align: center; vertical-align: top\">Baby Tracker&amp;reg; - Daily<br>Childcare Journal, ...</td>\n",
              "        <td style=\"padding-left: 1em; padding-right: 1em; text-align: center; vertical-align: top\">A friend of mine pinned<br>this product on Pinte ...</td>\n",
              "        <td style=\"padding-left: 1em; padding-right: 1em; text-align: center; vertical-align: top\">5.0</td>\n",
              "    </tr>\n",
              "    <tr>\n",
              "        <td style=\"padding-left: 1em; padding-right: 1em; text-align: center; vertical-align: top\">Baby Tracker&amp;reg; - Daily<br>Childcare Journal, ...</td>\n",
              "        <td style=\"padding-left: 1em; padding-right: 1em; text-align: center; vertical-align: top\">This has been an easy way<br>for my nanny to record ...</td>\n",
              "        <td style=\"padding-left: 1em; padding-right: 1em; text-align: center; vertical-align: top\">4.0</td>\n",
              "    </tr>\n",
              "</table>\n",
              "[183531 rows x 3 columns]<br/>Note: Only the head of the SFrame is printed.<br/>You can use print_rows(num_rows=m, num_columns=n) to print more rows and columns.\n",
              "</div>"
            ],
            "text/plain": [
              "Columns:\n",
              "\tname\tstr\n",
              "\treview\tstr\n",
              "\trating\tfloat\n",
              "\n",
              "Rows: 183531\n",
              "\n",
              "Data:\n",
              "+-------------------------------+-------------------------------+--------+\n",
              "|              name             |             review            | rating |\n",
              "+-------------------------------+-------------------------------+--------+\n",
              "|    Planetwise Flannel Wipes   | These flannel wipes are OK... |  3.0   |\n",
              "|     Planetwise Wipe Pouch     | it came early and was not ... |  5.0   |\n",
              "| Annas Dream Full Quilt wit... | Very soft and comfortable ... |  5.0   |\n",
              "| Stop Pacifier Sucking with... | This is a product well wor... |  5.0   |\n",
              "| Stop Pacifier Sucking with... | All of my kids have cried ... |  5.0   |\n",
              "| Stop Pacifier Sucking with... | When the Binky Fairy came ... |  5.0   |\n",
              "| A Tale of Baby's Days with... | Lovely book, it's bound ti... |  4.0   |\n",
              "| Baby Tracker&reg; - Daily ... | Perfect for new parents. W... |  5.0   |\n",
              "| Baby Tracker&reg; - Daily ... | A friend of mine pinned th... |  5.0   |\n",
              "| Baby Tracker&reg; - Daily ... | This has been an easy way ... |  4.0   |\n",
              "+-------------------------------+-------------------------------+--------+\n",
              "[183531 rows x 3 columns]\n",
              "Note: Only the head of the SFrame is printed.\n",
              "You can use print_rows(num_rows=m, num_columns=n) to print more rows and columns."
            ]
          },
          "metadata": {
            "tags": []
          },
          "execution_count": 65
        }
      ]
    },
    {
      "cell_type": "markdown",
      "metadata": {
        "id": "BZGVH8CqzmVk"
      },
      "source": [
        "Build the word count vector for each review"
      ]
    },
    {
      "cell_type": "code",
      "metadata": {
        "colab": {
          "base_uri": "https://localhost:8080/",
          "height": 449
        },
        "id": "D0psHpggz7rr",
        "outputId": "258c425a-c4ef-45cf-8444-ef2014b4c87c"
      },
      "source": [
        "products['word_count'] = turicreate.text_analytics.count_words(products['review'])\n",
        "products"
      ],
      "execution_count": 66,
      "outputs": [
        {
          "output_type": "execute_result",
          "data": {
            "text/html": [
              "<div style=\"max-height:1000px;max-width:1500px;overflow:auto;\"><table frame=\"box\" rules=\"cols\">\n",
              "    <tr>\n",
              "        <th style=\"padding-left: 1em; padding-right: 1em; text-align: center\">name</th>\n",
              "        <th style=\"padding-left: 1em; padding-right: 1em; text-align: center\">review</th>\n",
              "        <th style=\"padding-left: 1em; padding-right: 1em; text-align: center\">rating</th>\n",
              "        <th style=\"padding-left: 1em; padding-right: 1em; text-align: center\">word_count</th>\n",
              "    </tr>\n",
              "    <tr>\n",
              "        <td style=\"padding-left: 1em; padding-right: 1em; text-align: center; vertical-align: top\">Planetwise Flannel Wipes</td>\n",
              "        <td style=\"padding-left: 1em; padding-right: 1em; text-align: center; vertical-align: top\">These flannel wipes are<br>OK, but in my opinion ...</td>\n",
              "        <td style=\"padding-left: 1em; padding-right: 1em; text-align: center; vertical-align: top\">3.0</td>\n",
              "        <td style=\"padding-left: 1em; padding-right: 1em; text-align: center; vertical-align: top\">{&#x27;handles&#x27;: 1.0,<br>&#x27;stripping&#x27;: 1.0, ...</td>\n",
              "    </tr>\n",
              "    <tr>\n",
              "        <td style=\"padding-left: 1em; padding-right: 1em; text-align: center; vertical-align: top\">Planetwise Wipe Pouch</td>\n",
              "        <td style=\"padding-left: 1em; padding-right: 1em; text-align: center; vertical-align: top\">it came early and was not<br>disappointed. i love ...</td>\n",
              "        <td style=\"padding-left: 1em; padding-right: 1em; text-align: center; vertical-align: top\">5.0</td>\n",
              "        <td style=\"padding-left: 1em; padding-right: 1em; text-align: center; vertical-align: top\">{&#x27;recommend&#x27;: 1.0,<br>&#x27;highly&#x27;: 1.0, ...</td>\n",
              "    </tr>\n",
              "    <tr>\n",
              "        <td style=\"padding-left: 1em; padding-right: 1em; text-align: center; vertical-align: top\">Annas Dream Full Quilt<br>with 2 Shams ...</td>\n",
              "        <td style=\"padding-left: 1em; padding-right: 1em; text-align: center; vertical-align: top\">Very soft and comfortable<br>and warmer than it ...</td>\n",
              "        <td style=\"padding-left: 1em; padding-right: 1em; text-align: center; vertical-align: top\">5.0</td>\n",
              "        <td style=\"padding-left: 1em; padding-right: 1em; text-align: center; vertical-align: top\">{&#x27;quilt&#x27;: 1.0, &#x27;of&#x27;: 1.0,<br>&#x27;the&#x27;: 1.0, &#x27;than&#x27;: 1.0, ...</td>\n",
              "    </tr>\n",
              "    <tr>\n",
              "        <td style=\"padding-left: 1em; padding-right: 1em; text-align: center; vertical-align: top\">Stop Pacifier Sucking<br>without tears with ...</td>\n",
              "        <td style=\"padding-left: 1em; padding-right: 1em; text-align: center; vertical-align: top\">This is a product well<br>worth the purchase.  I ...</td>\n",
              "        <td style=\"padding-left: 1em; padding-right: 1em; text-align: center; vertical-align: top\">5.0</td>\n",
              "        <td style=\"padding-left: 1em; padding-right: 1em; text-align: center; vertical-align: top\">{&#x27;tool&#x27;: 1.0, &#x27;clever&#x27;:<br>1.0, &#x27;approach&#x27;: 2.0, ...</td>\n",
              "    </tr>\n",
              "    <tr>\n",
              "        <td style=\"padding-left: 1em; padding-right: 1em; text-align: center; vertical-align: top\">Stop Pacifier Sucking<br>without tears with ...</td>\n",
              "        <td style=\"padding-left: 1em; padding-right: 1em; text-align: center; vertical-align: top\">All of my kids have cried<br>non-stop when I tried to ...</td>\n",
              "        <td style=\"padding-left: 1em; padding-right: 1em; text-align: center; vertical-align: top\">5.0</td>\n",
              "        <td style=\"padding-left: 1em; padding-right: 1em; text-align: center; vertical-align: top\">{&#x27;rock&#x27;: 1.0, &#x27;many&#x27;:<br>1.0, &#x27;headaches&#x27;: 1.0, ...</td>\n",
              "    </tr>\n",
              "    <tr>\n",
              "        <td style=\"padding-left: 1em; padding-right: 1em; text-align: center; vertical-align: top\">Stop Pacifier Sucking<br>without tears with ...</td>\n",
              "        <td style=\"padding-left: 1em; padding-right: 1em; text-align: center; vertical-align: top\">When the Binky Fairy came<br>to our house, we didn&#x27;t ...</td>\n",
              "        <td style=\"padding-left: 1em; padding-right: 1em; text-align: center; vertical-align: top\">5.0</td>\n",
              "        <td style=\"padding-left: 1em; padding-right: 1em; text-align: center; vertical-align: top\">{&#x27;thumb&#x27;: 1.0, &#x27;or&#x27;: 1.0,<br>&#x27;break&#x27;: 1.0, &#x27;trying&#x27;: ...</td>\n",
              "    </tr>\n",
              "    <tr>\n",
              "        <td style=\"padding-left: 1em; padding-right: 1em; text-align: center; vertical-align: top\">A Tale of Baby&#x27;s Days<br>with Peter Rabbit ...</td>\n",
              "        <td style=\"padding-left: 1em; padding-right: 1em; text-align: center; vertical-align: top\">Lovely book, it&#x27;s bound<br>tightly so you may no ...</td>\n",
              "        <td style=\"padding-left: 1em; padding-right: 1em; text-align: center; vertical-align: top\">4.0</td>\n",
              "        <td style=\"padding-left: 1em; padding-right: 1em; text-align: center; vertical-align: top\">{&#x27;for&#x27;: 1.0, &#x27;barnes&#x27;:<br>1.0, &#x27;at&#x27;: 1.0, &#x27;is&#x27;: ...</td>\n",
              "    </tr>\n",
              "    <tr>\n",
              "        <td style=\"padding-left: 1em; padding-right: 1em; text-align: center; vertical-align: top\">Baby Tracker&amp;reg; - Daily<br>Childcare Journal, ...</td>\n",
              "        <td style=\"padding-left: 1em; padding-right: 1em; text-align: center; vertical-align: top\">Perfect for new parents.<br>We were able to keep ...</td>\n",
              "        <td style=\"padding-left: 1em; padding-right: 1em; text-align: center; vertical-align: top\">5.0</td>\n",
              "        <td style=\"padding-left: 1em; padding-right: 1em; text-align: center; vertical-align: top\">{&#x27;right&#x27;: 1.0, &#x27;because&#x27;:<br>1.0, &#x27;questions&#x27;: 1.0, ...</td>\n",
              "    </tr>\n",
              "    <tr>\n",
              "        <td style=\"padding-left: 1em; padding-right: 1em; text-align: center; vertical-align: top\">Baby Tracker&amp;reg; - Daily<br>Childcare Journal, ...</td>\n",
              "        <td style=\"padding-left: 1em; padding-right: 1em; text-align: center; vertical-align: top\">A friend of mine pinned<br>this product on Pinte ...</td>\n",
              "        <td style=\"padding-left: 1em; padding-right: 1em; text-align: center; vertical-align: top\">5.0</td>\n",
              "        <td style=\"padding-left: 1em; padding-right: 1em; text-align: center; vertical-align: top\">{&#x27;like&#x27;: 1.0, &#x27;and&#x27;: 1.0,<br>&#x27;changes&#x27;: 1.0, &#x27;the&#x27;: ...</td>\n",
              "    </tr>\n",
              "    <tr>\n",
              "        <td style=\"padding-left: 1em; padding-right: 1em; text-align: center; vertical-align: top\">Baby Tracker&amp;reg; - Daily<br>Childcare Journal, ...</td>\n",
              "        <td style=\"padding-left: 1em; padding-right: 1em; text-align: center; vertical-align: top\">This has been an easy way<br>for my nanny to record ...</td>\n",
              "        <td style=\"padding-left: 1em; padding-right: 1em; text-align: center; vertical-align: top\">4.0</td>\n",
              "        <td style=\"padding-left: 1em; padding-right: 1em; text-align: center; vertical-align: top\">{&#x27;in&#x27;: 1.0, &#x27;pages&#x27;: 1.0,<br>&#x27;out&#x27;: 1.0, &#x27;run&#x27;: 1.0, ...</td>\n",
              "    </tr>\n",
              "</table>\n",
              "[183531 rows x 4 columns]<br/>Note: Only the head of the SFrame is printed.<br/>You can use print_rows(num_rows=m, num_columns=n) to print more rows and columns.\n",
              "</div>"
            ],
            "text/plain": [
              "Columns:\n",
              "\tname\tstr\n",
              "\treview\tstr\n",
              "\trating\tfloat\n",
              "\tword_count\tdict\n",
              "\n",
              "Rows: 183531\n",
              "\n",
              "Data:\n",
              "+-------------------------------+-------------------------------+--------+\n",
              "|              name             |             review            | rating |\n",
              "+-------------------------------+-------------------------------+--------+\n",
              "|    Planetwise Flannel Wipes   | These flannel wipes are OK... |  3.0   |\n",
              "|     Planetwise Wipe Pouch     | it came early and was not ... |  5.0   |\n",
              "| Annas Dream Full Quilt wit... | Very soft and comfortable ... |  5.0   |\n",
              "| Stop Pacifier Sucking with... | This is a product well wor... |  5.0   |\n",
              "| Stop Pacifier Sucking with... | All of my kids have cried ... |  5.0   |\n",
              "| Stop Pacifier Sucking with... | When the Binky Fairy came ... |  5.0   |\n",
              "| A Tale of Baby's Days with... | Lovely book, it's bound ti... |  4.0   |\n",
              "| Baby Tracker&reg; - Daily ... | Perfect for new parents. W... |  5.0   |\n",
              "| Baby Tracker&reg; - Daily ... | A friend of mine pinned th... |  5.0   |\n",
              "| Baby Tracker&reg; - Daily ... | This has been an easy way ... |  4.0   |\n",
              "+-------------------------------+-------------------------------+--------+\n",
              "+-------------------------------+\n",
              "|           word_count          |\n",
              "+-------------------------------+\n",
              "| {'handles': 1.0, 'strippin... |\n",
              "| {'recommend': 1.0, 'highly... |\n",
              "| {'quilt': 1.0, 'of': 1.0, ... |\n",
              "| {'tool': 1.0, 'clever': 1.... |\n",
              "| {'rock': 1.0, 'many': 1.0,... |\n",
              "| {'thumb': 1.0, 'or': 1.0, ... |\n",
              "| {'for': 1.0, 'barnes': 1.0... |\n",
              "| {'right': 1.0, 'because': ... |\n",
              "| {'like': 1.0, 'and': 1.0, ... |\n",
              "| {'in': 1.0, 'pages': 1.0, ... |\n",
              "+-------------------------------+\n",
              "[183531 rows x 4 columns]\n",
              "Note: Only the head of the SFrame is printed.\n",
              "You can use print_rows(num_rows=m, num_columns=n) to print more rows and columns."
            ]
          },
          "metadata": {
            "tags": []
          },
          "execution_count": 66
        }
      ]
    },
    {
      "cell_type": "code",
      "metadata": {
        "colab": {
          "base_uri": "https://localhost:8080/",
          "height": 449
        },
        "id": "2TT3Uk7PvSPT",
        "outputId": "e3ac4134-0c82-42ea-f38e-cdb2bc513303"
      },
      "source": [
        "products.groupby('name',operations={'count':turicreate.aggregate.COUNT()}).sort('count',ascending=False)"
      ],
      "execution_count": 67,
      "outputs": [
        {
          "output_type": "execute_result",
          "data": {
            "text/html": [
              "<div style=\"max-height:1000px;max-width:1500px;overflow:auto;\"><table frame=\"box\" rules=\"cols\">\n",
              "    <tr>\n",
              "        <th style=\"padding-left: 1em; padding-right: 1em; text-align: center\">name</th>\n",
              "        <th style=\"padding-left: 1em; padding-right: 1em; text-align: center\">count</th>\n",
              "    </tr>\n",
              "    <tr>\n",
              "        <td style=\"padding-left: 1em; padding-right: 1em; text-align: center; vertical-align: top\">Vulli Sophie the Giraffe<br>Teether ...</td>\n",
              "        <td style=\"padding-left: 1em; padding-right: 1em; text-align: center; vertical-align: top\">785</td>\n",
              "    </tr>\n",
              "    <tr>\n",
              "        <td style=\"padding-left: 1em; padding-right: 1em; text-align: center; vertical-align: top\">Simple Wishes Hands-Free<br>Breastpump Bra, Pink, ...</td>\n",
              "        <td style=\"padding-left: 1em; padding-right: 1em; text-align: center; vertical-align: top\">562</td>\n",
              "    </tr>\n",
              "    <tr>\n",
              "        <td style=\"padding-left: 1em; padding-right: 1em; text-align: center; vertical-align: top\">Infant Optics DXR-5 2.4<br>GHz Digital Video Baby ...</td>\n",
              "        <td style=\"padding-left: 1em; padding-right: 1em; text-align: center; vertical-align: top\">561</td>\n",
              "    </tr>\n",
              "    <tr>\n",
              "        <td style=\"padding-left: 1em; padding-right: 1em; text-align: center; vertical-align: top\">Baby Einstein Take Along<br>Tunes ...</td>\n",
              "        <td style=\"padding-left: 1em; padding-right: 1em; text-align: center; vertical-align: top\">547</td>\n",
              "    </tr>\n",
              "    <tr>\n",
              "        <td style=\"padding-left: 1em; padding-right: 1em; text-align: center; vertical-align: top\">Cloud b Twilight<br>Constellation Night ...</td>\n",
              "        <td style=\"padding-left: 1em; padding-right: 1em; text-align: center; vertical-align: top\">520</td>\n",
              "    </tr>\n",
              "    <tr>\n",
              "        <td style=\"padding-left: 1em; padding-right: 1em; text-align: center; vertical-align: top\">Fisher-Price Booster<br>Seat, Blue/Green/Gray ...</td>\n",
              "        <td style=\"padding-left: 1em; padding-right: 1em; text-align: center; vertical-align: top\">489</td>\n",
              "    </tr>\n",
              "    <tr>\n",
              "        <td style=\"padding-left: 1em; padding-right: 1em; text-align: center; vertical-align: top\">Fisher-Price Rainforest<br>Jumperoo ...</td>\n",
              "        <td style=\"padding-left: 1em; padding-right: 1em; text-align: center; vertical-align: top\">450</td>\n",
              "    </tr>\n",
              "    <tr>\n",
              "        <td style=\"padding-left: 1em; padding-right: 1em; text-align: center; vertical-align: top\">Graco Nautilus 3-in-1 Car<br>Seat, Matrix ...</td>\n",
              "        <td style=\"padding-left: 1em; padding-right: 1em; text-align: center; vertical-align: top\">419</td>\n",
              "    </tr>\n",
              "    <tr>\n",
              "        <td style=\"padding-left: 1em; padding-right: 1em; text-align: center; vertical-align: top\">Leachco Snoogle Total<br>Body Pillow ...</td>\n",
              "        <td style=\"padding-left: 1em; padding-right: 1em; text-align: center; vertical-align: top\">388</td>\n",
              "    </tr>\n",
              "    <tr>\n",
              "        <td style=\"padding-left: 1em; padding-right: 1em; text-align: center; vertical-align: top\">Regalo Easy Step Walk<br>Thru Gate, White ...</td>\n",
              "        <td style=\"padding-left: 1em; padding-right: 1em; text-align: center; vertical-align: top\">374</td>\n",
              "    </tr>\n",
              "</table>\n",
              "[32419 rows x 2 columns]<br/>Note: Only the head of the SFrame is printed.<br/>You can use print_rows(num_rows=m, num_columns=n) to print more rows and columns.\n",
              "</div>"
            ],
            "text/plain": [
              "Columns:\n",
              "\tname\tstr\n",
              "\tcount\tint\n",
              "\n",
              "Rows: 32419\n",
              "\n",
              "Data:\n",
              "+--------------------------------+-------+\n",
              "|              name              | count |\n",
              "+--------------------------------+-------+\n",
              "| Vulli Sophie the Giraffe T...  |  785  |\n",
              "| Simple Wishes Hands-Free B...  |  562  |\n",
              "| Infant Optics DXR-5 2.4 GH...  |  561  |\n",
              "| Baby Einstein Take Along Tunes |  547  |\n",
              "| Cloud b Twilight Constella...  |  520  |\n",
              "| Fisher-Price Booster Seat,...  |  489  |\n",
              "| Fisher-Price Rainforest Ju...  |  450  |\n",
              "| Graco Nautilus 3-in-1 Car ...  |  419  |\n",
              "| Leachco Snoogle Total Body...  |  388  |\n",
              "| Regalo Easy Step Walk Thru...  |  374  |\n",
              "+--------------------------------+-------+\n",
              "[32419 rows x 2 columns]\n",
              "Note: Only the head of the SFrame is printed.\n",
              "You can use print_rows(num_rows=m, num_columns=n) to print more rows and columns."
            ]
          },
          "metadata": {
            "tags": []
          },
          "execution_count": 67
        }
      ]
    },
    {
      "cell_type": "markdown",
      "metadata": {
        "id": "VjQctm4NxCqE"
      },
      "source": [
        "Examine the reivews for the most-reviewed product"
      ]
    },
    {
      "cell_type": "code",
      "metadata": {
        "id": "lXzfqlI9w7ts"
      },
      "source": [
        "giraffe_reviews = products[products['name']=='Vulli Sophie the Giraffe Teether']"
      ],
      "execution_count": 68,
      "outputs": []
    },
    {
      "cell_type": "code",
      "metadata": {
        "colab": {
          "base_uri": "https://localhost:8080/",
          "height": 449
        },
        "id": "GulQHXFWw91K",
        "outputId": "e69e9e8f-1f09-43b9-beec-8a044d27573e"
      },
      "source": [
        "giraffe_reviews"
      ],
      "execution_count": 69,
      "outputs": [
        {
          "output_type": "execute_result",
          "data": {
            "text/html": [
              "<div style=\"max-height:1000px;max-width:1500px;overflow:auto;\"><table frame=\"box\" rules=\"cols\">\n",
              "    <tr>\n",
              "        <th style=\"padding-left: 1em; padding-right: 1em; text-align: center\">name</th>\n",
              "        <th style=\"padding-left: 1em; padding-right: 1em; text-align: center\">review</th>\n",
              "        <th style=\"padding-left: 1em; padding-right: 1em; text-align: center\">rating</th>\n",
              "        <th style=\"padding-left: 1em; padding-right: 1em; text-align: center\">word_count</th>\n",
              "    </tr>\n",
              "    <tr>\n",
              "        <td style=\"padding-left: 1em; padding-right: 1em; text-align: center; vertical-align: top\">Vulli Sophie the Giraffe<br>Teether ...</td>\n",
              "        <td style=\"padding-left: 1em; padding-right: 1em; text-align: center; vertical-align: top\">He likes chewing on all<br>the parts especially the ...</td>\n",
              "        <td style=\"padding-left: 1em; padding-right: 1em; text-align: center; vertical-align: top\">5.0</td>\n",
              "        <td style=\"padding-left: 1em; padding-right: 1em; text-align: center; vertical-align: top\">{&#x27;purchase&#x27;: 1.0,<br>&#x27;teething&#x27;: 1.0, ...</td>\n",
              "    </tr>\n",
              "    <tr>\n",
              "        <td style=\"padding-left: 1em; padding-right: 1em; text-align: center; vertical-align: top\">Vulli Sophie the Giraffe<br>Teether ...</td>\n",
              "        <td style=\"padding-left: 1em; padding-right: 1em; text-align: center; vertical-align: top\">My son loves this toy and<br>fits great in the diaper ...</td>\n",
              "        <td style=\"padding-left: 1em; padding-right: 1em; text-align: center; vertical-align: top\">5.0</td>\n",
              "        <td style=\"padding-left: 1em; padding-right: 1em; text-align: center; vertical-align: top\">{&#x27;a&#x27;: 1.0, &#x27;is&#x27;: 1.0,<br>&#x27;when&#x27;: 1.0, &#x27;him&#x27;: 1.0, ...</td>\n",
              "    </tr>\n",
              "    <tr>\n",
              "        <td style=\"padding-left: 1em; padding-right: 1em; text-align: center; vertical-align: top\">Vulli Sophie the Giraffe<br>Teether ...</td>\n",
              "        <td style=\"padding-left: 1em; padding-right: 1em; text-align: center; vertical-align: top\">There really should be a<br>large warning on the  ...</td>\n",
              "        <td style=\"padding-left: 1em; padding-right: 1em; text-align: center; vertical-align: top\">1.0</td>\n",
              "        <td style=\"padding-left: 1em; padding-right: 1em; text-align: center; vertical-align: top\">{&#x27;made&#x27;: 1.0, &#x27;of&#x27;: 1.0,<br>&#x27;packaging&#x27;: 1.0, &#x27;no&#x27;: ...</td>\n",
              "    </tr>\n",
              "    <tr>\n",
              "        <td style=\"padding-left: 1em; padding-right: 1em; text-align: center; vertical-align: top\">Vulli Sophie the Giraffe<br>Teether ...</td>\n",
              "        <td style=\"padding-left: 1em; padding-right: 1em; text-align: center; vertical-align: top\">All the moms in my moms&#x27;<br>group got Sophie for ...</td>\n",
              "        <td style=\"padding-left: 1em; padding-right: 1em; text-align: center; vertical-align: top\">5.0</td>\n",
              "        <td style=\"padding-left: 1em; padding-right: 1em; text-align: center; vertical-align: top\">{&#x27;another&#x27;: 1.0, &#x27;out&#x27;:<br>1.0, &#x27;run&#x27;: 1.0, &#x27;lost&#x27;: ...</td>\n",
              "    </tr>\n",
              "    <tr>\n",
              "        <td style=\"padding-left: 1em; padding-right: 1em; text-align: center; vertical-align: top\">Vulli Sophie the Giraffe<br>Teether ...</td>\n",
              "        <td style=\"padding-left: 1em; padding-right: 1em; text-align: center; vertical-align: top\">I was a little skeptical<br>on whether Sophie was ...</td>\n",
              "        <td style=\"padding-left: 1em; padding-right: 1em; text-align: center; vertical-align: top\">5.0</td>\n",
              "        <td style=\"padding-left: 1em; padding-right: 1em; text-align: center; vertical-align: top\">{&#x27;disappointed&#x27;: 1.0,<br>&#x27;will&#x27;: 1.0, &#x27;take&#x27;:  ...</td>\n",
              "    </tr>\n",
              "    <tr>\n",
              "        <td style=\"padding-left: 1em; padding-right: 1em; text-align: center; vertical-align: top\">Vulli Sophie the Giraffe<br>Teether ...</td>\n",
              "        <td style=\"padding-left: 1em; padding-right: 1em; text-align: center; vertical-align: top\">I have been reading about<br>Sophie and was going  ...</td>\n",
              "        <td style=\"padding-left: 1em; padding-right: 1em; text-align: center; vertical-align: top\">5.0</td>\n",
              "        <td style=\"padding-left: 1em; padding-right: 1em; text-align: center; vertical-align: top\">{&#x27;late&#x27;: 1.0, &#x27;perfect&#x27;:<br>1.0, &#x27;pack&#x27;: 1.0, &#x27;on ...</td>\n",
              "    </tr>\n",
              "    <tr>\n",
              "        <td style=\"padding-left: 1em; padding-right: 1em; text-align: center; vertical-align: top\">Vulli Sophie the Giraffe<br>Teether ...</td>\n",
              "        <td style=\"padding-left: 1em; padding-right: 1em; text-align: center; vertical-align: top\">My neice loves her sophie<br>and has spent hours ...</td>\n",
              "        <td style=\"padding-left: 1em; padding-right: 1em; text-align: center; vertical-align: top\">5.0</td>\n",
              "        <td style=\"padding-left: 1em; padding-right: 1em; text-align: center; vertical-align: top\">{&#x27;delight&#x27;: 1.0, &#x27;in&#x27;:<br>1.0, &#x27;other&#x27;: 1.0, ...</td>\n",
              "    </tr>\n",
              "    <tr>\n",
              "        <td style=\"padding-left: 1em; padding-right: 1em; text-align: center; vertical-align: top\">Vulli Sophie the Giraffe<br>Teether ...</td>\n",
              "        <td style=\"padding-left: 1em; padding-right: 1em; text-align: center; vertical-align: top\">What a friendly face!<br>And those mesmerizing ...</td>\n",
              "        <td style=\"padding-left: 1em; padding-right: 1em; text-align: center; vertical-align: top\">5.0</td>\n",
              "        <td style=\"padding-left: 1em; padding-right: 1em; text-align: center; vertical-align: top\">{&#x27;inside&#x27;: 1.0, &#x27;water&#x27;:<br>1.0, &#x27;don&#x27;: 1.0, &#x27;up&#x27;: ...</td>\n",
              "    </tr>\n",
              "    <tr>\n",
              "        <td style=\"padding-left: 1em; padding-right: 1em; text-align: center; vertical-align: top\">Vulli Sophie the Giraffe<br>Teether ...</td>\n",
              "        <td style=\"padding-left: 1em; padding-right: 1em; text-align: center; vertical-align: top\">We got this just for my<br>son to chew on instea ...</td>\n",
              "        <td style=\"padding-left: 1em; padding-right: 1em; text-align: center; vertical-align: top\">5.0</td>\n",
              "        <td style=\"padding-left: 1em; padding-right: 1em; text-align: center; vertical-align: top\">{&#x27;its&#x27;: 1.0, &#x27;fine&#x27;: 1.0,<br>&#x27;is&#x27;: 1.0, &#x27;which&#x27;: 1.0, ...</td>\n",
              "    </tr>\n",
              "    <tr>\n",
              "        <td style=\"padding-left: 1em; padding-right: 1em; text-align: center; vertical-align: top\">Vulli Sophie the Giraffe<br>Teether ...</td>\n",
              "        <td style=\"padding-left: 1em; padding-right: 1em; text-align: center; vertical-align: top\">My baby seems to like<br>this toy, but I could ...</td>\n",
              "        <td style=\"padding-left: 1em; padding-right: 1em; text-align: center; vertical-align: top\">3.0</td>\n",
              "        <td style=\"padding-left: 1em; padding-right: 1em; text-align: center; vertical-align: top\">{&#x27;off&#x27;: 1.0, &#x27;have&#x27;: 2.0,<br>&#x27;of&#x27;: 1.0, &#x27;some&#x27;: 1.0, ...</td>\n",
              "    </tr>\n",
              "</table>\n",
              "[? rows x 4 columns]<br/>Note: Only the head of the SFrame is printed. This SFrame is lazily evaluated.<br/>You can use sf.materialize() to force materialization.\n",
              "</div>"
            ],
            "text/plain": [
              "Columns:\n",
              "\tname\tstr\n",
              "\treview\tstr\n",
              "\trating\tfloat\n",
              "\tword_count\tdict\n",
              "\n",
              "Rows: Unknown\n",
              "\n",
              "Data:\n",
              "+-------------------------------+-------------------------------+--------+\n",
              "|              name             |             review            | rating |\n",
              "+-------------------------------+-------------------------------+--------+\n",
              "| Vulli Sophie the Giraffe T... | He likes chewing on all th... |  5.0   |\n",
              "| Vulli Sophie the Giraffe T... | My son loves this toy and ... |  5.0   |\n",
              "| Vulli Sophie the Giraffe T... | There really should be a l... |  1.0   |\n",
              "| Vulli Sophie the Giraffe T... | All the moms in my moms' g... |  5.0   |\n",
              "| Vulli Sophie the Giraffe T... | I was a little skeptical o... |  5.0   |\n",
              "| Vulli Sophie the Giraffe T... | I have been reading about ... |  5.0   |\n",
              "| Vulli Sophie the Giraffe T... | My neice loves her sophie ... |  5.0   |\n",
              "| Vulli Sophie the Giraffe T... | What a friendly face!  And... |  5.0   |\n",
              "| Vulli Sophie the Giraffe T... | We got this just for my so... |  5.0   |\n",
              "| Vulli Sophie the Giraffe T... | My baby seems to like this... |  3.0   |\n",
              "+-------------------------------+-------------------------------+--------+\n",
              "+-------------------------------+\n",
              "|           word_count          |\n",
              "+-------------------------------+\n",
              "| {'purchase': 1.0, 'teethin... |\n",
              "| {'a': 1.0, 'is': 1.0, 'whe... |\n",
              "| {'made': 1.0, 'of': 1.0, '... |\n",
              "| {'another': 1.0, 'out': 1.... |\n",
              "| {'disappointed': 1.0, 'wil... |\n",
              "| {'late': 1.0, 'perfect': 1... |\n",
              "| {'delight': 1.0, 'in': 1.0... |\n",
              "| {'inside': 1.0, 'water': 1... |\n",
              "| {'its': 1.0, 'fine': 1.0, ... |\n",
              "| {'off': 1.0, 'have': 2.0, ... |\n",
              "+-------------------------------+\n",
              "[? rows x 4 columns]\n",
              "Note: Only the head of the SFrame is printed. This SFrame is lazily evaluated.\n",
              "You can use sf.materialize() to force materialization."
            ]
          },
          "metadata": {
            "tags": []
          },
          "execution_count": 69
        }
      ]
    },
    {
      "cell_type": "code",
      "metadata": {
        "colab": {
          "base_uri": "https://localhost:8080/"
        },
        "id": "UcyOzq87xUV7",
        "outputId": "d72e7b0b-2c20-4959-b012-6613203abc51"
      },
      "source": [
        "len(giraffe_reviews)"
      ],
      "execution_count": 70,
      "outputs": [
        {
          "output_type": "execute_result",
          "data": {
            "text/plain": [
              "785"
            ]
          },
          "metadata": {
            "tags": []
          },
          "execution_count": 70
        }
      ]
    },
    {
      "cell_type": "code",
      "metadata": {
        "colab": {
          "base_uri": "https://localhost:8080/",
          "height": 808
        },
        "id": "hFPJNu8rxZKy",
        "outputId": "d572371d-9707-45c8-b671-ac322209b12b"
      },
      "source": [
        "giraffe_reviews['rating'].show()"
      ],
      "execution_count": 71,
      "outputs": [
        {
          "output_type": "display_data",
          "data": {
            "text/html": [
              "<pre>Materializing SArray</pre>"
            ],
            "text/plain": [
              "Materializing SArray"
            ]
          },
          "metadata": {
            "tags": []
          }
        },
        {
          "output_type": "display_data",
          "data": {
            "text/html": [
              "<html>                 <body>                     <iframe style=\"border:0;margin:0\" width=\"920\" height=\"770\" srcdoc='<html lang=\"en\">                         <head>                             <script src=\"https://cdnjs.cloudflare.com/ajax/libs/vega/5.4.0/vega.js\"></script>                             <script src=\"https://cdnjs.cloudflare.com/ajax/libs/vega-embed/4.0.0/vega-embed.js\"></script>                             <script src=\"https://cdnjs.cloudflare.com/ajax/libs/vega-tooltip/0.5.1/vega-tooltip.min.js\"></script>                             <link rel=\"stylesheet\" type=\"text/css\" href=\"https://cdnjs.cloudflare.com/ajax/libs/vega-tooltip/0.5.1/vega-tooltip.min.css\">                             <style>                             .vega-actions > a{                                 color:white;                                 text-decoration: none;                                 font-family: \"Arial\";                                 cursor:pointer;                                 padding:5px;                                 background:#AAAAAA;                                 border-radius:4px;                                 padding-left:10px;                                 padding-right:10px;                                 margin-right:5px;                             }                             .vega-actions{                                 margin-top:20px;                                 text-align:center                             }                            .vega-actions > a{                                 background:#999999;                            }                             </style>                         </head>                         <body>                             <div id=\"vis\">                             </div>                             <script>                                 var vega_json = \"{\\\"$schema\\\": \\\"https://vega.github.io/schema/vega/v4.json\\\", \\\"description\\\": \\\"A simple bar chart with embedded data.\\\", \\\"autosize\\\": {\\\"type\\\": \\\"fit\\\", \\\"resize\\\": false, \\\"contains\\\": \\\"padding\\\"}, \\\"width\\\": 720, \\\"height\\\": 550, \\\"padding\\\": 8, \\\"title\\\": \\\"Distribution of Values [float]\\\", \\\"style\\\": \\\"cell\\\", \\\"signals\\\": [{\\\"name\\\": \\\"bins\\\", \\\"update\\\": \\\"data(\\\\\\\"bins_data\\\\\\\")[0]\\\"}, {\\\"name\\\": \\\"binCount\\\", \\\"update\\\": \\\"(bins.stop - bins.start) / bins.step\\\"}, {\\\"name\\\": \\\"nullGap\\\", \\\"update\\\": \\\"data(\\\\\\\"nulls\\\\\\\").length ? 10 : 0\\\"}, {\\\"name\\\": \\\"barStep\\\", \\\"update\\\": \\\"(width - nullGap) / (1 + binCount)\\\"}], \\\"data\\\": [{\\\"name\\\": \\\"source_2\\\", \\\"values\\\": [{\\\"left\\\": 0.9546, \\\"right\\\": 1.1594, \\\"count\\\": 56}, {\\\"left\\\": 1.1594, \\\"right\\\": 1.3642, \\\"count\\\": 0}, {\\\"left\\\": 1.3642, \\\"right\\\": 1.569, \\\"count\\\": 0}, {\\\"left\\\": 1.569, \\\"right\\\": 1.7738, \\\"count\\\": 0}, {\\\"left\\\": 1.7738, \\\"right\\\": 1.9786, \\\"count\\\": 0}, {\\\"left\\\": 1.9786, \\\"right\\\": 2.1834, \\\"count\\\": 37}, {\\\"left\\\": 2.1834, \\\"right\\\": 2.3882, \\\"count\\\": 0}, {\\\"left\\\": 2.3882, \\\"right\\\": 2.593, \\\"count\\\": 0}, {\\\"left\\\": 2.593, \\\"right\\\": 2.7978, \\\"count\\\": 0}, {\\\"left\\\": 2.7978, \\\"right\\\": 3.0026, \\\"count\\\": 62}, {\\\"left\\\": 3.0026, \\\"right\\\": 3.2074, \\\"count\\\": 0}, {\\\"left\\\": 3.2074, \\\"right\\\": 3.4122, \\\"count\\\": 0}, {\\\"left\\\": 3.4122, \\\"right\\\": 3.617, \\\"count\\\": 0}, {\\\"left\\\": 3.617, \\\"right\\\": 3.8218, \\\"count\\\": 0}, {\\\"left\\\": 3.8218, \\\"right\\\": 4.0266, \\\"count\\\": 95}, {\\\"left\\\": 4.0266, \\\"right\\\": 4.2314, \\\"count\\\": 0}, {\\\"left\\\": 4.2314, \\\"right\\\": 4.4362, \\\"count\\\": 0}, {\\\"left\\\": 4.4362, \\\"right\\\": 4.641, \\\"count\\\": 0}, {\\\"left\\\": 4.641, \\\"right\\\": 4.8458, \\\"count\\\": 0}, {\\\"left\\\": 4.8458, \\\"right\\\": 5.0506, \\\"count\\\": 535}, {\\\"start\\\": 0.9546, \\\"stop\\\": 5.0506, \\\"step\\\": 0.2048}]}, {\\\"name\\\": \\\"counts\\\", \\\"source\\\": \\\"source_2\\\", \\\"transform\\\": [{\\\"type\\\": \\\"filter\\\", \\\"expr\\\": \\\"datum[\\\\\\\"missing\\\\\\\"] !== true &amp;&amp; datum[\\\\\\\"count\\\\\\\"] != null\\\"}]}, {\\\"name\\\": \\\"nulls\\\", \\\"source\\\": \\\"source_2\\\", \\\"transform\\\": [{\\\"expr\\\": \\\"datum[\\\\\\\"missing\\\\\\\"] === true &amp;&amp; datum[\\\\\\\"count\\\\\\\"] != null\\\", \\\"type\\\": \\\"filter\\\"}]}, {\\\"name\\\": \\\"bins_data\\\", \\\"source\\\": \\\"source_2\\\", \\\"transform\\\": [{\\\"expr\\\": \\\"datum[\\\\\\\"start\\\\\\\"] != null &amp;&amp; datum[\\\\\\\"stop\\\\\\\"] != null &amp;&amp; datum[\\\\\\\"step\\\\\\\"] != null\\\", \\\"type\\\": \\\"filter\\\"}]}], \\\"marks\\\": [{\\\"type\\\": \\\"rect\\\", \\\"from\\\": {\\\"data\\\": \\\"counts\\\"}, \\\"encode\\\": {\\\"update\\\": {\\\"x\\\": {\\\"scale\\\": \\\"xscale\\\", \\\"field\\\": \\\"left\\\", \\\"offset\\\": 1}, \\\"x2\\\": {\\\"scale\\\": \\\"xscale\\\", \\\"field\\\": \\\"right\\\"}, \\\"y\\\": {\\\"scale\\\": \\\"yscale\\\", \\\"field\\\": \\\"count\\\"}, \\\"y2\\\": {\\\"scale\\\": \\\"yscale\\\", \\\"value\\\": 0}, \\\"fill\\\": {\\\"value\\\": \\\"#108EE9\\\"}}, \\\"hover\\\": {\\\"fill\\\": {\\\"value\\\": \\\"#7EC2F3\\\"}}}}, {\\\"type\\\": \\\"rect\\\", \\\"from\\\": {\\\"data\\\": \\\"nulls\\\"}, \\\"encode\\\": {\\\"update\\\": {\\\"x\\\": {\\\"scale\\\": \\\"xscale-null\\\", \\\"value\\\": null, \\\"offset\\\": 1}, \\\"x2\\\": {\\\"scale\\\": \\\"xscale-null\\\", \\\"band\\\": 1}, \\\"y\\\": {\\\"scale\\\": \\\"yscale\\\", \\\"field\\\": \\\"count\\\"}, \\\"y2\\\": {\\\"scale\\\": \\\"yscale\\\", \\\"value\\\": 0}, \\\"fill\\\": {\\\"value\\\": \\\"#108EE9\\\"}}, \\\"hover\\\": {\\\"fill\\\": {\\\"value\\\": \\\"#7EC2F3\\\"}}}}], \\\"scales\\\": [{\\\"name\\\": \\\"yscale\\\", \\\"type\\\": \\\"linear\\\", \\\"range\\\": \\\"height\\\", \\\"round\\\": true, \\\"nice\\\": true, \\\"domain\\\": {\\\"fields\\\": [{\\\"data\\\": \\\"counts\\\", \\\"field\\\": \\\"count\\\"}, {\\\"data\\\": \\\"nulls\\\", \\\"field\\\": \\\"count\\\"}]}}, {\\\"name\\\": \\\"xscale\\\", \\\"type\\\": \\\"linear\\\", \\\"range\\\": [{\\\"signal\\\": \\\"nullGap ? barStep + nullGap : 0\\\"}, {\\\"signal\\\": \\\"width\\\"}], \\\"round\\\": true, \\\"domain\\\": {\\\"signal\\\": \\\"[bins.start, bins.stop]\\\"}, \\\"bins\\\": {\\\"signal\\\": \\\"bins\\\"}}, {\\\"name\\\": \\\"xscale-null\\\", \\\"type\\\": \\\"band\\\", \\\"range\\\": [{\\\"signal\\\": \\\"nullGap ? 0 : 1\\\"}, {\\\"signal\\\": \\\"nullGap ? barStep : 0\\\"}], \\\"round\\\": true, \\\"domain\\\": [{\\\"signal\\\": \\\"nullGap ? null : &apos;&apos;\\\"}]}], \\\"axes\\\": [{\\\"title\\\": \\\"Values\\\", \\\"orient\\\": \\\"bottom\\\", \\\"scale\\\": \\\"xscale\\\", \\\"tickMinStep\\\": 1, \\\"grid\\\": true}, {\\\"orient\\\": \\\"bottom\\\", \\\"scale\\\": \\\"xscale-null\\\"}, {\\\"title\\\": \\\"Count\\\", \\\"orient\\\": \\\"left\\\", \\\"scale\\\": \\\"yscale\\\", \\\"tickCount\\\": 5, \\\"offset\\\": {\\\"signal\\\": \\\"nullGap ? 5 : 0\\\"}, \\\"grid\\\": true}], \\\"config\\\": {\\\"axis\\\": {\\\"gridColor\\\": \\\"rgba(204,204,204,1.0)\\\", \\\"labelFont\\\": \\\"\\\\\\\"San Francisco\\\\\\\", HelveticaNeue, Arial\\\", \\\"labelFontSize\\\": 12, \\\"labelPadding\\\": 10, \\\"labelColor\\\": \\\"rgba(0,0,0,0.847)\\\", \\\"tickColor\\\": \\\"rgb(136,136,136)\\\", \\\"titleFont\\\": \\\"\\\\\\\"San Francisco\\\\\\\", HelveticaNeue, Arial\\\", \\\"titleFontWeight\\\": \\\"normal\\\", \\\"titlePadding\\\": 20, \\\"titleFontSize\\\": 14, \\\"titleColor\\\": \\\"rgba(0,0,0,0.847)\\\"}, \\\"axisY\\\": {\\\"minExtent\\\": 30}, \\\"legend\\\": {\\\"labelFont\\\": \\\"\\\\\\\"San Francisco\\\\\\\", HelveticaNeue, Arial\\\", \\\"labelColor\\\": \\\"rgba(0,0,0,0.847)\\\", \\\"titleFont\\\": \\\"\\\\\\\"San Francisco\\\\\\\", HelveticaNeue, Arial\\\", \\\"cornerRadius\\\": 30, \\\"gradientLength\\\": 608, \\\"titleColor\\\": \\\"rgba(0,0,0,0.847)\\\"}, \\\"range\\\": {\\\"heatmap\\\": {\\\"scheme\\\": \\\"greenblue\\\"}}, \\\"style\\\": {\\\"rect\\\": {\\\"stroke\\\": \\\"rgba(200, 200, 200, 0.5)\\\"}, \\\"cell\\\": {\\\"stroke\\\": \\\"transparent\\\"}, \\\"group-title\\\": {\\\"fontSize\\\": 29, \\\"font\\\": \\\"HelveticaNeue, Arial\\\", \\\"fontWeight\\\": \\\"normal\\\", \\\"fill\\\": \\\"rgba(0,0,0,0.65)\\\"}}, \\\"title\\\": {\\\"color\\\": \\\"rgba(0,0,0,0.847)\\\", \\\"font\\\": \\\"\\\\\\\"San Francisco\\\\\\\", HelveticaNeue, Arial\\\", \\\"fontSize\\\": 18, \\\"fontWeight\\\": \\\"normal\\\", \\\"offset\\\": 30}}}\";                                 var vega_json_parsed = JSON.parse(vega_json);                                 var toolTipOpts = {                                     showAllFields: true                                 };                                 if(vega_json_parsed[\"metadata\"] != null){                                     if(vega_json_parsed[\"metadata\"][\"bubbleOpts\"] != null){                                         toolTipOpts = vega_json_parsed[\"metadata\"][\"bubbleOpts\"];                                     };                                 };                                 vegaEmbed(\"#vis\", vega_json_parsed).then(function (result) {                                     vegaTooltip.vega(result.view, toolTipOpts);                                  });                             </script>                         </body>                     </html>' src=\"demo_iframe_srcdoc.htm\">                         <p>Your browser does not support iframes.</p>                     </iframe>                 </body>             </html>"
            ],
            "text/plain": [
              "<IPython.core.display.HTML object>"
            ]
          },
          "metadata": {
            "tags": []
          }
        }
      ]
    },
    {
      "cell_type": "markdown",
      "metadata": {
        "id": "-yiBNycjxzC2"
      },
      "source": [
        "Build a sentiment classifier"
      ]
    },
    {
      "cell_type": "code",
      "metadata": {
        "colab": {
          "base_uri": "https://localhost:8080/",
          "height": 808
        },
        "id": "s6YKZZk0xeYd",
        "outputId": "aa85331d-e70a-4908-9ad7-4d9605981aaa"
      },
      "source": [
        "# Explore All reviews\n",
        "products['rating'].show()"
      ],
      "execution_count": 72,
      "outputs": [
        {
          "output_type": "display_data",
          "data": {
            "text/html": [
              "<pre>Materializing SArray</pre>"
            ],
            "text/plain": [
              "Materializing SArray"
            ]
          },
          "metadata": {
            "tags": []
          }
        },
        {
          "output_type": "display_data",
          "data": {
            "text/html": [
              "<html>                 <body>                     <iframe style=\"border:0;margin:0\" width=\"920\" height=\"770\" srcdoc='<html lang=\"en\">                         <head>                             <script src=\"https://cdnjs.cloudflare.com/ajax/libs/vega/5.4.0/vega.js\"></script>                             <script src=\"https://cdnjs.cloudflare.com/ajax/libs/vega-embed/4.0.0/vega-embed.js\"></script>                             <script src=\"https://cdnjs.cloudflare.com/ajax/libs/vega-tooltip/0.5.1/vega-tooltip.min.js\"></script>                             <link rel=\"stylesheet\" type=\"text/css\" href=\"https://cdnjs.cloudflare.com/ajax/libs/vega-tooltip/0.5.1/vega-tooltip.min.css\">                             <style>                             .vega-actions > a{                                 color:white;                                 text-decoration: none;                                 font-family: \"Arial\";                                 cursor:pointer;                                 padding:5px;                                 background:#AAAAAA;                                 border-radius:4px;                                 padding-left:10px;                                 padding-right:10px;                                 margin-right:5px;                             }                             .vega-actions{                                 margin-top:20px;                                 text-align:center                             }                            .vega-actions > a{                                 background:#999999;                            }                             </style>                         </head>                         <body>                             <div id=\"vis\">                             </div>                             <script>                                 var vega_json = \"{\\\"$schema\\\": \\\"https://vega.github.io/schema/vega/v4.json\\\", \\\"description\\\": \\\"A simple bar chart with embedded data.\\\", \\\"autosize\\\": {\\\"type\\\": \\\"fit\\\", \\\"resize\\\": false, \\\"contains\\\": \\\"padding\\\"}, \\\"width\\\": 720, \\\"height\\\": 550, \\\"padding\\\": 8, \\\"title\\\": \\\"Distribution of Values [float]\\\", \\\"style\\\": \\\"cell\\\", \\\"signals\\\": [{\\\"name\\\": \\\"bins\\\", \\\"update\\\": \\\"data(\\\\\\\"bins_data\\\\\\\")[0]\\\"}, {\\\"name\\\": \\\"binCount\\\", \\\"update\\\": \\\"(bins.stop - bins.start) / bins.step\\\"}, {\\\"name\\\": \\\"nullGap\\\", \\\"update\\\": \\\"data(\\\\\\\"nulls\\\\\\\").length ? 10 : 0\\\"}, {\\\"name\\\": \\\"barStep\\\", \\\"update\\\": \\\"(width - nullGap) / (1 + binCount)\\\"}], \\\"data\\\": [{\\\"name\\\": \\\"source_2\\\", \\\"values\\\": [{\\\"left\\\": 0.928, \\\"right\\\": 1.136, \\\"count\\\": 15183}, {\\\"left\\\": 1.136, \\\"right\\\": 1.344, \\\"count\\\": 0}, {\\\"left\\\": 1.344, \\\"right\\\": 1.552, \\\"count\\\": 0}, {\\\"left\\\": 1.552, \\\"right\\\": 1.76, \\\"count\\\": 0}, {\\\"left\\\": 1.76, \\\"right\\\": 1.968, \\\"count\\\": 0}, {\\\"left\\\": 1.968, \\\"right\\\": 2.176, \\\"count\\\": 11310}, {\\\"left\\\": 2.176, \\\"right\\\": 2.384, \\\"count\\\": 0}, {\\\"left\\\": 2.384, \\\"right\\\": 2.592, \\\"count\\\": 0}, {\\\"left\\\": 2.592, \\\"right\\\": 2.8, \\\"count\\\": 0}, {\\\"left\\\": 2.8, \\\"right\\\": 3.008, \\\"count\\\": 16779}, {\\\"left\\\": 3.008, \\\"right\\\": 3.216, \\\"count\\\": 0}, {\\\"left\\\": 3.216, \\\"right\\\": 3.424, \\\"count\\\": 0}, {\\\"left\\\": 3.424, \\\"right\\\": 3.632, \\\"count\\\": 0}, {\\\"left\\\": 3.632, \\\"right\\\": 3.84, \\\"count\\\": 0}, {\\\"left\\\": 3.84, \\\"right\\\": 4.048, \\\"count\\\": 33205}, {\\\"left\\\": 4.048, \\\"right\\\": 4.256, \\\"count\\\": 0}, {\\\"left\\\": 4.256, \\\"right\\\": 4.464, \\\"count\\\": 0}, {\\\"left\\\": 4.464, \\\"right\\\": 4.672, \\\"count\\\": 0}, {\\\"left\\\": 4.672, \\\"right\\\": 4.88, \\\"count\\\": 0}, {\\\"left\\\": 4.88, \\\"right\\\": 5.088, \\\"count\\\": 107054}, {\\\"start\\\": 0.928, \\\"stop\\\": 5.088, \\\"step\\\": 0.208}]}, {\\\"name\\\": \\\"counts\\\", \\\"source\\\": \\\"source_2\\\", \\\"transform\\\": [{\\\"type\\\": \\\"filter\\\", \\\"expr\\\": \\\"datum[\\\\\\\"missing\\\\\\\"] !== true &amp;&amp; datum[\\\\\\\"count\\\\\\\"] != null\\\"}]}, {\\\"name\\\": \\\"nulls\\\", \\\"source\\\": \\\"source_2\\\", \\\"transform\\\": [{\\\"expr\\\": \\\"datum[\\\\\\\"missing\\\\\\\"] === true &amp;&amp; datum[\\\\\\\"count\\\\\\\"] != null\\\", \\\"type\\\": \\\"filter\\\"}]}, {\\\"name\\\": \\\"bins_data\\\", \\\"source\\\": \\\"source_2\\\", \\\"transform\\\": [{\\\"expr\\\": \\\"datum[\\\\\\\"start\\\\\\\"] != null &amp;&amp; datum[\\\\\\\"stop\\\\\\\"] != null &amp;&amp; datum[\\\\\\\"step\\\\\\\"] != null\\\", \\\"type\\\": \\\"filter\\\"}]}], \\\"marks\\\": [{\\\"type\\\": \\\"rect\\\", \\\"from\\\": {\\\"data\\\": \\\"counts\\\"}, \\\"encode\\\": {\\\"update\\\": {\\\"x\\\": {\\\"scale\\\": \\\"xscale\\\", \\\"field\\\": \\\"left\\\", \\\"offset\\\": 1}, \\\"x2\\\": {\\\"scale\\\": \\\"xscale\\\", \\\"field\\\": \\\"right\\\"}, \\\"y\\\": {\\\"scale\\\": \\\"yscale\\\", \\\"field\\\": \\\"count\\\"}, \\\"y2\\\": {\\\"scale\\\": \\\"yscale\\\", \\\"value\\\": 0}, \\\"fill\\\": {\\\"value\\\": \\\"#108EE9\\\"}}, \\\"hover\\\": {\\\"fill\\\": {\\\"value\\\": \\\"#7EC2F3\\\"}}}}, {\\\"type\\\": \\\"rect\\\", \\\"from\\\": {\\\"data\\\": \\\"nulls\\\"}, \\\"encode\\\": {\\\"update\\\": {\\\"x\\\": {\\\"scale\\\": \\\"xscale-null\\\", \\\"value\\\": null, \\\"offset\\\": 1}, \\\"x2\\\": {\\\"scale\\\": \\\"xscale-null\\\", \\\"band\\\": 1}, \\\"y\\\": {\\\"scale\\\": \\\"yscale\\\", \\\"field\\\": \\\"count\\\"}, \\\"y2\\\": {\\\"scale\\\": \\\"yscale\\\", \\\"value\\\": 0}, \\\"fill\\\": {\\\"value\\\": \\\"#108EE9\\\"}}, \\\"hover\\\": {\\\"fill\\\": {\\\"value\\\": \\\"#7EC2F3\\\"}}}}], \\\"scales\\\": [{\\\"name\\\": \\\"yscale\\\", \\\"type\\\": \\\"linear\\\", \\\"range\\\": \\\"height\\\", \\\"round\\\": true, \\\"nice\\\": true, \\\"domain\\\": {\\\"fields\\\": [{\\\"data\\\": \\\"counts\\\", \\\"field\\\": \\\"count\\\"}, {\\\"data\\\": \\\"nulls\\\", \\\"field\\\": \\\"count\\\"}]}}, {\\\"name\\\": \\\"xscale\\\", \\\"type\\\": \\\"linear\\\", \\\"range\\\": [{\\\"signal\\\": \\\"nullGap ? barStep + nullGap : 0\\\"}, {\\\"signal\\\": \\\"width\\\"}], \\\"round\\\": true, \\\"domain\\\": {\\\"signal\\\": \\\"[bins.start, bins.stop]\\\"}, \\\"bins\\\": {\\\"signal\\\": \\\"bins\\\"}}, {\\\"name\\\": \\\"xscale-null\\\", \\\"type\\\": \\\"band\\\", \\\"range\\\": [{\\\"signal\\\": \\\"nullGap ? 0 : 1\\\"}, {\\\"signal\\\": \\\"nullGap ? barStep : 0\\\"}], \\\"round\\\": true, \\\"domain\\\": [{\\\"signal\\\": \\\"nullGap ? null : &apos;&apos;\\\"}]}], \\\"axes\\\": [{\\\"title\\\": \\\"Values\\\", \\\"orient\\\": \\\"bottom\\\", \\\"scale\\\": \\\"xscale\\\", \\\"tickMinStep\\\": 1, \\\"grid\\\": true}, {\\\"orient\\\": \\\"bottom\\\", \\\"scale\\\": \\\"xscale-null\\\"}, {\\\"title\\\": \\\"Count\\\", \\\"orient\\\": \\\"left\\\", \\\"scale\\\": \\\"yscale\\\", \\\"tickCount\\\": 5, \\\"offset\\\": {\\\"signal\\\": \\\"nullGap ? 5 : 0\\\"}, \\\"grid\\\": true}], \\\"config\\\": {\\\"axis\\\": {\\\"gridColor\\\": \\\"rgba(204,204,204,1.0)\\\", \\\"labelFont\\\": \\\"\\\\\\\"San Francisco\\\\\\\", HelveticaNeue, Arial\\\", \\\"labelFontSize\\\": 12, \\\"labelPadding\\\": 10, \\\"labelColor\\\": \\\"rgba(0,0,0,0.847)\\\", \\\"tickColor\\\": \\\"rgb(136,136,136)\\\", \\\"titleFont\\\": \\\"\\\\\\\"San Francisco\\\\\\\", HelveticaNeue, Arial\\\", \\\"titleFontWeight\\\": \\\"normal\\\", \\\"titlePadding\\\": 20, \\\"titleFontSize\\\": 14, \\\"titleColor\\\": \\\"rgba(0,0,0,0.847)\\\"}, \\\"axisY\\\": {\\\"minExtent\\\": 30}, \\\"legend\\\": {\\\"labelFont\\\": \\\"\\\\\\\"San Francisco\\\\\\\", HelveticaNeue, Arial\\\", \\\"labelColor\\\": \\\"rgba(0,0,0,0.847)\\\", \\\"titleFont\\\": \\\"\\\\\\\"San Francisco\\\\\\\", HelveticaNeue, Arial\\\", \\\"cornerRadius\\\": 30, \\\"gradientLength\\\": 608, \\\"titleColor\\\": \\\"rgba(0,0,0,0.847)\\\"}, \\\"range\\\": {\\\"heatmap\\\": {\\\"scheme\\\": \\\"greenblue\\\"}}, \\\"style\\\": {\\\"rect\\\": {\\\"stroke\\\": \\\"rgba(200, 200, 200, 0.5)\\\"}, \\\"cell\\\": {\\\"stroke\\\": \\\"transparent\\\"}, \\\"group-title\\\": {\\\"fontSize\\\": 29, \\\"font\\\": \\\"HelveticaNeue, Arial\\\", \\\"fontWeight\\\": \\\"normal\\\", \\\"fill\\\": \\\"rgba(0,0,0,0.65)\\\"}}, \\\"title\\\": {\\\"color\\\": \\\"rgba(0,0,0,0.847)\\\", \\\"font\\\": \\\"\\\\\\\"San Francisco\\\\\\\", HelveticaNeue, Arial\\\", \\\"fontSize\\\": 18, \\\"fontWeight\\\": \\\"normal\\\", \\\"offset\\\": 30}}}\";                                 var vega_json_parsed = JSON.parse(vega_json);                                 var toolTipOpts = {                                     showAllFields: true                                 };                                 if(vega_json_parsed[\"metadata\"] != null){                                     if(vega_json_parsed[\"metadata\"][\"bubbleOpts\"] != null){                                         toolTipOpts = vega_json_parsed[\"metadata\"][\"bubbleOpts\"];                                     };                                 };                                 vegaEmbed(\"#vis\", vega_json_parsed).then(function (result) {                                     vegaTooltip.vega(result.view, toolTipOpts);                                  });                             </script>                         </body>                     </html>' src=\"demo_iframe_srcdoc.htm\">                         <p>Your browser does not support iframes.</p>                     </iframe>                 </body>             </html>"
            ],
            "text/plain": [
              "<IPython.core.display.HTML object>"
            ]
          },
          "metadata": {
            "tags": []
          }
        }
      ]
    },
    {
      "cell_type": "markdown",
      "metadata": {
        "id": "nkWSse9kyNrx"
      },
      "source": [
        "Define whats the positive and a negative sentiment"
      ]
    },
    {
      "cell_type": "code",
      "metadata": {
        "id": "7ALpy3z5x-TV"
      },
      "source": [
        "# Ignore all 3 star reviews\n",
        "products = products[products['rating']!=3]"
      ],
      "execution_count": 73,
      "outputs": []
    },
    {
      "cell_type": "code",
      "metadata": {
        "colab": {
          "base_uri": "https://localhost:8080/",
          "height": 808
        },
        "id": "Um1Gvf9ryoWq",
        "outputId": "7ed47d58-7eea-4f0a-ebba-69c667e52478"
      },
      "source": [
        "products['rating'].show()"
      ],
      "execution_count": 74,
      "outputs": [
        {
          "output_type": "display_data",
          "data": {
            "text/html": [
              "<pre>Materializing SArray</pre>"
            ],
            "text/plain": [
              "Materializing SArray"
            ]
          },
          "metadata": {
            "tags": []
          }
        },
        {
          "output_type": "display_data",
          "data": {
            "text/html": [
              "<html>                 <body>                     <iframe style=\"border:0;margin:0\" width=\"920\" height=\"770\" srcdoc='<html lang=\"en\">                         <head>                             <script src=\"https://cdnjs.cloudflare.com/ajax/libs/vega/5.4.0/vega.js\"></script>                             <script src=\"https://cdnjs.cloudflare.com/ajax/libs/vega-embed/4.0.0/vega-embed.js\"></script>                             <script src=\"https://cdnjs.cloudflare.com/ajax/libs/vega-tooltip/0.5.1/vega-tooltip.min.js\"></script>                             <link rel=\"stylesheet\" type=\"text/css\" href=\"https://cdnjs.cloudflare.com/ajax/libs/vega-tooltip/0.5.1/vega-tooltip.min.css\">                             <style>                             .vega-actions > a{                                 color:white;                                 text-decoration: none;                                 font-family: \"Arial\";                                 cursor:pointer;                                 padding:5px;                                 background:#AAAAAA;                                 border-radius:4px;                                 padding-left:10px;                                 padding-right:10px;                                 margin-right:5px;                             }                             .vega-actions{                                 margin-top:20px;                                 text-align:center                             }                            .vega-actions > a{                                 background:#999999;                            }                             </style>                         </head>                         <body>                             <div id=\"vis\">                             </div>                             <script>                                 var vega_json = \"{\\\"$schema\\\": \\\"https://vega.github.io/schema/vega/v4.json\\\", \\\"description\\\": \\\"A simple bar chart with embedded data.\\\", \\\"autosize\\\": {\\\"type\\\": \\\"fit\\\", \\\"resize\\\": false, \\\"contains\\\": \\\"padding\\\"}, \\\"width\\\": 720, \\\"height\\\": 550, \\\"padding\\\": 8, \\\"title\\\": \\\"Distribution of Values [float]\\\", \\\"style\\\": \\\"cell\\\", \\\"signals\\\": [{\\\"name\\\": \\\"bins\\\", \\\"update\\\": \\\"data(\\\\\\\"bins_data\\\\\\\")[0]\\\"}, {\\\"name\\\": \\\"binCount\\\", \\\"update\\\": \\\"(bins.stop - bins.start) / bins.step\\\"}, {\\\"name\\\": \\\"nullGap\\\", \\\"update\\\": \\\"data(\\\\\\\"nulls\\\\\\\").length ? 10 : 0\\\"}, {\\\"name\\\": \\\"barStep\\\", \\\"update\\\": \\\"(width - nullGap) / (1 + binCount)\\\"}], \\\"data\\\": [{\\\"name\\\": \\\"source_2\\\", \\\"values\\\": [{\\\"left\\\": 0.9546, \\\"right\\\": 1.1594, \\\"count\\\": 15183}, {\\\"left\\\": 1.1594, \\\"right\\\": 1.3642, \\\"count\\\": 0}, {\\\"left\\\": 1.3642, \\\"right\\\": 1.569, \\\"count\\\": 0}, {\\\"left\\\": 1.569, \\\"right\\\": 1.7738, \\\"count\\\": 0}, {\\\"left\\\": 1.7738, \\\"right\\\": 1.9786, \\\"count\\\": 0}, {\\\"left\\\": 1.9786, \\\"right\\\": 2.1834, \\\"count\\\": 11310}, {\\\"left\\\": 2.1834, \\\"right\\\": 2.3882, \\\"count\\\": 0}, {\\\"left\\\": 2.3882, \\\"right\\\": 2.593, \\\"count\\\": 0}, {\\\"left\\\": 2.593, \\\"right\\\": 2.7978, \\\"count\\\": 0}, {\\\"left\\\": 2.7978, \\\"right\\\": 3.0026, \\\"count\\\": 0}, {\\\"left\\\": 3.0026, \\\"right\\\": 3.2074, \\\"count\\\": 0}, {\\\"left\\\": 3.2074, \\\"right\\\": 3.4122, \\\"count\\\": 0}, {\\\"left\\\": 3.4122, \\\"right\\\": 3.617, \\\"count\\\": 0}, {\\\"left\\\": 3.617, \\\"right\\\": 3.8218, \\\"count\\\": 0}, {\\\"left\\\": 3.8218, \\\"right\\\": 4.0266, \\\"count\\\": 33205}, {\\\"left\\\": 4.0266, \\\"right\\\": 4.2314, \\\"count\\\": 0}, {\\\"left\\\": 4.2314, \\\"right\\\": 4.4362, \\\"count\\\": 0}, {\\\"left\\\": 4.4362, \\\"right\\\": 4.641, \\\"count\\\": 0}, {\\\"left\\\": 4.641, \\\"right\\\": 4.8458, \\\"count\\\": 0}, {\\\"left\\\": 4.8458, \\\"right\\\": 5.0506, \\\"count\\\": 107054}, {\\\"start\\\": 0.9546, \\\"stop\\\": 5.0506, \\\"step\\\": 0.2048}]}, {\\\"name\\\": \\\"counts\\\", \\\"source\\\": \\\"source_2\\\", \\\"transform\\\": [{\\\"type\\\": \\\"filter\\\", \\\"expr\\\": \\\"datum[\\\\\\\"missing\\\\\\\"] !== true &amp;&amp; datum[\\\\\\\"count\\\\\\\"] != null\\\"}]}, {\\\"name\\\": \\\"nulls\\\", \\\"source\\\": \\\"source_2\\\", \\\"transform\\\": [{\\\"expr\\\": \\\"datum[\\\\\\\"missing\\\\\\\"] === true &amp;&amp; datum[\\\\\\\"count\\\\\\\"] != null\\\", \\\"type\\\": \\\"filter\\\"}]}, {\\\"name\\\": \\\"bins_data\\\", \\\"source\\\": \\\"source_2\\\", \\\"transform\\\": [{\\\"expr\\\": \\\"datum[\\\\\\\"start\\\\\\\"] != null &amp;&amp; datum[\\\\\\\"stop\\\\\\\"] != null &amp;&amp; datum[\\\\\\\"step\\\\\\\"] != null\\\", \\\"type\\\": \\\"filter\\\"}]}], \\\"marks\\\": [{\\\"type\\\": \\\"rect\\\", \\\"from\\\": {\\\"data\\\": \\\"counts\\\"}, \\\"encode\\\": {\\\"update\\\": {\\\"x\\\": {\\\"scale\\\": \\\"xscale\\\", \\\"field\\\": \\\"left\\\", \\\"offset\\\": 1}, \\\"x2\\\": {\\\"scale\\\": \\\"xscale\\\", \\\"field\\\": \\\"right\\\"}, \\\"y\\\": {\\\"scale\\\": \\\"yscale\\\", \\\"field\\\": \\\"count\\\"}, \\\"y2\\\": {\\\"scale\\\": \\\"yscale\\\", \\\"value\\\": 0}, \\\"fill\\\": {\\\"value\\\": \\\"#108EE9\\\"}}, \\\"hover\\\": {\\\"fill\\\": {\\\"value\\\": \\\"#7EC2F3\\\"}}}}, {\\\"type\\\": \\\"rect\\\", \\\"from\\\": {\\\"data\\\": \\\"nulls\\\"}, \\\"encode\\\": {\\\"update\\\": {\\\"x\\\": {\\\"scale\\\": \\\"xscale-null\\\", \\\"value\\\": null, \\\"offset\\\": 1}, \\\"x2\\\": {\\\"scale\\\": \\\"xscale-null\\\", \\\"band\\\": 1}, \\\"y\\\": {\\\"scale\\\": \\\"yscale\\\", \\\"field\\\": \\\"count\\\"}, \\\"y2\\\": {\\\"scale\\\": \\\"yscale\\\", \\\"value\\\": 0}, \\\"fill\\\": {\\\"value\\\": \\\"#108EE9\\\"}}, \\\"hover\\\": {\\\"fill\\\": {\\\"value\\\": \\\"#7EC2F3\\\"}}}}], \\\"scales\\\": [{\\\"name\\\": \\\"yscale\\\", \\\"type\\\": \\\"linear\\\", \\\"range\\\": \\\"height\\\", \\\"round\\\": true, \\\"nice\\\": true, \\\"domain\\\": {\\\"fields\\\": [{\\\"data\\\": \\\"counts\\\", \\\"field\\\": \\\"count\\\"}, {\\\"data\\\": \\\"nulls\\\", \\\"field\\\": \\\"count\\\"}]}}, {\\\"name\\\": \\\"xscale\\\", \\\"type\\\": \\\"linear\\\", \\\"range\\\": [{\\\"signal\\\": \\\"nullGap ? barStep + nullGap : 0\\\"}, {\\\"signal\\\": \\\"width\\\"}], \\\"round\\\": true, \\\"domain\\\": {\\\"signal\\\": \\\"[bins.start, bins.stop]\\\"}, \\\"bins\\\": {\\\"signal\\\": \\\"bins\\\"}}, {\\\"name\\\": \\\"xscale-null\\\", \\\"type\\\": \\\"band\\\", \\\"range\\\": [{\\\"signal\\\": \\\"nullGap ? 0 : 1\\\"}, {\\\"signal\\\": \\\"nullGap ? barStep : 0\\\"}], \\\"round\\\": true, \\\"domain\\\": [{\\\"signal\\\": \\\"nullGap ? null : &apos;&apos;\\\"}]}], \\\"axes\\\": [{\\\"title\\\": \\\"Values\\\", \\\"orient\\\": \\\"bottom\\\", \\\"scale\\\": \\\"xscale\\\", \\\"tickMinStep\\\": 1, \\\"grid\\\": true}, {\\\"orient\\\": \\\"bottom\\\", \\\"scale\\\": \\\"xscale-null\\\"}, {\\\"title\\\": \\\"Count\\\", \\\"orient\\\": \\\"left\\\", \\\"scale\\\": \\\"yscale\\\", \\\"tickCount\\\": 5, \\\"offset\\\": {\\\"signal\\\": \\\"nullGap ? 5 : 0\\\"}, \\\"grid\\\": true}], \\\"config\\\": {\\\"axis\\\": {\\\"gridColor\\\": \\\"rgba(204,204,204,1.0)\\\", \\\"labelFont\\\": \\\"\\\\\\\"San Francisco\\\\\\\", HelveticaNeue, Arial\\\", \\\"labelFontSize\\\": 12, \\\"labelPadding\\\": 10, \\\"labelColor\\\": \\\"rgba(0,0,0,0.847)\\\", \\\"tickColor\\\": \\\"rgb(136,136,136)\\\", \\\"titleFont\\\": \\\"\\\\\\\"San Francisco\\\\\\\", HelveticaNeue, Arial\\\", \\\"titleFontWeight\\\": \\\"normal\\\", \\\"titlePadding\\\": 20, \\\"titleFontSize\\\": 14, \\\"titleColor\\\": \\\"rgba(0,0,0,0.847)\\\"}, \\\"axisY\\\": {\\\"minExtent\\\": 30}, \\\"legend\\\": {\\\"labelFont\\\": \\\"\\\\\\\"San Francisco\\\\\\\", HelveticaNeue, Arial\\\", \\\"labelColor\\\": \\\"rgba(0,0,0,0.847)\\\", \\\"titleFont\\\": \\\"\\\\\\\"San Francisco\\\\\\\", HelveticaNeue, Arial\\\", \\\"cornerRadius\\\": 30, \\\"gradientLength\\\": 608, \\\"titleColor\\\": \\\"rgba(0,0,0,0.847)\\\"}, \\\"range\\\": {\\\"heatmap\\\": {\\\"scheme\\\": \\\"greenblue\\\"}}, \\\"style\\\": {\\\"rect\\\": {\\\"stroke\\\": \\\"rgba(200, 200, 200, 0.5)\\\"}, \\\"cell\\\": {\\\"stroke\\\": \\\"transparent\\\"}, \\\"group-title\\\": {\\\"fontSize\\\": 29, \\\"font\\\": \\\"HelveticaNeue, Arial\\\", \\\"fontWeight\\\": \\\"normal\\\", \\\"fill\\\": \\\"rgba(0,0,0,0.65)\\\"}}, \\\"title\\\": {\\\"color\\\": \\\"rgba(0,0,0,0.847)\\\", \\\"font\\\": \\\"\\\\\\\"San Francisco\\\\\\\", HelveticaNeue, Arial\\\", \\\"fontSize\\\": 18, \\\"fontWeight\\\": \\\"normal\\\", \\\"offset\\\": 30}}}\";                                 var vega_json_parsed = JSON.parse(vega_json);                                 var toolTipOpts = {                                     showAllFields: true                                 };                                 if(vega_json_parsed[\"metadata\"] != null){                                     if(vega_json_parsed[\"metadata\"][\"bubbleOpts\"] != null){                                         toolTipOpts = vega_json_parsed[\"metadata\"][\"bubbleOpts\"];                                     };                                 };                                 vegaEmbed(\"#vis\", vega_json_parsed).then(function (result) {                                     vegaTooltip.vega(result.view, toolTipOpts);                                  });                             </script>                         </body>                     </html>' src=\"demo_iframe_srcdoc.htm\">                         <p>Your browser does not support iframes.</p>                     </iframe>                 </body>             </html>"
            ],
            "text/plain": [
              "<IPython.core.display.HTML object>"
            ]
          },
          "metadata": {
            "tags": []
          }
        }
      ]
    },
    {
      "cell_type": "code",
      "metadata": {
        "id": "yJBlnYkCytSc"
      },
      "source": [
        "#Positive sentiment = 4* and 5* reviews\n",
        "products['sentiment'] = products['rating'] >= 4"
      ],
      "execution_count": 75,
      "outputs": []
    },
    {
      "cell_type": "code",
      "metadata": {
        "colab": {
          "base_uri": "https://localhost:8080/",
          "height": 449
        },
        "id": "b9y4NpS9y81s",
        "outputId": "404301e0-4fb9-4c80-d0a8-4153a7869844"
      },
      "source": [
        "products"
      ],
      "execution_count": 76,
      "outputs": [
        {
          "output_type": "execute_result",
          "data": {
            "text/html": [
              "<div style=\"max-height:1000px;max-width:1500px;overflow:auto;\"><table frame=\"box\" rules=\"cols\">\n",
              "    <tr>\n",
              "        <th style=\"padding-left: 1em; padding-right: 1em; text-align: center\">name</th>\n",
              "        <th style=\"padding-left: 1em; padding-right: 1em; text-align: center\">review</th>\n",
              "        <th style=\"padding-left: 1em; padding-right: 1em; text-align: center\">rating</th>\n",
              "        <th style=\"padding-left: 1em; padding-right: 1em; text-align: center\">word_count</th>\n",
              "        <th style=\"padding-left: 1em; padding-right: 1em; text-align: center\">sentiment</th>\n",
              "    </tr>\n",
              "    <tr>\n",
              "        <td style=\"padding-left: 1em; padding-right: 1em; text-align: center; vertical-align: top\">Planetwise Wipe Pouch</td>\n",
              "        <td style=\"padding-left: 1em; padding-right: 1em; text-align: center; vertical-align: top\">it came early and was not<br>disappointed. i love ...</td>\n",
              "        <td style=\"padding-left: 1em; padding-right: 1em; text-align: center; vertical-align: top\">5.0</td>\n",
              "        <td style=\"padding-left: 1em; padding-right: 1em; text-align: center; vertical-align: top\">{&#x27;recommend&#x27;: 1.0,<br>&#x27;highly&#x27;: 1.0, ...</td>\n",
              "        <td style=\"padding-left: 1em; padding-right: 1em; text-align: center; vertical-align: top\">1</td>\n",
              "    </tr>\n",
              "    <tr>\n",
              "        <td style=\"padding-left: 1em; padding-right: 1em; text-align: center; vertical-align: top\">Annas Dream Full Quilt<br>with 2 Shams ...</td>\n",
              "        <td style=\"padding-left: 1em; padding-right: 1em; text-align: center; vertical-align: top\">Very soft and comfortable<br>and warmer than it ...</td>\n",
              "        <td style=\"padding-left: 1em; padding-right: 1em; text-align: center; vertical-align: top\">5.0</td>\n",
              "        <td style=\"padding-left: 1em; padding-right: 1em; text-align: center; vertical-align: top\">{&#x27;quilt&#x27;: 1.0, &#x27;of&#x27;: 1.0,<br>&#x27;the&#x27;: 1.0, &#x27;than&#x27;: 1.0, ...</td>\n",
              "        <td style=\"padding-left: 1em; padding-right: 1em; text-align: center; vertical-align: top\">1</td>\n",
              "    </tr>\n",
              "    <tr>\n",
              "        <td style=\"padding-left: 1em; padding-right: 1em; text-align: center; vertical-align: top\">Stop Pacifier Sucking<br>without tears with ...</td>\n",
              "        <td style=\"padding-left: 1em; padding-right: 1em; text-align: center; vertical-align: top\">This is a product well<br>worth the purchase.  I ...</td>\n",
              "        <td style=\"padding-left: 1em; padding-right: 1em; text-align: center; vertical-align: top\">5.0</td>\n",
              "        <td style=\"padding-left: 1em; padding-right: 1em; text-align: center; vertical-align: top\">{&#x27;tool&#x27;: 1.0, &#x27;clever&#x27;:<br>1.0, &#x27;approach&#x27;: 2.0, ...</td>\n",
              "        <td style=\"padding-left: 1em; padding-right: 1em; text-align: center; vertical-align: top\">1</td>\n",
              "    </tr>\n",
              "    <tr>\n",
              "        <td style=\"padding-left: 1em; padding-right: 1em; text-align: center; vertical-align: top\">Stop Pacifier Sucking<br>without tears with ...</td>\n",
              "        <td style=\"padding-left: 1em; padding-right: 1em; text-align: center; vertical-align: top\">All of my kids have cried<br>non-stop when I tried to ...</td>\n",
              "        <td style=\"padding-left: 1em; padding-right: 1em; text-align: center; vertical-align: top\">5.0</td>\n",
              "        <td style=\"padding-left: 1em; padding-right: 1em; text-align: center; vertical-align: top\">{&#x27;rock&#x27;: 1.0, &#x27;many&#x27;:<br>1.0, &#x27;headaches&#x27;: 1.0, ...</td>\n",
              "        <td style=\"padding-left: 1em; padding-right: 1em; text-align: center; vertical-align: top\">1</td>\n",
              "    </tr>\n",
              "    <tr>\n",
              "        <td style=\"padding-left: 1em; padding-right: 1em; text-align: center; vertical-align: top\">Stop Pacifier Sucking<br>without tears with ...</td>\n",
              "        <td style=\"padding-left: 1em; padding-right: 1em; text-align: center; vertical-align: top\">When the Binky Fairy came<br>to our house, we didn&#x27;t ...</td>\n",
              "        <td style=\"padding-left: 1em; padding-right: 1em; text-align: center; vertical-align: top\">5.0</td>\n",
              "        <td style=\"padding-left: 1em; padding-right: 1em; text-align: center; vertical-align: top\">{&#x27;thumb&#x27;: 1.0, &#x27;or&#x27;: 1.0,<br>&#x27;break&#x27;: 1.0, &#x27;trying&#x27;: ...</td>\n",
              "        <td style=\"padding-left: 1em; padding-right: 1em; text-align: center; vertical-align: top\">1</td>\n",
              "    </tr>\n",
              "    <tr>\n",
              "        <td style=\"padding-left: 1em; padding-right: 1em; text-align: center; vertical-align: top\">A Tale of Baby&#x27;s Days<br>with Peter Rabbit ...</td>\n",
              "        <td style=\"padding-left: 1em; padding-right: 1em; text-align: center; vertical-align: top\">Lovely book, it&#x27;s bound<br>tightly so you may no ...</td>\n",
              "        <td style=\"padding-left: 1em; padding-right: 1em; text-align: center; vertical-align: top\">4.0</td>\n",
              "        <td style=\"padding-left: 1em; padding-right: 1em; text-align: center; vertical-align: top\">{&#x27;for&#x27;: 1.0, &#x27;barnes&#x27;:<br>1.0, &#x27;at&#x27;: 1.0, &#x27;is&#x27;: ...</td>\n",
              "        <td style=\"padding-left: 1em; padding-right: 1em; text-align: center; vertical-align: top\">1</td>\n",
              "    </tr>\n",
              "    <tr>\n",
              "        <td style=\"padding-left: 1em; padding-right: 1em; text-align: center; vertical-align: top\">Baby Tracker&amp;reg; - Daily<br>Childcare Journal, ...</td>\n",
              "        <td style=\"padding-left: 1em; padding-right: 1em; text-align: center; vertical-align: top\">Perfect for new parents.<br>We were able to keep ...</td>\n",
              "        <td style=\"padding-left: 1em; padding-right: 1em; text-align: center; vertical-align: top\">5.0</td>\n",
              "        <td style=\"padding-left: 1em; padding-right: 1em; text-align: center; vertical-align: top\">{&#x27;right&#x27;: 1.0, &#x27;because&#x27;:<br>1.0, &#x27;questions&#x27;: 1.0, ...</td>\n",
              "        <td style=\"padding-left: 1em; padding-right: 1em; text-align: center; vertical-align: top\">1</td>\n",
              "    </tr>\n",
              "    <tr>\n",
              "        <td style=\"padding-left: 1em; padding-right: 1em; text-align: center; vertical-align: top\">Baby Tracker&amp;reg; - Daily<br>Childcare Journal, ...</td>\n",
              "        <td style=\"padding-left: 1em; padding-right: 1em; text-align: center; vertical-align: top\">A friend of mine pinned<br>this product on Pinte ...</td>\n",
              "        <td style=\"padding-left: 1em; padding-right: 1em; text-align: center; vertical-align: top\">5.0</td>\n",
              "        <td style=\"padding-left: 1em; padding-right: 1em; text-align: center; vertical-align: top\">{&#x27;like&#x27;: 1.0, &#x27;and&#x27;: 1.0,<br>&#x27;changes&#x27;: 1.0, &#x27;the&#x27;: ...</td>\n",
              "        <td style=\"padding-left: 1em; padding-right: 1em; text-align: center; vertical-align: top\">1</td>\n",
              "    </tr>\n",
              "    <tr>\n",
              "        <td style=\"padding-left: 1em; padding-right: 1em; text-align: center; vertical-align: top\">Baby Tracker&amp;reg; - Daily<br>Childcare Journal, ...</td>\n",
              "        <td style=\"padding-left: 1em; padding-right: 1em; text-align: center; vertical-align: top\">This has been an easy way<br>for my nanny to record ...</td>\n",
              "        <td style=\"padding-left: 1em; padding-right: 1em; text-align: center; vertical-align: top\">4.0</td>\n",
              "        <td style=\"padding-left: 1em; padding-right: 1em; text-align: center; vertical-align: top\">{&#x27;in&#x27;: 1.0, &#x27;pages&#x27;: 1.0,<br>&#x27;out&#x27;: 1.0, &#x27;run&#x27;: 1.0, ...</td>\n",
              "        <td style=\"padding-left: 1em; padding-right: 1em; text-align: center; vertical-align: top\">1</td>\n",
              "    </tr>\n",
              "    <tr>\n",
              "        <td style=\"padding-left: 1em; padding-right: 1em; text-align: center; vertical-align: top\">Baby Tracker&amp;reg; - Daily<br>Childcare Journal, ...</td>\n",
              "        <td style=\"padding-left: 1em; padding-right: 1em; text-align: center; vertical-align: top\">I love this journal and<br>our nanny uses it ...</td>\n",
              "        <td style=\"padding-left: 1em; padding-right: 1em; text-align: center; vertical-align: top\">4.0</td>\n",
              "        <td style=\"padding-left: 1em; padding-right: 1em; text-align: center; vertical-align: top\">{&#x27;tracker&#x27;: 1.0, &#x27;now&#x27;:<br>1.0, &#x27;its&#x27;: 1.0, &#x27;sti ...</td>\n",
              "        <td style=\"padding-left: 1em; padding-right: 1em; text-align: center; vertical-align: top\">1</td>\n",
              "    </tr>\n",
              "</table>\n",
              "[166752 rows x 5 columns]<br/>Note: Only the head of the SFrame is printed.<br/>You can use print_rows(num_rows=m, num_columns=n) to print more rows and columns.\n",
              "</div>"
            ],
            "text/plain": [
              "Columns:\n",
              "\tname\tstr\n",
              "\treview\tstr\n",
              "\trating\tfloat\n",
              "\tword_count\tdict\n",
              "\tsentiment\tint\n",
              "\n",
              "Rows: 166752\n",
              "\n",
              "Data:\n",
              "+-------------------------------+-------------------------------+--------+\n",
              "|              name             |             review            | rating |\n",
              "+-------------------------------+-------------------------------+--------+\n",
              "|     Planetwise Wipe Pouch     | it came early and was not ... |  5.0   |\n",
              "| Annas Dream Full Quilt wit... | Very soft and comfortable ... |  5.0   |\n",
              "| Stop Pacifier Sucking with... | This is a product well wor... |  5.0   |\n",
              "| Stop Pacifier Sucking with... | All of my kids have cried ... |  5.0   |\n",
              "| Stop Pacifier Sucking with... | When the Binky Fairy came ... |  5.0   |\n",
              "| A Tale of Baby's Days with... | Lovely book, it's bound ti... |  4.0   |\n",
              "| Baby Tracker&reg; - Daily ... | Perfect for new parents. W... |  5.0   |\n",
              "| Baby Tracker&reg; - Daily ... | A friend of mine pinned th... |  5.0   |\n",
              "| Baby Tracker&reg; - Daily ... | This has been an easy way ... |  4.0   |\n",
              "| Baby Tracker&reg; - Daily ... | I love this journal and ou... |  4.0   |\n",
              "+-------------------------------+-------------------------------+--------+\n",
              "+-------------------------------+-----------+\n",
              "|           word_count          | sentiment |\n",
              "+-------------------------------+-----------+\n",
              "| {'recommend': 1.0, 'highly... |     1     |\n",
              "| {'quilt': 1.0, 'of': 1.0, ... |     1     |\n",
              "| {'tool': 1.0, 'clever': 1.... |     1     |\n",
              "| {'rock': 1.0, 'many': 1.0,... |     1     |\n",
              "| {'thumb': 1.0, 'or': 1.0, ... |     1     |\n",
              "| {'for': 1.0, 'barnes': 1.0... |     1     |\n",
              "| {'right': 1.0, 'because': ... |     1     |\n",
              "| {'like': 1.0, 'and': 1.0, ... |     1     |\n",
              "| {'in': 1.0, 'pages': 1.0, ... |     1     |\n",
              "| {'tracker': 1.0, 'now': 1.... |     1     |\n",
              "+-------------------------------+-----------+\n",
              "[166752 rows x 5 columns]\n",
              "Note: Only the head of the SFrame is printed.\n",
              "You can use print_rows(num_rows=m, num_columns=n) to print more rows and columns."
            ]
          },
          "metadata": {
            "tags": []
          },
          "execution_count": 76
        }
      ]
    },
    {
      "cell_type": "code",
      "metadata": {
        "colab": {
          "base_uri": "https://localhost:8080/",
          "height": 808
        },
        "id": "P4wcI5Um2Vz9",
        "outputId": "22117381-2ae7-422f-c4e9-4c9d1e8812ef"
      },
      "source": [
        "products['sentiment'].show()"
      ],
      "execution_count": 77,
      "outputs": [
        {
          "output_type": "display_data",
          "data": {
            "text/html": [
              "<pre>Materializing SArray</pre>"
            ],
            "text/plain": [
              "Materializing SArray"
            ]
          },
          "metadata": {
            "tags": []
          }
        },
        {
          "output_type": "display_data",
          "data": {
            "text/html": [
              "<html>                 <body>                     <iframe style=\"border:0;margin:0\" width=\"920\" height=\"770\" srcdoc='<html lang=\"en\">                         <head>                             <script src=\"https://cdnjs.cloudflare.com/ajax/libs/vega/5.4.0/vega.js\"></script>                             <script src=\"https://cdnjs.cloudflare.com/ajax/libs/vega-embed/4.0.0/vega-embed.js\"></script>                             <script src=\"https://cdnjs.cloudflare.com/ajax/libs/vega-tooltip/0.5.1/vega-tooltip.min.js\"></script>                             <link rel=\"stylesheet\" type=\"text/css\" href=\"https://cdnjs.cloudflare.com/ajax/libs/vega-tooltip/0.5.1/vega-tooltip.min.css\">                             <style>                             .vega-actions > a{                                 color:white;                                 text-decoration: none;                                 font-family: \"Arial\";                                 cursor:pointer;                                 padding:5px;                                 background:#AAAAAA;                                 border-radius:4px;                                 padding-left:10px;                                 padding-right:10px;                                 margin-right:5px;                             }                             .vega-actions{                                 margin-top:20px;                                 text-align:center                             }                            .vega-actions > a{                                 background:#999999;                            }                             </style>                         </head>                         <body>                             <div id=\"vis\">                             </div>                             <script>                                 var vega_json = \"{\\\"$schema\\\": \\\"https://vega.github.io/schema/vega/v4.json\\\", \\\"description\\\": \\\"A simple bar chart with embedded data.\\\", \\\"autosize\\\": {\\\"type\\\": \\\"fit\\\", \\\"resize\\\": false, \\\"contains\\\": \\\"padding\\\"}, \\\"width\\\": 720, \\\"height\\\": 550, \\\"padding\\\": 8, \\\"title\\\": \\\"Distribution of Values [integer]\\\", \\\"style\\\": \\\"cell\\\", \\\"signals\\\": [{\\\"name\\\": \\\"bins\\\", \\\"update\\\": \\\"data(\\\\\\\"bins_data\\\\\\\")[0]\\\"}, {\\\"name\\\": \\\"binCount\\\", \\\"update\\\": \\\"(bins.stop - bins.start) / bins.step\\\"}, {\\\"name\\\": \\\"nullGap\\\", \\\"update\\\": \\\"data(\\\\\\\"nulls\\\\\\\").length ? 10 : 0\\\"}, {\\\"name\\\": \\\"barStep\\\", \\\"update\\\": \\\"(width - nullGap) / (1 + binCount)\\\"}], \\\"data\\\": [{\\\"name\\\": \\\"source_2\\\", \\\"values\\\": [{\\\"left\\\": -9, \\\"right\\\": -8, \\\"count\\\": 0}, {\\\"left\\\": -8, \\\"right\\\": -7, \\\"count\\\": 0}, {\\\"left\\\": -7, \\\"right\\\": -6, \\\"count\\\": 0}, {\\\"left\\\": -6, \\\"right\\\": -5, \\\"count\\\": 0}, {\\\"left\\\": -5, \\\"right\\\": -4, \\\"count\\\": 0}, {\\\"left\\\": -4, \\\"right\\\": -3, \\\"count\\\": 0}, {\\\"left\\\": -3, \\\"right\\\": -2, \\\"count\\\": 0}, {\\\"left\\\": -2, \\\"right\\\": -1, \\\"count\\\": 0}, {\\\"left\\\": -1, \\\"right\\\": 0, \\\"count\\\": 0}, {\\\"left\\\": 0, \\\"right\\\": 1, \\\"count\\\": 26493}, {\\\"left\\\": 1, \\\"right\\\": 2, \\\"count\\\": 140259}, {\\\"left\\\": 2, \\\"right\\\": 3, \\\"count\\\": 0}, {\\\"left\\\": 3, \\\"right\\\": 4, \\\"count\\\": 0}, {\\\"left\\\": 4, \\\"right\\\": 5, \\\"count\\\": 0}, {\\\"left\\\": 5, \\\"right\\\": 6, \\\"count\\\": 0}, {\\\"left\\\": 6, \\\"right\\\": 7, \\\"count\\\": 0}, {\\\"left\\\": 7, \\\"right\\\": 8, \\\"count\\\": 0}, {\\\"left\\\": 8, \\\"right\\\": 9, \\\"count\\\": 0}, {\\\"left\\\": 9, \\\"right\\\": 10, \\\"count\\\": 0}, {\\\"left\\\": 10, \\\"right\\\": 11, \\\"count\\\": 0}, {\\\"start\\\": -9, \\\"stop\\\": 11, \\\"step\\\": 1}]}, {\\\"name\\\": \\\"counts\\\", \\\"source\\\": \\\"source_2\\\", \\\"transform\\\": [{\\\"type\\\": \\\"filter\\\", \\\"expr\\\": \\\"datum[\\\\\\\"missing\\\\\\\"] !== true &amp;&amp; datum[\\\\\\\"count\\\\\\\"] != null\\\"}]}, {\\\"name\\\": \\\"nulls\\\", \\\"source\\\": \\\"source_2\\\", \\\"transform\\\": [{\\\"expr\\\": \\\"datum[\\\\\\\"missing\\\\\\\"] === true &amp;&amp; datum[\\\\\\\"count\\\\\\\"] != null\\\", \\\"type\\\": \\\"filter\\\"}]}, {\\\"name\\\": \\\"bins_data\\\", \\\"source\\\": \\\"source_2\\\", \\\"transform\\\": [{\\\"expr\\\": \\\"datum[\\\\\\\"start\\\\\\\"] != null &amp;&amp; datum[\\\\\\\"stop\\\\\\\"] != null &amp;&amp; datum[\\\\\\\"step\\\\\\\"] != null\\\", \\\"type\\\": \\\"filter\\\"}]}], \\\"marks\\\": [{\\\"type\\\": \\\"rect\\\", \\\"from\\\": {\\\"data\\\": \\\"counts\\\"}, \\\"encode\\\": {\\\"update\\\": {\\\"x\\\": {\\\"scale\\\": \\\"xscale\\\", \\\"field\\\": \\\"left\\\", \\\"offset\\\": 1}, \\\"x2\\\": {\\\"scale\\\": \\\"xscale\\\", \\\"field\\\": \\\"right\\\"}, \\\"y\\\": {\\\"scale\\\": \\\"yscale\\\", \\\"field\\\": \\\"count\\\"}, \\\"y2\\\": {\\\"scale\\\": \\\"yscale\\\", \\\"value\\\": 0}, \\\"fill\\\": {\\\"value\\\": \\\"#108EE9\\\"}}, \\\"hover\\\": {\\\"fill\\\": {\\\"value\\\": \\\"#7EC2F3\\\"}}}}, {\\\"type\\\": \\\"rect\\\", \\\"from\\\": {\\\"data\\\": \\\"nulls\\\"}, \\\"encode\\\": {\\\"update\\\": {\\\"x\\\": {\\\"scale\\\": \\\"xscale-null\\\", \\\"value\\\": null, \\\"offset\\\": 1}, \\\"x2\\\": {\\\"scale\\\": \\\"xscale-null\\\", \\\"band\\\": 1}, \\\"y\\\": {\\\"scale\\\": \\\"yscale\\\", \\\"field\\\": \\\"count\\\"}, \\\"y2\\\": {\\\"scale\\\": \\\"yscale\\\", \\\"value\\\": 0}, \\\"fill\\\": {\\\"value\\\": \\\"#108EE9\\\"}}, \\\"hover\\\": {\\\"fill\\\": {\\\"value\\\": \\\"#7EC2F3\\\"}}}}], \\\"scales\\\": [{\\\"name\\\": \\\"yscale\\\", \\\"type\\\": \\\"linear\\\", \\\"range\\\": \\\"height\\\", \\\"round\\\": true, \\\"nice\\\": true, \\\"domain\\\": {\\\"fields\\\": [{\\\"data\\\": \\\"counts\\\", \\\"field\\\": \\\"count\\\"}, {\\\"data\\\": \\\"nulls\\\", \\\"field\\\": \\\"count\\\"}]}}, {\\\"name\\\": \\\"xscale\\\", \\\"type\\\": \\\"linear\\\", \\\"range\\\": [{\\\"signal\\\": \\\"nullGap ? barStep + nullGap : 0\\\"}, {\\\"signal\\\": \\\"width\\\"}], \\\"round\\\": true, \\\"domain\\\": {\\\"signal\\\": \\\"[bins.start, bins.stop]\\\"}, \\\"bins\\\": {\\\"signal\\\": \\\"bins\\\"}}, {\\\"name\\\": \\\"xscale-null\\\", \\\"type\\\": \\\"band\\\", \\\"range\\\": [{\\\"signal\\\": \\\"nullGap ? 0 : 1\\\"}, {\\\"signal\\\": \\\"nullGap ? barStep : 0\\\"}], \\\"round\\\": true, \\\"domain\\\": [{\\\"signal\\\": \\\"nullGap ? null : &apos;&apos;\\\"}]}], \\\"axes\\\": [{\\\"title\\\": \\\"Values\\\", \\\"orient\\\": \\\"bottom\\\", \\\"scale\\\": \\\"xscale\\\", \\\"tickMinStep\\\": 1, \\\"grid\\\": true}, {\\\"orient\\\": \\\"bottom\\\", \\\"scale\\\": \\\"xscale-null\\\"}, {\\\"title\\\": \\\"Count\\\", \\\"orient\\\": \\\"left\\\", \\\"scale\\\": \\\"yscale\\\", \\\"tickCount\\\": 5, \\\"offset\\\": {\\\"signal\\\": \\\"nullGap ? 5 : 0\\\"}, \\\"grid\\\": true}], \\\"config\\\": {\\\"axis\\\": {\\\"gridColor\\\": \\\"rgba(204,204,204,1.0)\\\", \\\"labelFont\\\": \\\"\\\\\\\"San Francisco\\\\\\\", HelveticaNeue, Arial\\\", \\\"labelFontSize\\\": 12, \\\"labelPadding\\\": 10, \\\"labelColor\\\": \\\"rgba(0,0,0,0.847)\\\", \\\"tickColor\\\": \\\"rgb(136,136,136)\\\", \\\"titleFont\\\": \\\"\\\\\\\"San Francisco\\\\\\\", HelveticaNeue, Arial\\\", \\\"titleFontWeight\\\": \\\"normal\\\", \\\"titlePadding\\\": 20, \\\"titleFontSize\\\": 14, \\\"titleColor\\\": \\\"rgba(0,0,0,0.847)\\\"}, \\\"axisY\\\": {\\\"minExtent\\\": 30}, \\\"legend\\\": {\\\"labelFont\\\": \\\"\\\\\\\"San Francisco\\\\\\\", HelveticaNeue, Arial\\\", \\\"labelColor\\\": \\\"rgba(0,0,0,0.847)\\\", \\\"titleFont\\\": \\\"\\\\\\\"San Francisco\\\\\\\", HelveticaNeue, Arial\\\", \\\"cornerRadius\\\": 30, \\\"gradientLength\\\": 608, \\\"titleColor\\\": \\\"rgba(0,0,0,0.847)\\\"}, \\\"range\\\": {\\\"heatmap\\\": {\\\"scheme\\\": \\\"greenblue\\\"}}, \\\"style\\\": {\\\"rect\\\": {\\\"stroke\\\": \\\"rgba(200, 200, 200, 0.5)\\\"}, \\\"cell\\\": {\\\"stroke\\\": \\\"transparent\\\"}, \\\"group-title\\\": {\\\"fontSize\\\": 29, \\\"font\\\": \\\"HelveticaNeue, Arial\\\", \\\"fontWeight\\\": \\\"normal\\\", \\\"fill\\\": \\\"rgba(0,0,0,0.65)\\\"}}, \\\"title\\\": {\\\"color\\\": \\\"rgba(0,0,0,0.847)\\\", \\\"font\\\": \\\"\\\\\\\"San Francisco\\\\\\\", HelveticaNeue, Arial\\\", \\\"fontSize\\\": 18, \\\"fontWeight\\\": \\\"normal\\\", \\\"offset\\\": 30}}}\";                                 var vega_json_parsed = JSON.parse(vega_json);                                 var toolTipOpts = {                                     showAllFields: true                                 };                                 if(vega_json_parsed[\"metadata\"] != null){                                     if(vega_json_parsed[\"metadata\"][\"bubbleOpts\"] != null){                                         toolTipOpts = vega_json_parsed[\"metadata\"][\"bubbleOpts\"];                                     };                                 };                                 vegaEmbed(\"#vis\", vega_json_parsed).then(function (result) {                                     vegaTooltip.vega(result.view, toolTipOpts);                                  });                             </script>                         </body>                     </html>' src=\"demo_iframe_srcdoc.htm\">                         <p>Your browser does not support iframes.</p>                     </iframe>                 </body>             </html>"
            ],
            "text/plain": [
              "<IPython.core.display.HTML object>"
            ]
          },
          "metadata": {
            "tags": []
          }
        }
      ]
    },
    {
      "cell_type": "markdown",
      "metadata": {
        "id": "zTG9I__G0dDS"
      },
      "source": [
        "Building a sentiment classifier"
      ]
    },
    {
      "cell_type": "code",
      "metadata": {
        "id": "IgxW6yJ_zQKL"
      },
      "source": [
        "train_data,test_data = products.random_split(.8,seed=0)"
      ],
      "execution_count": 78,
      "outputs": []
    },
    {
      "cell_type": "code",
      "metadata": {
        "colab": {
          "base_uri": "https://localhost:8080/",
          "height": 340
        },
        "id": "HY20PDoF0qn6",
        "outputId": "748d63b5-626e-48f4-b121-b4a766a1431b"
      },
      "source": [
        "sentiment_model = turicreate.logistic_classifier.create(train_data,target='sentiment',features=['word_count'],validation_set=test_data)"
      ],
      "execution_count": 79,
      "outputs": [
        {
          "output_type": "display_data",
          "data": {
            "text/html": [
              "<pre>Logistic regression:</pre>"
            ],
            "text/plain": [
              "Logistic regression:"
            ]
          },
          "metadata": {
            "tags": []
          }
        },
        {
          "output_type": "display_data",
          "data": {
            "text/html": [
              "<pre>--------------------------------------------------------</pre>"
            ],
            "text/plain": [
              "--------------------------------------------------------"
            ]
          },
          "metadata": {
            "tags": []
          }
        },
        {
          "output_type": "display_data",
          "data": {
            "text/html": [
              "<pre>Number of examples          : 133448</pre>"
            ],
            "text/plain": [
              "Number of examples          : 133448"
            ]
          },
          "metadata": {
            "tags": []
          }
        },
        {
          "output_type": "display_data",
          "data": {
            "text/html": [
              "<pre>Number of classes           : 2</pre>"
            ],
            "text/plain": [
              "Number of classes           : 2"
            ]
          },
          "metadata": {
            "tags": []
          }
        },
        {
          "output_type": "display_data",
          "data": {
            "text/html": [
              "<pre>Number of feature columns   : 1</pre>"
            ],
            "text/plain": [
              "Number of feature columns   : 1"
            ]
          },
          "metadata": {
            "tags": []
          }
        },
        {
          "output_type": "display_data",
          "data": {
            "text/html": [
              "<pre>Number of unpacked features : 57356</pre>"
            ],
            "text/plain": [
              "Number of unpacked features : 57356"
            ]
          },
          "metadata": {
            "tags": []
          }
        },
        {
          "output_type": "display_data",
          "data": {
            "text/html": [
              "<pre>Number of coefficients      : 57357</pre>"
            ],
            "text/plain": [
              "Number of coefficients      : 57357"
            ]
          },
          "metadata": {
            "tags": []
          }
        },
        {
          "output_type": "display_data",
          "data": {
            "text/html": [
              "<pre>Starting L-BFGS</pre>"
            ],
            "text/plain": [
              "Starting L-BFGS"
            ]
          },
          "metadata": {
            "tags": []
          }
        },
        {
          "output_type": "display_data",
          "data": {
            "text/html": [
              "<pre>--------------------------------------------------------</pre>"
            ],
            "text/plain": [
              "--------------------------------------------------------"
            ]
          },
          "metadata": {
            "tags": []
          }
        },
        {
          "output_type": "display_data",
          "data": {
            "text/html": [
              "<pre>+-----------+----------+-----------+--------------+-------------------+---------------------+</pre>"
            ],
            "text/plain": [
              "+-----------+----------+-----------+--------------+-------------------+---------------------+"
            ]
          },
          "metadata": {
            "tags": []
          }
        },
        {
          "output_type": "display_data",
          "data": {
            "text/html": [
              "<pre>| Iteration | Passes   | Step size | Elapsed Time | Training Accuracy | Validation Accuracy |</pre>"
            ],
            "text/plain": [
              "| Iteration | Passes   | Step size | Elapsed Time | Training Accuracy | Validation Accuracy |"
            ]
          },
          "metadata": {
            "tags": []
          }
        },
        {
          "output_type": "display_data",
          "data": {
            "text/html": [
              "<pre>+-----------+----------+-----------+--------------+-------------------+---------------------+</pre>"
            ],
            "text/plain": [
              "+-----------+----------+-----------+--------------+-------------------+---------------------+"
            ]
          },
          "metadata": {
            "tags": []
          }
        },
        {
          "output_type": "display_data",
          "data": {
            "text/html": [
              "<pre>| 0         | 4        | 0.250000  | 1.444310     | 0.841421          | 0.840019            |</pre>"
            ],
            "text/plain": [
              "| 0         | 4        | 0.250000  | 1.444310     | 0.841421          | 0.840019            |"
            ]
          },
          "metadata": {
            "tags": []
          }
        },
        {
          "output_type": "display_data",
          "data": {
            "text/html": [
              "<pre>| 1         | 9        | 3.250000  | 3.449628     | 0.931359          | 0.911362            |</pre>"
            ],
            "text/plain": [
              "| 1         | 9        | 3.250000  | 3.449628     | 0.931359          | 0.911362            |"
            ]
          },
          "metadata": {
            "tags": []
          }
        },
        {
          "output_type": "display_data",
          "data": {
            "text/html": [
              "<pre>| 2         | 11       | 2.669978  | 4.438414     | 0.938650          | 0.916466            |</pre>"
            ],
            "text/plain": [
              "| 2         | 11       | 2.669978  | 4.438414     | 0.938650          | 0.916466            |"
            ]
          },
          "metadata": {
            "tags": []
          }
        },
        {
          "output_type": "display_data",
          "data": {
            "text/html": [
              "<pre>| 3         | 12       | 2.669978  | 5.068209     | 0.927417          | 0.901814            |</pre>"
            ],
            "text/plain": [
              "| 3         | 12       | 2.669978  | 5.068209     | 0.927417          | 0.901814            |"
            ]
          },
          "metadata": {
            "tags": []
          }
        },
        {
          "output_type": "display_data",
          "data": {
            "text/html": [
              "<pre>| 4         | 14       | 1.326072  | 6.056834     | 0.945200          | 0.918088            |</pre>"
            ],
            "text/plain": [
              "| 4         | 14       | 1.326072  | 6.056834     | 0.945200          | 0.918088            |"
            ]
          },
          "metadata": {
            "tags": []
          }
        },
        {
          "output_type": "display_data",
          "data": {
            "text/html": [
              "<pre>| 9         | 20       | 1.326072  | 9.608656     | 0.977654          | 0.917698            |</pre>"
            ],
            "text/plain": [
              "| 9         | 20       | 1.326072  | 9.608656     | 0.977654          | 0.917698            |"
            ]
          },
          "metadata": {
            "tags": []
          }
        },
        {
          "output_type": "display_data",
          "data": {
            "text/html": [
              "<pre>+-----------+----------+-----------+--------------+-------------------+---------------------+</pre>"
            ],
            "text/plain": [
              "+-----------+----------+-----------+--------------+-------------------+---------------------+"
            ]
          },
          "metadata": {
            "tags": []
          }
        }
      ]
    },
    {
      "cell_type": "markdown",
      "metadata": {
        "id": "2BXVNUEB1SHr"
      },
      "source": [
        "Evaluate the sentiment model\n"
      ]
    },
    {
      "cell_type": "code",
      "metadata": {
        "colab": {
          "base_uri": "https://localhost:8080/"
        },
        "id": "xAENJBs71HZ8",
        "outputId": "cbc54b8f-33fe-4167-f56c-89266cbbd32e"
      },
      "source": [
        "sentiment_model.evaluate(test_data, metric='roc_curve')"
      ],
      "execution_count": 80,
      "outputs": [
        {
          "output_type": "execute_result",
          "data": {
            "text/plain": [
              "{'roc_curve': Columns:\n",
              " \tthreshold\tfloat\n",
              " \tfpr\tfloat\n",
              " \ttpr\tfloat\n",
              " \tp\tint\n",
              " \tn\tint\n",
              " \n",
              " Rows: 1001\n",
              " \n",
              " Data:\n",
              " +-----------+--------------------+--------------------+-------+------+\n",
              " | threshold |        fpr         |        tpr         |   p   |  n   |\n",
              " +-----------+--------------------+--------------------+-------+------+\n",
              " |    0.0    |        1.0         |        1.0         | 27976 | 5328 |\n",
              " |   0.001   | 0.698948948948949  | 0.9933514440949385 | 27976 | 5328 |\n",
              " |   0.002   | 0.6619744744744744 | 0.9922076065198742 | 27976 | 5328 |\n",
              " |   0.003   | 0.6385135135135135 | 0.9909922790963683 | 27976 | 5328 |\n",
              " |   0.004   |  0.62256006006006  | 0.9903846153846154 | 27976 | 5328 |\n",
              " |   0.005   | 0.6112987987987988 | 0.989848441521304  | 27976 | 5328 |\n",
              " |   0.006   | 0.6002252252252253 | 0.9894195024306548 | 27976 | 5328 |\n",
              " |   0.007   | 0.589527027027027  | 0.9888475836431226 | 27976 | 5328 |\n",
              " |   0.008   | 0.5816441441441441 | 0.9883828996282528 | 27976 | 5328 |\n",
              " |   0.009   | 0.574512012012012  | 0.9880611953102659 | 27976 | 5328 |\n",
              " +-----------+--------------------+--------------------+-------+------+\n",
              " [1001 rows x 5 columns]\n",
              " Note: Only the head of the SFrame is printed.\n",
              " You can use print_rows(num_rows=m, num_columns=n) to print more rows and columns.}"
            ]
          },
          "metadata": {
            "tags": []
          },
          "execution_count": 80
        }
      ]
    },
    {
      "cell_type": "markdown",
      "metadata": {
        "id": "KNcS_lrL23N4"
      },
      "source": [
        "Applying the learned model to understand sentiment for giraffe"
      ]
    },
    {
      "cell_type": "code",
      "metadata": {
        "id": "u_NckZA01uQ8"
      },
      "source": [
        "giraffe_reviews['predicted_sentiment'] = sentiment_model.predict(giraffe_reviews,output_type='probability')"
      ],
      "execution_count": 81,
      "outputs": []
    },
    {
      "cell_type": "code",
      "metadata": {
        "colab": {
          "base_uri": "https://localhost:8080/",
          "height": 415
        },
        "id": "FFf6skwi3IC1",
        "outputId": "8f507245-4d8a-4d00-8dde-98c4abec515a"
      },
      "source": [
        "giraffe_reviews.head()"
      ],
      "execution_count": 82,
      "outputs": [
        {
          "output_type": "execute_result",
          "data": {
            "text/html": [
              "<div style=\"max-height:1000px;max-width:1500px;overflow:auto;\"><table frame=\"box\" rules=\"cols\">\n",
              "    <tr>\n",
              "        <th style=\"padding-left: 1em; padding-right: 1em; text-align: center\">name</th>\n",
              "        <th style=\"padding-left: 1em; padding-right: 1em; text-align: center\">review</th>\n",
              "        <th style=\"padding-left: 1em; padding-right: 1em; text-align: center\">rating</th>\n",
              "        <th style=\"padding-left: 1em; padding-right: 1em; text-align: center\">word_count</th>\n",
              "        <th style=\"padding-left: 1em; padding-right: 1em; text-align: center\">predicted_sentiment</th>\n",
              "    </tr>\n",
              "    <tr>\n",
              "        <td style=\"padding-left: 1em; padding-right: 1em; text-align: center; vertical-align: top\">Vulli Sophie the Giraffe<br>Teether ...</td>\n",
              "        <td style=\"padding-left: 1em; padding-right: 1em; text-align: center; vertical-align: top\">He likes chewing on all<br>the parts especially the ...</td>\n",
              "        <td style=\"padding-left: 1em; padding-right: 1em; text-align: center; vertical-align: top\">5.0</td>\n",
              "        <td style=\"padding-left: 1em; padding-right: 1em; text-align: center; vertical-align: top\">{&#x27;purchase&#x27;: 1.0,<br>&#x27;teething&#x27;: 1.0, ...</td>\n",
              "        <td style=\"padding-left: 1em; padding-right: 1em; text-align: center; vertical-align: top\">0.9993655365682024</td>\n",
              "    </tr>\n",
              "    <tr>\n",
              "        <td style=\"padding-left: 1em; padding-right: 1em; text-align: center; vertical-align: top\">Vulli Sophie the Giraffe<br>Teether ...</td>\n",
              "        <td style=\"padding-left: 1em; padding-right: 1em; text-align: center; vertical-align: top\">My son loves this toy and<br>fits great in the diaper ...</td>\n",
              "        <td style=\"padding-left: 1em; padding-right: 1em; text-align: center; vertical-align: top\">5.0</td>\n",
              "        <td style=\"padding-left: 1em; padding-right: 1em; text-align: center; vertical-align: top\">{&#x27;a&#x27;: 1.0, &#x27;is&#x27;: 1.0,<br>&#x27;when&#x27;: 1.0, &#x27;him&#x27;: 1.0, ...</td>\n",
              "        <td style=\"padding-left: 1em; padding-right: 1em; text-align: center; vertical-align: top\">0.9998633791689578</td>\n",
              "    </tr>\n",
              "    <tr>\n",
              "        <td style=\"padding-left: 1em; padding-right: 1em; text-align: center; vertical-align: top\">Vulli Sophie the Giraffe<br>Teether ...</td>\n",
              "        <td style=\"padding-left: 1em; padding-right: 1em; text-align: center; vertical-align: top\">There really should be a<br>large warning on the  ...</td>\n",
              "        <td style=\"padding-left: 1em; padding-right: 1em; text-align: center; vertical-align: top\">1.0</td>\n",
              "        <td style=\"padding-left: 1em; padding-right: 1em; text-align: center; vertical-align: top\">{&#x27;made&#x27;: 1.0, &#x27;of&#x27;: 1.0,<br>&#x27;packaging&#x27;: 1.0, &#x27;no&#x27;: ...</td>\n",
              "        <td style=\"padding-left: 1em; padding-right: 1em; text-align: center; vertical-align: top\">0.2545268198204508</td>\n",
              "    </tr>\n",
              "    <tr>\n",
              "        <td style=\"padding-left: 1em; padding-right: 1em; text-align: center; vertical-align: top\">Vulli Sophie the Giraffe<br>Teether ...</td>\n",
              "        <td style=\"padding-left: 1em; padding-right: 1em; text-align: center; vertical-align: top\">All the moms in my moms&#x27;<br>group got Sophie for ...</td>\n",
              "        <td style=\"padding-left: 1em; padding-right: 1em; text-align: center; vertical-align: top\">5.0</td>\n",
              "        <td style=\"padding-left: 1em; padding-right: 1em; text-align: center; vertical-align: top\">{&#x27;another&#x27;: 1.0, &#x27;out&#x27;:<br>1.0, &#x27;run&#x27;: 1.0, &#x27;lost&#x27;: ...</td>\n",
              "        <td style=\"padding-left: 1em; padding-right: 1em; text-align: center; vertical-align: top\">0.9165688083938922</td>\n",
              "    </tr>\n",
              "    <tr>\n",
              "        <td style=\"padding-left: 1em; padding-right: 1em; text-align: center; vertical-align: top\">Vulli Sophie the Giraffe<br>Teether ...</td>\n",
              "        <td style=\"padding-left: 1em; padding-right: 1em; text-align: center; vertical-align: top\">I was a little skeptical<br>on whether Sophie was ...</td>\n",
              "        <td style=\"padding-left: 1em; padding-right: 1em; text-align: center; vertical-align: top\">5.0</td>\n",
              "        <td style=\"padding-left: 1em; padding-right: 1em; text-align: center; vertical-align: top\">{&#x27;disappointed&#x27;: 1.0,<br>&#x27;will&#x27;: 1.0, &#x27;take&#x27;:  ...</td>\n",
              "        <td style=\"padding-left: 1em; padding-right: 1em; text-align: center; vertical-align: top\">0.6855768206018308</td>\n",
              "    </tr>\n",
              "    <tr>\n",
              "        <td style=\"padding-left: 1em; padding-right: 1em; text-align: center; vertical-align: top\">Vulli Sophie the Giraffe<br>Teether ...</td>\n",
              "        <td style=\"padding-left: 1em; padding-right: 1em; text-align: center; vertical-align: top\">I have been reading about<br>Sophie and was going  ...</td>\n",
              "        <td style=\"padding-left: 1em; padding-right: 1em; text-align: center; vertical-align: top\">5.0</td>\n",
              "        <td style=\"padding-left: 1em; padding-right: 1em; text-align: center; vertical-align: top\">{&#x27;late&#x27;: 1.0, &#x27;perfect&#x27;:<br>1.0, &#x27;pack&#x27;: 1.0, &#x27;on ...</td>\n",
              "        <td style=\"padding-left: 1em; padding-right: 1em; text-align: center; vertical-align: top\">0.99999994452112</td>\n",
              "    </tr>\n",
              "    <tr>\n",
              "        <td style=\"padding-left: 1em; padding-right: 1em; text-align: center; vertical-align: top\">Vulli Sophie the Giraffe<br>Teether ...</td>\n",
              "        <td style=\"padding-left: 1em; padding-right: 1em; text-align: center; vertical-align: top\">My neice loves her sophie<br>and has spent hours ...</td>\n",
              "        <td style=\"padding-left: 1em; padding-right: 1em; text-align: center; vertical-align: top\">5.0</td>\n",
              "        <td style=\"padding-left: 1em; padding-right: 1em; text-align: center; vertical-align: top\">{&#x27;delight&#x27;: 1.0, &#x27;in&#x27;:<br>1.0, &#x27;other&#x27;: 1.0, ...</td>\n",
              "        <td style=\"padding-left: 1em; padding-right: 1em; text-align: center; vertical-align: top\">0.997935118109446</td>\n",
              "    </tr>\n",
              "    <tr>\n",
              "        <td style=\"padding-left: 1em; padding-right: 1em; text-align: center; vertical-align: top\">Vulli Sophie the Giraffe<br>Teether ...</td>\n",
              "        <td style=\"padding-left: 1em; padding-right: 1em; text-align: center; vertical-align: top\">What a friendly face!<br>And those mesmerizing ...</td>\n",
              "        <td style=\"padding-left: 1em; padding-right: 1em; text-align: center; vertical-align: top\">5.0</td>\n",
              "        <td style=\"padding-left: 1em; padding-right: 1em; text-align: center; vertical-align: top\">{&#x27;inside&#x27;: 1.0, &#x27;water&#x27;:<br>1.0, &#x27;don&#x27;: 1.0, &#x27;up&#x27;: ...</td>\n",
              "        <td style=\"padding-left: 1em; padding-right: 1em; text-align: center; vertical-align: top\">0.999974500483435</td>\n",
              "    </tr>\n",
              "    <tr>\n",
              "        <td style=\"padding-left: 1em; padding-right: 1em; text-align: center; vertical-align: top\">Vulli Sophie the Giraffe<br>Teether ...</td>\n",
              "        <td style=\"padding-left: 1em; padding-right: 1em; text-align: center; vertical-align: top\">We got this just for my<br>son to chew on instea ...</td>\n",
              "        <td style=\"padding-left: 1em; padding-right: 1em; text-align: center; vertical-align: top\">5.0</td>\n",
              "        <td style=\"padding-left: 1em; padding-right: 1em; text-align: center; vertical-align: top\">{&#x27;its&#x27;: 1.0, &#x27;fine&#x27;: 1.0,<br>&#x27;is&#x27;: 1.0, &#x27;which&#x27;: 1.0, ...</td>\n",
              "        <td style=\"padding-left: 1em; padding-right: 1em; text-align: center; vertical-align: top\">0.9460144428390671</td>\n",
              "    </tr>\n",
              "    <tr>\n",
              "        <td style=\"padding-left: 1em; padding-right: 1em; text-align: center; vertical-align: top\">Vulli Sophie the Giraffe<br>Teether ...</td>\n",
              "        <td style=\"padding-left: 1em; padding-right: 1em; text-align: center; vertical-align: top\">My baby seems to like<br>this toy, but I could ...</td>\n",
              "        <td style=\"padding-left: 1em; padding-right: 1em; text-align: center; vertical-align: top\">3.0</td>\n",
              "        <td style=\"padding-left: 1em; padding-right: 1em; text-align: center; vertical-align: top\">{&#x27;off&#x27;: 1.0, &#x27;have&#x27;: 2.0,<br>&#x27;of&#x27;: 1.0, &#x27;some&#x27;: 1.0, ...</td>\n",
              "        <td style=\"padding-left: 1em; padding-right: 1em; text-align: center; vertical-align: top\">0.3830113614308857</td>\n",
              "    </tr>\n",
              "</table>\n",
              "[10 rows x 5 columns]<br/>\n",
              "</div>"
            ],
            "text/plain": [
              "Columns:\n",
              "\tname\tstr\n",
              "\treview\tstr\n",
              "\trating\tfloat\n",
              "\tword_count\tdict\n",
              "\tpredicted_sentiment\tfloat\n",
              "\n",
              "Rows: 10\n",
              "\n",
              "Data:\n",
              "+-------------------------------+-------------------------------+--------+\n",
              "|              name             |             review            | rating |\n",
              "+-------------------------------+-------------------------------+--------+\n",
              "| Vulli Sophie the Giraffe T... | He likes chewing on all th... |  5.0   |\n",
              "| Vulli Sophie the Giraffe T... | My son loves this toy and ... |  5.0   |\n",
              "| Vulli Sophie the Giraffe T... | There really should be a l... |  1.0   |\n",
              "| Vulli Sophie the Giraffe T... | All the moms in my moms' g... |  5.0   |\n",
              "| Vulli Sophie the Giraffe T... | I was a little skeptical o... |  5.0   |\n",
              "| Vulli Sophie the Giraffe T... | I have been reading about ... |  5.0   |\n",
              "| Vulli Sophie the Giraffe T... | My neice loves her sophie ... |  5.0   |\n",
              "| Vulli Sophie the Giraffe T... | What a friendly face!  And... |  5.0   |\n",
              "| Vulli Sophie the Giraffe T... | We got this just for my so... |  5.0   |\n",
              "| Vulli Sophie the Giraffe T... | My baby seems to like this... |  3.0   |\n",
              "+-------------------------------+-------------------------------+--------+\n",
              "+-------------------------------+---------------------+\n",
              "|           word_count          | predicted_sentiment |\n",
              "+-------------------------------+---------------------+\n",
              "| {'purchase': 1.0, 'teethin... |  0.9993655365682024 |\n",
              "| {'a': 1.0, 'is': 1.0, 'whe... |  0.9998633791689578 |\n",
              "| {'made': 1.0, 'of': 1.0, '... |  0.2545268198204508 |\n",
              "| {'another': 1.0, 'out': 1.... |  0.9165688083938922 |\n",
              "| {'disappointed': 1.0, 'wil... |  0.6855768206018308 |\n",
              "| {'late': 1.0, 'perfect': 1... |   0.99999994452112  |\n",
              "| {'delight': 1.0, 'in': 1.0... |  0.997935118109446  |\n",
              "| {'inside': 1.0, 'water': 1... |  0.999974500483435  |\n",
              "| {'its': 1.0, 'fine': 1.0, ... |  0.9460144428390671 |\n",
              "| {'off': 1.0, 'have': 2.0, ... |  0.3830113614308857 |\n",
              "+-------------------------------+---------------------+\n",
              "[10 rows x 5 columns]"
            ]
          },
          "metadata": {
            "tags": []
          },
          "execution_count": 82
        }
      ]
    },
    {
      "cell_type": "markdown",
      "metadata": {
        "id": "w5nr9-kv3ceN"
      },
      "source": [
        "Sort the reviews based on predicted sentiment and explore"
      ]
    },
    {
      "cell_type": "code",
      "metadata": {
        "id": "j58iSfIJ3TSj"
      },
      "source": [
        "giraffe_reviews = giraffe_reviews.sort('predicted_sentiment', ascending=False)"
      ],
      "execution_count": 83,
      "outputs": []
    },
    {
      "cell_type": "code",
      "metadata": {
        "colab": {
          "base_uri": "https://localhost:8080/",
          "height": 415
        },
        "id": "bt8vLqa05iw8",
        "outputId": "9d00624e-4b6c-4c87-ceb2-a84dd8544526"
      },
      "source": [
        "giraffe_reviews.head()"
      ],
      "execution_count": 84,
      "outputs": [
        {
          "output_type": "execute_result",
          "data": {
            "text/html": [
              "<div style=\"max-height:1000px;max-width:1500px;overflow:auto;\"><table frame=\"box\" rules=\"cols\">\n",
              "    <tr>\n",
              "        <th style=\"padding-left: 1em; padding-right: 1em; text-align: center\">name</th>\n",
              "        <th style=\"padding-left: 1em; padding-right: 1em; text-align: center\">review</th>\n",
              "        <th style=\"padding-left: 1em; padding-right: 1em; text-align: center\">rating</th>\n",
              "        <th style=\"padding-left: 1em; padding-right: 1em; text-align: center\">word_count</th>\n",
              "        <th style=\"padding-left: 1em; padding-right: 1em; text-align: center\">predicted_sentiment</th>\n",
              "    </tr>\n",
              "    <tr>\n",
              "        <td style=\"padding-left: 1em; padding-right: 1em; text-align: center; vertical-align: top\">Vulli Sophie the Giraffe<br>Teether ...</td>\n",
              "        <td style=\"padding-left: 1em; padding-right: 1em; text-align: center; vertical-align: top\">I&#x27;ll be honest...I bought<br>this toy because all the ...</td>\n",
              "        <td style=\"padding-left: 1em; padding-right: 1em; text-align: center; vertical-align: top\">4.0</td>\n",
              "        <td style=\"padding-left: 1em; padding-right: 1em; text-align: center; vertical-align: top\">{&#x27;around&#x27;: 1.0,<br>&#x27;explore&#x27;: 1.0, &#x27;they&#x27;: ...</td>\n",
              "        <td style=\"padding-left: 1em; padding-right: 1em; text-align: center; vertical-align: top\">1.0</td>\n",
              "    </tr>\n",
              "    <tr>\n",
              "        <td style=\"padding-left: 1em; padding-right: 1em; text-align: center; vertical-align: top\">Vulli Sophie the Giraffe<br>Teether ...</td>\n",
              "        <td style=\"padding-left: 1em; padding-right: 1em; text-align: center; vertical-align: top\">As a mother of 16month<br>old twins; I bought ...</td>\n",
              "        <td style=\"padding-left: 1em; padding-right: 1em; text-align: center; vertical-align: top\">5.0</td>\n",
              "        <td style=\"padding-left: 1em; padding-right: 1em; text-align: center; vertical-align: top\">{&#x27;will&#x27;: 1.0, &#x27;15months&#x27;:<br>1.0, &#x27;would&#x27;: 2.0, ...</td>\n",
              "        <td style=\"padding-left: 1em; padding-right: 1em; text-align: center; vertical-align: top\">1.0</td>\n",
              "    </tr>\n",
              "    <tr>\n",
              "        <td style=\"padding-left: 1em; padding-right: 1em; text-align: center; vertical-align: top\">Vulli Sophie the Giraffe<br>Teether ...</td>\n",
              "        <td style=\"padding-left: 1em; padding-right: 1em; text-align: center; vertical-align: top\">Sophie, oh Sophie, your<br>time has come. My ...</td>\n",
              "        <td style=\"padding-left: 1em; padding-right: 1em; text-align: center; vertical-align: top\">5.0</td>\n",
              "        <td style=\"padding-left: 1em; padding-right: 1em; text-align: center; vertical-align: top\">{&#x27;11&#x27;: 1.0, &#x27;prisrob&#x27;:<br>1.0, &#x27;12&#x27;: 1.0, &#x27;who&#x27;: ...</td>\n",
              "        <td style=\"padding-left: 1em; padding-right: 1em; text-align: center; vertical-align: top\">1.0</td>\n",
              "    </tr>\n",
              "    <tr>\n",
              "        <td style=\"padding-left: 1em; padding-right: 1em; text-align: center; vertical-align: top\">Vulli Sophie the Giraffe<br>Teether ...</td>\n",
              "        <td style=\"padding-left: 1em; padding-right: 1em; text-align: center; vertical-align: top\">We got this little<br>giraffe as a gift from a ...</td>\n",
              "        <td style=\"padding-left: 1em; padding-right: 1em; text-align: center; vertical-align: top\">5.0</td>\n",
              "        <td style=\"padding-left: 1em; padding-right: 1em; text-align: center; vertical-align: top\">{&#x27;out&#x27;: 1.0, &#x27;would&#x27;:<br>1.0, &#x27;ve&#x27;: 1.0, &#x27;enou ...</td>\n",
              "        <td style=\"padding-left: 1em; padding-right: 1em; text-align: center; vertical-align: top\">0.9999999999998377</td>\n",
              "    </tr>\n",
              "    <tr>\n",
              "        <td style=\"padding-left: 1em; padding-right: 1em; text-align: center; vertical-align: top\">Vulli Sophie the Giraffe<br>Teether ...</td>\n",
              "        <td style=\"padding-left: 1em; padding-right: 1em; text-align: center; vertical-align: top\">As every mom knows, you<br>always want to give your ...</td>\n",
              "        <td style=\"padding-left: 1em; padding-right: 1em; text-align: center; vertical-align: top\">5.0</td>\n",
              "        <td style=\"padding-left: 1em; padding-right: 1em; text-align: center; vertical-align: top\">{&#x27;whether&#x27;: 1.0,<br>&#x27;neutral&#x27;: 1.0, &#x27;gend ...</td>\n",
              "        <td style=\"padding-left: 1em; padding-right: 1em; text-align: center; vertical-align: top\">0.9999999999998284</td>\n",
              "    </tr>\n",
              "    <tr>\n",
              "        <td style=\"padding-left: 1em; padding-right: 1em; text-align: center; vertical-align: top\">Vulli Sophie the Giraffe<br>Teether ...</td>\n",
              "        <td style=\"padding-left: 1em; padding-right: 1em; text-align: center; vertical-align: top\">My Mom-in-Law bought<br>Sophie for my son whe ...</td>\n",
              "        <td style=\"padding-left: 1em; padding-right: 1em; text-align: center; vertical-align: top\">5.0</td>\n",
              "        <td style=\"padding-left: 1em; padding-right: 1em; text-align: center; vertical-align: top\">{&#x27;penny&#x27;: 1.0, &#x27;little&#x27;:<br>1.0, &#x27;perfect&#x27;: 1.0, ...</td>\n",
              "        <td style=\"padding-left: 1em; padding-right: 1em; text-align: center; vertical-align: top\">0.9999999999997958</td>\n",
              "    </tr>\n",
              "    <tr>\n",
              "        <td style=\"padding-left: 1em; padding-right: 1em; text-align: center; vertical-align: top\">Vulli Sophie the Giraffe<br>Teether ...</td>\n",
              "        <td style=\"padding-left: 1em; padding-right: 1em; text-align: center; vertical-align: top\">My 4 month old son is<br>teething, and I&#x27;ve tried ...</td>\n",
              "        <td style=\"padding-left: 1em; padding-right: 1em; text-align: center; vertical-align: top\">4.0</td>\n",
              "        <td style=\"padding-left: 1em; padding-right: 1em; text-align: center; vertical-align: top\">{&#x27;worth&#x27;: 1.0, &#x27;works&#x27;:<br>1.0, &#x27;teether&#x27;: 1.0, ...</td>\n",
              "        <td style=\"padding-left: 1em; padding-right: 1em; text-align: center; vertical-align: top\">0.9999999999994914</td>\n",
              "    </tr>\n",
              "    <tr>\n",
              "        <td style=\"padding-left: 1em; padding-right: 1em; text-align: center; vertical-align: top\">Vulli Sophie the Giraffe<br>Teether ...</td>\n",
              "        <td style=\"padding-left: 1em; padding-right: 1em; text-align: center; vertical-align: top\">Let me just start off by<br>addressing the choking ...</td>\n",
              "        <td style=\"padding-left: 1em; padding-right: 1em; text-align: center; vertical-align: top\">5.0</td>\n",
              "        <td style=\"padding-left: 1em; padding-right: 1em; text-align: center; vertical-align: top\">{&#x27;question&#x27;: 1.0, &#x27;must&#x27;:<br>1.0, &#x27;overall&#x27;: 1.0, ...</td>\n",
              "        <td style=\"padding-left: 1em; padding-right: 1em; text-align: center; vertical-align: top\">0.9999999999941254</td>\n",
              "    </tr>\n",
              "    <tr>\n",
              "        <td style=\"padding-left: 1em; padding-right: 1em; text-align: center; vertical-align: top\">Vulli Sophie the Giraffe<br>Teether ...</td>\n",
              "        <td style=\"padding-left: 1em; padding-right: 1em; text-align: center; vertical-align: top\">I&#x27;m not sure why Sophie<br>is such a hit with the ...</td>\n",
              "        <td style=\"padding-left: 1em; padding-right: 1em; text-align: center; vertical-align: top\">4.0</td>\n",
              "        <td style=\"padding-left: 1em; padding-right: 1em; text-align: center; vertical-align: top\">{&#x27;makers&#x27;: 1.0, &#x27;or&#x27;:<br>1.0, &#x27;take&#x27;: 1.0, &#x27;can&#x27;: ...</td>\n",
              "        <td style=\"padding-left: 1em; padding-right: 1em; text-align: center; vertical-align: top\">0.999999999987423</td>\n",
              "    </tr>\n",
              "    <tr>\n",
              "        <td style=\"padding-left: 1em; padding-right: 1em; text-align: center; vertical-align: top\">Vulli Sophie the Giraffe<br>Teether ...</td>\n",
              "        <td style=\"padding-left: 1em; padding-right: 1em; text-align: center; vertical-align: top\">I admit, I didn&#x27;t get<br>Sophie the Giraffe at ...</td>\n",
              "        <td style=\"padding-left: 1em; padding-right: 1em; text-align: center; vertical-align: top\">4.0</td>\n",
              "        <td style=\"padding-left: 1em; padding-right: 1em; text-align: center; vertical-align: top\">{&#x27;dye&#x27;: 1.0, &#x27;of&#x27;: 1.0,<br>&#x27;cause&#x27;: 1.0, &#x27;fade&#x27;: ...</td>\n",
              "        <td style=\"padding-left: 1em; padding-right: 1em; text-align: center; vertical-align: top\">0.9999999999829475</td>\n",
              "    </tr>\n",
              "</table>\n",
              "[10 rows x 5 columns]<br/>\n",
              "</div>"
            ],
            "text/plain": [
              "Columns:\n",
              "\tname\tstr\n",
              "\treview\tstr\n",
              "\trating\tfloat\n",
              "\tword_count\tdict\n",
              "\tpredicted_sentiment\tfloat\n",
              "\n",
              "Rows: 10\n",
              "\n",
              "Data:\n",
              "+-------------------------------+-------------------------------+--------+\n",
              "|              name             |             review            | rating |\n",
              "+-------------------------------+-------------------------------+--------+\n",
              "| Vulli Sophie the Giraffe T... | I'll be honest...I bought ... |  4.0   |\n",
              "| Vulli Sophie the Giraffe T... | As a mother of 16month old... |  5.0   |\n",
              "| Vulli Sophie the Giraffe T... | Sophie, oh Sophie, your ti... |  5.0   |\n",
              "| Vulli Sophie the Giraffe T... | We got this little giraffe... |  5.0   |\n",
              "| Vulli Sophie the Giraffe T... | As every mom knows, you al... |  5.0   |\n",
              "| Vulli Sophie the Giraffe T... | My Mom-in-Law bought Sophi... |  5.0   |\n",
              "| Vulli Sophie the Giraffe T... | My 4 month old son is teet... |  4.0   |\n",
              "| Vulli Sophie the Giraffe T... | Let me just start off by a... |  5.0   |\n",
              "| Vulli Sophie the Giraffe T... | I'm not sure why Sophie is... |  4.0   |\n",
              "| Vulli Sophie the Giraffe T... | I admit, I didn't get Soph... |  4.0   |\n",
              "+-------------------------------+-------------------------------+--------+\n",
              "+-------------------------------+---------------------+\n",
              "|           word_count          | predicted_sentiment |\n",
              "+-------------------------------+---------------------+\n",
              "| {'around': 1.0, 'explore':... |         1.0         |\n",
              "| {'will': 1.0, '15months': ... |         1.0         |\n",
              "| {'11': 1.0, 'prisrob': 1.0... |         1.0         |\n",
              "| {'out': 1.0, 'would': 1.0,... |  0.9999999999998377 |\n",
              "| {'whether': 1.0, 'neutral'... |  0.9999999999998284 |\n",
              "| {'penny': 1.0, 'little': 1... |  0.9999999999997958 |\n",
              "| {'worth': 1.0, 'works': 1.... |  0.9999999999994914 |\n",
              "| {'question': 1.0, 'must': ... |  0.9999999999941254 |\n",
              "| {'makers': 1.0, 'or': 1.0,... |  0.999999999987423  |\n",
              "| {'dye': 1.0, 'of': 1.0, 'c... |  0.9999999999829475 |\n",
              "+-------------------------------+---------------------+\n",
              "[10 rows x 5 columns]"
            ]
          },
          "metadata": {
            "tags": []
          },
          "execution_count": 84
        }
      ]
    },
    {
      "cell_type": "code",
      "metadata": {
        "colab": {
          "base_uri": "https://localhost:8080/",
          "height": 120
        },
        "id": "1LTSDOhB5lJ7",
        "outputId": "c329a502-b7c5-42ca-88a3-d8ea0d2fc552"
      },
      "source": [
        "giraffe_reviews[0]['review']"
      ],
      "execution_count": 85,
      "outputs": [
        {
          "output_type": "execute_result",
          "data": {
            "application/vnd.google.colaboratory.intrinsic+json": {
              "type": "string"
            },
            "text/plain": [
              "'I\\'ll be honest...I bought this toy because all the hip parents seem to have one too and I wanted to be a part of the \"hip parent\" crowd. The price-tag was somewhat of a deterent but I prevailed and purchased this teether for my daughter.At first, Lily didn\\'t know what to make of of Sophie and showed little interest in the polka-dotted creature. I continued to introduce Lily to Sophie and kept the toy in the carrier so that it was on-hand during transitions. Eventually, Lily discovered what a wonderful experience it was to gnaw on the hooves and ears and these two have never been far apart since.Lily really enjoys gumming all the different parts of Sophie like no other teether we have. The size of the toy is great as it is somewhat substantial and so easy for a little one to grasp and hold onto. Lily really enjoys hearing Sophie squeak and will smile whenever Sophie makes a noise or pops her head up from Mommy\\'s lap to say hello.People have stopped and commented on Sophie and to them I have stated, \"It\\'s worth every penny.\" I can\\'t imagine not having this toy, it has become part and parcel with Lily\\'s daily existence. She is soothed by it, loves to chew on it and seems endlessly entertained by it.Someday, Sophie will have earned her retirement. She will relocate to Lily\\'s keepsake box. But until then, this little French Giraffe will embark on many adventures alongside my daughter as they explore this big world around them.'"
            ]
          },
          "metadata": {
            "tags": []
          },
          "execution_count": 85
        }
      ]
    },
    {
      "cell_type": "code",
      "metadata": {
        "colab": {
          "base_uri": "https://localhost:8080/",
          "height": 120
        },
        "id": "kHjJdH5C5yhK",
        "outputId": "02dc4b89-6fb9-4bd3-d102-e5ac8d932b00"
      },
      "source": [
        "giraffe_reviews[1]['review']"
      ],
      "execution_count": 86,
      "outputs": [
        {
          "output_type": "execute_result",
          "data": {
            "application/vnd.google.colaboratory.intrinsic+json": {
              "type": "string"
            },
            "text/plain": [
              "\"As a mother of 16month old twins; I bought Sophie [1 for each, of course] when they were 4 months old after careful reading of all reviews. I heard great things about Sophie and wanted to give her a try. At 4 months babies can't do much more than grasp and semi gnaw on Sophie. For many months I had to squeeze Sophie myself [which I personally enjoyed] and set it on their laps. They LOVED Sophie. The squeak is LOUD and sounds exactly like a dog's squeaky chew toy, just for those who are wondering.As they grew and their motor skills developed to each milestone, Sophie gained more and more individual babytime. The twins were able to squeeze her themselves and chew on her around the clock. They love to throw her, stretch her, squeeze her, chew on her, drool on her... you name it, they have done it. One of the two Sophie's took an extended vacation out in the back yard [unbeknownst to me] and once found, a little water had her looking like a champ again... ready to face another day of playtime.They still enjoy squeezing Sophie [2 at once can do a number on your ears though].Over all: Sophie is durable, soft rubber, easily squeezable, and a very cute toy.With over a year of teething twins, Sophie has not faded, or been worn down. No stretching, or flaking of paint or rubber.Don't be lead astray by bad reviews. This is a GREAT product.The age range I would recommend would be from 6months - 15months. That is where Sophie will get the most use out of your little one.\""
            ]
          },
          "metadata": {
            "tags": []
          },
          "execution_count": 86
        }
      ]
    },
    {
      "cell_type": "markdown",
      "metadata": {
        "id": "zkho_oMI6Z0-"
      },
      "source": [
        "Most negative review"
      ]
    },
    {
      "cell_type": "code",
      "metadata": {
        "colab": {
          "base_uri": "https://localhost:8080/",
          "height": 626
        },
        "id": "q-lTD1v46Gjq",
        "outputId": "0a385452-50ac-4202-eada-c92e56e2bfb1"
      },
      "source": [
        "giraffe_reviews.tail()"
      ],
      "execution_count": 87,
      "outputs": [
        {
          "output_type": "execute_result",
          "data": {
            "text/html": [
              "<div style=\"max-height:1000px;max-width:1500px;overflow:auto;\"><table frame=\"box\" rules=\"cols\">\n",
              "    <tr>\n",
              "        <th style=\"padding-left: 1em; padding-right: 1em; text-align: center\">name</th>\n",
              "        <th style=\"padding-left: 1em; padding-right: 1em; text-align: center\">review</th>\n",
              "        <th style=\"padding-left: 1em; padding-right: 1em; text-align: center\">rating</th>\n",
              "        <th style=\"padding-left: 1em; padding-right: 1em; text-align: center\">word_count</th>\n",
              "    </tr>\n",
              "    <tr>\n",
              "        <td style=\"padding-left: 1em; padding-right: 1em; text-align: center; vertical-align: top\">Vulli Sophie the Giraffe<br>Teether ...</td>\n",
              "        <td style=\"padding-left: 1em; padding-right: 1em; text-align: center; vertical-align: top\">My 7 1/2 month old<br>grandbaby was sittng up ...</td>\n",
              "        <td style=\"padding-left: 1em; padding-right: 1em; text-align: center; vertical-align: top\">1.0</td>\n",
              "        <td style=\"padding-left: 1em; padding-right: 1em; text-align: center; vertical-align: top\">{&#x27;sopie&#x27;: 1.0, &#x27;with&#x27;:<br>1.0, &#x27;be&#x27;: 1.0, &#x27;shou ...</td>\n",
              "    </tr>\n",
              "    <tr>\n",
              "        <td style=\"padding-left: 1em; padding-right: 1em; text-align: center; vertical-align: top\">Vulli Sophie the Giraffe<br>Teether ...</td>\n",
              "        <td style=\"padding-left: 1em; padding-right: 1em; text-align: center; vertical-align: top\">I was so looking forward<br>to getting this for my ...</td>\n",
              "        <td style=\"padding-left: 1em; padding-right: 1em; text-align: center; vertical-align: top\">1.0</td>\n",
              "        <td style=\"padding-left: 1em; padding-right: 1em; text-align: center; vertical-align: top\">{&#x27;amazon&#x27;: 1.0, &#x27;back&#x27;:<br>1.0, &#x27;by&#x27;: 1.0, &#x27;more&#x27;: ...</td>\n",
              "    </tr>\n",
              "    <tr>\n",
              "        <td style=\"padding-left: 1em; padding-right: 1em; text-align: center; vertical-align: top\">Vulli Sophie the Giraffe<br>Teether ...</td>\n",
              "        <td style=\"padding-left: 1em; padding-right: 1em; text-align: center; vertical-align: top\">Received the product and<br>smells like cheap rub ...</td>\n",
              "        <td style=\"padding-left: 1em; padding-right: 1em; text-align: center; vertical-align: top\">1.0</td>\n",
              "        <td style=\"padding-left: 1em; padding-right: 1em; text-align: center; vertical-align: top\">{&#x27;was&#x27;: 1.0, &#x27;as&#x27;: 1.0,<br>&#x27;still&#x27;: 1.0, &#x27;but&#x27;:  ...</td>\n",
              "    </tr>\n",
              "    <tr>\n",
              "        <td style=\"padding-left: 1em; padding-right: 1em; text-align: center; vertical-align: top\">Vulli Sophie the Giraffe<br>Teether ...</td>\n",
              "        <td style=\"padding-left: 1em; padding-right: 1em; text-align: center; vertical-align: top\">I got one of these as a<br>showe gift that my baby ...</td>\n",
              "        <td style=\"padding-left: 1em; padding-right: 1em; text-align: center; vertical-align: top\">1.0</td>\n",
              "        <td style=\"padding-left: 1em; padding-right: 1em; text-align: center; vertical-align: top\">{&#x27;typical&#x27;: 1.0, &#x27;paint&#x27;:<br>1.0, &#x27;came&#x27;: 1.0, &#x27;mi ...</td>\n",
              "    </tr>\n",
              "    <tr>\n",
              "        <td style=\"padding-left: 1em; padding-right: 1em; text-align: center; vertical-align: top\">Vulli Sophie the Giraffe<br>Teether ...</td>\n",
              "        <td style=\"padding-left: 1em; padding-right: 1em; text-align: center; vertical-align: top\">When we first got it I<br>thought did my ...</td>\n",
              "        <td style=\"padding-left: 1em; padding-right: 1em; text-align: center; vertical-align: top\">2.0</td>\n",
              "        <td style=\"padding-left: 1em; padding-right: 1em; text-align: center; vertical-align: top\">{&#x27;mom&#x27;: 1.0, &#x27;teethers&#x27;:<br>1.0, &#x27;btw&#x27;: 1.0, &#x27;oth ...</td>\n",
              "    </tr>\n",
              "    <tr>\n",
              "        <td style=\"padding-left: 1em; padding-right: 1em; text-align: center; vertical-align: top\">Vulli Sophie the Giraffe<br>Teether ...</td>\n",
              "        <td style=\"padding-left: 1em; padding-right: 1em; text-align: center; vertical-align: top\">When I received this the<br>paint was peeling off in ...</td>\n",
              "        <td style=\"padding-left: 1em; padding-right: 1em; text-align: center; vertical-align: top\">1.0</td>\n",
              "        <td style=\"padding-left: 1em; padding-right: 1em; text-align: center; vertical-align: top\">{&#x27;risk&#x27;: 1.0, &#x27;but&#x27;: 1.0,<br>&#x27;help&#x27;: 1.0, &#x27;terrible&#x27;: ...</td>\n",
              "    </tr>\n",
              "    <tr>\n",
              "        <td style=\"padding-left: 1em; padding-right: 1em; text-align: center; vertical-align: top\">Vulli Sophie the Giraffe<br>Teether ...</td>\n",
              "        <td style=\"padding-left: 1em; padding-right: 1em; text-align: center; vertical-align: top\">&quot;Sophie the Giraffe&quot; has<br>tested positive for ...</td>\n",
              "        <td style=\"padding-left: 1em; padding-right: 1em; text-align: center; vertical-align: top\">1.0</td>\n",
              "        <td style=\"padding-left: 1em; padding-right: 1em; text-align: center; vertical-align: top\">{&#x27;ingest&#x27;: 1.0, &#x27;they&#x27;:<br>1.0, &#x27;naturally&#x27;: 1.0, ...</td>\n",
              "    </tr>\n",
              "    <tr>\n",
              "        <td style=\"padding-left: 1em; padding-right: 1em; text-align: center; vertical-align: top\">Vulli Sophie the Giraffe<br>Teether ...</td>\n",
              "        <td style=\"padding-left: 1em; padding-right: 1em; text-align: center; vertical-align: top\">My son (now 2.5) LOVED<br>his Sophie, and I bought ...</td>\n",
              "        <td style=\"padding-left: 1em; padding-right: 1em; text-align: center; vertical-align: top\">1.0</td>\n",
              "        <td style=\"padding-left: 1em; padding-right: 1em; text-align: center; vertical-align: top\">{&#x27;exaggerated&#x27;: 1.0,<br>&#x27;are&#x27;: 1.0, &#x27;a&#x27;: 3.0, ...</td>\n",
              "    </tr>\n",
              "    <tr>\n",
              "        <td style=\"padding-left: 1em; padding-right: 1em; text-align: center; vertical-align: top\">Vulli Sophie the Giraffe<br>Teether ...</td>\n",
              "        <td style=\"padding-left: 1em; padding-right: 1em; text-align: center; vertical-align: top\">I wanted to love this<br>product and was excited ...</td>\n",
              "        <td style=\"padding-left: 1em; padding-right: 1em; text-align: center; vertical-align: top\">1.0</td>\n",
              "        <td style=\"padding-left: 1em; padding-right: 1em; text-align: center; vertical-align: top\">{&#x27;risk&#x27;: 1.0, &#x27;ready&#x27;:<br>1.0, &#x27;bummed&#x27;: 1.0, ...</td>\n",
              "    </tr>\n",
              "    <tr>\n",
              "        <td style=\"padding-left: 1em; padding-right: 1em; text-align: center; vertical-align: top\">Vulli Sophie the Giraffe<br>Teether ...</td>\n",
              "        <td style=\"padding-left: 1em; padding-right: 1em; text-align: center; vertical-align: top\">This children&#x27;s toy is<br>nostalgic and very cute. ...</td>\n",
              "        <td style=\"padding-left: 1em; padding-right: 1em; text-align: center; vertical-align: top\">1.0</td>\n",
              "        <td style=\"padding-left: 1em; padding-right: 1em; text-align: center; vertical-align: top\">{&#x27;amazon&#x27;: 1.0, &#x27;from&#x27;:<br>1.0, &#x27;one&#x27;: 1.0, &#x27;by&#x27;: ...</td>\n",
              "    </tr>\n",
              "</table>\n",
              "<table frame=\"box\" rules=\"cols\">\n",
              "    <tr>\n",
              "        <th style=\"padding-left: 1em; padding-right: 1em; text-align: center\">predicted_sentiment</th>\n",
              "    </tr>\n",
              "    <tr>\n",
              "        <td style=\"padding-left: 1em; padding-right: 1em; text-align: center; vertical-align: top\">1.9110740198562814e-06</td>\n",
              "    </tr>\n",
              "    <tr>\n",
              "        <td style=\"padding-left: 1em; padding-right: 1em; text-align: center; vertical-align: top\">6.547801688279108e-07</td>\n",
              "    </tr>\n",
              "    <tr>\n",
              "        <td style=\"padding-left: 1em; padding-right: 1em; text-align: center; vertical-align: top\">3.8642363980209214e-07</td>\n",
              "    </tr>\n",
              "    <tr>\n",
              "        <td style=\"padding-left: 1em; padding-right: 1em; text-align: center; vertical-align: top\">2.2378225168086072e-07</td>\n",
              "    </tr>\n",
              "    <tr>\n",
              "        <td style=\"padding-left: 1em; padding-right: 1em; text-align: center; vertical-align: top\">1.9353955284122682e-07</td>\n",
              "    </tr>\n",
              "    <tr>\n",
              "        <td style=\"padding-left: 1em; padding-right: 1em; text-align: center; vertical-align: top\">1.6900753982992343e-07</td>\n",
              "    </tr>\n",
              "    <tr>\n",
              "        <td style=\"padding-left: 1em; padding-right: 1em; text-align: center; vertical-align: top\">1.1748826795638083e-07</td>\n",
              "    </tr>\n",
              "    <tr>\n",
              "        <td style=\"padding-left: 1em; padding-right: 1em; text-align: center; vertical-align: top\">5.364933427913586e-11</td>\n",
              "    </tr>\n",
              "    <tr>\n",
              "        <td style=\"padding-left: 1em; padding-right: 1em; text-align: center; vertical-align: top\">3.1090352713479795e-13</td>\n",
              "    </tr>\n",
              "    <tr>\n",
              "        <td style=\"padding-left: 1em; padding-right: 1em; text-align: center; vertical-align: top\">4.1192696402932256e-15</td>\n",
              "    </tr>\n",
              "</table>\n",
              "[10 rows x 5 columns]<br/>\n",
              "</div>"
            ],
            "text/plain": [
              "Columns:\n",
              "\tname\tstr\n",
              "\treview\tstr\n",
              "\trating\tfloat\n",
              "\tword_count\tdict\n",
              "\tpredicted_sentiment\tfloat\n",
              "\n",
              "Rows: 10\n",
              "\n",
              "Data:\n",
              "+-------------------------------+-------------------------------+--------+\n",
              "|              name             |             review            | rating |\n",
              "+-------------------------------+-------------------------------+--------+\n",
              "| Vulli Sophie the Giraffe T... | My 7 1/2 month old grandba... |  1.0   |\n",
              "| Vulli Sophie the Giraffe T... | I was so looking forward t... |  1.0   |\n",
              "| Vulli Sophie the Giraffe T... | Received the product and s... |  1.0   |\n",
              "| Vulli Sophie the Giraffe T... | I got one of these as a sh... |  1.0   |\n",
              "| Vulli Sophie the Giraffe T... | When we first got it I tho... |  2.0   |\n",
              "| Vulli Sophie the Giraffe T... | When I received this the p... |  1.0   |\n",
              "| Vulli Sophie the Giraffe T... | \"Sophie the Giraffe\" has t... |  1.0   |\n",
              "| Vulli Sophie the Giraffe T... | My son (now 2.5) LOVED his... |  1.0   |\n",
              "| Vulli Sophie the Giraffe T... | I wanted to love this prod... |  1.0   |\n",
              "| Vulli Sophie the Giraffe T... | This children's toy is nos... |  1.0   |\n",
              "+-------------------------------+-------------------------------+--------+\n",
              "+-------------------------------+------------------------+\n",
              "|           word_count          |  predicted_sentiment   |\n",
              "+-------------------------------+------------------------+\n",
              "| {'sopie': 1.0, 'with': 1.0... | 1.9110740198562814e-06 |\n",
              "| {'amazon': 1.0, 'back': 1.... | 6.547801688279108e-07  |\n",
              "| {'was': 1.0, 'as': 1.0, 's... | 3.8642363980209214e-07 |\n",
              "| {'typical': 1.0, 'paint': ... | 2.2378225168086072e-07 |\n",
              "| {'mom': 1.0, 'teethers': 1... | 1.9353955284122682e-07 |\n",
              "| {'risk': 1.0, 'but': 1.0, ... | 1.6900753982992343e-07 |\n",
              "| {'ingest': 1.0, 'they': 1.... | 1.1748826795638083e-07 |\n",
              "| {'exaggerated': 1.0, 'are'... | 5.364933427913586e-11  |\n",
              "| {'risk': 1.0, 'ready': 1.0... | 3.1090352713479795e-13 |\n",
              "| {'amazon': 1.0, 'from': 1.... | 4.1192696402932256e-15 |\n",
              "+-------------------------------+------------------------+\n",
              "[10 rows x 5 columns]"
            ]
          },
          "metadata": {
            "tags": []
          },
          "execution_count": 87
        }
      ]
    },
    {
      "cell_type": "code",
      "metadata": {
        "colab": {
          "base_uri": "https://localhost:8080/",
          "height": 86
        },
        "id": "_QuTjS0A6eAD",
        "outputId": "d109e3b3-cbdb-472e-c4a1-9b513d3b1a39"
      },
      "source": [
        "#Most negative\n",
        "giraffe_reviews[-1]['review']"
      ],
      "execution_count": 88,
      "outputs": [
        {
          "output_type": "execute_result",
          "data": {
            "application/vnd.google.colaboratory.intrinsic+json": {
              "type": "string"
            },
            "text/plain": [
              "\"This children's toy is nostalgic and very cute. However, there is a distinct rubber smell and a very odd taste, yes I tried it, that my baby did not enjoy. Also, if it is soiled it is extremely difficult to clean as the rubber is a kind of porus material and does not clean well. The final thing is the squeaking device inside which stopped working after the first couple of days. I returned this item feeling I had overpaid for a toy that was defective and did not meet my expectations. Please do not be swayed by the cute packaging and hype surounding it as I was. One more thing, I was given a full refund from Amazon without any problem.\""
            ]
          },
          "metadata": {
            "tags": []
          },
          "execution_count": 88
        }
      ]
    },
    {
      "cell_type": "code",
      "metadata": {
        "colab": {
          "base_uri": "https://localhost:8080/",
          "height": 120
        },
        "id": "RbY4TTqW6kwS",
        "outputId": "feff9df0-8ce5-429c-8884-e6686c7c16da"
      },
      "source": [
        "# 2nd most negative\n",
        "giraffe_reviews[-2]['review']"
      ],
      "execution_count": 89,
      "outputs": [
        {
          "output_type": "execute_result",
          "data": {
            "application/vnd.google.colaboratory.intrinsic+json": {
              "type": "string"
            },
            "text/plain": [
              "'I wanted to love this product and was excited to buy it when I became pregnant but am now hesitant to let my baby use it after reading about the recall in Europe. Apparently, as I understand it, their toxin standards of measurement are lower than ours so they have not been recalled here (apparently we are OK with low levels of nitrates in the toys our children put in their mouths, but Europeans are not...hmmm)...Be that as it may, toxins registering even CLOSE to a dangerous level made me nervous about using. After digging around online I did discover that the company claims to have changed the product after a certain date and lists manufacturing codes so you can check yours (those listed were made after a certain date and are said to be safer). Sadly mine was not made after the &#34;improved&#34; date but I could not return it because there was no formal recall in our country. I considered returning it and hunting for one with an approved manufacturing date but man that was just too much work. Bummed but not ready to take a risk with my baby.'"
            ]
          },
          "metadata": {
            "tags": []
          },
          "execution_count": 89
        }
      ]
    },
    {
      "cell_type": "code",
      "metadata": {
        "id": "VZJARqHl6yob"
      },
      "source": [
        ""
      ],
      "execution_count": 89,
      "outputs": []
    },
    {
      "cell_type": "markdown",
      "metadata": {
        "id": "tmgHAv0n7X16"
      },
      "source": [
        "Assignment"
      ]
    },
    {
      "cell_type": "code",
      "metadata": {
        "colab": {
          "base_uri": "https://localhost:8080/",
          "height": 449
        },
        "id": "Yxnt1tMyDgsX",
        "outputId": "a87124a0-f264-4245-c081-d644f9131b9b"
      },
      "source": [
        "products"
      ],
      "execution_count": 92,
      "outputs": [
        {
          "output_type": "execute_result",
          "data": {
            "text/html": [
              "<div style=\"max-height:1000px;max-width:1500px;overflow:auto;\"><table frame=\"box\" rules=\"cols\">\n",
              "    <tr>\n",
              "        <th style=\"padding-left: 1em; padding-right: 1em; text-align: center\">name</th>\n",
              "        <th style=\"padding-left: 1em; padding-right: 1em; text-align: center\">review</th>\n",
              "        <th style=\"padding-left: 1em; padding-right: 1em; text-align: center\">rating</th>\n",
              "        <th style=\"padding-left: 1em; padding-right: 1em; text-align: center\">word_count</th>\n",
              "        <th style=\"padding-left: 1em; padding-right: 1em; text-align: center\">sentiment</th>\n",
              "    </tr>\n",
              "    <tr>\n",
              "        <td style=\"padding-left: 1em; padding-right: 1em; text-align: center; vertical-align: top\">Planetwise Wipe Pouch</td>\n",
              "        <td style=\"padding-left: 1em; padding-right: 1em; text-align: center; vertical-align: top\">it came early and was not<br>disappointed. i love ...</td>\n",
              "        <td style=\"padding-left: 1em; padding-right: 1em; text-align: center; vertical-align: top\">5.0</td>\n",
              "        <td style=\"padding-left: 1em; padding-right: 1em; text-align: center; vertical-align: top\">{&#x27;recommend&#x27;: 1.0,<br>&#x27;highly&#x27;: 1.0, ...</td>\n",
              "        <td style=\"padding-left: 1em; padding-right: 1em; text-align: center; vertical-align: top\">1</td>\n",
              "    </tr>\n",
              "    <tr>\n",
              "        <td style=\"padding-left: 1em; padding-right: 1em; text-align: center; vertical-align: top\">Annas Dream Full Quilt<br>with 2 Shams ...</td>\n",
              "        <td style=\"padding-left: 1em; padding-right: 1em; text-align: center; vertical-align: top\">Very soft and comfortable<br>and warmer than it ...</td>\n",
              "        <td style=\"padding-left: 1em; padding-right: 1em; text-align: center; vertical-align: top\">5.0</td>\n",
              "        <td style=\"padding-left: 1em; padding-right: 1em; text-align: center; vertical-align: top\">{&#x27;quilt&#x27;: 1.0, &#x27;of&#x27;: 1.0,<br>&#x27;the&#x27;: 1.0, &#x27;than&#x27;: 1.0, ...</td>\n",
              "        <td style=\"padding-left: 1em; padding-right: 1em; text-align: center; vertical-align: top\">1</td>\n",
              "    </tr>\n",
              "    <tr>\n",
              "        <td style=\"padding-left: 1em; padding-right: 1em; text-align: center; vertical-align: top\">Stop Pacifier Sucking<br>without tears with ...</td>\n",
              "        <td style=\"padding-left: 1em; padding-right: 1em; text-align: center; vertical-align: top\">This is a product well<br>worth the purchase.  I ...</td>\n",
              "        <td style=\"padding-left: 1em; padding-right: 1em; text-align: center; vertical-align: top\">5.0</td>\n",
              "        <td style=\"padding-left: 1em; padding-right: 1em; text-align: center; vertical-align: top\">{&#x27;tool&#x27;: 1.0, &#x27;clever&#x27;:<br>1.0, &#x27;approach&#x27;: 2.0, ...</td>\n",
              "        <td style=\"padding-left: 1em; padding-right: 1em; text-align: center; vertical-align: top\">1</td>\n",
              "    </tr>\n",
              "    <tr>\n",
              "        <td style=\"padding-left: 1em; padding-right: 1em; text-align: center; vertical-align: top\">Stop Pacifier Sucking<br>without tears with ...</td>\n",
              "        <td style=\"padding-left: 1em; padding-right: 1em; text-align: center; vertical-align: top\">All of my kids have cried<br>non-stop when I tried to ...</td>\n",
              "        <td style=\"padding-left: 1em; padding-right: 1em; text-align: center; vertical-align: top\">5.0</td>\n",
              "        <td style=\"padding-left: 1em; padding-right: 1em; text-align: center; vertical-align: top\">{&#x27;rock&#x27;: 1.0, &#x27;many&#x27;:<br>1.0, &#x27;headaches&#x27;: 1.0, ...</td>\n",
              "        <td style=\"padding-left: 1em; padding-right: 1em; text-align: center; vertical-align: top\">1</td>\n",
              "    </tr>\n",
              "    <tr>\n",
              "        <td style=\"padding-left: 1em; padding-right: 1em; text-align: center; vertical-align: top\">Stop Pacifier Sucking<br>without tears with ...</td>\n",
              "        <td style=\"padding-left: 1em; padding-right: 1em; text-align: center; vertical-align: top\">When the Binky Fairy came<br>to our house, we didn&#x27;t ...</td>\n",
              "        <td style=\"padding-left: 1em; padding-right: 1em; text-align: center; vertical-align: top\">5.0</td>\n",
              "        <td style=\"padding-left: 1em; padding-right: 1em; text-align: center; vertical-align: top\">{&#x27;thumb&#x27;: 1.0, &#x27;or&#x27;: 1.0,<br>&#x27;break&#x27;: 1.0, &#x27;trying&#x27;: ...</td>\n",
              "        <td style=\"padding-left: 1em; padding-right: 1em; text-align: center; vertical-align: top\">1</td>\n",
              "    </tr>\n",
              "    <tr>\n",
              "        <td style=\"padding-left: 1em; padding-right: 1em; text-align: center; vertical-align: top\">A Tale of Baby&#x27;s Days<br>with Peter Rabbit ...</td>\n",
              "        <td style=\"padding-left: 1em; padding-right: 1em; text-align: center; vertical-align: top\">Lovely book, it&#x27;s bound<br>tightly so you may no ...</td>\n",
              "        <td style=\"padding-left: 1em; padding-right: 1em; text-align: center; vertical-align: top\">4.0</td>\n",
              "        <td style=\"padding-left: 1em; padding-right: 1em; text-align: center; vertical-align: top\">{&#x27;for&#x27;: 1.0, &#x27;barnes&#x27;:<br>1.0, &#x27;at&#x27;: 1.0, &#x27;is&#x27;: ...</td>\n",
              "        <td style=\"padding-left: 1em; padding-right: 1em; text-align: center; vertical-align: top\">1</td>\n",
              "    </tr>\n",
              "    <tr>\n",
              "        <td style=\"padding-left: 1em; padding-right: 1em; text-align: center; vertical-align: top\">Baby Tracker&amp;reg; - Daily<br>Childcare Journal, ...</td>\n",
              "        <td style=\"padding-left: 1em; padding-right: 1em; text-align: center; vertical-align: top\">Perfect for new parents.<br>We were able to keep ...</td>\n",
              "        <td style=\"padding-left: 1em; padding-right: 1em; text-align: center; vertical-align: top\">5.0</td>\n",
              "        <td style=\"padding-left: 1em; padding-right: 1em; text-align: center; vertical-align: top\">{&#x27;right&#x27;: 1.0, &#x27;because&#x27;:<br>1.0, &#x27;questions&#x27;: 1.0, ...</td>\n",
              "        <td style=\"padding-left: 1em; padding-right: 1em; text-align: center; vertical-align: top\">1</td>\n",
              "    </tr>\n",
              "    <tr>\n",
              "        <td style=\"padding-left: 1em; padding-right: 1em; text-align: center; vertical-align: top\">Baby Tracker&amp;reg; - Daily<br>Childcare Journal, ...</td>\n",
              "        <td style=\"padding-left: 1em; padding-right: 1em; text-align: center; vertical-align: top\">A friend of mine pinned<br>this product on Pinte ...</td>\n",
              "        <td style=\"padding-left: 1em; padding-right: 1em; text-align: center; vertical-align: top\">5.0</td>\n",
              "        <td style=\"padding-left: 1em; padding-right: 1em; text-align: center; vertical-align: top\">{&#x27;like&#x27;: 1.0, &#x27;and&#x27;: 1.0,<br>&#x27;changes&#x27;: 1.0, &#x27;the&#x27;: ...</td>\n",
              "        <td style=\"padding-left: 1em; padding-right: 1em; text-align: center; vertical-align: top\">1</td>\n",
              "    </tr>\n",
              "    <tr>\n",
              "        <td style=\"padding-left: 1em; padding-right: 1em; text-align: center; vertical-align: top\">Baby Tracker&amp;reg; - Daily<br>Childcare Journal, ...</td>\n",
              "        <td style=\"padding-left: 1em; padding-right: 1em; text-align: center; vertical-align: top\">This has been an easy way<br>for my nanny to record ...</td>\n",
              "        <td style=\"padding-left: 1em; padding-right: 1em; text-align: center; vertical-align: top\">4.0</td>\n",
              "        <td style=\"padding-left: 1em; padding-right: 1em; text-align: center; vertical-align: top\">{&#x27;in&#x27;: 1.0, &#x27;pages&#x27;: 1.0,<br>&#x27;out&#x27;: 1.0, &#x27;run&#x27;: 1.0, ...</td>\n",
              "        <td style=\"padding-left: 1em; padding-right: 1em; text-align: center; vertical-align: top\">1</td>\n",
              "    </tr>\n",
              "    <tr>\n",
              "        <td style=\"padding-left: 1em; padding-right: 1em; text-align: center; vertical-align: top\">Baby Tracker&amp;reg; - Daily<br>Childcare Journal, ...</td>\n",
              "        <td style=\"padding-left: 1em; padding-right: 1em; text-align: center; vertical-align: top\">I love this journal and<br>our nanny uses it ...</td>\n",
              "        <td style=\"padding-left: 1em; padding-right: 1em; text-align: center; vertical-align: top\">4.0</td>\n",
              "        <td style=\"padding-left: 1em; padding-right: 1em; text-align: center; vertical-align: top\">{&#x27;tracker&#x27;: 1.0, &#x27;now&#x27;:<br>1.0, &#x27;its&#x27;: 1.0, &#x27;sti ...</td>\n",
              "        <td style=\"padding-left: 1em; padding-right: 1em; text-align: center; vertical-align: top\">1</td>\n",
              "    </tr>\n",
              "</table>\n",
              "[166752 rows x 5 columns]<br/>Note: Only the head of the SFrame is printed.<br/>You can use print_rows(num_rows=m, num_columns=n) to print more rows and columns.\n",
              "</div>"
            ],
            "text/plain": [
              "Columns:\n",
              "\tname\tstr\n",
              "\treview\tstr\n",
              "\trating\tfloat\n",
              "\tword_count\tdict\n",
              "\tsentiment\tint\n",
              "\n",
              "Rows: 166752\n",
              "\n",
              "Data:\n",
              "+-------------------------------+-------------------------------+--------+\n",
              "|              name             |             review            | rating |\n",
              "+-------------------------------+-------------------------------+--------+\n",
              "|     Planetwise Wipe Pouch     | it came early and was not ... |  5.0   |\n",
              "| Annas Dream Full Quilt wit... | Very soft and comfortable ... |  5.0   |\n",
              "| Stop Pacifier Sucking with... | This is a product well wor... |  5.0   |\n",
              "| Stop Pacifier Sucking with... | All of my kids have cried ... |  5.0   |\n",
              "| Stop Pacifier Sucking with... | When the Binky Fairy came ... |  5.0   |\n",
              "| A Tale of Baby's Days with... | Lovely book, it's bound ti... |  4.0   |\n",
              "| Baby Tracker&reg; - Daily ... | Perfect for new parents. W... |  5.0   |\n",
              "| Baby Tracker&reg; - Daily ... | A friend of mine pinned th... |  5.0   |\n",
              "| Baby Tracker&reg; - Daily ... | This has been an easy way ... |  4.0   |\n",
              "| Baby Tracker&reg; - Daily ... | I love this journal and ou... |  4.0   |\n",
              "+-------------------------------+-------------------------------+--------+\n",
              "+-------------------------------+-----------+\n",
              "|           word_count          | sentiment |\n",
              "+-------------------------------+-----------+\n",
              "| {'recommend': 1.0, 'highly... |     1     |\n",
              "| {'quilt': 1.0, 'of': 1.0, ... |     1     |\n",
              "| {'tool': 1.0, 'clever': 1.... |     1     |\n",
              "| {'rock': 1.0, 'many': 1.0,... |     1     |\n",
              "| {'thumb': 1.0, 'or': 1.0, ... |     1     |\n",
              "| {'for': 1.0, 'barnes': 1.0... |     1     |\n",
              "| {'right': 1.0, 'because': ... |     1     |\n",
              "| {'like': 1.0, 'and': 1.0, ... |     1     |\n",
              "| {'in': 1.0, 'pages': 1.0, ... |     1     |\n",
              "| {'tracker': 1.0, 'now': 1.... |     1     |\n",
              "+-------------------------------+-----------+\n",
              "[166752 rows x 5 columns]\n",
              "Note: Only the head of the SFrame is printed.\n",
              "You can use print_rows(num_rows=m, num_columns=n) to print more rows and columns."
            ]
          },
          "metadata": {
            "tags": []
          },
          "execution_count": 92
        }
      ]
    },
    {
      "cell_type": "code",
      "metadata": {
        "id": "V3ibG1jk7Y_c"
      },
      "source": [
        "selected_words = ['awesome', 'great', 'fantastic', 'amazing', 'love', 'horrible', 'bad', 'terrible', 'awful', 'wow', 'hate']"
      ],
      "execution_count": 93,
      "outputs": []
    },
    {
      "cell_type": "code",
      "metadata": {
        "id": "o1duuYsU7Zpb"
      },
      "source": [
        "def awesome_count(word_count):\n",
        "    if 'awesome' in word_count:\n",
        "        return word_count['awesome']\n",
        "    return 0"
      ],
      "execution_count": 94,
      "outputs": []
    },
    {
      "cell_type": "code",
      "metadata": {
        "id": "XxxQxJAUGlau"
      },
      "source": [
        "products['awesome'] = products['word_count'].apply(awesome_count)"
      ],
      "execution_count": 95,
      "outputs": []
    },
    {
      "cell_type": "code",
      "metadata": {
        "colab": {
          "base_uri": "https://localhost:8080/"
        },
        "id": "_GxCUWyFG3z_",
        "outputId": "ab5011d8-27db-4fab-fe67-b2366233058a"
      },
      "source": [
        "len(products)"
      ],
      "execution_count": 101,
      "outputs": [
        {
          "output_type": "execute_result",
          "data": {
            "text/plain": [
              "166752"
            ]
          },
          "metadata": {
            "tags": []
          },
          "execution_count": 101
        }
      ]
    },
    {
      "cell_type": "code",
      "metadata": {
        "colab": {
          "base_uri": "https://localhost:8080/",
          "height": 415
        },
        "id": "6E5Vor-VG6Q0",
        "outputId": "c0d4c1fc-201d-4742-ddad-305085840419"
      },
      "source": [
        "products.tail()"
      ],
      "execution_count": 103,
      "outputs": [
        {
          "output_type": "execute_result",
          "data": {
            "text/html": [
              "<div style=\"max-height:1000px;max-width:1500px;overflow:auto;\"><table frame=\"box\" rules=\"cols\">\n",
              "    <tr>\n",
              "        <th style=\"padding-left: 1em; padding-right: 1em; text-align: center\">name</th>\n",
              "        <th style=\"padding-left: 1em; padding-right: 1em; text-align: center\">review</th>\n",
              "        <th style=\"padding-left: 1em; padding-right: 1em; text-align: center\">rating</th>\n",
              "        <th style=\"padding-left: 1em; padding-right: 1em; text-align: center\">word_count</th>\n",
              "        <th style=\"padding-left: 1em; padding-right: 1em; text-align: center\">sentiment</th>\n",
              "        <th style=\"padding-left: 1em; padding-right: 1em; text-align: center\">awesome</th>\n",
              "    </tr>\n",
              "    <tr>\n",
              "        <td style=\"padding-left: 1em; padding-right: 1em; text-align: center; vertical-align: top\">Airline Seat Belt<br>Extender - The Best ...</td>\n",
              "        <td style=\"padding-left: 1em; padding-right: 1em; text-align: center; vertical-align: top\">Up until recently I have<br>hated flying, putting on ...</td>\n",
              "        <td style=\"padding-left: 1em; padding-right: 1em; text-align: center; vertical-align: top\">5.0</td>\n",
              "        <td style=\"padding-left: 1em; padding-right: 1em; text-align: center; vertical-align: top\">{&#x27;pressure&#x27;: 1.0, &#x27;so&#x27;:<br>1.0, &#x27;relieved&#x27;: 1.0, ...</td>\n",
              "        <td style=\"padding-left: 1em; padding-right: 1em; text-align: center; vertical-align: top\">1</td>\n",
              "        <td style=\"padding-left: 1em; padding-right: 1em; text-align: center; vertical-align: top\">0.0</td>\n",
              "    </tr>\n",
              "    <tr>\n",
              "        <td style=\"padding-left: 1em; padding-right: 1em; text-align: center; vertical-align: top\">Airline Seat Belt<br>Extender - The Best ...</td>\n",
              "        <td style=\"padding-left: 1em; padding-right: 1em; text-align: center; vertical-align: top\">I bought this as a<br>father&#x27;s day gift for my ...</td>\n",
              "        <td style=\"padding-left: 1em; padding-right: 1em; text-align: center; vertical-align: top\">5.0</td>\n",
              "        <td style=\"padding-left: 1em; padding-right: 1em; text-align: center; vertical-align: top\">{&#x27;highly&#x27;: 1.0, &#x27;again&#x27;:<br>1.0, &#x27;thanked&#x27;: 1.0, ...</td>\n",
              "        <td style=\"padding-left: 1em; padding-right: 1em; text-align: center; vertical-align: top\">1</td>\n",
              "        <td style=\"padding-left: 1em; padding-right: 1em; text-align: center; vertical-align: top\">0.0</td>\n",
              "    </tr>\n",
              "    <tr>\n",
              "        <td style=\"padding-left: 1em; padding-right: 1em; text-align: center; vertical-align: top\">Squeasy Snacker 6oz<br>Silicone Reusable Food ...</td>\n",
              "        <td style=\"padding-left: 1em; padding-right: 1em; text-align: center; vertical-align: top\">I love that these can<br>hold purees OR liquids, ...</td>\n",
              "        <td style=\"padding-left: 1em; padding-right: 1em; text-align: center; vertical-align: top\">5.0</td>\n",
              "        <td style=\"padding-left: 1em; padding-right: 1em; text-align: center; vertical-align: top\">{&#x27;cool&#x27;: 1.0, &#x27;oz&#x27;: 1.0,<br>&#x27;sizes&#x27;: 1.0, &#x27;more&#x27;: ...</td>\n",
              "        <td style=\"padding-left: 1em; padding-right: 1em; text-align: center; vertical-align: top\">1</td>\n",
              "        <td style=\"padding-left: 1em; padding-right: 1em; text-align: center; vertical-align: top\">0.0</td>\n",
              "    </tr>\n",
              "    <tr>\n",
              "        <td style=\"padding-left: 1em; padding-right: 1em; text-align: center; vertical-align: top\">Squeasy Snacker 6oz<br>Silicone Reusable Food ...</td>\n",
              "        <td style=\"padding-left: 1em; padding-right: 1em; text-align: center; vertical-align: top\">I love this product, it<br>makes my life easier. ...</td>\n",
              "        <td style=\"padding-left: 1em; padding-right: 1em; text-align: center; vertical-align: top\">5.0</td>\n",
              "        <td style=\"padding-left: 1em; padding-right: 1em; text-align: center; vertical-align: top\">{&#x27;forward&#x27;: 1.0, &#x27;look&#x27;:<br>1.0, &#x27;works&#x27;: 1.0, ...</td>\n",
              "        <td style=\"padding-left: 1em; padding-right: 1em; text-align: center; vertical-align: top\">1</td>\n",
              "        <td style=\"padding-left: 1em; padding-right: 1em; text-align: center; vertical-align: top\">0.0</td>\n",
              "    </tr>\n",
              "    <tr>\n",
              "        <td style=\"padding-left: 1em; padding-right: 1em; text-align: center; vertical-align: top\">Squeasy Snacker 6oz<br>Silicone Reusable Food ...</td>\n",
              "        <td style=\"padding-left: 1em; padding-right: 1em; text-align: center; vertical-align: top\">This reusable squeeze<br>bottle is the best I  ...</td>\n",
              "        <td style=\"padding-left: 1em; padding-right: 1em; text-align: center; vertical-align: top\">5.0</td>\n",
              "        <td style=\"padding-left: 1em; padding-right: 1em; text-align: center; vertical-align: top\">{&#x27;product&#x27;: 1.0,<br>&#x27;awesome&#x27;: 1.0, &#x27;gifts&#x27;: ...</td>\n",
              "        <td style=\"padding-left: 1em; padding-right: 1em; text-align: center; vertical-align: top\">1</td>\n",
              "        <td style=\"padding-left: 1em; padding-right: 1em; text-align: center; vertical-align: top\">1.0</td>\n",
              "    </tr>\n",
              "    <tr>\n",
              "        <td style=\"padding-left: 1em; padding-right: 1em; text-align: center; vertical-align: top\">Baby Teething Necklace<br>for Mom Pretty Donut ...</td>\n",
              "        <td style=\"padding-left: 1em; padding-right: 1em; text-align: center; vertical-align: top\">Such a great idea! very<br>handy to have and look ...</td>\n",
              "        <td style=\"padding-left: 1em; padding-right: 1em; text-align: center; vertical-align: top\">5.0</td>\n",
              "        <td style=\"padding-left: 1em; padding-right: 1em; text-align: center; vertical-align: top\">{&#x27;teething&#x27;: 1.0, &#x27;of&#x27;:<br>1.0, &#x27;pain&#x27;: 1.0, &#x27;ha ...</td>\n",
              "        <td style=\"padding-left: 1em; padding-right: 1em; text-align: center; vertical-align: top\">1</td>\n",
              "        <td style=\"padding-left: 1em; padding-right: 1em; text-align: center; vertical-align: top\">0.0</td>\n",
              "    </tr>\n",
              "    <tr>\n",
              "        <td style=\"padding-left: 1em; padding-right: 1em; text-align: center; vertical-align: top\">Baby Teething Necklace<br>for Mom Pretty Donut ...</td>\n",
              "        <td style=\"padding-left: 1em; padding-right: 1em; text-align: center; vertical-align: top\">This product rocks!  It<br>is a great blend of ...</td>\n",
              "        <td style=\"padding-left: 1em; padding-right: 1em; text-align: center; vertical-align: top\">5.0</td>\n",
              "        <td style=\"padding-left: 1em; padding-right: 1em; text-align: center; vertical-align: top\">{&#x27;accessible&#x27;: 1.0,<br>&#x27;soothe&#x27;: 1.0, &#x27;easily&#x27;: ...</td>\n",
              "        <td style=\"padding-left: 1em; padding-right: 1em; text-align: center; vertical-align: top\">1</td>\n",
              "        <td style=\"padding-left: 1em; padding-right: 1em; text-align: center; vertical-align: top\">0.0</td>\n",
              "    </tr>\n",
              "    <tr>\n",
              "        <td style=\"padding-left: 1em; padding-right: 1em; text-align: center; vertical-align: top\">Abstract 2 PK Baby /<br>Toddler Training Cup ...</td>\n",
              "        <td style=\"padding-left: 1em; padding-right: 1em; text-align: center; vertical-align: top\">This item looks great and<br>cool for my kids....I ...</td>\n",
              "        <td style=\"padding-left: 1em; padding-right: 1em; text-align: center; vertical-align: top\">5.0</td>\n",
              "        <td style=\"padding-left: 1em; padding-right: 1em; text-align: center; vertical-align: top\">{&#x27;its&#x27;: 1.0, &#x27;this&#x27;: 2.0,<br>&#x27;item&#x27;: 1.0, &#x27;looks&#x27;: ...</td>\n",
              "        <td style=\"padding-left: 1em; padding-right: 1em; text-align: center; vertical-align: top\">1</td>\n",
              "        <td style=\"padding-left: 1em; padding-right: 1em; text-align: center; vertical-align: top\">0.0</td>\n",
              "    </tr>\n",
              "    <tr>\n",
              "        <td style=\"padding-left: 1em; padding-right: 1em; text-align: center; vertical-align: top\">Baby Food Freezer Tray -<br>Bacteria Resistant, BPA ...</td>\n",
              "        <td style=\"padding-left: 1em; padding-right: 1em; text-align: center; vertical-align: top\">I am extremely happy with<br>this product. I have  ...</td>\n",
              "        <td style=\"padding-left: 1em; padding-right: 1em; text-align: center; vertical-align: top\">5.0</td>\n",
              "        <td style=\"padding-left: 1em; padding-right: 1em; text-align: center; vertical-align: top\">{&#x27;way&#x27;: 1.0, &#x27;an&#x27;: 1.0,<br>&#x27;looking&#x27;: 1.0, &#x27;pare ...</td>\n",
              "        <td style=\"padding-left: 1em; padding-right: 1em; text-align: center; vertical-align: top\">1</td>\n",
              "        <td style=\"padding-left: 1em; padding-right: 1em; text-align: center; vertical-align: top\">0.0</td>\n",
              "    </tr>\n",
              "    <tr>\n",
              "        <td style=\"padding-left: 1em; padding-right: 1em; text-align: center; vertical-align: top\">Best 2 Pack Baby Car<br>Shade for Kids - Window ...</td>\n",
              "        <td style=\"padding-left: 1em; padding-right: 1em; text-align: center; vertical-align: top\">I love this product very<br>mush . I have bought  ...</td>\n",
              "        <td style=\"padding-left: 1em; padding-right: 1em; text-align: center; vertical-align: top\">5.0</td>\n",
              "        <td style=\"padding-left: 1em; padding-right: 1em; text-align: center; vertical-align: top\">{&#x27;of&#x27;: 1.0, &#x27;also&#x27;: 1.0,<br>&#x27;well&#x27;: 1.0, &#x27;sun&#x27;: 1.0, ...</td>\n",
              "        <td style=\"padding-left: 1em; padding-right: 1em; text-align: center; vertical-align: top\">1</td>\n",
              "        <td style=\"padding-left: 1em; padding-right: 1em; text-align: center; vertical-align: top\">0.0</td>\n",
              "    </tr>\n",
              "</table>\n",
              "[10 rows x 6 columns]<br/>\n",
              "</div>"
            ],
            "text/plain": [
              "Columns:\n",
              "\tname\tstr\n",
              "\treview\tstr\n",
              "\trating\tfloat\n",
              "\tword_count\tdict\n",
              "\tsentiment\tint\n",
              "\tawesome\tfloat\n",
              "\n",
              "Rows: 10\n",
              "\n",
              "Data:\n",
              "+-------------------------------+-------------------------------+--------+\n",
              "|              name             |             review            | rating |\n",
              "+-------------------------------+-------------------------------+--------+\n",
              "| Airline Seat Belt Extender... | Up until recently I have h... |  5.0   |\n",
              "| Airline Seat Belt Extender... | I bought this as a father'... |  5.0   |\n",
              "| Squeasy Snacker 6oz Silico... | I love that these can hold... |  5.0   |\n",
              "| Squeasy Snacker 6oz Silico... | I love this product, it ma... |  5.0   |\n",
              "| Squeasy Snacker 6oz Silico... | This reusable squeeze bott... |  5.0   |\n",
              "| Baby Teething Necklace for... | Such a great idea! very ha... |  5.0   |\n",
              "| Baby Teething Necklace for... | This product rocks!  It is... |  5.0   |\n",
              "| Abstract 2 PK Baby / Toddl... | This item looks great and ... |  5.0   |\n",
              "| Baby Food Freezer Tray - B... | I am extremely happy with ... |  5.0   |\n",
              "| Best 2 Pack Baby Car Shade... | I love this product very m... |  5.0   |\n",
              "+-------------------------------+-------------------------------+--------+\n",
              "+-------------------------------+-----------+---------+\n",
              "|           word_count          | sentiment | awesome |\n",
              "+-------------------------------+-----------+---------+\n",
              "| {'pressure': 1.0, 'so': 1.... |     1     |   0.0   |\n",
              "| {'highly': 1.0, 'again': 1... |     1     |   0.0   |\n",
              "| {'cool': 1.0, 'oz': 1.0, '... |     1     |   0.0   |\n",
              "| {'forward': 1.0, 'look': 1... |     1     |   0.0   |\n",
              "| {'product': 1.0, 'awesome'... |     1     |   1.0   |\n",
              "| {'teething': 1.0, 'of': 1.... |     1     |   0.0   |\n",
              "| {'accessible': 1.0, 'sooth... |     1     |   0.0   |\n",
              "| {'its': 1.0, 'this': 2.0, ... |     1     |   0.0   |\n",
              "| {'way': 1.0, 'an': 1.0, 'l... |     1     |   0.0   |\n",
              "| {'of': 1.0, 'also': 1.0, '... |     1     |   0.0   |\n",
              "+-------------------------------+-----------+---------+\n",
              "[10 rows x 6 columns]"
            ]
          },
          "metadata": {
            "tags": []
          },
          "execution_count": 103
        }
      ]
    },
    {
      "cell_type": "code",
      "metadata": {
        "id": "8Y3RDzbEIOA0"
      },
      "source": [
        "def awesome_count(word_count):\n",
        "    if 'awesome' in word_count:\n",
        "        return word_count['awesome']\n",
        "    return 0\n",
        "\n",
        "products['awesome'] = products['word_count'].apply(awesome_count)\n",
        "\n",
        "def great_count(word_count):\n",
        "    if 'great' in word_count:\n",
        "        return word_count['great']\n",
        "    return 0\n",
        "\n",
        "products['great'] = products['word_count'].apply(great_count)\n",
        "\n",
        "def fantastic_count(word_count):\n",
        "    if 'fantastic' in word_count:\n",
        "        return word_count['fantastic']\n",
        "    return 0\n",
        "\n",
        "products['fantastic'] = products['word_count'].apply(fantastic_count)\n",
        "\n",
        "def amazing_count(word_count):\n",
        "    if 'amazing' in word_count:\n",
        "        return word_count['amazing']\n",
        "    return 0\n",
        "\n",
        "products['amazing'] = products['word_count'].apply(amazing_count)\n",
        "\n",
        "def love_count(word_count):\n",
        "    if 'love' in word_count:\n",
        "        return word_count['love']\n",
        "    return 0\n",
        "\n",
        "products['love'] = products['word_count'].apply(love_count)\n",
        "\n",
        "def horrible_count(word_count):\n",
        "    if 'horrible' in word_count:\n",
        "        return word_count['horrible']\n",
        "    return 0\n",
        "\n",
        "products['horrible'] = products['word_count'].apply(horrible_count)\n",
        "\n",
        "def bad_count(word_count):\n",
        "    if 'bad' in word_count:\n",
        "        return word_count['bad']\n",
        "    return 0\n",
        "\n",
        "products['bad'] = products['word_count'].apply(bad_count)\n",
        "\n",
        "def terrible_count(word_count):\n",
        "    if 'terrible' in word_count:\n",
        "        return word_count['terrible']\n",
        "    return 0\n",
        "\n",
        "products['terrible'] = products['word_count'].apply(terrible_count)\n",
        "\n",
        "def awful_count(word_count):\n",
        "    if 'awful' in word_count:\n",
        "        return word_count['awful']\n",
        "    return 0\n",
        "\n",
        "products['awful'] = products['word_count'].apply(awful_count)\n",
        "\n",
        "def wow_count(word_count):\n",
        "    if 'wow' in word_count:\n",
        "        return word_count['wow']\n",
        "    return 0\n",
        "\n",
        "products['wow'] = products['word_count'].apply(wow_count)\n",
        "\n",
        "def hate_count(word_count):\n",
        "    if 'hate' in word_count:\n",
        "        return word_count['hate']\n",
        "    return 0\n",
        "\n",
        "products['hate'] = products['word_count'].apply(hate_count)"
      ],
      "execution_count": 111,
      "outputs": []
    },
    {
      "cell_type": "code",
      "metadata": {
        "colab": {
          "base_uri": "https://localhost:8080/",
          "height": 626
        },
        "id": "6-xtaB4VJ5Bj",
        "outputId": "07378546-16c2-4814-b52f-eeb94bd1b878"
      },
      "source": [
        "products.head()"
      ],
      "execution_count": 112,
      "outputs": [
        {
          "output_type": "execute_result",
          "data": {
            "text/html": [
              "<div style=\"max-height:1000px;max-width:1500px;overflow:auto;\"><table frame=\"box\" rules=\"cols\">\n",
              "    <tr>\n",
              "        <th style=\"padding-left: 1em; padding-right: 1em; text-align: center\">name</th>\n",
              "        <th style=\"padding-left: 1em; padding-right: 1em; text-align: center\">review</th>\n",
              "        <th style=\"padding-left: 1em; padding-right: 1em; text-align: center\">rating</th>\n",
              "        <th style=\"padding-left: 1em; padding-right: 1em; text-align: center\">word_count</th>\n",
              "        <th style=\"padding-left: 1em; padding-right: 1em; text-align: center\">sentiment</th>\n",
              "        <th style=\"padding-left: 1em; padding-right: 1em; text-align: center\">awesome</th>\n",
              "    </tr>\n",
              "    <tr>\n",
              "        <td style=\"padding-left: 1em; padding-right: 1em; text-align: center; vertical-align: top\">Planetwise Wipe Pouch</td>\n",
              "        <td style=\"padding-left: 1em; padding-right: 1em; text-align: center; vertical-align: top\">it came early and was not<br>disappointed. i love ...</td>\n",
              "        <td style=\"padding-left: 1em; padding-right: 1em; text-align: center; vertical-align: top\">5.0</td>\n",
              "        <td style=\"padding-left: 1em; padding-right: 1em; text-align: center; vertical-align: top\">{&#x27;recommend&#x27;: 1.0,<br>&#x27;highly&#x27;: 1.0, ...</td>\n",
              "        <td style=\"padding-left: 1em; padding-right: 1em; text-align: center; vertical-align: top\">1</td>\n",
              "        <td style=\"padding-left: 1em; padding-right: 1em; text-align: center; vertical-align: top\">0.0</td>\n",
              "    </tr>\n",
              "    <tr>\n",
              "        <td style=\"padding-left: 1em; padding-right: 1em; text-align: center; vertical-align: top\">Annas Dream Full Quilt<br>with 2 Shams ...</td>\n",
              "        <td style=\"padding-left: 1em; padding-right: 1em; text-align: center; vertical-align: top\">Very soft and comfortable<br>and warmer than it ...</td>\n",
              "        <td style=\"padding-left: 1em; padding-right: 1em; text-align: center; vertical-align: top\">5.0</td>\n",
              "        <td style=\"padding-left: 1em; padding-right: 1em; text-align: center; vertical-align: top\">{&#x27;quilt&#x27;: 1.0, &#x27;of&#x27;: 1.0,<br>&#x27;the&#x27;: 1.0, &#x27;than&#x27;: 1.0, ...</td>\n",
              "        <td style=\"padding-left: 1em; padding-right: 1em; text-align: center; vertical-align: top\">1</td>\n",
              "        <td style=\"padding-left: 1em; padding-right: 1em; text-align: center; vertical-align: top\">0.0</td>\n",
              "    </tr>\n",
              "    <tr>\n",
              "        <td style=\"padding-left: 1em; padding-right: 1em; text-align: center; vertical-align: top\">Stop Pacifier Sucking<br>without tears with ...</td>\n",
              "        <td style=\"padding-left: 1em; padding-right: 1em; text-align: center; vertical-align: top\">This is a product well<br>worth the purchase.  I ...</td>\n",
              "        <td style=\"padding-left: 1em; padding-right: 1em; text-align: center; vertical-align: top\">5.0</td>\n",
              "        <td style=\"padding-left: 1em; padding-right: 1em; text-align: center; vertical-align: top\">{&#x27;tool&#x27;: 1.0, &#x27;clever&#x27;:<br>1.0, &#x27;approach&#x27;: 2.0, ...</td>\n",
              "        <td style=\"padding-left: 1em; padding-right: 1em; text-align: center; vertical-align: top\">1</td>\n",
              "        <td style=\"padding-left: 1em; padding-right: 1em; text-align: center; vertical-align: top\">0.0</td>\n",
              "    </tr>\n",
              "    <tr>\n",
              "        <td style=\"padding-left: 1em; padding-right: 1em; text-align: center; vertical-align: top\">Stop Pacifier Sucking<br>without tears with ...</td>\n",
              "        <td style=\"padding-left: 1em; padding-right: 1em; text-align: center; vertical-align: top\">All of my kids have cried<br>non-stop when I tried to ...</td>\n",
              "        <td style=\"padding-left: 1em; padding-right: 1em; text-align: center; vertical-align: top\">5.0</td>\n",
              "        <td style=\"padding-left: 1em; padding-right: 1em; text-align: center; vertical-align: top\">{&#x27;rock&#x27;: 1.0, &#x27;many&#x27;:<br>1.0, &#x27;headaches&#x27;: 1.0, ...</td>\n",
              "        <td style=\"padding-left: 1em; padding-right: 1em; text-align: center; vertical-align: top\">1</td>\n",
              "        <td style=\"padding-left: 1em; padding-right: 1em; text-align: center; vertical-align: top\">0.0</td>\n",
              "    </tr>\n",
              "    <tr>\n",
              "        <td style=\"padding-left: 1em; padding-right: 1em; text-align: center; vertical-align: top\">Stop Pacifier Sucking<br>without tears with ...</td>\n",
              "        <td style=\"padding-left: 1em; padding-right: 1em; text-align: center; vertical-align: top\">When the Binky Fairy came<br>to our house, we didn&#x27;t ...</td>\n",
              "        <td style=\"padding-left: 1em; padding-right: 1em; text-align: center; vertical-align: top\">5.0</td>\n",
              "        <td style=\"padding-left: 1em; padding-right: 1em; text-align: center; vertical-align: top\">{&#x27;thumb&#x27;: 1.0, &#x27;or&#x27;: 1.0,<br>&#x27;break&#x27;: 1.0, &#x27;trying&#x27;: ...</td>\n",
              "        <td style=\"padding-left: 1em; padding-right: 1em; text-align: center; vertical-align: top\">1</td>\n",
              "        <td style=\"padding-left: 1em; padding-right: 1em; text-align: center; vertical-align: top\">0.0</td>\n",
              "    </tr>\n",
              "    <tr>\n",
              "        <td style=\"padding-left: 1em; padding-right: 1em; text-align: center; vertical-align: top\">A Tale of Baby&#x27;s Days<br>with Peter Rabbit ...</td>\n",
              "        <td style=\"padding-left: 1em; padding-right: 1em; text-align: center; vertical-align: top\">Lovely book, it&#x27;s bound<br>tightly so you may no ...</td>\n",
              "        <td style=\"padding-left: 1em; padding-right: 1em; text-align: center; vertical-align: top\">4.0</td>\n",
              "        <td style=\"padding-left: 1em; padding-right: 1em; text-align: center; vertical-align: top\">{&#x27;for&#x27;: 1.0, &#x27;barnes&#x27;:<br>1.0, &#x27;at&#x27;: 1.0, &#x27;is&#x27;: ...</td>\n",
              "        <td style=\"padding-left: 1em; padding-right: 1em; text-align: center; vertical-align: top\">1</td>\n",
              "        <td style=\"padding-left: 1em; padding-right: 1em; text-align: center; vertical-align: top\">0.0</td>\n",
              "    </tr>\n",
              "    <tr>\n",
              "        <td style=\"padding-left: 1em; padding-right: 1em; text-align: center; vertical-align: top\">Baby Tracker&amp;reg; - Daily<br>Childcare Journal, ...</td>\n",
              "        <td style=\"padding-left: 1em; padding-right: 1em; text-align: center; vertical-align: top\">Perfect for new parents.<br>We were able to keep ...</td>\n",
              "        <td style=\"padding-left: 1em; padding-right: 1em; text-align: center; vertical-align: top\">5.0</td>\n",
              "        <td style=\"padding-left: 1em; padding-right: 1em; text-align: center; vertical-align: top\">{&#x27;right&#x27;: 1.0, &#x27;because&#x27;:<br>1.0, &#x27;questions&#x27;: 1.0, ...</td>\n",
              "        <td style=\"padding-left: 1em; padding-right: 1em; text-align: center; vertical-align: top\">1</td>\n",
              "        <td style=\"padding-left: 1em; padding-right: 1em; text-align: center; vertical-align: top\">0.0</td>\n",
              "    </tr>\n",
              "    <tr>\n",
              "        <td style=\"padding-left: 1em; padding-right: 1em; text-align: center; vertical-align: top\">Baby Tracker&amp;reg; - Daily<br>Childcare Journal, ...</td>\n",
              "        <td style=\"padding-left: 1em; padding-right: 1em; text-align: center; vertical-align: top\">A friend of mine pinned<br>this product on Pinte ...</td>\n",
              "        <td style=\"padding-left: 1em; padding-right: 1em; text-align: center; vertical-align: top\">5.0</td>\n",
              "        <td style=\"padding-left: 1em; padding-right: 1em; text-align: center; vertical-align: top\">{&#x27;like&#x27;: 1.0, &#x27;and&#x27;: 1.0,<br>&#x27;changes&#x27;: 1.0, &#x27;the&#x27;: ...</td>\n",
              "        <td style=\"padding-left: 1em; padding-right: 1em; text-align: center; vertical-align: top\">1</td>\n",
              "        <td style=\"padding-left: 1em; padding-right: 1em; text-align: center; vertical-align: top\">0.0</td>\n",
              "    </tr>\n",
              "    <tr>\n",
              "        <td style=\"padding-left: 1em; padding-right: 1em; text-align: center; vertical-align: top\">Baby Tracker&amp;reg; - Daily<br>Childcare Journal, ...</td>\n",
              "        <td style=\"padding-left: 1em; padding-right: 1em; text-align: center; vertical-align: top\">This has been an easy way<br>for my nanny to record ...</td>\n",
              "        <td style=\"padding-left: 1em; padding-right: 1em; text-align: center; vertical-align: top\">4.0</td>\n",
              "        <td style=\"padding-left: 1em; padding-right: 1em; text-align: center; vertical-align: top\">{&#x27;in&#x27;: 1.0, &#x27;pages&#x27;: 1.0,<br>&#x27;out&#x27;: 1.0, &#x27;run&#x27;: 1.0, ...</td>\n",
              "        <td style=\"padding-left: 1em; padding-right: 1em; text-align: center; vertical-align: top\">1</td>\n",
              "        <td style=\"padding-left: 1em; padding-right: 1em; text-align: center; vertical-align: top\">0.0</td>\n",
              "    </tr>\n",
              "    <tr>\n",
              "        <td style=\"padding-left: 1em; padding-right: 1em; text-align: center; vertical-align: top\">Baby Tracker&amp;reg; - Daily<br>Childcare Journal, ...</td>\n",
              "        <td style=\"padding-left: 1em; padding-right: 1em; text-align: center; vertical-align: top\">I love this journal and<br>our nanny uses it ...</td>\n",
              "        <td style=\"padding-left: 1em; padding-right: 1em; text-align: center; vertical-align: top\">4.0</td>\n",
              "        <td style=\"padding-left: 1em; padding-right: 1em; text-align: center; vertical-align: top\">{&#x27;tracker&#x27;: 1.0, &#x27;now&#x27;:<br>1.0, &#x27;its&#x27;: 1.0, &#x27;sti ...</td>\n",
              "        <td style=\"padding-left: 1em; padding-right: 1em; text-align: center; vertical-align: top\">1</td>\n",
              "        <td style=\"padding-left: 1em; padding-right: 1em; text-align: center; vertical-align: top\">0.0</td>\n",
              "    </tr>\n",
              "</table>\n",
              "<table frame=\"box\" rules=\"cols\">\n",
              "    <tr>\n",
              "        <th style=\"padding-left: 1em; padding-right: 1em; text-align: center\">great</th>\n",
              "        <th style=\"padding-left: 1em; padding-right: 1em; text-align: center\">fantastic</th>\n",
              "        <th style=\"padding-left: 1em; padding-right: 1em; text-align: center\">amazing</th>\n",
              "        <th style=\"padding-left: 1em; padding-right: 1em; text-align: center\">love</th>\n",
              "        <th style=\"padding-left: 1em; padding-right: 1em; text-align: center\">horrible</th>\n",
              "        <th style=\"padding-left: 1em; padding-right: 1em; text-align: center\">bad</th>\n",
              "        <th style=\"padding-left: 1em; padding-right: 1em; text-align: center\">terrible</th>\n",
              "        <th style=\"padding-left: 1em; padding-right: 1em; text-align: center\">awful</th>\n",
              "        <th style=\"padding-left: 1em; padding-right: 1em; text-align: center\">wow</th>\n",
              "        <th style=\"padding-left: 1em; padding-right: 1em; text-align: center\">hate</th>\n",
              "    </tr>\n",
              "    <tr>\n",
              "        <td style=\"padding-left: 1em; padding-right: 1em; text-align: center; vertical-align: top\">0.0</td>\n",
              "        <td style=\"padding-left: 1em; padding-right: 1em; text-align: center; vertical-align: top\">0.0</td>\n",
              "        <td style=\"padding-left: 1em; padding-right: 1em; text-align: center; vertical-align: top\">0.0</td>\n",
              "        <td style=\"padding-left: 1em; padding-right: 1em; text-align: center; vertical-align: top\">1.0</td>\n",
              "        <td style=\"padding-left: 1em; padding-right: 1em; text-align: center; vertical-align: top\">0</td>\n",
              "        <td style=\"padding-left: 1em; padding-right: 1em; text-align: center; vertical-align: top\">0</td>\n",
              "        <td style=\"padding-left: 1em; padding-right: 1em; text-align: center; vertical-align: top\">0.0</td>\n",
              "        <td style=\"padding-left: 1em; padding-right: 1em; text-align: center; vertical-align: top\">0</td>\n",
              "        <td style=\"padding-left: 1em; padding-right: 1em; text-align: center; vertical-align: top\">0</td>\n",
              "        <td style=\"padding-left: 1em; padding-right: 1em; text-align: center; vertical-align: top\">0</td>\n",
              "    </tr>\n",
              "    <tr>\n",
              "        <td style=\"padding-left: 1em; padding-right: 1em; text-align: center; vertical-align: top\">0.0</td>\n",
              "        <td style=\"padding-left: 1em; padding-right: 1em; text-align: center; vertical-align: top\">0.0</td>\n",
              "        <td style=\"padding-left: 1em; padding-right: 1em; text-align: center; vertical-align: top\">0.0</td>\n",
              "        <td style=\"padding-left: 1em; padding-right: 1em; text-align: center; vertical-align: top\">0.0</td>\n",
              "        <td style=\"padding-left: 1em; padding-right: 1em; text-align: center; vertical-align: top\">0</td>\n",
              "        <td style=\"padding-left: 1em; padding-right: 1em; text-align: center; vertical-align: top\">0</td>\n",
              "        <td style=\"padding-left: 1em; padding-right: 1em; text-align: center; vertical-align: top\">0.0</td>\n",
              "        <td style=\"padding-left: 1em; padding-right: 1em; text-align: center; vertical-align: top\">0</td>\n",
              "        <td style=\"padding-left: 1em; padding-right: 1em; text-align: center; vertical-align: top\">0</td>\n",
              "        <td style=\"padding-left: 1em; padding-right: 1em; text-align: center; vertical-align: top\">0</td>\n",
              "    </tr>\n",
              "    <tr>\n",
              "        <td style=\"padding-left: 1em; padding-right: 1em; text-align: center; vertical-align: top\">0.0</td>\n",
              "        <td style=\"padding-left: 1em; padding-right: 1em; text-align: center; vertical-align: top\">0.0</td>\n",
              "        <td style=\"padding-left: 1em; padding-right: 1em; text-align: center; vertical-align: top\">0.0</td>\n",
              "        <td style=\"padding-left: 1em; padding-right: 1em; text-align: center; vertical-align: top\">2.0</td>\n",
              "        <td style=\"padding-left: 1em; padding-right: 1em; text-align: center; vertical-align: top\">0</td>\n",
              "        <td style=\"padding-left: 1em; padding-right: 1em; text-align: center; vertical-align: top\">0</td>\n",
              "        <td style=\"padding-left: 1em; padding-right: 1em; text-align: center; vertical-align: top\">0.0</td>\n",
              "        <td style=\"padding-left: 1em; padding-right: 1em; text-align: center; vertical-align: top\">0</td>\n",
              "        <td style=\"padding-left: 1em; padding-right: 1em; text-align: center; vertical-align: top\">0</td>\n",
              "        <td style=\"padding-left: 1em; padding-right: 1em; text-align: center; vertical-align: top\">0</td>\n",
              "    </tr>\n",
              "    <tr>\n",
              "        <td style=\"padding-left: 1em; padding-right: 1em; text-align: center; vertical-align: top\">1.0</td>\n",
              "        <td style=\"padding-left: 1em; padding-right: 1em; text-align: center; vertical-align: top\">0.0</td>\n",
              "        <td style=\"padding-left: 1em; padding-right: 1em; text-align: center; vertical-align: top\">0.0</td>\n",
              "        <td style=\"padding-left: 1em; padding-right: 1em; text-align: center; vertical-align: top\">1.0</td>\n",
              "        <td style=\"padding-left: 1em; padding-right: 1em; text-align: center; vertical-align: top\">0</td>\n",
              "        <td style=\"padding-left: 1em; padding-right: 1em; text-align: center; vertical-align: top\">0</td>\n",
              "        <td style=\"padding-left: 1em; padding-right: 1em; text-align: center; vertical-align: top\">0.0</td>\n",
              "        <td style=\"padding-left: 1em; padding-right: 1em; text-align: center; vertical-align: top\">0</td>\n",
              "        <td style=\"padding-left: 1em; padding-right: 1em; text-align: center; vertical-align: top\">0</td>\n",
              "        <td style=\"padding-left: 1em; padding-right: 1em; text-align: center; vertical-align: top\">0</td>\n",
              "    </tr>\n",
              "    <tr>\n",
              "        <td style=\"padding-left: 1em; padding-right: 1em; text-align: center; vertical-align: top\">1.0</td>\n",
              "        <td style=\"padding-left: 1em; padding-right: 1em; text-align: center; vertical-align: top\">0.0</td>\n",
              "        <td style=\"padding-left: 1em; padding-right: 1em; text-align: center; vertical-align: top\">0.0</td>\n",
              "        <td style=\"padding-left: 1em; padding-right: 1em; text-align: center; vertical-align: top\">0.0</td>\n",
              "        <td style=\"padding-left: 1em; padding-right: 1em; text-align: center; vertical-align: top\">0</td>\n",
              "        <td style=\"padding-left: 1em; padding-right: 1em; text-align: center; vertical-align: top\">0</td>\n",
              "        <td style=\"padding-left: 1em; padding-right: 1em; text-align: center; vertical-align: top\">0.0</td>\n",
              "        <td style=\"padding-left: 1em; padding-right: 1em; text-align: center; vertical-align: top\">0</td>\n",
              "        <td style=\"padding-left: 1em; padding-right: 1em; text-align: center; vertical-align: top\">0</td>\n",
              "        <td style=\"padding-left: 1em; padding-right: 1em; text-align: center; vertical-align: top\">0</td>\n",
              "    </tr>\n",
              "    <tr>\n",
              "        <td style=\"padding-left: 1em; padding-right: 1em; text-align: center; vertical-align: top\">0.0</td>\n",
              "        <td style=\"padding-left: 1em; padding-right: 1em; text-align: center; vertical-align: top\">0.0</td>\n",
              "        <td style=\"padding-left: 1em; padding-right: 1em; text-align: center; vertical-align: top\">0.0</td>\n",
              "        <td style=\"padding-left: 1em; padding-right: 1em; text-align: center; vertical-align: top\">0.0</td>\n",
              "        <td style=\"padding-left: 1em; padding-right: 1em; text-align: center; vertical-align: top\">0</td>\n",
              "        <td style=\"padding-left: 1em; padding-right: 1em; text-align: center; vertical-align: top\">0</td>\n",
              "        <td style=\"padding-left: 1em; padding-right: 1em; text-align: center; vertical-align: top\">0.0</td>\n",
              "        <td style=\"padding-left: 1em; padding-right: 1em; text-align: center; vertical-align: top\">0</td>\n",
              "        <td style=\"padding-left: 1em; padding-right: 1em; text-align: center; vertical-align: top\">0</td>\n",
              "        <td style=\"padding-left: 1em; padding-right: 1em; text-align: center; vertical-align: top\">0</td>\n",
              "    </tr>\n",
              "    <tr>\n",
              "        <td style=\"padding-left: 1em; padding-right: 1em; text-align: center; vertical-align: top\">0.0</td>\n",
              "        <td style=\"padding-left: 1em; padding-right: 1em; text-align: center; vertical-align: top\">0.0</td>\n",
              "        <td style=\"padding-left: 1em; padding-right: 1em; text-align: center; vertical-align: top\">0.0</td>\n",
              "        <td style=\"padding-left: 1em; padding-right: 1em; text-align: center; vertical-align: top\">0.0</td>\n",
              "        <td style=\"padding-left: 1em; padding-right: 1em; text-align: center; vertical-align: top\">0</td>\n",
              "        <td style=\"padding-left: 1em; padding-right: 1em; text-align: center; vertical-align: top\">0</td>\n",
              "        <td style=\"padding-left: 1em; padding-right: 1em; text-align: center; vertical-align: top\">0.0</td>\n",
              "        <td style=\"padding-left: 1em; padding-right: 1em; text-align: center; vertical-align: top\">0</td>\n",
              "        <td style=\"padding-left: 1em; padding-right: 1em; text-align: center; vertical-align: top\">0</td>\n",
              "        <td style=\"padding-left: 1em; padding-right: 1em; text-align: center; vertical-align: top\">0</td>\n",
              "    </tr>\n",
              "    <tr>\n",
              "        <td style=\"padding-left: 1em; padding-right: 1em; text-align: center; vertical-align: top\">0.0</td>\n",
              "        <td style=\"padding-left: 1em; padding-right: 1em; text-align: center; vertical-align: top\">1.0</td>\n",
              "        <td style=\"padding-left: 1em; padding-right: 1em; text-align: center; vertical-align: top\">0.0</td>\n",
              "        <td style=\"padding-left: 1em; padding-right: 1em; text-align: center; vertical-align: top\">0.0</td>\n",
              "        <td style=\"padding-left: 1em; padding-right: 1em; text-align: center; vertical-align: top\">0</td>\n",
              "        <td style=\"padding-left: 1em; padding-right: 1em; text-align: center; vertical-align: top\">0</td>\n",
              "        <td style=\"padding-left: 1em; padding-right: 1em; text-align: center; vertical-align: top\">0.0</td>\n",
              "        <td style=\"padding-left: 1em; padding-right: 1em; text-align: center; vertical-align: top\">0</td>\n",
              "        <td style=\"padding-left: 1em; padding-right: 1em; text-align: center; vertical-align: top\">0</td>\n",
              "        <td style=\"padding-left: 1em; padding-right: 1em; text-align: center; vertical-align: top\">0</td>\n",
              "    </tr>\n",
              "    <tr>\n",
              "        <td style=\"padding-left: 1em; padding-right: 1em; text-align: center; vertical-align: top\">0.0</td>\n",
              "        <td style=\"padding-left: 1em; padding-right: 1em; text-align: center; vertical-align: top\">0.0</td>\n",
              "        <td style=\"padding-left: 1em; padding-right: 1em; text-align: center; vertical-align: top\">0.0</td>\n",
              "        <td style=\"padding-left: 1em; padding-right: 1em; text-align: center; vertical-align: top\">0.0</td>\n",
              "        <td style=\"padding-left: 1em; padding-right: 1em; text-align: center; vertical-align: top\">0</td>\n",
              "        <td style=\"padding-left: 1em; padding-right: 1em; text-align: center; vertical-align: top\">0</td>\n",
              "        <td style=\"padding-left: 1em; padding-right: 1em; text-align: center; vertical-align: top\">0.0</td>\n",
              "        <td style=\"padding-left: 1em; padding-right: 1em; text-align: center; vertical-align: top\">0</td>\n",
              "        <td style=\"padding-left: 1em; padding-right: 1em; text-align: center; vertical-align: top\">0</td>\n",
              "        <td style=\"padding-left: 1em; padding-right: 1em; text-align: center; vertical-align: top\">0</td>\n",
              "    </tr>\n",
              "    <tr>\n",
              "        <td style=\"padding-left: 1em; padding-right: 1em; text-align: center; vertical-align: top\">0.0</td>\n",
              "        <td style=\"padding-left: 1em; padding-right: 1em; text-align: center; vertical-align: top\">0.0</td>\n",
              "        <td style=\"padding-left: 1em; padding-right: 1em; text-align: center; vertical-align: top\">0.0</td>\n",
              "        <td style=\"padding-left: 1em; padding-right: 1em; text-align: center; vertical-align: top\">2.0</td>\n",
              "        <td style=\"padding-left: 1em; padding-right: 1em; text-align: center; vertical-align: top\">0</td>\n",
              "        <td style=\"padding-left: 1em; padding-right: 1em; text-align: center; vertical-align: top\">0</td>\n",
              "        <td style=\"padding-left: 1em; padding-right: 1em; text-align: center; vertical-align: top\">0.0</td>\n",
              "        <td style=\"padding-left: 1em; padding-right: 1em; text-align: center; vertical-align: top\">0</td>\n",
              "        <td style=\"padding-left: 1em; padding-right: 1em; text-align: center; vertical-align: top\">0</td>\n",
              "        <td style=\"padding-left: 1em; padding-right: 1em; text-align: center; vertical-align: top\">0</td>\n",
              "    </tr>\n",
              "</table>\n",
              "[10 rows x 16 columns]<br/>\n",
              "</div>"
            ],
            "text/plain": [
              "Columns:\n",
              "\tname\tstr\n",
              "\treview\tstr\n",
              "\trating\tfloat\n",
              "\tword_count\tdict\n",
              "\tsentiment\tint\n",
              "\tawesome\tfloat\n",
              "\tgreat\tfloat\n",
              "\tfantastic\tfloat\n",
              "\tamazing\tfloat\n",
              "\tlove\tfloat\n",
              "\thorrible\tint\n",
              "\tbad\tint\n",
              "\tterrible\tfloat\n",
              "\tawful\tint\n",
              "\twow\tint\n",
              "\thate\tint\n",
              "\n",
              "Rows: 10\n",
              "\n",
              "Data:\n",
              "+-------------------------------+-------------------------------+--------+\n",
              "|              name             |             review            | rating |\n",
              "+-------------------------------+-------------------------------+--------+\n",
              "|     Planetwise Wipe Pouch     | it came early and was not ... |  5.0   |\n",
              "| Annas Dream Full Quilt wit... | Very soft and comfortable ... |  5.0   |\n",
              "| Stop Pacifier Sucking with... | This is a product well wor... |  5.0   |\n",
              "| Stop Pacifier Sucking with... | All of my kids have cried ... |  5.0   |\n",
              "| Stop Pacifier Sucking with... | When the Binky Fairy came ... |  5.0   |\n",
              "| A Tale of Baby's Days with... | Lovely book, it's bound ti... |  4.0   |\n",
              "| Baby Tracker&reg; - Daily ... | Perfect for new parents. W... |  5.0   |\n",
              "| Baby Tracker&reg; - Daily ... | A friend of mine pinned th... |  5.0   |\n",
              "| Baby Tracker&reg; - Daily ... | This has been an easy way ... |  4.0   |\n",
              "| Baby Tracker&reg; - Daily ... | I love this journal and ou... |  4.0   |\n",
              "+-------------------------------+-------------------------------+--------+\n",
              "+-------------------------------+-----------+---------+-------+-----------+---------+\n",
              "|           word_count          | sentiment | awesome | great | fantastic | amazing |\n",
              "+-------------------------------+-----------+---------+-------+-----------+---------+\n",
              "| {'recommend': 1.0, 'highly... |     1     |   0.0   |  0.0  |    0.0    |   0.0   |\n",
              "| {'quilt': 1.0, 'of': 1.0, ... |     1     |   0.0   |  0.0  |    0.0    |   0.0   |\n",
              "| {'tool': 1.0, 'clever': 1.... |     1     |   0.0   |  0.0  |    0.0    |   0.0   |\n",
              "| {'rock': 1.0, 'many': 1.0,... |     1     |   0.0   |  1.0  |    0.0    |   0.0   |\n",
              "| {'thumb': 1.0, 'or': 1.0, ... |     1     |   0.0   |  1.0  |    0.0    |   0.0   |\n",
              "| {'for': 1.0, 'barnes': 1.0... |     1     |   0.0   |  0.0  |    0.0    |   0.0   |\n",
              "| {'right': 1.0, 'because': ... |     1     |   0.0   |  0.0  |    0.0    |   0.0   |\n",
              "| {'like': 1.0, 'and': 1.0, ... |     1     |   0.0   |  0.0  |    1.0    |   0.0   |\n",
              "| {'in': 1.0, 'pages': 1.0, ... |     1     |   0.0   |  0.0  |    0.0    |   0.0   |\n",
              "| {'tracker': 1.0, 'now': 1.... |     1     |   0.0   |  0.0  |    0.0    |   0.0   |\n",
              "+-------------------------------+-----------+---------+-------+-----------+---------+\n",
              "+------+----------+-----+----------+-------+-----+------+\n",
              "| love | horrible | bad | terrible | awful | wow | hate |\n",
              "+------+----------+-----+----------+-------+-----+------+\n",
              "| 1.0  |    0     |  0  |   0.0    |   0   |  0  |  0   |\n",
              "| 0.0  |    0     |  0  |   0.0    |   0   |  0  |  0   |\n",
              "| 2.0  |    0     |  0  |   0.0    |   0   |  0  |  0   |\n",
              "| 1.0  |    0     |  0  |   0.0    |   0   |  0  |  0   |\n",
              "| 0.0  |    0     |  0  |   0.0    |   0   |  0  |  0   |\n",
              "| 0.0  |    0     |  0  |   0.0    |   0   |  0  |  0   |\n",
              "| 0.0  |    0     |  0  |   0.0    |   0   |  0  |  0   |\n",
              "| 0.0  |    0     |  0  |   0.0    |   0   |  0  |  0   |\n",
              "| 0.0  |    0     |  0  |   0.0    |   0   |  0  |  0   |\n",
              "| 2.0  |    0     |  0  |   0.0    |   0   |  0  |  0   |\n",
              "+------+----------+-----+----------+-------+-----+------+\n",
              "[10 rows x 16 columns]"
            ]
          },
          "metadata": {
            "tags": []
          },
          "execution_count": 112
        }
      ]
    },
    {
      "cell_type": "code",
      "metadata": {
        "colab": {
          "base_uri": "https://localhost:8080/"
        },
        "id": "MIqvPX6aJ8Mk",
        "outputId": "a929569d-30db-4e21-c302-61c3fde777d7"
      },
      "source": [
        "print ('Word count value:')\n",
        "\n",
        "for word in selected_words:\n",
        "    print ('{0}: {1}'.format(word, products[word].sum()))"
      ],
      "execution_count": 113,
      "outputs": [
        {
          "output_type": "stream",
          "text": [
            "Word count value:\n",
            "awesome: 3892.0\n",
            "great: 55791.0\n",
            "fantastic: 1664.0\n",
            "amazing: 2628.0\n",
            "love: 41994.0\n",
            "horrible: 1110\n",
            "bad: 4183\n",
            "terrible: 1146.0\n",
            "awful: 687\n",
            "wow: 425\n",
            "hate: 1107\n"
          ],
          "name": "stdout"
        }
      ]
    },
    {
      "cell_type": "markdown",
      "metadata": {
        "id": "FnHaknB1KuLf"
      },
      "source": [
        "Create a new sentiment analysis model using selected_words as feature"
      ]
    },
    {
      "cell_type": "code",
      "metadata": {
        "id": "ELyoMMHoKdod"
      },
      "source": [
        "train_data , test_data = products.random_split(.8,seed=0)"
      ],
      "execution_count": 114,
      "outputs": []
    },
    {
      "cell_type": "code",
      "metadata": {
        "id": "wWMC5ytzK6ls"
      },
      "source": [
        "selected_words = ['awesome', 'great', 'fantastic', 'amazing', 'love', 'horrible', 'bad', 'terrible', 'awful', 'wow', 'hate']"
      ],
      "execution_count": 115,
      "outputs": []
    },
    {
      "cell_type": "code",
      "metadata": {
        "id": "XgTje-5kK__8"
      },
      "source": [
        ""
      ],
      "execution_count": 116,
      "outputs": []
    },
    {
      "cell_type": "code",
      "metadata": {
        "colab": {
          "base_uri": "https://localhost:8080/",
          "height": 357
        },
        "id": "ROBUfh3eLBpL",
        "outputId": "6d80aa57-f39c-4d0b-b122-b6a2112135d0"
      },
      "source": [
        "selected_words_model = turicreate.logistic_classifier.create(train_data,target='sentiment',features = selected_words,validation_set=test_data)\n"
      ],
      "execution_count": 117,
      "outputs": [
        {
          "output_type": "display_data",
          "data": {
            "text/html": [
              "<pre>Logistic regression:</pre>"
            ],
            "text/plain": [
              "Logistic regression:"
            ]
          },
          "metadata": {
            "tags": []
          }
        },
        {
          "output_type": "display_data",
          "data": {
            "text/html": [
              "<pre>--------------------------------------------------------</pre>"
            ],
            "text/plain": [
              "--------------------------------------------------------"
            ]
          },
          "metadata": {
            "tags": []
          }
        },
        {
          "output_type": "display_data",
          "data": {
            "text/html": [
              "<pre>Number of examples          : 133448</pre>"
            ],
            "text/plain": [
              "Number of examples          : 133448"
            ]
          },
          "metadata": {
            "tags": []
          }
        },
        {
          "output_type": "display_data",
          "data": {
            "text/html": [
              "<pre>Number of classes           : 2</pre>"
            ],
            "text/plain": [
              "Number of classes           : 2"
            ]
          },
          "metadata": {
            "tags": []
          }
        },
        {
          "output_type": "display_data",
          "data": {
            "text/html": [
              "<pre>Number of feature columns   : 11</pre>"
            ],
            "text/plain": [
              "Number of feature columns   : 11"
            ]
          },
          "metadata": {
            "tags": []
          }
        },
        {
          "output_type": "display_data",
          "data": {
            "text/html": [
              "<pre>Number of unpacked features : 11</pre>"
            ],
            "text/plain": [
              "Number of unpacked features : 11"
            ]
          },
          "metadata": {
            "tags": []
          }
        },
        {
          "output_type": "display_data",
          "data": {
            "text/html": [
              "<pre>Number of coefficients      : 12</pre>"
            ],
            "text/plain": [
              "Number of coefficients      : 12"
            ]
          },
          "metadata": {
            "tags": []
          }
        },
        {
          "output_type": "display_data",
          "data": {
            "text/html": [
              "<pre>Starting Newton Method</pre>"
            ],
            "text/plain": [
              "Starting Newton Method"
            ]
          },
          "metadata": {
            "tags": []
          }
        },
        {
          "output_type": "display_data",
          "data": {
            "text/html": [
              "<pre>--------------------------------------------------------</pre>"
            ],
            "text/plain": [
              "--------------------------------------------------------"
            ]
          },
          "metadata": {
            "tags": []
          }
        },
        {
          "output_type": "display_data",
          "data": {
            "text/html": [
              "<pre>+-----------+----------+--------------+-------------------+---------------------+</pre>"
            ],
            "text/plain": [
              "+-----------+----------+--------------+-------------------+---------------------+"
            ]
          },
          "metadata": {
            "tags": []
          }
        },
        {
          "output_type": "display_data",
          "data": {
            "text/html": [
              "<pre>| Iteration | Passes   | Elapsed Time | Training Accuracy | Validation Accuracy |</pre>"
            ],
            "text/plain": [
              "| Iteration | Passes   | Elapsed Time | Training Accuracy | Validation Accuracy |"
            ]
          },
          "metadata": {
            "tags": []
          }
        },
        {
          "output_type": "display_data",
          "data": {
            "text/html": [
              "<pre>+-----------+----------+--------------+-------------------+---------------------+</pre>"
            ],
            "text/plain": [
              "+-----------+----------+--------------+-------------------+---------------------+"
            ]
          },
          "metadata": {
            "tags": []
          }
        },
        {
          "output_type": "display_data",
          "data": {
            "text/html": [
              "<pre>| 1         | 2        | 0.256509     | 0.847401          | 0.845874            |</pre>"
            ],
            "text/plain": [
              "| 1         | 2        | 0.256509     | 0.847401          | 0.845874            |"
            ]
          },
          "metadata": {
            "tags": []
          }
        },
        {
          "output_type": "display_data",
          "data": {
            "text/html": [
              "<pre>| 2         | 3        | 0.428217     | 0.847514          | 0.846085            |</pre>"
            ],
            "text/plain": [
              "| 2         | 3        | 0.428217     | 0.847514          | 0.846085            |"
            ]
          },
          "metadata": {
            "tags": []
          }
        },
        {
          "output_type": "display_data",
          "data": {
            "text/html": [
              "<pre>| 3         | 4        | 0.587191     | 0.847626          | 0.846115            |</pre>"
            ],
            "text/plain": [
              "| 3         | 4        | 0.587191     | 0.847626          | 0.846115            |"
            ]
          },
          "metadata": {
            "tags": []
          }
        },
        {
          "output_type": "display_data",
          "data": {
            "text/html": [
              "<pre>| 4         | 5        | 0.754243     | 0.847708          | 0.846385            |</pre>"
            ],
            "text/plain": [
              "| 4         | 5        | 0.754243     | 0.847708          | 0.846385            |"
            ]
          },
          "metadata": {
            "tags": []
          }
        },
        {
          "output_type": "display_data",
          "data": {
            "text/html": [
              "<pre>| 5         | 6        | 0.913911     | 0.847708          | 0.846385            |</pre>"
            ],
            "text/plain": [
              "| 5         | 6        | 0.913911     | 0.847708          | 0.846385            |"
            ]
          },
          "metadata": {
            "tags": []
          }
        },
        {
          "output_type": "display_data",
          "data": {
            "text/html": [
              "<pre>| 6         | 7        | 1.076085     | 0.847708          | 0.846385            |</pre>"
            ],
            "text/plain": [
              "| 6         | 7        | 1.076085     | 0.847708          | 0.846385            |"
            ]
          },
          "metadata": {
            "tags": []
          }
        },
        {
          "output_type": "display_data",
          "data": {
            "text/html": [
              "<pre>+-----------+----------+--------------+-------------------+---------------------+</pre>"
            ],
            "text/plain": [
              "+-----------+----------+--------------+-------------------+---------------------+"
            ]
          },
          "metadata": {
            "tags": []
          }
        },
        {
          "output_type": "display_data",
          "data": {
            "text/html": [
              "<pre>SUCCESS: Optimal solution found.</pre>"
            ],
            "text/plain": [
              "SUCCESS: Optimal solution found."
            ]
          },
          "metadata": {
            "tags": []
          }
        },
        {
          "output_type": "display_data",
          "data": {
            "text/html": [
              "<pre></pre>"
            ],
            "text/plain": [
              ""
            ]
          },
          "metadata": {
            "tags": []
          }
        }
      ]
    },
    {
      "cell_type": "code",
      "metadata": {
        "colab": {
          "base_uri": "https://localhost:8080/",
          "height": 279
        },
        "id": "rgj9bgvwLhZX",
        "outputId": "6ad69cec-24bf-460d-f354-a56be62fbdc4"
      },
      "source": [
        "# Weight of each word\n",
        "selected_words_model.coefficients"
      ],
      "execution_count": 119,
      "outputs": [
        {
          "output_type": "execute_result",
          "data": {
            "text/html": [
              "<div style=\"max-height:1000px;max-width:1500px;overflow:auto;\"><table frame=\"box\" rules=\"cols\">\n",
              "    <tr>\n",
              "        <th style=\"padding-left: 1em; padding-right: 1em; text-align: center\">name</th>\n",
              "        <th style=\"padding-left: 1em; padding-right: 1em; text-align: center\">index</th>\n",
              "        <th style=\"padding-left: 1em; padding-right: 1em; text-align: center\">class</th>\n",
              "        <th style=\"padding-left: 1em; padding-right: 1em; text-align: center\">value</th>\n",
              "        <th style=\"padding-left: 1em; padding-right: 1em; text-align: center\">stderr</th>\n",
              "    </tr>\n",
              "    <tr>\n",
              "        <td style=\"padding-left: 1em; padding-right: 1em; text-align: center; vertical-align: top\">(intercept)</td>\n",
              "        <td style=\"padding-left: 1em; padding-right: 1em; text-align: center; vertical-align: top\">None</td>\n",
              "        <td style=\"padding-left: 1em; padding-right: 1em; text-align: center; vertical-align: top\">1</td>\n",
              "        <td style=\"padding-left: 1em; padding-right: 1em; text-align: center; vertical-align: top\">1.3365913848878148</td>\n",
              "        <td style=\"padding-left: 1em; padding-right: 1em; text-align: center; vertical-align: top\">0.008929969787657532</td>\n",
              "    </tr>\n",
              "    <tr>\n",
              "        <td style=\"padding-left: 1em; padding-right: 1em; text-align: center; vertical-align: top\">awesome</td>\n",
              "        <td style=\"padding-left: 1em; padding-right: 1em; text-align: center; vertical-align: top\">None</td>\n",
              "        <td style=\"padding-left: 1em; padding-right: 1em; text-align: center; vertical-align: top\">1</td>\n",
              "        <td style=\"padding-left: 1em; padding-right: 1em; text-align: center; vertical-align: top\">1.1335346660341103</td>\n",
              "        <td style=\"padding-left: 1em; padding-right: 1em; text-align: center; vertical-align: top\">0.08399643983187567</td>\n",
              "    </tr>\n",
              "    <tr>\n",
              "        <td style=\"padding-left: 1em; padding-right: 1em; text-align: center; vertical-align: top\">great</td>\n",
              "        <td style=\"padding-left: 1em; padding-right: 1em; text-align: center; vertical-align: top\">None</td>\n",
              "        <td style=\"padding-left: 1em; padding-right: 1em; text-align: center; vertical-align: top\">1</td>\n",
              "        <td style=\"padding-left: 1em; padding-right: 1em; text-align: center; vertical-align: top\">0.8630655001195999</td>\n",
              "        <td style=\"padding-left: 1em; padding-right: 1em; text-align: center; vertical-align: top\">0.018955052444380473</td>\n",
              "    </tr>\n",
              "    <tr>\n",
              "        <td style=\"padding-left: 1em; padding-right: 1em; text-align: center; vertical-align: top\">fantastic</td>\n",
              "        <td style=\"padding-left: 1em; padding-right: 1em; text-align: center; vertical-align: top\">None</td>\n",
              "        <td style=\"padding-left: 1em; padding-right: 1em; text-align: center; vertical-align: top\">1</td>\n",
              "        <td style=\"padding-left: 1em; padding-right: 1em; text-align: center; vertical-align: top\">0.8858047568813963</td>\n",
              "        <td style=\"padding-left: 1em; padding-right: 1em; text-align: center; vertical-align: top\">0.11167591293399713</td>\n",
              "    </tr>\n",
              "    <tr>\n",
              "        <td style=\"padding-left: 1em; padding-right: 1em; text-align: center; vertical-align: top\">amazing</td>\n",
              "        <td style=\"padding-left: 1em; padding-right: 1em; text-align: center; vertical-align: top\">None</td>\n",
              "        <td style=\"padding-left: 1em; padding-right: 1em; text-align: center; vertical-align: top\">1</td>\n",
              "        <td style=\"padding-left: 1em; padding-right: 1em; text-align: center; vertical-align: top\">1.1000933113659914</td>\n",
              "        <td style=\"padding-left: 1em; padding-right: 1em; text-align: center; vertical-align: top\">0.09954776260465965</td>\n",
              "    </tr>\n",
              "    <tr>\n",
              "        <td style=\"padding-left: 1em; padding-right: 1em; text-align: center; vertical-align: top\">love</td>\n",
              "        <td style=\"padding-left: 1em; padding-right: 1em; text-align: center; vertical-align: top\">None</td>\n",
              "        <td style=\"padding-left: 1em; padding-right: 1em; text-align: center; vertical-align: top\">1</td>\n",
              "        <td style=\"padding-left: 1em; padding-right: 1em; text-align: center; vertical-align: top\">1.3592688669224757</td>\n",
              "        <td style=\"padding-left: 1em; padding-right: 1em; text-align: center; vertical-align: top\">0.028068300152099997</td>\n",
              "    </tr>\n",
              "    <tr>\n",
              "        <td style=\"padding-left: 1em; padding-right: 1em; text-align: center; vertical-align: top\">horrible</td>\n",
              "        <td style=\"padding-left: 1em; padding-right: 1em; text-align: center; vertical-align: top\">None</td>\n",
              "        <td style=\"padding-left: 1em; padding-right: 1em; text-align: center; vertical-align: top\">1</td>\n",
              "        <td style=\"padding-left: 1em; padding-right: 1em; text-align: center; vertical-align: top\">-2.251335236759124</td>\n",
              "        <td style=\"padding-left: 1em; padding-right: 1em; text-align: center; vertical-align: top\">0.08020249388788399</td>\n",
              "    </tr>\n",
              "    <tr>\n",
              "        <td style=\"padding-left: 1em; padding-right: 1em; text-align: center; vertical-align: top\">bad</td>\n",
              "        <td style=\"padding-left: 1em; padding-right: 1em; text-align: center; vertical-align: top\">None</td>\n",
              "        <td style=\"padding-left: 1em; padding-right: 1em; text-align: center; vertical-align: top\">1</td>\n",
              "        <td style=\"padding-left: 1em; padding-right: 1em; text-align: center; vertical-align: top\">-0.9914778800650894</td>\n",
              "        <td style=\"padding-left: 1em; padding-right: 1em; text-align: center; vertical-align: top\">0.03848428664699065</td>\n",
              "    </tr>\n",
              "    <tr>\n",
              "        <td style=\"padding-left: 1em; padding-right: 1em; text-align: center; vertical-align: top\">terrible</td>\n",
              "        <td style=\"padding-left: 1em; padding-right: 1em; text-align: center; vertical-align: top\">None</td>\n",
              "        <td style=\"padding-left: 1em; padding-right: 1em; text-align: center; vertical-align: top\">1</td>\n",
              "        <td style=\"padding-left: 1em; padding-right: 1em; text-align: center; vertical-align: top\">-2.2236614360851554</td>\n",
              "        <td style=\"padding-left: 1em; padding-right: 1em; text-align: center; vertical-align: top\">0.07731736203785729</td>\n",
              "    </tr>\n",
              "    <tr>\n",
              "        <td style=\"padding-left: 1em; padding-right: 1em; text-align: center; vertical-align: top\">awful</td>\n",
              "        <td style=\"padding-left: 1em; padding-right: 1em; text-align: center; vertical-align: top\">None</td>\n",
              "        <td style=\"padding-left: 1em; padding-right: 1em; text-align: center; vertical-align: top\">1</td>\n",
              "        <td style=\"padding-left: 1em; padding-right: 1em; text-align: center; vertical-align: top\">-2.05290820403138</td>\n",
              "        <td style=\"padding-left: 1em; padding-right: 1em; text-align: center; vertical-align: top\">0.1009973543525922</td>\n",
              "    </tr>\n",
              "</table>\n",
              "[12 rows x 5 columns]<br/>Note: Only the head of the SFrame is printed.<br/>You can use print_rows(num_rows=m, num_columns=n) to print more rows and columns.\n",
              "</div>"
            ],
            "text/plain": [
              "Columns:\n",
              "\tname\tstr\n",
              "\tindex\tstr\n",
              "\tclass\tint\n",
              "\tvalue\tfloat\n",
              "\tstderr\tfloat\n",
              "\n",
              "Rows: 12\n",
              "\n",
              "Data:\n",
              "+-------------+-------+-------+---------------------+----------------------+\n",
              "|     name    | index | class |        value        |        stderr        |\n",
              "+-------------+-------+-------+---------------------+----------------------+\n",
              "| (intercept) |  None |   1   |  1.3365913848878148 | 0.008929969787657532 |\n",
              "|   awesome   |  None |   1   |  1.1335346660341103 | 0.08399643983187567  |\n",
              "|    great    |  None |   1   |  0.8630655001195999 | 0.018955052444380473 |\n",
              "|  fantastic  |  None |   1   |  0.8858047568813963 | 0.11167591293399713  |\n",
              "|   amazing   |  None |   1   |  1.1000933113659914 | 0.09954776260465965  |\n",
              "|     love    |  None |   1   |  1.3592688669224757 | 0.028068300152099997 |\n",
              "|   horrible  |  None |   1   |  -2.251335236759124 | 0.08020249388788399  |\n",
              "|     bad     |  None |   1   | -0.9914778800650894 | 0.03848428664699065  |\n",
              "|   terrible  |  None |   1   | -2.2236614360851554 | 0.07731736203785729  |\n",
              "|    awful    |  None |   1   |  -2.05290820403138  |  0.1009973543525922  |\n",
              "+-------------+-------+-------+---------------------+----------------------+\n",
              "[12 rows x 5 columns]\n",
              "Note: Only the head of the SFrame is printed.\n",
              "You can use print_rows(num_rows=m, num_columns=n) to print more rows and columns."
            ]
          },
          "metadata": {
            "tags": []
          },
          "execution_count": 119
        }
      ]
    },
    {
      "cell_type": "code",
      "metadata": {
        "colab": {
          "base_uri": "https://localhost:8080/",
          "height": 279
        },
        "id": "2N_JCAx5Micy",
        "outputId": "993edba7-d10f-400e-ba75-3aadfeb223c2"
      },
      "source": [
        "selected_words_model.coefficients.sort('value', ascending=False)\n"
      ],
      "execution_count": 123,
      "outputs": [
        {
          "output_type": "execute_result",
          "data": {
            "text/html": [
              "<div style=\"max-height:1000px;max-width:1500px;overflow:auto;\"><table frame=\"box\" rules=\"cols\">\n",
              "    <tr>\n",
              "        <th style=\"padding-left: 1em; padding-right: 1em; text-align: center\">name</th>\n",
              "        <th style=\"padding-left: 1em; padding-right: 1em; text-align: center\">index</th>\n",
              "        <th style=\"padding-left: 1em; padding-right: 1em; text-align: center\">class</th>\n",
              "        <th style=\"padding-left: 1em; padding-right: 1em; text-align: center\">value</th>\n",
              "        <th style=\"padding-left: 1em; padding-right: 1em; text-align: center\">stderr</th>\n",
              "    </tr>\n",
              "    <tr>\n",
              "        <td style=\"padding-left: 1em; padding-right: 1em; text-align: center; vertical-align: top\">love</td>\n",
              "        <td style=\"padding-left: 1em; padding-right: 1em; text-align: center; vertical-align: top\">None</td>\n",
              "        <td style=\"padding-left: 1em; padding-right: 1em; text-align: center; vertical-align: top\">1</td>\n",
              "        <td style=\"padding-left: 1em; padding-right: 1em; text-align: center; vertical-align: top\">1.3592688669224757</td>\n",
              "        <td style=\"padding-left: 1em; padding-right: 1em; text-align: center; vertical-align: top\">0.028068300152099997</td>\n",
              "    </tr>\n",
              "    <tr>\n",
              "        <td style=\"padding-left: 1em; padding-right: 1em; text-align: center; vertical-align: top\">(intercept)</td>\n",
              "        <td style=\"padding-left: 1em; padding-right: 1em; text-align: center; vertical-align: top\">None</td>\n",
              "        <td style=\"padding-left: 1em; padding-right: 1em; text-align: center; vertical-align: top\">1</td>\n",
              "        <td style=\"padding-left: 1em; padding-right: 1em; text-align: center; vertical-align: top\">1.3365913848878148</td>\n",
              "        <td style=\"padding-left: 1em; padding-right: 1em; text-align: center; vertical-align: top\">0.008929969787657532</td>\n",
              "    </tr>\n",
              "    <tr>\n",
              "        <td style=\"padding-left: 1em; padding-right: 1em; text-align: center; vertical-align: top\">awesome</td>\n",
              "        <td style=\"padding-left: 1em; padding-right: 1em; text-align: center; vertical-align: top\">None</td>\n",
              "        <td style=\"padding-left: 1em; padding-right: 1em; text-align: center; vertical-align: top\">1</td>\n",
              "        <td style=\"padding-left: 1em; padding-right: 1em; text-align: center; vertical-align: top\">1.1335346660341103</td>\n",
              "        <td style=\"padding-left: 1em; padding-right: 1em; text-align: center; vertical-align: top\">0.08399643983187567</td>\n",
              "    </tr>\n",
              "    <tr>\n",
              "        <td style=\"padding-left: 1em; padding-right: 1em; text-align: center; vertical-align: top\">amazing</td>\n",
              "        <td style=\"padding-left: 1em; padding-right: 1em; text-align: center; vertical-align: top\">None</td>\n",
              "        <td style=\"padding-left: 1em; padding-right: 1em; text-align: center; vertical-align: top\">1</td>\n",
              "        <td style=\"padding-left: 1em; padding-right: 1em; text-align: center; vertical-align: top\">1.1000933113659914</td>\n",
              "        <td style=\"padding-left: 1em; padding-right: 1em; text-align: center; vertical-align: top\">0.09954776260465965</td>\n",
              "    </tr>\n",
              "    <tr>\n",
              "        <td style=\"padding-left: 1em; padding-right: 1em; text-align: center; vertical-align: top\">fantastic</td>\n",
              "        <td style=\"padding-left: 1em; padding-right: 1em; text-align: center; vertical-align: top\">None</td>\n",
              "        <td style=\"padding-left: 1em; padding-right: 1em; text-align: center; vertical-align: top\">1</td>\n",
              "        <td style=\"padding-left: 1em; padding-right: 1em; text-align: center; vertical-align: top\">0.8858047568813963</td>\n",
              "        <td style=\"padding-left: 1em; padding-right: 1em; text-align: center; vertical-align: top\">0.11167591293399713</td>\n",
              "    </tr>\n",
              "    <tr>\n",
              "        <td style=\"padding-left: 1em; padding-right: 1em; text-align: center; vertical-align: top\">great</td>\n",
              "        <td style=\"padding-left: 1em; padding-right: 1em; text-align: center; vertical-align: top\">None</td>\n",
              "        <td style=\"padding-left: 1em; padding-right: 1em; text-align: center; vertical-align: top\">1</td>\n",
              "        <td style=\"padding-left: 1em; padding-right: 1em; text-align: center; vertical-align: top\">0.8630655001195999</td>\n",
              "        <td style=\"padding-left: 1em; padding-right: 1em; text-align: center; vertical-align: top\">0.018955052444380473</td>\n",
              "    </tr>\n",
              "    <tr>\n",
              "        <td style=\"padding-left: 1em; padding-right: 1em; text-align: center; vertical-align: top\">wow</td>\n",
              "        <td style=\"padding-left: 1em; padding-right: 1em; text-align: center; vertical-align: top\">None</td>\n",
              "        <td style=\"padding-left: 1em; padding-right: 1em; text-align: center; vertical-align: top\">1</td>\n",
              "        <td style=\"padding-left: 1em; padding-right: 1em; text-align: center; vertical-align: top\">-0.00953823606771224</td>\n",
              "        <td style=\"padding-left: 1em; padding-right: 1em; text-align: center; vertical-align: top\">0.1604641122471162</td>\n",
              "    </tr>\n",
              "    <tr>\n",
              "        <td style=\"padding-left: 1em; padding-right: 1em; text-align: center; vertical-align: top\">bad</td>\n",
              "        <td style=\"padding-left: 1em; padding-right: 1em; text-align: center; vertical-align: top\">None</td>\n",
              "        <td style=\"padding-left: 1em; padding-right: 1em; text-align: center; vertical-align: top\">1</td>\n",
              "        <td style=\"padding-left: 1em; padding-right: 1em; text-align: center; vertical-align: top\">-0.9914778800650894</td>\n",
              "        <td style=\"padding-left: 1em; padding-right: 1em; text-align: center; vertical-align: top\">0.03848428664699065</td>\n",
              "    </tr>\n",
              "    <tr>\n",
              "        <td style=\"padding-left: 1em; padding-right: 1em; text-align: center; vertical-align: top\">hate</td>\n",
              "        <td style=\"padding-left: 1em; padding-right: 1em; text-align: center; vertical-align: top\">None</td>\n",
              "        <td style=\"padding-left: 1em; padding-right: 1em; text-align: center; vertical-align: top\">1</td>\n",
              "        <td style=\"padding-left: 1em; padding-right: 1em; text-align: center; vertical-align: top\">-1.3484407222463402</td>\n",
              "        <td style=\"padding-left: 1em; padding-right: 1em; text-align: center; vertical-align: top\">0.07715698604297318</td>\n",
              "    </tr>\n",
              "    <tr>\n",
              "        <td style=\"padding-left: 1em; padding-right: 1em; text-align: center; vertical-align: top\">awful</td>\n",
              "        <td style=\"padding-left: 1em; padding-right: 1em; text-align: center; vertical-align: top\">None</td>\n",
              "        <td style=\"padding-left: 1em; padding-right: 1em; text-align: center; vertical-align: top\">1</td>\n",
              "        <td style=\"padding-left: 1em; padding-right: 1em; text-align: center; vertical-align: top\">-2.05290820403138</td>\n",
              "        <td style=\"padding-left: 1em; padding-right: 1em; text-align: center; vertical-align: top\">0.1009973543525922</td>\n",
              "    </tr>\n",
              "</table>\n",
              "[12 rows x 5 columns]<br/>Note: Only the head of the SFrame is printed.<br/>You can use print_rows(num_rows=m, num_columns=n) to print more rows and columns.\n",
              "</div>"
            ],
            "text/plain": [
              "Columns:\n",
              "\tname\tstr\n",
              "\tindex\tstr\n",
              "\tclass\tint\n",
              "\tvalue\tfloat\n",
              "\tstderr\tfloat\n",
              "\n",
              "Rows: 12\n",
              "\n",
              "Data:\n",
              "+-------------+-------+-------+----------------------+----------------------+\n",
              "|     name    | index | class |        value         |        stderr        |\n",
              "+-------------+-------+-------+----------------------+----------------------+\n",
              "|     love    |  None |   1   |  1.3592688669224757  | 0.028068300152099997 |\n",
              "| (intercept) |  None |   1   |  1.3365913848878148  | 0.008929969787657532 |\n",
              "|   awesome   |  None |   1   |  1.1335346660341103  | 0.08399643983187567  |\n",
              "|   amazing   |  None |   1   |  1.1000933113659914  | 0.09954776260465965  |\n",
              "|  fantastic  |  None |   1   |  0.8858047568813963  | 0.11167591293399713  |\n",
              "|    great    |  None |   1   |  0.8630655001195999  | 0.018955052444380473 |\n",
              "|     wow     |  None |   1   | -0.00953823606771224 |  0.1604641122471162  |\n",
              "|     bad     |  None |   1   | -0.9914778800650894  | 0.03848428664699065  |\n",
              "|     hate    |  None |   1   | -1.3484407222463402  | 0.07715698604297318  |\n",
              "|    awful    |  None |   1   |  -2.05290820403138   |  0.1009973543525922  |\n",
              "+-------------+-------+-------+----------------------+----------------------+\n",
              "[12 rows x 5 columns]\n",
              "Note: Only the head of the SFrame is printed.\n",
              "You can use print_rows(num_rows=m, num_columns=n) to print more rows and columns."
            ]
          },
          "metadata": {
            "tags": []
          },
          "execution_count": 123
        }
      ]
    },
    {
      "cell_type": "code",
      "metadata": {
        "colab": {
          "base_uri": "https://localhost:8080/"
        },
        "id": "rqVgASOFL19l",
        "outputId": "c13557f7-2806-4092-d111-faab30c0acbb"
      },
      "source": [
        "selected_words_model.evaluate(test_data)"
      ],
      "execution_count": 120,
      "outputs": [
        {
          "output_type": "execute_result",
          "data": {
            "text/plain": [
              "{'accuracy': 0.8463848186404036,\n",
              " 'auc': 0.6935096220934976,\n",
              " 'confusion_matrix': Columns:\n",
              " \ttarget_label\tint\n",
              " \tpredicted_label\tint\n",
              " \tcount\tint\n",
              " \n",
              " Rows: 4\n",
              " \n",
              " Data:\n",
              " +--------------+-----------------+-------+\n",
              " | target_label | predicted_label | count |\n",
              " +--------------+-----------------+-------+\n",
              " |      1       |        0        |  159  |\n",
              " |      0       |        0        |  371  |\n",
              " |      0       |        1        |  4957 |\n",
              " |      1       |        1        | 27817 |\n",
              " +--------------+-----------------+-------+\n",
              " [4 rows x 3 columns],\n",
              " 'f1_score': 0.9157860082304526,\n",
              " 'log_loss': 0.3962265467087835,\n",
              " 'precision': 0.8487520595594068,\n",
              " 'recall': 0.9943165570488991,\n",
              " 'roc_curve': Columns:\n",
              " \tthreshold\tfloat\n",
              " \tfpr\tfloat\n",
              " \ttpr\tfloat\n",
              " \tp\tint\n",
              " \tn\tint\n",
              " \n",
              " Rows: 1001\n",
              " \n",
              " Data:\n",
              " +-----------+--------------------+-----+-------+------+\n",
              " | threshold |        fpr         | tpr |   p   |  n   |\n",
              " +-----------+--------------------+-----+-------+------+\n",
              " |    0.0    |        1.0         | 1.0 | 27976 | 5328 |\n",
              " |   0.001   | 0.9994369369369369 | 1.0 | 27976 | 5328 |\n",
              " |   0.002   | 0.9992492492492493 | 1.0 | 27976 | 5328 |\n",
              " |   0.003   | 0.9990615615615616 | 1.0 | 27976 | 5328 |\n",
              " |   0.004   | 0.9990615615615616 | 1.0 | 27976 | 5328 |\n",
              " |   0.005   | 0.9981231231231231 | 1.0 | 27976 | 5328 |\n",
              " |   0.006   | 0.9981231231231231 | 1.0 | 27976 | 5328 |\n",
              " |   0.007   | 0.9979354354354354 | 1.0 | 27976 | 5328 |\n",
              " |   0.008   | 0.9973723723723724 | 1.0 | 27976 | 5328 |\n",
              " |   0.009   | 0.9971846846846847 | 1.0 | 27976 | 5328 |\n",
              " +-----------+--------------------+-----+-------+------+\n",
              " [1001 rows x 5 columns]\n",
              " Note: Only the head of the SFrame is printed.\n",
              " You can use print_rows(num_rows=m, num_columns=n) to print more rows and columns.}"
            ]
          },
          "metadata": {
            "tags": []
          },
          "execution_count": 120
        }
      ]
    },
    {
      "cell_type": "code",
      "metadata": {
        "colab": {
          "base_uri": "https://localhost:8080/"
        },
        "id": "xFaCtHTpMGac",
        "outputId": "e4753581-3d14-4ea9-dad2-fff931d791d3"
      },
      "source": [
        "#Evaluate new model\n",
        "selected_words_model.evaluate(test_data, metric='roc_curve')"
      ],
      "execution_count": 121,
      "outputs": [
        {
          "output_type": "execute_result",
          "data": {
            "text/plain": [
              "{'roc_curve': Columns:\n",
              " \tthreshold\tfloat\n",
              " \tfpr\tfloat\n",
              " \ttpr\tfloat\n",
              " \tp\tint\n",
              " \tn\tint\n",
              " \n",
              " Rows: 1001\n",
              " \n",
              " Data:\n",
              " +-----------+--------------------+-----+-------+------+\n",
              " | threshold |        fpr         | tpr |   p   |  n   |\n",
              " +-----------+--------------------+-----+-------+------+\n",
              " |    0.0    |        1.0         | 1.0 | 27976 | 5328 |\n",
              " |   0.001   | 0.9994369369369369 | 1.0 | 27976 | 5328 |\n",
              " |   0.002   | 0.9992492492492493 | 1.0 | 27976 | 5328 |\n",
              " |   0.003   | 0.9990615615615616 | 1.0 | 27976 | 5328 |\n",
              " |   0.004   | 0.9990615615615616 | 1.0 | 27976 | 5328 |\n",
              " |   0.005   | 0.9981231231231231 | 1.0 | 27976 | 5328 |\n",
              " |   0.006   | 0.9981231231231231 | 1.0 | 27976 | 5328 |\n",
              " |   0.007   | 0.9979354354354354 | 1.0 | 27976 | 5328 |\n",
              " |   0.008   | 0.9973723723723724 | 1.0 | 27976 | 5328 |\n",
              " |   0.009   | 0.9971846846846847 | 1.0 | 27976 | 5328 |\n",
              " +-----------+--------------------+-----+-------+------+\n",
              " [1001 rows x 5 columns]\n",
              " Note: Only the head of the SFrame is printed.\n",
              " You can use print_rows(num_rows=m, num_columns=n) to print more rows and columns.}"
            ]
          },
          "metadata": {
            "tags": []
          },
          "execution_count": 121
        }
      ]
    },
    {
      "cell_type": "code",
      "metadata": {
        "colab": {
          "base_uri": "https://localhost:8080/"
        },
        "id": "lB3YBjrpMU7d",
        "outputId": "3cfa718c-cb7d-49e0-c408-88ab25c72f49"
      },
      "source": [
        "# compare with old sentiment model\n",
        "sentiment_model.evaluate(test_data,metric='roc_curve')"
      ],
      "execution_count": 124,
      "outputs": [
        {
          "output_type": "execute_result",
          "data": {
            "text/plain": [
              "{'roc_curve': Columns:\n",
              " \tthreshold\tfloat\n",
              " \tfpr\tfloat\n",
              " \ttpr\tfloat\n",
              " \tp\tint\n",
              " \tn\tint\n",
              " \n",
              " Rows: 1001\n",
              " \n",
              " Data:\n",
              " +-----------+--------------------+--------------------+-------+------+\n",
              " | threshold |        fpr         |        tpr         |   p   |  n   |\n",
              " +-----------+--------------------+--------------------+-------+------+\n",
              " |    0.0    |        1.0         |        1.0         | 27976 | 5328 |\n",
              " |   0.001   | 0.698948948948949  | 0.9933514440949385 | 27976 | 5328 |\n",
              " |   0.002   | 0.6619744744744744 | 0.9922076065198742 | 27976 | 5328 |\n",
              " |   0.003   | 0.6385135135135135 | 0.9909922790963683 | 27976 | 5328 |\n",
              " |   0.004   |  0.62256006006006  | 0.9903846153846154 | 27976 | 5328 |\n",
              " |   0.005   | 0.6112987987987988 | 0.989848441521304  | 27976 | 5328 |\n",
              " |   0.006   | 0.6002252252252253 | 0.9894195024306548 | 27976 | 5328 |\n",
              " |   0.007   | 0.589527027027027  | 0.9888475836431226 | 27976 | 5328 |\n",
              " |   0.008   | 0.5816441441441441 | 0.9883828996282528 | 27976 | 5328 |\n",
              " |   0.009   | 0.574512012012012  | 0.9880611953102659 | 27976 | 5328 |\n",
              " +-----------+--------------------+--------------------+-------+------+\n",
              " [1001 rows x 5 columns]\n",
              " Note: Only the head of the SFrame is printed.\n",
              " You can use print_rows(num_rows=m, num_columns=n) to print more rows and columns.}"
            ]
          },
          "metadata": {
            "tags": []
          },
          "execution_count": 124
        }
      ]
    },
    {
      "cell_type": "code",
      "metadata": {
        "colab": {
          "base_uri": "https://localhost:8080/"
        },
        "id": "CNz1tS_VQxIV",
        "outputId": "8cfc0575-259b-4c2f-f211-ef78ccf49180"
      },
      "source": [
        "sentiment_model.evaluate(test_data)"
      ],
      "execution_count": 139,
      "outputs": [
        {
          "output_type": "execute_result",
          "data": {
            "text/plain": [
              "{'accuracy': 0.9176975738650012,\n",
              " 'auc': 0.9258242975424673,\n",
              " 'confusion_matrix': Columns:\n",
              " \ttarget_label\tint\n",
              " \tpredicted_label\tint\n",
              " \tcount\tint\n",
              " \n",
              " Rows: 4\n",
              " \n",
              " Data:\n",
              " +--------------+-----------------+-------+\n",
              " | target_label | predicted_label | count |\n",
              " +--------------+-----------------+-------+\n",
              " |      0       |        1        |  1397 |\n",
              " |      1       |        0        |  1344 |\n",
              " |      0       |        0        |  3931 |\n",
              " |      1       |        1        | 26632 |\n",
              " +--------------+-----------------+-------+\n",
              " [4 rows x 3 columns],\n",
              " 'f1_score': 0.951057941255245,\n",
              " 'log_loss': 0.33047871872209617,\n",
              " 'precision': 0.9501587641371436,\n",
              " 'recall': 0.9519588218472976,\n",
              " 'roc_curve': Columns:\n",
              " \tthreshold\tfloat\n",
              " \tfpr\tfloat\n",
              " \ttpr\tfloat\n",
              " \tp\tint\n",
              " \tn\tint\n",
              " \n",
              " Rows: 1001\n",
              " \n",
              " Data:\n",
              " +-----------+--------------------+--------------------+-------+------+\n",
              " | threshold |        fpr         |        tpr         |   p   |  n   |\n",
              " +-----------+--------------------+--------------------+-------+------+\n",
              " |    0.0    |        1.0         |        1.0         | 27976 | 5328 |\n",
              " |   0.001   | 0.698948948948949  | 0.9933514440949385 | 27976 | 5328 |\n",
              " |   0.002   | 0.6619744744744744 | 0.9922076065198742 | 27976 | 5328 |\n",
              " |   0.003   | 0.6385135135135135 | 0.9909922790963683 | 27976 | 5328 |\n",
              " |   0.004   |  0.62256006006006  | 0.9903846153846154 | 27976 | 5328 |\n",
              " |   0.005   | 0.6112987987987988 | 0.989848441521304  | 27976 | 5328 |\n",
              " |   0.006   | 0.6002252252252253 | 0.9894195024306548 | 27976 | 5328 |\n",
              " |   0.007   | 0.589527027027027  | 0.9888475836431226 | 27976 | 5328 |\n",
              " |   0.008   | 0.5816441441441441 | 0.9883828996282528 | 27976 | 5328 |\n",
              " |   0.009   | 0.574512012012012  | 0.9880611953102659 | 27976 | 5328 |\n",
              " +-----------+--------------------+--------------------+-------+------+\n",
              " [1001 rows x 5 columns]\n",
              " Note: Only the head of the SFrame is printed.\n",
              " You can use print_rows(num_rows=m, num_columns=n) to print more rows and columns.}"
            ]
          },
          "metadata": {
            "tags": []
          },
          "execution_count": 139
        }
      ]
    },
    {
      "cell_type": "markdown",
      "metadata": {
        "id": "d7qSD1LoNn4E"
      },
      "source": [
        "Examine new model with product - ‘Baby Trend Diaper Champ’."
      ]
    },
    {
      "cell_type": "code",
      "metadata": {
        "id": "sSvqf6gqNlVD"
      },
      "source": [
        "diaper_champ_reviews = products[products['name'] == 'Baby Trend Diaper Champ']"
      ],
      "execution_count": 125,
      "outputs": []
    },
    {
      "cell_type": "code",
      "metadata": {
        "colab": {
          "base_uri": "https://localhost:8080/",
          "height": 626
        },
        "id": "u-cxUB8GNGmr",
        "outputId": "d10c25c8-986f-4158-c384-4b1a5b8c7107"
      },
      "source": [
        "diaper_champ_reviews.head()"
      ],
      "execution_count": 126,
      "outputs": [
        {
          "output_type": "execute_result",
          "data": {
            "text/html": [
              "<div style=\"max-height:1000px;max-width:1500px;overflow:auto;\"><table frame=\"box\" rules=\"cols\">\n",
              "    <tr>\n",
              "        <th style=\"padding-left: 1em; padding-right: 1em; text-align: center\">name</th>\n",
              "        <th style=\"padding-left: 1em; padding-right: 1em; text-align: center\">review</th>\n",
              "        <th style=\"padding-left: 1em; padding-right: 1em; text-align: center\">rating</th>\n",
              "        <th style=\"padding-left: 1em; padding-right: 1em; text-align: center\">word_count</th>\n",
              "        <th style=\"padding-left: 1em; padding-right: 1em; text-align: center\">sentiment</th>\n",
              "        <th style=\"padding-left: 1em; padding-right: 1em; text-align: center\">awesome</th>\n",
              "    </tr>\n",
              "    <tr>\n",
              "        <td style=\"padding-left: 1em; padding-right: 1em; text-align: center; vertical-align: top\">Baby Trend Diaper Champ</td>\n",
              "        <td style=\"padding-left: 1em; padding-right: 1em; text-align: center; vertical-align: top\">Ok - newsflash.  Diapers<br>are just smelly.  We&#x27;ve ...</td>\n",
              "        <td style=\"padding-left: 1em; padding-right: 1em; text-align: center; vertical-align: top\">4.0</td>\n",
              "        <td style=\"padding-left: 1em; padding-right: 1em; text-align: center; vertical-align: top\">{&#x27;convenient&#x27;: 1.0,<br>&#x27;more&#x27;: 1.0, &#x27;trash&#x27;: ...</td>\n",
              "        <td style=\"padding-left: 1em; padding-right: 1em; text-align: center; vertical-align: top\">1</td>\n",
              "        <td style=\"padding-left: 1em; padding-right: 1em; text-align: center; vertical-align: top\">0.0</td>\n",
              "    </tr>\n",
              "    <tr>\n",
              "        <td style=\"padding-left: 1em; padding-right: 1em; text-align: center; vertical-align: top\">Baby Trend Diaper Champ</td>\n",
              "        <td style=\"padding-left: 1em; padding-right: 1em; text-align: center; vertical-align: top\">My husband and I selected<br>the Diaper &quot;Champ&quot; ma ...</td>\n",
              "        <td style=\"padding-left: 1em; padding-right: 1em; text-align: center; vertical-align: top\">1.0</td>\n",
              "        <td style=\"padding-left: 1em; padding-right: 1em; text-align: center; vertical-align: top\">{&#x27;system&#x27;: 1.0, &#x27;try&#x27;:<br>1.0, &#x27;re&#x27;: 1.0, &#x27;still&#x27;: ...</td>\n",
              "        <td style=\"padding-left: 1em; padding-right: 1em; text-align: center; vertical-align: top\">0</td>\n",
              "        <td style=\"padding-left: 1em; padding-right: 1em; text-align: center; vertical-align: top\">0.0</td>\n",
              "    </tr>\n",
              "    <tr>\n",
              "        <td style=\"padding-left: 1em; padding-right: 1em; text-align: center; vertical-align: top\">Baby Trend Diaper Champ</td>\n",
              "        <td style=\"padding-left: 1em; padding-right: 1em; text-align: center; vertical-align: top\">Excellent diaper disposal<br>unit.  I used it in ...</td>\n",
              "        <td style=\"padding-left: 1em; padding-right: 1em; text-align: center; vertical-align: top\">5.0</td>\n",
              "        <td style=\"padding-left: 1em; padding-right: 1em; text-align: center; vertical-align: top\">{&#x27;nose&#x27;: 1.0, &#x27;for&#x27;: 2.0,<br>&#x27;investment&#x27;: 1.0, ...</td>\n",
              "        <td style=\"padding-left: 1em; padding-right: 1em; text-align: center; vertical-align: top\">1</td>\n",
              "        <td style=\"padding-left: 1em; padding-right: 1em; text-align: center; vertical-align: top\">0.0</td>\n",
              "    </tr>\n",
              "    <tr>\n",
              "        <td style=\"padding-left: 1em; padding-right: 1em; text-align: center; vertical-align: top\">Baby Trend Diaper Champ</td>\n",
              "        <td style=\"padding-left: 1em; padding-right: 1em; text-align: center; vertical-align: top\">We love our diaper champ.<br>It is very easy to use ...</td>\n",
              "        <td style=\"padding-left: 1em; padding-right: 1em; text-align: center; vertical-align: top\">5.0</td>\n",
              "        <td style=\"padding-left: 1em; padding-right: 1em; text-align: center; vertical-align: top\">{&#x27;out&#x27;: 1.0, &#x27;pull&#x27;: 1.0,<br>&#x27;open&#x27;: 1.0, &#x27;pail&#x27;:  ...</td>\n",
              "        <td style=\"padding-left: 1em; padding-right: 1em; text-align: center; vertical-align: top\">1</td>\n",
              "        <td style=\"padding-left: 1em; padding-right: 1em; text-align: center; vertical-align: top\">0.0</td>\n",
              "    </tr>\n",
              "    <tr>\n",
              "        <td style=\"padding-left: 1em; padding-right: 1em; text-align: center; vertical-align: top\">Baby Trend Diaper Champ</td>\n",
              "        <td style=\"padding-left: 1em; padding-right: 1em; text-align: center; vertical-align: top\">Two girlfriends and two<br>family members put me ...</td>\n",
              "        <td style=\"padding-left: 1em; padding-right: 1em; text-align: center; vertical-align: top\">5.0</td>\n",
              "        <td style=\"padding-left: 1em; padding-right: 1em; text-align: center; vertical-align: top\">{&#x27;winter&#x27;: 1.0,<br>&#x27;outside&#x27;: 1.0, &#x27;day&#x27;: ...</td>\n",
              "        <td style=\"padding-left: 1em; padding-right: 1em; text-align: center; vertical-align: top\">1</td>\n",
              "        <td style=\"padding-left: 1em; padding-right: 1em; text-align: center; vertical-align: top\">0.0</td>\n",
              "    </tr>\n",
              "    <tr>\n",
              "        <td style=\"padding-left: 1em; padding-right: 1em; text-align: center; vertical-align: top\">Baby Trend Diaper Champ</td>\n",
              "        <td style=\"padding-left: 1em; padding-right: 1em; text-align: center; vertical-align: top\">I waited to review this<br>until I saw how it ...</td>\n",
              "        <td style=\"padding-left: 1em; padding-right: 1em; text-align: center; vertical-align: top\">4.0</td>\n",
              "        <td style=\"padding-left: 1em; padding-right: 1em; text-align: center; vertical-align: top\">{&#x27;mom&#x27;: 1.0, &#x27;my&#x27;: 1.0,<br>&#x27;empty&#x27;: 2.0, &#x27;poop&#x27;: ...</td>\n",
              "        <td style=\"padding-left: 1em; padding-right: 1em; text-align: center; vertical-align: top\">1</td>\n",
              "        <td style=\"padding-left: 1em; padding-right: 1em; text-align: center; vertical-align: top\">0.0</td>\n",
              "    </tr>\n",
              "    <tr>\n",
              "        <td style=\"padding-left: 1em; padding-right: 1em; text-align: center; vertical-align: top\">Baby Trend Diaper Champ</td>\n",
              "        <td style=\"padding-left: 1em; padding-right: 1em; text-align: center; vertical-align: top\">I have had a diaper genie<br>for almost 4 years since ...</td>\n",
              "        <td style=\"padding-left: 1em; padding-right: 1em; text-align: center; vertical-align: top\">1.0</td>\n",
              "        <td style=\"padding-left: 1em; padding-right: 1em; text-align: center; vertical-align: top\">{&#x27;yuck&#x27;: 1.0, &#x27;clean&#x27;:<br>1.0, &#x27;all&#x27;: 1.0, &#x27;tra ...</td>\n",
              "        <td style=\"padding-left: 1em; padding-right: 1em; text-align: center; vertical-align: top\">0</td>\n",
              "        <td style=\"padding-left: 1em; padding-right: 1em; text-align: center; vertical-align: top\">0.0</td>\n",
              "    </tr>\n",
              "    <tr>\n",
              "        <td style=\"padding-left: 1em; padding-right: 1em; text-align: center; vertical-align: top\">Baby Trend Diaper Champ</td>\n",
              "        <td style=\"padding-left: 1em; padding-right: 1em; text-align: center; vertical-align: top\">I originally put this<br>item on my baby registry ...</td>\n",
              "        <td style=\"padding-left: 1em; padding-right: 1em; text-align: center; vertical-align: top\">5.0</td>\n",
              "        <td style=\"padding-left: 1em; padding-right: 1em; text-align: center; vertical-align: top\">{&#x27;price&#x27;: 1.0,<br>&#x27;suggestions&#x27;: 1.0, ...</td>\n",
              "        <td style=\"padding-left: 1em; padding-right: 1em; text-align: center; vertical-align: top\">1</td>\n",
              "        <td style=\"padding-left: 1em; padding-right: 1em; text-align: center; vertical-align: top\">0.0</td>\n",
              "    </tr>\n",
              "    <tr>\n",
              "        <td style=\"padding-left: 1em; padding-right: 1em; text-align: center; vertical-align: top\">Baby Trend Diaper Champ</td>\n",
              "        <td style=\"padding-left: 1em; padding-right: 1em; text-align: center; vertical-align: top\">I am so glad I got the<br>Diaper Champ instead of ...</td>\n",
              "        <td style=\"padding-left: 1em; padding-right: 1em; text-align: center; vertical-align: top\">5.0</td>\n",
              "        <td style=\"padding-left: 1em; padding-right: 1em; text-align: center; vertical-align: top\">{&#x27;best&#x27;: 1.0, &#x27;that&#x27;:<br>1.0, &#x27;handle&#x27;: 1.0, &#x27; ...</td>\n",
              "        <td style=\"padding-left: 1em; padding-right: 1em; text-align: center; vertical-align: top\">1</td>\n",
              "        <td style=\"padding-left: 1em; padding-right: 1em; text-align: center; vertical-align: top\">0.0</td>\n",
              "    </tr>\n",
              "    <tr>\n",
              "        <td style=\"padding-left: 1em; padding-right: 1em; text-align: center; vertical-align: top\">Baby Trend Diaper Champ</td>\n",
              "        <td style=\"padding-left: 1em; padding-right: 1em; text-align: center; vertical-align: top\">We had 2 diaper Genie&#x27;s<br>both given to us as a ...</td>\n",
              "        <td style=\"padding-left: 1em; padding-right: 1em; text-align: center; vertical-align: top\">4.0</td>\n",
              "        <td style=\"padding-left: 1em; padding-right: 1em; text-align: center; vertical-align: top\">{&#x27;no&#x27;: 1.0, &#x27;regular&#x27;:<br>1.0, &#x27;part&#x27;: 1.0, ...</td>\n",
              "        <td style=\"padding-left: 1em; padding-right: 1em; text-align: center; vertical-align: top\">1</td>\n",
              "        <td style=\"padding-left: 1em; padding-right: 1em; text-align: center; vertical-align: top\">0.0</td>\n",
              "    </tr>\n",
              "</table>\n",
              "<table frame=\"box\" rules=\"cols\">\n",
              "    <tr>\n",
              "        <th style=\"padding-left: 1em; padding-right: 1em; text-align: center\">great</th>\n",
              "        <th style=\"padding-left: 1em; padding-right: 1em; text-align: center\">fantastic</th>\n",
              "        <th style=\"padding-left: 1em; padding-right: 1em; text-align: center\">amazing</th>\n",
              "        <th style=\"padding-left: 1em; padding-right: 1em; text-align: center\">love</th>\n",
              "        <th style=\"padding-left: 1em; padding-right: 1em; text-align: center\">horrible</th>\n",
              "        <th style=\"padding-left: 1em; padding-right: 1em; text-align: center\">bad</th>\n",
              "        <th style=\"padding-left: 1em; padding-right: 1em; text-align: center\">terrible</th>\n",
              "        <th style=\"padding-left: 1em; padding-right: 1em; text-align: center\">awful</th>\n",
              "        <th style=\"padding-left: 1em; padding-right: 1em; text-align: center\">wow</th>\n",
              "        <th style=\"padding-left: 1em; padding-right: 1em; text-align: center\">hate</th>\n",
              "    </tr>\n",
              "    <tr>\n",
              "        <td style=\"padding-left: 1em; padding-right: 1em; text-align: center; vertical-align: top\">0.0</td>\n",
              "        <td style=\"padding-left: 1em; padding-right: 1em; text-align: center; vertical-align: top\">0.0</td>\n",
              "        <td style=\"padding-left: 1em; padding-right: 1em; text-align: center; vertical-align: top\">0.0</td>\n",
              "        <td style=\"padding-left: 1em; padding-right: 1em; text-align: center; vertical-align: top\">0.0</td>\n",
              "        <td style=\"padding-left: 1em; padding-right: 1em; text-align: center; vertical-align: top\">0</td>\n",
              "        <td style=\"padding-left: 1em; padding-right: 1em; text-align: center; vertical-align: top\">0</td>\n",
              "        <td style=\"padding-left: 1em; padding-right: 1em; text-align: center; vertical-align: top\">0.0</td>\n",
              "        <td style=\"padding-left: 1em; padding-right: 1em; text-align: center; vertical-align: top\">0</td>\n",
              "        <td style=\"padding-left: 1em; padding-right: 1em; text-align: center; vertical-align: top\">0</td>\n",
              "        <td style=\"padding-left: 1em; padding-right: 1em; text-align: center; vertical-align: top\">0</td>\n",
              "    </tr>\n",
              "    <tr>\n",
              "        <td style=\"padding-left: 1em; padding-right: 1em; text-align: center; vertical-align: top\">0.0</td>\n",
              "        <td style=\"padding-left: 1em; padding-right: 1em; text-align: center; vertical-align: top\">0.0</td>\n",
              "        <td style=\"padding-left: 1em; padding-right: 1em; text-align: center; vertical-align: top\">0.0</td>\n",
              "        <td style=\"padding-left: 1em; padding-right: 1em; text-align: center; vertical-align: top\">0.0</td>\n",
              "        <td style=\"padding-left: 1em; padding-right: 1em; text-align: center; vertical-align: top\">0</td>\n",
              "        <td style=\"padding-left: 1em; padding-right: 1em; text-align: center; vertical-align: top\">0</td>\n",
              "        <td style=\"padding-left: 1em; padding-right: 1em; text-align: center; vertical-align: top\">0.0</td>\n",
              "        <td style=\"padding-left: 1em; padding-right: 1em; text-align: center; vertical-align: top\">0</td>\n",
              "        <td style=\"padding-left: 1em; padding-right: 1em; text-align: center; vertical-align: top\">0</td>\n",
              "        <td style=\"padding-left: 1em; padding-right: 1em; text-align: center; vertical-align: top\">0</td>\n",
              "    </tr>\n",
              "    <tr>\n",
              "        <td style=\"padding-left: 1em; padding-right: 1em; text-align: center; vertical-align: top\">0.0</td>\n",
              "        <td style=\"padding-left: 1em; padding-right: 1em; text-align: center; vertical-align: top\">0.0</td>\n",
              "        <td style=\"padding-left: 1em; padding-right: 1em; text-align: center; vertical-align: top\">0.0</td>\n",
              "        <td style=\"padding-left: 1em; padding-right: 1em; text-align: center; vertical-align: top\">0.0</td>\n",
              "        <td style=\"padding-left: 1em; padding-right: 1em; text-align: center; vertical-align: top\">0</td>\n",
              "        <td style=\"padding-left: 1em; padding-right: 1em; text-align: center; vertical-align: top\">0</td>\n",
              "        <td style=\"padding-left: 1em; padding-right: 1em; text-align: center; vertical-align: top\">0.0</td>\n",
              "        <td style=\"padding-left: 1em; padding-right: 1em; text-align: center; vertical-align: top\">0</td>\n",
              "        <td style=\"padding-left: 1em; padding-right: 1em; text-align: center; vertical-align: top\">0</td>\n",
              "        <td style=\"padding-left: 1em; padding-right: 1em; text-align: center; vertical-align: top\">0</td>\n",
              "    </tr>\n",
              "    <tr>\n",
              "        <td style=\"padding-left: 1em; padding-right: 1em; text-align: center; vertical-align: top\">0.0</td>\n",
              "        <td style=\"padding-left: 1em; padding-right: 1em; text-align: center; vertical-align: top\">0.0</td>\n",
              "        <td style=\"padding-left: 1em; padding-right: 1em; text-align: center; vertical-align: top\">0.0</td>\n",
              "        <td style=\"padding-left: 1em; padding-right: 1em; text-align: center; vertical-align: top\">1.0</td>\n",
              "        <td style=\"padding-left: 1em; padding-right: 1em; text-align: center; vertical-align: top\">0</td>\n",
              "        <td style=\"padding-left: 1em; padding-right: 1em; text-align: center; vertical-align: top\">0</td>\n",
              "        <td style=\"padding-left: 1em; padding-right: 1em; text-align: center; vertical-align: top\">0.0</td>\n",
              "        <td style=\"padding-left: 1em; padding-right: 1em; text-align: center; vertical-align: top\">0</td>\n",
              "        <td style=\"padding-left: 1em; padding-right: 1em; text-align: center; vertical-align: top\">0</td>\n",
              "        <td style=\"padding-left: 1em; padding-right: 1em; text-align: center; vertical-align: top\">0</td>\n",
              "    </tr>\n",
              "    <tr>\n",
              "        <td style=\"padding-left: 1em; padding-right: 1em; text-align: center; vertical-align: top\">0.0</td>\n",
              "        <td style=\"padding-left: 1em; padding-right: 1em; text-align: center; vertical-align: top\">0.0</td>\n",
              "        <td style=\"padding-left: 1em; padding-right: 1em; text-align: center; vertical-align: top\">1.0</td>\n",
              "        <td style=\"padding-left: 1em; padding-right: 1em; text-align: center; vertical-align: top\">0.0</td>\n",
              "        <td style=\"padding-left: 1em; padding-right: 1em; text-align: center; vertical-align: top\">1</td>\n",
              "        <td style=\"padding-left: 1em; padding-right: 1em; text-align: center; vertical-align: top\">0</td>\n",
              "        <td style=\"padding-left: 1em; padding-right: 1em; text-align: center; vertical-align: top\">0.0</td>\n",
              "        <td style=\"padding-left: 1em; padding-right: 1em; text-align: center; vertical-align: top\">0</td>\n",
              "        <td style=\"padding-left: 1em; padding-right: 1em; text-align: center; vertical-align: top\">1</td>\n",
              "        <td style=\"padding-left: 1em; padding-right: 1em; text-align: center; vertical-align: top\">0</td>\n",
              "    </tr>\n",
              "    <tr>\n",
              "        <td style=\"padding-left: 1em; padding-right: 1em; text-align: center; vertical-align: top\">0.0</td>\n",
              "        <td style=\"padding-left: 1em; padding-right: 1em; text-align: center; vertical-align: top\">0.0</td>\n",
              "        <td style=\"padding-left: 1em; padding-right: 1em; text-align: center; vertical-align: top\">0.0</td>\n",
              "        <td style=\"padding-left: 1em; padding-right: 1em; text-align: center; vertical-align: top\">0.0</td>\n",
              "        <td style=\"padding-left: 1em; padding-right: 1em; text-align: center; vertical-align: top\">0</td>\n",
              "        <td style=\"padding-left: 1em; padding-right: 1em; text-align: center; vertical-align: top\">1</td>\n",
              "        <td style=\"padding-left: 1em; padding-right: 1em; text-align: center; vertical-align: top\">0.0</td>\n",
              "        <td style=\"padding-left: 1em; padding-right: 1em; text-align: center; vertical-align: top\">0</td>\n",
              "        <td style=\"padding-left: 1em; padding-right: 1em; text-align: center; vertical-align: top\">0</td>\n",
              "        <td style=\"padding-left: 1em; padding-right: 1em; text-align: center; vertical-align: top\">0</td>\n",
              "    </tr>\n",
              "    <tr>\n",
              "        <td style=\"padding-left: 1em; padding-right: 1em; text-align: center; vertical-align: top\">0.0</td>\n",
              "        <td style=\"padding-left: 1em; padding-right: 1em; text-align: center; vertical-align: top\">0.0</td>\n",
              "        <td style=\"padding-left: 1em; padding-right: 1em; text-align: center; vertical-align: top\">0.0</td>\n",
              "        <td style=\"padding-left: 1em; padding-right: 1em; text-align: center; vertical-align: top\">0.0</td>\n",
              "        <td style=\"padding-left: 1em; padding-right: 1em; text-align: center; vertical-align: top\">0</td>\n",
              "        <td style=\"padding-left: 1em; padding-right: 1em; text-align: center; vertical-align: top\">0</td>\n",
              "        <td style=\"padding-left: 1em; padding-right: 1em; text-align: center; vertical-align: top\">0.0</td>\n",
              "        <td style=\"padding-left: 1em; padding-right: 1em; text-align: center; vertical-align: top\">0</td>\n",
              "        <td style=\"padding-left: 1em; padding-right: 1em; text-align: center; vertical-align: top\">0</td>\n",
              "        <td style=\"padding-left: 1em; padding-right: 1em; text-align: center; vertical-align: top\">0</td>\n",
              "    </tr>\n",
              "    <tr>\n",
              "        <td style=\"padding-left: 1em; padding-right: 1em; text-align: center; vertical-align: top\">0.0</td>\n",
              "        <td style=\"padding-left: 1em; padding-right: 1em; text-align: center; vertical-align: top\">0.0</td>\n",
              "        <td style=\"padding-left: 1em; padding-right: 1em; text-align: center; vertical-align: top\">0.0</td>\n",
              "        <td style=\"padding-left: 1em; padding-right: 1em; text-align: center; vertical-align: top\">0.0</td>\n",
              "        <td style=\"padding-left: 1em; padding-right: 1em; text-align: center; vertical-align: top\">0</td>\n",
              "        <td style=\"padding-left: 1em; padding-right: 1em; text-align: center; vertical-align: top\">0</td>\n",
              "        <td style=\"padding-left: 1em; padding-right: 1em; text-align: center; vertical-align: top\">0.0</td>\n",
              "        <td style=\"padding-left: 1em; padding-right: 1em; text-align: center; vertical-align: top\">0</td>\n",
              "        <td style=\"padding-left: 1em; padding-right: 1em; text-align: center; vertical-align: top\">0</td>\n",
              "        <td style=\"padding-left: 1em; padding-right: 1em; text-align: center; vertical-align: top\">0</td>\n",
              "    </tr>\n",
              "    <tr>\n",
              "        <td style=\"padding-left: 1em; padding-right: 1em; text-align: center; vertical-align: top\">0.0</td>\n",
              "        <td style=\"padding-left: 1em; padding-right: 1em; text-align: center; vertical-align: top\">0.0</td>\n",
              "        <td style=\"padding-left: 1em; padding-right: 1em; text-align: center; vertical-align: top\">0.0</td>\n",
              "        <td style=\"padding-left: 1em; padding-right: 1em; text-align: center; vertical-align: top\">0.0</td>\n",
              "        <td style=\"padding-left: 1em; padding-right: 1em; text-align: center; vertical-align: top\">0</td>\n",
              "        <td style=\"padding-left: 1em; padding-right: 1em; text-align: center; vertical-align: top\">0</td>\n",
              "        <td style=\"padding-left: 1em; padding-right: 1em; text-align: center; vertical-align: top\">0.0</td>\n",
              "        <td style=\"padding-left: 1em; padding-right: 1em; text-align: center; vertical-align: top\">0</td>\n",
              "        <td style=\"padding-left: 1em; padding-right: 1em; text-align: center; vertical-align: top\">0</td>\n",
              "        <td style=\"padding-left: 1em; padding-right: 1em; text-align: center; vertical-align: top\">0</td>\n",
              "    </tr>\n",
              "    <tr>\n",
              "        <td style=\"padding-left: 1em; padding-right: 1em; text-align: center; vertical-align: top\">0.0</td>\n",
              "        <td style=\"padding-left: 1em; padding-right: 1em; text-align: center; vertical-align: top\">0.0</td>\n",
              "        <td style=\"padding-left: 1em; padding-right: 1em; text-align: center; vertical-align: top\">0.0</td>\n",
              "        <td style=\"padding-left: 1em; padding-right: 1em; text-align: center; vertical-align: top\">2.0</td>\n",
              "        <td style=\"padding-left: 1em; padding-right: 1em; text-align: center; vertical-align: top\">0</td>\n",
              "        <td style=\"padding-left: 1em; padding-right: 1em; text-align: center; vertical-align: top\">0</td>\n",
              "        <td style=\"padding-left: 1em; padding-right: 1em; text-align: center; vertical-align: top\">0.0</td>\n",
              "        <td style=\"padding-left: 1em; padding-right: 1em; text-align: center; vertical-align: top\">0</td>\n",
              "        <td style=\"padding-left: 1em; padding-right: 1em; text-align: center; vertical-align: top\">0</td>\n",
              "        <td style=\"padding-left: 1em; padding-right: 1em; text-align: center; vertical-align: top\">0</td>\n",
              "    </tr>\n",
              "</table>\n",
              "[10 rows x 16 columns]<br/>\n",
              "</div>"
            ],
            "text/plain": [
              "Columns:\n",
              "\tname\tstr\n",
              "\treview\tstr\n",
              "\trating\tfloat\n",
              "\tword_count\tdict\n",
              "\tsentiment\tint\n",
              "\tawesome\tfloat\n",
              "\tgreat\tfloat\n",
              "\tfantastic\tfloat\n",
              "\tamazing\tfloat\n",
              "\tlove\tfloat\n",
              "\thorrible\tint\n",
              "\tbad\tint\n",
              "\tterrible\tfloat\n",
              "\tawful\tint\n",
              "\twow\tint\n",
              "\thate\tint\n",
              "\n",
              "Rows: 10\n",
              "\n",
              "Data:\n",
              "+-------------------------+-------------------------------+--------+\n",
              "|           name          |             review            | rating |\n",
              "+-------------------------+-------------------------------+--------+\n",
              "| Baby Trend Diaper Champ | Ok - newsflash.  Diapers a... |  4.0   |\n",
              "| Baby Trend Diaper Champ | My husband and I selected ... |  1.0   |\n",
              "| Baby Trend Diaper Champ | Excellent diaper disposal ... |  5.0   |\n",
              "| Baby Trend Diaper Champ | We love our diaper champ. ... |  5.0   |\n",
              "| Baby Trend Diaper Champ | Two girlfriends and two fa... |  5.0   |\n",
              "| Baby Trend Diaper Champ | I waited to review this un... |  4.0   |\n",
              "| Baby Trend Diaper Champ | I have had a diaper genie ... |  1.0   |\n",
              "| Baby Trend Diaper Champ | I originally put this item... |  5.0   |\n",
              "| Baby Trend Diaper Champ | I am so glad I got the Dia... |  5.0   |\n",
              "| Baby Trend Diaper Champ | We had 2 diaper Genie's bo... |  4.0   |\n",
              "+-------------------------+-------------------------------+--------+\n",
              "+-------------------------------+-----------+---------+-------+-----------+---------+\n",
              "|           word_count          | sentiment | awesome | great | fantastic | amazing |\n",
              "+-------------------------------+-----------+---------+-------+-----------+---------+\n",
              "| {'convenient': 1.0, 'more'... |     1     |   0.0   |  0.0  |    0.0    |   0.0   |\n",
              "| {'system': 1.0, 'try': 1.0... |     0     |   0.0   |  0.0  |    0.0    |   0.0   |\n",
              "| {'nose': 1.0, 'for': 2.0, ... |     1     |   0.0   |  0.0  |    0.0    |   0.0   |\n",
              "| {'out': 1.0, 'pull': 1.0, ... |     1     |   0.0   |  0.0  |    0.0    |   0.0   |\n",
              "| {'winter': 1.0, 'outside':... |     1     |   0.0   |  0.0  |    0.0    |   1.0   |\n",
              "| {'mom': 1.0, 'my': 1.0, 'e... |     1     |   0.0   |  0.0  |    0.0    |   0.0   |\n",
              "| {'yuck': 1.0, 'clean': 1.0... |     0     |   0.0   |  0.0  |    0.0    |   0.0   |\n",
              "| {'price': 1.0, 'suggestion... |     1     |   0.0   |  0.0  |    0.0    |   0.0   |\n",
              "| {'best': 1.0, 'that': 1.0,... |     1     |   0.0   |  0.0  |    0.0    |   0.0   |\n",
              "| {'no': 1.0, 'regular': 1.0... |     1     |   0.0   |  0.0  |    0.0    |   0.0   |\n",
              "+-------------------------------+-----------+---------+-------+-----------+---------+\n",
              "+------+----------+-----+----------+-------+-----+------+\n",
              "| love | horrible | bad | terrible | awful | wow | hate |\n",
              "+------+----------+-----+----------+-------+-----+------+\n",
              "| 0.0  |    0     |  0  |   0.0    |   0   |  0  |  0   |\n",
              "| 0.0  |    0     |  0  |   0.0    |   0   |  0  |  0   |\n",
              "| 0.0  |    0     |  0  |   0.0    |   0   |  0  |  0   |\n",
              "| 1.0  |    0     |  0  |   0.0    |   0   |  0  |  0   |\n",
              "| 0.0  |    1     |  0  |   0.0    |   0   |  1  |  0   |\n",
              "| 0.0  |    0     |  1  |   0.0    |   0   |  0  |  0   |\n",
              "| 0.0  |    0     |  0  |   0.0    |   0   |  0  |  0   |\n",
              "| 0.0  |    0     |  0  |   0.0    |   0   |  0  |  0   |\n",
              "| 0.0  |    0     |  0  |   0.0    |   0   |  0  |  0   |\n",
              "| 2.0  |    0     |  0  |   0.0    |   0   |  0  |  0   |\n",
              "+------+----------+-----+----------+-------+-----+------+\n",
              "[10 rows x 16 columns]"
            ]
          },
          "metadata": {
            "tags": []
          },
          "execution_count": 126
        }
      ]
    },
    {
      "cell_type": "code",
      "metadata": {
        "id": "PKNa1AoIN5ld"
      },
      "source": [
        "diaper_champ_reviews['predicted_sentiment'] = sentiment_model.predict(diaper_champ_reviews,output_type='probability')"
      ],
      "execution_count": 127,
      "outputs": []
    },
    {
      "cell_type": "code",
      "metadata": {
        "id": "R8mL_dGLObC_"
      },
      "source": [
        "diaper_champ_reviews = diaper_champ_reviews.sort('predicted_sentiment', ascending=False)"
      ],
      "execution_count": 128,
      "outputs": []
    },
    {
      "cell_type": "code",
      "metadata": {
        "colab": {
          "base_uri": "https://localhost:8080/",
          "height": 626
        },
        "id": "7ILV0erIOf8t",
        "outputId": "b289b0b3-2101-4688-e764-e8fa53b2a378"
      },
      "source": [
        "diaper_champ_reviews.head()"
      ],
      "execution_count": 129,
      "outputs": [
        {
          "output_type": "execute_result",
          "data": {
            "text/html": [
              "<div style=\"max-height:1000px;max-width:1500px;overflow:auto;\"><table frame=\"box\" rules=\"cols\">\n",
              "    <tr>\n",
              "        <th style=\"padding-left: 1em; padding-right: 1em; text-align: center\">name</th>\n",
              "        <th style=\"padding-left: 1em; padding-right: 1em; text-align: center\">review</th>\n",
              "        <th style=\"padding-left: 1em; padding-right: 1em; text-align: center\">rating</th>\n",
              "        <th style=\"padding-left: 1em; padding-right: 1em; text-align: center\">word_count</th>\n",
              "        <th style=\"padding-left: 1em; padding-right: 1em; text-align: center\">sentiment</th>\n",
              "        <th style=\"padding-left: 1em; padding-right: 1em; text-align: center\">awesome</th>\n",
              "    </tr>\n",
              "    <tr>\n",
              "        <td style=\"padding-left: 1em; padding-right: 1em; text-align: center; vertical-align: top\">Baby Trend Diaper Champ</td>\n",
              "        <td style=\"padding-left: 1em; padding-right: 1em; text-align: center; vertical-align: top\">I read a review below<br>that can explain exactly ...</td>\n",
              "        <td style=\"padding-left: 1em; padding-right: 1em; text-align: center; vertical-align: top\">4.0</td>\n",
              "        <td style=\"padding-left: 1em; padding-right: 1em; text-align: center; vertical-align: top\">{&#x27;key&#x27;: 1.0, &#x27;have&#x27;: 1.0,<br>&#x27;pieces&#x27;: 1.0, &#x27;betwe ...</td>\n",
              "        <td style=\"padding-left: 1em; padding-right: 1em; text-align: center; vertical-align: top\">1</td>\n",
              "        <td style=\"padding-left: 1em; padding-right: 1em; text-align: center; vertical-align: top\">0.0</td>\n",
              "    </tr>\n",
              "    <tr>\n",
              "        <td style=\"padding-left: 1em; padding-right: 1em; text-align: center; vertical-align: top\">Baby Trend Diaper Champ</td>\n",
              "        <td style=\"padding-left: 1em; padding-right: 1em; text-align: center; vertical-align: top\">I have never written a<br>review for Amazon but I ...</td>\n",
              "        <td style=\"padding-left: 1em; padding-right: 1em; text-align: center; vertical-align: top\">5.0</td>\n",
              "        <td style=\"padding-left: 1em; padding-right: 1em; text-align: center; vertical-align: top\">{&#x27;priceless&#x27;: 1.0,<br>&#x27;knows&#x27;: 1.0, &#x27;parent&#x27;: ...</td>\n",
              "        <td style=\"padding-left: 1em; padding-right: 1em; text-align: center; vertical-align: top\">1</td>\n",
              "        <td style=\"padding-left: 1em; padding-right: 1em; text-align: center; vertical-align: top\">0.0</td>\n",
              "    </tr>\n",
              "    <tr>\n",
              "        <td style=\"padding-left: 1em; padding-right: 1em; text-align: center; vertical-align: top\">Baby Trend Diaper Champ</td>\n",
              "        <td style=\"padding-left: 1em; padding-right: 1em; text-align: center; vertical-align: top\">I originally put this<br>item on my baby registry ...</td>\n",
              "        <td style=\"padding-left: 1em; padding-right: 1em; text-align: center; vertical-align: top\">5.0</td>\n",
              "        <td style=\"padding-left: 1em; padding-right: 1em; text-align: center; vertical-align: top\">{&#x27;price&#x27;: 1.0,<br>&#x27;suggestions&#x27;: 1.0, ...</td>\n",
              "        <td style=\"padding-left: 1em; padding-right: 1em; text-align: center; vertical-align: top\">1</td>\n",
              "        <td style=\"padding-left: 1em; padding-right: 1em; text-align: center; vertical-align: top\">0.0</td>\n",
              "    </tr>\n",
              "    <tr>\n",
              "        <td style=\"padding-left: 1em; padding-right: 1em; text-align: center; vertical-align: top\">Baby Trend Diaper Champ</td>\n",
              "        <td style=\"padding-left: 1em; padding-right: 1em; text-align: center; vertical-align: top\">Baby Luke can turn a<br>clean diaper to a dirty ...</td>\n",
              "        <td style=\"padding-left: 1em; padding-right: 1em; text-align: center; vertical-align: top\">5.0</td>\n",
              "        <td style=\"padding-left: 1em; padding-right: 1em; text-align: center; vertical-align: top\">{&#x27;around&#x27;: 1.0, &#x27;any&#x27;:<br>1.0, &#x27;t&#x27;: 1.0, &#x27;isn&#x27;: ...</td>\n",
              "        <td style=\"padding-left: 1em; padding-right: 1em; text-align: center; vertical-align: top\">1</td>\n",
              "        <td style=\"padding-left: 1em; padding-right: 1em; text-align: center; vertical-align: top\">0.0</td>\n",
              "    </tr>\n",
              "    <tr>\n",
              "        <td style=\"padding-left: 1em; padding-right: 1em; text-align: center; vertical-align: top\">Baby Trend Diaper Champ</td>\n",
              "        <td style=\"padding-left: 1em; padding-right: 1em; text-align: center; vertical-align: top\">Diaper Champ or Diaper<br>Genie? That was my ...</td>\n",
              "        <td style=\"padding-left: 1em; padding-right: 1em; text-align: center; vertical-align: top\">5.0</td>\n",
              "        <td style=\"padding-left: 1em; padding-right: 1em; text-align: center; vertical-align: top\">{&#x27;either&#x27;: 1.0, &#x27;be&#x27;:<br>1.0, &#x27;t&#x27;: 1.0, &#x27;not&#x27;: ...</td>\n",
              "        <td style=\"padding-left: 1em; padding-right: 1em; text-align: center; vertical-align: top\">1</td>\n",
              "        <td style=\"padding-left: 1em; padding-right: 1em; text-align: center; vertical-align: top\">0.0</td>\n",
              "    </tr>\n",
              "    <tr>\n",
              "        <td style=\"padding-left: 1em; padding-right: 1em; text-align: center; vertical-align: top\">Baby Trend Diaper Champ</td>\n",
              "        <td style=\"padding-left: 1em; padding-right: 1em; text-align: center; vertical-align: top\">I am one of those super-<br>critical shoppers who ...</td>\n",
              "        <td style=\"padding-left: 1em; padding-right: 1em; text-align: center; vertical-align: top\">5.0</td>\n",
              "        <td style=\"padding-left: 1em; padding-right: 1em; text-align: center; vertical-align: top\">{&#x27;hope&#x27;: 1.0, &#x27;make&#x27;:<br>1.0, &#x27;slower&#x27;: 1.0, ...</td>\n",
              "        <td style=\"padding-left: 1em; padding-right: 1em; text-align: center; vertical-align: top\">1</td>\n",
              "        <td style=\"padding-left: 1em; padding-right: 1em; text-align: center; vertical-align: top\">0.0</td>\n",
              "    </tr>\n",
              "    <tr>\n",
              "        <td style=\"padding-left: 1em; padding-right: 1em; text-align: center; vertical-align: top\">Baby Trend Diaper Champ</td>\n",
              "        <td style=\"padding-left: 1em; padding-right: 1em; text-align: center; vertical-align: top\">I LOOOVE this diaper<br>pail!  Its the easies ...</td>\n",
              "        <td style=\"padding-left: 1em; padding-right: 1em; text-align: center; vertical-align: top\">5.0</td>\n",
              "        <td style=\"padding-left: 1em; padding-right: 1em; text-align: center; vertical-align: top\">{&#x27;buy&#x27;: 1.0, &#x27;product&#x27;:<br>1.0, &#x27;recommend&#x27;: 1.0, ...</td>\n",
              "        <td style=\"padding-left: 1em; padding-right: 1em; text-align: center; vertical-align: top\">1</td>\n",
              "        <td style=\"padding-left: 1em; padding-right: 1em; text-align: center; vertical-align: top\">0.0</td>\n",
              "    </tr>\n",
              "    <tr>\n",
              "        <td style=\"padding-left: 1em; padding-right: 1em; text-align: center; vertical-align: top\">Baby Trend Diaper Champ</td>\n",
              "        <td style=\"padding-left: 1em; padding-right: 1em; text-align: center; vertical-align: top\">As a first time mother, I<br>wanted to get the best ...</td>\n",
              "        <td style=\"padding-left: 1em; padding-right: 1em; text-align: center; vertical-align: top\">5.0</td>\n",
              "        <td style=\"padding-left: 1em; padding-right: 1em; text-align: center; vertical-align: top\">{&#x27;ll&#x27;: 1.0, &#x27;baby&#x27;: 1.0,<br>&#x27;recommended&#x27;: 1.0, &#x27; ...</td>\n",
              "        <td style=\"padding-left: 1em; padding-right: 1em; text-align: center; vertical-align: top\">1</td>\n",
              "        <td style=\"padding-left: 1em; padding-right: 1em; text-align: center; vertical-align: top\">0.0</td>\n",
              "    </tr>\n",
              "    <tr>\n",
              "        <td style=\"padding-left: 1em; padding-right: 1em; text-align: center; vertical-align: top\">Baby Trend Diaper Champ</td>\n",
              "        <td style=\"padding-left: 1em; padding-right: 1em; text-align: center; vertical-align: top\">I see that there are<br>complaints of stinkiness ...</td>\n",
              "        <td style=\"padding-left: 1em; padding-right: 1em; text-align: center; vertical-align: top\">5.0</td>\n",
              "        <td style=\"padding-left: 1em; padding-right: 1em; text-align: center; vertical-align: top\">{&#x27;very&#x27;: 1.0, &#x27;told&#x27;:<br>1.0, &#x27;all&#x27;: 1.0, ...</td>\n",
              "        <td style=\"padding-left: 1em; padding-right: 1em; text-align: center; vertical-align: top\">1</td>\n",
              "        <td style=\"padding-left: 1em; padding-right: 1em; text-align: center; vertical-align: top\">0.0</td>\n",
              "    </tr>\n",
              "    <tr>\n",
              "        <td style=\"padding-left: 1em; padding-right: 1em; text-align: center; vertical-align: top\">Baby Trend Diaper Champ</td>\n",
              "        <td style=\"padding-left: 1em; padding-right: 1em; text-align: center; vertical-align: top\">I have a 10 year old<br>daughter and an 8 month ...</td>\n",
              "        <td style=\"padding-left: 1em; padding-right: 1em; text-align: center; vertical-align: top\">5.0</td>\n",
              "        <td style=\"padding-left: 1em; padding-right: 1em; text-align: center; vertical-align: top\">{&#x27;sorry&#x27;: 1.0, &#x27;be&#x27;: 1.0,<br>&#x27;you&#x27;: 2.0, &#x27;sell&#x27;: 1.0, ...</td>\n",
              "        <td style=\"padding-left: 1em; padding-right: 1em; text-align: center; vertical-align: top\">1</td>\n",
              "        <td style=\"padding-left: 1em; padding-right: 1em; text-align: center; vertical-align: top\">0.0</td>\n",
              "    </tr>\n",
              "</table>\n",
              "<table frame=\"box\" rules=\"cols\">\n",
              "    <tr>\n",
              "        <th style=\"padding-left: 1em; padding-right: 1em; text-align: center\">great</th>\n",
              "        <th style=\"padding-left: 1em; padding-right: 1em; text-align: center\">fantastic</th>\n",
              "        <th style=\"padding-left: 1em; padding-right: 1em; text-align: center\">amazing</th>\n",
              "        <th style=\"padding-left: 1em; padding-right: 1em; text-align: center\">love</th>\n",
              "        <th style=\"padding-left: 1em; padding-right: 1em; text-align: center\">horrible</th>\n",
              "        <th style=\"padding-left: 1em; padding-right: 1em; text-align: center\">bad</th>\n",
              "        <th style=\"padding-left: 1em; padding-right: 1em; text-align: center\">terrible</th>\n",
              "        <th style=\"padding-left: 1em; padding-right: 1em; text-align: center\">awful</th>\n",
              "        <th style=\"padding-left: 1em; padding-right: 1em; text-align: center\">wow</th>\n",
              "        <th style=\"padding-left: 1em; padding-right: 1em; text-align: center\">hate</th>\n",
              "        <th style=\"padding-left: 1em; padding-right: 1em; text-align: center\">predicted_sentiment</th>\n",
              "    </tr>\n",
              "    <tr>\n",
              "        <td style=\"padding-left: 1em; padding-right: 1em; text-align: center; vertical-align: top\">0.0</td>\n",
              "        <td style=\"padding-left: 1em; padding-right: 1em; text-align: center; vertical-align: top\">0.0</td>\n",
              "        <td style=\"padding-left: 1em; padding-right: 1em; text-align: center; vertical-align: top\">0.0</td>\n",
              "        <td style=\"padding-left: 1em; padding-right: 1em; text-align: center; vertical-align: top\">0.0</td>\n",
              "        <td style=\"padding-left: 1em; padding-right: 1em; text-align: center; vertical-align: top\">0</td>\n",
              "        <td style=\"padding-left: 1em; padding-right: 1em; text-align: center; vertical-align: top\">0</td>\n",
              "        <td style=\"padding-left: 1em; padding-right: 1em; text-align: center; vertical-align: top\">0.0</td>\n",
              "        <td style=\"padding-left: 1em; padding-right: 1em; text-align: center; vertical-align: top\">0</td>\n",
              "        <td style=\"padding-left: 1em; padding-right: 1em; text-align: center; vertical-align: top\">0</td>\n",
              "        <td style=\"padding-left: 1em; padding-right: 1em; text-align: center; vertical-align: top\">0</td>\n",
              "        <td style=\"padding-left: 1em; padding-right: 1em; text-align: center; vertical-align: top\">0.9999999999895941</td>\n",
              "    </tr>\n",
              "    <tr>\n",
              "        <td style=\"padding-left: 1em; padding-right: 1em; text-align: center; vertical-align: top\">0.0</td>\n",
              "        <td style=\"padding-left: 1em; padding-right: 1em; text-align: center; vertical-align: top\">0.0</td>\n",
              "        <td style=\"padding-left: 1em; padding-right: 1em; text-align: center; vertical-align: top\">0.0</td>\n",
              "        <td style=\"padding-left: 1em; padding-right: 1em; text-align: center; vertical-align: top\">1.0</td>\n",
              "        <td style=\"padding-left: 1em; padding-right: 1em; text-align: center; vertical-align: top\">0</td>\n",
              "        <td style=\"padding-left: 1em; padding-right: 1em; text-align: center; vertical-align: top\">0</td>\n",
              "        <td style=\"padding-left: 1em; padding-right: 1em; text-align: center; vertical-align: top\">0.0</td>\n",
              "        <td style=\"padding-left: 1em; padding-right: 1em; text-align: center; vertical-align: top\">0</td>\n",
              "        <td style=\"padding-left: 1em; padding-right: 1em; text-align: center; vertical-align: top\">0</td>\n",
              "        <td style=\"padding-left: 1em; padding-right: 1em; text-align: center; vertical-align: top\">0</td>\n",
              "        <td style=\"padding-left: 1em; padding-right: 1em; text-align: center; vertical-align: top\">0.9999999999868131</td>\n",
              "    </tr>\n",
              "    <tr>\n",
              "        <td style=\"padding-left: 1em; padding-right: 1em; text-align: center; vertical-align: top\">0.0</td>\n",
              "        <td style=\"padding-left: 1em; padding-right: 1em; text-align: center; vertical-align: top\">0.0</td>\n",
              "        <td style=\"padding-left: 1em; padding-right: 1em; text-align: center; vertical-align: top\">0.0</td>\n",
              "        <td style=\"padding-left: 1em; padding-right: 1em; text-align: center; vertical-align: top\">0.0</td>\n",
              "        <td style=\"padding-left: 1em; padding-right: 1em; text-align: center; vertical-align: top\">0</td>\n",
              "        <td style=\"padding-left: 1em; padding-right: 1em; text-align: center; vertical-align: top\">0</td>\n",
              "        <td style=\"padding-left: 1em; padding-right: 1em; text-align: center; vertical-align: top\">0.0</td>\n",
              "        <td style=\"padding-left: 1em; padding-right: 1em; text-align: center; vertical-align: top\">0</td>\n",
              "        <td style=\"padding-left: 1em; padding-right: 1em; text-align: center; vertical-align: top\">0</td>\n",
              "        <td style=\"padding-left: 1em; padding-right: 1em; text-align: center; vertical-align: top\">0</td>\n",
              "        <td style=\"padding-left: 1em; padding-right: 1em; text-align: center; vertical-align: top\">0.9999999999465673</td>\n",
              "    </tr>\n",
              "    <tr>\n",
              "        <td style=\"padding-left: 1em; padding-right: 1em; text-align: center; vertical-align: top\">1.0</td>\n",
              "        <td style=\"padding-left: 1em; padding-right: 1em; text-align: center; vertical-align: top\">0.0</td>\n",
              "        <td style=\"padding-left: 1em; padding-right: 1em; text-align: center; vertical-align: top\">0.0</td>\n",
              "        <td style=\"padding-left: 1em; padding-right: 1em; text-align: center; vertical-align: top\">0.0</td>\n",
              "        <td style=\"padding-left: 1em; padding-right: 1em; text-align: center; vertical-align: top\">0</td>\n",
              "        <td style=\"padding-left: 1em; padding-right: 1em; text-align: center; vertical-align: top\">0</td>\n",
              "        <td style=\"padding-left: 1em; padding-right: 1em; text-align: center; vertical-align: top\">0.0</td>\n",
              "        <td style=\"padding-left: 1em; padding-right: 1em; text-align: center; vertical-align: top\">0</td>\n",
              "        <td style=\"padding-left: 1em; padding-right: 1em; text-align: center; vertical-align: top\">0</td>\n",
              "        <td style=\"padding-left: 1em; padding-right: 1em; text-align: center; vertical-align: top\">0</td>\n",
              "        <td style=\"padding-left: 1em; padding-right: 1em; text-align: center; vertical-align: top\">0.9999999999302822</td>\n",
              "    </tr>\n",
              "    <tr>\n",
              "        <td style=\"padding-left: 1em; padding-right: 1em; text-align: center; vertical-align: top\">1.0</td>\n",
              "        <td style=\"padding-left: 1em; padding-right: 1em; text-align: center; vertical-align: top\">0.0</td>\n",
              "        <td style=\"padding-left: 1em; padding-right: 1em; text-align: center; vertical-align: top\">0.0</td>\n",
              "        <td style=\"padding-left: 1em; padding-right: 1em; text-align: center; vertical-align: top\">0.0</td>\n",
              "        <td style=\"padding-left: 1em; padding-right: 1em; text-align: center; vertical-align: top\">0</td>\n",
              "        <td style=\"padding-left: 1em; padding-right: 1em; text-align: center; vertical-align: top\">0</td>\n",
              "        <td style=\"padding-left: 1em; padding-right: 1em; text-align: center; vertical-align: top\">0.0</td>\n",
              "        <td style=\"padding-left: 1em; padding-right: 1em; text-align: center; vertical-align: top\">0</td>\n",
              "        <td style=\"padding-left: 1em; padding-right: 1em; text-align: center; vertical-align: top\">0</td>\n",
              "        <td style=\"padding-left: 1em; padding-right: 1em; text-align: center; vertical-align: top\">0</td>\n",
              "        <td style=\"padding-left: 1em; padding-right: 1em; text-align: center; vertical-align: top\">0.9999999999174133</td>\n",
              "    </tr>\n",
              "    <tr>\n",
              "        <td style=\"padding-left: 1em; padding-right: 1em; text-align: center; vertical-align: top\">0.0</td>\n",
              "        <td style=\"padding-left: 1em; padding-right: 1em; text-align: center; vertical-align: top\">0.0</td>\n",
              "        <td style=\"padding-left: 1em; padding-right: 1em; text-align: center; vertical-align: top\">0.0</td>\n",
              "        <td style=\"padding-left: 1em; padding-right: 1em; text-align: center; vertical-align: top\">1.0</td>\n",
              "        <td style=\"padding-left: 1em; padding-right: 1em; text-align: center; vertical-align: top\">0</td>\n",
              "        <td style=\"padding-left: 1em; padding-right: 1em; text-align: center; vertical-align: top\">0</td>\n",
              "        <td style=\"padding-left: 1em; padding-right: 1em; text-align: center; vertical-align: top\">0.0</td>\n",
              "        <td style=\"padding-left: 1em; padding-right: 1em; text-align: center; vertical-align: top\">0</td>\n",
              "        <td style=\"padding-left: 1em; padding-right: 1em; text-align: center; vertical-align: top\">0</td>\n",
              "        <td style=\"padding-left: 1em; padding-right: 1em; text-align: center; vertical-align: top\">0</td>\n",
              "        <td style=\"padding-left: 1em; padding-right: 1em; text-align: center; vertical-align: top\">0.9999999998430963</td>\n",
              "    </tr>\n",
              "    <tr>\n",
              "        <td style=\"padding-left: 1em; padding-right: 1em; text-align: center; vertical-align: top\">0.0</td>\n",
              "        <td style=\"padding-left: 1em; padding-right: 1em; text-align: center; vertical-align: top\">0.0</td>\n",
              "        <td style=\"padding-left: 1em; padding-right: 1em; text-align: center; vertical-align: top\">0.0</td>\n",
              "        <td style=\"padding-left: 1em; padding-right: 1em; text-align: center; vertical-align: top\">1.0</td>\n",
              "        <td style=\"padding-left: 1em; padding-right: 1em; text-align: center; vertical-align: top\">0</td>\n",
              "        <td style=\"padding-left: 1em; padding-right: 1em; text-align: center; vertical-align: top\">0</td>\n",
              "        <td style=\"padding-left: 1em; padding-right: 1em; text-align: center; vertical-align: top\">0.0</td>\n",
              "        <td style=\"padding-left: 1em; padding-right: 1em; text-align: center; vertical-align: top\">0</td>\n",
              "        <td style=\"padding-left: 1em; padding-right: 1em; text-align: center; vertical-align: top\">0</td>\n",
              "        <td style=\"padding-left: 1em; padding-right: 1em; text-align: center; vertical-align: top\">0</td>\n",
              "        <td style=\"padding-left: 1em; padding-right: 1em; text-align: center; vertical-align: top\">0.9999999997360196</td>\n",
              "    </tr>\n",
              "    <tr>\n",
              "        <td style=\"padding-left: 1em; padding-right: 1em; text-align: center; vertical-align: top\">0.0</td>\n",
              "        <td style=\"padding-left: 1em; padding-right: 1em; text-align: center; vertical-align: top\">0.0</td>\n",
              "        <td style=\"padding-left: 1em; padding-right: 1em; text-align: center; vertical-align: top\">0.0</td>\n",
              "        <td style=\"padding-left: 1em; padding-right: 1em; text-align: center; vertical-align: top\">1.0</td>\n",
              "        <td style=\"padding-left: 1em; padding-right: 1em; text-align: center; vertical-align: top\">0</td>\n",
              "        <td style=\"padding-left: 1em; padding-right: 1em; text-align: center; vertical-align: top\">0</td>\n",
              "        <td style=\"padding-left: 1em; padding-right: 1em; text-align: center; vertical-align: top\">0.0</td>\n",
              "        <td style=\"padding-left: 1em; padding-right: 1em; text-align: center; vertical-align: top\">0</td>\n",
              "        <td style=\"padding-left: 1em; padding-right: 1em; text-align: center; vertical-align: top\">0</td>\n",
              "        <td style=\"padding-left: 1em; padding-right: 1em; text-align: center; vertical-align: top\">0</td>\n",
              "        <td style=\"padding-left: 1em; padding-right: 1em; text-align: center; vertical-align: top\">0.9999999995664315</td>\n",
              "    </tr>\n",
              "    <tr>\n",
              "        <td style=\"padding-left: 1em; padding-right: 1em; text-align: center; vertical-align: top\">0.0</td>\n",
              "        <td style=\"padding-left: 1em; padding-right: 1em; text-align: center; vertical-align: top\">0.0</td>\n",
              "        <td style=\"padding-left: 1em; padding-right: 1em; text-align: center; vertical-align: top\">0.0</td>\n",
              "        <td style=\"padding-left: 1em; padding-right: 1em; text-align: center; vertical-align: top\">0.0</td>\n",
              "        <td style=\"padding-left: 1em; padding-right: 1em; text-align: center; vertical-align: top\">0</td>\n",
              "        <td style=\"padding-left: 1em; padding-right: 1em; text-align: center; vertical-align: top\">0</td>\n",
              "        <td style=\"padding-left: 1em; padding-right: 1em; text-align: center; vertical-align: top\">0.0</td>\n",
              "        <td style=\"padding-left: 1em; padding-right: 1em; text-align: center; vertical-align: top\">0</td>\n",
              "        <td style=\"padding-left: 1em; padding-right: 1em; text-align: center; vertical-align: top\">0</td>\n",
              "        <td style=\"padding-left: 1em; padding-right: 1em; text-align: center; vertical-align: top\">0</td>\n",
              "        <td style=\"padding-left: 1em; padding-right: 1em; text-align: center; vertical-align: top\">0.9999999985015902</td>\n",
              "    </tr>\n",
              "    <tr>\n",
              "        <td style=\"padding-left: 1em; padding-right: 1em; text-align: center; vertical-align: top\">0.0</td>\n",
              "        <td style=\"padding-left: 1em; padding-right: 1em; text-align: center; vertical-align: top\">0.0</td>\n",
              "        <td style=\"padding-left: 1em; padding-right: 1em; text-align: center; vertical-align: top\">0.0</td>\n",
              "        <td style=\"padding-left: 1em; padding-right: 1em; text-align: center; vertical-align: top\">2.0</td>\n",
              "        <td style=\"padding-left: 1em; padding-right: 1em; text-align: center; vertical-align: top\">0</td>\n",
              "        <td style=\"padding-left: 1em; padding-right: 1em; text-align: center; vertical-align: top\">0</td>\n",
              "        <td style=\"padding-left: 1em; padding-right: 1em; text-align: center; vertical-align: top\">0.0</td>\n",
              "        <td style=\"padding-left: 1em; padding-right: 1em; text-align: center; vertical-align: top\">0</td>\n",
              "        <td style=\"padding-left: 1em; padding-right: 1em; text-align: center; vertical-align: top\">0</td>\n",
              "        <td style=\"padding-left: 1em; padding-right: 1em; text-align: center; vertical-align: top\">0</td>\n",
              "        <td style=\"padding-left: 1em; padding-right: 1em; text-align: center; vertical-align: top\">0.999999998056851</td>\n",
              "    </tr>\n",
              "</table>\n",
              "[10 rows x 17 columns]<br/>\n",
              "</div>"
            ],
            "text/plain": [
              "Columns:\n",
              "\tname\tstr\n",
              "\treview\tstr\n",
              "\trating\tfloat\n",
              "\tword_count\tdict\n",
              "\tsentiment\tint\n",
              "\tawesome\tfloat\n",
              "\tgreat\tfloat\n",
              "\tfantastic\tfloat\n",
              "\tamazing\tfloat\n",
              "\tlove\tfloat\n",
              "\thorrible\tint\n",
              "\tbad\tint\n",
              "\tterrible\tfloat\n",
              "\tawful\tint\n",
              "\twow\tint\n",
              "\thate\tint\n",
              "\tpredicted_sentiment\tfloat\n",
              "\n",
              "Rows: 10\n",
              "\n",
              "Data:\n",
              "+-------------------------+-------------------------------+--------+\n",
              "|           name          |             review            | rating |\n",
              "+-------------------------+-------------------------------+--------+\n",
              "| Baby Trend Diaper Champ | I read a review below that... |  4.0   |\n",
              "| Baby Trend Diaper Champ | I have never written a rev... |  5.0   |\n",
              "| Baby Trend Diaper Champ | I originally put this item... |  5.0   |\n",
              "| Baby Trend Diaper Champ | Baby Luke can turn a clean... |  5.0   |\n",
              "| Baby Trend Diaper Champ | Diaper Champ or Diaper Gen... |  5.0   |\n",
              "| Baby Trend Diaper Champ | I am one of those super-cr... |  5.0   |\n",
              "| Baby Trend Diaper Champ | I LOOOVE this diaper pail!... |  5.0   |\n",
              "| Baby Trend Diaper Champ | As a first time mother, I ... |  5.0   |\n",
              "| Baby Trend Diaper Champ | I see that there are compl... |  5.0   |\n",
              "| Baby Trend Diaper Champ | I have a 10 year old daugh... |  5.0   |\n",
              "+-------------------------+-------------------------------+--------+\n",
              "+-------------------------------+-----------+---------+-------+-----------+---------+\n",
              "|           word_count          | sentiment | awesome | great | fantastic | amazing |\n",
              "+-------------------------------+-----------+---------+-------+-----------+---------+\n",
              "| {'key': 1.0, 'have': 1.0, ... |     1     |   0.0   |  0.0  |    0.0    |   0.0   |\n",
              "| {'priceless': 1.0, 'knows'... |     1     |   0.0   |  0.0  |    0.0    |   0.0   |\n",
              "| {'price': 1.0, 'suggestion... |     1     |   0.0   |  0.0  |    0.0    |   0.0   |\n",
              "| {'around': 1.0, 'any': 1.0... |     1     |   0.0   |  1.0  |    0.0    |   0.0   |\n",
              "| {'either': 1.0, 'be': 1.0,... |     1     |   0.0   |  1.0  |    0.0    |   0.0   |\n",
              "| {'hope': 1.0, 'make': 1.0,... |     1     |   0.0   |  0.0  |    0.0    |   0.0   |\n",
              "| {'buy': 1.0, 'product': 1.... |     1     |   0.0   |  0.0  |    0.0    |   0.0   |\n",
              "| {'ll': 1.0, 'baby': 1.0, '... |     1     |   0.0   |  0.0  |    0.0    |   0.0   |\n",
              "| {'very': 1.0, 'told': 1.0,... |     1     |   0.0   |  0.0  |    0.0    |   0.0   |\n",
              "| {'sorry': 1.0, 'be': 1.0, ... |     1     |   0.0   |  0.0  |    0.0    |   0.0   |\n",
              "+-------------------------------+-----------+---------+-------+-----------+---------+\n",
              "+------+----------+-----+----------+-------+-----+------+---------------------+\n",
              "| love | horrible | bad | terrible | awful | wow | hate | predicted_sentiment |\n",
              "+------+----------+-----+----------+-------+-----+------+---------------------+\n",
              "| 0.0  |    0     |  0  |   0.0    |   0   |  0  |  0   |  0.9999999999895941 |\n",
              "| 1.0  |    0     |  0  |   0.0    |   0   |  0  |  0   |  0.9999999999868131 |\n",
              "| 0.0  |    0     |  0  |   0.0    |   0   |  0  |  0   |  0.9999999999465673 |\n",
              "| 0.0  |    0     |  0  |   0.0    |   0   |  0  |  0   |  0.9999999999302822 |\n",
              "| 0.0  |    0     |  0  |   0.0    |   0   |  0  |  0   |  0.9999999999174133 |\n",
              "| 1.0  |    0     |  0  |   0.0    |   0   |  0  |  0   |  0.9999999998430963 |\n",
              "| 1.0  |    0     |  0  |   0.0    |   0   |  0  |  0   |  0.9999999997360196 |\n",
              "| 1.0  |    0     |  0  |   0.0    |   0   |  0  |  0   |  0.9999999995664315 |\n",
              "| 0.0  |    0     |  0  |   0.0    |   0   |  0  |  0   |  0.9999999985015902 |\n",
              "| 2.0  |    0     |  0  |   0.0    |   0   |  0  |  0   |  0.999999998056851  |\n",
              "+------+----------+-----+----------+-------+-----+------+---------------------+\n",
              "[10 rows x 17 columns]"
            ]
          },
          "metadata": {
            "tags": []
          },
          "execution_count": 129
        }
      ]
    },
    {
      "cell_type": "code",
      "metadata": {
        "colab": {
          "base_uri": "https://localhost:8080/"
        },
        "id": "oFqTg6FHOiGN",
        "outputId": "18ee86ca-8f57-490b-b7c3-ab496f0e6c62"
      },
      "source": [
        "\n",
        "diaper_champ_reviews['predicted_sentiment'].max()"
      ],
      "execution_count": 130,
      "outputs": [
        {
          "output_type": "execute_result",
          "data": {
            "text/plain": [
              "0.9999999999895941"
            ]
          },
          "metadata": {
            "tags": []
          },
          "execution_count": 130
        }
      ]
    },
    {
      "cell_type": "code",
      "metadata": {
        "colab": {
          "base_uri": "https://localhost:8080/",
          "height": 131
        },
        "id": "bpeN9VVBPImh",
        "outputId": "93021bc6-8488-45ef-d639-90a471e191b7"
      },
      "source": [
        "diaper_champ_reviews[0:1]"
      ],
      "execution_count": 132,
      "outputs": [
        {
          "output_type": "execute_result",
          "data": {
            "text/html": [
              "<div style=\"max-height:1000px;max-width:1500px;overflow:auto;\"><table frame=\"box\" rules=\"cols\">\n",
              "    <tr>\n",
              "        <th style=\"padding-left: 1em; padding-right: 1em; text-align: center\">name</th>\n",
              "        <th style=\"padding-left: 1em; padding-right: 1em; text-align: center\">review</th>\n",
              "        <th style=\"padding-left: 1em; padding-right: 1em; text-align: center\">rating</th>\n",
              "        <th style=\"padding-left: 1em; padding-right: 1em; text-align: center\">word_count</th>\n",
              "        <th style=\"padding-left: 1em; padding-right: 1em; text-align: center\">sentiment</th>\n",
              "        <th style=\"padding-left: 1em; padding-right: 1em; text-align: center\">awesome</th>\n",
              "    </tr>\n",
              "    <tr>\n",
              "        <td style=\"padding-left: 1em; padding-right: 1em; text-align: center; vertical-align: top\">Baby Trend Diaper Champ</td>\n",
              "        <td style=\"padding-left: 1em; padding-right: 1em; text-align: center; vertical-align: top\">I read a review below<br>that can explain exactly ...</td>\n",
              "        <td style=\"padding-left: 1em; padding-right: 1em; text-align: center; vertical-align: top\">4.0</td>\n",
              "        <td style=\"padding-left: 1em; padding-right: 1em; text-align: center; vertical-align: top\">{&#x27;key&#x27;: 1.0, &#x27;have&#x27;: 1.0,<br>&#x27;pieces&#x27;: 1.0, &#x27;betwe ...</td>\n",
              "        <td style=\"padding-left: 1em; padding-right: 1em; text-align: center; vertical-align: top\">1</td>\n",
              "        <td style=\"padding-left: 1em; padding-right: 1em; text-align: center; vertical-align: top\">0.0</td>\n",
              "    </tr>\n",
              "</table>\n",
              "<table frame=\"box\" rules=\"cols\">\n",
              "    <tr>\n",
              "        <th style=\"padding-left: 1em; padding-right: 1em; text-align: center\">great</th>\n",
              "        <th style=\"padding-left: 1em; padding-right: 1em; text-align: center\">fantastic</th>\n",
              "        <th style=\"padding-left: 1em; padding-right: 1em; text-align: center\">amazing</th>\n",
              "        <th style=\"padding-left: 1em; padding-right: 1em; text-align: center\">love</th>\n",
              "        <th style=\"padding-left: 1em; padding-right: 1em; text-align: center\">horrible</th>\n",
              "        <th style=\"padding-left: 1em; padding-right: 1em; text-align: center\">bad</th>\n",
              "        <th style=\"padding-left: 1em; padding-right: 1em; text-align: center\">terrible</th>\n",
              "        <th style=\"padding-left: 1em; padding-right: 1em; text-align: center\">awful</th>\n",
              "        <th style=\"padding-left: 1em; padding-right: 1em; text-align: center\">wow</th>\n",
              "        <th style=\"padding-left: 1em; padding-right: 1em; text-align: center\">hate</th>\n",
              "        <th style=\"padding-left: 1em; padding-right: 1em; text-align: center\">predicted_sentiment</th>\n",
              "    </tr>\n",
              "    <tr>\n",
              "        <td style=\"padding-left: 1em; padding-right: 1em; text-align: center; vertical-align: top\">0.0</td>\n",
              "        <td style=\"padding-left: 1em; padding-right: 1em; text-align: center; vertical-align: top\">0.0</td>\n",
              "        <td style=\"padding-left: 1em; padding-right: 1em; text-align: center; vertical-align: top\">0.0</td>\n",
              "        <td style=\"padding-left: 1em; padding-right: 1em; text-align: center; vertical-align: top\">0.0</td>\n",
              "        <td style=\"padding-left: 1em; padding-right: 1em; text-align: center; vertical-align: top\">0</td>\n",
              "        <td style=\"padding-left: 1em; padding-right: 1em; text-align: center; vertical-align: top\">0</td>\n",
              "        <td style=\"padding-left: 1em; padding-right: 1em; text-align: center; vertical-align: top\">0.0</td>\n",
              "        <td style=\"padding-left: 1em; padding-right: 1em; text-align: center; vertical-align: top\">0</td>\n",
              "        <td style=\"padding-left: 1em; padding-right: 1em; text-align: center; vertical-align: top\">0</td>\n",
              "        <td style=\"padding-left: 1em; padding-right: 1em; text-align: center; vertical-align: top\">0</td>\n",
              "        <td style=\"padding-left: 1em; padding-right: 1em; text-align: center; vertical-align: top\">0.9999999999895941</td>\n",
              "    </tr>\n",
              "</table>\n",
              "[1 rows x 17 columns]<br/>\n",
              "</div>"
            ],
            "text/plain": [
              "Columns:\n",
              "\tname\tstr\n",
              "\treview\tstr\n",
              "\trating\tfloat\n",
              "\tword_count\tdict\n",
              "\tsentiment\tint\n",
              "\tawesome\tfloat\n",
              "\tgreat\tfloat\n",
              "\tfantastic\tfloat\n",
              "\tamazing\tfloat\n",
              "\tlove\tfloat\n",
              "\thorrible\tint\n",
              "\tbad\tint\n",
              "\tterrible\tfloat\n",
              "\tawful\tint\n",
              "\twow\tint\n",
              "\thate\tint\n",
              "\tpredicted_sentiment\tfloat\n",
              "\n",
              "Rows: 1\n",
              "\n",
              "Data:\n",
              "+-------------------------+-------------------------------+--------+\n",
              "|           name          |             review            | rating |\n",
              "+-------------------------+-------------------------------+--------+\n",
              "| Baby Trend Diaper Champ | I read a review below that... |  4.0   |\n",
              "+-------------------------+-------------------------------+--------+\n",
              "+-------------------------------+-----------+---------+-------+-----------+---------+\n",
              "|           word_count          | sentiment | awesome | great | fantastic | amazing |\n",
              "+-------------------------------+-----------+---------+-------+-----------+---------+\n",
              "| {'key': 1.0, 'have': 1.0, ... |     1     |   0.0   |  0.0  |    0.0    |   0.0   |\n",
              "+-------------------------------+-----------+---------+-------+-----------+---------+\n",
              "+------+----------+-----+----------+-------+-----+------+---------------------+\n",
              "| love | horrible | bad | terrible | awful | wow | hate | predicted_sentiment |\n",
              "+------+----------+-----+----------+-------+-----+------+---------------------+\n",
              "| 0.0  |    0     |  0  |   0.0    |   0   |  0  |  0   |  0.9999999999895941 |\n",
              "+------+----------+-----+----------+-------+-----+------+---------------------+\n",
              "[1 rows x 17 columns]"
            ]
          },
          "metadata": {
            "tags": []
          },
          "execution_count": 132
        }
      ]
    },
    {
      "cell_type": "code",
      "metadata": {
        "colab": {
          "base_uri": "https://localhost:8080/"
        },
        "id": "iMdZDTgFOy-9",
        "outputId": "811ad52b-eba0-44ed-f1a2-b005736f285c"
      },
      "source": [
        "selected_words_model.predict(diaper_champ_reviews[0:1], output_type='probability')"
      ],
      "execution_count": 131,
      "outputs": [
        {
          "output_type": "execute_result",
          "data": {
            "text/plain": [
              "dtype: float\n",
              "Rows: 1\n",
              "[0.7919288370624551]"
            ]
          },
          "metadata": {
            "tags": []
          },
          "execution_count": 131
        }
      ]
    },
    {
      "cell_type": "code",
      "metadata": {
        "id": "ElZCOVYyO9Qt"
      },
      "source": [
        "diaper_champ_reviews['predicted_sentiment_2']  = selected_words_model.predict(diaper_champ_reviews, output_type='probability')"
      ],
      "execution_count": 133,
      "outputs": []
    },
    {
      "cell_type": "code",
      "metadata": {
        "colab": {
          "base_uri": "https://localhost:8080/",
          "height": 837
        },
        "id": "Jo1fozCpPeJs",
        "outputId": "f7e357bf-4047-4594-af89-02348ea1ac0a"
      },
      "source": [
        "diaper_champ_reviews.head()"
      ],
      "execution_count": 134,
      "outputs": [
        {
          "output_type": "execute_result",
          "data": {
            "text/html": [
              "<div style=\"max-height:1000px;max-width:1500px;overflow:auto;\"><table frame=\"box\" rules=\"cols\">\n",
              "    <tr>\n",
              "        <th style=\"padding-left: 1em; padding-right: 1em; text-align: center\">name</th>\n",
              "        <th style=\"padding-left: 1em; padding-right: 1em; text-align: center\">review</th>\n",
              "        <th style=\"padding-left: 1em; padding-right: 1em; text-align: center\">rating</th>\n",
              "        <th style=\"padding-left: 1em; padding-right: 1em; text-align: center\">word_count</th>\n",
              "        <th style=\"padding-left: 1em; padding-right: 1em; text-align: center\">sentiment</th>\n",
              "        <th style=\"padding-left: 1em; padding-right: 1em; text-align: center\">awesome</th>\n",
              "    </tr>\n",
              "    <tr>\n",
              "        <td style=\"padding-left: 1em; padding-right: 1em; text-align: center; vertical-align: top\">Baby Trend Diaper Champ</td>\n",
              "        <td style=\"padding-left: 1em; padding-right: 1em; text-align: center; vertical-align: top\">I read a review below<br>that can explain exactly ...</td>\n",
              "        <td style=\"padding-left: 1em; padding-right: 1em; text-align: center; vertical-align: top\">4.0</td>\n",
              "        <td style=\"padding-left: 1em; padding-right: 1em; text-align: center; vertical-align: top\">{&#x27;key&#x27;: 1.0, &#x27;have&#x27;: 1.0,<br>&#x27;pieces&#x27;: 1.0, &#x27;betwe ...</td>\n",
              "        <td style=\"padding-left: 1em; padding-right: 1em; text-align: center; vertical-align: top\">1</td>\n",
              "        <td style=\"padding-left: 1em; padding-right: 1em; text-align: center; vertical-align: top\">0.0</td>\n",
              "    </tr>\n",
              "    <tr>\n",
              "        <td style=\"padding-left: 1em; padding-right: 1em; text-align: center; vertical-align: top\">Baby Trend Diaper Champ</td>\n",
              "        <td style=\"padding-left: 1em; padding-right: 1em; text-align: center; vertical-align: top\">I have never written a<br>review for Amazon but I ...</td>\n",
              "        <td style=\"padding-left: 1em; padding-right: 1em; text-align: center; vertical-align: top\">5.0</td>\n",
              "        <td style=\"padding-left: 1em; padding-right: 1em; text-align: center; vertical-align: top\">{&#x27;priceless&#x27;: 1.0,<br>&#x27;knows&#x27;: 1.0, &#x27;parent&#x27;: ...</td>\n",
              "        <td style=\"padding-left: 1em; padding-right: 1em; text-align: center; vertical-align: top\">1</td>\n",
              "        <td style=\"padding-left: 1em; padding-right: 1em; text-align: center; vertical-align: top\">0.0</td>\n",
              "    </tr>\n",
              "    <tr>\n",
              "        <td style=\"padding-left: 1em; padding-right: 1em; text-align: center; vertical-align: top\">Baby Trend Diaper Champ</td>\n",
              "        <td style=\"padding-left: 1em; padding-right: 1em; text-align: center; vertical-align: top\">I originally put this<br>item on my baby registry ...</td>\n",
              "        <td style=\"padding-left: 1em; padding-right: 1em; text-align: center; vertical-align: top\">5.0</td>\n",
              "        <td style=\"padding-left: 1em; padding-right: 1em; text-align: center; vertical-align: top\">{&#x27;price&#x27;: 1.0,<br>&#x27;suggestions&#x27;: 1.0, ...</td>\n",
              "        <td style=\"padding-left: 1em; padding-right: 1em; text-align: center; vertical-align: top\">1</td>\n",
              "        <td style=\"padding-left: 1em; padding-right: 1em; text-align: center; vertical-align: top\">0.0</td>\n",
              "    </tr>\n",
              "    <tr>\n",
              "        <td style=\"padding-left: 1em; padding-right: 1em; text-align: center; vertical-align: top\">Baby Trend Diaper Champ</td>\n",
              "        <td style=\"padding-left: 1em; padding-right: 1em; text-align: center; vertical-align: top\">Baby Luke can turn a<br>clean diaper to a dirty ...</td>\n",
              "        <td style=\"padding-left: 1em; padding-right: 1em; text-align: center; vertical-align: top\">5.0</td>\n",
              "        <td style=\"padding-left: 1em; padding-right: 1em; text-align: center; vertical-align: top\">{&#x27;around&#x27;: 1.0, &#x27;any&#x27;:<br>1.0, &#x27;t&#x27;: 1.0, &#x27;isn&#x27;: ...</td>\n",
              "        <td style=\"padding-left: 1em; padding-right: 1em; text-align: center; vertical-align: top\">1</td>\n",
              "        <td style=\"padding-left: 1em; padding-right: 1em; text-align: center; vertical-align: top\">0.0</td>\n",
              "    </tr>\n",
              "    <tr>\n",
              "        <td style=\"padding-left: 1em; padding-right: 1em; text-align: center; vertical-align: top\">Baby Trend Diaper Champ</td>\n",
              "        <td style=\"padding-left: 1em; padding-right: 1em; text-align: center; vertical-align: top\">Diaper Champ or Diaper<br>Genie? That was my ...</td>\n",
              "        <td style=\"padding-left: 1em; padding-right: 1em; text-align: center; vertical-align: top\">5.0</td>\n",
              "        <td style=\"padding-left: 1em; padding-right: 1em; text-align: center; vertical-align: top\">{&#x27;either&#x27;: 1.0, &#x27;be&#x27;:<br>1.0, &#x27;t&#x27;: 1.0, &#x27;not&#x27;: ...</td>\n",
              "        <td style=\"padding-left: 1em; padding-right: 1em; text-align: center; vertical-align: top\">1</td>\n",
              "        <td style=\"padding-left: 1em; padding-right: 1em; text-align: center; vertical-align: top\">0.0</td>\n",
              "    </tr>\n",
              "    <tr>\n",
              "        <td style=\"padding-left: 1em; padding-right: 1em; text-align: center; vertical-align: top\">Baby Trend Diaper Champ</td>\n",
              "        <td style=\"padding-left: 1em; padding-right: 1em; text-align: center; vertical-align: top\">I am one of those super-<br>critical shoppers who ...</td>\n",
              "        <td style=\"padding-left: 1em; padding-right: 1em; text-align: center; vertical-align: top\">5.0</td>\n",
              "        <td style=\"padding-left: 1em; padding-right: 1em; text-align: center; vertical-align: top\">{&#x27;hope&#x27;: 1.0, &#x27;make&#x27;:<br>1.0, &#x27;slower&#x27;: 1.0, ...</td>\n",
              "        <td style=\"padding-left: 1em; padding-right: 1em; text-align: center; vertical-align: top\">1</td>\n",
              "        <td style=\"padding-left: 1em; padding-right: 1em; text-align: center; vertical-align: top\">0.0</td>\n",
              "    </tr>\n",
              "    <tr>\n",
              "        <td style=\"padding-left: 1em; padding-right: 1em; text-align: center; vertical-align: top\">Baby Trend Diaper Champ</td>\n",
              "        <td style=\"padding-left: 1em; padding-right: 1em; text-align: center; vertical-align: top\">I LOOOVE this diaper<br>pail!  Its the easies ...</td>\n",
              "        <td style=\"padding-left: 1em; padding-right: 1em; text-align: center; vertical-align: top\">5.0</td>\n",
              "        <td style=\"padding-left: 1em; padding-right: 1em; text-align: center; vertical-align: top\">{&#x27;buy&#x27;: 1.0, &#x27;product&#x27;:<br>1.0, &#x27;recommend&#x27;: 1.0, ...</td>\n",
              "        <td style=\"padding-left: 1em; padding-right: 1em; text-align: center; vertical-align: top\">1</td>\n",
              "        <td style=\"padding-left: 1em; padding-right: 1em; text-align: center; vertical-align: top\">0.0</td>\n",
              "    </tr>\n",
              "    <tr>\n",
              "        <td style=\"padding-left: 1em; padding-right: 1em; text-align: center; vertical-align: top\">Baby Trend Diaper Champ</td>\n",
              "        <td style=\"padding-left: 1em; padding-right: 1em; text-align: center; vertical-align: top\">As a first time mother, I<br>wanted to get the best ...</td>\n",
              "        <td style=\"padding-left: 1em; padding-right: 1em; text-align: center; vertical-align: top\">5.0</td>\n",
              "        <td style=\"padding-left: 1em; padding-right: 1em; text-align: center; vertical-align: top\">{&#x27;ll&#x27;: 1.0, &#x27;baby&#x27;: 1.0,<br>&#x27;recommended&#x27;: 1.0, &#x27; ...</td>\n",
              "        <td style=\"padding-left: 1em; padding-right: 1em; text-align: center; vertical-align: top\">1</td>\n",
              "        <td style=\"padding-left: 1em; padding-right: 1em; text-align: center; vertical-align: top\">0.0</td>\n",
              "    </tr>\n",
              "    <tr>\n",
              "        <td style=\"padding-left: 1em; padding-right: 1em; text-align: center; vertical-align: top\">Baby Trend Diaper Champ</td>\n",
              "        <td style=\"padding-left: 1em; padding-right: 1em; text-align: center; vertical-align: top\">I see that there are<br>complaints of stinkiness ...</td>\n",
              "        <td style=\"padding-left: 1em; padding-right: 1em; text-align: center; vertical-align: top\">5.0</td>\n",
              "        <td style=\"padding-left: 1em; padding-right: 1em; text-align: center; vertical-align: top\">{&#x27;very&#x27;: 1.0, &#x27;told&#x27;:<br>1.0, &#x27;all&#x27;: 1.0, ...</td>\n",
              "        <td style=\"padding-left: 1em; padding-right: 1em; text-align: center; vertical-align: top\">1</td>\n",
              "        <td style=\"padding-left: 1em; padding-right: 1em; text-align: center; vertical-align: top\">0.0</td>\n",
              "    </tr>\n",
              "    <tr>\n",
              "        <td style=\"padding-left: 1em; padding-right: 1em; text-align: center; vertical-align: top\">Baby Trend Diaper Champ</td>\n",
              "        <td style=\"padding-left: 1em; padding-right: 1em; text-align: center; vertical-align: top\">I have a 10 year old<br>daughter and an 8 month ...</td>\n",
              "        <td style=\"padding-left: 1em; padding-right: 1em; text-align: center; vertical-align: top\">5.0</td>\n",
              "        <td style=\"padding-left: 1em; padding-right: 1em; text-align: center; vertical-align: top\">{&#x27;sorry&#x27;: 1.0, &#x27;be&#x27;: 1.0,<br>&#x27;you&#x27;: 2.0, &#x27;sell&#x27;: 1.0, ...</td>\n",
              "        <td style=\"padding-left: 1em; padding-right: 1em; text-align: center; vertical-align: top\">1</td>\n",
              "        <td style=\"padding-left: 1em; padding-right: 1em; text-align: center; vertical-align: top\">0.0</td>\n",
              "    </tr>\n",
              "</table>\n",
              "<table frame=\"box\" rules=\"cols\">\n",
              "    <tr>\n",
              "        <th style=\"padding-left: 1em; padding-right: 1em; text-align: center\">great</th>\n",
              "        <th style=\"padding-left: 1em; padding-right: 1em; text-align: center\">fantastic</th>\n",
              "        <th style=\"padding-left: 1em; padding-right: 1em; text-align: center\">amazing</th>\n",
              "        <th style=\"padding-left: 1em; padding-right: 1em; text-align: center\">love</th>\n",
              "        <th style=\"padding-left: 1em; padding-right: 1em; text-align: center\">horrible</th>\n",
              "        <th style=\"padding-left: 1em; padding-right: 1em; text-align: center\">bad</th>\n",
              "        <th style=\"padding-left: 1em; padding-right: 1em; text-align: center\">terrible</th>\n",
              "        <th style=\"padding-left: 1em; padding-right: 1em; text-align: center\">awful</th>\n",
              "        <th style=\"padding-left: 1em; padding-right: 1em; text-align: center\">wow</th>\n",
              "        <th style=\"padding-left: 1em; padding-right: 1em; text-align: center\">hate</th>\n",
              "        <th style=\"padding-left: 1em; padding-right: 1em; text-align: center\">predicted_sentiment</th>\n",
              "    </tr>\n",
              "    <tr>\n",
              "        <td style=\"padding-left: 1em; padding-right: 1em; text-align: center; vertical-align: top\">0.0</td>\n",
              "        <td style=\"padding-left: 1em; padding-right: 1em; text-align: center; vertical-align: top\">0.0</td>\n",
              "        <td style=\"padding-left: 1em; padding-right: 1em; text-align: center; vertical-align: top\">0.0</td>\n",
              "        <td style=\"padding-left: 1em; padding-right: 1em; text-align: center; vertical-align: top\">0.0</td>\n",
              "        <td style=\"padding-left: 1em; padding-right: 1em; text-align: center; vertical-align: top\">0</td>\n",
              "        <td style=\"padding-left: 1em; padding-right: 1em; text-align: center; vertical-align: top\">0</td>\n",
              "        <td style=\"padding-left: 1em; padding-right: 1em; text-align: center; vertical-align: top\">0.0</td>\n",
              "        <td style=\"padding-left: 1em; padding-right: 1em; text-align: center; vertical-align: top\">0</td>\n",
              "        <td style=\"padding-left: 1em; padding-right: 1em; text-align: center; vertical-align: top\">0</td>\n",
              "        <td style=\"padding-left: 1em; padding-right: 1em; text-align: center; vertical-align: top\">0</td>\n",
              "        <td style=\"padding-left: 1em; padding-right: 1em; text-align: center; vertical-align: top\">0.9999999999895941</td>\n",
              "    </tr>\n",
              "    <tr>\n",
              "        <td style=\"padding-left: 1em; padding-right: 1em; text-align: center; vertical-align: top\">0.0</td>\n",
              "        <td style=\"padding-left: 1em; padding-right: 1em; text-align: center; vertical-align: top\">0.0</td>\n",
              "        <td style=\"padding-left: 1em; padding-right: 1em; text-align: center; vertical-align: top\">0.0</td>\n",
              "        <td style=\"padding-left: 1em; padding-right: 1em; text-align: center; vertical-align: top\">1.0</td>\n",
              "        <td style=\"padding-left: 1em; padding-right: 1em; text-align: center; vertical-align: top\">0</td>\n",
              "        <td style=\"padding-left: 1em; padding-right: 1em; text-align: center; vertical-align: top\">0</td>\n",
              "        <td style=\"padding-left: 1em; padding-right: 1em; text-align: center; vertical-align: top\">0.0</td>\n",
              "        <td style=\"padding-left: 1em; padding-right: 1em; text-align: center; vertical-align: top\">0</td>\n",
              "        <td style=\"padding-left: 1em; padding-right: 1em; text-align: center; vertical-align: top\">0</td>\n",
              "        <td style=\"padding-left: 1em; padding-right: 1em; text-align: center; vertical-align: top\">0</td>\n",
              "        <td style=\"padding-left: 1em; padding-right: 1em; text-align: center; vertical-align: top\">0.9999999999868131</td>\n",
              "    </tr>\n",
              "    <tr>\n",
              "        <td style=\"padding-left: 1em; padding-right: 1em; text-align: center; vertical-align: top\">0.0</td>\n",
              "        <td style=\"padding-left: 1em; padding-right: 1em; text-align: center; vertical-align: top\">0.0</td>\n",
              "        <td style=\"padding-left: 1em; padding-right: 1em; text-align: center; vertical-align: top\">0.0</td>\n",
              "        <td style=\"padding-left: 1em; padding-right: 1em; text-align: center; vertical-align: top\">0.0</td>\n",
              "        <td style=\"padding-left: 1em; padding-right: 1em; text-align: center; vertical-align: top\">0</td>\n",
              "        <td style=\"padding-left: 1em; padding-right: 1em; text-align: center; vertical-align: top\">0</td>\n",
              "        <td style=\"padding-left: 1em; padding-right: 1em; text-align: center; vertical-align: top\">0.0</td>\n",
              "        <td style=\"padding-left: 1em; padding-right: 1em; text-align: center; vertical-align: top\">0</td>\n",
              "        <td style=\"padding-left: 1em; padding-right: 1em; text-align: center; vertical-align: top\">0</td>\n",
              "        <td style=\"padding-left: 1em; padding-right: 1em; text-align: center; vertical-align: top\">0</td>\n",
              "        <td style=\"padding-left: 1em; padding-right: 1em; text-align: center; vertical-align: top\">0.9999999999465673</td>\n",
              "    </tr>\n",
              "    <tr>\n",
              "        <td style=\"padding-left: 1em; padding-right: 1em; text-align: center; vertical-align: top\">1.0</td>\n",
              "        <td style=\"padding-left: 1em; padding-right: 1em; text-align: center; vertical-align: top\">0.0</td>\n",
              "        <td style=\"padding-left: 1em; padding-right: 1em; text-align: center; vertical-align: top\">0.0</td>\n",
              "        <td style=\"padding-left: 1em; padding-right: 1em; text-align: center; vertical-align: top\">0.0</td>\n",
              "        <td style=\"padding-left: 1em; padding-right: 1em; text-align: center; vertical-align: top\">0</td>\n",
              "        <td style=\"padding-left: 1em; padding-right: 1em; text-align: center; vertical-align: top\">0</td>\n",
              "        <td style=\"padding-left: 1em; padding-right: 1em; text-align: center; vertical-align: top\">0.0</td>\n",
              "        <td style=\"padding-left: 1em; padding-right: 1em; text-align: center; vertical-align: top\">0</td>\n",
              "        <td style=\"padding-left: 1em; padding-right: 1em; text-align: center; vertical-align: top\">0</td>\n",
              "        <td style=\"padding-left: 1em; padding-right: 1em; text-align: center; vertical-align: top\">0</td>\n",
              "        <td style=\"padding-left: 1em; padding-right: 1em; text-align: center; vertical-align: top\">0.9999999999302822</td>\n",
              "    </tr>\n",
              "    <tr>\n",
              "        <td style=\"padding-left: 1em; padding-right: 1em; text-align: center; vertical-align: top\">1.0</td>\n",
              "        <td style=\"padding-left: 1em; padding-right: 1em; text-align: center; vertical-align: top\">0.0</td>\n",
              "        <td style=\"padding-left: 1em; padding-right: 1em; text-align: center; vertical-align: top\">0.0</td>\n",
              "        <td style=\"padding-left: 1em; padding-right: 1em; text-align: center; vertical-align: top\">0.0</td>\n",
              "        <td style=\"padding-left: 1em; padding-right: 1em; text-align: center; vertical-align: top\">0</td>\n",
              "        <td style=\"padding-left: 1em; padding-right: 1em; text-align: center; vertical-align: top\">0</td>\n",
              "        <td style=\"padding-left: 1em; padding-right: 1em; text-align: center; vertical-align: top\">0.0</td>\n",
              "        <td style=\"padding-left: 1em; padding-right: 1em; text-align: center; vertical-align: top\">0</td>\n",
              "        <td style=\"padding-left: 1em; padding-right: 1em; text-align: center; vertical-align: top\">0</td>\n",
              "        <td style=\"padding-left: 1em; padding-right: 1em; text-align: center; vertical-align: top\">0</td>\n",
              "        <td style=\"padding-left: 1em; padding-right: 1em; text-align: center; vertical-align: top\">0.9999999999174133</td>\n",
              "    </tr>\n",
              "    <tr>\n",
              "        <td style=\"padding-left: 1em; padding-right: 1em; text-align: center; vertical-align: top\">0.0</td>\n",
              "        <td style=\"padding-left: 1em; padding-right: 1em; text-align: center; vertical-align: top\">0.0</td>\n",
              "        <td style=\"padding-left: 1em; padding-right: 1em; text-align: center; vertical-align: top\">0.0</td>\n",
              "        <td style=\"padding-left: 1em; padding-right: 1em; text-align: center; vertical-align: top\">1.0</td>\n",
              "        <td style=\"padding-left: 1em; padding-right: 1em; text-align: center; vertical-align: top\">0</td>\n",
              "        <td style=\"padding-left: 1em; padding-right: 1em; text-align: center; vertical-align: top\">0</td>\n",
              "        <td style=\"padding-left: 1em; padding-right: 1em; text-align: center; vertical-align: top\">0.0</td>\n",
              "        <td style=\"padding-left: 1em; padding-right: 1em; text-align: center; vertical-align: top\">0</td>\n",
              "        <td style=\"padding-left: 1em; padding-right: 1em; text-align: center; vertical-align: top\">0</td>\n",
              "        <td style=\"padding-left: 1em; padding-right: 1em; text-align: center; vertical-align: top\">0</td>\n",
              "        <td style=\"padding-left: 1em; padding-right: 1em; text-align: center; vertical-align: top\">0.9999999998430963</td>\n",
              "    </tr>\n",
              "    <tr>\n",
              "        <td style=\"padding-left: 1em; padding-right: 1em; text-align: center; vertical-align: top\">0.0</td>\n",
              "        <td style=\"padding-left: 1em; padding-right: 1em; text-align: center; vertical-align: top\">0.0</td>\n",
              "        <td style=\"padding-left: 1em; padding-right: 1em; text-align: center; vertical-align: top\">0.0</td>\n",
              "        <td style=\"padding-left: 1em; padding-right: 1em; text-align: center; vertical-align: top\">1.0</td>\n",
              "        <td style=\"padding-left: 1em; padding-right: 1em; text-align: center; vertical-align: top\">0</td>\n",
              "        <td style=\"padding-left: 1em; padding-right: 1em; text-align: center; vertical-align: top\">0</td>\n",
              "        <td style=\"padding-left: 1em; padding-right: 1em; text-align: center; vertical-align: top\">0.0</td>\n",
              "        <td style=\"padding-left: 1em; padding-right: 1em; text-align: center; vertical-align: top\">0</td>\n",
              "        <td style=\"padding-left: 1em; padding-right: 1em; text-align: center; vertical-align: top\">0</td>\n",
              "        <td style=\"padding-left: 1em; padding-right: 1em; text-align: center; vertical-align: top\">0</td>\n",
              "        <td style=\"padding-left: 1em; padding-right: 1em; text-align: center; vertical-align: top\">0.9999999997360196</td>\n",
              "    </tr>\n",
              "    <tr>\n",
              "        <td style=\"padding-left: 1em; padding-right: 1em; text-align: center; vertical-align: top\">0.0</td>\n",
              "        <td style=\"padding-left: 1em; padding-right: 1em; text-align: center; vertical-align: top\">0.0</td>\n",
              "        <td style=\"padding-left: 1em; padding-right: 1em; text-align: center; vertical-align: top\">0.0</td>\n",
              "        <td style=\"padding-left: 1em; padding-right: 1em; text-align: center; vertical-align: top\">1.0</td>\n",
              "        <td style=\"padding-left: 1em; padding-right: 1em; text-align: center; vertical-align: top\">0</td>\n",
              "        <td style=\"padding-left: 1em; padding-right: 1em; text-align: center; vertical-align: top\">0</td>\n",
              "        <td style=\"padding-left: 1em; padding-right: 1em; text-align: center; vertical-align: top\">0.0</td>\n",
              "        <td style=\"padding-left: 1em; padding-right: 1em; text-align: center; vertical-align: top\">0</td>\n",
              "        <td style=\"padding-left: 1em; padding-right: 1em; text-align: center; vertical-align: top\">0</td>\n",
              "        <td style=\"padding-left: 1em; padding-right: 1em; text-align: center; vertical-align: top\">0</td>\n",
              "        <td style=\"padding-left: 1em; padding-right: 1em; text-align: center; vertical-align: top\">0.9999999995664315</td>\n",
              "    </tr>\n",
              "    <tr>\n",
              "        <td style=\"padding-left: 1em; padding-right: 1em; text-align: center; vertical-align: top\">0.0</td>\n",
              "        <td style=\"padding-left: 1em; padding-right: 1em; text-align: center; vertical-align: top\">0.0</td>\n",
              "        <td style=\"padding-left: 1em; padding-right: 1em; text-align: center; vertical-align: top\">0.0</td>\n",
              "        <td style=\"padding-left: 1em; padding-right: 1em; text-align: center; vertical-align: top\">0.0</td>\n",
              "        <td style=\"padding-left: 1em; padding-right: 1em; text-align: center; vertical-align: top\">0</td>\n",
              "        <td style=\"padding-left: 1em; padding-right: 1em; text-align: center; vertical-align: top\">0</td>\n",
              "        <td style=\"padding-left: 1em; padding-right: 1em; text-align: center; vertical-align: top\">0.0</td>\n",
              "        <td style=\"padding-left: 1em; padding-right: 1em; text-align: center; vertical-align: top\">0</td>\n",
              "        <td style=\"padding-left: 1em; padding-right: 1em; text-align: center; vertical-align: top\">0</td>\n",
              "        <td style=\"padding-left: 1em; padding-right: 1em; text-align: center; vertical-align: top\">0</td>\n",
              "        <td style=\"padding-left: 1em; padding-right: 1em; text-align: center; vertical-align: top\">0.9999999985015902</td>\n",
              "    </tr>\n",
              "    <tr>\n",
              "        <td style=\"padding-left: 1em; padding-right: 1em; text-align: center; vertical-align: top\">0.0</td>\n",
              "        <td style=\"padding-left: 1em; padding-right: 1em; text-align: center; vertical-align: top\">0.0</td>\n",
              "        <td style=\"padding-left: 1em; padding-right: 1em; text-align: center; vertical-align: top\">0.0</td>\n",
              "        <td style=\"padding-left: 1em; padding-right: 1em; text-align: center; vertical-align: top\">2.0</td>\n",
              "        <td style=\"padding-left: 1em; padding-right: 1em; text-align: center; vertical-align: top\">0</td>\n",
              "        <td style=\"padding-left: 1em; padding-right: 1em; text-align: center; vertical-align: top\">0</td>\n",
              "        <td style=\"padding-left: 1em; padding-right: 1em; text-align: center; vertical-align: top\">0.0</td>\n",
              "        <td style=\"padding-left: 1em; padding-right: 1em; text-align: center; vertical-align: top\">0</td>\n",
              "        <td style=\"padding-left: 1em; padding-right: 1em; text-align: center; vertical-align: top\">0</td>\n",
              "        <td style=\"padding-left: 1em; padding-right: 1em; text-align: center; vertical-align: top\">0</td>\n",
              "        <td style=\"padding-left: 1em; padding-right: 1em; text-align: center; vertical-align: top\">0.999999998056851</td>\n",
              "    </tr>\n",
              "</table>\n",
              "<table frame=\"box\" rules=\"cols\">\n",
              "    <tr>\n",
              "        <th style=\"padding-left: 1em; padding-right: 1em; text-align: center\">predicted_sentiment_2</th>\n",
              "    </tr>\n",
              "    <tr>\n",
              "        <td style=\"padding-left: 1em; padding-right: 1em; text-align: center; vertical-align: top\">0.7919288370624551</td>\n",
              "    </tr>\n",
              "    <tr>\n",
              "        <td style=\"padding-left: 1em; padding-right: 1em; text-align: center; vertical-align: top\">0.9367819244799381</td>\n",
              "    </tr>\n",
              "    <tr>\n",
              "        <td style=\"padding-left: 1em; padding-right: 1em; text-align: center; vertical-align: top\">0.7919288370624551</td>\n",
              "    </tr>\n",
              "    <tr>\n",
              "        <td style=\"padding-left: 1em; padding-right: 1em; text-align: center; vertical-align: top\">0.9002186948093639</td>\n",
              "    </tr>\n",
              "    <tr>\n",
              "        <td style=\"padding-left: 1em; padding-right: 1em; text-align: center; vertical-align: top\">0.9002186948093639</td>\n",
              "    </tr>\n",
              "    <tr>\n",
              "        <td style=\"padding-left: 1em; padding-right: 1em; text-align: center; vertical-align: top\">0.9367819244799381</td>\n",
              "    </tr>\n",
              "    <tr>\n",
              "        <td style=\"padding-left: 1em; padding-right: 1em; text-align: center; vertical-align: top\">0.9367819244799381</td>\n",
              "    </tr>\n",
              "    <tr>\n",
              "        <td style=\"padding-left: 1em; padding-right: 1em; text-align: center; vertical-align: top\">0.9367819244799381</td>\n",
              "    </tr>\n",
              "    <tr>\n",
              "        <td style=\"padding-left: 1em; padding-right: 1em; text-align: center; vertical-align: top\">0.7919288370624551</td>\n",
              "    </tr>\n",
              "    <tr>\n",
              "        <td style=\"padding-left: 1em; padding-right: 1em; text-align: center; vertical-align: top\">0.9829620803909049</td>\n",
              "    </tr>\n",
              "</table>\n",
              "[10 rows x 18 columns]<br/>\n",
              "</div>"
            ],
            "text/plain": [
              "Columns:\n",
              "\tname\tstr\n",
              "\treview\tstr\n",
              "\trating\tfloat\n",
              "\tword_count\tdict\n",
              "\tsentiment\tint\n",
              "\tawesome\tfloat\n",
              "\tgreat\tfloat\n",
              "\tfantastic\tfloat\n",
              "\tamazing\tfloat\n",
              "\tlove\tfloat\n",
              "\thorrible\tint\n",
              "\tbad\tint\n",
              "\tterrible\tfloat\n",
              "\tawful\tint\n",
              "\twow\tint\n",
              "\thate\tint\n",
              "\tpredicted_sentiment\tfloat\n",
              "\tpredicted_sentiment_2\tfloat\n",
              "\n",
              "Rows: 10\n",
              "\n",
              "Data:\n",
              "+-------------------------+-------------------------------+--------+\n",
              "|           name          |             review            | rating |\n",
              "+-------------------------+-------------------------------+--------+\n",
              "| Baby Trend Diaper Champ | I read a review below that... |  4.0   |\n",
              "| Baby Trend Diaper Champ | I have never written a rev... |  5.0   |\n",
              "| Baby Trend Diaper Champ | I originally put this item... |  5.0   |\n",
              "| Baby Trend Diaper Champ | Baby Luke can turn a clean... |  5.0   |\n",
              "| Baby Trend Diaper Champ | Diaper Champ or Diaper Gen... |  5.0   |\n",
              "| Baby Trend Diaper Champ | I am one of those super-cr... |  5.0   |\n",
              "| Baby Trend Diaper Champ | I LOOOVE this diaper pail!... |  5.0   |\n",
              "| Baby Trend Diaper Champ | As a first time mother, I ... |  5.0   |\n",
              "| Baby Trend Diaper Champ | I see that there are compl... |  5.0   |\n",
              "| Baby Trend Diaper Champ | I have a 10 year old daugh... |  5.0   |\n",
              "+-------------------------+-------------------------------+--------+\n",
              "+-------------------------------+-----------+---------+-------+-----------+---------+\n",
              "|           word_count          | sentiment | awesome | great | fantastic | amazing |\n",
              "+-------------------------------+-----------+---------+-------+-----------+---------+\n",
              "| {'key': 1.0, 'have': 1.0, ... |     1     |   0.0   |  0.0  |    0.0    |   0.0   |\n",
              "| {'priceless': 1.0, 'knows'... |     1     |   0.0   |  0.0  |    0.0    |   0.0   |\n",
              "| {'price': 1.0, 'suggestion... |     1     |   0.0   |  0.0  |    0.0    |   0.0   |\n",
              "| {'around': 1.0, 'any': 1.0... |     1     |   0.0   |  1.0  |    0.0    |   0.0   |\n",
              "| {'either': 1.0, 'be': 1.0,... |     1     |   0.0   |  1.0  |    0.0    |   0.0   |\n",
              "| {'hope': 1.0, 'make': 1.0,... |     1     |   0.0   |  0.0  |    0.0    |   0.0   |\n",
              "| {'buy': 1.0, 'product': 1.... |     1     |   0.0   |  0.0  |    0.0    |   0.0   |\n",
              "| {'ll': 1.0, 'baby': 1.0, '... |     1     |   0.0   |  0.0  |    0.0    |   0.0   |\n",
              "| {'very': 1.0, 'told': 1.0,... |     1     |   0.0   |  0.0  |    0.0    |   0.0   |\n",
              "| {'sorry': 1.0, 'be': 1.0, ... |     1     |   0.0   |  0.0  |    0.0    |   0.0   |\n",
              "+-------------------------------+-----------+---------+-------+-----------+---------+\n",
              "+------+----------+-----+----------+-------+-----+------+---------------------+\n",
              "| love | horrible | bad | terrible | awful | wow | hate | predicted_sentiment |\n",
              "+------+----------+-----+----------+-------+-----+------+---------------------+\n",
              "| 0.0  |    0     |  0  |   0.0    |   0   |  0  |  0   |  0.9999999999895941 |\n",
              "| 1.0  |    0     |  0  |   0.0    |   0   |  0  |  0   |  0.9999999999868131 |\n",
              "| 0.0  |    0     |  0  |   0.0    |   0   |  0  |  0   |  0.9999999999465673 |\n",
              "| 0.0  |    0     |  0  |   0.0    |   0   |  0  |  0   |  0.9999999999302822 |\n",
              "| 0.0  |    0     |  0  |   0.0    |   0   |  0  |  0   |  0.9999999999174133 |\n",
              "| 1.0  |    0     |  0  |   0.0    |   0   |  0  |  0   |  0.9999999998430963 |\n",
              "| 1.0  |    0     |  0  |   0.0    |   0   |  0  |  0   |  0.9999999997360196 |\n",
              "| 1.0  |    0     |  0  |   0.0    |   0   |  0  |  0   |  0.9999999995664315 |\n",
              "| 0.0  |    0     |  0  |   0.0    |   0   |  0  |  0   |  0.9999999985015902 |\n",
              "| 2.0  |    0     |  0  |   0.0    |   0   |  0  |  0   |  0.999999998056851  |\n",
              "+------+----------+-----+----------+-------+-----+------+---------------------+\n",
              "+-----------------------+\n",
              "| predicted_sentiment_2 |\n",
              "+-----------------------+\n",
              "|   0.7919288370624551  |\n",
              "|   0.9367819244799381  |\n",
              "|   0.7919288370624551  |\n",
              "|   0.9002186948093639  |\n",
              "|   0.9002186948093639  |\n",
              "|   0.9367819244799381  |\n",
              "|   0.9367819244799381  |\n",
              "|   0.9367819244799381  |\n",
              "|   0.7919288370624551  |\n",
              "|   0.9829620803909049  |\n",
              "+-----------------------+\n",
              "[10 rows x 18 columns]"
            ]
          },
          "metadata": {
            "tags": []
          },
          "execution_count": 134
        }
      ]
    },
    {
      "cell_type": "code",
      "metadata": {
        "colab": {
          "base_uri": "https://localhost:8080/",
          "height": 69
        },
        "id": "tvwrql-XPgEl",
        "outputId": "66a3ce9c-ce63-42f1-e127-9d3ec75ac1f7"
      },
      "source": [
        "diaper_champ_reviews[0]['review']"
      ],
      "execution_count": 135,
      "outputs": [
        {
          "output_type": "execute_result",
          "data": {
            "application/vnd.google.colaboratory.intrinsic+json": {
              "type": "string"
            },
            "text/plain": [
              "\"I read a review below that can explain exactly what we experienced. We've had it for 16 months and it has worked wonderful for us. No smells, change it out once a week, easy to clean. Then a diaper snagged this foam material in the head part, so I pulled the rest of the foam out. Big mistake!!! Now it can no loner retain the stinkiness and we're looking for a replacement. Be careful of overloading and never take out that foam piece that is cushioned between pieces. I have figured out that it is key to keeping the stink out.\""
            ]
          },
          "metadata": {
            "tags": []
          },
          "execution_count": 135
        }
      ]
    },
    {
      "cell_type": "code",
      "metadata": {
        "colab": {
          "base_uri": "https://localhost:8080/"
        },
        "id": "Vh5raLzxR9uF",
        "outputId": "71ea19af-550f-4ffd-9d88-f1ca55126b3e"
      },
      "source": [
        "diaper_champ_reviews[0]['word_count']"
      ],
      "execution_count": 140,
      "outputs": [
        {
          "output_type": "execute_result",
          "data": {
            "text/plain": [
              "{'16': 1.0,\n",
              " 'a': 4.0,\n",
              " 'and': 3.0,\n",
              " 'be': 1.0,\n",
              " 'below': 1.0,\n",
              " 'between': 1.0,\n",
              " 'big': 1.0,\n",
              " 'can': 2.0,\n",
              " 'careful': 1.0,\n",
              " 'change': 1.0,\n",
              " 'clean': 1.0,\n",
              " 'cushioned': 1.0,\n",
              " 'diaper': 1.0,\n",
              " 'easy': 1.0,\n",
              " 'exactly': 1.0,\n",
              " 'experienced': 1.0,\n",
              " 'explain': 1.0,\n",
              " 'figured': 1.0,\n",
              " 'foam': 3.0,\n",
              " 'for': 3.0,\n",
              " 'had': 1.0,\n",
              " 'has': 1.0,\n",
              " 'have': 1.0,\n",
              " 'head': 1.0,\n",
              " 'i': 3.0,\n",
              " 'in': 1.0,\n",
              " 'is': 2.0,\n",
              " 'it': 5.0,\n",
              " 'keeping': 1.0,\n",
              " 'key': 1.0,\n",
              " 'loner': 1.0,\n",
              " 'looking': 1.0,\n",
              " 'material': 1.0,\n",
              " 'mistake': 1.0,\n",
              " 'months': 1.0,\n",
              " 'never': 1.0,\n",
              " 'no': 2.0,\n",
              " 'now': 1.0,\n",
              " 'of': 2.0,\n",
              " 'once': 1.0,\n",
              " 'out': 5.0,\n",
              " 'overloading': 1.0,\n",
              " 'part': 1.0,\n",
              " 'piece': 1.0,\n",
              " 'pieces': 1.0,\n",
              " 'pulled': 1.0,\n",
              " 're': 1.0,\n",
              " 'read': 1.0,\n",
              " 'replacement': 1.0,\n",
              " 'rest': 1.0,\n",
              " 'retain': 1.0,\n",
              " 'review': 1.0,\n",
              " 'smells': 1.0,\n",
              " 'snagged': 1.0,\n",
              " 'so': 1.0,\n",
              " 'stink': 1.0,\n",
              " 'stinkiness': 1.0,\n",
              " 'take': 1.0,\n",
              " 'that': 4.0,\n",
              " 'the': 5.0,\n",
              " 'then': 1.0,\n",
              " 'this': 1.0,\n",
              " 'to': 2.0,\n",
              " 'us': 1.0,\n",
              " 've': 1.0,\n",
              " 'we': 3.0,\n",
              " 'week': 1.0,\n",
              " 'what': 1.0,\n",
              " 'wonderful': 1.0,\n",
              " 'worked': 1.0}"
            ]
          },
          "metadata": {
            "tags": []
          },
          "execution_count": 140
        }
      ]
    },
    {
      "cell_type": "code",
      "metadata": {
        "colab": {
          "base_uri": "https://localhost:8080/",
          "height": 120
        },
        "id": "orRqbGQMPkZt",
        "outputId": "5e9cae0c-ccbb-409b-8c31-d1e6aae858a8"
      },
      "source": [
        "diaper_champ_reviews[1]['review']"
      ],
      "execution_count": 136,
      "outputs": [
        {
          "output_type": "execute_result",
          "data": {
            "application/vnd.google.colaboratory.intrinsic+json": {
              "type": "string"
            },
            "text/plain": [
              "'I have never written a review for Amazon but I saw some of the poor reviews on the Diaper Champ and had to add my two cents . . .When my sister got pregnant she could not decide if she should register for the Diaper Champ or the Diaper Genie.  She left it up to me and after reviewing both items I went with the Diaper Champ . . .  The idea of having to continually purchase bags for the Diaper Genie seemed like a waste when the Diaper Champ lets you use any type of bag . . .  My nephew is now over two years old and while he has begun potty training, my sister still uses the Diaper Champ I gave her . . .When it came time for me to choose a diaper disposal system, I put the Diaper Champ on my registry.  Yes, it can be a bit tricky to open (I found using two hands works best) but then again do I want something that is holding wet and otherwise dirty diapers to open easily?  True, the mechanism sometimes won\\'t \"swing\" the dirty diaper into the pail but HELLO that is a sign that it is probably time to put in a new bag.  Yes, it can eventually start to smell if you don\\'t change it regularly . . . but then again if you used a metal safe lined with carbon to hold your kids diapers eventually baby poop and pee smell would emanate from it if you didn\\'t clean it out regularly . . . Realistically the thing holds dirty stinky diapers and yep it is going to smell when you open it but hey . . . my kids tush smells when I wipe it but I still love him :)My personal tip . . . if you belong to a wholesale club like BJ\\'s, Costco or Sam\\'s check to see if they have the Glad Kitchen Bags.  The BJ\\'s we shop in has a box of 200 for $9.99.  As long as you do not attempt to overstuff them (i.e., get lazy and don\\'t change the bag regularly) they work perfectly.  I also use them in the small garbage pails in our apartment.  I could wait for a sale and use a coupon (the way I shop for most things) but it takes months to go through the box and I like knowing they are always on hand . . . At about $.05 a bag, the super duper box of bags makes my life easy and that as any parent knows is ***PRICELESS***.'"
            ]
          },
          "metadata": {
            "tags": []
          },
          "execution_count": 136
        }
      ]
    },
    {
      "cell_type": "code",
      "metadata": {
        "id": "gVxtu5iFPxAM"
      },
      "source": [
        ""
      ],
      "execution_count": null,
      "outputs": []
    }
  ]
}