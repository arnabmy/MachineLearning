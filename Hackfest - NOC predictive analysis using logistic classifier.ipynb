{
 "cells": [
  {
   "cell_type": "code",
   "execution_count": 302,
   "metadata": {
    "collapsed": false
   },
   "outputs": [],
   "source": [
    "import graphlab as gl"
   ]
  },
  {
   "cell_type": "code",
   "execution_count": 303,
   "metadata": {
    "collapsed": false
   },
   "outputs": [
    {
     "data": {
      "text/html": [
       "<pre>Finished parsing file C:\\Users\\Administrator\\Documents\\Machine Learning\\classification\\AlarmData_Customer_Export.csv</pre>"
      ],
      "text/plain": [
       "Finished parsing file C:\\Users\\Administrator\\Documents\\Machine Learning\\classification\\AlarmData_Customer_Export.csv"
      ]
     },
     "metadata": {},
     "output_type": "display_data"
    },
    {
     "data": {
      "text/html": [
       "<pre>Parsing completed. Parsed 100 lines in 0.043 secs.</pre>"
      ],
      "text/plain": [
       "Parsing completed. Parsed 100 lines in 0.043 secs."
      ]
     },
     "metadata": {},
     "output_type": "display_data"
    },
    {
     "name": "stdout",
     "output_type": "stream",
     "text": [
      "------------------------------------------------------\n",
      "Inferred types from first 100 line(s) of file as \n",
      "column_type_hints=[str,str,str,long,long,str,str,long,long,long,long,str,str,long,str,long,str,str,str,str,str,str,str,str,long,str,long,str,str,str,str,long,long,long,str,long,str,str,str,str]\n",
      "If parsing fails due to incorrect types, you can correct\n",
      "the inferred type list above and pass it to read_csv in\n",
      "the column_type_hints argument\n",
      "------------------------------------------------------\n"
     ]
    },
    {
     "data": {
      "text/html": [
       "<pre>Finished parsing file C:\\Users\\Administrator\\Documents\\Machine Learning\\classification\\AlarmData_Customer_Export.csv</pre>"
      ],
      "text/plain": [
       "Finished parsing file C:\\Users\\Administrator\\Documents\\Machine Learning\\classification\\AlarmData_Customer_Export.csv"
      ]
     },
     "metadata": {},
     "output_type": "display_data"
    },
    {
     "data": {
      "text/html": [
       "<pre>Parsing completed. Parsed 1180 lines in 0.038 secs.</pre>"
      ],
      "text/plain": [
       "Parsing completed. Parsed 1180 lines in 0.038 secs."
      ]
     },
     "metadata": {},
     "output_type": "display_data"
    }
   ],
   "source": [
    "alarms = gl.SFrame('AlarmData_Customer_Export.csv')"
   ]
  },
  {
   "cell_type": "code",
   "execution_count": 304,
   "metadata": {
    "collapsed": false
   },
   "outputs": [
    {
     "data": {
      "application/javascript": [
       "$(\"head\").append($(\"<link/>\").attr({\n",
       "  rel:  \"stylesheet\",\n",
       "  type: \"text/css\",\n",
       "  href: \"//cdnjs.cloudflare.com/ajax/libs/font-awesome/4.1.0/css/font-awesome.min.css\"\n",
       "}));\n",
       "$(\"head\").append($(\"<link/>\").attr({\n",
       "  rel:  \"stylesheet\",\n",
       "  type: \"text/css\",\n",
       "  href: \"https://static.turi.com/products/graphlab-create/2.0/canvas/css/canvas.css\"\n",
       "}));\n",
       "\n",
       "            (function(){\n",
       "\n",
       "                var e = null;\n",
       "                if (typeof element == 'undefined') {\n",
       "                    var scripts = document.getElementsByTagName('script');\n",
       "                    var thisScriptTag = scripts[scripts.length-1];\n",
       "                    var parentDiv = thisScriptTag.parentNode;\n",
       "                    e = document.createElement('div');\n",
       "                    parentDiv.appendChild(e);\n",
       "                } else {\n",
       "                    e = element[0];\n",
       "                }\n",
       "\n",
       "                if (typeof requirejs !== 'undefined') {\n",
       "                    // disable load timeout; ipython_app.js is large and can take a while to load.\n",
       "                    requirejs.config({waitSeconds: 0});\n",
       "                }\n",
       "\n",
       "                require(['https://static.turi.com/products/graphlab-create/2.0/canvas/js/ipython_app.js'], function(IPythonApp){\n",
       "                    var app = new IPythonApp();\n",
       "                    app.attachView('sarray','Categorical', {\"ipython\": true, \"sketch\": {\"complete\": true, \"numeric\": false, \"num_unique\": 72, \"num_undefined\": 0, \"progress\": 1.0, \"frequent_items\": {\"ATT30SAP02\": {\"frequency\": 2, \"value\": \"ATT30SAP02\"}, \"NTT16APP101PPP\": {\"frequency\": 14, \"value\": \"NTT16APP101PPP\"}, \"ATT30SAP01\": {\"frequency\": 5, \"value\": \"ATT30SAP01\"}, \"SQL Server:NTT16DBS100PPP\\\\NTT16DBS100AGL\": {\"frequency\": 33, \"value\": \"SQL Server:NTT16DB ...\"}, \"SQL Server:JPP16DBS02\": {\"frequency\": 13, \"value\": \"SQL ...\"}, \"NTT16APP103PPP\": {\"frequency\": 26, \"value\": \"NTT16APP103PPP\"}, \"BSI16DBS22PGA\": {\"frequency\": 10, \"value\": \"BSI16DBS22PGA\"}, \"ALA16APP03\": {\"frequency\": 23, \"value\": \"ALA16APP03\"}, \"NTT16APP104PPP\": {\"frequency\": 12, \"value\": \"NTT16APP104PPP\"}, \"NTT16DBS06CON\": {\"frequency\": 11, \"value\": \"NTT16DBS06CON\"}, \"UA-2K8-LOLMS04\": {\"frequency\": 14, \"value\": \"UA-2K8-LOLMS04\"}, \"ATT30VCC01\": {\"frequency\": 26, \"value\": \"ATT30VCC01\"}, \"UA-2K8-LOLMS02\": {\"frequency\": 23, \"value\": \"UA-2K8-LOLMS02\"}, \"UA-2K8-LOLMS03\": {\"frequency\": 24, \"value\": \"UA-2K8-LOLMS03\"}, \"ATT30MON02\": {\"frequency\": 12, \"value\": \"ATT30MON02\"}, \"NTT76APP09NAV\": {\"frequency\": 28, \"value\": \"NTT76APP09NAV\"}, \"GRY76APP06\": {\"frequency\": 6, \"value\": \"GRY76APP06\"}, \"GRY76APP07\": {\"frequency\": 3, \"value\": \"GRY76APP07\"}, \"NTT16DBS05CON\": {\"frequency\": 14, \"value\": \"NTT16DBS05CON\"}, \"ATT30MON21\": {\"frequency\": 1, \"value\": \"ATT30MON21\"}, \"HTS:GRY16EXC02\": {\"frequency\": 5, \"value\": \"HTS:GRY16EXC02\"}, \"NTT76APP08NAV\": {\"frequency\": 14, \"value\": \"NTT76APP08NAV\"}, \"NTT76APP05FEE\": {\"frequency\": 5, \"value\": \"NTT76APP05FEE\"}, \"BSI16DOM01TST\": {\"frequency\": 5, \"value\": \"BSI16DOM01TST\"}, \"CPU\": {\"frequency\": 111, \"value\": \"CPU\"}, \"Virtual Memory\": {\"frequency\": 24, \"value\": \"Virtual Memory\"}, \"0\": {\"frequency\": 4, \"value\": \"0\"}, \"SQL Server:NTT16DBS100PPP\\\\NTT16DBS100NAV\": {\"frequency\": 36, \"value\": \"SQL Server:NTT16DB ...\"}, \"2\": {\"frequency\": 6, \"value\": \"2\"}, \"JLT10WEB09\": {\"frequency\": 5, \"value\": \"JLT10WEB09\"}, \"UVR76APP01PHN\": {\"frequency\": 4, \"value\": \"UVR76APP01PHN\"}, \"BSI16DBS21PGA\": {\"frequency\": 15, \"value\": \"BSI16DBS21PGA\"}, \"GRY16VCC01\": {\"frequency\": 18, \"value\": \"GRY16VCC01\"}, \"UA-2K8-LOLMS01\": {\"frequency\": 12, \"value\": \"UA-2K8-LOLMS01\"}, \"Remote Insight\": {\"frequency\": 28, \"value\": \"Remote Insight\"}, \"NTT76APP10NAV\": {\"frequency\": 26, \"value\": \"NTT76APP10NAV\"}, \"PST16APP01PAT\": {\"frequency\": 14, \"value\": \"PST16APP01PAT\"}, \"PST16DBS11BI\": {\"frequency\": 13, \"value\": \"PST16DBS11BI\"}, \"GRY16EXC01\": {\"frequency\": 3, \"value\": \"GRY16EXC01\"}, \"PST16APP10PAT\": {\"frequency\": 11, \"value\": \"PST16APP10PAT\"}, \"ATT10DBS22\": {\"frequency\": 15, \"value\": \"ATT10DBS22\"}, \"NTT16APP114PPP\": {\"frequency\": 27, \"value\": \"NTT16APP114PPP\"}, \"NTT16DOM05TIL\": {\"frequency\": 13, \"value\": \"NTT16DOM05TIL\"}, \"GBMNCWPPQRM01\": {\"frequency\": 14, \"value\": \"GBMNCWPPQRM01\"}, \"UA-2K8-UKST1\": {\"frequency\": 14, \"value\": \"UA-2K8-UKST1\"}, \"CIM Server:BSI16DBS22PGA\": {\"frequency\": 2, \"value\": \"CIM Server:BSI16DB ...\"}, \"SQL Server:ATT16VSS03\\\\ATT16VSS03\": {\"frequency\": 12, \"value\": \"SQL Server:ATT16VS ...\"}, \"NTT16APP113PPP\": {\"frequency\": 9, \"value\": \"NTT16APP113PPP\"}, \"BSI10APP01CRV\": {\"frequency\": 7, \"value\": \"BSI10APP01CRV\"}, \"ATT16VCC10\": {\"frequency\": 23, \"value\": \"ATT16VCC10\"}, \"SQL Server:NTT16DBS100PPP\": {\"frequency\": 31, \"value\": \"SQL Server:NTT16DB ...\"}, \"DET16RPT01\": {\"frequency\": 27, \"value\": \"DET16RPT01\"}, \"Repository Server (QDBUK601)\": {\"frequency\": 11, \"value\": \"Repository Server ...\"}, \"BSI76APP01DIR\": {\"frequency\": 13, \"value\": \"BSI76APP01DIR\"}, \"GBMNCWPPSPSQL02\": {\"frequency\": 14, \"value\": \"GBMNCWPPSPSQL02\"}, \"UE-DEVBI02\": {\"frequency\": 2, \"value\": \"UE-DEVBI02\"}, \"GRY16DOM02\": {\"frequency\": 5, \"value\": \"GRY16DOM02\"}, \"PDM76APP32\": {\"frequency\": 6, \"value\": \"PDM76APP32\"}, \"ATT16DBS22\": {\"frequency\": 6, \"value\": \"ATT16DBS22\"}, \"UE-QREPORTS01\": {\"frequency\": 12, \"value\": \"UE-QREPORTS01\"}, \"Paging Files\": {\"frequency\": 29, \"value\": \"Paging Files\"}, \"NTT16APP100PPP\": {\"frequency\": 19, \"value\": \"NTT16APP100PPP\"}, \"MFN16APP22\": {\"frequency\": 11, \"value\": \"MFN16APP22\"}, \"GRY76DBS10\": {\"frequency\": 3, \"value\": \"GRY76DBS10\"}, \"DET16FLU01\": {\"frequency\": 4, \"value\": \"DET16FLU01\"}, \"NTT16APP102PPP\": {\"frequency\": 27, \"value\": \"NTT16APP102PPP\"}, \"BSI16DBS11SHD\": {\"frequency\": 61, \"value\": \"BSI16DBS11SHD\"}, \"BSI16DBS12SHD\": {\"frequency\": 70, \"value\": \"BSI16DBS12SHD\"}, \"BSI16APP01PRV\": {\"frequency\": 4, \"value\": \"BSI16APP01PRV\"}, \"JPP16DBS02\": {\"frequency\": 13, \"value\": \"JPP16DBS02\"}, \"NTT16DBS115PPP\": {\"frequency\": 13, \"value\": \"NTT16DBS115PPP\"}, \"JPP16DBS01\": {\"frequency\": 4, \"value\": \"JPP16DBS01\"}}, \"size\": 1180}, \"selected_variable\": {\"name\": [\"<SArray>\"], \"dtype\": \"str\", \"view_component\": \"Categorical\", \"view_file\": \"sarray\", \"descriptives\": {\"rows\": 1180}, \"type\": \"SArray\", \"view_components\": [\"Categorical\"]}, \"histogram\": null}, e);\n",
       "                });\n",
       "            })();\n",
       "        "
      ]
     },
     "metadata": {},
     "output_type": "display_data"
    }
   ],
   "source": [
    "#Analyzing elements in customer data\n",
    "gl.canvas.set_target('ipynb')\n",
    "alarms['Element'].show()"
   ]
  },
  {
   "cell_type": "code",
   "execution_count": 305,
   "metadata": {
    "collapsed": false
   },
   "outputs": [
    {
     "data": {
      "text/plain": [
       "1068"
      ]
     },
     "execution_count": 305,
     "metadata": {},
     "output_type": "execute_result"
    }
   ],
   "source": [
    "##ignore all OK alarms as they are neutral\n",
    "alarms = alarms[alarms['Severity']!='OK']\n",
    "len(alarms)"
   ]
  },
  {
   "cell_type": "code",
   "execution_count": 306,
   "metadata": {
    "collapsed": false
   },
   "outputs": [],
   "source": [
    "\n",
    "alarms['is_critical'] = alarms['Severity'].apply(lambda Severity : +1 if Severity=='CRITICAL' else -1)"
   ]
  },
  {
   "cell_type": "code",
   "execution_count": 307,
   "metadata": {
    "collapsed": false
   },
   "outputs": [
    {
     "name": "stdout",
     "output_type": "stream",
     "text": [
      "PROGRESS: Creating a validation set from 5 percent of training data. This may take a while.\n",
      "          You can set ``validation_set=None`` to disable validation tracking.\n",
      "\n"
     ]
    },
    {
     "data": {
      "text/html": [
       "<pre>WARNING: The number of feature dimensions in this problem is very large in comparison with the number of examples. Unless an appropriate regularization value is set, this model may not provide accurate predictions for a validation/test set.</pre>"
      ],
      "text/plain": [
       "WARNING: The number of feature dimensions in this problem is very large in comparison with the number of examples. Unless an appropriate regularization value is set, this model may not provide accurate predictions for a validation/test set."
      ]
     },
     "metadata": {},
     "output_type": "display_data"
    },
    {
     "data": {
      "text/html": [
       "<pre>WARNING: Detected extremely low variance for feature(s) 'DepJobID', 'RepositoryName', 'Status', 'ActionEndTime', 'TimeActiveBias', 'KSGName', 'Category', 'AgentMsgshort', 'UserStatusID', 'AckTime', 'AppManager Comments', 'HasComment', 'WasNullAttrs' because all entries are nearly the same.\n",
       "Proceeding with model training using all features. If the model does not provide results of adequate quality, exclude the above mentioned feature(s) from the input dataset.</pre>"
      ],
      "text/plain": [
       "WARNING: Detected extremely low variance for feature(s) 'DepJobID', 'RepositoryName', 'Status', 'ActionEndTime', 'TimeActiveBias', 'KSGName', 'Category', 'AgentMsgshort', 'UserStatusID', 'AckTime', 'AppManager Comments', 'HasComment', 'WasNullAttrs' because all entries are nearly the same.\n",
       "Proceeding with model training using all features. If the model does not provide results of adequate quality, exclude the above mentioned feature(s) from the input dataset."
      ]
     },
     "metadata": {},
     "output_type": "display_data"
    },
    {
     "data": {
      "text/html": [
       "<pre>Logistic regression:</pre>"
      ],
      "text/plain": [
       "Logistic regression:"
      ]
     },
     "metadata": {},
     "output_type": "display_data"
    },
    {
     "data": {
      "text/html": [
       "<pre>--------------------------------------------------------</pre>"
      ],
      "text/plain": [
       "--------------------------------------------------------"
      ]
     },
     "metadata": {},
     "output_type": "display_data"
    },
    {
     "data": {
      "text/html": [
       "<pre>Number of examples          : 824</pre>"
      ],
      "text/plain": [
       "Number of examples          : 824"
      ]
     },
     "metadata": {},
     "output_type": "display_data"
    },
    {
     "data": {
      "text/html": [
       "<pre>Number of classes           : 2</pre>"
      ],
      "text/plain": [
       "Number of classes           : 2"
      ]
     },
     "metadata": {},
     "output_type": "display_data"
    },
    {
     "data": {
      "text/html": [
       "<pre>Number of feature columns   : 40</pre>"
      ],
      "text/plain": [
       "Number of feature columns   : 40"
      ]
     },
     "metadata": {},
     "output_type": "display_data"
    },
    {
     "data": {
      "text/html": [
       "<pre>Number of unpacked features : 40</pre>"
      ],
      "text/plain": [
       "Number of unpacked features : 40"
      ]
     },
     "metadata": {},
     "output_type": "display_data"
    },
    {
     "data": {
      "text/html": [
       "<pre>Number of coefficients    : 5342</pre>"
      ],
      "text/plain": [
       "Number of coefficients    : 5342"
      ]
     },
     "metadata": {},
     "output_type": "display_data"
    },
    {
     "data": {
      "text/html": [
       "<pre>Starting L-BFGS</pre>"
      ],
      "text/plain": [
       "Starting L-BFGS"
      ]
     },
     "metadata": {},
     "output_type": "display_data"
    },
    {
     "data": {
      "text/html": [
       "<pre>--------------------------------------------------------</pre>"
      ],
      "text/plain": [
       "--------------------------------------------------------"
      ]
     },
     "metadata": {},
     "output_type": "display_data"
    },
    {
     "data": {
      "text/html": [
       "<pre>+-----------+----------+-----------+--------------+-------------------+---------------------+</pre>"
      ],
      "text/plain": [
       "+-----------+----------+-----------+--------------+-------------------+---------------------+"
      ]
     },
     "metadata": {},
     "output_type": "display_data"
    },
    {
     "data": {
      "text/html": [
       "<pre>| Iteration | Passes   | Step size | Elapsed Time | Training-accuracy | Validation-accuracy |</pre>"
      ],
      "text/plain": [
       "| Iteration | Passes   | Step size | Elapsed Time | Training-accuracy | Validation-accuracy |"
      ]
     },
     "metadata": {},
     "output_type": "display_data"
    },
    {
     "data": {
      "text/html": [
       "<pre>+-----------+----------+-----------+--------------+-------------------+---------------------+</pre>"
      ],
      "text/plain": [
       "+-----------+----------+-----------+--------------+-------------------+---------------------+"
      ]
     },
     "metadata": {},
     "output_type": "display_data"
    },
    {
     "data": {
      "text/html": [
       "<pre>| 1         | 3        | 0.001214  | 0.006000     | 0.991505          | 0.947368            |</pre>"
      ],
      "text/plain": [
       "| 1         | 3        | 0.001214  | 0.006000     | 0.991505          | 0.947368            |"
      ]
     },
     "metadata": {},
     "output_type": "display_data"
    },
    {
     "data": {
      "text/html": [
       "<pre>| 2         | 5        | 1.000000  | 0.012000     | 1.000000          | 0.973684            |</pre>"
      ],
      "text/plain": [
       "| 2         | 5        | 1.000000  | 0.012000     | 1.000000          | 0.973684            |"
      ]
     },
     "metadata": {},
     "output_type": "display_data"
    },
    {
     "data": {
      "text/html": [
       "<pre>| 3         | 6        | 1.000000  | 0.015000     | 1.000000          | 0.973684            |</pre>"
      ],
      "text/plain": [
       "| 3         | 6        | 1.000000  | 0.015000     | 1.000000          | 0.973684            |"
      ]
     },
     "metadata": {},
     "output_type": "display_data"
    },
    {
     "data": {
      "text/html": [
       "<pre>| 4         | 7        | 1.000000  | 0.018000     | 1.000000          | 0.973684            |</pre>"
      ],
      "text/plain": [
       "| 4         | 7        | 1.000000  | 0.018000     | 1.000000          | 0.973684            |"
      ]
     },
     "metadata": {},
     "output_type": "display_data"
    },
    {
     "data": {
      "text/html": [
       "<pre>| 5         | 8        | 1.000000  | 0.022000     | 1.000000          | 1.000000            |</pre>"
      ],
      "text/plain": [
       "| 5         | 8        | 1.000000  | 0.022000     | 1.000000          | 1.000000            |"
      ]
     },
     "metadata": {},
     "output_type": "display_data"
    },
    {
     "data": {
      "text/html": [
       "<pre>| 6         | 9        | 1.000000  | 0.027000     | 1.000000          | 1.000000            |</pre>"
      ],
      "text/plain": [
       "| 6         | 9        | 1.000000  | 0.027000     | 1.000000          | 1.000000            |"
      ]
     },
     "metadata": {},
     "output_type": "display_data"
    },
    {
     "data": {
      "text/html": [
       "<pre>+-----------+----------+-----------+--------------+-------------------+---------------------+</pre>"
      ],
      "text/plain": [
       "+-----------+----------+-----------+--------------+-------------------+---------------------+"
      ]
     },
     "metadata": {},
     "output_type": "display_data"
    },
    {
     "data": {
      "text/html": [
       "<pre>TERMINATED: Iteration limit reached.</pre>"
      ],
      "text/plain": [
       "TERMINATED: Iteration limit reached."
      ]
     },
     "metadata": {},
     "output_type": "display_data"
    },
    {
     "data": {
      "text/html": [
       "<pre>This model may not be optimal. To improve it, consider increasing `max_iterations`.</pre>"
      ],
      "text/plain": [
       "This model may not be optimal. To improve it, consider increasing `max_iterations`."
      ]
     },
     "metadata": {},
     "output_type": "display_data"
    }
   ],
   "source": [
    "# Make a train-test split\n",
    "train_data, test_data = alarms.random_split(0.8)\n",
    "\n",
    "# Create a model which weights classes based on frequency in the training data.\n",
    "model = gl.logistic_classifier.create(train_data, target='is_critical',class_weights = 'auto')"
   ]
  },
  {
   "cell_type": "code",
   "execution_count": 308,
   "metadata": {
    "collapsed": false
   },
   "outputs": [
    {
     "name": "stdout",
     "output_type": "stream",
     "text": [
      "+-------+----------------+\n",
      "| class |  probability   |\n",
      "+-------+----------------+\n",
      "|   1   | 0.999880322051 |\n",
      "|   1   | 0.999557409831 |\n",
      "|   1   | 0.999324451855 |\n",
      "|   1   | 0.988527596767 |\n",
      "|   -1  | 0.995431272419 |\n",
      "|   1   | 0.99880355197  |\n",
      "|   -1  | 0.998159145394 |\n",
      "|   -1  | 0.999933545238 |\n",
      "|   -1  | 0.999032044685 |\n",
      "|   1   | 0.999420883816 |\n",
      "+-------+----------------+\n",
      "[206 rows x 2 columns]\n",
      "Note: Only the head of the SFrame is printed.\n",
      "You can use print_rows(num_rows=m, num_columns=n) to print more rows and columns.\n"
     ]
    }
   ],
   "source": [
    "predictions = model.classify(test_data)\n",
    "print predictions"
   ]
  },
  {
   "cell_type": "code",
   "execution_count": 309,
   "metadata": {
    "collapsed": false
   },
   "outputs": [
    {
     "name": "stdout",
     "output_type": "stream",
     "text": [
      "Accuracy         : 0.980582524272\n",
      "Confusion Matrix : \n",
      "+--------------+-----------------+-------+\n",
      "| target_label | predicted_label | count |\n",
      "+--------------+-----------------+-------+\n",
      "|      -1      |        1        |   3   |\n",
      "|      -1      |        -1       |   67  |\n",
      "|      1       |        1        |  135  |\n",
      "|      1       |        -1       |   1   |\n",
      "+--------------+-----------------+-------+\n",
      "[4 rows x 3 columns]\n",
      "\n"
     ]
    }
   ],
   "source": [
    "# Evaluate the model and save the results into a dictionary\n",
    "result = model.evaluate(test_data)\n",
    "print \"Accuracy         : %s\" % result['accuracy']\n",
    "print \"Confusion Matrix : \\n%s\" % result['confusion_matrix']"
   ]
  },
  {
   "cell_type": "code",
   "execution_count": 310,
   "metadata": {
    "collapsed": false
   },
   "outputs": [
    {
     "data": {
      "application/javascript": [
       "$(\"head\").append($(\"<link/>\").attr({\n",
       "  rel:  \"stylesheet\",\n",
       "  type: \"text/css\",\n",
       "  href: \"//cdnjs.cloudflare.com/ajax/libs/font-awesome/4.1.0/css/font-awesome.min.css\"\n",
       "}));\n",
       "$(\"head\").append($(\"<link/>\").attr({\n",
       "  rel:  \"stylesheet\",\n",
       "  type: \"text/css\",\n",
       "  href: \"https://static.turi.com/products/graphlab-create/2.0/canvas/css/canvas.css\"\n",
       "}));\n",
       "\n",
       "            (function(){\n",
       "\n",
       "                var e = null;\n",
       "                if (typeof element == 'undefined') {\n",
       "                    var scripts = document.getElementsByTagName('script');\n",
       "                    var thisScriptTag = scripts[scripts.length-1];\n",
       "                    var parentDiv = thisScriptTag.parentNode;\n",
       "                    e = document.createElement('div');\n",
       "                    parentDiv.appendChild(e);\n",
       "                } else {\n",
       "                    e = element[0];\n",
       "                }\n",
       "\n",
       "                if (typeof requirejs !== 'undefined') {\n",
       "                    // disable load timeout; ipython_app.js is large and can take a while to load.\n",
       "                    requirejs.config({waitSeconds: 0});\n",
       "                }\n",
       "\n",
       "                require(['https://static.turi.com/products/graphlab-create/2.0/canvas/js/ipython_app.js'], function(IPythonApp){\n",
       "                    var app = new IPythonApp();\n",
       "                    app.attachView('model','Evaluation', {\"comparison\": null, \"selected_variable\": {\"comparison\": null, \"name\": [\"model\"], \"view_file\": \"model\", \"view_component\": \"Evaluation\", \"view_params\": {\"model_type\": \"regression\", \"view\": \"Evaluation\"}, \"view_components\": [\"Summary\", \"Evaluation\", \"Comparison\"], \"model_type\": \"regression\", \"attributes\": {\"section_titles\": [\"Schema\", \"Hyperparameters\", \"Training Summary\", \"Settings\", \"Highest Positive Coefficients\", \"Lowest Negative Coefficients\"], \"sections\": [[[\"Number of coefficients\", 5342], [\"Number of examples\", 824], [\"Number of classes\", 2], [\"Number of feature columns\", 40], [\"Number of unpacked features\", 40]], [[\"L1 penalty\", 0.0], [\"L2 penalty\", 0.01]], [[\"Solver\", \"lbfgs\"], [\"Solver iterations\", 10], [\"Solver status\", \"TERMINATED: Iteration limit reached.\"], [\"Training time (sec)\", 0.044]], [[\"Log-likelihood\", 0.1009]], [[\"ModificationTime[Tue, Feb 9, 2016 07:44:49 AM EST]\", 2.9747], [\"ModificationTime[Tue, Feb 9, 2016 07:39:49 AM EST]\", 2.7661], [\"ModificationTime[Tue, Feb 9, 2016 08:10:30 AM EST]\", 2.5702], [\"FirstOccurTime[Mon, Jan 25, 2016 07:08:16 PM EST]\", 2.3528], [\"FirstOccurConsoleTime[Mon, Jan 25, 2016 07:08:16 PM EST]\", 2.3528]], [[\"ModificationTime[Tue, Feb 9, 2016 07:44:47 AM EST]\", -3.4856], [\"ModificationTime[Tue, Feb 9, 2016 07:39:52 AM EST]\", -3.3738], [\"ModificationTime[Tue, Feb 9, 2016 07:35:07 AM EST]\", -2.2384], [\"ModificationTime[Tue, Feb 9, 2016 07:25:05 AM EST]\", -2.2247], [\"FirstOccurTimeString[2016-02-09 13:47:29 GMT]\", -1.7744]]]}, \"evaluations\": [[\"test_data\", {\"f1_score\": 0.9854014598540147, \"auc\": 0.9986344537815117, \"recall\": 0.9926470588235294, \"precision\": 0.9782608695652174, \"log_loss\": 0.04911238730868706, \"roc_curve\": [{\"threshold\": 0.0, \"p\": 136, \"fpr\": 1.0, \"tpr\": 1.0, \"n\": 70}, {\"threshold\": 0.001, \"p\": 136, \"fpr\": 0.7857142857142857, \"tpr\": 1.0, \"n\": 70}, {\"threshold\": 0.002, \"p\": 136, \"fpr\": 0.6571428571428571, \"tpr\": 1.0, \"n\": 70}, {\"threshold\": 0.003, \"p\": 136, \"fpr\": 0.6428571428571429, \"tpr\": 1.0, \"n\": 70}, {\"threshold\": 0.004, \"p\": 136, \"fpr\": 0.6285714285714286, \"tpr\": 1.0, \"n\": 70}, {\"threshold\": 0.005, \"p\": 136, \"fpr\": 0.6142857142857143, \"tpr\": 1.0, \"n\": 70}, {\"threshold\": 0.006, \"p\": 136, \"fpr\": 0.6142857142857143, \"tpr\": 1.0, \"n\": 70}, {\"threshold\": 0.007, \"p\": 136, \"fpr\": 0.6, \"tpr\": 1.0, \"n\": 70}, {\"threshold\": 0.008, \"p\": 136, \"fpr\": 0.5857142857142857, \"tpr\": 1.0, \"n\": 70}, {\"threshold\": 0.009, \"p\": 136, \"fpr\": 0.5428571428571428, \"tpr\": 1.0, \"n\": 70}, {\"threshold\": 0.01, \"p\": 136, \"fpr\": 0.5428571428571428, \"tpr\": 1.0, \"n\": 70}, {\"threshold\": 0.011, \"p\": 136, \"fpr\": 0.5142857142857142, \"tpr\": 1.0, \"n\": 70}, {\"threshold\": 0.012, \"p\": 136, \"fpr\": 0.5142857142857142, \"tpr\": 1.0, \"n\": 70}, {\"threshold\": 0.013, \"p\": 136, \"fpr\": 0.4714285714285714, \"tpr\": 1.0, \"n\": 70}, {\"threshold\": 0.014, \"p\": 136, \"fpr\": 0.38571428571428573, \"tpr\": 1.0, \"n\": 70}, {\"threshold\": 0.015, \"p\": 136, \"fpr\": 0.34285714285714286, \"tpr\": 1.0, \"n\": 70}, {\"threshold\": 0.016, \"p\": 136, \"fpr\": 0.22857142857142856, \"tpr\": 1.0, \"n\": 70}, {\"threshold\": 0.017, \"p\": 136, \"fpr\": 0.2, \"tpr\": 1.0, \"n\": 70}, {\"threshold\": 0.018, \"p\": 136, \"fpr\": 0.17142857142857143, \"tpr\": 1.0, \"n\": 70}, {\"threshold\": 0.019, \"p\": 136, \"fpr\": 0.15714285714285714, \"tpr\": 1.0, \"n\": 70}, {\"threshold\": 0.02, \"p\": 136, \"fpr\": 0.14285714285714285, \"tpr\": 1.0, \"n\": 70}, {\"threshold\": 0.021, \"p\": 136, \"fpr\": 0.14285714285714285, \"tpr\": 1.0, \"n\": 70}, {\"threshold\": 0.022, \"p\": 136, \"fpr\": 0.14285714285714285, \"tpr\": 1.0, \"n\": 70}, {\"threshold\": 0.023, \"p\": 136, \"fpr\": 0.12857142857142856, \"tpr\": 1.0, \"n\": 70}, {\"threshold\": 0.024, \"p\": 136, \"fpr\": 0.12857142857142856, \"tpr\": 1.0, \"n\": 70}, {\"threshold\": 0.025, \"p\": 136, \"fpr\": 0.12857142857142856, \"tpr\": 1.0, \"n\": 70}, {\"threshold\": 0.026, \"p\": 136, \"fpr\": 0.12857142857142856, \"tpr\": 1.0, \"n\": 70}, {\"threshold\": 0.027, \"p\": 136, \"fpr\": 0.12857142857142856, \"tpr\": 1.0, \"n\": 70}, {\"threshold\": 0.028, \"p\": 136, \"fpr\": 0.12857142857142856, \"tpr\": 1.0, \"n\": 70}, {\"threshold\": 0.029, \"p\": 136, \"fpr\": 0.12857142857142856, \"tpr\": 1.0, \"n\": 70}, {\"threshold\": 0.03, \"p\": 136, \"fpr\": 0.12857142857142856, \"tpr\": 1.0, \"n\": 70}, {\"threshold\": 0.031, \"p\": 136, \"fpr\": 0.1, \"tpr\": 1.0, \"n\": 70}, {\"threshold\": 0.032, \"p\": 136, \"fpr\": 0.1, \"tpr\": 1.0, \"n\": 70}, {\"threshold\": 0.033, \"p\": 136, \"fpr\": 0.1, \"tpr\": 1.0, \"n\": 70}, {\"threshold\": 0.034, \"p\": 136, \"fpr\": 0.1, \"tpr\": 1.0, \"n\": 70}, {\"threshold\": 0.035, \"p\": 136, \"fpr\": 0.1, \"tpr\": 1.0, \"n\": 70}, {\"threshold\": 0.036, \"p\": 136, \"fpr\": 0.1, \"tpr\": 1.0, \"n\": 70}, {\"threshold\": 0.037, \"p\": 136, \"fpr\": 0.1, \"tpr\": 1.0, \"n\": 70}, {\"threshold\": 0.038, \"p\": 136, \"fpr\": 0.1, \"tpr\": 1.0, \"n\": 70}, {\"threshold\": 0.039, \"p\": 136, \"fpr\": 0.1, \"tpr\": 1.0, \"n\": 70}, {\"threshold\": 0.04, \"p\": 136, \"fpr\": 0.1, \"tpr\": 1.0, \"n\": 70}, {\"threshold\": 0.041, \"p\": 136, \"fpr\": 0.1, \"tpr\": 1.0, \"n\": 70}, {\"threshold\": 0.042, \"p\": 136, \"fpr\": 0.1, \"tpr\": 1.0, \"n\": 70}, {\"threshold\": 0.043, \"p\": 136, \"fpr\": 0.1, \"tpr\": 1.0, \"n\": 70}, {\"threshold\": 0.044, \"p\": 136, \"fpr\": 0.1, \"tpr\": 1.0, \"n\": 70}, {\"threshold\": 0.045, \"p\": 136, \"fpr\": 0.1, \"tpr\": 1.0, \"n\": 70}, {\"threshold\": 0.046, \"p\": 136, \"fpr\": 0.1, \"tpr\": 1.0, \"n\": 70}, {\"threshold\": 0.047, \"p\": 136, \"fpr\": 0.1, \"tpr\": 1.0, \"n\": 70}, {\"threshold\": 0.048, \"p\": 136, \"fpr\": 0.1, \"tpr\": 1.0, \"n\": 70}, {\"threshold\": 0.049, \"p\": 136, \"fpr\": 0.1, \"tpr\": 1.0, \"n\": 70}, {\"threshold\": 0.05, \"p\": 136, \"fpr\": 0.1, \"tpr\": 1.0, \"n\": 70}, {\"threshold\": 0.051, \"p\": 136, \"fpr\": 0.1, \"tpr\": 1.0, \"n\": 70}, {\"threshold\": 0.052, \"p\": 136, \"fpr\": 0.1, \"tpr\": 1.0, \"n\": 70}, {\"threshold\": 0.053, \"p\": 136, \"fpr\": 0.1, \"tpr\": 1.0, \"n\": 70}, {\"threshold\": 0.054, \"p\": 136, \"fpr\": 0.1, \"tpr\": 1.0, \"n\": 70}, {\"threshold\": 0.055, \"p\": 136, \"fpr\": 0.1, \"tpr\": 1.0, \"n\": 70}, {\"threshold\": 0.056, \"p\": 136, \"fpr\": 0.1, \"tpr\": 1.0, \"n\": 70}, {\"threshold\": 0.057, \"p\": 136, \"fpr\": 0.1, \"tpr\": 1.0, \"n\": 70}, {\"threshold\": 0.058, \"p\": 136, \"fpr\": 0.1, \"tpr\": 1.0, \"n\": 70}, {\"threshold\": 0.059, \"p\": 136, \"fpr\": 0.1, \"tpr\": 1.0, \"n\": 70}, {\"threshold\": 0.06, \"p\": 136, \"fpr\": 0.05714285714285714, \"tpr\": 1.0, \"n\": 70}, {\"threshold\": 0.061, \"p\": 136, \"fpr\": 0.05714285714285714, \"tpr\": 1.0, \"n\": 70}, {\"threshold\": 0.062, \"p\": 136, \"fpr\": 0.05714285714285714, \"tpr\": 1.0, \"n\": 70}, {\"threshold\": 0.063, \"p\": 136, \"fpr\": 0.05714285714285714, \"tpr\": 1.0, \"n\": 70}, {\"threshold\": 0.064, \"p\": 136, \"fpr\": 0.05714285714285714, \"tpr\": 1.0, \"n\": 70}, {\"threshold\": 0.065, \"p\": 136, \"fpr\": 0.05714285714285714, \"tpr\": 1.0, \"n\": 70}, {\"threshold\": 0.066, \"p\": 136, \"fpr\": 0.05714285714285714, \"tpr\": 1.0, \"n\": 70}, {\"threshold\": 0.067, \"p\": 136, \"fpr\": 0.05714285714285714, \"tpr\": 1.0, \"n\": 70}, {\"threshold\": 0.068, \"p\": 136, \"fpr\": 0.05714285714285714, \"tpr\": 1.0, \"n\": 70}, {\"threshold\": 0.069, \"p\": 136, \"fpr\": 0.05714285714285714, \"tpr\": 1.0, \"n\": 70}, {\"threshold\": 0.07, \"p\": 136, \"fpr\": 0.05714285714285714, \"tpr\": 1.0, \"n\": 70}, {\"threshold\": 0.071, \"p\": 136, \"fpr\": 0.05714285714285714, \"tpr\": 1.0, \"n\": 70}, {\"threshold\": 0.072, \"p\": 136, \"fpr\": 0.05714285714285714, \"tpr\": 1.0, \"n\": 70}, {\"threshold\": 0.073, \"p\": 136, \"fpr\": 0.05714285714285714, \"tpr\": 1.0, \"n\": 70}, {\"threshold\": 0.074, \"p\": 136, \"fpr\": 0.05714285714285714, \"tpr\": 1.0, \"n\": 70}, {\"threshold\": 0.075, \"p\": 136, \"fpr\": 0.05714285714285714, \"tpr\": 1.0, \"n\": 70}, {\"threshold\": 0.076, \"p\": 136, \"fpr\": 0.05714285714285714, \"tpr\": 1.0, \"n\": 70}, {\"threshold\": 0.077, \"p\": 136, \"fpr\": 0.05714285714285714, \"tpr\": 1.0, \"n\": 70}, {\"threshold\": 0.078, \"p\": 136, \"fpr\": 0.05714285714285714, \"tpr\": 1.0, \"n\": 70}, {\"threshold\": 0.079, \"p\": 136, \"fpr\": 0.05714285714285714, \"tpr\": 1.0, \"n\": 70}, {\"threshold\": 0.08, \"p\": 136, \"fpr\": 0.05714285714285714, \"tpr\": 1.0, \"n\": 70}, {\"threshold\": 0.081, \"p\": 136, \"fpr\": 0.05714285714285714, \"tpr\": 1.0, \"n\": 70}, {\"threshold\": 0.082, \"p\": 136, \"fpr\": 0.05714285714285714, \"tpr\": 1.0, \"n\": 70}, {\"threshold\": 0.083, \"p\": 136, \"fpr\": 0.05714285714285714, \"tpr\": 1.0, \"n\": 70}, {\"threshold\": 0.084, \"p\": 136, \"fpr\": 0.05714285714285714, \"tpr\": 1.0, \"n\": 70}, {\"threshold\": 0.085, \"p\": 136, \"fpr\": 0.05714285714285714, \"tpr\": 1.0, \"n\": 70}, {\"threshold\": 0.086, \"p\": 136, \"fpr\": 0.05714285714285714, \"tpr\": 1.0, \"n\": 70}, {\"threshold\": 0.087, \"p\": 136, \"fpr\": 0.05714285714285714, \"tpr\": 1.0, \"n\": 70}, {\"threshold\": 0.088, \"p\": 136, \"fpr\": 0.05714285714285714, \"tpr\": 1.0, \"n\": 70}, {\"threshold\": 0.089, \"p\": 136, \"fpr\": 0.05714285714285714, \"tpr\": 1.0, \"n\": 70}, {\"threshold\": 0.09, \"p\": 136, \"fpr\": 0.05714285714285714, \"tpr\": 1.0, \"n\": 70}, {\"threshold\": 0.091, \"p\": 136, \"fpr\": 0.05714285714285714, \"tpr\": 1.0, \"n\": 70}, {\"threshold\": 0.092, \"p\": 136, \"fpr\": 0.05714285714285714, \"tpr\": 1.0, \"n\": 70}, {\"threshold\": 0.093, \"p\": 136, \"fpr\": 0.05714285714285714, \"tpr\": 1.0, \"n\": 70}, {\"threshold\": 0.094, \"p\": 136, \"fpr\": 0.05714285714285714, \"tpr\": 1.0, \"n\": 70}, {\"threshold\": 0.095, \"p\": 136, \"fpr\": 0.05714285714285714, \"tpr\": 1.0, \"n\": 70}, {\"threshold\": 0.096, \"p\": 136, \"fpr\": 0.05714285714285714, \"tpr\": 1.0, \"n\": 70}, {\"threshold\": 0.097, \"p\": 136, \"fpr\": 0.05714285714285714, \"tpr\": 1.0, \"n\": 70}, {\"threshold\": 0.098, \"p\": 136, \"fpr\": 0.05714285714285714, \"tpr\": 1.0, \"n\": 70}, {\"threshold\": 0.099, \"p\": 136, \"fpr\": 0.05714285714285714, \"tpr\": 1.0, \"n\": 70}, {\"threshold\": 0.1, \"p\": 136, \"fpr\": 0.05714285714285714, \"tpr\": 1.0, \"n\": 70}, {\"threshold\": 0.101, \"p\": 136, \"fpr\": 0.05714285714285714, \"tpr\": 1.0, \"n\": 70}, {\"threshold\": 0.102, \"p\": 136, \"fpr\": 0.05714285714285714, \"tpr\": 1.0, \"n\": 70}, {\"threshold\": 0.103, \"p\": 136, \"fpr\": 0.05714285714285714, \"tpr\": 1.0, \"n\": 70}, {\"threshold\": 0.104, \"p\": 136, \"fpr\": 0.05714285714285714, \"tpr\": 1.0, \"n\": 70}, {\"threshold\": 0.105, \"p\": 136, \"fpr\": 0.05714285714285714, \"tpr\": 1.0, \"n\": 70}, {\"threshold\": 0.106, \"p\": 136, \"fpr\": 0.05714285714285714, \"tpr\": 1.0, \"n\": 70}, {\"threshold\": 0.107, \"p\": 136, \"fpr\": 0.05714285714285714, \"tpr\": 1.0, \"n\": 70}, {\"threshold\": 0.108, \"p\": 136, \"fpr\": 0.05714285714285714, \"tpr\": 1.0, \"n\": 70}, {\"threshold\": 0.109, \"p\": 136, \"fpr\": 0.05714285714285714, \"tpr\": 1.0, \"n\": 70}, {\"threshold\": 0.11, \"p\": 136, \"fpr\": 0.05714285714285714, \"tpr\": 1.0, \"n\": 70}, {\"threshold\": 0.111, \"p\": 136, \"fpr\": 0.05714285714285714, \"tpr\": 1.0, \"n\": 70}, {\"threshold\": 0.112, \"p\": 136, \"fpr\": 0.05714285714285714, \"tpr\": 1.0, \"n\": 70}, {\"threshold\": 0.113, \"p\": 136, \"fpr\": 0.05714285714285714, \"tpr\": 1.0, \"n\": 70}, {\"threshold\": 0.114, \"p\": 136, \"fpr\": 0.05714285714285714, \"tpr\": 1.0, \"n\": 70}, {\"threshold\": 0.115, \"p\": 136, \"fpr\": 0.05714285714285714, \"tpr\": 1.0, \"n\": 70}, {\"threshold\": 0.116, \"p\": 136, \"fpr\": 0.05714285714285714, \"tpr\": 1.0, \"n\": 70}, {\"threshold\": 0.117, \"p\": 136, \"fpr\": 0.05714285714285714, \"tpr\": 1.0, \"n\": 70}, {\"threshold\": 0.118, \"p\": 136, \"fpr\": 0.05714285714285714, \"tpr\": 1.0, \"n\": 70}, {\"threshold\": 0.119, \"p\": 136, \"fpr\": 0.05714285714285714, \"tpr\": 1.0, \"n\": 70}, {\"threshold\": 0.12, \"p\": 136, \"fpr\": 0.05714285714285714, \"tpr\": 1.0, \"n\": 70}, {\"threshold\": 0.121, \"p\": 136, \"fpr\": 0.05714285714285714, \"tpr\": 1.0, \"n\": 70}, {\"threshold\": 0.122, \"p\": 136, \"fpr\": 0.05714285714285714, \"tpr\": 1.0, \"n\": 70}, {\"threshold\": 0.123, \"p\": 136, \"fpr\": 0.05714285714285714, \"tpr\": 1.0, \"n\": 70}, {\"threshold\": 0.124, \"p\": 136, \"fpr\": 0.05714285714285714, \"tpr\": 1.0, \"n\": 70}, {\"threshold\": 0.125, \"p\": 136, \"fpr\": 0.05714285714285714, \"tpr\": 1.0, \"n\": 70}, {\"threshold\": 0.126, \"p\": 136, \"fpr\": 0.05714285714285714, \"tpr\": 1.0, \"n\": 70}, {\"threshold\": 0.127, \"p\": 136, \"fpr\": 0.05714285714285714, \"tpr\": 1.0, \"n\": 70}, {\"threshold\": 0.128, \"p\": 136, \"fpr\": 0.05714285714285714, \"tpr\": 1.0, \"n\": 70}, {\"threshold\": 0.129, \"p\": 136, \"fpr\": 0.05714285714285714, \"tpr\": 1.0, \"n\": 70}, {\"threshold\": 0.13, \"p\": 136, \"fpr\": 0.05714285714285714, \"tpr\": 1.0, \"n\": 70}, {\"threshold\": 0.131, \"p\": 136, \"fpr\": 0.05714285714285714, \"tpr\": 1.0, \"n\": 70}, {\"threshold\": 0.132, \"p\": 136, \"fpr\": 0.05714285714285714, \"tpr\": 1.0, \"n\": 70}, {\"threshold\": 0.133, \"p\": 136, \"fpr\": 0.05714285714285714, \"tpr\": 1.0, \"n\": 70}, {\"threshold\": 0.134, \"p\": 136, \"fpr\": 0.05714285714285714, \"tpr\": 1.0, \"n\": 70}, {\"threshold\": 0.135, \"p\": 136, \"fpr\": 0.05714285714285714, \"tpr\": 1.0, \"n\": 70}, {\"threshold\": 0.136, \"p\": 136, \"fpr\": 0.05714285714285714, \"tpr\": 1.0, \"n\": 70}, {\"threshold\": 0.137, \"p\": 136, \"fpr\": 0.05714285714285714, \"tpr\": 1.0, \"n\": 70}, {\"threshold\": 0.138, \"p\": 136, \"fpr\": 0.05714285714285714, \"tpr\": 1.0, \"n\": 70}, {\"threshold\": 0.139, \"p\": 136, \"fpr\": 0.05714285714285714, \"tpr\": 1.0, \"n\": 70}, {\"threshold\": 0.14, \"p\": 136, \"fpr\": 0.05714285714285714, \"tpr\": 1.0, \"n\": 70}, {\"threshold\": 0.141, \"p\": 136, \"fpr\": 0.05714285714285714, \"tpr\": 1.0, \"n\": 70}, {\"threshold\": 0.142, \"p\": 136, \"fpr\": 0.05714285714285714, \"tpr\": 1.0, \"n\": 70}, {\"threshold\": 0.143, \"p\": 136, \"fpr\": 0.05714285714285714, \"tpr\": 1.0, \"n\": 70}, {\"threshold\": 0.144, \"p\": 136, \"fpr\": 0.05714285714285714, \"tpr\": 1.0, \"n\": 70}, {\"threshold\": 0.145, \"p\": 136, \"fpr\": 0.05714285714285714, \"tpr\": 1.0, \"n\": 70}, {\"threshold\": 0.146, \"p\": 136, \"fpr\": 0.05714285714285714, \"tpr\": 1.0, \"n\": 70}, {\"threshold\": 0.147, \"p\": 136, \"fpr\": 0.05714285714285714, \"tpr\": 1.0, \"n\": 70}, {\"threshold\": 0.148, \"p\": 136, \"fpr\": 0.05714285714285714, \"tpr\": 1.0, \"n\": 70}, {\"threshold\": 0.149, \"p\": 136, \"fpr\": 0.05714285714285714, \"tpr\": 1.0, \"n\": 70}, {\"threshold\": 0.15, \"p\": 136, \"fpr\": 0.05714285714285714, \"tpr\": 1.0, \"n\": 70}, {\"threshold\": 0.151, \"p\": 136, \"fpr\": 0.05714285714285714, \"tpr\": 1.0, \"n\": 70}, {\"threshold\": 0.152, \"p\": 136, \"fpr\": 0.05714285714285714, \"tpr\": 1.0, \"n\": 70}, {\"threshold\": 0.153, \"p\": 136, \"fpr\": 0.05714285714285714, \"tpr\": 1.0, \"n\": 70}, {\"threshold\": 0.154, \"p\": 136, \"fpr\": 0.05714285714285714, \"tpr\": 1.0, \"n\": 70}, {\"threshold\": 0.155, \"p\": 136, \"fpr\": 0.05714285714285714, \"tpr\": 1.0, \"n\": 70}, {\"threshold\": 0.156, \"p\": 136, \"fpr\": 0.05714285714285714, \"tpr\": 1.0, \"n\": 70}, {\"threshold\": 0.157, \"p\": 136, \"fpr\": 0.05714285714285714, \"tpr\": 1.0, \"n\": 70}, {\"threshold\": 0.158, \"p\": 136, \"fpr\": 0.05714285714285714, \"tpr\": 1.0, \"n\": 70}, {\"threshold\": 0.159, \"p\": 136, \"fpr\": 0.05714285714285714, \"tpr\": 1.0, \"n\": 70}, {\"threshold\": 0.16, \"p\": 136, \"fpr\": 0.05714285714285714, \"tpr\": 1.0, \"n\": 70}, {\"threshold\": 0.161, \"p\": 136, \"fpr\": 0.05714285714285714, \"tpr\": 1.0, \"n\": 70}, {\"threshold\": 0.162, \"p\": 136, \"fpr\": 0.05714285714285714, \"tpr\": 1.0, \"n\": 70}, {\"threshold\": 0.163, \"p\": 136, \"fpr\": 0.05714285714285714, \"tpr\": 1.0, \"n\": 70}, {\"threshold\": 0.164, \"p\": 136, \"fpr\": 0.05714285714285714, \"tpr\": 1.0, \"n\": 70}, {\"threshold\": 0.165, \"p\": 136, \"fpr\": 0.05714285714285714, \"tpr\": 1.0, \"n\": 70}, {\"threshold\": 0.166, \"p\": 136, \"fpr\": 0.05714285714285714, \"tpr\": 1.0, \"n\": 70}, {\"threshold\": 0.167, \"p\": 136, \"fpr\": 0.05714285714285714, \"tpr\": 1.0, \"n\": 70}, {\"threshold\": 0.168, \"p\": 136, \"fpr\": 0.05714285714285714, \"tpr\": 1.0, \"n\": 70}, {\"threshold\": 0.169, \"p\": 136, \"fpr\": 0.05714285714285714, \"tpr\": 1.0, \"n\": 70}, {\"threshold\": 0.17, \"p\": 136, \"fpr\": 0.05714285714285714, \"tpr\": 1.0, \"n\": 70}, {\"threshold\": 0.171, \"p\": 136, \"fpr\": 0.05714285714285714, \"tpr\": 1.0, \"n\": 70}, {\"threshold\": 0.172, \"p\": 136, \"fpr\": 0.05714285714285714, \"tpr\": 1.0, \"n\": 70}, {\"threshold\": 0.173, \"p\": 136, \"fpr\": 0.05714285714285714, \"tpr\": 1.0, \"n\": 70}, {\"threshold\": 0.174, \"p\": 136, \"fpr\": 0.05714285714285714, \"tpr\": 1.0, \"n\": 70}, {\"threshold\": 0.175, \"p\": 136, \"fpr\": 0.05714285714285714, \"tpr\": 1.0, \"n\": 70}, {\"threshold\": 0.176, \"p\": 136, \"fpr\": 0.05714285714285714, \"tpr\": 1.0, \"n\": 70}, {\"threshold\": 0.177, \"p\": 136, \"fpr\": 0.05714285714285714, \"tpr\": 1.0, \"n\": 70}, {\"threshold\": 0.178, \"p\": 136, \"fpr\": 0.05714285714285714, \"tpr\": 1.0, \"n\": 70}, {\"threshold\": 0.179, \"p\": 136, \"fpr\": 0.05714285714285714, \"tpr\": 1.0, \"n\": 70}, {\"threshold\": 0.18, \"p\": 136, \"fpr\": 0.05714285714285714, \"tpr\": 1.0, \"n\": 70}, {\"threshold\": 0.181, \"p\": 136, \"fpr\": 0.05714285714285714, \"tpr\": 1.0, \"n\": 70}, {\"threshold\": 0.182, \"p\": 136, \"fpr\": 0.05714285714285714, \"tpr\": 1.0, \"n\": 70}, {\"threshold\": 0.183, \"p\": 136, \"fpr\": 0.05714285714285714, \"tpr\": 1.0, \"n\": 70}, {\"threshold\": 0.184, \"p\": 136, \"fpr\": 0.05714285714285714, \"tpr\": 1.0, \"n\": 70}, {\"threshold\": 0.185, \"p\": 136, \"fpr\": 0.05714285714285714, \"tpr\": 1.0, \"n\": 70}, {\"threshold\": 0.186, \"p\": 136, \"fpr\": 0.05714285714285714, \"tpr\": 1.0, \"n\": 70}, {\"threshold\": 0.187, \"p\": 136, \"fpr\": 0.05714285714285714, \"tpr\": 1.0, \"n\": 70}, {\"threshold\": 0.188, \"p\": 136, \"fpr\": 0.05714285714285714, \"tpr\": 1.0, \"n\": 70}, {\"threshold\": 0.189, \"p\": 136, \"fpr\": 0.05714285714285714, \"tpr\": 1.0, \"n\": 70}, {\"threshold\": 0.19, \"p\": 136, \"fpr\": 0.05714285714285714, \"tpr\": 1.0, \"n\": 70}, {\"threshold\": 0.191, \"p\": 136, \"fpr\": 0.05714285714285714, \"tpr\": 1.0, \"n\": 70}, {\"threshold\": 0.192, \"p\": 136, \"fpr\": 0.05714285714285714, \"tpr\": 1.0, \"n\": 70}, {\"threshold\": 0.193, \"p\": 136, \"fpr\": 0.05714285714285714, \"tpr\": 1.0, \"n\": 70}, {\"threshold\": 0.194, \"p\": 136, \"fpr\": 0.05714285714285714, \"tpr\": 1.0, \"n\": 70}, {\"threshold\": 0.195, \"p\": 136, \"fpr\": 0.05714285714285714, \"tpr\": 1.0, \"n\": 70}, {\"threshold\": 0.196, \"p\": 136, \"fpr\": 0.05714285714285714, \"tpr\": 1.0, \"n\": 70}, {\"threshold\": 0.197, \"p\": 136, \"fpr\": 0.05714285714285714, \"tpr\": 1.0, \"n\": 70}, {\"threshold\": 0.198, \"p\": 136, \"fpr\": 0.05714285714285714, \"tpr\": 1.0, \"n\": 70}, {\"threshold\": 0.199, \"p\": 136, \"fpr\": 0.05714285714285714, \"tpr\": 1.0, \"n\": 70}, {\"threshold\": 0.2, \"p\": 136, \"fpr\": 0.05714285714285714, \"tpr\": 1.0, \"n\": 70}, {\"threshold\": 0.201, \"p\": 136, \"fpr\": 0.05714285714285714, \"tpr\": 1.0, \"n\": 70}, {\"threshold\": 0.202, \"p\": 136, \"fpr\": 0.05714285714285714, \"tpr\": 1.0, \"n\": 70}, {\"threshold\": 0.203, \"p\": 136, \"fpr\": 0.05714285714285714, \"tpr\": 1.0, \"n\": 70}, {\"threshold\": 0.204, \"p\": 136, \"fpr\": 0.05714285714285714, \"tpr\": 1.0, \"n\": 70}, {\"threshold\": 0.205, \"p\": 136, \"fpr\": 0.05714285714285714, \"tpr\": 1.0, \"n\": 70}, {\"threshold\": 0.206, \"p\": 136, \"fpr\": 0.05714285714285714, \"tpr\": 1.0, \"n\": 70}, {\"threshold\": 0.207, \"p\": 136, \"fpr\": 0.05714285714285714, \"tpr\": 1.0, \"n\": 70}, {\"threshold\": 0.208, \"p\": 136, \"fpr\": 0.05714285714285714, \"tpr\": 1.0, \"n\": 70}, {\"threshold\": 0.209, \"p\": 136, \"fpr\": 0.05714285714285714, \"tpr\": 1.0, \"n\": 70}, {\"threshold\": 0.21, \"p\": 136, \"fpr\": 0.05714285714285714, \"tpr\": 1.0, \"n\": 70}, {\"threshold\": 0.211, \"p\": 136, \"fpr\": 0.05714285714285714, \"tpr\": 1.0, \"n\": 70}, {\"threshold\": 0.212, \"p\": 136, \"fpr\": 0.05714285714285714, \"tpr\": 1.0, \"n\": 70}, {\"threshold\": 0.213, \"p\": 136, \"fpr\": 0.05714285714285714, \"tpr\": 1.0, \"n\": 70}, {\"threshold\": 0.214, \"p\": 136, \"fpr\": 0.05714285714285714, \"tpr\": 1.0, \"n\": 70}, {\"threshold\": 0.215, \"p\": 136, \"fpr\": 0.05714285714285714, \"tpr\": 1.0, \"n\": 70}, {\"threshold\": 0.216, \"p\": 136, \"fpr\": 0.05714285714285714, \"tpr\": 1.0, \"n\": 70}, {\"threshold\": 0.217, \"p\": 136, \"fpr\": 0.05714285714285714, \"tpr\": 1.0, \"n\": 70}, {\"threshold\": 0.218, \"p\": 136, \"fpr\": 0.05714285714285714, \"tpr\": 1.0, \"n\": 70}, {\"threshold\": 0.219, \"p\": 136, \"fpr\": 0.05714285714285714, \"tpr\": 1.0, \"n\": 70}, {\"threshold\": 0.22, \"p\": 136, \"fpr\": 0.05714285714285714, \"tpr\": 1.0, \"n\": 70}, {\"threshold\": 0.221, \"p\": 136, \"fpr\": 0.05714285714285714, \"tpr\": 1.0, \"n\": 70}, {\"threshold\": 0.222, \"p\": 136, \"fpr\": 0.05714285714285714, \"tpr\": 1.0, \"n\": 70}, {\"threshold\": 0.223, \"p\": 136, \"fpr\": 0.05714285714285714, \"tpr\": 1.0, \"n\": 70}, {\"threshold\": 0.224, \"p\": 136, \"fpr\": 0.05714285714285714, \"tpr\": 1.0, \"n\": 70}, {\"threshold\": 0.225, \"p\": 136, \"fpr\": 0.05714285714285714, \"tpr\": 1.0, \"n\": 70}, {\"threshold\": 0.226, \"p\": 136, \"fpr\": 0.05714285714285714, \"tpr\": 1.0, \"n\": 70}, {\"threshold\": 0.227, \"p\": 136, \"fpr\": 0.05714285714285714, \"tpr\": 1.0, \"n\": 70}, {\"threshold\": 0.228, \"p\": 136, \"fpr\": 0.05714285714285714, \"tpr\": 1.0, \"n\": 70}, {\"threshold\": 0.229, \"p\": 136, \"fpr\": 0.05714285714285714, \"tpr\": 1.0, \"n\": 70}, {\"threshold\": 0.23, \"p\": 136, \"fpr\": 0.05714285714285714, \"tpr\": 1.0, \"n\": 70}, {\"threshold\": 0.231, \"p\": 136, \"fpr\": 0.05714285714285714, \"tpr\": 1.0, \"n\": 70}, {\"threshold\": 0.232, \"p\": 136, \"fpr\": 0.05714285714285714, \"tpr\": 1.0, \"n\": 70}, {\"threshold\": 0.233, \"p\": 136, \"fpr\": 0.05714285714285714, \"tpr\": 1.0, \"n\": 70}, {\"threshold\": 0.234, \"p\": 136, \"fpr\": 0.05714285714285714, \"tpr\": 1.0, \"n\": 70}, {\"threshold\": 0.235, \"p\": 136, \"fpr\": 0.05714285714285714, \"tpr\": 1.0, \"n\": 70}, {\"threshold\": 0.236, \"p\": 136, \"fpr\": 0.05714285714285714, \"tpr\": 1.0, \"n\": 70}, {\"threshold\": 0.237, \"p\": 136, \"fpr\": 0.05714285714285714, \"tpr\": 1.0, \"n\": 70}, {\"threshold\": 0.238, \"p\": 136, \"fpr\": 0.05714285714285714, \"tpr\": 1.0, \"n\": 70}, {\"threshold\": 0.239, \"p\": 136, \"fpr\": 0.05714285714285714, \"tpr\": 1.0, \"n\": 70}, {\"threshold\": 0.24, \"p\": 136, \"fpr\": 0.05714285714285714, \"tpr\": 1.0, \"n\": 70}, {\"threshold\": 0.241, \"p\": 136, \"fpr\": 0.05714285714285714, \"tpr\": 1.0, \"n\": 70}, {\"threshold\": 0.242, \"p\": 136, \"fpr\": 0.05714285714285714, \"tpr\": 1.0, \"n\": 70}, {\"threshold\": 0.243, \"p\": 136, \"fpr\": 0.05714285714285714, \"tpr\": 1.0, \"n\": 70}, {\"threshold\": 0.244, \"p\": 136, \"fpr\": 0.05714285714285714, \"tpr\": 1.0, \"n\": 70}, {\"threshold\": 0.245, \"p\": 136, \"fpr\": 0.05714285714285714, \"tpr\": 1.0, \"n\": 70}, {\"threshold\": 0.246, \"p\": 136, \"fpr\": 0.05714285714285714, \"tpr\": 1.0, \"n\": 70}, {\"threshold\": 0.247, \"p\": 136, \"fpr\": 0.05714285714285714, \"tpr\": 1.0, \"n\": 70}, {\"threshold\": 0.248, \"p\": 136, \"fpr\": 0.05714285714285714, \"tpr\": 1.0, \"n\": 70}, {\"threshold\": 0.249, \"p\": 136, \"fpr\": 0.05714285714285714, \"tpr\": 1.0, \"n\": 70}, {\"threshold\": 0.25, \"p\": 136, \"fpr\": 0.05714285714285714, \"tpr\": 1.0, \"n\": 70}, {\"threshold\": 0.251, \"p\": 136, \"fpr\": 0.05714285714285714, \"tpr\": 1.0, \"n\": 70}, {\"threshold\": 0.252, \"p\": 136, \"fpr\": 0.05714285714285714, \"tpr\": 1.0, \"n\": 70}, {\"threshold\": 0.253, \"p\": 136, \"fpr\": 0.05714285714285714, \"tpr\": 1.0, \"n\": 70}, {\"threshold\": 0.254, \"p\": 136, \"fpr\": 0.05714285714285714, \"tpr\": 1.0, \"n\": 70}, {\"threshold\": 0.255, \"p\": 136, \"fpr\": 0.05714285714285714, \"tpr\": 1.0, \"n\": 70}, {\"threshold\": 0.256, \"p\": 136, \"fpr\": 0.05714285714285714, \"tpr\": 1.0, \"n\": 70}, {\"threshold\": 0.257, \"p\": 136, \"fpr\": 0.05714285714285714, \"tpr\": 1.0, \"n\": 70}, {\"threshold\": 0.258, \"p\": 136, \"fpr\": 0.05714285714285714, \"tpr\": 1.0, \"n\": 70}, {\"threshold\": 0.259, \"p\": 136, \"fpr\": 0.05714285714285714, \"tpr\": 1.0, \"n\": 70}, {\"threshold\": 0.26, \"p\": 136, \"fpr\": 0.05714285714285714, \"tpr\": 1.0, \"n\": 70}, {\"threshold\": 0.261, \"p\": 136, \"fpr\": 0.05714285714285714, \"tpr\": 1.0, \"n\": 70}, {\"threshold\": 0.262, \"p\": 136, \"fpr\": 0.05714285714285714, \"tpr\": 1.0, \"n\": 70}, {\"threshold\": 0.263, \"p\": 136, \"fpr\": 0.05714285714285714, \"tpr\": 1.0, \"n\": 70}, {\"threshold\": 0.264, \"p\": 136, \"fpr\": 0.05714285714285714, \"tpr\": 1.0, \"n\": 70}, {\"threshold\": 0.265, \"p\": 136, \"fpr\": 0.05714285714285714, \"tpr\": 1.0, \"n\": 70}, {\"threshold\": 0.266, \"p\": 136, \"fpr\": 0.05714285714285714, \"tpr\": 1.0, \"n\": 70}, {\"threshold\": 0.267, \"p\": 136, \"fpr\": 0.05714285714285714, \"tpr\": 1.0, \"n\": 70}, {\"threshold\": 0.268, \"p\": 136, \"fpr\": 0.05714285714285714, \"tpr\": 1.0, \"n\": 70}, {\"threshold\": 0.269, \"p\": 136, \"fpr\": 0.05714285714285714, \"tpr\": 1.0, \"n\": 70}, {\"threshold\": 0.27, \"p\": 136, \"fpr\": 0.05714285714285714, \"tpr\": 1.0, \"n\": 70}, {\"threshold\": 0.271, \"p\": 136, \"fpr\": 0.05714285714285714, \"tpr\": 1.0, \"n\": 70}, {\"threshold\": 0.272, \"p\": 136, \"fpr\": 0.05714285714285714, \"tpr\": 1.0, \"n\": 70}, {\"threshold\": 0.273, \"p\": 136, \"fpr\": 0.05714285714285714, \"tpr\": 1.0, \"n\": 70}, {\"threshold\": 0.274, \"p\": 136, \"fpr\": 0.05714285714285714, \"tpr\": 1.0, \"n\": 70}, {\"threshold\": 0.275, \"p\": 136, \"fpr\": 0.05714285714285714, \"tpr\": 1.0, \"n\": 70}, {\"threshold\": 0.276, \"p\": 136, \"fpr\": 0.05714285714285714, \"tpr\": 1.0, \"n\": 70}, {\"threshold\": 0.277, \"p\": 136, \"fpr\": 0.05714285714285714, \"tpr\": 1.0, \"n\": 70}, {\"threshold\": 0.278, \"p\": 136, \"fpr\": 0.05714285714285714, \"tpr\": 1.0, \"n\": 70}, {\"threshold\": 0.279, \"p\": 136, \"fpr\": 0.05714285714285714, \"tpr\": 1.0, \"n\": 70}, {\"threshold\": 0.28, \"p\": 136, \"fpr\": 0.05714285714285714, \"tpr\": 1.0, \"n\": 70}, {\"threshold\": 0.281, \"p\": 136, \"fpr\": 0.05714285714285714, \"tpr\": 1.0, \"n\": 70}, {\"threshold\": 0.282, \"p\": 136, \"fpr\": 0.05714285714285714, \"tpr\": 1.0, \"n\": 70}, {\"threshold\": 0.283, \"p\": 136, \"fpr\": 0.05714285714285714, \"tpr\": 1.0, \"n\": 70}, {\"threshold\": 0.284, \"p\": 136, \"fpr\": 0.05714285714285714, \"tpr\": 1.0, \"n\": 70}, {\"threshold\": 0.285, \"p\": 136, \"fpr\": 0.05714285714285714, \"tpr\": 1.0, \"n\": 70}, {\"threshold\": 0.286, \"p\": 136, \"fpr\": 0.05714285714285714, \"tpr\": 1.0, \"n\": 70}, {\"threshold\": 0.287, \"p\": 136, \"fpr\": 0.05714285714285714, \"tpr\": 1.0, \"n\": 70}, {\"threshold\": 0.288, \"p\": 136, \"fpr\": 0.05714285714285714, \"tpr\": 1.0, \"n\": 70}, {\"threshold\": 0.289, \"p\": 136, \"fpr\": 0.05714285714285714, \"tpr\": 1.0, \"n\": 70}, {\"threshold\": 0.29, \"p\": 136, \"fpr\": 0.05714285714285714, \"tpr\": 1.0, \"n\": 70}, {\"threshold\": 0.291, \"p\": 136, \"fpr\": 0.05714285714285714, \"tpr\": 1.0, \"n\": 70}, {\"threshold\": 0.292, \"p\": 136, \"fpr\": 0.05714285714285714, \"tpr\": 1.0, \"n\": 70}, {\"threshold\": 0.293, \"p\": 136, \"fpr\": 0.05714285714285714, \"tpr\": 1.0, \"n\": 70}, {\"threshold\": 0.294, \"p\": 136, \"fpr\": 0.05714285714285714, \"tpr\": 1.0, \"n\": 70}, {\"threshold\": 0.295, \"p\": 136, \"fpr\": 0.05714285714285714, \"tpr\": 1.0, \"n\": 70}, {\"threshold\": 0.296, \"p\": 136, \"fpr\": 0.05714285714285714, \"tpr\": 1.0, \"n\": 70}, {\"threshold\": 0.297, \"p\": 136, \"fpr\": 0.05714285714285714, \"tpr\": 1.0, \"n\": 70}, {\"threshold\": 0.298, \"p\": 136, \"fpr\": 0.05714285714285714, \"tpr\": 1.0, \"n\": 70}, {\"threshold\": 0.299, \"p\": 136, \"fpr\": 0.05714285714285714, \"tpr\": 1.0, \"n\": 70}, {\"threshold\": 0.3, \"p\": 136, \"fpr\": 0.05714285714285714, \"tpr\": 1.0, \"n\": 70}, {\"threshold\": 0.301, \"p\": 136, \"fpr\": 0.05714285714285714, \"tpr\": 1.0, \"n\": 70}, {\"threshold\": 0.302, \"p\": 136, \"fpr\": 0.05714285714285714, \"tpr\": 1.0, \"n\": 70}, {\"threshold\": 0.303, \"p\": 136, \"fpr\": 0.05714285714285714, \"tpr\": 1.0, \"n\": 70}, {\"threshold\": 0.304, \"p\": 136, \"fpr\": 0.05714285714285714, \"tpr\": 1.0, \"n\": 70}, {\"threshold\": 0.305, \"p\": 136, \"fpr\": 0.05714285714285714, \"tpr\": 1.0, \"n\": 70}, {\"threshold\": 0.306, \"p\": 136, \"fpr\": 0.05714285714285714, \"tpr\": 1.0, \"n\": 70}, {\"threshold\": 0.307, \"p\": 136, \"fpr\": 0.05714285714285714, \"tpr\": 1.0, \"n\": 70}, {\"threshold\": 0.308, \"p\": 136, \"fpr\": 0.05714285714285714, \"tpr\": 1.0, \"n\": 70}, {\"threshold\": 0.309, \"p\": 136, \"fpr\": 0.05714285714285714, \"tpr\": 1.0, \"n\": 70}, {\"threshold\": 0.31, \"p\": 136, \"fpr\": 0.05714285714285714, \"tpr\": 1.0, \"n\": 70}, {\"threshold\": 0.311, \"p\": 136, \"fpr\": 0.05714285714285714, \"tpr\": 1.0, \"n\": 70}, {\"threshold\": 0.312, \"p\": 136, \"fpr\": 0.05714285714285714, \"tpr\": 1.0, \"n\": 70}, {\"threshold\": 0.313, \"p\": 136, \"fpr\": 0.05714285714285714, \"tpr\": 1.0, \"n\": 70}, {\"threshold\": 0.314, \"p\": 136, \"fpr\": 0.05714285714285714, \"tpr\": 1.0, \"n\": 70}, {\"threshold\": 0.315, \"p\": 136, \"fpr\": 0.05714285714285714, \"tpr\": 1.0, \"n\": 70}, {\"threshold\": 0.316, \"p\": 136, \"fpr\": 0.05714285714285714, \"tpr\": 1.0, \"n\": 70}, {\"threshold\": 0.317, \"p\": 136, \"fpr\": 0.05714285714285714, \"tpr\": 1.0, \"n\": 70}, {\"threshold\": 0.318, \"p\": 136, \"fpr\": 0.05714285714285714, \"tpr\": 1.0, \"n\": 70}, {\"threshold\": 0.319, \"p\": 136, \"fpr\": 0.05714285714285714, \"tpr\": 1.0, \"n\": 70}, {\"threshold\": 0.32, \"p\": 136, \"fpr\": 0.05714285714285714, \"tpr\": 1.0, \"n\": 70}, {\"threshold\": 0.321, \"p\": 136, \"fpr\": 0.05714285714285714, \"tpr\": 1.0, \"n\": 70}, {\"threshold\": 0.322, \"p\": 136, \"fpr\": 0.05714285714285714, \"tpr\": 1.0, \"n\": 70}, {\"threshold\": 0.323, \"p\": 136, \"fpr\": 0.05714285714285714, \"tpr\": 1.0, \"n\": 70}, {\"threshold\": 0.324, \"p\": 136, \"fpr\": 0.05714285714285714, \"tpr\": 1.0, \"n\": 70}, {\"threshold\": 0.325, \"p\": 136, \"fpr\": 0.05714285714285714, \"tpr\": 1.0, \"n\": 70}, {\"threshold\": 0.326, \"p\": 136, \"fpr\": 0.05714285714285714, \"tpr\": 1.0, \"n\": 70}, {\"threshold\": 0.327, \"p\": 136, \"fpr\": 0.05714285714285714, \"tpr\": 1.0, \"n\": 70}, {\"threshold\": 0.328, \"p\": 136, \"fpr\": 0.05714285714285714, \"tpr\": 1.0, \"n\": 70}, {\"threshold\": 0.329, \"p\": 136, \"fpr\": 0.05714285714285714, \"tpr\": 1.0, \"n\": 70}, {\"threshold\": 0.33, \"p\": 136, \"fpr\": 0.05714285714285714, \"tpr\": 1.0, \"n\": 70}, {\"threshold\": 0.331, \"p\": 136, \"fpr\": 0.05714285714285714, \"tpr\": 1.0, \"n\": 70}, {\"threshold\": 0.332, \"p\": 136, \"fpr\": 0.05714285714285714, \"tpr\": 1.0, \"n\": 70}, {\"threshold\": 0.333, \"p\": 136, \"fpr\": 0.05714285714285714, \"tpr\": 1.0, \"n\": 70}, {\"threshold\": 0.334, \"p\": 136, \"fpr\": 0.05714285714285714, \"tpr\": 1.0, \"n\": 70}, {\"threshold\": 0.335, \"p\": 136, \"fpr\": 0.05714285714285714, \"tpr\": 1.0, \"n\": 70}, {\"threshold\": 0.336, \"p\": 136, \"fpr\": 0.05714285714285714, \"tpr\": 1.0, \"n\": 70}, {\"threshold\": 0.337, \"p\": 136, \"fpr\": 0.05714285714285714, \"tpr\": 1.0, \"n\": 70}, {\"threshold\": 0.338, \"p\": 136, \"fpr\": 0.05714285714285714, \"tpr\": 1.0, \"n\": 70}, {\"threshold\": 0.339, \"p\": 136, \"fpr\": 0.05714285714285714, \"tpr\": 1.0, \"n\": 70}, {\"threshold\": 0.34, \"p\": 136, \"fpr\": 0.05714285714285714, \"tpr\": 1.0, \"n\": 70}, {\"threshold\": 0.341, \"p\": 136, \"fpr\": 0.05714285714285714, \"tpr\": 1.0, \"n\": 70}, {\"threshold\": 0.342, \"p\": 136, \"fpr\": 0.05714285714285714, \"tpr\": 1.0, \"n\": 70}, {\"threshold\": 0.343, \"p\": 136, \"fpr\": 0.05714285714285714, \"tpr\": 1.0, \"n\": 70}, {\"threshold\": 0.344, \"p\": 136, \"fpr\": 0.05714285714285714, \"tpr\": 1.0, \"n\": 70}, {\"threshold\": 0.345, \"p\": 136, \"fpr\": 0.05714285714285714, \"tpr\": 1.0, \"n\": 70}, {\"threshold\": 0.346, \"p\": 136, \"fpr\": 0.05714285714285714, \"tpr\": 1.0, \"n\": 70}, {\"threshold\": 0.347, \"p\": 136, \"fpr\": 0.05714285714285714, \"tpr\": 1.0, \"n\": 70}, {\"threshold\": 0.348, \"p\": 136, \"fpr\": 0.05714285714285714, \"tpr\": 1.0, \"n\": 70}, {\"threshold\": 0.349, \"p\": 136, \"fpr\": 0.05714285714285714, \"tpr\": 1.0, \"n\": 70}, {\"threshold\": 0.35, \"p\": 136, \"fpr\": 0.05714285714285714, \"tpr\": 1.0, \"n\": 70}, {\"threshold\": 0.351, \"p\": 136, \"fpr\": 0.05714285714285714, \"tpr\": 1.0, \"n\": 70}, {\"threshold\": 0.352, \"p\": 136, \"fpr\": 0.05714285714285714, \"tpr\": 1.0, \"n\": 70}, {\"threshold\": 0.353, \"p\": 136, \"fpr\": 0.05714285714285714, \"tpr\": 1.0, \"n\": 70}, {\"threshold\": 0.354, \"p\": 136, \"fpr\": 0.05714285714285714, \"tpr\": 1.0, \"n\": 70}, {\"threshold\": 0.355, \"p\": 136, \"fpr\": 0.05714285714285714, \"tpr\": 1.0, \"n\": 70}, {\"threshold\": 0.356, \"p\": 136, \"fpr\": 0.05714285714285714, \"tpr\": 1.0, \"n\": 70}, {\"threshold\": 0.357, \"p\": 136, \"fpr\": 0.05714285714285714, \"tpr\": 1.0, \"n\": 70}, {\"threshold\": 0.358, \"p\": 136, \"fpr\": 0.05714285714285714, \"tpr\": 1.0, \"n\": 70}, {\"threshold\": 0.359, \"p\": 136, \"fpr\": 0.05714285714285714, \"tpr\": 1.0, \"n\": 70}, {\"threshold\": 0.36, \"p\": 136, \"fpr\": 0.05714285714285714, \"tpr\": 1.0, \"n\": 70}, {\"threshold\": 0.361, \"p\": 136, \"fpr\": 0.05714285714285714, \"tpr\": 0.9926470588235294, \"n\": 70}, {\"threshold\": 0.362, \"p\": 136, \"fpr\": 0.05714285714285714, \"tpr\": 0.9926470588235294, \"n\": 70}, {\"threshold\": 0.363, \"p\": 136, \"fpr\": 0.05714285714285714, \"tpr\": 0.9926470588235294, \"n\": 70}, {\"threshold\": 0.364, \"p\": 136, \"fpr\": 0.05714285714285714, \"tpr\": 0.9926470588235294, \"n\": 70}, {\"threshold\": 0.365, \"p\": 136, \"fpr\": 0.05714285714285714, \"tpr\": 0.9926470588235294, \"n\": 70}, {\"threshold\": 0.366, \"p\": 136, \"fpr\": 0.05714285714285714, \"tpr\": 0.9926470588235294, \"n\": 70}, {\"threshold\": 0.367, \"p\": 136, \"fpr\": 0.05714285714285714, \"tpr\": 0.9926470588235294, \"n\": 70}, {\"threshold\": 0.368, \"p\": 136, \"fpr\": 0.05714285714285714, \"tpr\": 0.9926470588235294, \"n\": 70}, {\"threshold\": 0.369, \"p\": 136, \"fpr\": 0.05714285714285714, \"tpr\": 0.9926470588235294, \"n\": 70}, {\"threshold\": 0.37, \"p\": 136, \"fpr\": 0.05714285714285714, \"tpr\": 0.9926470588235294, \"n\": 70}, {\"threshold\": 0.371, \"p\": 136, \"fpr\": 0.05714285714285714, \"tpr\": 0.9926470588235294, \"n\": 70}, {\"threshold\": 0.372, \"p\": 136, \"fpr\": 0.05714285714285714, \"tpr\": 0.9926470588235294, \"n\": 70}, {\"threshold\": 0.373, \"p\": 136, \"fpr\": 0.05714285714285714, \"tpr\": 0.9926470588235294, \"n\": 70}, {\"threshold\": 0.374, \"p\": 136, \"fpr\": 0.05714285714285714, \"tpr\": 0.9926470588235294, \"n\": 70}, {\"threshold\": 0.375, \"p\": 136, \"fpr\": 0.05714285714285714, \"tpr\": 0.9926470588235294, \"n\": 70}, {\"threshold\": 0.376, \"p\": 136, \"fpr\": 0.05714285714285714, \"tpr\": 0.9926470588235294, \"n\": 70}, {\"threshold\": 0.377, \"p\": 136, \"fpr\": 0.05714285714285714, \"tpr\": 0.9926470588235294, \"n\": 70}, {\"threshold\": 0.378, \"p\": 136, \"fpr\": 0.05714285714285714, \"tpr\": 0.9926470588235294, \"n\": 70}, {\"threshold\": 0.379, \"p\": 136, \"fpr\": 0.05714285714285714, \"tpr\": 0.9926470588235294, \"n\": 70}, {\"threshold\": 0.38, \"p\": 136, \"fpr\": 0.05714285714285714, \"tpr\": 0.9926470588235294, \"n\": 70}, {\"threshold\": 0.381, \"p\": 136, \"fpr\": 0.05714285714285714, \"tpr\": 0.9926470588235294, \"n\": 70}, {\"threshold\": 0.382, \"p\": 136, \"fpr\": 0.05714285714285714, \"tpr\": 0.9926470588235294, \"n\": 70}, {\"threshold\": 0.383, \"p\": 136, \"fpr\": 0.05714285714285714, \"tpr\": 0.9926470588235294, \"n\": 70}, {\"threshold\": 0.384, \"p\": 136, \"fpr\": 0.05714285714285714, \"tpr\": 0.9926470588235294, \"n\": 70}, {\"threshold\": 0.385, \"p\": 136, \"fpr\": 0.05714285714285714, \"tpr\": 0.9926470588235294, \"n\": 70}, {\"threshold\": 0.386, \"p\": 136, \"fpr\": 0.05714285714285714, \"tpr\": 0.9926470588235294, \"n\": 70}, {\"threshold\": 0.387, \"p\": 136, \"fpr\": 0.05714285714285714, \"tpr\": 0.9926470588235294, \"n\": 70}, {\"threshold\": 0.388, \"p\": 136, \"fpr\": 0.05714285714285714, \"tpr\": 0.9926470588235294, \"n\": 70}, {\"threshold\": 0.389, \"p\": 136, \"fpr\": 0.05714285714285714, \"tpr\": 0.9926470588235294, \"n\": 70}, {\"threshold\": 0.39, \"p\": 136, \"fpr\": 0.05714285714285714, \"tpr\": 0.9926470588235294, \"n\": 70}, {\"threshold\": 0.391, \"p\": 136, \"fpr\": 0.05714285714285714, \"tpr\": 0.9926470588235294, \"n\": 70}, {\"threshold\": 0.392, \"p\": 136, \"fpr\": 0.04285714285714286, \"tpr\": 0.9926470588235294, \"n\": 70}, {\"threshold\": 0.393, \"p\": 136, \"fpr\": 0.04285714285714286, \"tpr\": 0.9926470588235294, \"n\": 70}, {\"threshold\": 0.394, \"p\": 136, \"fpr\": 0.04285714285714286, \"tpr\": 0.9926470588235294, \"n\": 70}, {\"threshold\": 0.395, \"p\": 136, \"fpr\": 0.04285714285714286, \"tpr\": 0.9926470588235294, \"n\": 70}, {\"threshold\": 0.396, \"p\": 136, \"fpr\": 0.04285714285714286, \"tpr\": 0.9926470588235294, \"n\": 70}, {\"threshold\": 0.397, \"p\": 136, \"fpr\": 0.04285714285714286, \"tpr\": 0.9926470588235294, \"n\": 70}, {\"threshold\": 0.398, \"p\": 136, \"fpr\": 0.04285714285714286, \"tpr\": 0.9926470588235294, \"n\": 70}, {\"threshold\": 0.399, \"p\": 136, \"fpr\": 0.04285714285714286, \"tpr\": 0.9926470588235294, \"n\": 70}, {\"threshold\": 0.4, \"p\": 136, \"fpr\": 0.04285714285714286, \"tpr\": 0.9926470588235294, \"n\": 70}, {\"threshold\": 0.401, \"p\": 136, \"fpr\": 0.04285714285714286, \"tpr\": 0.9926470588235294, \"n\": 70}, {\"threshold\": 0.402, \"p\": 136, \"fpr\": 0.04285714285714286, \"tpr\": 0.9926470588235294, \"n\": 70}, {\"threshold\": 0.403, \"p\": 136, \"fpr\": 0.04285714285714286, \"tpr\": 0.9926470588235294, \"n\": 70}, {\"threshold\": 0.404, \"p\": 136, \"fpr\": 0.04285714285714286, \"tpr\": 0.9926470588235294, \"n\": 70}, {\"threshold\": 0.405, \"p\": 136, \"fpr\": 0.04285714285714286, \"tpr\": 0.9926470588235294, \"n\": 70}, {\"threshold\": 0.406, \"p\": 136, \"fpr\": 0.04285714285714286, \"tpr\": 0.9926470588235294, \"n\": 70}, {\"threshold\": 0.407, \"p\": 136, \"fpr\": 0.04285714285714286, \"tpr\": 0.9926470588235294, \"n\": 70}, {\"threshold\": 0.408, \"p\": 136, \"fpr\": 0.04285714285714286, \"tpr\": 0.9926470588235294, \"n\": 70}, {\"threshold\": 0.409, \"p\": 136, \"fpr\": 0.04285714285714286, \"tpr\": 0.9926470588235294, \"n\": 70}, {\"threshold\": 0.41, \"p\": 136, \"fpr\": 0.04285714285714286, \"tpr\": 0.9926470588235294, \"n\": 70}, {\"threshold\": 0.411, \"p\": 136, \"fpr\": 0.04285714285714286, \"tpr\": 0.9926470588235294, \"n\": 70}, {\"threshold\": 0.412, \"p\": 136, \"fpr\": 0.04285714285714286, \"tpr\": 0.9926470588235294, \"n\": 70}, {\"threshold\": 0.413, \"p\": 136, \"fpr\": 0.04285714285714286, \"tpr\": 0.9926470588235294, \"n\": 70}, {\"threshold\": 0.414, \"p\": 136, \"fpr\": 0.04285714285714286, \"tpr\": 0.9926470588235294, \"n\": 70}, {\"threshold\": 0.415, \"p\": 136, \"fpr\": 0.04285714285714286, \"tpr\": 0.9926470588235294, \"n\": 70}, {\"threshold\": 0.416, \"p\": 136, \"fpr\": 0.04285714285714286, \"tpr\": 0.9926470588235294, \"n\": 70}, {\"threshold\": 0.417, \"p\": 136, \"fpr\": 0.04285714285714286, \"tpr\": 0.9926470588235294, \"n\": 70}, {\"threshold\": 0.418, \"p\": 136, \"fpr\": 0.04285714285714286, \"tpr\": 0.9926470588235294, \"n\": 70}, {\"threshold\": 0.419, \"p\": 136, \"fpr\": 0.04285714285714286, \"tpr\": 0.9926470588235294, \"n\": 70}, {\"threshold\": 0.42, \"p\": 136, \"fpr\": 0.04285714285714286, \"tpr\": 0.9926470588235294, \"n\": 70}, {\"threshold\": 0.421, \"p\": 136, \"fpr\": 0.04285714285714286, \"tpr\": 0.9926470588235294, \"n\": 70}, {\"threshold\": 0.422, \"p\": 136, \"fpr\": 0.04285714285714286, \"tpr\": 0.9926470588235294, \"n\": 70}, {\"threshold\": 0.423, \"p\": 136, \"fpr\": 0.04285714285714286, \"tpr\": 0.9926470588235294, \"n\": 70}, {\"threshold\": 0.424, \"p\": 136, \"fpr\": 0.04285714285714286, \"tpr\": 0.9926470588235294, \"n\": 70}, {\"threshold\": 0.425, \"p\": 136, \"fpr\": 0.04285714285714286, \"tpr\": 0.9926470588235294, \"n\": 70}, {\"threshold\": 0.426, \"p\": 136, \"fpr\": 0.04285714285714286, \"tpr\": 0.9926470588235294, \"n\": 70}, {\"threshold\": 0.427, \"p\": 136, \"fpr\": 0.04285714285714286, \"tpr\": 0.9926470588235294, \"n\": 70}, {\"threshold\": 0.428, \"p\": 136, \"fpr\": 0.04285714285714286, \"tpr\": 0.9926470588235294, \"n\": 70}, {\"threshold\": 0.429, \"p\": 136, \"fpr\": 0.04285714285714286, \"tpr\": 0.9926470588235294, \"n\": 70}, {\"threshold\": 0.43, \"p\": 136, \"fpr\": 0.04285714285714286, \"tpr\": 0.9926470588235294, \"n\": 70}, {\"threshold\": 0.431, \"p\": 136, \"fpr\": 0.04285714285714286, \"tpr\": 0.9926470588235294, \"n\": 70}, {\"threshold\": 0.432, \"p\": 136, \"fpr\": 0.04285714285714286, \"tpr\": 0.9926470588235294, \"n\": 70}, {\"threshold\": 0.433, \"p\": 136, \"fpr\": 0.04285714285714286, \"tpr\": 0.9926470588235294, \"n\": 70}, {\"threshold\": 0.434, \"p\": 136, \"fpr\": 0.04285714285714286, \"tpr\": 0.9926470588235294, \"n\": 70}, {\"threshold\": 0.435, \"p\": 136, \"fpr\": 0.04285714285714286, \"tpr\": 0.9926470588235294, \"n\": 70}, {\"threshold\": 0.436, \"p\": 136, \"fpr\": 0.04285714285714286, \"tpr\": 0.9926470588235294, \"n\": 70}, {\"threshold\": 0.437, \"p\": 136, \"fpr\": 0.04285714285714286, \"tpr\": 0.9926470588235294, \"n\": 70}, {\"threshold\": 0.438, \"p\": 136, \"fpr\": 0.04285714285714286, \"tpr\": 0.9926470588235294, \"n\": 70}, {\"threshold\": 0.439, \"p\": 136, \"fpr\": 0.04285714285714286, \"tpr\": 0.9926470588235294, \"n\": 70}, {\"threshold\": 0.44, \"p\": 136, \"fpr\": 0.04285714285714286, \"tpr\": 0.9926470588235294, \"n\": 70}, {\"threshold\": 0.441, \"p\": 136, \"fpr\": 0.04285714285714286, \"tpr\": 0.9926470588235294, \"n\": 70}, {\"threshold\": 0.442, \"p\": 136, \"fpr\": 0.04285714285714286, \"tpr\": 0.9926470588235294, \"n\": 70}, {\"threshold\": 0.443, \"p\": 136, \"fpr\": 0.04285714285714286, \"tpr\": 0.9926470588235294, \"n\": 70}, {\"threshold\": 0.444, \"p\": 136, \"fpr\": 0.04285714285714286, \"tpr\": 0.9926470588235294, \"n\": 70}, {\"threshold\": 0.445, \"p\": 136, \"fpr\": 0.04285714285714286, \"tpr\": 0.9926470588235294, \"n\": 70}, {\"threshold\": 0.446, \"p\": 136, \"fpr\": 0.04285714285714286, \"tpr\": 0.9926470588235294, \"n\": 70}, {\"threshold\": 0.447, \"p\": 136, \"fpr\": 0.04285714285714286, \"tpr\": 0.9926470588235294, \"n\": 70}, {\"threshold\": 0.448, \"p\": 136, \"fpr\": 0.04285714285714286, \"tpr\": 0.9926470588235294, \"n\": 70}, {\"threshold\": 0.449, \"p\": 136, \"fpr\": 0.04285714285714286, \"tpr\": 0.9926470588235294, \"n\": 70}, {\"threshold\": 0.45, \"p\": 136, \"fpr\": 0.04285714285714286, \"tpr\": 0.9926470588235294, \"n\": 70}, {\"threshold\": 0.451, \"p\": 136, \"fpr\": 0.04285714285714286, \"tpr\": 0.9926470588235294, \"n\": 70}, {\"threshold\": 0.452, \"p\": 136, \"fpr\": 0.04285714285714286, \"tpr\": 0.9926470588235294, \"n\": 70}, {\"threshold\": 0.453, \"p\": 136, \"fpr\": 0.04285714285714286, \"tpr\": 0.9926470588235294, \"n\": 70}, {\"threshold\": 0.454, \"p\": 136, \"fpr\": 0.04285714285714286, \"tpr\": 0.9926470588235294, \"n\": 70}, {\"threshold\": 0.455, \"p\": 136, \"fpr\": 0.04285714285714286, \"tpr\": 0.9926470588235294, \"n\": 70}, {\"threshold\": 0.456, \"p\": 136, \"fpr\": 0.04285714285714286, \"tpr\": 0.9926470588235294, \"n\": 70}, {\"threshold\": 0.457, \"p\": 136, \"fpr\": 0.04285714285714286, \"tpr\": 0.9926470588235294, \"n\": 70}, {\"threshold\": 0.458, \"p\": 136, \"fpr\": 0.04285714285714286, \"tpr\": 0.9926470588235294, \"n\": 70}, {\"threshold\": 0.459, \"p\": 136, \"fpr\": 0.04285714285714286, \"tpr\": 0.9926470588235294, \"n\": 70}, {\"threshold\": 0.46, \"p\": 136, \"fpr\": 0.04285714285714286, \"tpr\": 0.9926470588235294, \"n\": 70}, {\"threshold\": 0.461, \"p\": 136, \"fpr\": 0.04285714285714286, \"tpr\": 0.9926470588235294, \"n\": 70}, {\"threshold\": 0.462, \"p\": 136, \"fpr\": 0.04285714285714286, \"tpr\": 0.9926470588235294, \"n\": 70}, {\"threshold\": 0.463, \"p\": 136, \"fpr\": 0.04285714285714286, \"tpr\": 0.9926470588235294, \"n\": 70}, {\"threshold\": 0.464, \"p\": 136, \"fpr\": 0.04285714285714286, \"tpr\": 0.9926470588235294, \"n\": 70}, {\"threshold\": 0.465, \"p\": 136, \"fpr\": 0.04285714285714286, \"tpr\": 0.9926470588235294, \"n\": 70}, {\"threshold\": 0.466, \"p\": 136, \"fpr\": 0.04285714285714286, \"tpr\": 0.9926470588235294, \"n\": 70}, {\"threshold\": 0.467, \"p\": 136, \"fpr\": 0.04285714285714286, \"tpr\": 0.9926470588235294, \"n\": 70}, {\"threshold\": 0.468, \"p\": 136, \"fpr\": 0.04285714285714286, \"tpr\": 0.9926470588235294, \"n\": 70}, {\"threshold\": 0.469, \"p\": 136, \"fpr\": 0.04285714285714286, \"tpr\": 0.9926470588235294, \"n\": 70}, {\"threshold\": 0.47, \"p\": 136, \"fpr\": 0.04285714285714286, \"tpr\": 0.9926470588235294, \"n\": 70}, {\"threshold\": 0.471, \"p\": 136, \"fpr\": 0.04285714285714286, \"tpr\": 0.9926470588235294, \"n\": 70}, {\"threshold\": 0.472, \"p\": 136, \"fpr\": 0.04285714285714286, \"tpr\": 0.9926470588235294, \"n\": 70}, {\"threshold\": 0.473, \"p\": 136, \"fpr\": 0.04285714285714286, \"tpr\": 0.9926470588235294, \"n\": 70}, {\"threshold\": 0.474, \"p\": 136, \"fpr\": 0.04285714285714286, \"tpr\": 0.9926470588235294, \"n\": 70}, {\"threshold\": 0.475, \"p\": 136, \"fpr\": 0.04285714285714286, \"tpr\": 0.9926470588235294, \"n\": 70}, {\"threshold\": 0.476, \"p\": 136, \"fpr\": 0.04285714285714286, \"tpr\": 0.9926470588235294, \"n\": 70}, {\"threshold\": 0.477, \"p\": 136, \"fpr\": 0.04285714285714286, \"tpr\": 0.9926470588235294, \"n\": 70}, {\"threshold\": 0.478, \"p\": 136, \"fpr\": 0.04285714285714286, \"tpr\": 0.9926470588235294, \"n\": 70}, {\"threshold\": 0.479, \"p\": 136, \"fpr\": 0.04285714285714286, \"tpr\": 0.9926470588235294, \"n\": 70}, {\"threshold\": 0.48, \"p\": 136, \"fpr\": 0.04285714285714286, \"tpr\": 0.9926470588235294, \"n\": 70}, {\"threshold\": 0.481, \"p\": 136, \"fpr\": 0.04285714285714286, \"tpr\": 0.9926470588235294, \"n\": 70}, {\"threshold\": 0.482, \"p\": 136, \"fpr\": 0.04285714285714286, \"tpr\": 0.9926470588235294, \"n\": 70}, {\"threshold\": 0.483, \"p\": 136, \"fpr\": 0.04285714285714286, \"tpr\": 0.9926470588235294, \"n\": 70}, {\"threshold\": 0.484, \"p\": 136, \"fpr\": 0.04285714285714286, \"tpr\": 0.9926470588235294, \"n\": 70}, {\"threshold\": 0.485, \"p\": 136, \"fpr\": 0.04285714285714286, \"tpr\": 0.9926470588235294, \"n\": 70}, {\"threshold\": 0.486, \"p\": 136, \"fpr\": 0.04285714285714286, \"tpr\": 0.9926470588235294, \"n\": 70}, {\"threshold\": 0.487, \"p\": 136, \"fpr\": 0.04285714285714286, \"tpr\": 0.9926470588235294, \"n\": 70}, {\"threshold\": 0.488, \"p\": 136, \"fpr\": 0.04285714285714286, \"tpr\": 0.9926470588235294, \"n\": 70}, {\"threshold\": 0.489, \"p\": 136, \"fpr\": 0.04285714285714286, \"tpr\": 0.9926470588235294, \"n\": 70}, {\"threshold\": 0.49, \"p\": 136, \"fpr\": 0.04285714285714286, \"tpr\": 0.9926470588235294, \"n\": 70}, {\"threshold\": 0.491, \"p\": 136, \"fpr\": 0.04285714285714286, \"tpr\": 0.9926470588235294, \"n\": 70}, {\"threshold\": 0.492, \"p\": 136, \"fpr\": 0.04285714285714286, \"tpr\": 0.9926470588235294, \"n\": 70}, {\"threshold\": 0.493, \"p\": 136, \"fpr\": 0.04285714285714286, \"tpr\": 0.9926470588235294, \"n\": 70}, {\"threshold\": 0.494, \"p\": 136, \"fpr\": 0.04285714285714286, \"tpr\": 0.9926470588235294, \"n\": 70}, {\"threshold\": 0.495, \"p\": 136, \"fpr\": 0.04285714285714286, \"tpr\": 0.9926470588235294, \"n\": 70}, {\"threshold\": 0.496, \"p\": 136, \"fpr\": 0.04285714285714286, \"tpr\": 0.9926470588235294, \"n\": 70}, {\"threshold\": 0.497, \"p\": 136, \"fpr\": 0.04285714285714286, \"tpr\": 0.9926470588235294, \"n\": 70}, {\"threshold\": 0.498, \"p\": 136, \"fpr\": 0.04285714285714286, \"tpr\": 0.9926470588235294, \"n\": 70}, {\"threshold\": 0.499, \"p\": 136, \"fpr\": 0.04285714285714286, \"tpr\": 0.9926470588235294, \"n\": 70}, {\"threshold\": 0.5, \"p\": 136, \"fpr\": 0.04285714285714286, \"tpr\": 0.9926470588235294, \"n\": 70}, {\"threshold\": 0.501, \"p\": 136, \"fpr\": 0.04285714285714286, \"tpr\": 0.9926470588235294, \"n\": 70}, {\"threshold\": 0.502, \"p\": 136, \"fpr\": 0.04285714285714286, \"tpr\": 0.9926470588235294, \"n\": 70}, {\"threshold\": 0.503, \"p\": 136, \"fpr\": 0.04285714285714286, \"tpr\": 0.9926470588235294, \"n\": 70}, {\"threshold\": 0.504, \"p\": 136, \"fpr\": 0.04285714285714286, \"tpr\": 0.9926470588235294, \"n\": 70}, {\"threshold\": 0.505, \"p\": 136, \"fpr\": 0.04285714285714286, \"tpr\": 0.9926470588235294, \"n\": 70}, {\"threshold\": 0.506, \"p\": 136, \"fpr\": 0.04285714285714286, \"tpr\": 0.9926470588235294, \"n\": 70}, {\"threshold\": 0.507, \"p\": 136, \"fpr\": 0.04285714285714286, \"tpr\": 0.9926470588235294, \"n\": 70}, {\"threshold\": 0.508, \"p\": 136, \"fpr\": 0.04285714285714286, \"tpr\": 0.9926470588235294, \"n\": 70}, {\"threshold\": 0.509, \"p\": 136, \"fpr\": 0.04285714285714286, \"tpr\": 0.9926470588235294, \"n\": 70}, {\"threshold\": 0.51, \"p\": 136, \"fpr\": 0.04285714285714286, \"tpr\": 0.9926470588235294, \"n\": 70}, {\"threshold\": 0.511, \"p\": 136, \"fpr\": 0.04285714285714286, \"tpr\": 0.9926470588235294, \"n\": 70}, {\"threshold\": 0.512, \"p\": 136, \"fpr\": 0.04285714285714286, \"tpr\": 0.9926470588235294, \"n\": 70}, {\"threshold\": 0.513, \"p\": 136, \"fpr\": 0.04285714285714286, \"tpr\": 0.9926470588235294, \"n\": 70}, {\"threshold\": 0.514, \"p\": 136, \"fpr\": 0.04285714285714286, \"tpr\": 0.9926470588235294, \"n\": 70}, {\"threshold\": 0.515, \"p\": 136, \"fpr\": 0.04285714285714286, \"tpr\": 0.9926470588235294, \"n\": 70}, {\"threshold\": 0.516, \"p\": 136, \"fpr\": 0.04285714285714286, \"tpr\": 0.9926470588235294, \"n\": 70}, {\"threshold\": 0.517, \"p\": 136, \"fpr\": 0.04285714285714286, \"tpr\": 0.9852941176470589, \"n\": 70}, {\"threshold\": 0.518, \"p\": 136, \"fpr\": 0.04285714285714286, \"tpr\": 0.9852941176470589, \"n\": 70}, {\"threshold\": 0.519, \"p\": 136, \"fpr\": 0.04285714285714286, \"tpr\": 0.9852941176470589, \"n\": 70}, {\"threshold\": 0.52, \"p\": 136, \"fpr\": 0.04285714285714286, \"tpr\": 0.9852941176470589, \"n\": 70}, {\"threshold\": 0.521, \"p\": 136, \"fpr\": 0.04285714285714286, \"tpr\": 0.9852941176470589, \"n\": 70}, {\"threshold\": 0.522, \"p\": 136, \"fpr\": 0.04285714285714286, \"tpr\": 0.9852941176470589, \"n\": 70}, {\"threshold\": 0.523, \"p\": 136, \"fpr\": 0.04285714285714286, \"tpr\": 0.9852941176470589, \"n\": 70}, {\"threshold\": 0.524, \"p\": 136, \"fpr\": 0.04285714285714286, \"tpr\": 0.9852941176470589, \"n\": 70}, {\"threshold\": 0.525, \"p\": 136, \"fpr\": 0.04285714285714286, \"tpr\": 0.9852941176470589, \"n\": 70}, {\"threshold\": 0.526, \"p\": 136, \"fpr\": 0.04285714285714286, \"tpr\": 0.9852941176470589, \"n\": 70}, {\"threshold\": 0.527, \"p\": 136, \"fpr\": 0.04285714285714286, \"tpr\": 0.9852941176470589, \"n\": 70}, {\"threshold\": 0.528, \"p\": 136, \"fpr\": 0.04285714285714286, \"tpr\": 0.9852941176470589, \"n\": 70}, {\"threshold\": 0.529, \"p\": 136, \"fpr\": 0.04285714285714286, \"tpr\": 0.9852941176470589, \"n\": 70}, {\"threshold\": 0.53, \"p\": 136, \"fpr\": 0.04285714285714286, \"tpr\": 0.9852941176470589, \"n\": 70}, {\"threshold\": 0.531, \"p\": 136, \"fpr\": 0.04285714285714286, \"tpr\": 0.9852941176470589, \"n\": 70}, {\"threshold\": 0.532, \"p\": 136, \"fpr\": 0.04285714285714286, \"tpr\": 0.9852941176470589, \"n\": 70}, {\"threshold\": 0.533, \"p\": 136, \"fpr\": 0.04285714285714286, \"tpr\": 0.9852941176470589, \"n\": 70}, {\"threshold\": 0.534, \"p\": 136, \"fpr\": 0.04285714285714286, \"tpr\": 0.9852941176470589, \"n\": 70}, {\"threshold\": 0.535, \"p\": 136, \"fpr\": 0.04285714285714286, \"tpr\": 0.9852941176470589, \"n\": 70}, {\"threshold\": 0.536, \"p\": 136, \"fpr\": 0.04285714285714286, \"tpr\": 0.9852941176470589, \"n\": 70}, {\"threshold\": 0.537, \"p\": 136, \"fpr\": 0.04285714285714286, \"tpr\": 0.9852941176470589, \"n\": 70}, {\"threshold\": 0.538, \"p\": 136, \"fpr\": 0.04285714285714286, \"tpr\": 0.9852941176470589, \"n\": 70}, {\"threshold\": 0.539, \"p\": 136, \"fpr\": 0.04285714285714286, \"tpr\": 0.9852941176470589, \"n\": 70}, {\"threshold\": 0.54, \"p\": 136, \"fpr\": 0.04285714285714286, \"tpr\": 0.9852941176470589, \"n\": 70}, {\"threshold\": 0.541, \"p\": 136, \"fpr\": 0.04285714285714286, \"tpr\": 0.9852941176470589, \"n\": 70}, {\"threshold\": 0.542, \"p\": 136, \"fpr\": 0.04285714285714286, \"tpr\": 0.9852941176470589, \"n\": 70}, {\"threshold\": 0.543, \"p\": 136, \"fpr\": 0.04285714285714286, \"tpr\": 0.9852941176470589, \"n\": 70}, {\"threshold\": 0.544, \"p\": 136, \"fpr\": 0.04285714285714286, \"tpr\": 0.9852941176470589, \"n\": 70}, {\"threshold\": 0.545, \"p\": 136, \"fpr\": 0.04285714285714286, \"tpr\": 0.9852941176470589, \"n\": 70}, {\"threshold\": 0.546, \"p\": 136, \"fpr\": 0.04285714285714286, \"tpr\": 0.9852941176470589, \"n\": 70}, {\"threshold\": 0.547, \"p\": 136, \"fpr\": 0.04285714285714286, \"tpr\": 0.9852941176470589, \"n\": 70}, {\"threshold\": 0.548, \"p\": 136, \"fpr\": 0.04285714285714286, \"tpr\": 0.9852941176470589, \"n\": 70}, {\"threshold\": 0.549, \"p\": 136, \"fpr\": 0.04285714285714286, \"tpr\": 0.9852941176470589, \"n\": 70}, {\"threshold\": 0.55, \"p\": 136, \"fpr\": 0.04285714285714286, \"tpr\": 0.9852941176470589, \"n\": 70}, {\"threshold\": 0.551, \"p\": 136, \"fpr\": 0.04285714285714286, \"tpr\": 0.9852941176470589, \"n\": 70}, {\"threshold\": 0.552, \"p\": 136, \"fpr\": 0.04285714285714286, \"tpr\": 0.9852941176470589, \"n\": 70}, {\"threshold\": 0.553, \"p\": 136, \"fpr\": 0.04285714285714286, \"tpr\": 0.9852941176470589, \"n\": 70}, {\"threshold\": 0.554, \"p\": 136, \"fpr\": 0.04285714285714286, \"tpr\": 0.9852941176470589, \"n\": 70}, {\"threshold\": 0.555, \"p\": 136, \"fpr\": 0.04285714285714286, \"tpr\": 0.9852941176470589, \"n\": 70}, {\"threshold\": 0.556, \"p\": 136, \"fpr\": 0.04285714285714286, \"tpr\": 0.9852941176470589, \"n\": 70}, {\"threshold\": 0.557, \"p\": 136, \"fpr\": 0.04285714285714286, \"tpr\": 0.9852941176470589, \"n\": 70}, {\"threshold\": 0.558, \"p\": 136, \"fpr\": 0.04285714285714286, \"tpr\": 0.9852941176470589, \"n\": 70}, {\"threshold\": 0.559, \"p\": 136, \"fpr\": 0.04285714285714286, \"tpr\": 0.9852941176470589, \"n\": 70}, {\"threshold\": 0.56, \"p\": 136, \"fpr\": 0.04285714285714286, \"tpr\": 0.9852941176470589, \"n\": 70}, {\"threshold\": 0.561, \"p\": 136, \"fpr\": 0.04285714285714286, \"tpr\": 0.9852941176470589, \"n\": 70}, {\"threshold\": 0.562, \"p\": 136, \"fpr\": 0.04285714285714286, \"tpr\": 0.9852941176470589, \"n\": 70}, {\"threshold\": 0.563, \"p\": 136, \"fpr\": 0.04285714285714286, \"tpr\": 0.9852941176470589, \"n\": 70}, {\"threshold\": 0.564, \"p\": 136, \"fpr\": 0.04285714285714286, \"tpr\": 0.9852941176470589, \"n\": 70}, {\"threshold\": 0.565, \"p\": 136, \"fpr\": 0.04285714285714286, \"tpr\": 0.9852941176470589, \"n\": 70}, {\"threshold\": 0.566, \"p\": 136, \"fpr\": 0.04285714285714286, \"tpr\": 0.9852941176470589, \"n\": 70}, {\"threshold\": 0.567, \"p\": 136, \"fpr\": 0.04285714285714286, \"tpr\": 0.9852941176470589, \"n\": 70}, {\"threshold\": 0.568, \"p\": 136, \"fpr\": 0.04285714285714286, \"tpr\": 0.9852941176470589, \"n\": 70}, {\"threshold\": 0.569, \"p\": 136, \"fpr\": 0.04285714285714286, \"tpr\": 0.9852941176470589, \"n\": 70}, {\"threshold\": 0.57, \"p\": 136, \"fpr\": 0.04285714285714286, \"tpr\": 0.9852941176470589, \"n\": 70}, {\"threshold\": 0.571, \"p\": 136, \"fpr\": 0.04285714285714286, \"tpr\": 0.9852941176470589, \"n\": 70}, {\"threshold\": 0.572, \"p\": 136, \"fpr\": 0.04285714285714286, \"tpr\": 0.9852941176470589, \"n\": 70}, {\"threshold\": 0.573, \"p\": 136, \"fpr\": 0.04285714285714286, \"tpr\": 0.9852941176470589, \"n\": 70}, {\"threshold\": 0.574, \"p\": 136, \"fpr\": 0.04285714285714286, \"tpr\": 0.9852941176470589, \"n\": 70}, {\"threshold\": 0.575, \"p\": 136, \"fpr\": 0.04285714285714286, \"tpr\": 0.9852941176470589, \"n\": 70}, {\"threshold\": 0.576, \"p\": 136, \"fpr\": 0.04285714285714286, \"tpr\": 0.9852941176470589, \"n\": 70}, {\"threshold\": 0.577, \"p\": 136, \"fpr\": 0.04285714285714286, \"tpr\": 0.9852941176470589, \"n\": 70}, {\"threshold\": 0.578, \"p\": 136, \"fpr\": 0.04285714285714286, \"tpr\": 0.9852941176470589, \"n\": 70}, {\"threshold\": 0.579, \"p\": 136, \"fpr\": 0.04285714285714286, \"tpr\": 0.9852941176470589, \"n\": 70}, {\"threshold\": 0.58, \"p\": 136, \"fpr\": 0.04285714285714286, \"tpr\": 0.9852941176470589, \"n\": 70}, {\"threshold\": 0.581, \"p\": 136, \"fpr\": 0.04285714285714286, \"tpr\": 0.9852941176470589, \"n\": 70}, {\"threshold\": 0.582, \"p\": 136, \"fpr\": 0.04285714285714286, \"tpr\": 0.9852941176470589, \"n\": 70}, {\"threshold\": 0.583, \"p\": 136, \"fpr\": 0.04285714285714286, \"tpr\": 0.9852941176470589, \"n\": 70}, {\"threshold\": 0.584, \"p\": 136, \"fpr\": 0.04285714285714286, \"tpr\": 0.9852941176470589, \"n\": 70}, {\"threshold\": 0.585, \"p\": 136, \"fpr\": 0.04285714285714286, \"tpr\": 0.9852941176470589, \"n\": 70}, {\"threshold\": 0.586, \"p\": 136, \"fpr\": 0.04285714285714286, \"tpr\": 0.9852941176470589, \"n\": 70}, {\"threshold\": 0.587, \"p\": 136, \"fpr\": 0.04285714285714286, \"tpr\": 0.9852941176470589, \"n\": 70}, {\"threshold\": 0.588, \"p\": 136, \"fpr\": 0.04285714285714286, \"tpr\": 0.9852941176470589, \"n\": 70}, {\"threshold\": 0.589, \"p\": 136, \"fpr\": 0.04285714285714286, \"tpr\": 0.9852941176470589, \"n\": 70}, {\"threshold\": 0.59, \"p\": 136, \"fpr\": 0.04285714285714286, \"tpr\": 0.9852941176470589, \"n\": 70}, {\"threshold\": 0.591, \"p\": 136, \"fpr\": 0.04285714285714286, \"tpr\": 0.9852941176470589, \"n\": 70}, {\"threshold\": 0.592, \"p\": 136, \"fpr\": 0.04285714285714286, \"tpr\": 0.9852941176470589, \"n\": 70}, {\"threshold\": 0.593, \"p\": 136, \"fpr\": 0.04285714285714286, \"tpr\": 0.9852941176470589, \"n\": 70}, {\"threshold\": 0.594, \"p\": 136, \"fpr\": 0.04285714285714286, \"tpr\": 0.9852941176470589, \"n\": 70}, {\"threshold\": 0.595, \"p\": 136, \"fpr\": 0.04285714285714286, \"tpr\": 0.9852941176470589, \"n\": 70}, {\"threshold\": 0.596, \"p\": 136, \"fpr\": 0.04285714285714286, \"tpr\": 0.9852941176470589, \"n\": 70}, {\"threshold\": 0.597, \"p\": 136, \"fpr\": 0.04285714285714286, \"tpr\": 0.9852941176470589, \"n\": 70}, {\"threshold\": 0.598, \"p\": 136, \"fpr\": 0.04285714285714286, \"tpr\": 0.9852941176470589, \"n\": 70}, {\"threshold\": 0.599, \"p\": 136, \"fpr\": 0.04285714285714286, \"tpr\": 0.9852941176470589, \"n\": 70}, {\"threshold\": 0.6, \"p\": 136, \"fpr\": 0.04285714285714286, \"tpr\": 0.9852941176470589, \"n\": 70}, {\"threshold\": 0.601, \"p\": 136, \"fpr\": 0.04285714285714286, \"tpr\": 0.9852941176470589, \"n\": 70}, {\"threshold\": 0.602, \"p\": 136, \"fpr\": 0.04285714285714286, \"tpr\": 0.9852941176470589, \"n\": 70}, {\"threshold\": 0.603, \"p\": 136, \"fpr\": 0.04285714285714286, \"tpr\": 0.9852941176470589, \"n\": 70}, {\"threshold\": 0.604, \"p\": 136, \"fpr\": 0.04285714285714286, \"tpr\": 0.9852941176470589, \"n\": 70}, {\"threshold\": 0.605, \"p\": 136, \"fpr\": 0.04285714285714286, \"tpr\": 0.9852941176470589, \"n\": 70}, {\"threshold\": 0.606, \"p\": 136, \"fpr\": 0.04285714285714286, \"tpr\": 0.9852941176470589, \"n\": 70}, {\"threshold\": 0.607, \"p\": 136, \"fpr\": 0.04285714285714286, \"tpr\": 0.9852941176470589, \"n\": 70}, {\"threshold\": 0.608, \"p\": 136, \"fpr\": 0.04285714285714286, \"tpr\": 0.9852941176470589, \"n\": 70}, {\"threshold\": 0.609, \"p\": 136, \"fpr\": 0.04285714285714286, \"tpr\": 0.9852941176470589, \"n\": 70}, {\"threshold\": 0.61, \"p\": 136, \"fpr\": 0.04285714285714286, \"tpr\": 0.9852941176470589, \"n\": 70}, {\"threshold\": 0.611, \"p\": 136, \"fpr\": 0.04285714285714286, \"tpr\": 0.9852941176470589, \"n\": 70}, {\"threshold\": 0.612, \"p\": 136, \"fpr\": 0.04285714285714286, \"tpr\": 0.9852941176470589, \"n\": 70}, {\"threshold\": 0.613, \"p\": 136, \"fpr\": 0.04285714285714286, \"tpr\": 0.9852941176470589, \"n\": 70}, {\"threshold\": 0.614, \"p\": 136, \"fpr\": 0.04285714285714286, \"tpr\": 0.9852941176470589, \"n\": 70}, {\"threshold\": 0.615, \"p\": 136, \"fpr\": 0.04285714285714286, \"tpr\": 0.9852941176470589, \"n\": 70}, {\"threshold\": 0.616, \"p\": 136, \"fpr\": 0.04285714285714286, \"tpr\": 0.9852941176470589, \"n\": 70}, {\"threshold\": 0.617, \"p\": 136, \"fpr\": 0.04285714285714286, \"tpr\": 0.9852941176470589, \"n\": 70}, {\"threshold\": 0.618, \"p\": 136, \"fpr\": 0.04285714285714286, \"tpr\": 0.9852941176470589, \"n\": 70}, {\"threshold\": 0.619, \"p\": 136, \"fpr\": 0.04285714285714286, \"tpr\": 0.9852941176470589, \"n\": 70}, {\"threshold\": 0.62, \"p\": 136, \"fpr\": 0.04285714285714286, \"tpr\": 0.9852941176470589, \"n\": 70}, {\"threshold\": 0.621, \"p\": 136, \"fpr\": 0.04285714285714286, \"tpr\": 0.9852941176470589, \"n\": 70}, {\"threshold\": 0.622, \"p\": 136, \"fpr\": 0.04285714285714286, \"tpr\": 0.9852941176470589, \"n\": 70}, {\"threshold\": 0.623, \"p\": 136, \"fpr\": 0.04285714285714286, \"tpr\": 0.9852941176470589, \"n\": 70}, {\"threshold\": 0.624, \"p\": 136, \"fpr\": 0.04285714285714286, \"tpr\": 0.9852941176470589, \"n\": 70}, {\"threshold\": 0.625, \"p\": 136, \"fpr\": 0.04285714285714286, \"tpr\": 0.9852941176470589, \"n\": 70}, {\"threshold\": 0.626, \"p\": 136, \"fpr\": 0.04285714285714286, \"tpr\": 0.9852941176470589, \"n\": 70}, {\"threshold\": 0.627, \"p\": 136, \"fpr\": 0.04285714285714286, \"tpr\": 0.9852941176470589, \"n\": 70}, {\"threshold\": 0.628, \"p\": 136, \"fpr\": 0.04285714285714286, \"tpr\": 0.9852941176470589, \"n\": 70}, {\"threshold\": 0.629, \"p\": 136, \"fpr\": 0.04285714285714286, \"tpr\": 0.9852941176470589, \"n\": 70}, {\"threshold\": 0.63, \"p\": 136, \"fpr\": 0.04285714285714286, \"tpr\": 0.9852941176470589, \"n\": 70}, {\"threshold\": 0.631, \"p\": 136, \"fpr\": 0.04285714285714286, \"tpr\": 0.9852941176470589, \"n\": 70}, {\"threshold\": 0.632, \"p\": 136, \"fpr\": 0.04285714285714286, \"tpr\": 0.9852941176470589, \"n\": 70}, {\"threshold\": 0.633, \"p\": 136, \"fpr\": 0.04285714285714286, \"tpr\": 0.9852941176470589, \"n\": 70}, {\"threshold\": 0.634, \"p\": 136, \"fpr\": 0.04285714285714286, \"tpr\": 0.9852941176470589, \"n\": 70}, {\"threshold\": 0.635, \"p\": 136, \"fpr\": 0.04285714285714286, \"tpr\": 0.9852941176470589, \"n\": 70}, {\"threshold\": 0.636, \"p\": 136, \"fpr\": 0.04285714285714286, \"tpr\": 0.9852941176470589, \"n\": 70}, {\"threshold\": 0.637, \"p\": 136, \"fpr\": 0.04285714285714286, \"tpr\": 0.9852941176470589, \"n\": 70}, {\"threshold\": 0.638, \"p\": 136, \"fpr\": 0.04285714285714286, \"tpr\": 0.9852941176470589, \"n\": 70}, {\"threshold\": 0.639, \"p\": 136, \"fpr\": 0.04285714285714286, \"tpr\": 0.9852941176470589, \"n\": 70}, {\"threshold\": 0.64, \"p\": 136, \"fpr\": 0.04285714285714286, \"tpr\": 0.9852941176470589, \"n\": 70}, {\"threshold\": 0.641, \"p\": 136, \"fpr\": 0.04285714285714286, \"tpr\": 0.9852941176470589, \"n\": 70}, {\"threshold\": 0.642, \"p\": 136, \"fpr\": 0.04285714285714286, \"tpr\": 0.9852941176470589, \"n\": 70}, {\"threshold\": 0.643, \"p\": 136, \"fpr\": 0.04285714285714286, \"tpr\": 0.9852941176470589, \"n\": 70}, {\"threshold\": 0.644, \"p\": 136, \"fpr\": 0.04285714285714286, \"tpr\": 0.9852941176470589, \"n\": 70}, {\"threshold\": 0.645, \"p\": 136, \"fpr\": 0.04285714285714286, \"tpr\": 0.9852941176470589, \"n\": 70}, {\"threshold\": 0.646, \"p\": 136, \"fpr\": 0.04285714285714286, \"tpr\": 0.9852941176470589, \"n\": 70}, {\"threshold\": 0.647, \"p\": 136, \"fpr\": 0.04285714285714286, \"tpr\": 0.9852941176470589, \"n\": 70}, {\"threshold\": 0.648, \"p\": 136, \"fpr\": 0.04285714285714286, \"tpr\": 0.9852941176470589, \"n\": 70}, {\"threshold\": 0.649, \"p\": 136, \"fpr\": 0.04285714285714286, \"tpr\": 0.9852941176470589, \"n\": 70}, {\"threshold\": 0.65, \"p\": 136, \"fpr\": 0.04285714285714286, \"tpr\": 0.9852941176470589, \"n\": 70}, {\"threshold\": 0.651, \"p\": 136, \"fpr\": 0.04285714285714286, \"tpr\": 0.9852941176470589, \"n\": 70}, {\"threshold\": 0.652, \"p\": 136, \"fpr\": 0.04285714285714286, \"tpr\": 0.9852941176470589, \"n\": 70}, {\"threshold\": 0.653, \"p\": 136, \"fpr\": 0.04285714285714286, \"tpr\": 0.9852941176470589, \"n\": 70}, {\"threshold\": 0.654, \"p\": 136, \"fpr\": 0.04285714285714286, \"tpr\": 0.9852941176470589, \"n\": 70}, {\"threshold\": 0.655, \"p\": 136, \"fpr\": 0.04285714285714286, \"tpr\": 0.9852941176470589, \"n\": 70}, {\"threshold\": 0.656, \"p\": 136, \"fpr\": 0.04285714285714286, \"tpr\": 0.9852941176470589, \"n\": 70}, {\"threshold\": 0.657, \"p\": 136, \"fpr\": 0.04285714285714286, \"tpr\": 0.9852941176470589, \"n\": 70}, {\"threshold\": 0.658, \"p\": 136, \"fpr\": 0.04285714285714286, \"tpr\": 0.9852941176470589, \"n\": 70}, {\"threshold\": 0.659, \"p\": 136, \"fpr\": 0.04285714285714286, \"tpr\": 0.9852941176470589, \"n\": 70}, {\"threshold\": 0.66, \"p\": 136, \"fpr\": 0.04285714285714286, \"tpr\": 0.9852941176470589, \"n\": 70}, {\"threshold\": 0.661, \"p\": 136, \"fpr\": 0.04285714285714286, \"tpr\": 0.9852941176470589, \"n\": 70}, {\"threshold\": 0.662, \"p\": 136, \"fpr\": 0.04285714285714286, \"tpr\": 0.9852941176470589, \"n\": 70}, {\"threshold\": 0.663, \"p\": 136, \"fpr\": 0.04285714285714286, \"tpr\": 0.9852941176470589, \"n\": 70}, {\"threshold\": 0.664, \"p\": 136, \"fpr\": 0.04285714285714286, \"tpr\": 0.9852941176470589, \"n\": 70}, {\"threshold\": 0.665, \"p\": 136, \"fpr\": 0.04285714285714286, \"tpr\": 0.9852941176470589, \"n\": 70}, {\"threshold\": 0.666, \"p\": 136, \"fpr\": 0.04285714285714286, \"tpr\": 0.9852941176470589, \"n\": 70}, {\"threshold\": 0.667, \"p\": 136, \"fpr\": 0.04285714285714286, \"tpr\": 0.9852941176470589, \"n\": 70}, {\"threshold\": 0.668, \"p\": 136, \"fpr\": 0.04285714285714286, \"tpr\": 0.9852941176470589, \"n\": 70}, {\"threshold\": 0.669, \"p\": 136, \"fpr\": 0.04285714285714286, \"tpr\": 0.9852941176470589, \"n\": 70}, {\"threshold\": 0.67, \"p\": 136, \"fpr\": 0.04285714285714286, \"tpr\": 0.9852941176470589, \"n\": 70}, {\"threshold\": 0.671, \"p\": 136, \"fpr\": 0.04285714285714286, \"tpr\": 0.9852941176470589, \"n\": 70}, {\"threshold\": 0.672, \"p\": 136, \"fpr\": 0.04285714285714286, \"tpr\": 0.9852941176470589, \"n\": 70}, {\"threshold\": 0.673, \"p\": 136, \"fpr\": 0.04285714285714286, \"tpr\": 0.9852941176470589, \"n\": 70}, {\"threshold\": 0.674, \"p\": 136, \"fpr\": 0.04285714285714286, \"tpr\": 0.9852941176470589, \"n\": 70}, {\"threshold\": 0.675, \"p\": 136, \"fpr\": 0.04285714285714286, \"tpr\": 0.9852941176470589, \"n\": 70}, {\"threshold\": 0.676, \"p\": 136, \"fpr\": 0.04285714285714286, \"tpr\": 0.9852941176470589, \"n\": 70}, {\"threshold\": 0.677, \"p\": 136, \"fpr\": 0.04285714285714286, \"tpr\": 0.9852941176470589, \"n\": 70}, {\"threshold\": 0.678, \"p\": 136, \"fpr\": 0.04285714285714286, \"tpr\": 0.9852941176470589, \"n\": 70}, {\"threshold\": 0.679, \"p\": 136, \"fpr\": 0.04285714285714286, \"tpr\": 0.9852941176470589, \"n\": 70}, {\"threshold\": 0.68, \"p\": 136, \"fpr\": 0.04285714285714286, \"tpr\": 0.9852941176470589, \"n\": 70}, {\"threshold\": 0.681, \"p\": 136, \"fpr\": 0.04285714285714286, \"tpr\": 0.9852941176470589, \"n\": 70}, {\"threshold\": 0.682, \"p\": 136, \"fpr\": 0.04285714285714286, \"tpr\": 0.9852941176470589, \"n\": 70}, {\"threshold\": 0.683, \"p\": 136, \"fpr\": 0.04285714285714286, \"tpr\": 0.9852941176470589, \"n\": 70}, {\"threshold\": 0.684, \"p\": 136, \"fpr\": 0.04285714285714286, \"tpr\": 0.9852941176470589, \"n\": 70}, {\"threshold\": 0.685, \"p\": 136, \"fpr\": 0.04285714285714286, \"tpr\": 0.9852941176470589, \"n\": 70}, {\"threshold\": 0.686, \"p\": 136, \"fpr\": 0.04285714285714286, \"tpr\": 0.9852941176470589, \"n\": 70}, {\"threshold\": 0.687, \"p\": 136, \"fpr\": 0.04285714285714286, \"tpr\": 0.9852941176470589, \"n\": 70}, {\"threshold\": 0.688, \"p\": 136, \"fpr\": 0.04285714285714286, \"tpr\": 0.9852941176470589, \"n\": 70}, {\"threshold\": 0.689, \"p\": 136, \"fpr\": 0.04285714285714286, \"tpr\": 0.9852941176470589, \"n\": 70}, {\"threshold\": 0.69, \"p\": 136, \"fpr\": 0.04285714285714286, \"tpr\": 0.9852941176470589, \"n\": 70}, {\"threshold\": 0.691, \"p\": 136, \"fpr\": 0.04285714285714286, \"tpr\": 0.9852941176470589, \"n\": 70}, {\"threshold\": 0.692, \"p\": 136, \"fpr\": 0.04285714285714286, \"tpr\": 0.9852941176470589, \"n\": 70}, {\"threshold\": 0.693, \"p\": 136, \"fpr\": 0.04285714285714286, \"tpr\": 0.9852941176470589, \"n\": 70}, {\"threshold\": 0.694, \"p\": 136, \"fpr\": 0.04285714285714286, \"tpr\": 0.9852941176470589, \"n\": 70}, {\"threshold\": 0.695, \"p\": 136, \"fpr\": 0.04285714285714286, \"tpr\": 0.9852941176470589, \"n\": 70}, {\"threshold\": 0.696, \"p\": 136, \"fpr\": 0.04285714285714286, \"tpr\": 0.9852941176470589, \"n\": 70}, {\"threshold\": 0.697, \"p\": 136, \"fpr\": 0.04285714285714286, \"tpr\": 0.9852941176470589, \"n\": 70}, {\"threshold\": 0.698, \"p\": 136, \"fpr\": 0.04285714285714286, \"tpr\": 0.9852941176470589, \"n\": 70}, {\"threshold\": 0.699, \"p\": 136, \"fpr\": 0.04285714285714286, \"tpr\": 0.9852941176470589, \"n\": 70}, {\"threshold\": 0.7, \"p\": 136, \"fpr\": 0.04285714285714286, \"tpr\": 0.9852941176470589, \"n\": 70}, {\"threshold\": 0.701, \"p\": 136, \"fpr\": 0.04285714285714286, \"tpr\": 0.9852941176470589, \"n\": 70}, {\"threshold\": 0.702, \"p\": 136, \"fpr\": 0.04285714285714286, \"tpr\": 0.9852941176470589, \"n\": 70}, {\"threshold\": 0.703, \"p\": 136, \"fpr\": 0.04285714285714286, \"tpr\": 0.9852941176470589, \"n\": 70}, {\"threshold\": 0.704, \"p\": 136, \"fpr\": 0.04285714285714286, \"tpr\": 0.9852941176470589, \"n\": 70}, {\"threshold\": 0.705, \"p\": 136, \"fpr\": 0.04285714285714286, \"tpr\": 0.9852941176470589, \"n\": 70}, {\"threshold\": 0.706, \"p\": 136, \"fpr\": 0.04285714285714286, \"tpr\": 0.9852941176470589, \"n\": 70}, {\"threshold\": 0.707, \"p\": 136, \"fpr\": 0.04285714285714286, \"tpr\": 0.9852941176470589, \"n\": 70}, {\"threshold\": 0.708, \"p\": 136, \"fpr\": 0.04285714285714286, \"tpr\": 0.9852941176470589, \"n\": 70}, {\"threshold\": 0.709, \"p\": 136, \"fpr\": 0.04285714285714286, \"tpr\": 0.9852941176470589, \"n\": 70}, {\"threshold\": 0.71, \"p\": 136, \"fpr\": 0.04285714285714286, \"tpr\": 0.9852941176470589, \"n\": 70}, {\"threshold\": 0.711, \"p\": 136, \"fpr\": 0.04285714285714286, \"tpr\": 0.9852941176470589, \"n\": 70}, {\"threshold\": 0.712, \"p\": 136, \"fpr\": 0.04285714285714286, \"tpr\": 0.9852941176470589, \"n\": 70}, {\"threshold\": 0.713, \"p\": 136, \"fpr\": 0.04285714285714286, \"tpr\": 0.9852941176470589, \"n\": 70}, {\"threshold\": 0.714, \"p\": 136, \"fpr\": 0.04285714285714286, \"tpr\": 0.9852941176470589, \"n\": 70}, {\"threshold\": 0.715, \"p\": 136, \"fpr\": 0.04285714285714286, \"tpr\": 0.9852941176470589, \"n\": 70}, {\"threshold\": 0.716, \"p\": 136, \"fpr\": 0.04285714285714286, \"tpr\": 0.9852941176470589, \"n\": 70}, {\"threshold\": 0.717, \"p\": 136, \"fpr\": 0.04285714285714286, \"tpr\": 0.9852941176470589, \"n\": 70}, {\"threshold\": 0.718, \"p\": 136, \"fpr\": 0.04285714285714286, \"tpr\": 0.9852941176470589, \"n\": 70}, {\"threshold\": 0.719, \"p\": 136, \"fpr\": 0.04285714285714286, \"tpr\": 0.9852941176470589, \"n\": 70}, {\"threshold\": 0.72, \"p\": 136, \"fpr\": 0.04285714285714286, \"tpr\": 0.9852941176470589, \"n\": 70}, {\"threshold\": 0.721, \"p\": 136, \"fpr\": 0.04285714285714286, \"tpr\": 0.9852941176470589, \"n\": 70}, {\"threshold\": 0.722, \"p\": 136, \"fpr\": 0.04285714285714286, \"tpr\": 0.9852941176470589, \"n\": 70}, {\"threshold\": 0.723, \"p\": 136, \"fpr\": 0.04285714285714286, \"tpr\": 0.9852941176470589, \"n\": 70}, {\"threshold\": 0.724, \"p\": 136, \"fpr\": 0.04285714285714286, \"tpr\": 0.9852941176470589, \"n\": 70}, {\"threshold\": 0.725, \"p\": 136, \"fpr\": 0.04285714285714286, \"tpr\": 0.9852941176470589, \"n\": 70}, {\"threshold\": 0.726, \"p\": 136, \"fpr\": 0.04285714285714286, \"tpr\": 0.9852941176470589, \"n\": 70}, {\"threshold\": 0.727, \"p\": 136, \"fpr\": 0.04285714285714286, \"tpr\": 0.9852941176470589, \"n\": 70}, {\"threshold\": 0.728, \"p\": 136, \"fpr\": 0.04285714285714286, \"tpr\": 0.9852941176470589, \"n\": 70}, {\"threshold\": 0.729, \"p\": 136, \"fpr\": 0.04285714285714286, \"tpr\": 0.9852941176470589, \"n\": 70}, {\"threshold\": 0.73, \"p\": 136, \"fpr\": 0.04285714285714286, \"tpr\": 0.9852941176470589, \"n\": 70}, {\"threshold\": 0.731, \"p\": 136, \"fpr\": 0.04285714285714286, \"tpr\": 0.9852941176470589, \"n\": 70}, {\"threshold\": 0.732, \"p\": 136, \"fpr\": 0.04285714285714286, \"tpr\": 0.9852941176470589, \"n\": 70}, {\"threshold\": 0.733, \"p\": 136, \"fpr\": 0.04285714285714286, \"tpr\": 0.9852941176470589, \"n\": 70}, {\"threshold\": 0.734, \"p\": 136, \"fpr\": 0.04285714285714286, \"tpr\": 0.9852941176470589, \"n\": 70}, {\"threshold\": 0.735, \"p\": 136, \"fpr\": 0.04285714285714286, \"tpr\": 0.9852941176470589, \"n\": 70}, {\"threshold\": 0.736, \"p\": 136, \"fpr\": 0.04285714285714286, \"tpr\": 0.9852941176470589, \"n\": 70}, {\"threshold\": 0.737, \"p\": 136, \"fpr\": 0.04285714285714286, \"tpr\": 0.9852941176470589, \"n\": 70}, {\"threshold\": 0.738, \"p\": 136, \"fpr\": 0.04285714285714286, \"tpr\": 0.9852941176470589, \"n\": 70}, {\"threshold\": 0.739, \"p\": 136, \"fpr\": 0.04285714285714286, \"tpr\": 0.9852941176470589, \"n\": 70}, {\"threshold\": 0.74, \"p\": 136, \"fpr\": 0.04285714285714286, \"tpr\": 0.9852941176470589, \"n\": 70}, {\"threshold\": 0.741, \"p\": 136, \"fpr\": 0.04285714285714286, \"tpr\": 0.9852941176470589, \"n\": 70}, {\"threshold\": 0.742, \"p\": 136, \"fpr\": 0.04285714285714286, \"tpr\": 0.9852941176470589, \"n\": 70}, {\"threshold\": 0.743, \"p\": 136, \"fpr\": 0.04285714285714286, \"tpr\": 0.9852941176470589, \"n\": 70}, {\"threshold\": 0.744, \"p\": 136, \"fpr\": 0.04285714285714286, \"tpr\": 0.9852941176470589, \"n\": 70}, {\"threshold\": 0.745, \"p\": 136, \"fpr\": 0.04285714285714286, \"tpr\": 0.9852941176470589, \"n\": 70}, {\"threshold\": 0.746, \"p\": 136, \"fpr\": 0.04285714285714286, \"tpr\": 0.9852941176470589, \"n\": 70}, {\"threshold\": 0.747, \"p\": 136, \"fpr\": 0.04285714285714286, \"tpr\": 0.9852941176470589, \"n\": 70}, {\"threshold\": 0.748, \"p\": 136, \"fpr\": 0.04285714285714286, \"tpr\": 0.9852941176470589, \"n\": 70}, {\"threshold\": 0.749, \"p\": 136, \"fpr\": 0.04285714285714286, \"tpr\": 0.9852941176470589, \"n\": 70}, {\"threshold\": 0.75, \"p\": 136, \"fpr\": 0.04285714285714286, \"tpr\": 0.9852941176470589, \"n\": 70}, {\"threshold\": 0.751, \"p\": 136, \"fpr\": 0.04285714285714286, \"tpr\": 0.9852941176470589, \"n\": 70}, {\"threshold\": 0.752, \"p\": 136, \"fpr\": 0.04285714285714286, \"tpr\": 0.9852941176470589, \"n\": 70}, {\"threshold\": 0.753, \"p\": 136, \"fpr\": 0.04285714285714286, \"tpr\": 0.9852941176470589, \"n\": 70}, {\"threshold\": 0.754, \"p\": 136, \"fpr\": 0.04285714285714286, \"tpr\": 0.9852941176470589, \"n\": 70}, {\"threshold\": 0.755, \"p\": 136, \"fpr\": 0.04285714285714286, \"tpr\": 0.9852941176470589, \"n\": 70}, {\"threshold\": 0.756, \"p\": 136, \"fpr\": 0.04285714285714286, \"tpr\": 0.9852941176470589, \"n\": 70}, {\"threshold\": 0.757, \"p\": 136, \"fpr\": 0.04285714285714286, \"tpr\": 0.9852941176470589, \"n\": 70}, {\"threshold\": 0.758, \"p\": 136, \"fpr\": 0.04285714285714286, \"tpr\": 0.9852941176470589, \"n\": 70}, {\"threshold\": 0.759, \"p\": 136, \"fpr\": 0.04285714285714286, \"tpr\": 0.9852941176470589, \"n\": 70}, {\"threshold\": 0.76, \"p\": 136, \"fpr\": 0.04285714285714286, \"tpr\": 0.9852941176470589, \"n\": 70}, {\"threshold\": 0.761, \"p\": 136, \"fpr\": 0.04285714285714286, \"tpr\": 0.9852941176470589, \"n\": 70}, {\"threshold\": 0.762, \"p\": 136, \"fpr\": 0.04285714285714286, \"tpr\": 0.9852941176470589, \"n\": 70}, {\"threshold\": 0.763, \"p\": 136, \"fpr\": 0.04285714285714286, \"tpr\": 0.9852941176470589, \"n\": 70}, {\"threshold\": 0.764, \"p\": 136, \"fpr\": 0.04285714285714286, \"tpr\": 0.9852941176470589, \"n\": 70}, {\"threshold\": 0.765, \"p\": 136, \"fpr\": 0.04285714285714286, \"tpr\": 0.9852941176470589, \"n\": 70}, {\"threshold\": 0.766, \"p\": 136, \"fpr\": 0.04285714285714286, \"tpr\": 0.9852941176470589, \"n\": 70}, {\"threshold\": 0.767, \"p\": 136, \"fpr\": 0.04285714285714286, \"tpr\": 0.9852941176470589, \"n\": 70}, {\"threshold\": 0.768, \"p\": 136, \"fpr\": 0.04285714285714286, \"tpr\": 0.9852941176470589, \"n\": 70}, {\"threshold\": 0.769, \"p\": 136, \"fpr\": 0.04285714285714286, \"tpr\": 0.9852941176470589, \"n\": 70}, {\"threshold\": 0.77, \"p\": 136, \"fpr\": 0.04285714285714286, \"tpr\": 0.9852941176470589, \"n\": 70}, {\"threshold\": 0.771, \"p\": 136, \"fpr\": 0.04285714285714286, \"tpr\": 0.9852941176470589, \"n\": 70}, {\"threshold\": 0.772, \"p\": 136, \"fpr\": 0.04285714285714286, \"tpr\": 0.9852941176470589, \"n\": 70}, {\"threshold\": 0.773, \"p\": 136, \"fpr\": 0.04285714285714286, \"tpr\": 0.9852941176470589, \"n\": 70}, {\"threshold\": 0.774, \"p\": 136, \"fpr\": 0.04285714285714286, \"tpr\": 0.9852941176470589, \"n\": 70}, {\"threshold\": 0.775, \"p\": 136, \"fpr\": 0.04285714285714286, \"tpr\": 0.9852941176470589, \"n\": 70}, {\"threshold\": 0.776, \"p\": 136, \"fpr\": 0.04285714285714286, \"tpr\": 0.9852941176470589, \"n\": 70}, {\"threshold\": 0.777, \"p\": 136, \"fpr\": 0.04285714285714286, \"tpr\": 0.9852941176470589, \"n\": 70}, {\"threshold\": 0.778, \"p\": 136, \"fpr\": 0.04285714285714286, \"tpr\": 0.9852941176470589, \"n\": 70}, {\"threshold\": 0.779, \"p\": 136, \"fpr\": 0.04285714285714286, \"tpr\": 0.9852941176470589, \"n\": 70}, {\"threshold\": 0.78, \"p\": 136, \"fpr\": 0.04285714285714286, \"tpr\": 0.9852941176470589, \"n\": 70}, {\"threshold\": 0.781, \"p\": 136, \"fpr\": 0.04285714285714286, \"tpr\": 0.9852941176470589, \"n\": 70}, {\"threshold\": 0.782, \"p\": 136, \"fpr\": 0.04285714285714286, \"tpr\": 0.9852941176470589, \"n\": 70}, {\"threshold\": 0.783, \"p\": 136, \"fpr\": 0.04285714285714286, \"tpr\": 0.9852941176470589, \"n\": 70}, {\"threshold\": 0.784, \"p\": 136, \"fpr\": 0.04285714285714286, \"tpr\": 0.9852941176470589, \"n\": 70}, {\"threshold\": 0.785, \"p\": 136, \"fpr\": 0.02857142857142857, \"tpr\": 0.9852941176470589, \"n\": 70}, {\"threshold\": 0.786, \"p\": 136, \"fpr\": 0.02857142857142857, \"tpr\": 0.9852941176470589, \"n\": 70}, {\"threshold\": 0.787, \"p\": 136, \"fpr\": 0.02857142857142857, \"tpr\": 0.9852941176470589, \"n\": 70}, {\"threshold\": 0.788, \"p\": 136, \"fpr\": 0.02857142857142857, \"tpr\": 0.9852941176470589, \"n\": 70}, {\"threshold\": 0.789, \"p\": 136, \"fpr\": 0.02857142857142857, \"tpr\": 0.9852941176470589, \"n\": 70}, {\"threshold\": 0.79, \"p\": 136, \"fpr\": 0.02857142857142857, \"tpr\": 0.9852941176470589, \"n\": 70}, {\"threshold\": 0.791, \"p\": 136, \"fpr\": 0.02857142857142857, \"tpr\": 0.9852941176470589, \"n\": 70}, {\"threshold\": 0.792, \"p\": 136, \"fpr\": 0.02857142857142857, \"tpr\": 0.9852941176470589, \"n\": 70}, {\"threshold\": 0.793, \"p\": 136, \"fpr\": 0.02857142857142857, \"tpr\": 0.9852941176470589, \"n\": 70}, {\"threshold\": 0.794, \"p\": 136, \"fpr\": 0.02857142857142857, \"tpr\": 0.9852941176470589, \"n\": 70}, {\"threshold\": 0.795, \"p\": 136, \"fpr\": 0.02857142857142857, \"tpr\": 0.9852941176470589, \"n\": 70}, {\"threshold\": 0.796, \"p\": 136, \"fpr\": 0.02857142857142857, \"tpr\": 0.9852941176470589, \"n\": 70}, {\"threshold\": 0.797, \"p\": 136, \"fpr\": 0.02857142857142857, \"tpr\": 0.9779411764705882, \"n\": 70}, {\"threshold\": 0.798, \"p\": 136, \"fpr\": 0.02857142857142857, \"tpr\": 0.9779411764705882, \"n\": 70}, {\"threshold\": 0.799, \"p\": 136, \"fpr\": 0.02857142857142857, \"tpr\": 0.9779411764705882, \"n\": 70}, {\"threshold\": 0.8, \"p\": 136, \"fpr\": 0.02857142857142857, \"tpr\": 0.9779411764705882, \"n\": 70}, {\"threshold\": 0.801, \"p\": 136, \"fpr\": 0.02857142857142857, \"tpr\": 0.9779411764705882, \"n\": 70}, {\"threshold\": 0.802, \"p\": 136, \"fpr\": 0.02857142857142857, \"tpr\": 0.9779411764705882, \"n\": 70}, {\"threshold\": 0.803, \"p\": 136, \"fpr\": 0.02857142857142857, \"tpr\": 0.9779411764705882, \"n\": 70}, {\"threshold\": 0.804, \"p\": 136, \"fpr\": 0.02857142857142857, \"tpr\": 0.9779411764705882, \"n\": 70}, {\"threshold\": 0.805, \"p\": 136, \"fpr\": 0.02857142857142857, \"tpr\": 0.9779411764705882, \"n\": 70}, {\"threshold\": 0.806, \"p\": 136, \"fpr\": 0.02857142857142857, \"tpr\": 0.9779411764705882, \"n\": 70}, {\"threshold\": 0.807, \"p\": 136, \"fpr\": 0.02857142857142857, \"tpr\": 0.9705882352941176, \"n\": 70}, {\"threshold\": 0.808, \"p\": 136, \"fpr\": 0.02857142857142857, \"tpr\": 0.9705882352941176, \"n\": 70}, {\"threshold\": 0.809, \"p\": 136, \"fpr\": 0.02857142857142857, \"tpr\": 0.9705882352941176, \"n\": 70}, {\"threshold\": 0.81, \"p\": 136, \"fpr\": 0.02857142857142857, \"tpr\": 0.9705882352941176, \"n\": 70}, {\"threshold\": 0.811, \"p\": 136, \"fpr\": 0.02857142857142857, \"tpr\": 0.9705882352941176, \"n\": 70}, {\"threshold\": 0.812, \"p\": 136, \"fpr\": 0.014285714285714285, \"tpr\": 0.9705882352941176, \"n\": 70}, {\"threshold\": 0.813, \"p\": 136, \"fpr\": 0.014285714285714285, \"tpr\": 0.9705882352941176, \"n\": 70}, {\"threshold\": 0.814, \"p\": 136, \"fpr\": 0.014285714285714285, \"tpr\": 0.9705882352941176, \"n\": 70}, {\"threshold\": 0.815, \"p\": 136, \"fpr\": 0.014285714285714285, \"tpr\": 0.9705882352941176, \"n\": 70}, {\"threshold\": 0.816, \"p\": 136, \"fpr\": 0.014285714285714285, \"tpr\": 0.9705882352941176, \"n\": 70}, {\"threshold\": 0.817, \"p\": 136, \"fpr\": 0.014285714285714285, \"tpr\": 0.9705882352941176, \"n\": 70}, {\"threshold\": 0.818, \"p\": 136, \"fpr\": 0.014285714285714285, \"tpr\": 0.9705882352941176, \"n\": 70}, {\"threshold\": 0.819, \"p\": 136, \"fpr\": 0.014285714285714285, \"tpr\": 0.9705882352941176, \"n\": 70}, {\"threshold\": 0.82, \"p\": 136, \"fpr\": 0.014285714285714285, \"tpr\": 0.9705882352941176, \"n\": 70}, {\"threshold\": 0.821, \"p\": 136, \"fpr\": 0.014285714285714285, \"tpr\": 0.9705882352941176, \"n\": 70}, {\"threshold\": 0.822, \"p\": 136, \"fpr\": 0.014285714285714285, \"tpr\": 0.9558823529411765, \"n\": 70}, {\"threshold\": 0.823, \"p\": 136, \"fpr\": 0.014285714285714285, \"tpr\": 0.9558823529411765, \"n\": 70}, {\"threshold\": 0.824, \"p\": 136, \"fpr\": 0.014285714285714285, \"tpr\": 0.9558823529411765, \"n\": 70}, {\"threshold\": 0.825, \"p\": 136, \"fpr\": 0.014285714285714285, \"tpr\": 0.9558823529411765, \"n\": 70}, {\"threshold\": 0.826, \"p\": 136, \"fpr\": 0.014285714285714285, \"tpr\": 0.9558823529411765, \"n\": 70}, {\"threshold\": 0.827, \"p\": 136, \"fpr\": 0.014285714285714285, \"tpr\": 0.9558823529411765, \"n\": 70}, {\"threshold\": 0.828, \"p\": 136, \"fpr\": 0.014285714285714285, \"tpr\": 0.9558823529411765, \"n\": 70}, {\"threshold\": 0.829, \"p\": 136, \"fpr\": 0.014285714285714285, \"tpr\": 0.9558823529411765, \"n\": 70}, {\"threshold\": 0.83, \"p\": 136, \"fpr\": 0.014285714285714285, \"tpr\": 0.9558823529411765, \"n\": 70}, {\"threshold\": 0.831, \"p\": 136, \"fpr\": 0.014285714285714285, \"tpr\": 0.9558823529411765, \"n\": 70}, {\"threshold\": 0.832, \"p\": 136, \"fpr\": 0.014285714285714285, \"tpr\": 0.9558823529411765, \"n\": 70}, {\"threshold\": 0.833, \"p\": 136, \"fpr\": 0.014285714285714285, \"tpr\": 0.9558823529411765, \"n\": 70}, {\"threshold\": 0.834, \"p\": 136, \"fpr\": 0.014285714285714285, \"tpr\": 0.9558823529411765, \"n\": 70}, {\"threshold\": 0.835, \"p\": 136, \"fpr\": 0.014285714285714285, \"tpr\": 0.9558823529411765, \"n\": 70}, {\"threshold\": 0.836, \"p\": 136, \"fpr\": 0.014285714285714285, \"tpr\": 0.9558823529411765, \"n\": 70}, {\"threshold\": 0.837, \"p\": 136, \"fpr\": 0.014285714285714285, \"tpr\": 0.9558823529411765, \"n\": 70}, {\"threshold\": 0.838, \"p\": 136, \"fpr\": 0.014285714285714285, \"tpr\": 0.9558823529411765, \"n\": 70}, {\"threshold\": 0.839, \"p\": 136, \"fpr\": 0.014285714285714285, \"tpr\": 0.9558823529411765, \"n\": 70}, {\"threshold\": 0.84, \"p\": 136, \"fpr\": 0.014285714285714285, \"tpr\": 0.9558823529411765, \"n\": 70}, {\"threshold\": 0.841, \"p\": 136, \"fpr\": 0.014285714285714285, \"tpr\": 0.9558823529411765, \"n\": 70}, {\"threshold\": 0.842, \"p\": 136, \"fpr\": 0.014285714285714285, \"tpr\": 0.9558823529411765, \"n\": 70}, {\"threshold\": 0.843, \"p\": 136, \"fpr\": 0.014285714285714285, \"tpr\": 0.9558823529411765, \"n\": 70}, {\"threshold\": 0.844, \"p\": 136, \"fpr\": 0.014285714285714285, \"tpr\": 0.9558823529411765, \"n\": 70}, {\"threshold\": 0.845, \"p\": 136, \"fpr\": 0.014285714285714285, \"tpr\": 0.9558823529411765, \"n\": 70}, {\"threshold\": 0.846, \"p\": 136, \"fpr\": 0.014285714285714285, \"tpr\": 0.9558823529411765, \"n\": 70}, {\"threshold\": 0.847, \"p\": 136, \"fpr\": 0.014285714285714285, \"tpr\": 0.9558823529411765, \"n\": 70}, {\"threshold\": 0.848, \"p\": 136, \"fpr\": 0.014285714285714285, \"tpr\": 0.9558823529411765, \"n\": 70}, {\"threshold\": 0.849, \"p\": 136, \"fpr\": 0.014285714285714285, \"tpr\": 0.9558823529411765, \"n\": 70}, {\"threshold\": 0.85, \"p\": 136, \"fpr\": 0.014285714285714285, \"tpr\": 0.9558823529411765, \"n\": 70}, {\"threshold\": 0.851, \"p\": 136, \"fpr\": 0.014285714285714285, \"tpr\": 0.9558823529411765, \"n\": 70}, {\"threshold\": 0.852, \"p\": 136, \"fpr\": 0.014285714285714285, \"tpr\": 0.9558823529411765, \"n\": 70}, {\"threshold\": 0.853, \"p\": 136, \"fpr\": 0.014285714285714285, \"tpr\": 0.9558823529411765, \"n\": 70}, {\"threshold\": 0.854, \"p\": 136, \"fpr\": 0.014285714285714285, \"tpr\": 0.9558823529411765, \"n\": 70}, {\"threshold\": 0.855, \"p\": 136, \"fpr\": 0.014285714285714285, \"tpr\": 0.9558823529411765, \"n\": 70}, {\"threshold\": 0.856, \"p\": 136, \"fpr\": 0.014285714285714285, \"tpr\": 0.9558823529411765, \"n\": 70}, {\"threshold\": 0.857, \"p\": 136, \"fpr\": 0.014285714285714285, \"tpr\": 0.9558823529411765, \"n\": 70}, {\"threshold\": 0.858, \"p\": 136, \"fpr\": 0.014285714285714285, \"tpr\": 0.9558823529411765, \"n\": 70}, {\"threshold\": 0.859, \"p\": 136, \"fpr\": 0.014285714285714285, \"tpr\": 0.9558823529411765, \"n\": 70}, {\"threshold\": 0.86, \"p\": 136, \"fpr\": 0.014285714285714285, \"tpr\": 0.9558823529411765, \"n\": 70}, {\"threshold\": 0.861, \"p\": 136, \"fpr\": 0.014285714285714285, \"tpr\": 0.9558823529411765, \"n\": 70}, {\"threshold\": 0.862, \"p\": 136, \"fpr\": 0.014285714285714285, \"tpr\": 0.9558823529411765, \"n\": 70}, {\"threshold\": 0.863, \"p\": 136, \"fpr\": 0.014285714285714285, \"tpr\": 0.9558823529411765, \"n\": 70}, {\"threshold\": 0.864, \"p\": 136, \"fpr\": 0.014285714285714285, \"tpr\": 0.9558823529411765, \"n\": 70}, {\"threshold\": 0.865, \"p\": 136, \"fpr\": 0.014285714285714285, \"tpr\": 0.9558823529411765, \"n\": 70}, {\"threshold\": 0.866, \"p\": 136, \"fpr\": 0.014285714285714285, \"tpr\": 0.9558823529411765, \"n\": 70}, {\"threshold\": 0.867, \"p\": 136, \"fpr\": 0.014285714285714285, \"tpr\": 0.9558823529411765, \"n\": 70}, {\"threshold\": 0.868, \"p\": 136, \"fpr\": 0.014285714285714285, \"tpr\": 0.9558823529411765, \"n\": 70}, {\"threshold\": 0.869, \"p\": 136, \"fpr\": 0.014285714285714285, \"tpr\": 0.9558823529411765, \"n\": 70}, {\"threshold\": 0.87, \"p\": 136, \"fpr\": 0.014285714285714285, \"tpr\": 0.9558823529411765, \"n\": 70}, {\"threshold\": 0.871, \"p\": 136, \"fpr\": 0.014285714285714285, \"tpr\": 0.9558823529411765, \"n\": 70}, {\"threshold\": 0.872, \"p\": 136, \"fpr\": 0.014285714285714285, \"tpr\": 0.9558823529411765, \"n\": 70}, {\"threshold\": 0.873, \"p\": 136, \"fpr\": 0.014285714285714285, \"tpr\": 0.9558823529411765, \"n\": 70}, {\"threshold\": 0.874, \"p\": 136, \"fpr\": 0.014285714285714285, \"tpr\": 0.9558823529411765, \"n\": 70}, {\"threshold\": 0.875, \"p\": 136, \"fpr\": 0.014285714285714285, \"tpr\": 0.9558823529411765, \"n\": 70}, {\"threshold\": 0.876, \"p\": 136, \"fpr\": 0.0, \"tpr\": 0.9558823529411765, \"n\": 70}, {\"threshold\": 0.877, \"p\": 136, \"fpr\": 0.0, \"tpr\": 0.9558823529411765, \"n\": 70}, {\"threshold\": 0.878, \"p\": 136, \"fpr\": 0.0, \"tpr\": 0.9558823529411765, \"n\": 70}, {\"threshold\": 0.879, \"p\": 136, \"fpr\": 0.0, \"tpr\": 0.9558823529411765, \"n\": 70}, {\"threshold\": 0.88, \"p\": 136, \"fpr\": 0.0, \"tpr\": 0.9558823529411765, \"n\": 70}, {\"threshold\": 0.881, \"p\": 136, \"fpr\": 0.0, \"tpr\": 0.9558823529411765, \"n\": 70}, {\"threshold\": 0.882, \"p\": 136, \"fpr\": 0.0, \"tpr\": 0.9558823529411765, \"n\": 70}, {\"threshold\": 0.883, \"p\": 136, \"fpr\": 0.0, \"tpr\": 0.9558823529411765, \"n\": 70}, {\"threshold\": 0.884, \"p\": 136, \"fpr\": 0.0, \"tpr\": 0.9558823529411765, \"n\": 70}, {\"threshold\": 0.885, \"p\": 136, \"fpr\": 0.0, \"tpr\": 0.9558823529411765, \"n\": 70}, {\"threshold\": 0.886, \"p\": 136, \"fpr\": 0.0, \"tpr\": 0.9558823529411765, \"n\": 70}, {\"threshold\": 0.887, \"p\": 136, \"fpr\": 0.0, \"tpr\": 0.9558823529411765, \"n\": 70}, {\"threshold\": 0.888, \"p\": 136, \"fpr\": 0.0, \"tpr\": 0.9558823529411765, \"n\": 70}, {\"threshold\": 0.889, \"p\": 136, \"fpr\": 0.0, \"tpr\": 0.9558823529411765, \"n\": 70}, {\"threshold\": 0.89, \"p\": 136, \"fpr\": 0.0, \"tpr\": 0.9558823529411765, \"n\": 70}, {\"threshold\": 0.891, \"p\": 136, \"fpr\": 0.0, \"tpr\": 0.9485294117647058, \"n\": 70}, {\"threshold\": 0.892, \"p\": 136, \"fpr\": 0.0, \"tpr\": 0.9485294117647058, \"n\": 70}, {\"threshold\": 0.893, \"p\": 136, \"fpr\": 0.0, \"tpr\": 0.9485294117647058, \"n\": 70}, {\"threshold\": 0.894, \"p\": 136, \"fpr\": 0.0, \"tpr\": 0.9485294117647058, \"n\": 70}, {\"threshold\": 0.895, \"p\": 136, \"fpr\": 0.0, \"tpr\": 0.9485294117647058, \"n\": 70}, {\"threshold\": 0.896, \"p\": 136, \"fpr\": 0.0, \"tpr\": 0.9485294117647058, \"n\": 70}, {\"threshold\": 0.897, \"p\": 136, \"fpr\": 0.0, \"tpr\": 0.9485294117647058, \"n\": 70}, {\"threshold\": 0.898, \"p\": 136, \"fpr\": 0.0, \"tpr\": 0.9485294117647058, \"n\": 70}, {\"threshold\": 0.899, \"p\": 136, \"fpr\": 0.0, \"tpr\": 0.9485294117647058, \"n\": 70}, {\"threshold\": 0.9, \"p\": 136, \"fpr\": 0.0, \"tpr\": 0.9485294117647058, \"n\": 70}, {\"threshold\": 0.901, \"p\": 136, \"fpr\": 0.0, \"tpr\": 0.9411764705882353, \"n\": 70}, {\"threshold\": 0.902, \"p\": 136, \"fpr\": 0.0, \"tpr\": 0.9411764705882353, \"n\": 70}, {\"threshold\": 0.903, \"p\": 136, \"fpr\": 0.0, \"tpr\": 0.9411764705882353, \"n\": 70}, {\"threshold\": 0.904, \"p\": 136, \"fpr\": 0.0, \"tpr\": 0.9411764705882353, \"n\": 70}, {\"threshold\": 0.905, \"p\": 136, \"fpr\": 0.0, \"tpr\": 0.9411764705882353, \"n\": 70}, {\"threshold\": 0.906, \"p\": 136, \"fpr\": 0.0, \"tpr\": 0.9411764705882353, \"n\": 70}, {\"threshold\": 0.907, \"p\": 136, \"fpr\": 0.0, \"tpr\": 0.9411764705882353, \"n\": 70}, {\"threshold\": 0.908, \"p\": 136, \"fpr\": 0.0, \"tpr\": 0.9411764705882353, \"n\": 70}, {\"threshold\": 0.909, \"p\": 136, \"fpr\": 0.0, \"tpr\": 0.9411764705882353, \"n\": 70}, {\"threshold\": 0.91, \"p\": 136, \"fpr\": 0.0, \"tpr\": 0.9411764705882353, \"n\": 70}, {\"threshold\": 0.911, \"p\": 136, \"fpr\": 0.0, \"tpr\": 0.9411764705882353, \"n\": 70}, {\"threshold\": 0.912, \"p\": 136, \"fpr\": 0.0, \"tpr\": 0.9411764705882353, \"n\": 70}, {\"threshold\": 0.913, \"p\": 136, \"fpr\": 0.0, \"tpr\": 0.9411764705882353, \"n\": 70}, {\"threshold\": 0.914, \"p\": 136, \"fpr\": 0.0, \"tpr\": 0.9411764705882353, \"n\": 70}, {\"threshold\": 0.915, \"p\": 136, \"fpr\": 0.0, \"tpr\": 0.9411764705882353, \"n\": 70}, {\"threshold\": 0.916, \"p\": 136, \"fpr\": 0.0, \"tpr\": 0.9411764705882353, \"n\": 70}, {\"threshold\": 0.917, \"p\": 136, \"fpr\": 0.0, \"tpr\": 0.9411764705882353, \"n\": 70}, {\"threshold\": 0.918, \"p\": 136, \"fpr\": 0.0, \"tpr\": 0.9411764705882353, \"n\": 70}, {\"threshold\": 0.919, \"p\": 136, \"fpr\": 0.0, \"tpr\": 0.9411764705882353, \"n\": 70}, {\"threshold\": 0.92, \"p\": 136, \"fpr\": 0.0, \"tpr\": 0.9411764705882353, \"n\": 70}, {\"threshold\": 0.921, \"p\": 136, \"fpr\": 0.0, \"tpr\": 0.9411764705882353, \"n\": 70}, {\"threshold\": 0.922, \"p\": 136, \"fpr\": 0.0, \"tpr\": 0.9411764705882353, \"n\": 70}, {\"threshold\": 0.923, \"p\": 136, \"fpr\": 0.0, \"tpr\": 0.9411764705882353, \"n\": 70}, {\"threshold\": 0.924, \"p\": 136, \"fpr\": 0.0, \"tpr\": 0.9411764705882353, \"n\": 70}, {\"threshold\": 0.925, \"p\": 136, \"fpr\": 0.0, \"tpr\": 0.9411764705882353, \"n\": 70}, {\"threshold\": 0.926, \"p\": 136, \"fpr\": 0.0, \"tpr\": 0.9411764705882353, \"n\": 70}, {\"threshold\": 0.927, \"p\": 136, \"fpr\": 0.0, \"tpr\": 0.9411764705882353, \"n\": 70}, {\"threshold\": 0.928, \"p\": 136, \"fpr\": 0.0, \"tpr\": 0.9411764705882353, \"n\": 70}, {\"threshold\": 0.929, \"p\": 136, \"fpr\": 0.0, \"tpr\": 0.9411764705882353, \"n\": 70}, {\"threshold\": 0.93, \"p\": 136, \"fpr\": 0.0, \"tpr\": 0.9411764705882353, \"n\": 70}, {\"threshold\": 0.931, \"p\": 136, \"fpr\": 0.0, \"tpr\": 0.9411764705882353, \"n\": 70}, {\"threshold\": 0.932, \"p\": 136, \"fpr\": 0.0, \"tpr\": 0.9411764705882353, \"n\": 70}, {\"threshold\": 0.933, \"p\": 136, \"fpr\": 0.0, \"tpr\": 0.9411764705882353, \"n\": 70}, {\"threshold\": 0.934, \"p\": 136, \"fpr\": 0.0, \"tpr\": 0.9411764705882353, \"n\": 70}, {\"threshold\": 0.935, \"p\": 136, \"fpr\": 0.0, \"tpr\": 0.9411764705882353, \"n\": 70}, {\"threshold\": 0.936, \"p\": 136, \"fpr\": 0.0, \"tpr\": 0.9411764705882353, \"n\": 70}, {\"threshold\": 0.937, \"p\": 136, \"fpr\": 0.0, \"tpr\": 0.9411764705882353, \"n\": 70}, {\"threshold\": 0.938, \"p\": 136, \"fpr\": 0.0, \"tpr\": 0.9411764705882353, \"n\": 70}, {\"threshold\": 0.939, \"p\": 136, \"fpr\": 0.0, \"tpr\": 0.9411764705882353, \"n\": 70}, {\"threshold\": 0.94, \"p\": 136, \"fpr\": 0.0, \"tpr\": 0.9411764705882353, \"n\": 70}, {\"threshold\": 0.941, \"p\": 136, \"fpr\": 0.0, \"tpr\": 0.9411764705882353, \"n\": 70}, {\"threshold\": 0.942, \"p\": 136, \"fpr\": 0.0, \"tpr\": 0.9411764705882353, \"n\": 70}, {\"threshold\": 0.943, \"p\": 136, \"fpr\": 0.0, \"tpr\": 0.9411764705882353, \"n\": 70}, {\"threshold\": 0.944, \"p\": 136, \"fpr\": 0.0, \"tpr\": 0.9411764705882353, \"n\": 70}, {\"threshold\": 0.945, \"p\": 136, \"fpr\": 0.0, \"tpr\": 0.9411764705882353, \"n\": 70}, {\"threshold\": 0.946, \"p\": 136, \"fpr\": 0.0, \"tpr\": 0.9338235294117647, \"n\": 70}, {\"threshold\": 0.947, \"p\": 136, \"fpr\": 0.0, \"tpr\": 0.9338235294117647, \"n\": 70}, {\"threshold\": 0.948, \"p\": 136, \"fpr\": 0.0, \"tpr\": 0.9338235294117647, \"n\": 70}, {\"threshold\": 0.949, \"p\": 136, \"fpr\": 0.0, \"tpr\": 0.9338235294117647, \"n\": 70}, {\"threshold\": 0.95, \"p\": 136, \"fpr\": 0.0, \"tpr\": 0.9338235294117647, \"n\": 70}, {\"threshold\": 0.951, \"p\": 136, \"fpr\": 0.0, \"tpr\": 0.9338235294117647, \"n\": 70}, {\"threshold\": 0.952, \"p\": 136, \"fpr\": 0.0, \"tpr\": 0.9338235294117647, \"n\": 70}, {\"threshold\": 0.953, \"p\": 136, \"fpr\": 0.0, \"tpr\": 0.9338235294117647, \"n\": 70}, {\"threshold\": 0.954, \"p\": 136, \"fpr\": 0.0, \"tpr\": 0.9338235294117647, \"n\": 70}, {\"threshold\": 0.955, \"p\": 136, \"fpr\": 0.0, \"tpr\": 0.9338235294117647, \"n\": 70}, {\"threshold\": 0.956, \"p\": 136, \"fpr\": 0.0, \"tpr\": 0.9338235294117647, \"n\": 70}, {\"threshold\": 0.957, \"p\": 136, \"fpr\": 0.0, \"tpr\": 0.9338235294117647, \"n\": 70}, {\"threshold\": 0.958, \"p\": 136, \"fpr\": 0.0, \"tpr\": 0.9338235294117647, \"n\": 70}, {\"threshold\": 0.959, \"p\": 136, \"fpr\": 0.0, \"tpr\": 0.9338235294117647, \"n\": 70}, {\"threshold\": 0.96, \"p\": 136, \"fpr\": 0.0, \"tpr\": 0.9338235294117647, \"n\": 70}, {\"threshold\": 0.961, \"p\": 136, \"fpr\": 0.0, \"tpr\": 0.9264705882352942, \"n\": 70}, {\"threshold\": 0.962, \"p\": 136, \"fpr\": 0.0, \"tpr\": 0.9264705882352942, \"n\": 70}, {\"threshold\": 0.963, \"p\": 136, \"fpr\": 0.0, \"tpr\": 0.9191176470588235, \"n\": 70}, {\"threshold\": 0.964, \"p\": 136, \"fpr\": 0.0, \"tpr\": 0.9191176470588235, \"n\": 70}, {\"threshold\": 0.965, \"p\": 136, \"fpr\": 0.0, \"tpr\": 0.9191176470588235, \"n\": 70}, {\"threshold\": 0.966, \"p\": 136, \"fpr\": 0.0, \"tpr\": 0.9191176470588235, \"n\": 70}, {\"threshold\": 0.967, \"p\": 136, \"fpr\": 0.0, \"tpr\": 0.9191176470588235, \"n\": 70}, {\"threshold\": 0.968, \"p\": 136, \"fpr\": 0.0, \"tpr\": 0.9191176470588235, \"n\": 70}, {\"threshold\": 0.969, \"p\": 136, \"fpr\": 0.0, \"tpr\": 0.9191176470588235, \"n\": 70}, {\"threshold\": 0.97, \"p\": 136, \"fpr\": 0.0, \"tpr\": 0.9191176470588235, \"n\": 70}, {\"threshold\": 0.971, \"p\": 136, \"fpr\": 0.0, \"tpr\": 0.9191176470588235, \"n\": 70}, {\"threshold\": 0.972, \"p\": 136, \"fpr\": 0.0, \"tpr\": 0.9191176470588235, \"n\": 70}, {\"threshold\": 0.973, \"p\": 136, \"fpr\": 0.0, \"tpr\": 0.9191176470588235, \"n\": 70}, {\"threshold\": 0.974, \"p\": 136, \"fpr\": 0.0, \"tpr\": 0.9117647058823529, \"n\": 70}, {\"threshold\": 0.975, \"p\": 136, \"fpr\": 0.0, \"tpr\": 0.9117647058823529, \"n\": 70}, {\"threshold\": 0.976, \"p\": 136, \"fpr\": 0.0, \"tpr\": 0.8970588235294118, \"n\": 70}, {\"threshold\": 0.977, \"p\": 136, \"fpr\": 0.0, \"tpr\": 0.8897058823529411, \"n\": 70}, {\"threshold\": 0.978, \"p\": 136, \"fpr\": 0.0, \"tpr\": 0.8897058823529411, \"n\": 70}, {\"threshold\": 0.979, \"p\": 136, \"fpr\": 0.0, \"tpr\": 0.8897058823529411, \"n\": 70}, {\"threshold\": 0.98, \"p\": 136, \"fpr\": 0.0, \"tpr\": 0.8897058823529411, \"n\": 70}, {\"threshold\": 0.981, \"p\": 136, \"fpr\": 0.0, \"tpr\": 0.8897058823529411, \"n\": 70}, {\"threshold\": 0.982, \"p\": 136, \"fpr\": 0.0, \"tpr\": 0.8897058823529411, \"n\": 70}, {\"threshold\": 0.983, \"p\": 136, \"fpr\": 0.0, \"tpr\": 0.8897058823529411, \"n\": 70}, {\"threshold\": 0.984, \"p\": 136, \"fpr\": 0.0, \"tpr\": 0.8897058823529411, \"n\": 70}, {\"threshold\": 0.985, \"p\": 136, \"fpr\": 0.0, \"tpr\": 0.8823529411764706, \"n\": 70}, {\"threshold\": 0.986, \"p\": 136, \"fpr\": 0.0, \"tpr\": 0.8823529411764706, \"n\": 70}, {\"threshold\": 0.987, \"p\": 136, \"fpr\": 0.0, \"tpr\": 0.875, \"n\": 70}, {\"threshold\": 0.988, \"p\": 136, \"fpr\": 0.0, \"tpr\": 0.8382352941176471, \"n\": 70}, {\"threshold\": 0.989, \"p\": 136, \"fpr\": 0.0, \"tpr\": 0.6911764705882353, \"n\": 70}, {\"threshold\": 0.99, \"p\": 136, \"fpr\": 0.0, \"tpr\": 0.6617647058823529, \"n\": 70}, {\"threshold\": 0.991, \"p\": 136, \"fpr\": 0.0, \"tpr\": 0.625, \"n\": 70}, {\"threshold\": 0.992, \"p\": 136, \"fpr\": 0.0, \"tpr\": 0.6176470588235294, \"n\": 70}, {\"threshold\": 0.993, \"p\": 136, \"fpr\": 0.0, \"tpr\": 0.6102941176470589, \"n\": 70}, {\"threshold\": 0.994, \"p\": 136, \"fpr\": 0.0, \"tpr\": 0.5294117647058824, \"n\": 70}, {\"threshold\": 0.995, \"p\": 136, \"fpr\": 0.0, \"tpr\": 0.5073529411764706, \"n\": 70}, {\"threshold\": 0.996, \"p\": 136, \"fpr\": 0.0, \"tpr\": 0.38235294117647056, \"n\": 70}, {\"threshold\": 0.997, \"p\": 136, \"fpr\": 0.0, \"tpr\": 0.375, \"n\": 70}, {\"threshold\": 0.998, \"p\": 136, \"fpr\": 0.0, \"tpr\": 0.3602941176470588, \"n\": 70}, {\"threshold\": 0.999, \"p\": 136, \"fpr\": 0.0, \"tpr\": 0.34558823529411764, \"n\": 70}, {\"threshold\": 1.0, \"p\": 136, \"fpr\": 0.0, \"tpr\": 0.0, \"n\": 70}], \"confusion_matrix\": [{\"count\": 3, \"target_label\": -1, \"predicted_label\": 1}, {\"count\": 67, \"target_label\": -1, \"predicted_label\": -1}, {\"count\": 135, \"target_label\": 1, \"predicted_label\": 1}, {\"count\": 1, \"target_label\": 1, \"predicted_label\": -1}], \"accuracy\": 0.9805825242718447}]], \"type\": \"Model\"}, \"ipython\": true, \"view_params\": {\"model_type\": \"regression\", \"view\": \"Evaluation\"}, \"model_type\": \"regression\", \"attributes\": {\"section_titles\": [\"Schema\", \"Hyperparameters\", \"Training Summary\", \"Settings\", \"Highest Positive Coefficients\", \"Lowest Negative Coefficients\"], \"sections\": [[[\"Number of coefficients\", 5342], [\"Number of examples\", 824], [\"Number of classes\", 2], [\"Number of feature columns\", 40], [\"Number of unpacked features\", 40]], [[\"L1 penalty\", 0.0], [\"L2 penalty\", 0.01]], [[\"Solver\", \"lbfgs\"], [\"Solver iterations\", 10], [\"Solver status\", \"TERMINATED: Iteration limit reached.\"], [\"Training time (sec)\", 0.044]], [[\"Log-likelihood\", 0.1009]], [[\"ModificationTime[Tue, Feb 9, 2016 07:44:49 AM EST]\", 2.9747], [\"ModificationTime[Tue, Feb 9, 2016 07:39:49 AM EST]\", 2.7661], [\"ModificationTime[Tue, Feb 9, 2016 08:10:30 AM EST]\", 2.5702], [\"FirstOccurTime[Mon, Jan 25, 2016 07:08:16 PM EST]\", 2.3528], [\"FirstOccurConsoleTime[Mon, Jan 25, 2016 07:08:16 PM EST]\", 2.3528]], [[\"ModificationTime[Tue, Feb 9, 2016 07:44:47 AM EST]\", -3.4856], [\"ModificationTime[Tue, Feb 9, 2016 07:39:52 AM EST]\", -3.3738], [\"ModificationTime[Tue, Feb 9, 2016 07:35:07 AM EST]\", -2.2384], [\"ModificationTime[Tue, Feb 9, 2016 07:25:05 AM EST]\", -2.2247], [\"FirstOccurTimeString[2016-02-09 13:47:29 GMT]\", -1.7744]]]}, \"evaluations\": [[\"test_data\", {\"f1_score\": 0.9854014598540147, \"auc\": 0.9986344537815117, \"recall\": 0.9926470588235294, \"precision\": 0.9782608695652174, \"log_loss\": 0.04911238730868706, \"roc_curve\": [{\"threshold\": 0.0, \"p\": 136, \"fpr\": 1.0, \"tpr\": 1.0, \"n\": 70}, {\"threshold\": 0.001, \"p\": 136, \"fpr\": 0.7857142857142857, \"tpr\": 1.0, \"n\": 70}, {\"threshold\": 0.002, \"p\": 136, \"fpr\": 0.6571428571428571, \"tpr\": 1.0, \"n\": 70}, {\"threshold\": 0.003, \"p\": 136, \"fpr\": 0.6428571428571429, \"tpr\": 1.0, \"n\": 70}, {\"threshold\": 0.004, \"p\": 136, \"fpr\": 0.6285714285714286, \"tpr\": 1.0, \"n\": 70}, {\"threshold\": 0.005, \"p\": 136, \"fpr\": 0.6142857142857143, \"tpr\": 1.0, \"n\": 70}, {\"threshold\": 0.006, \"p\": 136, \"fpr\": 0.6142857142857143, \"tpr\": 1.0, \"n\": 70}, {\"threshold\": 0.007, \"p\": 136, \"fpr\": 0.6, \"tpr\": 1.0, \"n\": 70}, {\"threshold\": 0.008, \"p\": 136, \"fpr\": 0.5857142857142857, \"tpr\": 1.0, \"n\": 70}, {\"threshold\": 0.009, \"p\": 136, \"fpr\": 0.5428571428571428, \"tpr\": 1.0, \"n\": 70}, {\"threshold\": 0.01, \"p\": 136, \"fpr\": 0.5428571428571428, \"tpr\": 1.0, \"n\": 70}, {\"threshold\": 0.011, \"p\": 136, \"fpr\": 0.5142857142857142, \"tpr\": 1.0, \"n\": 70}, {\"threshold\": 0.012, \"p\": 136, \"fpr\": 0.5142857142857142, \"tpr\": 1.0, \"n\": 70}, {\"threshold\": 0.013, \"p\": 136, \"fpr\": 0.4714285714285714, \"tpr\": 1.0, \"n\": 70}, {\"threshold\": 0.014, \"p\": 136, \"fpr\": 0.38571428571428573, \"tpr\": 1.0, \"n\": 70}, {\"threshold\": 0.015, \"p\": 136, \"fpr\": 0.34285714285714286, \"tpr\": 1.0, \"n\": 70}, {\"threshold\": 0.016, \"p\": 136, \"fpr\": 0.22857142857142856, \"tpr\": 1.0, \"n\": 70}, {\"threshold\": 0.017, \"p\": 136, \"fpr\": 0.2, \"tpr\": 1.0, \"n\": 70}, {\"threshold\": 0.018, \"p\": 136, \"fpr\": 0.17142857142857143, \"tpr\": 1.0, \"n\": 70}, {\"threshold\": 0.019, \"p\": 136, \"fpr\": 0.15714285714285714, \"tpr\": 1.0, \"n\": 70}, {\"threshold\": 0.02, \"p\": 136, \"fpr\": 0.14285714285714285, \"tpr\": 1.0, \"n\": 70}, {\"threshold\": 0.021, \"p\": 136, \"fpr\": 0.14285714285714285, \"tpr\": 1.0, \"n\": 70}, {\"threshold\": 0.022, \"p\": 136, \"fpr\": 0.14285714285714285, \"tpr\": 1.0, \"n\": 70}, {\"threshold\": 0.023, \"p\": 136, \"fpr\": 0.12857142857142856, \"tpr\": 1.0, \"n\": 70}, {\"threshold\": 0.024, \"p\": 136, \"fpr\": 0.12857142857142856, \"tpr\": 1.0, \"n\": 70}, {\"threshold\": 0.025, \"p\": 136, \"fpr\": 0.12857142857142856, \"tpr\": 1.0, \"n\": 70}, {\"threshold\": 0.026, \"p\": 136, \"fpr\": 0.12857142857142856, \"tpr\": 1.0, \"n\": 70}, {\"threshold\": 0.027, \"p\": 136, \"fpr\": 0.12857142857142856, \"tpr\": 1.0, \"n\": 70}, {\"threshold\": 0.028, \"p\": 136, \"fpr\": 0.12857142857142856, \"tpr\": 1.0, \"n\": 70}, {\"threshold\": 0.029, \"p\": 136, \"fpr\": 0.12857142857142856, \"tpr\": 1.0, \"n\": 70}, {\"threshold\": 0.03, \"p\": 136, \"fpr\": 0.12857142857142856, \"tpr\": 1.0, \"n\": 70}, {\"threshold\": 0.031, \"p\": 136, \"fpr\": 0.1, \"tpr\": 1.0, \"n\": 70}, {\"threshold\": 0.032, \"p\": 136, \"fpr\": 0.1, \"tpr\": 1.0, \"n\": 70}, {\"threshold\": 0.033, \"p\": 136, \"fpr\": 0.1, \"tpr\": 1.0, \"n\": 70}, {\"threshold\": 0.034, \"p\": 136, \"fpr\": 0.1, \"tpr\": 1.0, \"n\": 70}, {\"threshold\": 0.035, \"p\": 136, \"fpr\": 0.1, \"tpr\": 1.0, \"n\": 70}, {\"threshold\": 0.036, \"p\": 136, \"fpr\": 0.1, \"tpr\": 1.0, \"n\": 70}, {\"threshold\": 0.037, \"p\": 136, \"fpr\": 0.1, \"tpr\": 1.0, \"n\": 70}, {\"threshold\": 0.038, \"p\": 136, \"fpr\": 0.1, \"tpr\": 1.0, \"n\": 70}, {\"threshold\": 0.039, \"p\": 136, \"fpr\": 0.1, \"tpr\": 1.0, \"n\": 70}, {\"threshold\": 0.04, \"p\": 136, \"fpr\": 0.1, \"tpr\": 1.0, \"n\": 70}, {\"threshold\": 0.041, \"p\": 136, \"fpr\": 0.1, \"tpr\": 1.0, \"n\": 70}, {\"threshold\": 0.042, \"p\": 136, \"fpr\": 0.1, \"tpr\": 1.0, \"n\": 70}, {\"threshold\": 0.043, \"p\": 136, \"fpr\": 0.1, \"tpr\": 1.0, \"n\": 70}, {\"threshold\": 0.044, \"p\": 136, \"fpr\": 0.1, \"tpr\": 1.0, \"n\": 70}, {\"threshold\": 0.045, \"p\": 136, \"fpr\": 0.1, \"tpr\": 1.0, \"n\": 70}, {\"threshold\": 0.046, \"p\": 136, \"fpr\": 0.1, \"tpr\": 1.0, \"n\": 70}, {\"threshold\": 0.047, \"p\": 136, \"fpr\": 0.1, \"tpr\": 1.0, \"n\": 70}, {\"threshold\": 0.048, \"p\": 136, \"fpr\": 0.1, \"tpr\": 1.0, \"n\": 70}, {\"threshold\": 0.049, \"p\": 136, \"fpr\": 0.1, \"tpr\": 1.0, \"n\": 70}, {\"threshold\": 0.05, \"p\": 136, \"fpr\": 0.1, \"tpr\": 1.0, \"n\": 70}, {\"threshold\": 0.051, \"p\": 136, \"fpr\": 0.1, \"tpr\": 1.0, \"n\": 70}, {\"threshold\": 0.052, \"p\": 136, \"fpr\": 0.1, \"tpr\": 1.0, \"n\": 70}, {\"threshold\": 0.053, \"p\": 136, \"fpr\": 0.1, \"tpr\": 1.0, \"n\": 70}, {\"threshold\": 0.054, \"p\": 136, \"fpr\": 0.1, \"tpr\": 1.0, \"n\": 70}, {\"threshold\": 0.055, \"p\": 136, \"fpr\": 0.1, \"tpr\": 1.0, \"n\": 70}, {\"threshold\": 0.056, \"p\": 136, \"fpr\": 0.1, \"tpr\": 1.0, \"n\": 70}, {\"threshold\": 0.057, \"p\": 136, \"fpr\": 0.1, \"tpr\": 1.0, \"n\": 70}, {\"threshold\": 0.058, \"p\": 136, \"fpr\": 0.1, \"tpr\": 1.0, \"n\": 70}, {\"threshold\": 0.059, \"p\": 136, \"fpr\": 0.1, \"tpr\": 1.0, \"n\": 70}, {\"threshold\": 0.06, \"p\": 136, \"fpr\": 0.05714285714285714, \"tpr\": 1.0, \"n\": 70}, {\"threshold\": 0.061, \"p\": 136, \"fpr\": 0.05714285714285714, \"tpr\": 1.0, \"n\": 70}, {\"threshold\": 0.062, \"p\": 136, \"fpr\": 0.05714285714285714, \"tpr\": 1.0, \"n\": 70}, {\"threshold\": 0.063, \"p\": 136, \"fpr\": 0.05714285714285714, \"tpr\": 1.0, \"n\": 70}, {\"threshold\": 0.064, \"p\": 136, \"fpr\": 0.05714285714285714, \"tpr\": 1.0, \"n\": 70}, {\"threshold\": 0.065, \"p\": 136, \"fpr\": 0.05714285714285714, \"tpr\": 1.0, \"n\": 70}, {\"threshold\": 0.066, \"p\": 136, \"fpr\": 0.05714285714285714, \"tpr\": 1.0, \"n\": 70}, {\"threshold\": 0.067, \"p\": 136, \"fpr\": 0.05714285714285714, \"tpr\": 1.0, \"n\": 70}, {\"threshold\": 0.068, \"p\": 136, \"fpr\": 0.05714285714285714, \"tpr\": 1.0, \"n\": 70}, {\"threshold\": 0.069, \"p\": 136, \"fpr\": 0.05714285714285714, \"tpr\": 1.0, \"n\": 70}, {\"threshold\": 0.07, \"p\": 136, \"fpr\": 0.05714285714285714, \"tpr\": 1.0, \"n\": 70}, {\"threshold\": 0.071, \"p\": 136, \"fpr\": 0.05714285714285714, \"tpr\": 1.0, \"n\": 70}, {\"threshold\": 0.072, \"p\": 136, \"fpr\": 0.05714285714285714, \"tpr\": 1.0, \"n\": 70}, {\"threshold\": 0.073, \"p\": 136, \"fpr\": 0.05714285714285714, \"tpr\": 1.0, \"n\": 70}, {\"threshold\": 0.074, \"p\": 136, \"fpr\": 0.05714285714285714, \"tpr\": 1.0, \"n\": 70}, {\"threshold\": 0.075, \"p\": 136, \"fpr\": 0.05714285714285714, \"tpr\": 1.0, \"n\": 70}, {\"threshold\": 0.076, \"p\": 136, \"fpr\": 0.05714285714285714, \"tpr\": 1.0, \"n\": 70}, {\"threshold\": 0.077, \"p\": 136, \"fpr\": 0.05714285714285714, \"tpr\": 1.0, \"n\": 70}, {\"threshold\": 0.078, \"p\": 136, \"fpr\": 0.05714285714285714, \"tpr\": 1.0, \"n\": 70}, {\"threshold\": 0.079, \"p\": 136, \"fpr\": 0.05714285714285714, \"tpr\": 1.0, \"n\": 70}, {\"threshold\": 0.08, \"p\": 136, \"fpr\": 0.05714285714285714, \"tpr\": 1.0, \"n\": 70}, {\"threshold\": 0.081, \"p\": 136, \"fpr\": 0.05714285714285714, \"tpr\": 1.0, \"n\": 70}, {\"threshold\": 0.082, \"p\": 136, \"fpr\": 0.05714285714285714, \"tpr\": 1.0, \"n\": 70}, {\"threshold\": 0.083, \"p\": 136, \"fpr\": 0.05714285714285714, \"tpr\": 1.0, \"n\": 70}, {\"threshold\": 0.084, \"p\": 136, \"fpr\": 0.05714285714285714, \"tpr\": 1.0, \"n\": 70}, {\"threshold\": 0.085, \"p\": 136, \"fpr\": 0.05714285714285714, \"tpr\": 1.0, \"n\": 70}, {\"threshold\": 0.086, \"p\": 136, \"fpr\": 0.05714285714285714, \"tpr\": 1.0, \"n\": 70}, {\"threshold\": 0.087, \"p\": 136, \"fpr\": 0.05714285714285714, \"tpr\": 1.0, \"n\": 70}, {\"threshold\": 0.088, \"p\": 136, \"fpr\": 0.05714285714285714, \"tpr\": 1.0, \"n\": 70}, {\"threshold\": 0.089, \"p\": 136, \"fpr\": 0.05714285714285714, \"tpr\": 1.0, \"n\": 70}, {\"threshold\": 0.09, \"p\": 136, \"fpr\": 0.05714285714285714, \"tpr\": 1.0, \"n\": 70}, {\"threshold\": 0.091, \"p\": 136, \"fpr\": 0.05714285714285714, \"tpr\": 1.0, \"n\": 70}, {\"threshold\": 0.092, \"p\": 136, \"fpr\": 0.05714285714285714, \"tpr\": 1.0, \"n\": 70}, {\"threshold\": 0.093, \"p\": 136, \"fpr\": 0.05714285714285714, \"tpr\": 1.0, \"n\": 70}, {\"threshold\": 0.094, \"p\": 136, \"fpr\": 0.05714285714285714, \"tpr\": 1.0, \"n\": 70}, {\"threshold\": 0.095, \"p\": 136, \"fpr\": 0.05714285714285714, \"tpr\": 1.0, \"n\": 70}, {\"threshold\": 0.096, \"p\": 136, \"fpr\": 0.05714285714285714, \"tpr\": 1.0, \"n\": 70}, {\"threshold\": 0.097, \"p\": 136, \"fpr\": 0.05714285714285714, \"tpr\": 1.0, \"n\": 70}, {\"threshold\": 0.098, \"p\": 136, \"fpr\": 0.05714285714285714, \"tpr\": 1.0, \"n\": 70}, {\"threshold\": 0.099, \"p\": 136, \"fpr\": 0.05714285714285714, \"tpr\": 1.0, \"n\": 70}, {\"threshold\": 0.1, \"p\": 136, \"fpr\": 0.05714285714285714, \"tpr\": 1.0, \"n\": 70}, {\"threshold\": 0.101, \"p\": 136, \"fpr\": 0.05714285714285714, \"tpr\": 1.0, \"n\": 70}, {\"threshold\": 0.102, \"p\": 136, \"fpr\": 0.05714285714285714, \"tpr\": 1.0, \"n\": 70}, {\"threshold\": 0.103, \"p\": 136, \"fpr\": 0.05714285714285714, \"tpr\": 1.0, \"n\": 70}, {\"threshold\": 0.104, \"p\": 136, \"fpr\": 0.05714285714285714, \"tpr\": 1.0, \"n\": 70}, {\"threshold\": 0.105, \"p\": 136, \"fpr\": 0.05714285714285714, \"tpr\": 1.0, \"n\": 70}, {\"threshold\": 0.106, \"p\": 136, \"fpr\": 0.05714285714285714, \"tpr\": 1.0, \"n\": 70}, {\"threshold\": 0.107, \"p\": 136, \"fpr\": 0.05714285714285714, \"tpr\": 1.0, \"n\": 70}, {\"threshold\": 0.108, \"p\": 136, \"fpr\": 0.05714285714285714, \"tpr\": 1.0, \"n\": 70}, {\"threshold\": 0.109, \"p\": 136, \"fpr\": 0.05714285714285714, \"tpr\": 1.0, \"n\": 70}, {\"threshold\": 0.11, \"p\": 136, \"fpr\": 0.05714285714285714, \"tpr\": 1.0, \"n\": 70}, {\"threshold\": 0.111, \"p\": 136, \"fpr\": 0.05714285714285714, \"tpr\": 1.0, \"n\": 70}, {\"threshold\": 0.112, \"p\": 136, \"fpr\": 0.05714285714285714, \"tpr\": 1.0, \"n\": 70}, {\"threshold\": 0.113, \"p\": 136, \"fpr\": 0.05714285714285714, \"tpr\": 1.0, \"n\": 70}, {\"threshold\": 0.114, \"p\": 136, \"fpr\": 0.05714285714285714, \"tpr\": 1.0, \"n\": 70}, {\"threshold\": 0.115, \"p\": 136, \"fpr\": 0.05714285714285714, \"tpr\": 1.0, \"n\": 70}, {\"threshold\": 0.116, \"p\": 136, \"fpr\": 0.05714285714285714, \"tpr\": 1.0, \"n\": 70}, {\"threshold\": 0.117, \"p\": 136, \"fpr\": 0.05714285714285714, \"tpr\": 1.0, \"n\": 70}, {\"threshold\": 0.118, \"p\": 136, \"fpr\": 0.05714285714285714, \"tpr\": 1.0, \"n\": 70}, {\"threshold\": 0.119, \"p\": 136, \"fpr\": 0.05714285714285714, \"tpr\": 1.0, \"n\": 70}, {\"threshold\": 0.12, \"p\": 136, \"fpr\": 0.05714285714285714, \"tpr\": 1.0, \"n\": 70}, {\"threshold\": 0.121, \"p\": 136, \"fpr\": 0.05714285714285714, \"tpr\": 1.0, \"n\": 70}, {\"threshold\": 0.122, \"p\": 136, \"fpr\": 0.05714285714285714, \"tpr\": 1.0, \"n\": 70}, {\"threshold\": 0.123, \"p\": 136, \"fpr\": 0.05714285714285714, \"tpr\": 1.0, \"n\": 70}, {\"threshold\": 0.124, \"p\": 136, \"fpr\": 0.05714285714285714, \"tpr\": 1.0, \"n\": 70}, {\"threshold\": 0.125, \"p\": 136, \"fpr\": 0.05714285714285714, \"tpr\": 1.0, \"n\": 70}, {\"threshold\": 0.126, \"p\": 136, \"fpr\": 0.05714285714285714, \"tpr\": 1.0, \"n\": 70}, {\"threshold\": 0.127, \"p\": 136, \"fpr\": 0.05714285714285714, \"tpr\": 1.0, \"n\": 70}, {\"threshold\": 0.128, \"p\": 136, \"fpr\": 0.05714285714285714, \"tpr\": 1.0, \"n\": 70}, {\"threshold\": 0.129, \"p\": 136, \"fpr\": 0.05714285714285714, \"tpr\": 1.0, \"n\": 70}, {\"threshold\": 0.13, \"p\": 136, \"fpr\": 0.05714285714285714, \"tpr\": 1.0, \"n\": 70}, {\"threshold\": 0.131, \"p\": 136, \"fpr\": 0.05714285714285714, \"tpr\": 1.0, \"n\": 70}, {\"threshold\": 0.132, \"p\": 136, \"fpr\": 0.05714285714285714, \"tpr\": 1.0, \"n\": 70}, {\"threshold\": 0.133, \"p\": 136, \"fpr\": 0.05714285714285714, \"tpr\": 1.0, \"n\": 70}, {\"threshold\": 0.134, \"p\": 136, \"fpr\": 0.05714285714285714, \"tpr\": 1.0, \"n\": 70}, {\"threshold\": 0.135, \"p\": 136, \"fpr\": 0.05714285714285714, \"tpr\": 1.0, \"n\": 70}, {\"threshold\": 0.136, \"p\": 136, \"fpr\": 0.05714285714285714, \"tpr\": 1.0, \"n\": 70}, {\"threshold\": 0.137, \"p\": 136, \"fpr\": 0.05714285714285714, \"tpr\": 1.0, \"n\": 70}, {\"threshold\": 0.138, \"p\": 136, \"fpr\": 0.05714285714285714, \"tpr\": 1.0, \"n\": 70}, {\"threshold\": 0.139, \"p\": 136, \"fpr\": 0.05714285714285714, \"tpr\": 1.0, \"n\": 70}, {\"threshold\": 0.14, \"p\": 136, \"fpr\": 0.05714285714285714, \"tpr\": 1.0, \"n\": 70}, {\"threshold\": 0.141, \"p\": 136, \"fpr\": 0.05714285714285714, \"tpr\": 1.0, \"n\": 70}, {\"threshold\": 0.142, \"p\": 136, \"fpr\": 0.05714285714285714, \"tpr\": 1.0, \"n\": 70}, {\"threshold\": 0.143, \"p\": 136, \"fpr\": 0.05714285714285714, \"tpr\": 1.0, \"n\": 70}, {\"threshold\": 0.144, \"p\": 136, \"fpr\": 0.05714285714285714, \"tpr\": 1.0, \"n\": 70}, {\"threshold\": 0.145, \"p\": 136, \"fpr\": 0.05714285714285714, \"tpr\": 1.0, \"n\": 70}, {\"threshold\": 0.146, \"p\": 136, \"fpr\": 0.05714285714285714, \"tpr\": 1.0, \"n\": 70}, {\"threshold\": 0.147, \"p\": 136, \"fpr\": 0.05714285714285714, \"tpr\": 1.0, \"n\": 70}, {\"threshold\": 0.148, \"p\": 136, \"fpr\": 0.05714285714285714, \"tpr\": 1.0, \"n\": 70}, {\"threshold\": 0.149, \"p\": 136, \"fpr\": 0.05714285714285714, \"tpr\": 1.0, \"n\": 70}, {\"threshold\": 0.15, \"p\": 136, \"fpr\": 0.05714285714285714, \"tpr\": 1.0, \"n\": 70}, {\"threshold\": 0.151, \"p\": 136, \"fpr\": 0.05714285714285714, \"tpr\": 1.0, \"n\": 70}, {\"threshold\": 0.152, \"p\": 136, \"fpr\": 0.05714285714285714, \"tpr\": 1.0, \"n\": 70}, {\"threshold\": 0.153, \"p\": 136, \"fpr\": 0.05714285714285714, \"tpr\": 1.0, \"n\": 70}, {\"threshold\": 0.154, \"p\": 136, \"fpr\": 0.05714285714285714, \"tpr\": 1.0, \"n\": 70}, {\"threshold\": 0.155, \"p\": 136, \"fpr\": 0.05714285714285714, \"tpr\": 1.0, \"n\": 70}, {\"threshold\": 0.156, \"p\": 136, \"fpr\": 0.05714285714285714, \"tpr\": 1.0, \"n\": 70}, {\"threshold\": 0.157, \"p\": 136, \"fpr\": 0.05714285714285714, \"tpr\": 1.0, \"n\": 70}, {\"threshold\": 0.158, \"p\": 136, \"fpr\": 0.05714285714285714, \"tpr\": 1.0, \"n\": 70}, {\"threshold\": 0.159, \"p\": 136, \"fpr\": 0.05714285714285714, \"tpr\": 1.0, \"n\": 70}, {\"threshold\": 0.16, \"p\": 136, \"fpr\": 0.05714285714285714, \"tpr\": 1.0, \"n\": 70}, {\"threshold\": 0.161, \"p\": 136, \"fpr\": 0.05714285714285714, \"tpr\": 1.0, \"n\": 70}, {\"threshold\": 0.162, \"p\": 136, \"fpr\": 0.05714285714285714, \"tpr\": 1.0, \"n\": 70}, {\"threshold\": 0.163, \"p\": 136, \"fpr\": 0.05714285714285714, \"tpr\": 1.0, \"n\": 70}, {\"threshold\": 0.164, \"p\": 136, \"fpr\": 0.05714285714285714, \"tpr\": 1.0, \"n\": 70}, {\"threshold\": 0.165, \"p\": 136, \"fpr\": 0.05714285714285714, \"tpr\": 1.0, \"n\": 70}, {\"threshold\": 0.166, \"p\": 136, \"fpr\": 0.05714285714285714, \"tpr\": 1.0, \"n\": 70}, {\"threshold\": 0.167, \"p\": 136, \"fpr\": 0.05714285714285714, \"tpr\": 1.0, \"n\": 70}, {\"threshold\": 0.168, \"p\": 136, \"fpr\": 0.05714285714285714, \"tpr\": 1.0, \"n\": 70}, {\"threshold\": 0.169, \"p\": 136, \"fpr\": 0.05714285714285714, \"tpr\": 1.0, \"n\": 70}, {\"threshold\": 0.17, \"p\": 136, \"fpr\": 0.05714285714285714, \"tpr\": 1.0, \"n\": 70}, {\"threshold\": 0.171, \"p\": 136, \"fpr\": 0.05714285714285714, \"tpr\": 1.0, \"n\": 70}, {\"threshold\": 0.172, \"p\": 136, \"fpr\": 0.05714285714285714, \"tpr\": 1.0, \"n\": 70}, {\"threshold\": 0.173, \"p\": 136, \"fpr\": 0.05714285714285714, \"tpr\": 1.0, \"n\": 70}, {\"threshold\": 0.174, \"p\": 136, \"fpr\": 0.05714285714285714, \"tpr\": 1.0, \"n\": 70}, {\"threshold\": 0.175, \"p\": 136, \"fpr\": 0.05714285714285714, \"tpr\": 1.0, \"n\": 70}, {\"threshold\": 0.176, \"p\": 136, \"fpr\": 0.05714285714285714, \"tpr\": 1.0, \"n\": 70}, {\"threshold\": 0.177, \"p\": 136, \"fpr\": 0.05714285714285714, \"tpr\": 1.0, \"n\": 70}, {\"threshold\": 0.178, \"p\": 136, \"fpr\": 0.05714285714285714, \"tpr\": 1.0, \"n\": 70}, {\"threshold\": 0.179, \"p\": 136, \"fpr\": 0.05714285714285714, \"tpr\": 1.0, \"n\": 70}, {\"threshold\": 0.18, \"p\": 136, \"fpr\": 0.05714285714285714, \"tpr\": 1.0, \"n\": 70}, {\"threshold\": 0.181, \"p\": 136, \"fpr\": 0.05714285714285714, \"tpr\": 1.0, \"n\": 70}, {\"threshold\": 0.182, \"p\": 136, \"fpr\": 0.05714285714285714, \"tpr\": 1.0, \"n\": 70}, {\"threshold\": 0.183, \"p\": 136, \"fpr\": 0.05714285714285714, \"tpr\": 1.0, \"n\": 70}, {\"threshold\": 0.184, \"p\": 136, \"fpr\": 0.05714285714285714, \"tpr\": 1.0, \"n\": 70}, {\"threshold\": 0.185, \"p\": 136, \"fpr\": 0.05714285714285714, \"tpr\": 1.0, \"n\": 70}, {\"threshold\": 0.186, \"p\": 136, \"fpr\": 0.05714285714285714, \"tpr\": 1.0, \"n\": 70}, {\"threshold\": 0.187, \"p\": 136, \"fpr\": 0.05714285714285714, \"tpr\": 1.0, \"n\": 70}, {\"threshold\": 0.188, \"p\": 136, \"fpr\": 0.05714285714285714, \"tpr\": 1.0, \"n\": 70}, {\"threshold\": 0.189, \"p\": 136, \"fpr\": 0.05714285714285714, \"tpr\": 1.0, \"n\": 70}, {\"threshold\": 0.19, \"p\": 136, \"fpr\": 0.05714285714285714, \"tpr\": 1.0, \"n\": 70}, {\"threshold\": 0.191, \"p\": 136, \"fpr\": 0.05714285714285714, \"tpr\": 1.0, \"n\": 70}, {\"threshold\": 0.192, \"p\": 136, \"fpr\": 0.05714285714285714, \"tpr\": 1.0, \"n\": 70}, {\"threshold\": 0.193, \"p\": 136, \"fpr\": 0.05714285714285714, \"tpr\": 1.0, \"n\": 70}, {\"threshold\": 0.194, \"p\": 136, \"fpr\": 0.05714285714285714, \"tpr\": 1.0, \"n\": 70}, {\"threshold\": 0.195, \"p\": 136, \"fpr\": 0.05714285714285714, \"tpr\": 1.0, \"n\": 70}, {\"threshold\": 0.196, \"p\": 136, \"fpr\": 0.05714285714285714, \"tpr\": 1.0, \"n\": 70}, {\"threshold\": 0.197, \"p\": 136, \"fpr\": 0.05714285714285714, \"tpr\": 1.0, \"n\": 70}, {\"threshold\": 0.198, \"p\": 136, \"fpr\": 0.05714285714285714, \"tpr\": 1.0, \"n\": 70}, {\"threshold\": 0.199, \"p\": 136, \"fpr\": 0.05714285714285714, \"tpr\": 1.0, \"n\": 70}, {\"threshold\": 0.2, \"p\": 136, \"fpr\": 0.05714285714285714, \"tpr\": 1.0, \"n\": 70}, {\"threshold\": 0.201, \"p\": 136, \"fpr\": 0.05714285714285714, \"tpr\": 1.0, \"n\": 70}, {\"threshold\": 0.202, \"p\": 136, \"fpr\": 0.05714285714285714, \"tpr\": 1.0, \"n\": 70}, {\"threshold\": 0.203, \"p\": 136, \"fpr\": 0.05714285714285714, \"tpr\": 1.0, \"n\": 70}, {\"threshold\": 0.204, \"p\": 136, \"fpr\": 0.05714285714285714, \"tpr\": 1.0, \"n\": 70}, {\"threshold\": 0.205, \"p\": 136, \"fpr\": 0.05714285714285714, \"tpr\": 1.0, \"n\": 70}, {\"threshold\": 0.206, \"p\": 136, \"fpr\": 0.05714285714285714, \"tpr\": 1.0, \"n\": 70}, {\"threshold\": 0.207, \"p\": 136, \"fpr\": 0.05714285714285714, \"tpr\": 1.0, \"n\": 70}, {\"threshold\": 0.208, \"p\": 136, \"fpr\": 0.05714285714285714, \"tpr\": 1.0, \"n\": 70}, {\"threshold\": 0.209, \"p\": 136, \"fpr\": 0.05714285714285714, \"tpr\": 1.0, \"n\": 70}, {\"threshold\": 0.21, \"p\": 136, \"fpr\": 0.05714285714285714, \"tpr\": 1.0, \"n\": 70}, {\"threshold\": 0.211, \"p\": 136, \"fpr\": 0.05714285714285714, \"tpr\": 1.0, \"n\": 70}, {\"threshold\": 0.212, \"p\": 136, \"fpr\": 0.05714285714285714, \"tpr\": 1.0, \"n\": 70}, {\"threshold\": 0.213, \"p\": 136, \"fpr\": 0.05714285714285714, \"tpr\": 1.0, \"n\": 70}, {\"threshold\": 0.214, \"p\": 136, \"fpr\": 0.05714285714285714, \"tpr\": 1.0, \"n\": 70}, {\"threshold\": 0.215, \"p\": 136, \"fpr\": 0.05714285714285714, \"tpr\": 1.0, \"n\": 70}, {\"threshold\": 0.216, \"p\": 136, \"fpr\": 0.05714285714285714, \"tpr\": 1.0, \"n\": 70}, {\"threshold\": 0.217, \"p\": 136, \"fpr\": 0.05714285714285714, \"tpr\": 1.0, \"n\": 70}, {\"threshold\": 0.218, \"p\": 136, \"fpr\": 0.05714285714285714, \"tpr\": 1.0, \"n\": 70}, {\"threshold\": 0.219, \"p\": 136, \"fpr\": 0.05714285714285714, \"tpr\": 1.0, \"n\": 70}, {\"threshold\": 0.22, \"p\": 136, \"fpr\": 0.05714285714285714, \"tpr\": 1.0, \"n\": 70}, {\"threshold\": 0.221, \"p\": 136, \"fpr\": 0.05714285714285714, \"tpr\": 1.0, \"n\": 70}, {\"threshold\": 0.222, \"p\": 136, \"fpr\": 0.05714285714285714, \"tpr\": 1.0, \"n\": 70}, {\"threshold\": 0.223, \"p\": 136, \"fpr\": 0.05714285714285714, \"tpr\": 1.0, \"n\": 70}, {\"threshold\": 0.224, \"p\": 136, \"fpr\": 0.05714285714285714, \"tpr\": 1.0, \"n\": 70}, {\"threshold\": 0.225, \"p\": 136, \"fpr\": 0.05714285714285714, \"tpr\": 1.0, \"n\": 70}, {\"threshold\": 0.226, \"p\": 136, \"fpr\": 0.05714285714285714, \"tpr\": 1.0, \"n\": 70}, {\"threshold\": 0.227, \"p\": 136, \"fpr\": 0.05714285714285714, \"tpr\": 1.0, \"n\": 70}, {\"threshold\": 0.228, \"p\": 136, \"fpr\": 0.05714285714285714, \"tpr\": 1.0, \"n\": 70}, {\"threshold\": 0.229, \"p\": 136, \"fpr\": 0.05714285714285714, \"tpr\": 1.0, \"n\": 70}, {\"threshold\": 0.23, \"p\": 136, \"fpr\": 0.05714285714285714, \"tpr\": 1.0, \"n\": 70}, {\"threshold\": 0.231, \"p\": 136, \"fpr\": 0.05714285714285714, \"tpr\": 1.0, \"n\": 70}, {\"threshold\": 0.232, \"p\": 136, \"fpr\": 0.05714285714285714, \"tpr\": 1.0, \"n\": 70}, {\"threshold\": 0.233, \"p\": 136, \"fpr\": 0.05714285714285714, \"tpr\": 1.0, \"n\": 70}, {\"threshold\": 0.234, \"p\": 136, \"fpr\": 0.05714285714285714, \"tpr\": 1.0, \"n\": 70}, {\"threshold\": 0.235, \"p\": 136, \"fpr\": 0.05714285714285714, \"tpr\": 1.0, \"n\": 70}, {\"threshold\": 0.236, \"p\": 136, \"fpr\": 0.05714285714285714, \"tpr\": 1.0, \"n\": 70}, {\"threshold\": 0.237, \"p\": 136, \"fpr\": 0.05714285714285714, \"tpr\": 1.0, \"n\": 70}, {\"threshold\": 0.238, \"p\": 136, \"fpr\": 0.05714285714285714, \"tpr\": 1.0, \"n\": 70}, {\"threshold\": 0.239, \"p\": 136, \"fpr\": 0.05714285714285714, \"tpr\": 1.0, \"n\": 70}, {\"threshold\": 0.24, \"p\": 136, \"fpr\": 0.05714285714285714, \"tpr\": 1.0, \"n\": 70}, {\"threshold\": 0.241, \"p\": 136, \"fpr\": 0.05714285714285714, \"tpr\": 1.0, \"n\": 70}, {\"threshold\": 0.242, \"p\": 136, \"fpr\": 0.05714285714285714, \"tpr\": 1.0, \"n\": 70}, {\"threshold\": 0.243, \"p\": 136, \"fpr\": 0.05714285714285714, \"tpr\": 1.0, \"n\": 70}, {\"threshold\": 0.244, \"p\": 136, \"fpr\": 0.05714285714285714, \"tpr\": 1.0, \"n\": 70}, {\"threshold\": 0.245, \"p\": 136, \"fpr\": 0.05714285714285714, \"tpr\": 1.0, \"n\": 70}, {\"threshold\": 0.246, \"p\": 136, \"fpr\": 0.05714285714285714, \"tpr\": 1.0, \"n\": 70}, {\"threshold\": 0.247, \"p\": 136, \"fpr\": 0.05714285714285714, \"tpr\": 1.0, \"n\": 70}, {\"threshold\": 0.248, \"p\": 136, \"fpr\": 0.05714285714285714, \"tpr\": 1.0, \"n\": 70}, {\"threshold\": 0.249, \"p\": 136, \"fpr\": 0.05714285714285714, \"tpr\": 1.0, \"n\": 70}, {\"threshold\": 0.25, \"p\": 136, \"fpr\": 0.05714285714285714, \"tpr\": 1.0, \"n\": 70}, {\"threshold\": 0.251, \"p\": 136, \"fpr\": 0.05714285714285714, \"tpr\": 1.0, \"n\": 70}, {\"threshold\": 0.252, \"p\": 136, \"fpr\": 0.05714285714285714, \"tpr\": 1.0, \"n\": 70}, {\"threshold\": 0.253, \"p\": 136, \"fpr\": 0.05714285714285714, \"tpr\": 1.0, \"n\": 70}, {\"threshold\": 0.254, \"p\": 136, \"fpr\": 0.05714285714285714, \"tpr\": 1.0, \"n\": 70}, {\"threshold\": 0.255, \"p\": 136, \"fpr\": 0.05714285714285714, \"tpr\": 1.0, \"n\": 70}, {\"threshold\": 0.256, \"p\": 136, \"fpr\": 0.05714285714285714, \"tpr\": 1.0, \"n\": 70}, {\"threshold\": 0.257, \"p\": 136, \"fpr\": 0.05714285714285714, \"tpr\": 1.0, \"n\": 70}, {\"threshold\": 0.258, \"p\": 136, \"fpr\": 0.05714285714285714, \"tpr\": 1.0, \"n\": 70}, {\"threshold\": 0.259, \"p\": 136, \"fpr\": 0.05714285714285714, \"tpr\": 1.0, \"n\": 70}, {\"threshold\": 0.26, \"p\": 136, \"fpr\": 0.05714285714285714, \"tpr\": 1.0, \"n\": 70}, {\"threshold\": 0.261, \"p\": 136, \"fpr\": 0.05714285714285714, \"tpr\": 1.0, \"n\": 70}, {\"threshold\": 0.262, \"p\": 136, \"fpr\": 0.05714285714285714, \"tpr\": 1.0, \"n\": 70}, {\"threshold\": 0.263, \"p\": 136, \"fpr\": 0.05714285714285714, \"tpr\": 1.0, \"n\": 70}, {\"threshold\": 0.264, \"p\": 136, \"fpr\": 0.05714285714285714, \"tpr\": 1.0, \"n\": 70}, {\"threshold\": 0.265, \"p\": 136, \"fpr\": 0.05714285714285714, \"tpr\": 1.0, \"n\": 70}, {\"threshold\": 0.266, \"p\": 136, \"fpr\": 0.05714285714285714, \"tpr\": 1.0, \"n\": 70}, {\"threshold\": 0.267, \"p\": 136, \"fpr\": 0.05714285714285714, \"tpr\": 1.0, \"n\": 70}, {\"threshold\": 0.268, \"p\": 136, \"fpr\": 0.05714285714285714, \"tpr\": 1.0, \"n\": 70}, {\"threshold\": 0.269, \"p\": 136, \"fpr\": 0.05714285714285714, \"tpr\": 1.0, \"n\": 70}, {\"threshold\": 0.27, \"p\": 136, \"fpr\": 0.05714285714285714, \"tpr\": 1.0, \"n\": 70}, {\"threshold\": 0.271, \"p\": 136, \"fpr\": 0.05714285714285714, \"tpr\": 1.0, \"n\": 70}, {\"threshold\": 0.272, \"p\": 136, \"fpr\": 0.05714285714285714, \"tpr\": 1.0, \"n\": 70}, {\"threshold\": 0.273, \"p\": 136, \"fpr\": 0.05714285714285714, \"tpr\": 1.0, \"n\": 70}, {\"threshold\": 0.274, \"p\": 136, \"fpr\": 0.05714285714285714, \"tpr\": 1.0, \"n\": 70}, {\"threshold\": 0.275, \"p\": 136, \"fpr\": 0.05714285714285714, \"tpr\": 1.0, \"n\": 70}, {\"threshold\": 0.276, \"p\": 136, \"fpr\": 0.05714285714285714, \"tpr\": 1.0, \"n\": 70}, {\"threshold\": 0.277, \"p\": 136, \"fpr\": 0.05714285714285714, \"tpr\": 1.0, \"n\": 70}, {\"threshold\": 0.278, \"p\": 136, \"fpr\": 0.05714285714285714, \"tpr\": 1.0, \"n\": 70}, {\"threshold\": 0.279, \"p\": 136, \"fpr\": 0.05714285714285714, \"tpr\": 1.0, \"n\": 70}, {\"threshold\": 0.28, \"p\": 136, \"fpr\": 0.05714285714285714, \"tpr\": 1.0, \"n\": 70}, {\"threshold\": 0.281, \"p\": 136, \"fpr\": 0.05714285714285714, \"tpr\": 1.0, \"n\": 70}, {\"threshold\": 0.282, \"p\": 136, \"fpr\": 0.05714285714285714, \"tpr\": 1.0, \"n\": 70}, {\"threshold\": 0.283, \"p\": 136, \"fpr\": 0.05714285714285714, \"tpr\": 1.0, \"n\": 70}, {\"threshold\": 0.284, \"p\": 136, \"fpr\": 0.05714285714285714, \"tpr\": 1.0, \"n\": 70}, {\"threshold\": 0.285, \"p\": 136, \"fpr\": 0.05714285714285714, \"tpr\": 1.0, \"n\": 70}, {\"threshold\": 0.286, \"p\": 136, \"fpr\": 0.05714285714285714, \"tpr\": 1.0, \"n\": 70}, {\"threshold\": 0.287, \"p\": 136, \"fpr\": 0.05714285714285714, \"tpr\": 1.0, \"n\": 70}, {\"threshold\": 0.288, \"p\": 136, \"fpr\": 0.05714285714285714, \"tpr\": 1.0, \"n\": 70}, {\"threshold\": 0.289, \"p\": 136, \"fpr\": 0.05714285714285714, \"tpr\": 1.0, \"n\": 70}, {\"threshold\": 0.29, \"p\": 136, \"fpr\": 0.05714285714285714, \"tpr\": 1.0, \"n\": 70}, {\"threshold\": 0.291, \"p\": 136, \"fpr\": 0.05714285714285714, \"tpr\": 1.0, \"n\": 70}, {\"threshold\": 0.292, \"p\": 136, \"fpr\": 0.05714285714285714, \"tpr\": 1.0, \"n\": 70}, {\"threshold\": 0.293, \"p\": 136, \"fpr\": 0.05714285714285714, \"tpr\": 1.0, \"n\": 70}, {\"threshold\": 0.294, \"p\": 136, \"fpr\": 0.05714285714285714, \"tpr\": 1.0, \"n\": 70}, {\"threshold\": 0.295, \"p\": 136, \"fpr\": 0.05714285714285714, \"tpr\": 1.0, \"n\": 70}, {\"threshold\": 0.296, \"p\": 136, \"fpr\": 0.05714285714285714, \"tpr\": 1.0, \"n\": 70}, {\"threshold\": 0.297, \"p\": 136, \"fpr\": 0.05714285714285714, \"tpr\": 1.0, \"n\": 70}, {\"threshold\": 0.298, \"p\": 136, \"fpr\": 0.05714285714285714, \"tpr\": 1.0, \"n\": 70}, {\"threshold\": 0.299, \"p\": 136, \"fpr\": 0.05714285714285714, \"tpr\": 1.0, \"n\": 70}, {\"threshold\": 0.3, \"p\": 136, \"fpr\": 0.05714285714285714, \"tpr\": 1.0, \"n\": 70}, {\"threshold\": 0.301, \"p\": 136, \"fpr\": 0.05714285714285714, \"tpr\": 1.0, \"n\": 70}, {\"threshold\": 0.302, \"p\": 136, \"fpr\": 0.05714285714285714, \"tpr\": 1.0, \"n\": 70}, {\"threshold\": 0.303, \"p\": 136, \"fpr\": 0.05714285714285714, \"tpr\": 1.0, \"n\": 70}, {\"threshold\": 0.304, \"p\": 136, \"fpr\": 0.05714285714285714, \"tpr\": 1.0, \"n\": 70}, {\"threshold\": 0.305, \"p\": 136, \"fpr\": 0.05714285714285714, \"tpr\": 1.0, \"n\": 70}, {\"threshold\": 0.306, \"p\": 136, \"fpr\": 0.05714285714285714, \"tpr\": 1.0, \"n\": 70}, {\"threshold\": 0.307, \"p\": 136, \"fpr\": 0.05714285714285714, \"tpr\": 1.0, \"n\": 70}, {\"threshold\": 0.308, \"p\": 136, \"fpr\": 0.05714285714285714, \"tpr\": 1.0, \"n\": 70}, {\"threshold\": 0.309, \"p\": 136, \"fpr\": 0.05714285714285714, \"tpr\": 1.0, \"n\": 70}, {\"threshold\": 0.31, \"p\": 136, \"fpr\": 0.05714285714285714, \"tpr\": 1.0, \"n\": 70}, {\"threshold\": 0.311, \"p\": 136, \"fpr\": 0.05714285714285714, \"tpr\": 1.0, \"n\": 70}, {\"threshold\": 0.312, \"p\": 136, \"fpr\": 0.05714285714285714, \"tpr\": 1.0, \"n\": 70}, {\"threshold\": 0.313, \"p\": 136, \"fpr\": 0.05714285714285714, \"tpr\": 1.0, \"n\": 70}, {\"threshold\": 0.314, \"p\": 136, \"fpr\": 0.05714285714285714, \"tpr\": 1.0, \"n\": 70}, {\"threshold\": 0.315, \"p\": 136, \"fpr\": 0.05714285714285714, \"tpr\": 1.0, \"n\": 70}, {\"threshold\": 0.316, \"p\": 136, \"fpr\": 0.05714285714285714, \"tpr\": 1.0, \"n\": 70}, {\"threshold\": 0.317, \"p\": 136, \"fpr\": 0.05714285714285714, \"tpr\": 1.0, \"n\": 70}, {\"threshold\": 0.318, \"p\": 136, \"fpr\": 0.05714285714285714, \"tpr\": 1.0, \"n\": 70}, {\"threshold\": 0.319, \"p\": 136, \"fpr\": 0.05714285714285714, \"tpr\": 1.0, \"n\": 70}, {\"threshold\": 0.32, \"p\": 136, \"fpr\": 0.05714285714285714, \"tpr\": 1.0, \"n\": 70}, {\"threshold\": 0.321, \"p\": 136, \"fpr\": 0.05714285714285714, \"tpr\": 1.0, \"n\": 70}, {\"threshold\": 0.322, \"p\": 136, \"fpr\": 0.05714285714285714, \"tpr\": 1.0, \"n\": 70}, {\"threshold\": 0.323, \"p\": 136, \"fpr\": 0.05714285714285714, \"tpr\": 1.0, \"n\": 70}, {\"threshold\": 0.324, \"p\": 136, \"fpr\": 0.05714285714285714, \"tpr\": 1.0, \"n\": 70}, {\"threshold\": 0.325, \"p\": 136, \"fpr\": 0.05714285714285714, \"tpr\": 1.0, \"n\": 70}, {\"threshold\": 0.326, \"p\": 136, \"fpr\": 0.05714285714285714, \"tpr\": 1.0, \"n\": 70}, {\"threshold\": 0.327, \"p\": 136, \"fpr\": 0.05714285714285714, \"tpr\": 1.0, \"n\": 70}, {\"threshold\": 0.328, \"p\": 136, \"fpr\": 0.05714285714285714, \"tpr\": 1.0, \"n\": 70}, {\"threshold\": 0.329, \"p\": 136, \"fpr\": 0.05714285714285714, \"tpr\": 1.0, \"n\": 70}, {\"threshold\": 0.33, \"p\": 136, \"fpr\": 0.05714285714285714, \"tpr\": 1.0, \"n\": 70}, {\"threshold\": 0.331, \"p\": 136, \"fpr\": 0.05714285714285714, \"tpr\": 1.0, \"n\": 70}, {\"threshold\": 0.332, \"p\": 136, \"fpr\": 0.05714285714285714, \"tpr\": 1.0, \"n\": 70}, {\"threshold\": 0.333, \"p\": 136, \"fpr\": 0.05714285714285714, \"tpr\": 1.0, \"n\": 70}, {\"threshold\": 0.334, \"p\": 136, \"fpr\": 0.05714285714285714, \"tpr\": 1.0, \"n\": 70}, {\"threshold\": 0.335, \"p\": 136, \"fpr\": 0.05714285714285714, \"tpr\": 1.0, \"n\": 70}, {\"threshold\": 0.336, \"p\": 136, \"fpr\": 0.05714285714285714, \"tpr\": 1.0, \"n\": 70}, {\"threshold\": 0.337, \"p\": 136, \"fpr\": 0.05714285714285714, \"tpr\": 1.0, \"n\": 70}, {\"threshold\": 0.338, \"p\": 136, \"fpr\": 0.05714285714285714, \"tpr\": 1.0, \"n\": 70}, {\"threshold\": 0.339, \"p\": 136, \"fpr\": 0.05714285714285714, \"tpr\": 1.0, \"n\": 70}, {\"threshold\": 0.34, \"p\": 136, \"fpr\": 0.05714285714285714, \"tpr\": 1.0, \"n\": 70}, {\"threshold\": 0.341, \"p\": 136, \"fpr\": 0.05714285714285714, \"tpr\": 1.0, \"n\": 70}, {\"threshold\": 0.342, \"p\": 136, \"fpr\": 0.05714285714285714, \"tpr\": 1.0, \"n\": 70}, {\"threshold\": 0.343, \"p\": 136, \"fpr\": 0.05714285714285714, \"tpr\": 1.0, \"n\": 70}, {\"threshold\": 0.344, \"p\": 136, \"fpr\": 0.05714285714285714, \"tpr\": 1.0, \"n\": 70}, {\"threshold\": 0.345, \"p\": 136, \"fpr\": 0.05714285714285714, \"tpr\": 1.0, \"n\": 70}, {\"threshold\": 0.346, \"p\": 136, \"fpr\": 0.05714285714285714, \"tpr\": 1.0, \"n\": 70}, {\"threshold\": 0.347, \"p\": 136, \"fpr\": 0.05714285714285714, \"tpr\": 1.0, \"n\": 70}, {\"threshold\": 0.348, \"p\": 136, \"fpr\": 0.05714285714285714, \"tpr\": 1.0, \"n\": 70}, {\"threshold\": 0.349, \"p\": 136, \"fpr\": 0.05714285714285714, \"tpr\": 1.0, \"n\": 70}, {\"threshold\": 0.35, \"p\": 136, \"fpr\": 0.05714285714285714, \"tpr\": 1.0, \"n\": 70}, {\"threshold\": 0.351, \"p\": 136, \"fpr\": 0.05714285714285714, \"tpr\": 1.0, \"n\": 70}, {\"threshold\": 0.352, \"p\": 136, \"fpr\": 0.05714285714285714, \"tpr\": 1.0, \"n\": 70}, {\"threshold\": 0.353, \"p\": 136, \"fpr\": 0.05714285714285714, \"tpr\": 1.0, \"n\": 70}, {\"threshold\": 0.354, \"p\": 136, \"fpr\": 0.05714285714285714, \"tpr\": 1.0, \"n\": 70}, {\"threshold\": 0.355, \"p\": 136, \"fpr\": 0.05714285714285714, \"tpr\": 1.0, \"n\": 70}, {\"threshold\": 0.356, \"p\": 136, \"fpr\": 0.05714285714285714, \"tpr\": 1.0, \"n\": 70}, {\"threshold\": 0.357, \"p\": 136, \"fpr\": 0.05714285714285714, \"tpr\": 1.0, \"n\": 70}, {\"threshold\": 0.358, \"p\": 136, \"fpr\": 0.05714285714285714, \"tpr\": 1.0, \"n\": 70}, {\"threshold\": 0.359, \"p\": 136, \"fpr\": 0.05714285714285714, \"tpr\": 1.0, \"n\": 70}, {\"threshold\": 0.36, \"p\": 136, \"fpr\": 0.05714285714285714, \"tpr\": 1.0, \"n\": 70}, {\"threshold\": 0.361, \"p\": 136, \"fpr\": 0.05714285714285714, \"tpr\": 0.9926470588235294, \"n\": 70}, {\"threshold\": 0.362, \"p\": 136, \"fpr\": 0.05714285714285714, \"tpr\": 0.9926470588235294, \"n\": 70}, {\"threshold\": 0.363, \"p\": 136, \"fpr\": 0.05714285714285714, \"tpr\": 0.9926470588235294, \"n\": 70}, {\"threshold\": 0.364, \"p\": 136, \"fpr\": 0.05714285714285714, \"tpr\": 0.9926470588235294, \"n\": 70}, {\"threshold\": 0.365, \"p\": 136, \"fpr\": 0.05714285714285714, \"tpr\": 0.9926470588235294, \"n\": 70}, {\"threshold\": 0.366, \"p\": 136, \"fpr\": 0.05714285714285714, \"tpr\": 0.9926470588235294, \"n\": 70}, {\"threshold\": 0.367, \"p\": 136, \"fpr\": 0.05714285714285714, \"tpr\": 0.9926470588235294, \"n\": 70}, {\"threshold\": 0.368, \"p\": 136, \"fpr\": 0.05714285714285714, \"tpr\": 0.9926470588235294, \"n\": 70}, {\"threshold\": 0.369, \"p\": 136, \"fpr\": 0.05714285714285714, \"tpr\": 0.9926470588235294, \"n\": 70}, {\"threshold\": 0.37, \"p\": 136, \"fpr\": 0.05714285714285714, \"tpr\": 0.9926470588235294, \"n\": 70}, {\"threshold\": 0.371, \"p\": 136, \"fpr\": 0.05714285714285714, \"tpr\": 0.9926470588235294, \"n\": 70}, {\"threshold\": 0.372, \"p\": 136, \"fpr\": 0.05714285714285714, \"tpr\": 0.9926470588235294, \"n\": 70}, {\"threshold\": 0.373, \"p\": 136, \"fpr\": 0.05714285714285714, \"tpr\": 0.9926470588235294, \"n\": 70}, {\"threshold\": 0.374, \"p\": 136, \"fpr\": 0.05714285714285714, \"tpr\": 0.9926470588235294, \"n\": 70}, {\"threshold\": 0.375, \"p\": 136, \"fpr\": 0.05714285714285714, \"tpr\": 0.9926470588235294, \"n\": 70}, {\"threshold\": 0.376, \"p\": 136, \"fpr\": 0.05714285714285714, \"tpr\": 0.9926470588235294, \"n\": 70}, {\"threshold\": 0.377, \"p\": 136, \"fpr\": 0.05714285714285714, \"tpr\": 0.9926470588235294, \"n\": 70}, {\"threshold\": 0.378, \"p\": 136, \"fpr\": 0.05714285714285714, \"tpr\": 0.9926470588235294, \"n\": 70}, {\"threshold\": 0.379, \"p\": 136, \"fpr\": 0.05714285714285714, \"tpr\": 0.9926470588235294, \"n\": 70}, {\"threshold\": 0.38, \"p\": 136, \"fpr\": 0.05714285714285714, \"tpr\": 0.9926470588235294, \"n\": 70}, {\"threshold\": 0.381, \"p\": 136, \"fpr\": 0.05714285714285714, \"tpr\": 0.9926470588235294, \"n\": 70}, {\"threshold\": 0.382, \"p\": 136, \"fpr\": 0.05714285714285714, \"tpr\": 0.9926470588235294, \"n\": 70}, {\"threshold\": 0.383, \"p\": 136, \"fpr\": 0.05714285714285714, \"tpr\": 0.9926470588235294, \"n\": 70}, {\"threshold\": 0.384, \"p\": 136, \"fpr\": 0.05714285714285714, \"tpr\": 0.9926470588235294, \"n\": 70}, {\"threshold\": 0.385, \"p\": 136, \"fpr\": 0.05714285714285714, \"tpr\": 0.9926470588235294, \"n\": 70}, {\"threshold\": 0.386, \"p\": 136, \"fpr\": 0.05714285714285714, \"tpr\": 0.9926470588235294, \"n\": 70}, {\"threshold\": 0.387, \"p\": 136, \"fpr\": 0.05714285714285714, \"tpr\": 0.9926470588235294, \"n\": 70}, {\"threshold\": 0.388, \"p\": 136, \"fpr\": 0.05714285714285714, \"tpr\": 0.9926470588235294, \"n\": 70}, {\"threshold\": 0.389, \"p\": 136, \"fpr\": 0.05714285714285714, \"tpr\": 0.9926470588235294, \"n\": 70}, {\"threshold\": 0.39, \"p\": 136, \"fpr\": 0.05714285714285714, \"tpr\": 0.9926470588235294, \"n\": 70}, {\"threshold\": 0.391, \"p\": 136, \"fpr\": 0.05714285714285714, \"tpr\": 0.9926470588235294, \"n\": 70}, {\"threshold\": 0.392, \"p\": 136, \"fpr\": 0.04285714285714286, \"tpr\": 0.9926470588235294, \"n\": 70}, {\"threshold\": 0.393, \"p\": 136, \"fpr\": 0.04285714285714286, \"tpr\": 0.9926470588235294, \"n\": 70}, {\"threshold\": 0.394, \"p\": 136, \"fpr\": 0.04285714285714286, \"tpr\": 0.9926470588235294, \"n\": 70}, {\"threshold\": 0.395, \"p\": 136, \"fpr\": 0.04285714285714286, \"tpr\": 0.9926470588235294, \"n\": 70}, {\"threshold\": 0.396, \"p\": 136, \"fpr\": 0.04285714285714286, \"tpr\": 0.9926470588235294, \"n\": 70}, {\"threshold\": 0.397, \"p\": 136, \"fpr\": 0.04285714285714286, \"tpr\": 0.9926470588235294, \"n\": 70}, {\"threshold\": 0.398, \"p\": 136, \"fpr\": 0.04285714285714286, \"tpr\": 0.9926470588235294, \"n\": 70}, {\"threshold\": 0.399, \"p\": 136, \"fpr\": 0.04285714285714286, \"tpr\": 0.9926470588235294, \"n\": 70}, {\"threshold\": 0.4, \"p\": 136, \"fpr\": 0.04285714285714286, \"tpr\": 0.9926470588235294, \"n\": 70}, {\"threshold\": 0.401, \"p\": 136, \"fpr\": 0.04285714285714286, \"tpr\": 0.9926470588235294, \"n\": 70}, {\"threshold\": 0.402, \"p\": 136, \"fpr\": 0.04285714285714286, \"tpr\": 0.9926470588235294, \"n\": 70}, {\"threshold\": 0.403, \"p\": 136, \"fpr\": 0.04285714285714286, \"tpr\": 0.9926470588235294, \"n\": 70}, {\"threshold\": 0.404, \"p\": 136, \"fpr\": 0.04285714285714286, \"tpr\": 0.9926470588235294, \"n\": 70}, {\"threshold\": 0.405, \"p\": 136, \"fpr\": 0.04285714285714286, \"tpr\": 0.9926470588235294, \"n\": 70}, {\"threshold\": 0.406, \"p\": 136, \"fpr\": 0.04285714285714286, \"tpr\": 0.9926470588235294, \"n\": 70}, {\"threshold\": 0.407, \"p\": 136, \"fpr\": 0.04285714285714286, \"tpr\": 0.9926470588235294, \"n\": 70}, {\"threshold\": 0.408, \"p\": 136, \"fpr\": 0.04285714285714286, \"tpr\": 0.9926470588235294, \"n\": 70}, {\"threshold\": 0.409, \"p\": 136, \"fpr\": 0.04285714285714286, \"tpr\": 0.9926470588235294, \"n\": 70}, {\"threshold\": 0.41, \"p\": 136, \"fpr\": 0.04285714285714286, \"tpr\": 0.9926470588235294, \"n\": 70}, {\"threshold\": 0.411, \"p\": 136, \"fpr\": 0.04285714285714286, \"tpr\": 0.9926470588235294, \"n\": 70}, {\"threshold\": 0.412, \"p\": 136, \"fpr\": 0.04285714285714286, \"tpr\": 0.9926470588235294, \"n\": 70}, {\"threshold\": 0.413, \"p\": 136, \"fpr\": 0.04285714285714286, \"tpr\": 0.9926470588235294, \"n\": 70}, {\"threshold\": 0.414, \"p\": 136, \"fpr\": 0.04285714285714286, \"tpr\": 0.9926470588235294, \"n\": 70}, {\"threshold\": 0.415, \"p\": 136, \"fpr\": 0.04285714285714286, \"tpr\": 0.9926470588235294, \"n\": 70}, {\"threshold\": 0.416, \"p\": 136, \"fpr\": 0.04285714285714286, \"tpr\": 0.9926470588235294, \"n\": 70}, {\"threshold\": 0.417, \"p\": 136, \"fpr\": 0.04285714285714286, \"tpr\": 0.9926470588235294, \"n\": 70}, {\"threshold\": 0.418, \"p\": 136, \"fpr\": 0.04285714285714286, \"tpr\": 0.9926470588235294, \"n\": 70}, {\"threshold\": 0.419, \"p\": 136, \"fpr\": 0.04285714285714286, \"tpr\": 0.9926470588235294, \"n\": 70}, {\"threshold\": 0.42, \"p\": 136, \"fpr\": 0.04285714285714286, \"tpr\": 0.9926470588235294, \"n\": 70}, {\"threshold\": 0.421, \"p\": 136, \"fpr\": 0.04285714285714286, \"tpr\": 0.9926470588235294, \"n\": 70}, {\"threshold\": 0.422, \"p\": 136, \"fpr\": 0.04285714285714286, \"tpr\": 0.9926470588235294, \"n\": 70}, {\"threshold\": 0.423, \"p\": 136, \"fpr\": 0.04285714285714286, \"tpr\": 0.9926470588235294, \"n\": 70}, {\"threshold\": 0.424, \"p\": 136, \"fpr\": 0.04285714285714286, \"tpr\": 0.9926470588235294, \"n\": 70}, {\"threshold\": 0.425, \"p\": 136, \"fpr\": 0.04285714285714286, \"tpr\": 0.9926470588235294, \"n\": 70}, {\"threshold\": 0.426, \"p\": 136, \"fpr\": 0.04285714285714286, \"tpr\": 0.9926470588235294, \"n\": 70}, {\"threshold\": 0.427, \"p\": 136, \"fpr\": 0.04285714285714286, \"tpr\": 0.9926470588235294, \"n\": 70}, {\"threshold\": 0.428, \"p\": 136, \"fpr\": 0.04285714285714286, \"tpr\": 0.9926470588235294, \"n\": 70}, {\"threshold\": 0.429, \"p\": 136, \"fpr\": 0.04285714285714286, \"tpr\": 0.9926470588235294, \"n\": 70}, {\"threshold\": 0.43, \"p\": 136, \"fpr\": 0.04285714285714286, \"tpr\": 0.9926470588235294, \"n\": 70}, {\"threshold\": 0.431, \"p\": 136, \"fpr\": 0.04285714285714286, \"tpr\": 0.9926470588235294, \"n\": 70}, {\"threshold\": 0.432, \"p\": 136, \"fpr\": 0.04285714285714286, \"tpr\": 0.9926470588235294, \"n\": 70}, {\"threshold\": 0.433, \"p\": 136, \"fpr\": 0.04285714285714286, \"tpr\": 0.9926470588235294, \"n\": 70}, {\"threshold\": 0.434, \"p\": 136, \"fpr\": 0.04285714285714286, \"tpr\": 0.9926470588235294, \"n\": 70}, {\"threshold\": 0.435, \"p\": 136, \"fpr\": 0.04285714285714286, \"tpr\": 0.9926470588235294, \"n\": 70}, {\"threshold\": 0.436, \"p\": 136, \"fpr\": 0.04285714285714286, \"tpr\": 0.9926470588235294, \"n\": 70}, {\"threshold\": 0.437, \"p\": 136, \"fpr\": 0.04285714285714286, \"tpr\": 0.9926470588235294, \"n\": 70}, {\"threshold\": 0.438, \"p\": 136, \"fpr\": 0.04285714285714286, \"tpr\": 0.9926470588235294, \"n\": 70}, {\"threshold\": 0.439, \"p\": 136, \"fpr\": 0.04285714285714286, \"tpr\": 0.9926470588235294, \"n\": 70}, {\"threshold\": 0.44, \"p\": 136, \"fpr\": 0.04285714285714286, \"tpr\": 0.9926470588235294, \"n\": 70}, {\"threshold\": 0.441, \"p\": 136, \"fpr\": 0.04285714285714286, \"tpr\": 0.9926470588235294, \"n\": 70}, {\"threshold\": 0.442, \"p\": 136, \"fpr\": 0.04285714285714286, \"tpr\": 0.9926470588235294, \"n\": 70}, {\"threshold\": 0.443, \"p\": 136, \"fpr\": 0.04285714285714286, \"tpr\": 0.9926470588235294, \"n\": 70}, {\"threshold\": 0.444, \"p\": 136, \"fpr\": 0.04285714285714286, \"tpr\": 0.9926470588235294, \"n\": 70}, {\"threshold\": 0.445, \"p\": 136, \"fpr\": 0.04285714285714286, \"tpr\": 0.9926470588235294, \"n\": 70}, {\"threshold\": 0.446, \"p\": 136, \"fpr\": 0.04285714285714286, \"tpr\": 0.9926470588235294, \"n\": 70}, {\"threshold\": 0.447, \"p\": 136, \"fpr\": 0.04285714285714286, \"tpr\": 0.9926470588235294, \"n\": 70}, {\"threshold\": 0.448, \"p\": 136, \"fpr\": 0.04285714285714286, \"tpr\": 0.9926470588235294, \"n\": 70}, {\"threshold\": 0.449, \"p\": 136, \"fpr\": 0.04285714285714286, \"tpr\": 0.9926470588235294, \"n\": 70}, {\"threshold\": 0.45, \"p\": 136, \"fpr\": 0.04285714285714286, \"tpr\": 0.9926470588235294, \"n\": 70}, {\"threshold\": 0.451, \"p\": 136, \"fpr\": 0.04285714285714286, \"tpr\": 0.9926470588235294, \"n\": 70}, {\"threshold\": 0.452, \"p\": 136, \"fpr\": 0.04285714285714286, \"tpr\": 0.9926470588235294, \"n\": 70}, {\"threshold\": 0.453, \"p\": 136, \"fpr\": 0.04285714285714286, \"tpr\": 0.9926470588235294, \"n\": 70}, {\"threshold\": 0.454, \"p\": 136, \"fpr\": 0.04285714285714286, \"tpr\": 0.9926470588235294, \"n\": 70}, {\"threshold\": 0.455, \"p\": 136, \"fpr\": 0.04285714285714286, \"tpr\": 0.9926470588235294, \"n\": 70}, {\"threshold\": 0.456, \"p\": 136, \"fpr\": 0.04285714285714286, \"tpr\": 0.9926470588235294, \"n\": 70}, {\"threshold\": 0.457, \"p\": 136, \"fpr\": 0.04285714285714286, \"tpr\": 0.9926470588235294, \"n\": 70}, {\"threshold\": 0.458, \"p\": 136, \"fpr\": 0.04285714285714286, \"tpr\": 0.9926470588235294, \"n\": 70}, {\"threshold\": 0.459, \"p\": 136, \"fpr\": 0.04285714285714286, \"tpr\": 0.9926470588235294, \"n\": 70}, {\"threshold\": 0.46, \"p\": 136, \"fpr\": 0.04285714285714286, \"tpr\": 0.9926470588235294, \"n\": 70}, {\"threshold\": 0.461, \"p\": 136, \"fpr\": 0.04285714285714286, \"tpr\": 0.9926470588235294, \"n\": 70}, {\"threshold\": 0.462, \"p\": 136, \"fpr\": 0.04285714285714286, \"tpr\": 0.9926470588235294, \"n\": 70}, {\"threshold\": 0.463, \"p\": 136, \"fpr\": 0.04285714285714286, \"tpr\": 0.9926470588235294, \"n\": 70}, {\"threshold\": 0.464, \"p\": 136, \"fpr\": 0.04285714285714286, \"tpr\": 0.9926470588235294, \"n\": 70}, {\"threshold\": 0.465, \"p\": 136, \"fpr\": 0.04285714285714286, \"tpr\": 0.9926470588235294, \"n\": 70}, {\"threshold\": 0.466, \"p\": 136, \"fpr\": 0.04285714285714286, \"tpr\": 0.9926470588235294, \"n\": 70}, {\"threshold\": 0.467, \"p\": 136, \"fpr\": 0.04285714285714286, \"tpr\": 0.9926470588235294, \"n\": 70}, {\"threshold\": 0.468, \"p\": 136, \"fpr\": 0.04285714285714286, \"tpr\": 0.9926470588235294, \"n\": 70}, {\"threshold\": 0.469, \"p\": 136, \"fpr\": 0.04285714285714286, \"tpr\": 0.9926470588235294, \"n\": 70}, {\"threshold\": 0.47, \"p\": 136, \"fpr\": 0.04285714285714286, \"tpr\": 0.9926470588235294, \"n\": 70}, {\"threshold\": 0.471, \"p\": 136, \"fpr\": 0.04285714285714286, \"tpr\": 0.9926470588235294, \"n\": 70}, {\"threshold\": 0.472, \"p\": 136, \"fpr\": 0.04285714285714286, \"tpr\": 0.9926470588235294, \"n\": 70}, {\"threshold\": 0.473, \"p\": 136, \"fpr\": 0.04285714285714286, \"tpr\": 0.9926470588235294, \"n\": 70}, {\"threshold\": 0.474, \"p\": 136, \"fpr\": 0.04285714285714286, \"tpr\": 0.9926470588235294, \"n\": 70}, {\"threshold\": 0.475, \"p\": 136, \"fpr\": 0.04285714285714286, \"tpr\": 0.9926470588235294, \"n\": 70}, {\"threshold\": 0.476, \"p\": 136, \"fpr\": 0.04285714285714286, \"tpr\": 0.9926470588235294, \"n\": 70}, {\"threshold\": 0.477, \"p\": 136, \"fpr\": 0.04285714285714286, \"tpr\": 0.9926470588235294, \"n\": 70}, {\"threshold\": 0.478, \"p\": 136, \"fpr\": 0.04285714285714286, \"tpr\": 0.9926470588235294, \"n\": 70}, {\"threshold\": 0.479, \"p\": 136, \"fpr\": 0.04285714285714286, \"tpr\": 0.9926470588235294, \"n\": 70}, {\"threshold\": 0.48, \"p\": 136, \"fpr\": 0.04285714285714286, \"tpr\": 0.9926470588235294, \"n\": 70}, {\"threshold\": 0.481, \"p\": 136, \"fpr\": 0.04285714285714286, \"tpr\": 0.9926470588235294, \"n\": 70}, {\"threshold\": 0.482, \"p\": 136, \"fpr\": 0.04285714285714286, \"tpr\": 0.9926470588235294, \"n\": 70}, {\"threshold\": 0.483, \"p\": 136, \"fpr\": 0.04285714285714286, \"tpr\": 0.9926470588235294, \"n\": 70}, {\"threshold\": 0.484, \"p\": 136, \"fpr\": 0.04285714285714286, \"tpr\": 0.9926470588235294, \"n\": 70}, {\"threshold\": 0.485, \"p\": 136, \"fpr\": 0.04285714285714286, \"tpr\": 0.9926470588235294, \"n\": 70}, {\"threshold\": 0.486, \"p\": 136, \"fpr\": 0.04285714285714286, \"tpr\": 0.9926470588235294, \"n\": 70}, {\"threshold\": 0.487, \"p\": 136, \"fpr\": 0.04285714285714286, \"tpr\": 0.9926470588235294, \"n\": 70}, {\"threshold\": 0.488, \"p\": 136, \"fpr\": 0.04285714285714286, \"tpr\": 0.9926470588235294, \"n\": 70}, {\"threshold\": 0.489, \"p\": 136, \"fpr\": 0.04285714285714286, \"tpr\": 0.9926470588235294, \"n\": 70}, {\"threshold\": 0.49, \"p\": 136, \"fpr\": 0.04285714285714286, \"tpr\": 0.9926470588235294, \"n\": 70}, {\"threshold\": 0.491, \"p\": 136, \"fpr\": 0.04285714285714286, \"tpr\": 0.9926470588235294, \"n\": 70}, {\"threshold\": 0.492, \"p\": 136, \"fpr\": 0.04285714285714286, \"tpr\": 0.9926470588235294, \"n\": 70}, {\"threshold\": 0.493, \"p\": 136, \"fpr\": 0.04285714285714286, \"tpr\": 0.9926470588235294, \"n\": 70}, {\"threshold\": 0.494, \"p\": 136, \"fpr\": 0.04285714285714286, \"tpr\": 0.9926470588235294, \"n\": 70}, {\"threshold\": 0.495, \"p\": 136, \"fpr\": 0.04285714285714286, \"tpr\": 0.9926470588235294, \"n\": 70}, {\"threshold\": 0.496, \"p\": 136, \"fpr\": 0.04285714285714286, \"tpr\": 0.9926470588235294, \"n\": 70}, {\"threshold\": 0.497, \"p\": 136, \"fpr\": 0.04285714285714286, \"tpr\": 0.9926470588235294, \"n\": 70}, {\"threshold\": 0.498, \"p\": 136, \"fpr\": 0.04285714285714286, \"tpr\": 0.9926470588235294, \"n\": 70}, {\"threshold\": 0.499, \"p\": 136, \"fpr\": 0.04285714285714286, \"tpr\": 0.9926470588235294, \"n\": 70}, {\"threshold\": 0.5, \"p\": 136, \"fpr\": 0.04285714285714286, \"tpr\": 0.9926470588235294, \"n\": 70}, {\"threshold\": 0.501, \"p\": 136, \"fpr\": 0.04285714285714286, \"tpr\": 0.9926470588235294, \"n\": 70}, {\"threshold\": 0.502, \"p\": 136, \"fpr\": 0.04285714285714286, \"tpr\": 0.9926470588235294, \"n\": 70}, {\"threshold\": 0.503, \"p\": 136, \"fpr\": 0.04285714285714286, \"tpr\": 0.9926470588235294, \"n\": 70}, {\"threshold\": 0.504, \"p\": 136, \"fpr\": 0.04285714285714286, \"tpr\": 0.9926470588235294, \"n\": 70}, {\"threshold\": 0.505, \"p\": 136, \"fpr\": 0.04285714285714286, \"tpr\": 0.9926470588235294, \"n\": 70}, {\"threshold\": 0.506, \"p\": 136, \"fpr\": 0.04285714285714286, \"tpr\": 0.9926470588235294, \"n\": 70}, {\"threshold\": 0.507, \"p\": 136, \"fpr\": 0.04285714285714286, \"tpr\": 0.9926470588235294, \"n\": 70}, {\"threshold\": 0.508, \"p\": 136, \"fpr\": 0.04285714285714286, \"tpr\": 0.9926470588235294, \"n\": 70}, {\"threshold\": 0.509, \"p\": 136, \"fpr\": 0.04285714285714286, \"tpr\": 0.9926470588235294, \"n\": 70}, {\"threshold\": 0.51, \"p\": 136, \"fpr\": 0.04285714285714286, \"tpr\": 0.9926470588235294, \"n\": 70}, {\"threshold\": 0.511, \"p\": 136, \"fpr\": 0.04285714285714286, \"tpr\": 0.9926470588235294, \"n\": 70}, {\"threshold\": 0.512, \"p\": 136, \"fpr\": 0.04285714285714286, \"tpr\": 0.9926470588235294, \"n\": 70}, {\"threshold\": 0.513, \"p\": 136, \"fpr\": 0.04285714285714286, \"tpr\": 0.9926470588235294, \"n\": 70}, {\"threshold\": 0.514, \"p\": 136, \"fpr\": 0.04285714285714286, \"tpr\": 0.9926470588235294, \"n\": 70}, {\"threshold\": 0.515, \"p\": 136, \"fpr\": 0.04285714285714286, \"tpr\": 0.9926470588235294, \"n\": 70}, {\"threshold\": 0.516, \"p\": 136, \"fpr\": 0.04285714285714286, \"tpr\": 0.9926470588235294, \"n\": 70}, {\"threshold\": 0.517, \"p\": 136, \"fpr\": 0.04285714285714286, \"tpr\": 0.9852941176470589, \"n\": 70}, {\"threshold\": 0.518, \"p\": 136, \"fpr\": 0.04285714285714286, \"tpr\": 0.9852941176470589, \"n\": 70}, {\"threshold\": 0.519, \"p\": 136, \"fpr\": 0.04285714285714286, \"tpr\": 0.9852941176470589, \"n\": 70}, {\"threshold\": 0.52, \"p\": 136, \"fpr\": 0.04285714285714286, \"tpr\": 0.9852941176470589, \"n\": 70}, {\"threshold\": 0.521, \"p\": 136, \"fpr\": 0.04285714285714286, \"tpr\": 0.9852941176470589, \"n\": 70}, {\"threshold\": 0.522, \"p\": 136, \"fpr\": 0.04285714285714286, \"tpr\": 0.9852941176470589, \"n\": 70}, {\"threshold\": 0.523, \"p\": 136, \"fpr\": 0.04285714285714286, \"tpr\": 0.9852941176470589, \"n\": 70}, {\"threshold\": 0.524, \"p\": 136, \"fpr\": 0.04285714285714286, \"tpr\": 0.9852941176470589, \"n\": 70}, {\"threshold\": 0.525, \"p\": 136, \"fpr\": 0.04285714285714286, \"tpr\": 0.9852941176470589, \"n\": 70}, {\"threshold\": 0.526, \"p\": 136, \"fpr\": 0.04285714285714286, \"tpr\": 0.9852941176470589, \"n\": 70}, {\"threshold\": 0.527, \"p\": 136, \"fpr\": 0.04285714285714286, \"tpr\": 0.9852941176470589, \"n\": 70}, {\"threshold\": 0.528, \"p\": 136, \"fpr\": 0.04285714285714286, \"tpr\": 0.9852941176470589, \"n\": 70}, {\"threshold\": 0.529, \"p\": 136, \"fpr\": 0.04285714285714286, \"tpr\": 0.9852941176470589, \"n\": 70}, {\"threshold\": 0.53, \"p\": 136, \"fpr\": 0.04285714285714286, \"tpr\": 0.9852941176470589, \"n\": 70}, {\"threshold\": 0.531, \"p\": 136, \"fpr\": 0.04285714285714286, \"tpr\": 0.9852941176470589, \"n\": 70}, {\"threshold\": 0.532, \"p\": 136, \"fpr\": 0.04285714285714286, \"tpr\": 0.9852941176470589, \"n\": 70}, {\"threshold\": 0.533, \"p\": 136, \"fpr\": 0.04285714285714286, \"tpr\": 0.9852941176470589, \"n\": 70}, {\"threshold\": 0.534, \"p\": 136, \"fpr\": 0.04285714285714286, \"tpr\": 0.9852941176470589, \"n\": 70}, {\"threshold\": 0.535, \"p\": 136, \"fpr\": 0.04285714285714286, \"tpr\": 0.9852941176470589, \"n\": 70}, {\"threshold\": 0.536, \"p\": 136, \"fpr\": 0.04285714285714286, \"tpr\": 0.9852941176470589, \"n\": 70}, {\"threshold\": 0.537, \"p\": 136, \"fpr\": 0.04285714285714286, \"tpr\": 0.9852941176470589, \"n\": 70}, {\"threshold\": 0.538, \"p\": 136, \"fpr\": 0.04285714285714286, \"tpr\": 0.9852941176470589, \"n\": 70}, {\"threshold\": 0.539, \"p\": 136, \"fpr\": 0.04285714285714286, \"tpr\": 0.9852941176470589, \"n\": 70}, {\"threshold\": 0.54, \"p\": 136, \"fpr\": 0.04285714285714286, \"tpr\": 0.9852941176470589, \"n\": 70}, {\"threshold\": 0.541, \"p\": 136, \"fpr\": 0.04285714285714286, \"tpr\": 0.9852941176470589, \"n\": 70}, {\"threshold\": 0.542, \"p\": 136, \"fpr\": 0.04285714285714286, \"tpr\": 0.9852941176470589, \"n\": 70}, {\"threshold\": 0.543, \"p\": 136, \"fpr\": 0.04285714285714286, \"tpr\": 0.9852941176470589, \"n\": 70}, {\"threshold\": 0.544, \"p\": 136, \"fpr\": 0.04285714285714286, \"tpr\": 0.9852941176470589, \"n\": 70}, {\"threshold\": 0.545, \"p\": 136, \"fpr\": 0.04285714285714286, \"tpr\": 0.9852941176470589, \"n\": 70}, {\"threshold\": 0.546, \"p\": 136, \"fpr\": 0.04285714285714286, \"tpr\": 0.9852941176470589, \"n\": 70}, {\"threshold\": 0.547, \"p\": 136, \"fpr\": 0.04285714285714286, \"tpr\": 0.9852941176470589, \"n\": 70}, {\"threshold\": 0.548, \"p\": 136, \"fpr\": 0.04285714285714286, \"tpr\": 0.9852941176470589, \"n\": 70}, {\"threshold\": 0.549, \"p\": 136, \"fpr\": 0.04285714285714286, \"tpr\": 0.9852941176470589, \"n\": 70}, {\"threshold\": 0.55, \"p\": 136, \"fpr\": 0.04285714285714286, \"tpr\": 0.9852941176470589, \"n\": 70}, {\"threshold\": 0.551, \"p\": 136, \"fpr\": 0.04285714285714286, \"tpr\": 0.9852941176470589, \"n\": 70}, {\"threshold\": 0.552, \"p\": 136, \"fpr\": 0.04285714285714286, \"tpr\": 0.9852941176470589, \"n\": 70}, {\"threshold\": 0.553, \"p\": 136, \"fpr\": 0.04285714285714286, \"tpr\": 0.9852941176470589, \"n\": 70}, {\"threshold\": 0.554, \"p\": 136, \"fpr\": 0.04285714285714286, \"tpr\": 0.9852941176470589, \"n\": 70}, {\"threshold\": 0.555, \"p\": 136, \"fpr\": 0.04285714285714286, \"tpr\": 0.9852941176470589, \"n\": 70}, {\"threshold\": 0.556, \"p\": 136, \"fpr\": 0.04285714285714286, \"tpr\": 0.9852941176470589, \"n\": 70}, {\"threshold\": 0.557, \"p\": 136, \"fpr\": 0.04285714285714286, \"tpr\": 0.9852941176470589, \"n\": 70}, {\"threshold\": 0.558, \"p\": 136, \"fpr\": 0.04285714285714286, \"tpr\": 0.9852941176470589, \"n\": 70}, {\"threshold\": 0.559, \"p\": 136, \"fpr\": 0.04285714285714286, \"tpr\": 0.9852941176470589, \"n\": 70}, {\"threshold\": 0.56, \"p\": 136, \"fpr\": 0.04285714285714286, \"tpr\": 0.9852941176470589, \"n\": 70}, {\"threshold\": 0.561, \"p\": 136, \"fpr\": 0.04285714285714286, \"tpr\": 0.9852941176470589, \"n\": 70}, {\"threshold\": 0.562, \"p\": 136, \"fpr\": 0.04285714285714286, \"tpr\": 0.9852941176470589, \"n\": 70}, {\"threshold\": 0.563, \"p\": 136, \"fpr\": 0.04285714285714286, \"tpr\": 0.9852941176470589, \"n\": 70}, {\"threshold\": 0.564, \"p\": 136, \"fpr\": 0.04285714285714286, \"tpr\": 0.9852941176470589, \"n\": 70}, {\"threshold\": 0.565, \"p\": 136, \"fpr\": 0.04285714285714286, \"tpr\": 0.9852941176470589, \"n\": 70}, {\"threshold\": 0.566, \"p\": 136, \"fpr\": 0.04285714285714286, \"tpr\": 0.9852941176470589, \"n\": 70}, {\"threshold\": 0.567, \"p\": 136, \"fpr\": 0.04285714285714286, \"tpr\": 0.9852941176470589, \"n\": 70}, {\"threshold\": 0.568, \"p\": 136, \"fpr\": 0.04285714285714286, \"tpr\": 0.9852941176470589, \"n\": 70}, {\"threshold\": 0.569, \"p\": 136, \"fpr\": 0.04285714285714286, \"tpr\": 0.9852941176470589, \"n\": 70}, {\"threshold\": 0.57, \"p\": 136, \"fpr\": 0.04285714285714286, \"tpr\": 0.9852941176470589, \"n\": 70}, {\"threshold\": 0.571, \"p\": 136, \"fpr\": 0.04285714285714286, \"tpr\": 0.9852941176470589, \"n\": 70}, {\"threshold\": 0.572, \"p\": 136, \"fpr\": 0.04285714285714286, \"tpr\": 0.9852941176470589, \"n\": 70}, {\"threshold\": 0.573, \"p\": 136, \"fpr\": 0.04285714285714286, \"tpr\": 0.9852941176470589, \"n\": 70}, {\"threshold\": 0.574, \"p\": 136, \"fpr\": 0.04285714285714286, \"tpr\": 0.9852941176470589, \"n\": 70}, {\"threshold\": 0.575, \"p\": 136, \"fpr\": 0.04285714285714286, \"tpr\": 0.9852941176470589, \"n\": 70}, {\"threshold\": 0.576, \"p\": 136, \"fpr\": 0.04285714285714286, \"tpr\": 0.9852941176470589, \"n\": 70}, {\"threshold\": 0.577, \"p\": 136, \"fpr\": 0.04285714285714286, \"tpr\": 0.9852941176470589, \"n\": 70}, {\"threshold\": 0.578, \"p\": 136, \"fpr\": 0.04285714285714286, \"tpr\": 0.9852941176470589, \"n\": 70}, {\"threshold\": 0.579, \"p\": 136, \"fpr\": 0.04285714285714286, \"tpr\": 0.9852941176470589, \"n\": 70}, {\"threshold\": 0.58, \"p\": 136, \"fpr\": 0.04285714285714286, \"tpr\": 0.9852941176470589, \"n\": 70}, {\"threshold\": 0.581, \"p\": 136, \"fpr\": 0.04285714285714286, \"tpr\": 0.9852941176470589, \"n\": 70}, {\"threshold\": 0.582, \"p\": 136, \"fpr\": 0.04285714285714286, \"tpr\": 0.9852941176470589, \"n\": 70}, {\"threshold\": 0.583, \"p\": 136, \"fpr\": 0.04285714285714286, \"tpr\": 0.9852941176470589, \"n\": 70}, {\"threshold\": 0.584, \"p\": 136, \"fpr\": 0.04285714285714286, \"tpr\": 0.9852941176470589, \"n\": 70}, {\"threshold\": 0.585, \"p\": 136, \"fpr\": 0.04285714285714286, \"tpr\": 0.9852941176470589, \"n\": 70}, {\"threshold\": 0.586, \"p\": 136, \"fpr\": 0.04285714285714286, \"tpr\": 0.9852941176470589, \"n\": 70}, {\"threshold\": 0.587, \"p\": 136, \"fpr\": 0.04285714285714286, \"tpr\": 0.9852941176470589, \"n\": 70}, {\"threshold\": 0.588, \"p\": 136, \"fpr\": 0.04285714285714286, \"tpr\": 0.9852941176470589, \"n\": 70}, {\"threshold\": 0.589, \"p\": 136, \"fpr\": 0.04285714285714286, \"tpr\": 0.9852941176470589, \"n\": 70}, {\"threshold\": 0.59, \"p\": 136, \"fpr\": 0.04285714285714286, \"tpr\": 0.9852941176470589, \"n\": 70}, {\"threshold\": 0.591, \"p\": 136, \"fpr\": 0.04285714285714286, \"tpr\": 0.9852941176470589, \"n\": 70}, {\"threshold\": 0.592, \"p\": 136, \"fpr\": 0.04285714285714286, \"tpr\": 0.9852941176470589, \"n\": 70}, {\"threshold\": 0.593, \"p\": 136, \"fpr\": 0.04285714285714286, \"tpr\": 0.9852941176470589, \"n\": 70}, {\"threshold\": 0.594, \"p\": 136, \"fpr\": 0.04285714285714286, \"tpr\": 0.9852941176470589, \"n\": 70}, {\"threshold\": 0.595, \"p\": 136, \"fpr\": 0.04285714285714286, \"tpr\": 0.9852941176470589, \"n\": 70}, {\"threshold\": 0.596, \"p\": 136, \"fpr\": 0.04285714285714286, \"tpr\": 0.9852941176470589, \"n\": 70}, {\"threshold\": 0.597, \"p\": 136, \"fpr\": 0.04285714285714286, \"tpr\": 0.9852941176470589, \"n\": 70}, {\"threshold\": 0.598, \"p\": 136, \"fpr\": 0.04285714285714286, \"tpr\": 0.9852941176470589, \"n\": 70}, {\"threshold\": 0.599, \"p\": 136, \"fpr\": 0.04285714285714286, \"tpr\": 0.9852941176470589, \"n\": 70}, {\"threshold\": 0.6, \"p\": 136, \"fpr\": 0.04285714285714286, \"tpr\": 0.9852941176470589, \"n\": 70}, {\"threshold\": 0.601, \"p\": 136, \"fpr\": 0.04285714285714286, \"tpr\": 0.9852941176470589, \"n\": 70}, {\"threshold\": 0.602, \"p\": 136, \"fpr\": 0.04285714285714286, \"tpr\": 0.9852941176470589, \"n\": 70}, {\"threshold\": 0.603, \"p\": 136, \"fpr\": 0.04285714285714286, \"tpr\": 0.9852941176470589, \"n\": 70}, {\"threshold\": 0.604, \"p\": 136, \"fpr\": 0.04285714285714286, \"tpr\": 0.9852941176470589, \"n\": 70}, {\"threshold\": 0.605, \"p\": 136, \"fpr\": 0.04285714285714286, \"tpr\": 0.9852941176470589, \"n\": 70}, {\"threshold\": 0.606, \"p\": 136, \"fpr\": 0.04285714285714286, \"tpr\": 0.9852941176470589, \"n\": 70}, {\"threshold\": 0.607, \"p\": 136, \"fpr\": 0.04285714285714286, \"tpr\": 0.9852941176470589, \"n\": 70}, {\"threshold\": 0.608, \"p\": 136, \"fpr\": 0.04285714285714286, \"tpr\": 0.9852941176470589, \"n\": 70}, {\"threshold\": 0.609, \"p\": 136, \"fpr\": 0.04285714285714286, \"tpr\": 0.9852941176470589, \"n\": 70}, {\"threshold\": 0.61, \"p\": 136, \"fpr\": 0.04285714285714286, \"tpr\": 0.9852941176470589, \"n\": 70}, {\"threshold\": 0.611, \"p\": 136, \"fpr\": 0.04285714285714286, \"tpr\": 0.9852941176470589, \"n\": 70}, {\"threshold\": 0.612, \"p\": 136, \"fpr\": 0.04285714285714286, \"tpr\": 0.9852941176470589, \"n\": 70}, {\"threshold\": 0.613, \"p\": 136, \"fpr\": 0.04285714285714286, \"tpr\": 0.9852941176470589, \"n\": 70}, {\"threshold\": 0.614, \"p\": 136, \"fpr\": 0.04285714285714286, \"tpr\": 0.9852941176470589, \"n\": 70}, {\"threshold\": 0.615, \"p\": 136, \"fpr\": 0.04285714285714286, \"tpr\": 0.9852941176470589, \"n\": 70}, {\"threshold\": 0.616, \"p\": 136, \"fpr\": 0.04285714285714286, \"tpr\": 0.9852941176470589, \"n\": 70}, {\"threshold\": 0.617, \"p\": 136, \"fpr\": 0.04285714285714286, \"tpr\": 0.9852941176470589, \"n\": 70}, {\"threshold\": 0.618, \"p\": 136, \"fpr\": 0.04285714285714286, \"tpr\": 0.9852941176470589, \"n\": 70}, {\"threshold\": 0.619, \"p\": 136, \"fpr\": 0.04285714285714286, \"tpr\": 0.9852941176470589, \"n\": 70}, {\"threshold\": 0.62, \"p\": 136, \"fpr\": 0.04285714285714286, \"tpr\": 0.9852941176470589, \"n\": 70}, {\"threshold\": 0.621, \"p\": 136, \"fpr\": 0.04285714285714286, \"tpr\": 0.9852941176470589, \"n\": 70}, {\"threshold\": 0.622, \"p\": 136, \"fpr\": 0.04285714285714286, \"tpr\": 0.9852941176470589, \"n\": 70}, {\"threshold\": 0.623, \"p\": 136, \"fpr\": 0.04285714285714286, \"tpr\": 0.9852941176470589, \"n\": 70}, {\"threshold\": 0.624, \"p\": 136, \"fpr\": 0.04285714285714286, \"tpr\": 0.9852941176470589, \"n\": 70}, {\"threshold\": 0.625, \"p\": 136, \"fpr\": 0.04285714285714286, \"tpr\": 0.9852941176470589, \"n\": 70}, {\"threshold\": 0.626, \"p\": 136, \"fpr\": 0.04285714285714286, \"tpr\": 0.9852941176470589, \"n\": 70}, {\"threshold\": 0.627, \"p\": 136, \"fpr\": 0.04285714285714286, \"tpr\": 0.9852941176470589, \"n\": 70}, {\"threshold\": 0.628, \"p\": 136, \"fpr\": 0.04285714285714286, \"tpr\": 0.9852941176470589, \"n\": 70}, {\"threshold\": 0.629, \"p\": 136, \"fpr\": 0.04285714285714286, \"tpr\": 0.9852941176470589, \"n\": 70}, {\"threshold\": 0.63, \"p\": 136, \"fpr\": 0.04285714285714286, \"tpr\": 0.9852941176470589, \"n\": 70}, {\"threshold\": 0.631, \"p\": 136, \"fpr\": 0.04285714285714286, \"tpr\": 0.9852941176470589, \"n\": 70}, {\"threshold\": 0.632, \"p\": 136, \"fpr\": 0.04285714285714286, \"tpr\": 0.9852941176470589, \"n\": 70}, {\"threshold\": 0.633, \"p\": 136, \"fpr\": 0.04285714285714286, \"tpr\": 0.9852941176470589, \"n\": 70}, {\"threshold\": 0.634, \"p\": 136, \"fpr\": 0.04285714285714286, \"tpr\": 0.9852941176470589, \"n\": 70}, {\"threshold\": 0.635, \"p\": 136, \"fpr\": 0.04285714285714286, \"tpr\": 0.9852941176470589, \"n\": 70}, {\"threshold\": 0.636, \"p\": 136, \"fpr\": 0.04285714285714286, \"tpr\": 0.9852941176470589, \"n\": 70}, {\"threshold\": 0.637, \"p\": 136, \"fpr\": 0.04285714285714286, \"tpr\": 0.9852941176470589, \"n\": 70}, {\"threshold\": 0.638, \"p\": 136, \"fpr\": 0.04285714285714286, \"tpr\": 0.9852941176470589, \"n\": 70}, {\"threshold\": 0.639, \"p\": 136, \"fpr\": 0.04285714285714286, \"tpr\": 0.9852941176470589, \"n\": 70}, {\"threshold\": 0.64, \"p\": 136, \"fpr\": 0.04285714285714286, \"tpr\": 0.9852941176470589, \"n\": 70}, {\"threshold\": 0.641, \"p\": 136, \"fpr\": 0.04285714285714286, \"tpr\": 0.9852941176470589, \"n\": 70}, {\"threshold\": 0.642, \"p\": 136, \"fpr\": 0.04285714285714286, \"tpr\": 0.9852941176470589, \"n\": 70}, {\"threshold\": 0.643, \"p\": 136, \"fpr\": 0.04285714285714286, \"tpr\": 0.9852941176470589, \"n\": 70}, {\"threshold\": 0.644, \"p\": 136, \"fpr\": 0.04285714285714286, \"tpr\": 0.9852941176470589, \"n\": 70}, {\"threshold\": 0.645, \"p\": 136, \"fpr\": 0.04285714285714286, \"tpr\": 0.9852941176470589, \"n\": 70}, {\"threshold\": 0.646, \"p\": 136, \"fpr\": 0.04285714285714286, \"tpr\": 0.9852941176470589, \"n\": 70}, {\"threshold\": 0.647, \"p\": 136, \"fpr\": 0.04285714285714286, \"tpr\": 0.9852941176470589, \"n\": 70}, {\"threshold\": 0.648, \"p\": 136, \"fpr\": 0.04285714285714286, \"tpr\": 0.9852941176470589, \"n\": 70}, {\"threshold\": 0.649, \"p\": 136, \"fpr\": 0.04285714285714286, \"tpr\": 0.9852941176470589, \"n\": 70}, {\"threshold\": 0.65, \"p\": 136, \"fpr\": 0.04285714285714286, \"tpr\": 0.9852941176470589, \"n\": 70}, {\"threshold\": 0.651, \"p\": 136, \"fpr\": 0.04285714285714286, \"tpr\": 0.9852941176470589, \"n\": 70}, {\"threshold\": 0.652, \"p\": 136, \"fpr\": 0.04285714285714286, \"tpr\": 0.9852941176470589, \"n\": 70}, {\"threshold\": 0.653, \"p\": 136, \"fpr\": 0.04285714285714286, \"tpr\": 0.9852941176470589, \"n\": 70}, {\"threshold\": 0.654, \"p\": 136, \"fpr\": 0.04285714285714286, \"tpr\": 0.9852941176470589, \"n\": 70}, {\"threshold\": 0.655, \"p\": 136, \"fpr\": 0.04285714285714286, \"tpr\": 0.9852941176470589, \"n\": 70}, {\"threshold\": 0.656, \"p\": 136, \"fpr\": 0.04285714285714286, \"tpr\": 0.9852941176470589, \"n\": 70}, {\"threshold\": 0.657, \"p\": 136, \"fpr\": 0.04285714285714286, \"tpr\": 0.9852941176470589, \"n\": 70}, {\"threshold\": 0.658, \"p\": 136, \"fpr\": 0.04285714285714286, \"tpr\": 0.9852941176470589, \"n\": 70}, {\"threshold\": 0.659, \"p\": 136, \"fpr\": 0.04285714285714286, \"tpr\": 0.9852941176470589, \"n\": 70}, {\"threshold\": 0.66, \"p\": 136, \"fpr\": 0.04285714285714286, \"tpr\": 0.9852941176470589, \"n\": 70}, {\"threshold\": 0.661, \"p\": 136, \"fpr\": 0.04285714285714286, \"tpr\": 0.9852941176470589, \"n\": 70}, {\"threshold\": 0.662, \"p\": 136, \"fpr\": 0.04285714285714286, \"tpr\": 0.9852941176470589, \"n\": 70}, {\"threshold\": 0.663, \"p\": 136, \"fpr\": 0.04285714285714286, \"tpr\": 0.9852941176470589, \"n\": 70}, {\"threshold\": 0.664, \"p\": 136, \"fpr\": 0.04285714285714286, \"tpr\": 0.9852941176470589, \"n\": 70}, {\"threshold\": 0.665, \"p\": 136, \"fpr\": 0.04285714285714286, \"tpr\": 0.9852941176470589, \"n\": 70}, {\"threshold\": 0.666, \"p\": 136, \"fpr\": 0.04285714285714286, \"tpr\": 0.9852941176470589, \"n\": 70}, {\"threshold\": 0.667, \"p\": 136, \"fpr\": 0.04285714285714286, \"tpr\": 0.9852941176470589, \"n\": 70}, {\"threshold\": 0.668, \"p\": 136, \"fpr\": 0.04285714285714286, \"tpr\": 0.9852941176470589, \"n\": 70}, {\"threshold\": 0.669, \"p\": 136, \"fpr\": 0.04285714285714286, \"tpr\": 0.9852941176470589, \"n\": 70}, {\"threshold\": 0.67, \"p\": 136, \"fpr\": 0.04285714285714286, \"tpr\": 0.9852941176470589, \"n\": 70}, {\"threshold\": 0.671, \"p\": 136, \"fpr\": 0.04285714285714286, \"tpr\": 0.9852941176470589, \"n\": 70}, {\"threshold\": 0.672, \"p\": 136, \"fpr\": 0.04285714285714286, \"tpr\": 0.9852941176470589, \"n\": 70}, {\"threshold\": 0.673, \"p\": 136, \"fpr\": 0.04285714285714286, \"tpr\": 0.9852941176470589, \"n\": 70}, {\"threshold\": 0.674, \"p\": 136, \"fpr\": 0.04285714285714286, \"tpr\": 0.9852941176470589, \"n\": 70}, {\"threshold\": 0.675, \"p\": 136, \"fpr\": 0.04285714285714286, \"tpr\": 0.9852941176470589, \"n\": 70}, {\"threshold\": 0.676, \"p\": 136, \"fpr\": 0.04285714285714286, \"tpr\": 0.9852941176470589, \"n\": 70}, {\"threshold\": 0.677, \"p\": 136, \"fpr\": 0.04285714285714286, \"tpr\": 0.9852941176470589, \"n\": 70}, {\"threshold\": 0.678, \"p\": 136, \"fpr\": 0.04285714285714286, \"tpr\": 0.9852941176470589, \"n\": 70}, {\"threshold\": 0.679, \"p\": 136, \"fpr\": 0.04285714285714286, \"tpr\": 0.9852941176470589, \"n\": 70}, {\"threshold\": 0.68, \"p\": 136, \"fpr\": 0.04285714285714286, \"tpr\": 0.9852941176470589, \"n\": 70}, {\"threshold\": 0.681, \"p\": 136, \"fpr\": 0.04285714285714286, \"tpr\": 0.9852941176470589, \"n\": 70}, {\"threshold\": 0.682, \"p\": 136, \"fpr\": 0.04285714285714286, \"tpr\": 0.9852941176470589, \"n\": 70}, {\"threshold\": 0.683, \"p\": 136, \"fpr\": 0.04285714285714286, \"tpr\": 0.9852941176470589, \"n\": 70}, {\"threshold\": 0.684, \"p\": 136, \"fpr\": 0.04285714285714286, \"tpr\": 0.9852941176470589, \"n\": 70}, {\"threshold\": 0.685, \"p\": 136, \"fpr\": 0.04285714285714286, \"tpr\": 0.9852941176470589, \"n\": 70}, {\"threshold\": 0.686, \"p\": 136, \"fpr\": 0.04285714285714286, \"tpr\": 0.9852941176470589, \"n\": 70}, {\"threshold\": 0.687, \"p\": 136, \"fpr\": 0.04285714285714286, \"tpr\": 0.9852941176470589, \"n\": 70}, {\"threshold\": 0.688, \"p\": 136, \"fpr\": 0.04285714285714286, \"tpr\": 0.9852941176470589, \"n\": 70}, {\"threshold\": 0.689, \"p\": 136, \"fpr\": 0.04285714285714286, \"tpr\": 0.9852941176470589, \"n\": 70}, {\"threshold\": 0.69, \"p\": 136, \"fpr\": 0.04285714285714286, \"tpr\": 0.9852941176470589, \"n\": 70}, {\"threshold\": 0.691, \"p\": 136, \"fpr\": 0.04285714285714286, \"tpr\": 0.9852941176470589, \"n\": 70}, {\"threshold\": 0.692, \"p\": 136, \"fpr\": 0.04285714285714286, \"tpr\": 0.9852941176470589, \"n\": 70}, {\"threshold\": 0.693, \"p\": 136, \"fpr\": 0.04285714285714286, \"tpr\": 0.9852941176470589, \"n\": 70}, {\"threshold\": 0.694, \"p\": 136, \"fpr\": 0.04285714285714286, \"tpr\": 0.9852941176470589, \"n\": 70}, {\"threshold\": 0.695, \"p\": 136, \"fpr\": 0.04285714285714286, \"tpr\": 0.9852941176470589, \"n\": 70}, {\"threshold\": 0.696, \"p\": 136, \"fpr\": 0.04285714285714286, \"tpr\": 0.9852941176470589, \"n\": 70}, {\"threshold\": 0.697, \"p\": 136, \"fpr\": 0.04285714285714286, \"tpr\": 0.9852941176470589, \"n\": 70}, {\"threshold\": 0.698, \"p\": 136, \"fpr\": 0.04285714285714286, \"tpr\": 0.9852941176470589, \"n\": 70}, {\"threshold\": 0.699, \"p\": 136, \"fpr\": 0.04285714285714286, \"tpr\": 0.9852941176470589, \"n\": 70}, {\"threshold\": 0.7, \"p\": 136, \"fpr\": 0.04285714285714286, \"tpr\": 0.9852941176470589, \"n\": 70}, {\"threshold\": 0.701, \"p\": 136, \"fpr\": 0.04285714285714286, \"tpr\": 0.9852941176470589, \"n\": 70}, {\"threshold\": 0.702, \"p\": 136, \"fpr\": 0.04285714285714286, \"tpr\": 0.9852941176470589, \"n\": 70}, {\"threshold\": 0.703, \"p\": 136, \"fpr\": 0.04285714285714286, \"tpr\": 0.9852941176470589, \"n\": 70}, {\"threshold\": 0.704, \"p\": 136, \"fpr\": 0.04285714285714286, \"tpr\": 0.9852941176470589, \"n\": 70}, {\"threshold\": 0.705, \"p\": 136, \"fpr\": 0.04285714285714286, \"tpr\": 0.9852941176470589, \"n\": 70}, {\"threshold\": 0.706, \"p\": 136, \"fpr\": 0.04285714285714286, \"tpr\": 0.9852941176470589, \"n\": 70}, {\"threshold\": 0.707, \"p\": 136, \"fpr\": 0.04285714285714286, \"tpr\": 0.9852941176470589, \"n\": 70}, {\"threshold\": 0.708, \"p\": 136, \"fpr\": 0.04285714285714286, \"tpr\": 0.9852941176470589, \"n\": 70}, {\"threshold\": 0.709, \"p\": 136, \"fpr\": 0.04285714285714286, \"tpr\": 0.9852941176470589, \"n\": 70}, {\"threshold\": 0.71, \"p\": 136, \"fpr\": 0.04285714285714286, \"tpr\": 0.9852941176470589, \"n\": 70}, {\"threshold\": 0.711, \"p\": 136, \"fpr\": 0.04285714285714286, \"tpr\": 0.9852941176470589, \"n\": 70}, {\"threshold\": 0.712, \"p\": 136, \"fpr\": 0.04285714285714286, \"tpr\": 0.9852941176470589, \"n\": 70}, {\"threshold\": 0.713, \"p\": 136, \"fpr\": 0.04285714285714286, \"tpr\": 0.9852941176470589, \"n\": 70}, {\"threshold\": 0.714, \"p\": 136, \"fpr\": 0.04285714285714286, \"tpr\": 0.9852941176470589, \"n\": 70}, {\"threshold\": 0.715, \"p\": 136, \"fpr\": 0.04285714285714286, \"tpr\": 0.9852941176470589, \"n\": 70}, {\"threshold\": 0.716, \"p\": 136, \"fpr\": 0.04285714285714286, \"tpr\": 0.9852941176470589, \"n\": 70}, {\"threshold\": 0.717, \"p\": 136, \"fpr\": 0.04285714285714286, \"tpr\": 0.9852941176470589, \"n\": 70}, {\"threshold\": 0.718, \"p\": 136, \"fpr\": 0.04285714285714286, \"tpr\": 0.9852941176470589, \"n\": 70}, {\"threshold\": 0.719, \"p\": 136, \"fpr\": 0.04285714285714286, \"tpr\": 0.9852941176470589, \"n\": 70}, {\"threshold\": 0.72, \"p\": 136, \"fpr\": 0.04285714285714286, \"tpr\": 0.9852941176470589, \"n\": 70}, {\"threshold\": 0.721, \"p\": 136, \"fpr\": 0.04285714285714286, \"tpr\": 0.9852941176470589, \"n\": 70}, {\"threshold\": 0.722, \"p\": 136, \"fpr\": 0.04285714285714286, \"tpr\": 0.9852941176470589, \"n\": 70}, {\"threshold\": 0.723, \"p\": 136, \"fpr\": 0.04285714285714286, \"tpr\": 0.9852941176470589, \"n\": 70}, {\"threshold\": 0.724, \"p\": 136, \"fpr\": 0.04285714285714286, \"tpr\": 0.9852941176470589, \"n\": 70}, {\"threshold\": 0.725, \"p\": 136, \"fpr\": 0.04285714285714286, \"tpr\": 0.9852941176470589, \"n\": 70}, {\"threshold\": 0.726, \"p\": 136, \"fpr\": 0.04285714285714286, \"tpr\": 0.9852941176470589, \"n\": 70}, {\"threshold\": 0.727, \"p\": 136, \"fpr\": 0.04285714285714286, \"tpr\": 0.9852941176470589, \"n\": 70}, {\"threshold\": 0.728, \"p\": 136, \"fpr\": 0.04285714285714286, \"tpr\": 0.9852941176470589, \"n\": 70}, {\"threshold\": 0.729, \"p\": 136, \"fpr\": 0.04285714285714286, \"tpr\": 0.9852941176470589, \"n\": 70}, {\"threshold\": 0.73, \"p\": 136, \"fpr\": 0.04285714285714286, \"tpr\": 0.9852941176470589, \"n\": 70}, {\"threshold\": 0.731, \"p\": 136, \"fpr\": 0.04285714285714286, \"tpr\": 0.9852941176470589, \"n\": 70}, {\"threshold\": 0.732, \"p\": 136, \"fpr\": 0.04285714285714286, \"tpr\": 0.9852941176470589, \"n\": 70}, {\"threshold\": 0.733, \"p\": 136, \"fpr\": 0.04285714285714286, \"tpr\": 0.9852941176470589, \"n\": 70}, {\"threshold\": 0.734, \"p\": 136, \"fpr\": 0.04285714285714286, \"tpr\": 0.9852941176470589, \"n\": 70}, {\"threshold\": 0.735, \"p\": 136, \"fpr\": 0.04285714285714286, \"tpr\": 0.9852941176470589, \"n\": 70}, {\"threshold\": 0.736, \"p\": 136, \"fpr\": 0.04285714285714286, \"tpr\": 0.9852941176470589, \"n\": 70}, {\"threshold\": 0.737, \"p\": 136, \"fpr\": 0.04285714285714286, \"tpr\": 0.9852941176470589, \"n\": 70}, {\"threshold\": 0.738, \"p\": 136, \"fpr\": 0.04285714285714286, \"tpr\": 0.9852941176470589, \"n\": 70}, {\"threshold\": 0.739, \"p\": 136, \"fpr\": 0.04285714285714286, \"tpr\": 0.9852941176470589, \"n\": 70}, {\"threshold\": 0.74, \"p\": 136, \"fpr\": 0.04285714285714286, \"tpr\": 0.9852941176470589, \"n\": 70}, {\"threshold\": 0.741, \"p\": 136, \"fpr\": 0.04285714285714286, \"tpr\": 0.9852941176470589, \"n\": 70}, {\"threshold\": 0.742, \"p\": 136, \"fpr\": 0.04285714285714286, \"tpr\": 0.9852941176470589, \"n\": 70}, {\"threshold\": 0.743, \"p\": 136, \"fpr\": 0.04285714285714286, \"tpr\": 0.9852941176470589, \"n\": 70}, {\"threshold\": 0.744, \"p\": 136, \"fpr\": 0.04285714285714286, \"tpr\": 0.9852941176470589, \"n\": 70}, {\"threshold\": 0.745, \"p\": 136, \"fpr\": 0.04285714285714286, \"tpr\": 0.9852941176470589, \"n\": 70}, {\"threshold\": 0.746, \"p\": 136, \"fpr\": 0.04285714285714286, \"tpr\": 0.9852941176470589, \"n\": 70}, {\"threshold\": 0.747, \"p\": 136, \"fpr\": 0.04285714285714286, \"tpr\": 0.9852941176470589, \"n\": 70}, {\"threshold\": 0.748, \"p\": 136, \"fpr\": 0.04285714285714286, \"tpr\": 0.9852941176470589, \"n\": 70}, {\"threshold\": 0.749, \"p\": 136, \"fpr\": 0.04285714285714286, \"tpr\": 0.9852941176470589, \"n\": 70}, {\"threshold\": 0.75, \"p\": 136, \"fpr\": 0.04285714285714286, \"tpr\": 0.9852941176470589, \"n\": 70}, {\"threshold\": 0.751, \"p\": 136, \"fpr\": 0.04285714285714286, \"tpr\": 0.9852941176470589, \"n\": 70}, {\"threshold\": 0.752, \"p\": 136, \"fpr\": 0.04285714285714286, \"tpr\": 0.9852941176470589, \"n\": 70}, {\"threshold\": 0.753, \"p\": 136, \"fpr\": 0.04285714285714286, \"tpr\": 0.9852941176470589, \"n\": 70}, {\"threshold\": 0.754, \"p\": 136, \"fpr\": 0.04285714285714286, \"tpr\": 0.9852941176470589, \"n\": 70}, {\"threshold\": 0.755, \"p\": 136, \"fpr\": 0.04285714285714286, \"tpr\": 0.9852941176470589, \"n\": 70}, {\"threshold\": 0.756, \"p\": 136, \"fpr\": 0.04285714285714286, \"tpr\": 0.9852941176470589, \"n\": 70}, {\"threshold\": 0.757, \"p\": 136, \"fpr\": 0.04285714285714286, \"tpr\": 0.9852941176470589, \"n\": 70}, {\"threshold\": 0.758, \"p\": 136, \"fpr\": 0.04285714285714286, \"tpr\": 0.9852941176470589, \"n\": 70}, {\"threshold\": 0.759, \"p\": 136, \"fpr\": 0.04285714285714286, \"tpr\": 0.9852941176470589, \"n\": 70}, {\"threshold\": 0.76, \"p\": 136, \"fpr\": 0.04285714285714286, \"tpr\": 0.9852941176470589, \"n\": 70}, {\"threshold\": 0.761, \"p\": 136, \"fpr\": 0.04285714285714286, \"tpr\": 0.9852941176470589, \"n\": 70}, {\"threshold\": 0.762, \"p\": 136, \"fpr\": 0.04285714285714286, \"tpr\": 0.9852941176470589, \"n\": 70}, {\"threshold\": 0.763, \"p\": 136, \"fpr\": 0.04285714285714286, \"tpr\": 0.9852941176470589, \"n\": 70}, {\"threshold\": 0.764, \"p\": 136, \"fpr\": 0.04285714285714286, \"tpr\": 0.9852941176470589, \"n\": 70}, {\"threshold\": 0.765, \"p\": 136, \"fpr\": 0.04285714285714286, \"tpr\": 0.9852941176470589, \"n\": 70}, {\"threshold\": 0.766, \"p\": 136, \"fpr\": 0.04285714285714286, \"tpr\": 0.9852941176470589, \"n\": 70}, {\"threshold\": 0.767, \"p\": 136, \"fpr\": 0.04285714285714286, \"tpr\": 0.9852941176470589, \"n\": 70}, {\"threshold\": 0.768, \"p\": 136, \"fpr\": 0.04285714285714286, \"tpr\": 0.9852941176470589, \"n\": 70}, {\"threshold\": 0.769, \"p\": 136, \"fpr\": 0.04285714285714286, \"tpr\": 0.9852941176470589, \"n\": 70}, {\"threshold\": 0.77, \"p\": 136, \"fpr\": 0.04285714285714286, \"tpr\": 0.9852941176470589, \"n\": 70}, {\"threshold\": 0.771, \"p\": 136, \"fpr\": 0.04285714285714286, \"tpr\": 0.9852941176470589, \"n\": 70}, {\"threshold\": 0.772, \"p\": 136, \"fpr\": 0.04285714285714286, \"tpr\": 0.9852941176470589, \"n\": 70}, {\"threshold\": 0.773, \"p\": 136, \"fpr\": 0.04285714285714286, \"tpr\": 0.9852941176470589, \"n\": 70}, {\"threshold\": 0.774, \"p\": 136, \"fpr\": 0.04285714285714286, \"tpr\": 0.9852941176470589, \"n\": 70}, {\"threshold\": 0.775, \"p\": 136, \"fpr\": 0.04285714285714286, \"tpr\": 0.9852941176470589, \"n\": 70}, {\"threshold\": 0.776, \"p\": 136, \"fpr\": 0.04285714285714286, \"tpr\": 0.9852941176470589, \"n\": 70}, {\"threshold\": 0.777, \"p\": 136, \"fpr\": 0.04285714285714286, \"tpr\": 0.9852941176470589, \"n\": 70}, {\"threshold\": 0.778, \"p\": 136, \"fpr\": 0.04285714285714286, \"tpr\": 0.9852941176470589, \"n\": 70}, {\"threshold\": 0.779, \"p\": 136, \"fpr\": 0.04285714285714286, \"tpr\": 0.9852941176470589, \"n\": 70}, {\"threshold\": 0.78, \"p\": 136, \"fpr\": 0.04285714285714286, \"tpr\": 0.9852941176470589, \"n\": 70}, {\"threshold\": 0.781, \"p\": 136, \"fpr\": 0.04285714285714286, \"tpr\": 0.9852941176470589, \"n\": 70}, {\"threshold\": 0.782, \"p\": 136, \"fpr\": 0.04285714285714286, \"tpr\": 0.9852941176470589, \"n\": 70}, {\"threshold\": 0.783, \"p\": 136, \"fpr\": 0.04285714285714286, \"tpr\": 0.9852941176470589, \"n\": 70}, {\"threshold\": 0.784, \"p\": 136, \"fpr\": 0.04285714285714286, \"tpr\": 0.9852941176470589, \"n\": 70}, {\"threshold\": 0.785, \"p\": 136, \"fpr\": 0.02857142857142857, \"tpr\": 0.9852941176470589, \"n\": 70}, {\"threshold\": 0.786, \"p\": 136, \"fpr\": 0.02857142857142857, \"tpr\": 0.9852941176470589, \"n\": 70}, {\"threshold\": 0.787, \"p\": 136, \"fpr\": 0.02857142857142857, \"tpr\": 0.9852941176470589, \"n\": 70}, {\"threshold\": 0.788, \"p\": 136, \"fpr\": 0.02857142857142857, \"tpr\": 0.9852941176470589, \"n\": 70}, {\"threshold\": 0.789, \"p\": 136, \"fpr\": 0.02857142857142857, \"tpr\": 0.9852941176470589, \"n\": 70}, {\"threshold\": 0.79, \"p\": 136, \"fpr\": 0.02857142857142857, \"tpr\": 0.9852941176470589, \"n\": 70}, {\"threshold\": 0.791, \"p\": 136, \"fpr\": 0.02857142857142857, \"tpr\": 0.9852941176470589, \"n\": 70}, {\"threshold\": 0.792, \"p\": 136, \"fpr\": 0.02857142857142857, \"tpr\": 0.9852941176470589, \"n\": 70}, {\"threshold\": 0.793, \"p\": 136, \"fpr\": 0.02857142857142857, \"tpr\": 0.9852941176470589, \"n\": 70}, {\"threshold\": 0.794, \"p\": 136, \"fpr\": 0.02857142857142857, \"tpr\": 0.9852941176470589, \"n\": 70}, {\"threshold\": 0.795, \"p\": 136, \"fpr\": 0.02857142857142857, \"tpr\": 0.9852941176470589, \"n\": 70}, {\"threshold\": 0.796, \"p\": 136, \"fpr\": 0.02857142857142857, \"tpr\": 0.9852941176470589, \"n\": 70}, {\"threshold\": 0.797, \"p\": 136, \"fpr\": 0.02857142857142857, \"tpr\": 0.9779411764705882, \"n\": 70}, {\"threshold\": 0.798, \"p\": 136, \"fpr\": 0.02857142857142857, \"tpr\": 0.9779411764705882, \"n\": 70}, {\"threshold\": 0.799, \"p\": 136, \"fpr\": 0.02857142857142857, \"tpr\": 0.9779411764705882, \"n\": 70}, {\"threshold\": 0.8, \"p\": 136, \"fpr\": 0.02857142857142857, \"tpr\": 0.9779411764705882, \"n\": 70}, {\"threshold\": 0.801, \"p\": 136, \"fpr\": 0.02857142857142857, \"tpr\": 0.9779411764705882, \"n\": 70}, {\"threshold\": 0.802, \"p\": 136, \"fpr\": 0.02857142857142857, \"tpr\": 0.9779411764705882, \"n\": 70}, {\"threshold\": 0.803, \"p\": 136, \"fpr\": 0.02857142857142857, \"tpr\": 0.9779411764705882, \"n\": 70}, {\"threshold\": 0.804, \"p\": 136, \"fpr\": 0.02857142857142857, \"tpr\": 0.9779411764705882, \"n\": 70}, {\"threshold\": 0.805, \"p\": 136, \"fpr\": 0.02857142857142857, \"tpr\": 0.9779411764705882, \"n\": 70}, {\"threshold\": 0.806, \"p\": 136, \"fpr\": 0.02857142857142857, \"tpr\": 0.9779411764705882, \"n\": 70}, {\"threshold\": 0.807, \"p\": 136, \"fpr\": 0.02857142857142857, \"tpr\": 0.9705882352941176, \"n\": 70}, {\"threshold\": 0.808, \"p\": 136, \"fpr\": 0.02857142857142857, \"tpr\": 0.9705882352941176, \"n\": 70}, {\"threshold\": 0.809, \"p\": 136, \"fpr\": 0.02857142857142857, \"tpr\": 0.9705882352941176, \"n\": 70}, {\"threshold\": 0.81, \"p\": 136, \"fpr\": 0.02857142857142857, \"tpr\": 0.9705882352941176, \"n\": 70}, {\"threshold\": 0.811, \"p\": 136, \"fpr\": 0.02857142857142857, \"tpr\": 0.9705882352941176, \"n\": 70}, {\"threshold\": 0.812, \"p\": 136, \"fpr\": 0.014285714285714285, \"tpr\": 0.9705882352941176, \"n\": 70}, {\"threshold\": 0.813, \"p\": 136, \"fpr\": 0.014285714285714285, \"tpr\": 0.9705882352941176, \"n\": 70}, {\"threshold\": 0.814, \"p\": 136, \"fpr\": 0.014285714285714285, \"tpr\": 0.9705882352941176, \"n\": 70}, {\"threshold\": 0.815, \"p\": 136, \"fpr\": 0.014285714285714285, \"tpr\": 0.9705882352941176, \"n\": 70}, {\"threshold\": 0.816, \"p\": 136, \"fpr\": 0.014285714285714285, \"tpr\": 0.9705882352941176, \"n\": 70}, {\"threshold\": 0.817, \"p\": 136, \"fpr\": 0.014285714285714285, \"tpr\": 0.9705882352941176, \"n\": 70}, {\"threshold\": 0.818, \"p\": 136, \"fpr\": 0.014285714285714285, \"tpr\": 0.9705882352941176, \"n\": 70}, {\"threshold\": 0.819, \"p\": 136, \"fpr\": 0.014285714285714285, \"tpr\": 0.9705882352941176, \"n\": 70}, {\"threshold\": 0.82, \"p\": 136, \"fpr\": 0.014285714285714285, \"tpr\": 0.9705882352941176, \"n\": 70}, {\"threshold\": 0.821, \"p\": 136, \"fpr\": 0.014285714285714285, \"tpr\": 0.9705882352941176, \"n\": 70}, {\"threshold\": 0.822, \"p\": 136, \"fpr\": 0.014285714285714285, \"tpr\": 0.9558823529411765, \"n\": 70}, {\"threshold\": 0.823, \"p\": 136, \"fpr\": 0.014285714285714285, \"tpr\": 0.9558823529411765, \"n\": 70}, {\"threshold\": 0.824, \"p\": 136, \"fpr\": 0.014285714285714285, \"tpr\": 0.9558823529411765, \"n\": 70}, {\"threshold\": 0.825, \"p\": 136, \"fpr\": 0.014285714285714285, \"tpr\": 0.9558823529411765, \"n\": 70}, {\"threshold\": 0.826, \"p\": 136, \"fpr\": 0.014285714285714285, \"tpr\": 0.9558823529411765, \"n\": 70}, {\"threshold\": 0.827, \"p\": 136, \"fpr\": 0.014285714285714285, \"tpr\": 0.9558823529411765, \"n\": 70}, {\"threshold\": 0.828, \"p\": 136, \"fpr\": 0.014285714285714285, \"tpr\": 0.9558823529411765, \"n\": 70}, {\"threshold\": 0.829, \"p\": 136, \"fpr\": 0.014285714285714285, \"tpr\": 0.9558823529411765, \"n\": 70}, {\"threshold\": 0.83, \"p\": 136, \"fpr\": 0.014285714285714285, \"tpr\": 0.9558823529411765, \"n\": 70}, {\"threshold\": 0.831, \"p\": 136, \"fpr\": 0.014285714285714285, \"tpr\": 0.9558823529411765, \"n\": 70}, {\"threshold\": 0.832, \"p\": 136, \"fpr\": 0.014285714285714285, \"tpr\": 0.9558823529411765, \"n\": 70}, {\"threshold\": 0.833, \"p\": 136, \"fpr\": 0.014285714285714285, \"tpr\": 0.9558823529411765, \"n\": 70}, {\"threshold\": 0.834, \"p\": 136, \"fpr\": 0.014285714285714285, \"tpr\": 0.9558823529411765, \"n\": 70}, {\"threshold\": 0.835, \"p\": 136, \"fpr\": 0.014285714285714285, \"tpr\": 0.9558823529411765, \"n\": 70}, {\"threshold\": 0.836, \"p\": 136, \"fpr\": 0.014285714285714285, \"tpr\": 0.9558823529411765, \"n\": 70}, {\"threshold\": 0.837, \"p\": 136, \"fpr\": 0.014285714285714285, \"tpr\": 0.9558823529411765, \"n\": 70}, {\"threshold\": 0.838, \"p\": 136, \"fpr\": 0.014285714285714285, \"tpr\": 0.9558823529411765, \"n\": 70}, {\"threshold\": 0.839, \"p\": 136, \"fpr\": 0.014285714285714285, \"tpr\": 0.9558823529411765, \"n\": 70}, {\"threshold\": 0.84, \"p\": 136, \"fpr\": 0.014285714285714285, \"tpr\": 0.9558823529411765, \"n\": 70}, {\"threshold\": 0.841, \"p\": 136, \"fpr\": 0.014285714285714285, \"tpr\": 0.9558823529411765, \"n\": 70}, {\"threshold\": 0.842, \"p\": 136, \"fpr\": 0.014285714285714285, \"tpr\": 0.9558823529411765, \"n\": 70}, {\"threshold\": 0.843, \"p\": 136, \"fpr\": 0.014285714285714285, \"tpr\": 0.9558823529411765, \"n\": 70}, {\"threshold\": 0.844, \"p\": 136, \"fpr\": 0.014285714285714285, \"tpr\": 0.9558823529411765, \"n\": 70}, {\"threshold\": 0.845, \"p\": 136, \"fpr\": 0.014285714285714285, \"tpr\": 0.9558823529411765, \"n\": 70}, {\"threshold\": 0.846, \"p\": 136, \"fpr\": 0.014285714285714285, \"tpr\": 0.9558823529411765, \"n\": 70}, {\"threshold\": 0.847, \"p\": 136, \"fpr\": 0.014285714285714285, \"tpr\": 0.9558823529411765, \"n\": 70}, {\"threshold\": 0.848, \"p\": 136, \"fpr\": 0.014285714285714285, \"tpr\": 0.9558823529411765, \"n\": 70}, {\"threshold\": 0.849, \"p\": 136, \"fpr\": 0.014285714285714285, \"tpr\": 0.9558823529411765, \"n\": 70}, {\"threshold\": 0.85, \"p\": 136, \"fpr\": 0.014285714285714285, \"tpr\": 0.9558823529411765, \"n\": 70}, {\"threshold\": 0.851, \"p\": 136, \"fpr\": 0.014285714285714285, \"tpr\": 0.9558823529411765, \"n\": 70}, {\"threshold\": 0.852, \"p\": 136, \"fpr\": 0.014285714285714285, \"tpr\": 0.9558823529411765, \"n\": 70}, {\"threshold\": 0.853, \"p\": 136, \"fpr\": 0.014285714285714285, \"tpr\": 0.9558823529411765, \"n\": 70}, {\"threshold\": 0.854, \"p\": 136, \"fpr\": 0.014285714285714285, \"tpr\": 0.9558823529411765, \"n\": 70}, {\"threshold\": 0.855, \"p\": 136, \"fpr\": 0.014285714285714285, \"tpr\": 0.9558823529411765, \"n\": 70}, {\"threshold\": 0.856, \"p\": 136, \"fpr\": 0.014285714285714285, \"tpr\": 0.9558823529411765, \"n\": 70}, {\"threshold\": 0.857, \"p\": 136, \"fpr\": 0.014285714285714285, \"tpr\": 0.9558823529411765, \"n\": 70}, {\"threshold\": 0.858, \"p\": 136, \"fpr\": 0.014285714285714285, \"tpr\": 0.9558823529411765, \"n\": 70}, {\"threshold\": 0.859, \"p\": 136, \"fpr\": 0.014285714285714285, \"tpr\": 0.9558823529411765, \"n\": 70}, {\"threshold\": 0.86, \"p\": 136, \"fpr\": 0.014285714285714285, \"tpr\": 0.9558823529411765, \"n\": 70}, {\"threshold\": 0.861, \"p\": 136, \"fpr\": 0.014285714285714285, \"tpr\": 0.9558823529411765, \"n\": 70}, {\"threshold\": 0.862, \"p\": 136, \"fpr\": 0.014285714285714285, \"tpr\": 0.9558823529411765, \"n\": 70}, {\"threshold\": 0.863, \"p\": 136, \"fpr\": 0.014285714285714285, \"tpr\": 0.9558823529411765, \"n\": 70}, {\"threshold\": 0.864, \"p\": 136, \"fpr\": 0.014285714285714285, \"tpr\": 0.9558823529411765, \"n\": 70}, {\"threshold\": 0.865, \"p\": 136, \"fpr\": 0.014285714285714285, \"tpr\": 0.9558823529411765, \"n\": 70}, {\"threshold\": 0.866, \"p\": 136, \"fpr\": 0.014285714285714285, \"tpr\": 0.9558823529411765, \"n\": 70}, {\"threshold\": 0.867, \"p\": 136, \"fpr\": 0.014285714285714285, \"tpr\": 0.9558823529411765, \"n\": 70}, {\"threshold\": 0.868, \"p\": 136, \"fpr\": 0.014285714285714285, \"tpr\": 0.9558823529411765, \"n\": 70}, {\"threshold\": 0.869, \"p\": 136, \"fpr\": 0.014285714285714285, \"tpr\": 0.9558823529411765, \"n\": 70}, {\"threshold\": 0.87, \"p\": 136, \"fpr\": 0.014285714285714285, \"tpr\": 0.9558823529411765, \"n\": 70}, {\"threshold\": 0.871, \"p\": 136, \"fpr\": 0.014285714285714285, \"tpr\": 0.9558823529411765, \"n\": 70}, {\"threshold\": 0.872, \"p\": 136, \"fpr\": 0.014285714285714285, \"tpr\": 0.9558823529411765, \"n\": 70}, {\"threshold\": 0.873, \"p\": 136, \"fpr\": 0.014285714285714285, \"tpr\": 0.9558823529411765, \"n\": 70}, {\"threshold\": 0.874, \"p\": 136, \"fpr\": 0.014285714285714285, \"tpr\": 0.9558823529411765, \"n\": 70}, {\"threshold\": 0.875, \"p\": 136, \"fpr\": 0.014285714285714285, \"tpr\": 0.9558823529411765, \"n\": 70}, {\"threshold\": 0.876, \"p\": 136, \"fpr\": 0.0, \"tpr\": 0.9558823529411765, \"n\": 70}, {\"threshold\": 0.877, \"p\": 136, \"fpr\": 0.0, \"tpr\": 0.9558823529411765, \"n\": 70}, {\"threshold\": 0.878, \"p\": 136, \"fpr\": 0.0, \"tpr\": 0.9558823529411765, \"n\": 70}, {\"threshold\": 0.879, \"p\": 136, \"fpr\": 0.0, \"tpr\": 0.9558823529411765, \"n\": 70}, {\"threshold\": 0.88, \"p\": 136, \"fpr\": 0.0, \"tpr\": 0.9558823529411765, \"n\": 70}, {\"threshold\": 0.881, \"p\": 136, \"fpr\": 0.0, \"tpr\": 0.9558823529411765, \"n\": 70}, {\"threshold\": 0.882, \"p\": 136, \"fpr\": 0.0, \"tpr\": 0.9558823529411765, \"n\": 70}, {\"threshold\": 0.883, \"p\": 136, \"fpr\": 0.0, \"tpr\": 0.9558823529411765, \"n\": 70}, {\"threshold\": 0.884, \"p\": 136, \"fpr\": 0.0, \"tpr\": 0.9558823529411765, \"n\": 70}, {\"threshold\": 0.885, \"p\": 136, \"fpr\": 0.0, \"tpr\": 0.9558823529411765, \"n\": 70}, {\"threshold\": 0.886, \"p\": 136, \"fpr\": 0.0, \"tpr\": 0.9558823529411765, \"n\": 70}, {\"threshold\": 0.887, \"p\": 136, \"fpr\": 0.0, \"tpr\": 0.9558823529411765, \"n\": 70}, {\"threshold\": 0.888, \"p\": 136, \"fpr\": 0.0, \"tpr\": 0.9558823529411765, \"n\": 70}, {\"threshold\": 0.889, \"p\": 136, \"fpr\": 0.0, \"tpr\": 0.9558823529411765, \"n\": 70}, {\"threshold\": 0.89, \"p\": 136, \"fpr\": 0.0, \"tpr\": 0.9558823529411765, \"n\": 70}, {\"threshold\": 0.891, \"p\": 136, \"fpr\": 0.0, \"tpr\": 0.9485294117647058, \"n\": 70}, {\"threshold\": 0.892, \"p\": 136, \"fpr\": 0.0, \"tpr\": 0.9485294117647058, \"n\": 70}, {\"threshold\": 0.893, \"p\": 136, \"fpr\": 0.0, \"tpr\": 0.9485294117647058, \"n\": 70}, {\"threshold\": 0.894, \"p\": 136, \"fpr\": 0.0, \"tpr\": 0.9485294117647058, \"n\": 70}, {\"threshold\": 0.895, \"p\": 136, \"fpr\": 0.0, \"tpr\": 0.9485294117647058, \"n\": 70}, {\"threshold\": 0.896, \"p\": 136, \"fpr\": 0.0, \"tpr\": 0.9485294117647058, \"n\": 70}, {\"threshold\": 0.897, \"p\": 136, \"fpr\": 0.0, \"tpr\": 0.9485294117647058, \"n\": 70}, {\"threshold\": 0.898, \"p\": 136, \"fpr\": 0.0, \"tpr\": 0.9485294117647058, \"n\": 70}, {\"threshold\": 0.899, \"p\": 136, \"fpr\": 0.0, \"tpr\": 0.9485294117647058, \"n\": 70}, {\"threshold\": 0.9, \"p\": 136, \"fpr\": 0.0, \"tpr\": 0.9485294117647058, \"n\": 70}, {\"threshold\": 0.901, \"p\": 136, \"fpr\": 0.0, \"tpr\": 0.9411764705882353, \"n\": 70}, {\"threshold\": 0.902, \"p\": 136, \"fpr\": 0.0, \"tpr\": 0.9411764705882353, \"n\": 70}, {\"threshold\": 0.903, \"p\": 136, \"fpr\": 0.0, \"tpr\": 0.9411764705882353, \"n\": 70}, {\"threshold\": 0.904, \"p\": 136, \"fpr\": 0.0, \"tpr\": 0.9411764705882353, \"n\": 70}, {\"threshold\": 0.905, \"p\": 136, \"fpr\": 0.0, \"tpr\": 0.9411764705882353, \"n\": 70}, {\"threshold\": 0.906, \"p\": 136, \"fpr\": 0.0, \"tpr\": 0.9411764705882353, \"n\": 70}, {\"threshold\": 0.907, \"p\": 136, \"fpr\": 0.0, \"tpr\": 0.9411764705882353, \"n\": 70}, {\"threshold\": 0.908, \"p\": 136, \"fpr\": 0.0, \"tpr\": 0.9411764705882353, \"n\": 70}, {\"threshold\": 0.909, \"p\": 136, \"fpr\": 0.0, \"tpr\": 0.9411764705882353, \"n\": 70}, {\"threshold\": 0.91, \"p\": 136, \"fpr\": 0.0, \"tpr\": 0.9411764705882353, \"n\": 70}, {\"threshold\": 0.911, \"p\": 136, \"fpr\": 0.0, \"tpr\": 0.9411764705882353, \"n\": 70}, {\"threshold\": 0.912, \"p\": 136, \"fpr\": 0.0, \"tpr\": 0.9411764705882353, \"n\": 70}, {\"threshold\": 0.913, \"p\": 136, \"fpr\": 0.0, \"tpr\": 0.9411764705882353, \"n\": 70}, {\"threshold\": 0.914, \"p\": 136, \"fpr\": 0.0, \"tpr\": 0.9411764705882353, \"n\": 70}, {\"threshold\": 0.915, \"p\": 136, \"fpr\": 0.0, \"tpr\": 0.9411764705882353, \"n\": 70}, {\"threshold\": 0.916, \"p\": 136, \"fpr\": 0.0, \"tpr\": 0.9411764705882353, \"n\": 70}, {\"threshold\": 0.917, \"p\": 136, \"fpr\": 0.0, \"tpr\": 0.9411764705882353, \"n\": 70}, {\"threshold\": 0.918, \"p\": 136, \"fpr\": 0.0, \"tpr\": 0.9411764705882353, \"n\": 70}, {\"threshold\": 0.919, \"p\": 136, \"fpr\": 0.0, \"tpr\": 0.9411764705882353, \"n\": 70}, {\"threshold\": 0.92, \"p\": 136, \"fpr\": 0.0, \"tpr\": 0.9411764705882353, \"n\": 70}, {\"threshold\": 0.921, \"p\": 136, \"fpr\": 0.0, \"tpr\": 0.9411764705882353, \"n\": 70}, {\"threshold\": 0.922, \"p\": 136, \"fpr\": 0.0, \"tpr\": 0.9411764705882353, \"n\": 70}, {\"threshold\": 0.923, \"p\": 136, \"fpr\": 0.0, \"tpr\": 0.9411764705882353, \"n\": 70}, {\"threshold\": 0.924, \"p\": 136, \"fpr\": 0.0, \"tpr\": 0.9411764705882353, \"n\": 70}, {\"threshold\": 0.925, \"p\": 136, \"fpr\": 0.0, \"tpr\": 0.9411764705882353, \"n\": 70}, {\"threshold\": 0.926, \"p\": 136, \"fpr\": 0.0, \"tpr\": 0.9411764705882353, \"n\": 70}, {\"threshold\": 0.927, \"p\": 136, \"fpr\": 0.0, \"tpr\": 0.9411764705882353, \"n\": 70}, {\"threshold\": 0.928, \"p\": 136, \"fpr\": 0.0, \"tpr\": 0.9411764705882353, \"n\": 70}, {\"threshold\": 0.929, \"p\": 136, \"fpr\": 0.0, \"tpr\": 0.9411764705882353, \"n\": 70}, {\"threshold\": 0.93, \"p\": 136, \"fpr\": 0.0, \"tpr\": 0.9411764705882353, \"n\": 70}, {\"threshold\": 0.931, \"p\": 136, \"fpr\": 0.0, \"tpr\": 0.9411764705882353, \"n\": 70}, {\"threshold\": 0.932, \"p\": 136, \"fpr\": 0.0, \"tpr\": 0.9411764705882353, \"n\": 70}, {\"threshold\": 0.933, \"p\": 136, \"fpr\": 0.0, \"tpr\": 0.9411764705882353, \"n\": 70}, {\"threshold\": 0.934, \"p\": 136, \"fpr\": 0.0, \"tpr\": 0.9411764705882353, \"n\": 70}, {\"threshold\": 0.935, \"p\": 136, \"fpr\": 0.0, \"tpr\": 0.9411764705882353, \"n\": 70}, {\"threshold\": 0.936, \"p\": 136, \"fpr\": 0.0, \"tpr\": 0.9411764705882353, \"n\": 70}, {\"threshold\": 0.937, \"p\": 136, \"fpr\": 0.0, \"tpr\": 0.9411764705882353, \"n\": 70}, {\"threshold\": 0.938, \"p\": 136, \"fpr\": 0.0, \"tpr\": 0.9411764705882353, \"n\": 70}, {\"threshold\": 0.939, \"p\": 136, \"fpr\": 0.0, \"tpr\": 0.9411764705882353, \"n\": 70}, {\"threshold\": 0.94, \"p\": 136, \"fpr\": 0.0, \"tpr\": 0.9411764705882353, \"n\": 70}, {\"threshold\": 0.941, \"p\": 136, \"fpr\": 0.0, \"tpr\": 0.9411764705882353, \"n\": 70}, {\"threshold\": 0.942, \"p\": 136, \"fpr\": 0.0, \"tpr\": 0.9411764705882353, \"n\": 70}, {\"threshold\": 0.943, \"p\": 136, \"fpr\": 0.0, \"tpr\": 0.9411764705882353, \"n\": 70}, {\"threshold\": 0.944, \"p\": 136, \"fpr\": 0.0, \"tpr\": 0.9411764705882353, \"n\": 70}, {\"threshold\": 0.945, \"p\": 136, \"fpr\": 0.0, \"tpr\": 0.9411764705882353, \"n\": 70}, {\"threshold\": 0.946, \"p\": 136, \"fpr\": 0.0, \"tpr\": 0.9338235294117647, \"n\": 70}, {\"threshold\": 0.947, \"p\": 136, \"fpr\": 0.0, \"tpr\": 0.9338235294117647, \"n\": 70}, {\"threshold\": 0.948, \"p\": 136, \"fpr\": 0.0, \"tpr\": 0.9338235294117647, \"n\": 70}, {\"threshold\": 0.949, \"p\": 136, \"fpr\": 0.0, \"tpr\": 0.9338235294117647, \"n\": 70}, {\"threshold\": 0.95, \"p\": 136, \"fpr\": 0.0, \"tpr\": 0.9338235294117647, \"n\": 70}, {\"threshold\": 0.951, \"p\": 136, \"fpr\": 0.0, \"tpr\": 0.9338235294117647, \"n\": 70}, {\"threshold\": 0.952, \"p\": 136, \"fpr\": 0.0, \"tpr\": 0.9338235294117647, \"n\": 70}, {\"threshold\": 0.953, \"p\": 136, \"fpr\": 0.0, \"tpr\": 0.9338235294117647, \"n\": 70}, {\"threshold\": 0.954, \"p\": 136, \"fpr\": 0.0, \"tpr\": 0.9338235294117647, \"n\": 70}, {\"threshold\": 0.955, \"p\": 136, \"fpr\": 0.0, \"tpr\": 0.9338235294117647, \"n\": 70}, {\"threshold\": 0.956, \"p\": 136, \"fpr\": 0.0, \"tpr\": 0.9338235294117647, \"n\": 70}, {\"threshold\": 0.957, \"p\": 136, \"fpr\": 0.0, \"tpr\": 0.9338235294117647, \"n\": 70}, {\"threshold\": 0.958, \"p\": 136, \"fpr\": 0.0, \"tpr\": 0.9338235294117647, \"n\": 70}, {\"threshold\": 0.959, \"p\": 136, \"fpr\": 0.0, \"tpr\": 0.9338235294117647, \"n\": 70}, {\"threshold\": 0.96, \"p\": 136, \"fpr\": 0.0, \"tpr\": 0.9338235294117647, \"n\": 70}, {\"threshold\": 0.961, \"p\": 136, \"fpr\": 0.0, \"tpr\": 0.9264705882352942, \"n\": 70}, {\"threshold\": 0.962, \"p\": 136, \"fpr\": 0.0, \"tpr\": 0.9264705882352942, \"n\": 70}, {\"threshold\": 0.963, \"p\": 136, \"fpr\": 0.0, \"tpr\": 0.9191176470588235, \"n\": 70}, {\"threshold\": 0.964, \"p\": 136, \"fpr\": 0.0, \"tpr\": 0.9191176470588235, \"n\": 70}, {\"threshold\": 0.965, \"p\": 136, \"fpr\": 0.0, \"tpr\": 0.9191176470588235, \"n\": 70}, {\"threshold\": 0.966, \"p\": 136, \"fpr\": 0.0, \"tpr\": 0.9191176470588235, \"n\": 70}, {\"threshold\": 0.967, \"p\": 136, \"fpr\": 0.0, \"tpr\": 0.9191176470588235, \"n\": 70}, {\"threshold\": 0.968, \"p\": 136, \"fpr\": 0.0, \"tpr\": 0.9191176470588235, \"n\": 70}, {\"threshold\": 0.969, \"p\": 136, \"fpr\": 0.0, \"tpr\": 0.9191176470588235, \"n\": 70}, {\"threshold\": 0.97, \"p\": 136, \"fpr\": 0.0, \"tpr\": 0.9191176470588235, \"n\": 70}, {\"threshold\": 0.971, \"p\": 136, \"fpr\": 0.0, \"tpr\": 0.9191176470588235, \"n\": 70}, {\"threshold\": 0.972, \"p\": 136, \"fpr\": 0.0, \"tpr\": 0.9191176470588235, \"n\": 70}, {\"threshold\": 0.973, \"p\": 136, \"fpr\": 0.0, \"tpr\": 0.9191176470588235, \"n\": 70}, {\"threshold\": 0.974, \"p\": 136, \"fpr\": 0.0, \"tpr\": 0.9117647058823529, \"n\": 70}, {\"threshold\": 0.975, \"p\": 136, \"fpr\": 0.0, \"tpr\": 0.9117647058823529, \"n\": 70}, {\"threshold\": 0.976, \"p\": 136, \"fpr\": 0.0, \"tpr\": 0.8970588235294118, \"n\": 70}, {\"threshold\": 0.977, \"p\": 136, \"fpr\": 0.0, \"tpr\": 0.8897058823529411, \"n\": 70}, {\"threshold\": 0.978, \"p\": 136, \"fpr\": 0.0, \"tpr\": 0.8897058823529411, \"n\": 70}, {\"threshold\": 0.979, \"p\": 136, \"fpr\": 0.0, \"tpr\": 0.8897058823529411, \"n\": 70}, {\"threshold\": 0.98, \"p\": 136, \"fpr\": 0.0, \"tpr\": 0.8897058823529411, \"n\": 70}, {\"threshold\": 0.981, \"p\": 136, \"fpr\": 0.0, \"tpr\": 0.8897058823529411, \"n\": 70}, {\"threshold\": 0.982, \"p\": 136, \"fpr\": 0.0, \"tpr\": 0.8897058823529411, \"n\": 70}, {\"threshold\": 0.983, \"p\": 136, \"fpr\": 0.0, \"tpr\": 0.8897058823529411, \"n\": 70}, {\"threshold\": 0.984, \"p\": 136, \"fpr\": 0.0, \"tpr\": 0.8897058823529411, \"n\": 70}, {\"threshold\": 0.985, \"p\": 136, \"fpr\": 0.0, \"tpr\": 0.8823529411764706, \"n\": 70}, {\"threshold\": 0.986, \"p\": 136, \"fpr\": 0.0, \"tpr\": 0.8823529411764706, \"n\": 70}, {\"threshold\": 0.987, \"p\": 136, \"fpr\": 0.0, \"tpr\": 0.875, \"n\": 70}, {\"threshold\": 0.988, \"p\": 136, \"fpr\": 0.0, \"tpr\": 0.8382352941176471, \"n\": 70}, {\"threshold\": 0.989, \"p\": 136, \"fpr\": 0.0, \"tpr\": 0.6911764705882353, \"n\": 70}, {\"threshold\": 0.99, \"p\": 136, \"fpr\": 0.0, \"tpr\": 0.6617647058823529, \"n\": 70}, {\"threshold\": 0.991, \"p\": 136, \"fpr\": 0.0, \"tpr\": 0.625, \"n\": 70}, {\"threshold\": 0.992, \"p\": 136, \"fpr\": 0.0, \"tpr\": 0.6176470588235294, \"n\": 70}, {\"threshold\": 0.993, \"p\": 136, \"fpr\": 0.0, \"tpr\": 0.6102941176470589, \"n\": 70}, {\"threshold\": 0.994, \"p\": 136, \"fpr\": 0.0, \"tpr\": 0.5294117647058824, \"n\": 70}, {\"threshold\": 0.995, \"p\": 136, \"fpr\": 0.0, \"tpr\": 0.5073529411764706, \"n\": 70}, {\"threshold\": 0.996, \"p\": 136, \"fpr\": 0.0, \"tpr\": 0.38235294117647056, \"n\": 70}, {\"threshold\": 0.997, \"p\": 136, \"fpr\": 0.0, \"tpr\": 0.375, \"n\": 70}, {\"threshold\": 0.998, \"p\": 136, \"fpr\": 0.0, \"tpr\": 0.3602941176470588, \"n\": 70}, {\"threshold\": 0.999, \"p\": 136, \"fpr\": 0.0, \"tpr\": 0.34558823529411764, \"n\": 70}, {\"threshold\": 1.0, \"p\": 136, \"fpr\": 0.0, \"tpr\": 0.0, \"n\": 70}], \"confusion_matrix\": [{\"count\": 3, \"target_label\": -1, \"predicted_label\": 1}, {\"count\": 67, \"target_label\": -1, \"predicted_label\": -1}, {\"count\": 135, \"target_label\": 1, \"predicted_label\": 1}, {\"count\": 1, \"target_label\": 1, \"predicted_label\": -1}], \"accuracy\": 0.9805825242718447}]]}, e);\n",
       "                });\n",
       "            })();\n",
       "        "
      ]
     },
     "metadata": {},
     "output_type": "display_data"
    }
   ],
   "source": [
    "model.show(view='Evaluation')"
   ]
  },
  {
   "cell_type": "code",
   "execution_count": 311,
   "metadata": {
    "collapsed": true
   },
   "outputs": [],
   "source": [
    "#SQL Server:NTT16DBS100PPP\\NTT16DBS100NAV"
   ]
  },
  {
   "cell_type": "code",
   "execution_count": 312,
   "metadata": {
    "collapsed": true
   },
   "outputs": [],
   "source": [
    "#lets study alarms for SQL Server:NTT16DBS100PPP\\NTT16DBS100NAV\n",
    "SQL_Server_alarms = alarms[alarms['Element']=='SQL Server:NTT16DBS100PPP\\NTT16DBS100NAV']\n",
    "SQL_Server_alarms['predicted_health'] = model.predict(SQL_Server_alarms, output_type='probability')"
   ]
  },
  {
   "cell_type": "code",
   "execution_count": 313,
   "metadata": {
    "collapsed": false
   },
   "outputs": [
    {
     "data": {
      "application/javascript": [
       "$(\"head\").append($(\"<link/>\").attr({\n",
       "  rel:  \"stylesheet\",\n",
       "  type: \"text/css\",\n",
       "  href: \"//cdnjs.cloudflare.com/ajax/libs/font-awesome/4.1.0/css/font-awesome.min.css\"\n",
       "}));\n",
       "$(\"head\").append($(\"<link/>\").attr({\n",
       "  rel:  \"stylesheet\",\n",
       "  type: \"text/css\",\n",
       "  href: \"https://static.turi.com/products/graphlab-create/2.0/canvas/css/canvas.css\"\n",
       "}));\n",
       "\n",
       "            (function(){\n",
       "\n",
       "                var e = null;\n",
       "                if (typeof element == 'undefined') {\n",
       "                    var scripts = document.getElementsByTagName('script');\n",
       "                    var thisScriptTag = scripts[scripts.length-1];\n",
       "                    var parentDiv = thisScriptTag.parentNode;\n",
       "                    e = document.createElement('div');\n",
       "                    parentDiv.appendChild(e);\n",
       "                } else {\n",
       "                    e = element[0];\n",
       "                }\n",
       "\n",
       "                if (typeof requirejs !== 'undefined') {\n",
       "                    // disable load timeout; ipython_app.js is large and can take a while to load.\n",
       "                    requirejs.config({waitSeconds: 0});\n",
       "                }\n",
       "\n",
       "                require(['https://static.turi.com/products/graphlab-create/2.0/canvas/js/ipython_app.js'], function(IPythonApp){\n",
       "                    var app = new IPythonApp();\n",
       "                    app.attachView('sarray','Categorical', {\"ipython\": true, \"sketch\": {\"complete\": true, \"numeric\": false, \"num_unique\": 3, \"num_undefined\": 0, \"progress\": 1.0, \"frequent_items\": {\"CRITICAL\": {\"frequency\": 2, \"value\": \"CRITICAL\"}, \"INFORMATIONAL\": {\"frequency\": 26, \"value\": \"INFORMATIONAL\"}, \"MINOR\": {\"frequency\": 1, \"value\": \"MINOR\"}}, \"size\": 29}, \"selected_variable\": {\"name\": [\"<SArray>\"], \"dtype\": \"str\", \"view_component\": \"Categorical\", \"view_file\": \"sarray\", \"descriptives\": {\"rows\": 29}, \"type\": \"SArray\", \"view_components\": [\"Categorical\"]}, \"histogram\": null}, e);\n",
       "                });\n",
       "            })();\n",
       "        "
      ]
     },
     "metadata": {},
     "output_type": "display_data"
    }
   ],
   "source": [
    "gl.canvas.set_target('ipynb')\n",
    "SQL_Server_alarms['Severity'].show()"
   ]
  },
  {
   "cell_type": "code",
   "execution_count": 314,
   "metadata": {
    "collapsed": true
   },
   "outputs": [],
   "source": [
    "SQL_Server_alarms = SQL_Server_alarms.sort('predicted_health', ascending=False)"
   ]
  },
  {
   "cell_type": "code",
   "execution_count": 315,
   "metadata": {
    "collapsed": false
   },
   "outputs": [
    {
     "data": {
      "text/html": [
       "<div style=\"max-height:1000px;max-width:1500px;overflow:auto;\"><table frame=\"box\" rules=\"cols\">\n",
       "    <tr>\n",
       "        <th style=\"padding-left: 1em; padding-right: 1em; text-align: center\">Severity</th>\n",
       "        <th style=\"padding-left: 1em; padding-right: 1em; text-align: center\">Element</th>\n",
       "        <th style=\"padding-left: 1em; padding-right: 1em; text-align: center\">Date/Time</th>\n",
       "        <th style=\"padding-left: 1em; padding-right: 1em; text-align: center\">ID</th>\n",
       "        <th style=\"padding-left: 1em; padding-right: 1em; text-align: center\">EventID</th>\n",
       "        <th style=\"padding-left: 1em; padding-right: 1em; text-align: center\">Message</th>\n",
       "    </tr>\n",
       "    <tr>\n",
       "        <td style=\"padding-left: 1em; padding-right: 1em; text-align: center; vertical-align: top\">CRITICAL</td>\n",
       "        <td style=\"padding-left: 1em; padding-right: 1em; text-align: center; vertical-align: top\">SQL Server:NTT16DBS100PPP<br>\\NTT16DBS100NAV ...</td>\n",
       "        <td style=\"padding-left: 1em; padding-right: 1em; text-align: center; vertical-align: top\">Tue, Feb 9, 2016 08:47:29<br>AM EST ...</td>\n",
       "        <td style=\"padding-left: 1em; padding-right: 1em; text-align: center; vertical-align: top\">8503378</td>\n",
       "        <td style=\"padding-left: 1em; padding-right: 1em; text-align: center; vertical-align: top\">8503378</td>\n",
       "        <td style=\"padding-left: 1em; padding-right: 1em; text-align: center; vertical-align: top\">Logical Disk: Disk space<br>on D (%) is critical ...</td>\n",
       "    </tr>\n",
       "    <tr>\n",
       "        <td style=\"padding-left: 1em; padding-right: 1em; text-align: center; vertical-align: top\">CRITICAL</td>\n",
       "        <td style=\"padding-left: 1em; padding-right: 1em; text-align: center; vertical-align: top\">SQL Server:NTT16DBS100PPP<br>\\NTT16DBS100NAV ...</td>\n",
       "        <td style=\"padding-left: 1em; padding-right: 1em; text-align: center; vertical-align: top\">Tue, Feb 9, 2016 08:27:23<br>AM EST ...</td>\n",
       "        <td style=\"padding-left: 1em; padding-right: 1em; text-align: center; vertical-align: top\">8503152</td>\n",
       "        <td style=\"padding-left: 1em; padding-right: 1em; text-align: center; vertical-align: top\">8503152</td>\n",
       "        <td style=\"padding-left: 1em; padding-right: 1em; text-align: center; vertical-align: top\">Windows Service: The<br>NetIQ AppManager Client ...</td>\n",
       "    </tr>\n",
       "    <tr>\n",
       "        <td style=\"padding-left: 1em; padding-right: 1em; text-align: center; vertical-align: top\">INFORMATIONAL</td>\n",
       "        <td style=\"padding-left: 1em; padding-right: 1em; text-align: center; vertical-align: top\">SQL Server:NTT16DBS100PPP<br>\\NTT16DBS100NAV ...</td>\n",
       "        <td style=\"padding-left: 1em; padding-right: 1em; text-align: center; vertical-align: top\">Tue, Feb 9, 2016 07:20:26<br>AM EST ...</td>\n",
       "        <td style=\"padding-left: 1em; padding-right: 1em; text-align: center; vertical-align: top\">8774546</td>\n",
       "        <td style=\"padding-left: 1em; padding-right: 1em; text-align: center; vertical-align: top\">8774546</td>\n",
       "        <td style=\"padding-left: 1em; padding-right: 1em; text-align: center; vertical-align: top\">Job Failure: SQL<br>query/command failed ...</td>\n",
       "    </tr>\n",
       "    <tr>\n",
       "        <td style=\"padding-left: 1em; padding-right: 1em; text-align: center; vertical-align: top\">INFORMATIONAL</td>\n",
       "        <td style=\"padding-left: 1em; padding-right: 1em; text-align: center; vertical-align: top\">SQL Server:NTT16DBS100PPP<br>\\NTT16DBS100NAV ...</td>\n",
       "        <td style=\"padding-left: 1em; padding-right: 1em; text-align: center; vertical-align: top\">Tue, Feb 9, 2016 08:09:25<br>AM EST ...</td>\n",
       "        <td style=\"padding-left: 1em; padding-right: 1em; text-align: center; vertical-align: top\">8775123</td>\n",
       "        <td style=\"padding-left: 1em; padding-right: 1em; text-align: center; vertical-align: top\">8775123</td>\n",
       "        <td style=\"padding-left: 1em; padding-right: 1em; text-align: center; vertical-align: top\">Error with SQL query on N<br>TT16DBS100PPP\\NTT16DB ...</td>\n",
       "    </tr>\n",
       "    <tr>\n",
       "        <td style=\"padding-left: 1em; padding-right: 1em; text-align: center; vertical-align: top\">INFORMATIONAL</td>\n",
       "        <td style=\"padding-left: 1em; padding-right: 1em; text-align: center; vertical-align: top\">SQL Server:NTT16DBS100PPP<br>\\NTT16DBS100NAV ...</td>\n",
       "        <td style=\"padding-left: 1em; padding-right: 1em; text-align: center; vertical-align: top\">Tue, Feb 9, 2016 07:39:43<br>AM EST ...</td>\n",
       "        <td style=\"padding-left: 1em; padding-right: 1em; text-align: center; vertical-align: top\">8774778</td>\n",
       "        <td style=\"padding-left: 1em; padding-right: 1em; text-align: center; vertical-align: top\">8774778</td>\n",
       "        <td style=\"padding-left: 1em; padding-right: 1em; text-align: center; vertical-align: top\">Error with SQL query on N<br>TT16DBS100PPP\\NTT16DB ...</td>\n",
       "    </tr>\n",
       "    <tr>\n",
       "        <td style=\"padding-left: 1em; padding-right: 1em; text-align: center; vertical-align: top\">INFORMATIONAL</td>\n",
       "        <td style=\"padding-left: 1em; padding-right: 1em; text-align: center; vertical-align: top\">SQL Server:NTT16DBS100PPP<br>\\NTT16DBS100NAV ...</td>\n",
       "        <td style=\"padding-left: 1em; padding-right: 1em; text-align: center; vertical-align: top\">Tue, Feb 9, 2016 08:50:18<br>AM EST ...</td>\n",
       "        <td style=\"padding-left: 1em; padding-right: 1em; text-align: center; vertical-align: top\">8775610</td>\n",
       "        <td style=\"padding-left: 1em; padding-right: 1em; text-align: center; vertical-align: top\">8775610</td>\n",
       "        <td style=\"padding-left: 1em; padding-right: 1em; text-align: center; vertical-align: top\">Error with SQL query on N<br>TT16DBS100PPP\\NTT16DB ...</td>\n",
       "    </tr>\n",
       "    <tr>\n",
       "        <td style=\"padding-left: 1em; padding-right: 1em; text-align: center; vertical-align: top\">INFORMATIONAL</td>\n",
       "        <td style=\"padding-left: 1em; padding-right: 1em; text-align: center; vertical-align: top\">SQL Server:NTT16DBS100PPP<br>\\NTT16DBS100NAV ...</td>\n",
       "        <td style=\"padding-left: 1em; padding-right: 1em; text-align: center; vertical-align: top\">Tue, Feb 9, 2016 07:27:17<br>AM EST ...</td>\n",
       "        <td style=\"padding-left: 1em; padding-right: 1em; text-align: center; vertical-align: top\">8774620</td>\n",
       "        <td style=\"padding-left: 1em; padding-right: 1em; text-align: center; vertical-align: top\">8774620</td>\n",
       "        <td style=\"padding-left: 1em; padding-right: 1em; text-align: center; vertical-align: top\">Error with SQL query on N<br>TT16DBS100PPP\\NTT16DB ...</td>\n",
       "    </tr>\n",
       "    <tr>\n",
       "        <td style=\"padding-left: 1em; padding-right: 1em; text-align: center; vertical-align: top\">INFORMATIONAL</td>\n",
       "        <td style=\"padding-left: 1em; padding-right: 1em; text-align: center; vertical-align: top\">SQL Server:NTT16DBS100PPP<br>\\NTT16DBS100NAV ...</td>\n",
       "        <td style=\"padding-left: 1em; padding-right: 1em; text-align: center; vertical-align: top\">Tue, Feb 9, 2016 08:27:23<br>AM EST ...</td>\n",
       "        <td style=\"padding-left: 1em; padding-right: 1em; text-align: center; vertical-align: top\">8775337</td>\n",
       "        <td style=\"padding-left: 1em; padding-right: 1em; text-align: center; vertical-align: top\">8775337</td>\n",
       "        <td style=\"padding-left: 1em; padding-right: 1em; text-align: center; vertical-align: top\">Job Failure: SQL<br>query/command failed ...</td>\n",
       "    </tr>\n",
       "    <tr>\n",
       "        <td style=\"padding-left: 1em; padding-right: 1em; text-align: center; vertical-align: top\">INFORMATIONAL</td>\n",
       "        <td style=\"padding-left: 1em; padding-right: 1em; text-align: center; vertical-align: top\">SQL Server:NTT16DBS100PPP<br>\\NTT16DBS100NAV ...</td>\n",
       "        <td style=\"padding-left: 1em; padding-right: 1em; text-align: center; vertical-align: top\">Tue, Feb 9, 2016 08:06:57<br>AM EST ...</td>\n",
       "        <td style=\"padding-left: 1em; padding-right: 1em; text-align: center; vertical-align: top\">8775099</td>\n",
       "        <td style=\"padding-left: 1em; padding-right: 1em; text-align: center; vertical-align: top\">8775099</td>\n",
       "        <td style=\"padding-left: 1em; padding-right: 1em; text-align: center; vertical-align: top\">Job Failure: SQL<br>query/command failed ...</td>\n",
       "    </tr>\n",
       "    <tr>\n",
       "        <td style=\"padding-left: 1em; padding-right: 1em; text-align: center; vertical-align: top\">INFORMATIONAL</td>\n",
       "        <td style=\"padding-left: 1em; padding-right: 1em; text-align: center; vertical-align: top\">SQL Server:NTT16DBS100PPP<br>\\NTT16DBS100NAV ...</td>\n",
       "        <td style=\"padding-left: 1em; padding-right: 1em; text-align: center; vertical-align: top\">Tue, Feb 9, 2016 06:55:53<br>AM EST ...</td>\n",
       "        <td style=\"padding-left: 1em; padding-right: 1em; text-align: center; vertical-align: top\">8774271</td>\n",
       "        <td style=\"padding-left: 1em; padding-right: 1em; text-align: center; vertical-align: top\">8774271</td>\n",
       "        <td style=\"padding-left: 1em; padding-right: 1em; text-align: center; vertical-align: top\">Job Failure: SQL<br>query/command failed ...</td>\n",
       "    </tr>\n",
       "</table>\n",
       "<table frame=\"box\" rules=\"cols\">\n",
       "    <tr>\n",
       "        <th style=\"padding-left: 1em; padding-right: 1em; text-align: center\">FirstOccurTime</th>\n",
       "        <th style=\"padding-left: 1em; padding-right: 1em; text-align: center\">Occurrence</th>\n",
       "        <th style=\"padding-left: 1em; padding-right: 1em; text-align: center\">Parent ID</th>\n",
       "        <th style=\"padding-left: 1em; padding-right: 1em; text-align: center\">Job ID</th>\n",
       "        <th style=\"padding-left: 1em; padding-right: 1em; text-align: center\">DepJobID</th>\n",
       "        <th style=\"padding-left: 1em; padding-right: 1em; text-align: center\">RepositoryName</th>\n",
       "        <th style=\"padding-left: 1em; padding-right: 1em; text-align: center\">SeverityCode</th>\n",
       "        <th style=\"padding-left: 1em; padding-right: 1em; text-align: center\">SeverityNum</th>\n",
       "    </tr>\n",
       "    <tr>\n",
       "        <td style=\"padding-left: 1em; padding-right: 1em; text-align: center; vertical-align: top\">Mon, Jan 25, 2016<br>07:08:16 PM EST ...</td>\n",
       "        <td style=\"padding-left: 1em; padding-right: 1em; text-align: center; vertical-align: top\">891</td>\n",
       "        <td style=\"padding-left: 1em; padding-right: 1em; text-align: center; vertical-align: top\">0</td>\n",
       "        <td style=\"padding-left: 1em; padding-right: 1em; text-align: center; vertical-align: top\">59845</td>\n",
       "        <td style=\"padding-left: 1em; padding-right: 1em; text-align: center; vertical-align: top\">0</td>\n",
       "        <td style=\"padding-left: 1em; padding-right: 1em; text-align: center; vertical-align: top\"></td>\n",
       "        <td style=\"padding-left: 1em; padding-right: 1em; text-align: center; vertical-align: top\">Severe</td>\n",
       "        <td style=\"padding-left: 1em; padding-right: 1em; text-align: center; vertical-align: top\">5</td>\n",
       "    </tr>\n",
       "    <tr>\n",
       "        <td style=\"padding-left: 1em; padding-right: 1em; text-align: center; vertical-align: top\">Mon, Jan 25, 2016<br>06:55:17 PM EST ...</td>\n",
       "        <td style=\"padding-left: 1em; padding-right: 1em; text-align: center; vertical-align: top\">800</td>\n",
       "        <td style=\"padding-left: 1em; padding-right: 1em; text-align: center; vertical-align: top\">0</td>\n",
       "        <td style=\"padding-left: 1em; padding-right: 1em; text-align: center; vertical-align: top\">65312</td>\n",
       "        <td style=\"padding-left: 1em; padding-right: 1em; text-align: center; vertical-align: top\">0</td>\n",
       "        <td style=\"padding-left: 1em; padding-right: 1em; text-align: center; vertical-align: top\"></td>\n",
       "        <td style=\"padding-left: 1em; padding-right: 1em; text-align: center; vertical-align: top\">Severe</td>\n",
       "        <td style=\"padding-left: 1em; padding-right: 1em; text-align: center; vertical-align: top\">5</td>\n",
       "    </tr>\n",
       "    <tr>\n",
       "        <td style=\"padding-left: 1em; padding-right: 1em; text-align: center; vertical-align: top\">Tue, Feb 9, 2016 07:20:26<br>AM EST ...</td>\n",
       "        <td style=\"padding-left: 1em; padding-right: 1em; text-align: center; vertical-align: top\">1</td>\n",
       "        <td style=\"padding-left: 1em; padding-right: 1em; text-align: center; vertical-align: top\">8503747</td>\n",
       "        <td style=\"padding-left: 1em; padding-right: 1em; text-align: center; vertical-align: top\">59859</td>\n",
       "        <td style=\"padding-left: 1em; padding-right: 1em; text-align: center; vertical-align: top\">0</td>\n",
       "        <td style=\"padding-left: 1em; padding-right: 1em; text-align: center; vertical-align: top\"></td>\n",
       "        <td style=\"padding-left: 1em; padding-right: 1em; text-align: center; vertical-align: top\">Informational</td>\n",
       "        <td style=\"padding-left: 1em; padding-right: 1em; text-align: center; vertical-align: top\">29</td>\n",
       "    </tr>\n",
       "    <tr>\n",
       "        <td style=\"padding-left: 1em; padding-right: 1em; text-align: center; vertical-align: top\">Tue, Feb 9, 2016 08:09:25<br>AM EST ...</td>\n",
       "        <td style=\"padding-left: 1em; padding-right: 1em; text-align: center; vertical-align: top\">1</td>\n",
       "        <td style=\"padding-left: 1em; padding-right: 1em; text-align: center; vertical-align: top\">8503370</td>\n",
       "        <td style=\"padding-left: 1em; padding-right: 1em; text-align: center; vertical-align: top\">59843</td>\n",
       "        <td style=\"padding-left: 1em; padding-right: 1em; text-align: center; vertical-align: top\">0</td>\n",
       "        <td style=\"padding-left: 1em; padding-right: 1em; text-align: center; vertical-align: top\"></td>\n",
       "        <td style=\"padding-left: 1em; padding-right: 1em; text-align: center; vertical-align: top\">Informational</td>\n",
       "        <td style=\"padding-left: 1em; padding-right: 1em; text-align: center; vertical-align: top\">29</td>\n",
       "    </tr>\n",
       "    <tr>\n",
       "        <td style=\"padding-left: 1em; padding-right: 1em; text-align: center; vertical-align: top\">Tue, Feb 9, 2016 07:39:43<br>AM EST ...</td>\n",
       "        <td style=\"padding-left: 1em; padding-right: 1em; text-align: center; vertical-align: top\">1</td>\n",
       "        <td style=\"padding-left: 1em; padding-right: 1em; text-align: center; vertical-align: top\">8503370</td>\n",
       "        <td style=\"padding-left: 1em; padding-right: 1em; text-align: center; vertical-align: top\">59843</td>\n",
       "        <td style=\"padding-left: 1em; padding-right: 1em; text-align: center; vertical-align: top\">0</td>\n",
       "        <td style=\"padding-left: 1em; padding-right: 1em; text-align: center; vertical-align: top\"></td>\n",
       "        <td style=\"padding-left: 1em; padding-right: 1em; text-align: center; vertical-align: top\">Informational</td>\n",
       "        <td style=\"padding-left: 1em; padding-right: 1em; text-align: center; vertical-align: top\">29</td>\n",
       "    </tr>\n",
       "    <tr>\n",
       "        <td style=\"padding-left: 1em; padding-right: 1em; text-align: center; vertical-align: top\">Tue, Feb 9, 2016 08:50:18<br>AM EST ...</td>\n",
       "        <td style=\"padding-left: 1em; padding-right: 1em; text-align: center; vertical-align: top\">1</td>\n",
       "        <td style=\"padding-left: 1em; padding-right: 1em; text-align: center; vertical-align: top\">8503123</td>\n",
       "        <td style=\"padding-left: 1em; padding-right: 1em; text-align: center; vertical-align: top\">59850</td>\n",
       "        <td style=\"padding-left: 1em; padding-right: 1em; text-align: center; vertical-align: top\">0</td>\n",
       "        <td style=\"padding-left: 1em; padding-right: 1em; text-align: center; vertical-align: top\"></td>\n",
       "        <td style=\"padding-left: 1em; padding-right: 1em; text-align: center; vertical-align: top\">Informational</td>\n",
       "        <td style=\"padding-left: 1em; padding-right: 1em; text-align: center; vertical-align: top\">29</td>\n",
       "    </tr>\n",
       "    <tr>\n",
       "        <td style=\"padding-left: 1em; padding-right: 1em; text-align: center; vertical-align: top\">Tue, Feb 9, 2016 07:27:17<br>AM EST ...</td>\n",
       "        <td style=\"padding-left: 1em; padding-right: 1em; text-align: center; vertical-align: top\">1</td>\n",
       "        <td style=\"padding-left: 1em; padding-right: 1em; text-align: center; vertical-align: top\">8503123</td>\n",
       "        <td style=\"padding-left: 1em; padding-right: 1em; text-align: center; vertical-align: top\">59850</td>\n",
       "        <td style=\"padding-left: 1em; padding-right: 1em; text-align: center; vertical-align: top\">0</td>\n",
       "        <td style=\"padding-left: 1em; padding-right: 1em; text-align: center; vertical-align: top\"></td>\n",
       "        <td style=\"padding-left: 1em; padding-right: 1em; text-align: center; vertical-align: top\">Informational</td>\n",
       "        <td style=\"padding-left: 1em; padding-right: 1em; text-align: center; vertical-align: top\">29</td>\n",
       "    </tr>\n",
       "    <tr>\n",
       "        <td style=\"padding-left: 1em; padding-right: 1em; text-align: center; vertical-align: top\">Tue, Feb 9, 2016 08:27:23<br>AM EST ...</td>\n",
       "        <td style=\"padding-left: 1em; padding-right: 1em; text-align: center; vertical-align: top\">1</td>\n",
       "        <td style=\"padding-left: 1em; padding-right: 1em; text-align: center; vertical-align: top\">8503152</td>\n",
       "        <td style=\"padding-left: 1em; padding-right: 1em; text-align: center; vertical-align: top\">65312</td>\n",
       "        <td style=\"padding-left: 1em; padding-right: 1em; text-align: center; vertical-align: top\">0</td>\n",
       "        <td style=\"padding-left: 1em; padding-right: 1em; text-align: center; vertical-align: top\"></td>\n",
       "        <td style=\"padding-left: 1em; padding-right: 1em; text-align: center; vertical-align: top\">Informational</td>\n",
       "        <td style=\"padding-left: 1em; padding-right: 1em; text-align: center; vertical-align: top\">29</td>\n",
       "    </tr>\n",
       "    <tr>\n",
       "        <td style=\"padding-left: 1em; padding-right: 1em; text-align: center; vertical-align: top\">Tue, Feb 9, 2016 08:06:57<br>AM EST ...</td>\n",
       "        <td style=\"padding-left: 1em; padding-right: 1em; text-align: center; vertical-align: top\">1</td>\n",
       "        <td style=\"padding-left: 1em; padding-right: 1em; text-align: center; vertical-align: top\">8503747</td>\n",
       "        <td style=\"padding-left: 1em; padding-right: 1em; text-align: center; vertical-align: top\">59859</td>\n",
       "        <td style=\"padding-left: 1em; padding-right: 1em; text-align: center; vertical-align: top\">0</td>\n",
       "        <td style=\"padding-left: 1em; padding-right: 1em; text-align: center; vertical-align: top\"></td>\n",
       "        <td style=\"padding-left: 1em; padding-right: 1em; text-align: center; vertical-align: top\">Informational</td>\n",
       "        <td style=\"padding-left: 1em; padding-right: 1em; text-align: center; vertical-align: top\">29</td>\n",
       "    </tr>\n",
       "    <tr>\n",
       "        <td style=\"padding-left: 1em; padding-right: 1em; text-align: center; vertical-align: top\">Tue, Feb 9, 2016 06:55:53<br>AM EST ...</td>\n",
       "        <td style=\"padding-left: 1em; padding-right: 1em; text-align: center; vertical-align: top\">1</td>\n",
       "        <td style=\"padding-left: 1em; padding-right: 1em; text-align: center; vertical-align: top\">8503747</td>\n",
       "        <td style=\"padding-left: 1em; padding-right: 1em; text-align: center; vertical-align: top\">59859</td>\n",
       "        <td style=\"padding-left: 1em; padding-right: 1em; text-align: center; vertical-align: top\">0</td>\n",
       "        <td style=\"padding-left: 1em; padding-right: 1em; text-align: center; vertical-align: top\"></td>\n",
       "        <td style=\"padding-left: 1em; padding-right: 1em; text-align: center; vertical-align: top\">Informational</td>\n",
       "        <td style=\"padding-left: 1em; padding-right: 1em; text-align: center; vertical-align: top\">29</td>\n",
       "    </tr>\n",
       "</table>\n",
       "<table frame=\"box\" rules=\"cols\">\n",
       "    <tr>\n",
       "        <th style=\"padding-left: 1em; padding-right: 1em; text-align: center\">Status</th>\n",
       "        <th style=\"padding-left: 1em; padding-right: 1em; text-align: center\">ObjID</th>\n",
       "        <th style=\"padding-left: 1em; padding-right: 1em; text-align: center\">KP Name</th>\n",
       "        <th style=\"padding-left: 1em; padding-right: 1em; text-align: center\">TypeObjName</th>\n",
       "        <th style=\"padding-left: 1em; padding-right: 1em; text-align: center\">ModificationTime</th>\n",
       "        <th style=\"padding-left: 1em; padding-right: 1em; text-align: center\">UserAcknowledged</th>\n",
       "    </tr>\n",
       "    <tr>\n",
       "        <td style=\"padding-left: 1em; padding-right: 1em; text-align: center; vertical-align: top\">OPEN</td>\n",
       "        <td style=\"padding-left: 1em; padding-right: 1em; text-align: center; vertical-align: top\">122482</td>\n",
       "        <td style=\"padding-left: 1em; padding-right: 1em; text-align: center; vertical-align: top\">3852:ATT-<br>SQL2012_SQLAgentJobState ...</td>\n",
       "        <td style=\"padding-left: 1em; padding-right: 1em; text-align: center; vertical-align: top\">SQLT_Server:SQL Server:NT<br>T16DBS100PPP\\NTT16DBS ...</td>\n",
       "        <td style=\"padding-left: 1em; padding-right: 1em; text-align: center; vertical-align: top\">Tue, Feb 9, 2016 08:50:01<br>AM EST ...</td>\n",
       "        <td style=\"padding-left: 1em; padding-right: 1em; text-align: center; vertical-align: top\"></td>\n",
       "    </tr>\n",
       "    <tr>\n",
       "        <td style=\"padding-left: 1em; padding-right: 1em; text-align: center; vertical-align: top\">OPEN</td>\n",
       "        <td style=\"padding-left: 1em; padding-right: 1em; text-align: center; vertical-align: top\">122482</td>\n",
       "        <td style=\"padding-left: 1em; padding-right: 1em; text-align: center; vertical-align: top\">4395:ATT-<br>SQL2014_SQLAgentJobState ...</td>\n",
       "        <td style=\"padding-left: 1em; padding-right: 1em; text-align: center; vertical-align: top\">SQLT_Server:SQL Server:NT<br>T16DBS100PPP\\NTT16DBS ...</td>\n",
       "        <td style=\"padding-left: 1em; padding-right: 1em; text-align: center; vertical-align: top\">Tue, Feb 9, 2016 08:40:01<br>AM EST ...</td>\n",
       "        <td style=\"padding-left: 1em; padding-right: 1em; text-align: center; vertical-align: top\"></td>\n",
       "    </tr>\n",
       "    <tr>\n",
       "        <td style=\"padding-left: 1em; padding-right: 1em; text-align: center; vertical-align: top\">OPEN</td>\n",
       "        <td style=\"padding-left: 1em; padding-right: 1em; text-align: center; vertical-align: top\">122482</td>\n",
       "        <td style=\"padding-left: 1em; padding-right: 1em; text-align: center; vertical-align: top\">4395:ATT-<br>SQL2014_DatabaseStatusCL ...</td>\n",
       "        <td style=\"padding-left: 1em; padding-right: 1em; text-align: center; vertical-align: top\">SQLT_Server:SQL Server:NT<br>T16DBS100PPP\\NTT16DBS ...</td>\n",
       "        <td style=\"padding-left: 1em; padding-right: 1em; text-align: center; vertical-align: top\">Tue, Feb 9, 2016 07:20:29<br>AM EST ...</td>\n",
       "        <td style=\"padding-left: 1em; padding-right: 1em; text-align: center; vertical-align: top\"></td>\n",
       "    </tr>\n",
       "    <tr>\n",
       "        <td style=\"padding-left: 1em; padding-right: 1em; text-align: center; vertical-align: top\">OPEN</td>\n",
       "        <td style=\"padding-left: 1em; padding-right: 1em; text-align: center; vertical-align: top\">122482</td>\n",
       "        <td style=\"padding-left: 1em; padding-right: 1em; text-align: center; vertical-align: top\">3852:ATT-<br>SQL2012_MonitorJobs ...</td>\n",
       "        <td style=\"padding-left: 1em; padding-right: 1em; text-align: center; vertical-align: top\">SQLT_Server:SQL Server:NT<br>T16DBS100PPP\\NTT16DBS ...</td>\n",
       "        <td style=\"padding-left: 1em; padding-right: 1em; text-align: center; vertical-align: top\">Tue, Feb 9, 2016 08:09:29<br>AM EST ...</td>\n",
       "        <td style=\"padding-left: 1em; padding-right: 1em; text-align: center; vertical-align: top\"></td>\n",
       "    </tr>\n",
       "    <tr>\n",
       "        <td style=\"padding-left: 1em; padding-right: 1em; text-align: center; vertical-align: top\">OPEN</td>\n",
       "        <td style=\"padding-left: 1em; padding-right: 1em; text-align: center; vertical-align: top\">122482</td>\n",
       "        <td style=\"padding-left: 1em; padding-right: 1em; text-align: center; vertical-align: top\">3852:ATT-<br>SQL2012_MonitorJobs ...</td>\n",
       "        <td style=\"padding-left: 1em; padding-right: 1em; text-align: center; vertical-align: top\">SQLT_Server:SQL Server:NT<br>T16DBS100PPP\\NTT16DBS ...</td>\n",
       "        <td style=\"padding-left: 1em; padding-right: 1em; text-align: center; vertical-align: top\">Tue, Feb 9, 2016 07:39:44<br>AM EST ...</td>\n",
       "        <td style=\"padding-left: 1em; padding-right: 1em; text-align: center; vertical-align: top\"></td>\n",
       "    </tr>\n",
       "    <tr>\n",
       "        <td style=\"padding-left: 1em; padding-right: 1em; text-align: center; vertical-align: top\">OPEN</td>\n",
       "        <td style=\"padding-left: 1em; padding-right: 1em; text-align: center; vertical-align: top\">122482</td>\n",
       "        <td style=\"padding-left: 1em; padding-right: 1em; text-align: center; vertical-align: top\">4395:ATT-<br>SQL2012_MonitorJobs ...</td>\n",
       "        <td style=\"padding-left: 1em; padding-right: 1em; text-align: center; vertical-align: top\">SQLT_Server:SQL Server:NT<br>T16DBS100PPP\\NTT16DBS ...</td>\n",
       "        <td style=\"padding-left: 1em; padding-right: 1em; text-align: center; vertical-align: top\">Tue, Feb 9, 2016 08:50:18<br>AM EST ...</td>\n",
       "        <td style=\"padding-left: 1em; padding-right: 1em; text-align: center; vertical-align: top\"></td>\n",
       "    </tr>\n",
       "    <tr>\n",
       "        <td style=\"padding-left: 1em; padding-right: 1em; text-align: center; vertical-align: top\">OPEN</td>\n",
       "        <td style=\"padding-left: 1em; padding-right: 1em; text-align: center; vertical-align: top\">122482</td>\n",
       "        <td style=\"padding-left: 1em; padding-right: 1em; text-align: center; vertical-align: top\">4395:ATT-<br>SQL2012_MonitorJobs ...</td>\n",
       "        <td style=\"padding-left: 1em; padding-right: 1em; text-align: center; vertical-align: top\">SQLT_Server:SQL Server:NT<br>T16DBS100PPP\\NTT16DBS ...</td>\n",
       "        <td style=\"padding-left: 1em; padding-right: 1em; text-align: center; vertical-align: top\">Tue, Feb 9, 2016 07:27:18<br>AM EST ...</td>\n",
       "        <td style=\"padding-left: 1em; padding-right: 1em; text-align: center; vertical-align: top\"></td>\n",
       "    </tr>\n",
       "    <tr>\n",
       "        <td style=\"padding-left: 1em; padding-right: 1em; text-align: center; vertical-align: top\">OPEN</td>\n",
       "        <td style=\"padding-left: 1em; padding-right: 1em; text-align: center; vertical-align: top\">122482</td>\n",
       "        <td style=\"padding-left: 1em; padding-right: 1em; text-align: center; vertical-align: top\">4395:ATT-<br>SQL2014_SQLAgentJobState ...</td>\n",
       "        <td style=\"padding-left: 1em; padding-right: 1em; text-align: center; vertical-align: top\">SQLT_Server:SQL Server:NT<br>T16DBS100PPP\\NTT16DBS ...</td>\n",
       "        <td style=\"padding-left: 1em; padding-right: 1em; text-align: center; vertical-align: top\">Tue, Feb 9, 2016 08:27:28<br>AM EST ...</td>\n",
       "        <td style=\"padding-left: 1em; padding-right: 1em; text-align: center; vertical-align: top\"></td>\n",
       "    </tr>\n",
       "    <tr>\n",
       "        <td style=\"padding-left: 1em; padding-right: 1em; text-align: center; vertical-align: top\">OPEN</td>\n",
       "        <td style=\"padding-left: 1em; padding-right: 1em; text-align: center; vertical-align: top\">122482</td>\n",
       "        <td style=\"padding-left: 1em; padding-right: 1em; text-align: center; vertical-align: top\">4395:ATT-<br>SQL2014_DatabaseStatusCL ...</td>\n",
       "        <td style=\"padding-left: 1em; padding-right: 1em; text-align: center; vertical-align: top\">SQLT_Server:SQL Server:NT<br>T16DBS100PPP\\NTT16DBS ...</td>\n",
       "        <td style=\"padding-left: 1em; padding-right: 1em; text-align: center; vertical-align: top\">Tue, Feb 9, 2016 08:06:58<br>AM EST ...</td>\n",
       "        <td style=\"padding-left: 1em; padding-right: 1em; text-align: center; vertical-align: top\"></td>\n",
       "    </tr>\n",
       "    <tr>\n",
       "        <td style=\"padding-left: 1em; padding-right: 1em; text-align: center; vertical-align: top\">OPEN</td>\n",
       "        <td style=\"padding-left: 1em; padding-right: 1em; text-align: center; vertical-align: top\">122482</td>\n",
       "        <td style=\"padding-left: 1em; padding-right: 1em; text-align: center; vertical-align: top\">4395:ATT-<br>SQL2014_DatabaseStatusCL ...</td>\n",
       "        <td style=\"padding-left: 1em; padding-right: 1em; text-align: center; vertical-align: top\">SQLT_Server:SQL Server:NT<br>T16DBS100PPP\\NTT16DBS ...</td>\n",
       "        <td style=\"padding-left: 1em; padding-right: 1em; text-align: center; vertical-align: top\">Tue, Feb 9, 2016 06:55:56<br>AM EST ...</td>\n",
       "        <td style=\"padding-left: 1em; padding-right: 1em; text-align: center; vertical-align: top\"></td>\n",
       "    </tr>\n",
       "</table>\n",
       "<table frame=\"box\" rules=\"cols\">\n",
       "    <tr>\n",
       "        <th style=\"padding-left: 1em; padding-right: 1em; text-align: center\">Machine Name</th>\n",
       "        <th style=\"padding-left: 1em; padding-right: 1em; text-align: center\">FirstOccurConsoleTime</th>\n",
       "        <th style=\"padding-left: 1em; padding-right: 1em; text-align: center\">LastOccurConsoleTime</th>\n",
       "        <th style=\"padding-left: 1em; padding-right: 1em; text-align: center\">Actions</th>\n",
       "        <th style=\"padding-left: 1em; padding-right: 1em; text-align: center\">ActionEndTime</th>\n",
       "    </tr>\n",
       "    <tr>\n",
       "        <td style=\"padding-left: 1em; padding-right: 1em; text-align: center; vertical-align: top\">NTT16DBS100PPP</td>\n",
       "        <td style=\"padding-left: 1em; padding-right: 1em; text-align: center; vertical-align: top\">Mon, Jan 25, 2016<br>07:08:16 PM EST ...</td>\n",
       "        <td style=\"padding-left: 1em; padding-right: 1em; text-align: center; vertical-align: top\">Tue, Feb 9, 2016 08:47:29<br>AM EST ...</td>\n",
       "        <td style=\"padding-left: 1em; padding-right: 1em; text-align: center; vertical-align: top\">no</td>\n",
       "        <td style=\"padding-left: 1em; padding-right: 1em; text-align: center; vertical-align: top\">0</td>\n",
       "    </tr>\n",
       "    <tr>\n",
       "        <td style=\"padding-left: 1em; padding-right: 1em; text-align: center; vertical-align: top\">NTT16DBS100PPP</td>\n",
       "        <td style=\"padding-left: 1em; padding-right: 1em; text-align: center; vertical-align: top\">Mon, Jan 25, 2016<br>06:55:17 PM EST ...</td>\n",
       "        <td style=\"padding-left: 1em; padding-right: 1em; text-align: center; vertical-align: top\">Tue, Feb 9, 2016 08:27:23<br>AM EST ...</td>\n",
       "        <td style=\"padding-left: 1em; padding-right: 1em; text-align: center; vertical-align: top\">no</td>\n",
       "        <td style=\"padding-left: 1em; padding-right: 1em; text-align: center; vertical-align: top\">0</td>\n",
       "    </tr>\n",
       "    <tr>\n",
       "        <td style=\"padding-left: 1em; padding-right: 1em; text-align: center; vertical-align: top\">NTT16DBS100PPP</td>\n",
       "        <td style=\"padding-left: 1em; padding-right: 1em; text-align: center; vertical-align: top\">Tue, Feb 9, 2016 07:20:26<br>AM EST ...</td>\n",
       "        <td style=\"padding-left: 1em; padding-right: 1em; text-align: center; vertical-align: top\">Tue, Feb 9, 2016 07:20:26<br>AM EST ...</td>\n",
       "        <td style=\"padding-left: 1em; padding-right: 1em; text-align: center; vertical-align: top\">no</td>\n",
       "        <td style=\"padding-left: 1em; padding-right: 1em; text-align: center; vertical-align: top\">0</td>\n",
       "    </tr>\n",
       "    <tr>\n",
       "        <td style=\"padding-left: 1em; padding-right: 1em; text-align: center; vertical-align: top\">NTT16DBS100PPP</td>\n",
       "        <td style=\"padding-left: 1em; padding-right: 1em; text-align: center; vertical-align: top\">Tue, Feb 9, 2016 08:09:25<br>AM EST ...</td>\n",
       "        <td style=\"padding-left: 1em; padding-right: 1em; text-align: center; vertical-align: top\">Tue, Feb 9, 2016 08:09:25<br>AM EST ...</td>\n",
       "        <td style=\"padding-left: 1em; padding-right: 1em; text-align: center; vertical-align: top\">no</td>\n",
       "        <td style=\"padding-left: 1em; padding-right: 1em; text-align: center; vertical-align: top\">0</td>\n",
       "    </tr>\n",
       "    <tr>\n",
       "        <td style=\"padding-left: 1em; padding-right: 1em; text-align: center; vertical-align: top\">NTT16DBS100PPP</td>\n",
       "        <td style=\"padding-left: 1em; padding-right: 1em; text-align: center; vertical-align: top\">Tue, Feb 9, 2016 07:39:43<br>AM EST ...</td>\n",
       "        <td style=\"padding-left: 1em; padding-right: 1em; text-align: center; vertical-align: top\">Tue, Feb 9, 2016 07:39:43<br>AM EST ...</td>\n",
       "        <td style=\"padding-left: 1em; padding-right: 1em; text-align: center; vertical-align: top\">no</td>\n",
       "        <td style=\"padding-left: 1em; padding-right: 1em; text-align: center; vertical-align: top\">0</td>\n",
       "    </tr>\n",
       "    <tr>\n",
       "        <td style=\"padding-left: 1em; padding-right: 1em; text-align: center; vertical-align: top\">NTT16DBS100PPP</td>\n",
       "        <td style=\"padding-left: 1em; padding-right: 1em; text-align: center; vertical-align: top\">Tue, Feb 9, 2016 08:50:18<br>AM EST ...</td>\n",
       "        <td style=\"padding-left: 1em; padding-right: 1em; text-align: center; vertical-align: top\">Tue, Feb 9, 2016 08:50:18<br>AM EST ...</td>\n",
       "        <td style=\"padding-left: 1em; padding-right: 1em; text-align: center; vertical-align: top\">no</td>\n",
       "        <td style=\"padding-left: 1em; padding-right: 1em; text-align: center; vertical-align: top\">0</td>\n",
       "    </tr>\n",
       "    <tr>\n",
       "        <td style=\"padding-left: 1em; padding-right: 1em; text-align: center; vertical-align: top\">NTT16DBS100PPP</td>\n",
       "        <td style=\"padding-left: 1em; padding-right: 1em; text-align: center; vertical-align: top\">Tue, Feb 9, 2016 07:27:17<br>AM EST ...</td>\n",
       "        <td style=\"padding-left: 1em; padding-right: 1em; text-align: center; vertical-align: top\">Tue, Feb 9, 2016 07:27:17<br>AM EST ...</td>\n",
       "        <td style=\"padding-left: 1em; padding-right: 1em; text-align: center; vertical-align: top\">no</td>\n",
       "        <td style=\"padding-left: 1em; padding-right: 1em; text-align: center; vertical-align: top\">0</td>\n",
       "    </tr>\n",
       "    <tr>\n",
       "        <td style=\"padding-left: 1em; padding-right: 1em; text-align: center; vertical-align: top\">NTT16DBS100PPP</td>\n",
       "        <td style=\"padding-left: 1em; padding-right: 1em; text-align: center; vertical-align: top\">Tue, Feb 9, 2016 08:27:23<br>AM EST ...</td>\n",
       "        <td style=\"padding-left: 1em; padding-right: 1em; text-align: center; vertical-align: top\">Tue, Feb 9, 2016 08:27:23<br>AM EST ...</td>\n",
       "        <td style=\"padding-left: 1em; padding-right: 1em; text-align: center; vertical-align: top\">no</td>\n",
       "        <td style=\"padding-left: 1em; padding-right: 1em; text-align: center; vertical-align: top\">0</td>\n",
       "    </tr>\n",
       "    <tr>\n",
       "        <td style=\"padding-left: 1em; padding-right: 1em; text-align: center; vertical-align: top\">NTT16DBS100PPP</td>\n",
       "        <td style=\"padding-left: 1em; padding-right: 1em; text-align: center; vertical-align: top\">Tue, Feb 9, 2016 08:06:57<br>AM EST ...</td>\n",
       "        <td style=\"padding-left: 1em; padding-right: 1em; text-align: center; vertical-align: top\">Tue, Feb 9, 2016 08:06:57<br>AM EST ...</td>\n",
       "        <td style=\"padding-left: 1em; padding-right: 1em; text-align: center; vertical-align: top\">no</td>\n",
       "        <td style=\"padding-left: 1em; padding-right: 1em; text-align: center; vertical-align: top\">0</td>\n",
       "    </tr>\n",
       "    <tr>\n",
       "        <td style=\"padding-left: 1em; padding-right: 1em; text-align: center; vertical-align: top\">NTT16DBS100PPP</td>\n",
       "        <td style=\"padding-left: 1em; padding-right: 1em; text-align: center; vertical-align: top\">Tue, Feb 9, 2016 06:55:53<br>AM EST ...</td>\n",
       "        <td style=\"padding-left: 1em; padding-right: 1em; text-align: center; vertical-align: top\">Tue, Feb 9, 2016 06:55:53<br>AM EST ...</td>\n",
       "        <td style=\"padding-left: 1em; padding-right: 1em; text-align: center; vertical-align: top\">no</td>\n",
       "        <td style=\"padding-left: 1em; padding-right: 1em; text-align: center; vertical-align: top\">0</td>\n",
       "    </tr>\n",
       "</table>\n",
       "<table frame=\"box\" rules=\"cols\">\n",
       "    <tr>\n",
       "        <th style=\"padding-left: 1em; padding-right: 1em; text-align: center\">LastOccurTime</th>\n",
       "        <th style=\"padding-left: 1em; padding-right: 1em; text-align: center\">TimeActiveBias</th>\n",
       "        <th style=\"padding-left: 1em; padding-right: 1em; text-align: center\">KSName</th>\n",
       "        <th style=\"padding-left: 1em; padding-right: 1em; text-align: center\">KSGName</th>\n",
       "        <th style=\"padding-left: 1em; padding-right: 1em; text-align: center\">Category</th>\n",
       "        <th style=\"padding-left: 1em; padding-right: 1em; text-align: center\">AgentMsgshort</th>\n",
       "        <th style=\"padding-left: 1em; padding-right: 1em; text-align: center\">DropKPObjID</th>\n",
       "        <th style=\"padding-left: 1em; padding-right: 1em; text-align: center\">UserStatusID</th>\n",
       "    </tr>\n",
       "    <tr>\n",
       "        <td style=\"padding-left: 1em; padding-right: 1em; text-align: center; vertical-align: top\">Tue, Feb 9, 2016 08:47:29<br>AM EST ...</td>\n",
       "        <td style=\"padding-left: 1em; padding-right: 1em; text-align: center; vertical-align: top\">0</td>\n",
       "        <td style=\"padding-left: 1em; padding-right: 1em; text-align: center; vertical-align: top\">SQLAgentJobState</td>\n",
       "        <td style=\"padding-left: 1em; padding-right: 1em; text-align: center; vertical-align: top\"></td>\n",
       "        <td style=\"padding-left: 1em; padding-right: 1em; text-align: center; vertical-align: top\"></td>\n",
       "        <td style=\"padding-left: 1em; padding-right: 1em; text-align: center; vertical-align: top\"></td>\n",
       "        <td style=\"padding-left: 1em; padding-right: 1em; text-align: center; vertical-align: top\">1083</td>\n",
       "        <td style=\"padding-left: 1em; padding-right: 1em; text-align: center; vertical-align: top\">0</td>\n",
       "    </tr>\n",
       "    <tr>\n",
       "        <td style=\"padding-left: 1em; padding-right: 1em; text-align: center; vertical-align: top\">Tue, Feb 9, 2016 08:27:23<br>AM EST ...</td>\n",
       "        <td style=\"padding-left: 1em; padding-right: 1em; text-align: center; vertical-align: top\">0</td>\n",
       "        <td style=\"padding-left: 1em; padding-right: 1em; text-align: center; vertical-align: top\">SQLAgentJobState</td>\n",
       "        <td style=\"padding-left: 1em; padding-right: 1em; text-align: center; vertical-align: top\"></td>\n",
       "        <td style=\"padding-left: 1em; padding-right: 1em; text-align: center; vertical-align: top\"></td>\n",
       "        <td style=\"padding-left: 1em; padding-right: 1em; text-align: center; vertical-align: top\"></td>\n",
       "        <td style=\"padding-left: 1em; padding-right: 1em; text-align: center; vertical-align: top\">1110</td>\n",
       "        <td style=\"padding-left: 1em; padding-right: 1em; text-align: center; vertical-align: top\">0</td>\n",
       "    </tr>\n",
       "    <tr>\n",
       "        <td style=\"padding-left: 1em; padding-right: 1em; text-align: center; vertical-align: top\">Tue, Feb 9, 2016 07:20:26<br>AM EST ...</td>\n",
       "        <td style=\"padding-left: 1em; padding-right: 1em; text-align: center; vertical-align: top\">0</td>\n",
       "        <td style=\"padding-left: 1em; padding-right: 1em; text-align: center; vertical-align: top\">DatabaseStatusCL</td>\n",
       "        <td style=\"padding-left: 1em; padding-right: 1em; text-align: center; vertical-align: top\"></td>\n",
       "        <td style=\"padding-left: 1em; padding-right: 1em; text-align: center; vertical-align: top\"></td>\n",
       "        <td style=\"padding-left: 1em; padding-right: 1em; text-align: center; vertical-align: top\"></td>\n",
       "        <td style=\"padding-left: 1em; padding-right: 1em; text-align: center; vertical-align: top\">1110</td>\n",
       "        <td style=\"padding-left: 1em; padding-right: 1em; text-align: center; vertical-align: top\">0</td>\n",
       "    </tr>\n",
       "    <tr>\n",
       "        <td style=\"padding-left: 1em; padding-right: 1em; text-align: center; vertical-align: top\">Tue, Feb 9, 2016 08:09:25<br>AM EST ...</td>\n",
       "        <td style=\"padding-left: 1em; padding-right: 1em; text-align: center; vertical-align: top\">0</td>\n",
       "        <td style=\"padding-left: 1em; padding-right: 1em; text-align: center; vertical-align: top\">MonitorJobs</td>\n",
       "        <td style=\"padding-left: 1em; padding-right: 1em; text-align: center; vertical-align: top\"></td>\n",
       "        <td style=\"padding-left: 1em; padding-right: 1em; text-align: center; vertical-align: top\"></td>\n",
       "        <td style=\"padding-left: 1em; padding-right: 1em; text-align: center; vertical-align: top\"></td>\n",
       "        <td style=\"padding-left: 1em; padding-right: 1em; text-align: center; vertical-align: top\">1083</td>\n",
       "        <td style=\"padding-left: 1em; padding-right: 1em; text-align: center; vertical-align: top\">0</td>\n",
       "    </tr>\n",
       "    <tr>\n",
       "        <td style=\"padding-left: 1em; padding-right: 1em; text-align: center; vertical-align: top\">Tue, Feb 9, 2016 07:39:43<br>AM EST ...</td>\n",
       "        <td style=\"padding-left: 1em; padding-right: 1em; text-align: center; vertical-align: top\">0</td>\n",
       "        <td style=\"padding-left: 1em; padding-right: 1em; text-align: center; vertical-align: top\">MonitorJobs</td>\n",
       "        <td style=\"padding-left: 1em; padding-right: 1em; text-align: center; vertical-align: top\"></td>\n",
       "        <td style=\"padding-left: 1em; padding-right: 1em; text-align: center; vertical-align: top\"></td>\n",
       "        <td style=\"padding-left: 1em; padding-right: 1em; text-align: center; vertical-align: top\"></td>\n",
       "        <td style=\"padding-left: 1em; padding-right: 1em; text-align: center; vertical-align: top\">1083</td>\n",
       "        <td style=\"padding-left: 1em; padding-right: 1em; text-align: center; vertical-align: top\">0</td>\n",
       "    </tr>\n",
       "    <tr>\n",
       "        <td style=\"padding-left: 1em; padding-right: 1em; text-align: center; vertical-align: top\">Tue, Feb 9, 2016 08:50:18<br>AM EST ...</td>\n",
       "        <td style=\"padding-left: 1em; padding-right: 1em; text-align: center; vertical-align: top\">0</td>\n",
       "        <td style=\"padding-left: 1em; padding-right: 1em; text-align: center; vertical-align: top\">MonitorJobs</td>\n",
       "        <td style=\"padding-left: 1em; padding-right: 1em; text-align: center; vertical-align: top\"></td>\n",
       "        <td style=\"padding-left: 1em; padding-right: 1em; text-align: center; vertical-align: top\"></td>\n",
       "        <td style=\"padding-left: 1em; padding-right: 1em; text-align: center; vertical-align: top\"></td>\n",
       "        <td style=\"padding-left: 1em; padding-right: 1em; text-align: center; vertical-align: top\">1110</td>\n",
       "        <td style=\"padding-left: 1em; padding-right: 1em; text-align: center; vertical-align: top\">0</td>\n",
       "    </tr>\n",
       "    <tr>\n",
       "        <td style=\"padding-left: 1em; padding-right: 1em; text-align: center; vertical-align: top\">Tue, Feb 9, 2016 07:27:17<br>AM EST ...</td>\n",
       "        <td style=\"padding-left: 1em; padding-right: 1em; text-align: center; vertical-align: top\">0</td>\n",
       "        <td style=\"padding-left: 1em; padding-right: 1em; text-align: center; vertical-align: top\">MonitorJobs</td>\n",
       "        <td style=\"padding-left: 1em; padding-right: 1em; text-align: center; vertical-align: top\"></td>\n",
       "        <td style=\"padding-left: 1em; padding-right: 1em; text-align: center; vertical-align: top\"></td>\n",
       "        <td style=\"padding-left: 1em; padding-right: 1em; text-align: center; vertical-align: top\"></td>\n",
       "        <td style=\"padding-left: 1em; padding-right: 1em; text-align: center; vertical-align: top\">1110</td>\n",
       "        <td style=\"padding-left: 1em; padding-right: 1em; text-align: center; vertical-align: top\">0</td>\n",
       "    </tr>\n",
       "    <tr>\n",
       "        <td style=\"padding-left: 1em; padding-right: 1em; text-align: center; vertical-align: top\">Tue, Feb 9, 2016 08:27:23<br>AM EST ...</td>\n",
       "        <td style=\"padding-left: 1em; padding-right: 1em; text-align: center; vertical-align: top\">0</td>\n",
       "        <td style=\"padding-left: 1em; padding-right: 1em; text-align: center; vertical-align: top\">SQLAgentJobState</td>\n",
       "        <td style=\"padding-left: 1em; padding-right: 1em; text-align: center; vertical-align: top\"></td>\n",
       "        <td style=\"padding-left: 1em; padding-right: 1em; text-align: center; vertical-align: top\"></td>\n",
       "        <td style=\"padding-left: 1em; padding-right: 1em; text-align: center; vertical-align: top\"></td>\n",
       "        <td style=\"padding-left: 1em; padding-right: 1em; text-align: center; vertical-align: top\">1110</td>\n",
       "        <td style=\"padding-left: 1em; padding-right: 1em; text-align: center; vertical-align: top\">0</td>\n",
       "    </tr>\n",
       "    <tr>\n",
       "        <td style=\"padding-left: 1em; padding-right: 1em; text-align: center; vertical-align: top\">Tue, Feb 9, 2016 08:06:57<br>AM EST ...</td>\n",
       "        <td style=\"padding-left: 1em; padding-right: 1em; text-align: center; vertical-align: top\">0</td>\n",
       "        <td style=\"padding-left: 1em; padding-right: 1em; text-align: center; vertical-align: top\">DatabaseStatusCL</td>\n",
       "        <td style=\"padding-left: 1em; padding-right: 1em; text-align: center; vertical-align: top\"></td>\n",
       "        <td style=\"padding-left: 1em; padding-right: 1em; text-align: center; vertical-align: top\"></td>\n",
       "        <td style=\"padding-left: 1em; padding-right: 1em; text-align: center; vertical-align: top\"></td>\n",
       "        <td style=\"padding-left: 1em; padding-right: 1em; text-align: center; vertical-align: top\">1110</td>\n",
       "        <td style=\"padding-left: 1em; padding-right: 1em; text-align: center; vertical-align: top\">0</td>\n",
       "    </tr>\n",
       "    <tr>\n",
       "        <td style=\"padding-left: 1em; padding-right: 1em; text-align: center; vertical-align: top\">Tue, Feb 9, 2016 06:55:53<br>AM EST ...</td>\n",
       "        <td style=\"padding-left: 1em; padding-right: 1em; text-align: center; vertical-align: top\">0</td>\n",
       "        <td style=\"padding-left: 1em; padding-right: 1em; text-align: center; vertical-align: top\">DatabaseStatusCL</td>\n",
       "        <td style=\"padding-left: 1em; padding-right: 1em; text-align: center; vertical-align: top\"></td>\n",
       "        <td style=\"padding-left: 1em; padding-right: 1em; text-align: center; vertical-align: top\"></td>\n",
       "        <td style=\"padding-left: 1em; padding-right: 1em; text-align: center; vertical-align: top\"></td>\n",
       "        <td style=\"padding-left: 1em; padding-right: 1em; text-align: center; vertical-align: top\">1110</td>\n",
       "        <td style=\"padding-left: 1em; padding-right: 1em; text-align: center; vertical-align: top\">0</td>\n",
       "    </tr>\n",
       "</table>\n",
       "<table frame=\"box\" rules=\"cols\">\n",
       "    <tr>\n",
       "        <th style=\"padding-left: 1em; padding-right: 1em; text-align: center\">AckTime</th>\n",
       "        <th style=\"padding-left: 1em; padding-right: 1em; text-align: center\">AppManager Comments</th>\n",
       "        <th style=\"padding-left: 1em; padding-right: 1em; text-align: center\">HasComment</th>\n",
       "        <th style=\"padding-left: 1em; padding-right: 1em; text-align: center\">FirstOccurTimeString</th>\n",
       "        <th style=\"padding-left: 1em; padding-right: 1em; text-align: center\">Last Occurrence (Agent)</th>\n",
       "        <th style=\"padding-left: 1em; padding-right: 1em; text-align: center\">WasNullAttrs</th>\n",
       "    </tr>\n",
       "    <tr>\n",
       "        <td style=\"padding-left: 1em; padding-right: 1em; text-align: center; vertical-align: top\">0</td>\n",
       "        <td style=\"padding-left: 1em; padding-right: 1em; text-align: center; vertical-align: top\"></td>\n",
       "        <td style=\"padding-left: 1em; padding-right: 1em; text-align: center; vertical-align: top\">0</td>\n",
       "        <td style=\"padding-left: 1em; padding-right: 1em; text-align: center; vertical-align: top\">2016-01-26 00:08:16 GMT</td>\n",
       "        <td style=\"padding-left: 1em; padding-right: 1em; text-align: center; vertical-align: top\">2016-02-09 13:47:29 GMT</td>\n",
       "        <td style=\"padding-left: 1em; padding-right: 1em; text-align: center; vertical-align: top\"></td>\n",
       "    </tr>\n",
       "    <tr>\n",
       "        <td style=\"padding-left: 1em; padding-right: 1em; text-align: center; vertical-align: top\">0</td>\n",
       "        <td style=\"padding-left: 1em; padding-right: 1em; text-align: center; vertical-align: top\"></td>\n",
       "        <td style=\"padding-left: 1em; padding-right: 1em; text-align: center; vertical-align: top\">0</td>\n",
       "        <td style=\"padding-left: 1em; padding-right: 1em; text-align: center; vertical-align: top\">2016-01-25 23:55:17 GMT</td>\n",
       "        <td style=\"padding-left: 1em; padding-right: 1em; text-align: center; vertical-align: top\">2016-02-09 13:27:23 GMT</td>\n",
       "        <td style=\"padding-left: 1em; padding-right: 1em; text-align: center; vertical-align: top\"></td>\n",
       "    </tr>\n",
       "    <tr>\n",
       "        <td style=\"padding-left: 1em; padding-right: 1em; text-align: center; vertical-align: top\">0</td>\n",
       "        <td style=\"padding-left: 1em; padding-right: 1em; text-align: center; vertical-align: top\"></td>\n",
       "        <td style=\"padding-left: 1em; padding-right: 1em; text-align: center; vertical-align: top\">0</td>\n",
       "        <td style=\"padding-left: 1em; padding-right: 1em; text-align: center; vertical-align: top\">2016-02-09 12:20:26 GMT</td>\n",
       "        <td style=\"padding-left: 1em; padding-right: 1em; text-align: center; vertical-align: top\">2016-02-09 12:20:26 GMT</td>\n",
       "        <td style=\"padding-left: 1em; padding-right: 1em; text-align: center; vertical-align: top\"></td>\n",
       "    </tr>\n",
       "    <tr>\n",
       "        <td style=\"padding-left: 1em; padding-right: 1em; text-align: center; vertical-align: top\">0</td>\n",
       "        <td style=\"padding-left: 1em; padding-right: 1em; text-align: center; vertical-align: top\"></td>\n",
       "        <td style=\"padding-left: 1em; padding-right: 1em; text-align: center; vertical-align: top\">0</td>\n",
       "        <td style=\"padding-left: 1em; padding-right: 1em; text-align: center; vertical-align: top\">2016-02-09 13:09:25 GMT</td>\n",
       "        <td style=\"padding-left: 1em; padding-right: 1em; text-align: center; vertical-align: top\">2016-02-09 13:09:25 GMT</td>\n",
       "        <td style=\"padding-left: 1em; padding-right: 1em; text-align: center; vertical-align: top\"></td>\n",
       "    </tr>\n",
       "    <tr>\n",
       "        <td style=\"padding-left: 1em; padding-right: 1em; text-align: center; vertical-align: top\">0</td>\n",
       "        <td style=\"padding-left: 1em; padding-right: 1em; text-align: center; vertical-align: top\"></td>\n",
       "        <td style=\"padding-left: 1em; padding-right: 1em; text-align: center; vertical-align: top\">0</td>\n",
       "        <td style=\"padding-left: 1em; padding-right: 1em; text-align: center; vertical-align: top\">2016-02-09 12:39:43 GMT</td>\n",
       "        <td style=\"padding-left: 1em; padding-right: 1em; text-align: center; vertical-align: top\">2016-02-09 12:39:43 GMT</td>\n",
       "        <td style=\"padding-left: 1em; padding-right: 1em; text-align: center; vertical-align: top\"></td>\n",
       "    </tr>\n",
       "    <tr>\n",
       "        <td style=\"padding-left: 1em; padding-right: 1em; text-align: center; vertical-align: top\">0</td>\n",
       "        <td style=\"padding-left: 1em; padding-right: 1em; text-align: center; vertical-align: top\"></td>\n",
       "        <td style=\"padding-left: 1em; padding-right: 1em; text-align: center; vertical-align: top\">0</td>\n",
       "        <td style=\"padding-left: 1em; padding-right: 1em; text-align: center; vertical-align: top\">2016-02-09 13:50:18 GMT</td>\n",
       "        <td style=\"padding-left: 1em; padding-right: 1em; text-align: center; vertical-align: top\">2016-02-09 13:50:18 GMT</td>\n",
       "        <td style=\"padding-left: 1em; padding-right: 1em; text-align: center; vertical-align: top\"></td>\n",
       "    </tr>\n",
       "    <tr>\n",
       "        <td style=\"padding-left: 1em; padding-right: 1em; text-align: center; vertical-align: top\">0</td>\n",
       "        <td style=\"padding-left: 1em; padding-right: 1em; text-align: center; vertical-align: top\"></td>\n",
       "        <td style=\"padding-left: 1em; padding-right: 1em; text-align: center; vertical-align: top\">0</td>\n",
       "        <td style=\"padding-left: 1em; padding-right: 1em; text-align: center; vertical-align: top\">2016-02-09 12:27:17 GMT</td>\n",
       "        <td style=\"padding-left: 1em; padding-right: 1em; text-align: center; vertical-align: top\">2016-02-09 12:27:17 GMT</td>\n",
       "        <td style=\"padding-left: 1em; padding-right: 1em; text-align: center; vertical-align: top\"></td>\n",
       "    </tr>\n",
       "    <tr>\n",
       "        <td style=\"padding-left: 1em; padding-right: 1em; text-align: center; vertical-align: top\">0</td>\n",
       "        <td style=\"padding-left: 1em; padding-right: 1em; text-align: center; vertical-align: top\"></td>\n",
       "        <td style=\"padding-left: 1em; padding-right: 1em; text-align: center; vertical-align: top\">0</td>\n",
       "        <td style=\"padding-left: 1em; padding-right: 1em; text-align: center; vertical-align: top\">2016-02-09 13:27:23 GMT</td>\n",
       "        <td style=\"padding-left: 1em; padding-right: 1em; text-align: center; vertical-align: top\">2016-02-09 13:27:23 GMT</td>\n",
       "        <td style=\"padding-left: 1em; padding-right: 1em; text-align: center; vertical-align: top\"></td>\n",
       "    </tr>\n",
       "    <tr>\n",
       "        <td style=\"padding-left: 1em; padding-right: 1em; text-align: center; vertical-align: top\">0</td>\n",
       "        <td style=\"padding-left: 1em; padding-right: 1em; text-align: center; vertical-align: top\"></td>\n",
       "        <td style=\"padding-left: 1em; padding-right: 1em; text-align: center; vertical-align: top\">0</td>\n",
       "        <td style=\"padding-left: 1em; padding-right: 1em; text-align: center; vertical-align: top\">2016-02-09 13:06:57 GMT</td>\n",
       "        <td style=\"padding-left: 1em; padding-right: 1em; text-align: center; vertical-align: top\">2016-02-09 13:06:57 GMT</td>\n",
       "        <td style=\"padding-left: 1em; padding-right: 1em; text-align: center; vertical-align: top\"></td>\n",
       "    </tr>\n",
       "    <tr>\n",
       "        <td style=\"padding-left: 1em; padding-right: 1em; text-align: center; vertical-align: top\">0</td>\n",
       "        <td style=\"padding-left: 1em; padding-right: 1em; text-align: center; vertical-align: top\"></td>\n",
       "        <td style=\"padding-left: 1em; padding-right: 1em; text-align: center; vertical-align: top\">0</td>\n",
       "        <td style=\"padding-left: 1em; padding-right: 1em; text-align: center; vertical-align: top\">2016-02-09 11:55:53 GMT</td>\n",
       "        <td style=\"padding-left: 1em; padding-right: 1em; text-align: center; vertical-align: top\">2016-02-09 11:55:53 GMT</td>\n",
       "        <td style=\"padding-left: 1em; padding-right: 1em; text-align: center; vertical-align: top\"></td>\n",
       "    </tr>\n",
       "</table>\n",
       "<table frame=\"box\" rules=\"cols\">\n",
       "    <tr>\n",
       "        <th style=\"padding-left: 1em; padding-right: 1em; text-align: center\">FCOName</th>\n",
       "        <th style=\"padding-left: 1em; padding-right: 1em; text-align: center\">...</th>\n",
       "    </tr>\n",
       "    <tr>\n",
       "        <td style=\"padding-left: 1em; padding-right: 1em; text-align: center; vertical-align: top\">SQL Server:NTT16DBS100PPP<br>\\NTT16DBS100NAV ...</td>\n",
       "        <td style=\"padding-left: 1em; padding-right: 1em; text-align: center; vertical-align: top\">...</td>\n",
       "    </tr>\n",
       "    <tr>\n",
       "        <td style=\"padding-left: 1em; padding-right: 1em; text-align: center; vertical-align: top\">SQL Server:NTT16DBS100PPP<br>\\NTT16DBS100NAV ...</td>\n",
       "        <td style=\"padding-left: 1em; padding-right: 1em; text-align: center; vertical-align: top\">...</td>\n",
       "    </tr>\n",
       "    <tr>\n",
       "        <td style=\"padding-left: 1em; padding-right: 1em; text-align: center; vertical-align: top\">SQL Server:NTT16DBS100PPP<br>\\NTT16DBS100NAV ...</td>\n",
       "        <td style=\"padding-left: 1em; padding-right: 1em; text-align: center; vertical-align: top\">...</td>\n",
       "    </tr>\n",
       "    <tr>\n",
       "        <td style=\"padding-left: 1em; padding-right: 1em; text-align: center; vertical-align: top\">SQL Server:NTT16DBS100PPP<br>\\NTT16DBS100NAV ...</td>\n",
       "        <td style=\"padding-left: 1em; padding-right: 1em; text-align: center; vertical-align: top\">...</td>\n",
       "    </tr>\n",
       "    <tr>\n",
       "        <td style=\"padding-left: 1em; padding-right: 1em; text-align: center; vertical-align: top\">SQL Server:NTT16DBS100PPP<br>\\NTT16DBS100NAV ...</td>\n",
       "        <td style=\"padding-left: 1em; padding-right: 1em; text-align: center; vertical-align: top\">...</td>\n",
       "    </tr>\n",
       "    <tr>\n",
       "        <td style=\"padding-left: 1em; padding-right: 1em; text-align: center; vertical-align: top\">SQL Server:NTT16DBS100PPP<br>\\NTT16DBS100NAV ...</td>\n",
       "        <td style=\"padding-left: 1em; padding-right: 1em; text-align: center; vertical-align: top\">...</td>\n",
       "    </tr>\n",
       "    <tr>\n",
       "        <td style=\"padding-left: 1em; padding-right: 1em; text-align: center; vertical-align: top\">SQL Server:NTT16DBS100PPP<br>\\NTT16DBS100NAV ...</td>\n",
       "        <td style=\"padding-left: 1em; padding-right: 1em; text-align: center; vertical-align: top\">...</td>\n",
       "    </tr>\n",
       "    <tr>\n",
       "        <td style=\"padding-left: 1em; padding-right: 1em; text-align: center; vertical-align: top\">SQL Server:NTT16DBS100PPP<br>\\NTT16DBS100NAV ...</td>\n",
       "        <td style=\"padding-left: 1em; padding-right: 1em; text-align: center; vertical-align: top\">...</td>\n",
       "    </tr>\n",
       "    <tr>\n",
       "        <td style=\"padding-left: 1em; padding-right: 1em; text-align: center; vertical-align: top\">SQL Server:NTT16DBS100PPP<br>\\NTT16DBS100NAV ...</td>\n",
       "        <td style=\"padding-left: 1em; padding-right: 1em; text-align: center; vertical-align: top\">...</td>\n",
       "    </tr>\n",
       "    <tr>\n",
       "        <td style=\"padding-left: 1em; padding-right: 1em; text-align: center; vertical-align: top\">SQL Server:NTT16DBS100PPP<br>\\NTT16DBS100NAV ...</td>\n",
       "        <td style=\"padding-left: 1em; padding-right: 1em; text-align: center; vertical-align: top\">...</td>\n",
       "    </tr>\n",
       "</table>\n",
       "[29 rows x 42 columns]<br/>Note: Only the head of the SFrame is printed.<br/>You can use print_rows(num_rows=m, num_columns=n) to print more rows and columns.\n",
       "</div>"
      ],
      "text/plain": [
       "Columns:\n",
       "\tSeverity\tstr\n",
       "\tElement\tstr\n",
       "\tDate/Time\tstr\n",
       "\tID\tint\n",
       "\tEventID\tint\n",
       "\tMessage\tstr\n",
       "\tFirstOccurTime\tstr\n",
       "\tOccurrence\tint\n",
       "\tParent ID\tint\n",
       "\tJob ID\tint\n",
       "\tDepJobID\tint\n",
       "\tRepositoryName\tstr\n",
       "\tSeverityCode\tstr\n",
       "\tSeverityNum\tint\n",
       "\tStatus\tstr\n",
       "\tObjID\tint\n",
       "\tKP Name\tstr\n",
       "\tTypeObjName\tstr\n",
       "\tModificationTime\tstr\n",
       "\tUserAcknowledged\tstr\n",
       "\tMachine Name\tstr\n",
       "\tFirstOccurConsoleTime\tstr\n",
       "\tLastOccurConsoleTime\tstr\n",
       "\tActions\tstr\n",
       "\tActionEndTime\tint\n",
       "\tLastOccurTime\tstr\n",
       "\tTimeActiveBias\tint\n",
       "\tKSName\tstr\n",
       "\tKSGName\tstr\n",
       "\tCategory\tstr\n",
       "\tAgentMsgshort\tstr\n",
       "\tDropKPObjID\tint\n",
       "\tUserStatusID\tint\n",
       "\tAckTime\tint\n",
       "\tAppManager Comments\tstr\n",
       "\tHasComment\tint\n",
       "\tFirstOccurTimeString\tstr\n",
       "\tLast Occurrence (Agent)\tstr\n",
       "\tWasNullAttrs\tstr\n",
       "\tFCOName\tstr\n",
       "\tis_critical\tint\n",
       "\tpredicted_health\tfloat\n",
       "\n",
       "Rows: 29\n",
       "\n",
       "Data:\n",
       "+---------------+-------------------------------+-------------------------------+\n",
       "|    Severity   |            Element            |           Date/Time           |\n",
       "+---------------+-------------------------------+-------------------------------+\n",
       "|    CRITICAL   | SQL Server:NTT16DBS100PPP\\... | Tue, Feb 9, 2016 08:47:29 ... |\n",
       "|    CRITICAL   | SQL Server:NTT16DBS100PPP\\... | Tue, Feb 9, 2016 08:27:23 ... |\n",
       "| INFORMATIONAL | SQL Server:NTT16DBS100PPP\\... | Tue, Feb 9, 2016 07:20:26 ... |\n",
       "| INFORMATIONAL | SQL Server:NTT16DBS100PPP\\... | Tue, Feb 9, 2016 08:09:25 ... |\n",
       "| INFORMATIONAL | SQL Server:NTT16DBS100PPP\\... | Tue, Feb 9, 2016 07:39:43 ... |\n",
       "| INFORMATIONAL | SQL Server:NTT16DBS100PPP\\... | Tue, Feb 9, 2016 08:50:18 ... |\n",
       "| INFORMATIONAL | SQL Server:NTT16DBS100PPP\\... | Tue, Feb 9, 2016 07:27:17 ... |\n",
       "| INFORMATIONAL | SQL Server:NTT16DBS100PPP\\... | Tue, Feb 9, 2016 08:27:23 ... |\n",
       "| INFORMATIONAL | SQL Server:NTT16DBS100PPP\\... | Tue, Feb 9, 2016 08:06:57 ... |\n",
       "| INFORMATIONAL | SQL Server:NTT16DBS100PPP\\... | Tue, Feb 9, 2016 06:55:53 ... |\n",
       "+---------------+-------------------------------+-------------------------------+\n",
       "+---------+---------+-------------------------------+\n",
       "|    ID   | EventID |            Message            |\n",
       "+---------+---------+-------------------------------+\n",
       "| 8503378 | 8503378 | Logical Disk: Disk space o... |\n",
       "| 8503152 | 8503152 | Windows Service: The NetIQ... |\n",
       "| 8774546 | 8774546 | Job Failure: SQL query/com... |\n",
       "| 8775123 | 8775123 | Error with SQL query on NT... |\n",
       "| 8774778 | 8774778 | Error with SQL query on NT... |\n",
       "| 8775610 | 8775610 | Error with SQL query on NT... |\n",
       "| 8774620 | 8774620 | Error with SQL query on NT... |\n",
       "| 8775337 | 8775337 | Job Failure: SQL query/com... |\n",
       "| 8775099 | 8775099 | Job Failure: SQL query/com... |\n",
       "| 8774271 | 8774271 | Job Failure: SQL query/com... |\n",
       "+---------+---------+-------------------------------+\n",
       "+-------------------------------+------------+-----------+--------+----------+----------------+\n",
       "|         FirstOccurTime        | Occurrence | Parent ID | Job ID | DepJobID | RepositoryName |\n",
       "+-------------------------------+------------+-----------+--------+----------+----------------+\n",
       "| Mon, Jan 25, 2016 07:08:16... |    891     |     0     | 59845  |    0     |                |\n",
       "| Mon, Jan 25, 2016 06:55:17... |    800     |     0     | 65312  |    0     |                |\n",
       "| Tue, Feb 9, 2016 07:20:26 ... |     1      |  8503747  | 59859  |    0     |                |\n",
       "| Tue, Feb 9, 2016 08:09:25 ... |     1      |  8503370  | 59843  |    0     |                |\n",
       "| Tue, Feb 9, 2016 07:39:43 ... |     1      |  8503370  | 59843  |    0     |                |\n",
       "| Tue, Feb 9, 2016 08:50:18 ... |     1      |  8503123  | 59850  |    0     |                |\n",
       "| Tue, Feb 9, 2016 07:27:17 ... |     1      |  8503123  | 59850  |    0     |                |\n",
       "| Tue, Feb 9, 2016 08:27:23 ... |     1      |  8503152  | 65312  |    0     |                |\n",
       "| Tue, Feb 9, 2016 08:06:57 ... |     1      |  8503747  | 59859  |    0     |                |\n",
       "| Tue, Feb 9, 2016 06:55:53 ... |     1      |  8503747  | 59859  |    0     |                |\n",
       "+-------------------------------+------------+-----------+--------+----------+----------------+\n",
       "+---------------+-------------+--------+--------+-------------------------------+\n",
       "|  SeverityCode | SeverityNum | Status | ObjID  |            KP Name            |\n",
       "+---------------+-------------+--------+--------+-------------------------------+\n",
       "|     Severe    |      5      |  OPEN  | 122482 | 3852:ATT-SQL2012_SQLAgentJ... |\n",
       "|     Severe    |      5      |  OPEN  | 122482 | 4395:ATT-SQL2014_SQLAgentJ... |\n",
       "| Informational |      29     |  OPEN  | 122482 | 4395:ATT-SQL2014_DatabaseS... |\n",
       "| Informational |      29     |  OPEN  | 122482 |  3852:ATT-SQL2012_MonitorJobs |\n",
       "| Informational |      29     |  OPEN  | 122482 |  3852:ATT-SQL2012_MonitorJobs |\n",
       "| Informational |      29     |  OPEN  | 122482 |  4395:ATT-SQL2012_MonitorJobs |\n",
       "| Informational |      29     |  OPEN  | 122482 |  4395:ATT-SQL2012_MonitorJobs |\n",
       "| Informational |      29     |  OPEN  | 122482 | 4395:ATT-SQL2014_SQLAgentJ... |\n",
       "| Informational |      29     |  OPEN  | 122482 | 4395:ATT-SQL2014_DatabaseS... |\n",
       "| Informational |      29     |  OPEN  | 122482 | 4395:ATT-SQL2014_DatabaseS... |\n",
       "+---------------+-------------+--------+--------+-------------------------------+\n",
       "+-------------------------------+-------------------------------+------------------+-----+\n",
       "|          TypeObjName          |        ModificationTime       | UserAcknowledged | ... |\n",
       "+-------------------------------+-------------------------------+------------------+-----+\n",
       "| SQLT_Server:SQL Server:NTT... | Tue, Feb 9, 2016 08:50:01 ... |                  | ... |\n",
       "| SQLT_Server:SQL Server:NTT... | Tue, Feb 9, 2016 08:40:01 ... |                  | ... |\n",
       "| SQLT_Server:SQL Server:NTT... | Tue, Feb 9, 2016 07:20:29 ... |                  | ... |\n",
       "| SQLT_Server:SQL Server:NTT... | Tue, Feb 9, 2016 08:09:29 ... |                  | ... |\n",
       "| SQLT_Server:SQL Server:NTT... | Tue, Feb 9, 2016 07:39:44 ... |                  | ... |\n",
       "| SQLT_Server:SQL Server:NTT... | Tue, Feb 9, 2016 08:50:18 ... |                  | ... |\n",
       "| SQLT_Server:SQL Server:NTT... | Tue, Feb 9, 2016 07:27:18 ... |                  | ... |\n",
       "| SQLT_Server:SQL Server:NTT... | Tue, Feb 9, 2016 08:27:28 ... |                  | ... |\n",
       "| SQLT_Server:SQL Server:NTT... | Tue, Feb 9, 2016 08:06:58 ... |                  | ... |\n",
       "| SQLT_Server:SQL Server:NTT... | Tue, Feb 9, 2016 06:55:56 ... |                  | ... |\n",
       "+-------------------------------+-------------------------------+------------------+-----+\n",
       "[29 rows x 42 columns]\n",
       "Note: Only the head of the SFrame is printed.\n",
       "You can use print_rows(num_rows=m, num_columns=n) to print more rows and columns."
      ]
     },
     "execution_count": 315,
     "metadata": {},
     "output_type": "execute_result"
    }
   ],
   "source": [
    "SQL_Server_alarms"
   ]
  },
  {
   "cell_type": "code",
   "execution_count": 316,
   "metadata": {
    "collapsed": false
   },
   "outputs": [
    {
     "data": {
      "text/plain": [
       "{'AckTime': 0L,\n",
       " 'ActionEndTime': 0L,\n",
       " 'Actions': 'no',\n",
       " 'AgentMsgshort': '',\n",
       " 'AppManager Comments': '',\n",
       " 'Category': '',\n",
       " 'Date/Time': 'Tue, Feb 9, 2016 08:47:29 AM EST',\n",
       " 'DepJobID': 0L,\n",
       " 'DropKPObjID': 1083L,\n",
       " 'Element': 'SQL Server:NTT16DBS100PPP\\\\NTT16DBS100NAV',\n",
       " 'EventID': 8503378L,\n",
       " 'FCOName': 'SQL Server:NTT16DBS100PPP\\\\NTT16DBS100NAV',\n",
       " 'FirstOccurConsoleTime': 'Mon, Jan 25, 2016 07:08:16 PM EST',\n",
       " 'FirstOccurTime': 'Mon, Jan 25, 2016 07:08:16 PM EST',\n",
       " 'FirstOccurTimeString': '2016-01-26 00:08:16 GMT',\n",
       " 'HasComment': 0L,\n",
       " 'ID': 8503378L,\n",
       " 'Job ID': 59845L,\n",
       " 'KP Name': '3852:ATT-SQL2012_SQLAgentJobState',\n",
       " 'KSGName': '',\n",
       " 'KSName': 'SQLAgentJobState',\n",
       " 'Last Occurrence (Agent)': '2016-02-09 13:47:29 GMT',\n",
       " 'LastOccurConsoleTime': 'Tue, Feb 9, 2016 08:47:29 AM EST',\n",
       " 'LastOccurTime': 'Tue, Feb 9, 2016 08:47:29 AM EST',\n",
       " 'Machine Name': 'NTT16DBS100PPP',\n",
       " 'Message': 'Logical Disk: Disk space on D (%) is critical',\n",
       " 'ModificationTime': 'Tue, Feb 9, 2016 08:50:01 AM EST',\n",
       " 'ObjID': 122482L,\n",
       " 'Occurrence': 891L,\n",
       " 'Parent ID': 0L,\n",
       " 'RepositoryName': '',\n",
       " 'Severity': 'CRITICAL',\n",
       " 'SeverityCode': 'Severe',\n",
       " 'SeverityNum': 5L,\n",
       " 'Status': 'OPEN',\n",
       " 'TimeActiveBias': 0L,\n",
       " 'TypeObjName': 'SQLT_Server:SQL Server:NTT16DBS100PPP\\\\NTT16DBS100NAV',\n",
       " 'UserAcknowledged': '',\n",
       " 'UserStatusID': 0L,\n",
       " 'WasNullAttrs': '',\n",
       " 'is_critical': 1L,\n",
       " 'predicted_health': 0.999426694150354}"
      ]
     },
     "execution_count": 316,
     "metadata": {},
     "output_type": "execute_result"
    }
   ],
   "source": [
    "#most critical\n",
    "SQL_Server_alarms[0]"
   ]
  },
  {
   "cell_type": "code",
   "execution_count": 317,
   "metadata": {
    "collapsed": false
   },
   "outputs": [
    {
     "data": {
      "text/plain": [
       "{'AckTime': 0L,\n",
       " 'ActionEndTime': 0L,\n",
       " 'Actions': 'no',\n",
       " 'AgentMsgshort': '',\n",
       " 'AppManager Comments': '',\n",
       " 'Category': '',\n",
       " 'Date/Time': 'Tue, Feb 9, 2016 08:47:29 AM EST',\n",
       " 'DepJobID': 0L,\n",
       " 'DropKPObjID': 1083L,\n",
       " 'Element': 'SQL Server:NTT16DBS100PPP\\\\NTT16DBS100NAV',\n",
       " 'EventID': 8775578L,\n",
       " 'FCOName': 'SQL Server:NTT16DBS100PPP\\\\NTT16DBS100NAV',\n",
       " 'FirstOccurConsoleTime': 'Tue, Feb 9, 2016 08:47:29 AM EST',\n",
       " 'FirstOccurTime': 'Tue, Feb 9, 2016 08:47:29 AM EST',\n",
       " 'FirstOccurTimeString': '2016-02-09 13:47:29 GMT',\n",
       " 'HasComment': 0L,\n",
       " 'ID': 8775578L,\n",
       " 'Job ID': 59845L,\n",
       " 'KP Name': '3852:ATT-SQL2012_SQLAgentJobState',\n",
       " 'KSGName': '',\n",
       " 'KSName': 'SQLAgentJobState',\n",
       " 'Last Occurrence (Agent)': '2016-02-09 13:47:29 GMT',\n",
       " 'LastOccurConsoleTime': 'Tue, Feb 9, 2016 08:47:29 AM EST',\n",
       " 'LastOccurTime': 'Tue, Feb 9, 2016 08:47:29 AM EST',\n",
       " 'Machine Name': 'NTT16DBS100PPP',\n",
       " 'Message': 'Job Failure: SQL query/command failed',\n",
       " 'ModificationTime': 'Tue, Feb 9, 2016 08:47:32 AM EST',\n",
       " 'ObjID': 122482L,\n",
       " 'Occurrence': 1L,\n",
       " 'Parent ID': 8503378L,\n",
       " 'RepositoryName': '',\n",
       " 'Severity': 'INFORMATIONAL',\n",
       " 'SeverityCode': 'Informational',\n",
       " 'SeverityNum': 29L,\n",
       " 'Status': 'OPEN',\n",
       " 'TimeActiveBias': 0L,\n",
       " 'TypeObjName': 'SQLT_Server:SQL Server:NTT16DBS100PPP\\\\NTT16DBS100NAV',\n",
       " 'UserAcknowledged': '',\n",
       " 'UserStatusID': 0L,\n",
       " 'WasNullAttrs': '',\n",
       " 'is_critical': -1L,\n",
       " 'predicted_health': 4.3788484665356746e-05}"
      ]
     },
     "execution_count": 317,
     "metadata": {},
     "output_type": "execute_result"
    }
   ],
   "source": [
    "#least critical\n",
    "SQL_Server_alarms[-1]"
   ]
  },
  {
   "cell_type": "code",
   "execution_count": 318,
   "metadata": {
    "collapsed": false
   },
   "outputs": [
    {
     "data": {
      "text/plain": [
       "-201.56809248233145"
      ]
     },
     "execution_count": 318,
     "metadata": {},
     "output_type": "execute_result"
    }
   ],
   "source": [
    "# calculating scores\n",
    "scores = model.predict(SQL_Server_alarms, output_type='margin')\n",
    "sum_scores = scores.sum()\n",
    "sum_scores"
   ]
  },
  {
   "cell_type": "code",
   "execution_count": 319,
   "metadata": {
    "collapsed": false
   },
   "outputs": [
    {
     "name": "stdout",
     "output_type": "stream",
     "text": [
      "Overall health of SQL_Server is OK\n"
     ]
    }
   ],
   "source": [
    "# health of SQL_Server\n",
    "if sum_scores > 0:\n",
    "    print \"Overall health of SQL_Server is critical\"\n",
    "else:\n",
    "    print \"Overall health of SQL_Server is OK\""
   ]
  },
  {
   "cell_type": "code",
   "execution_count": 320,
   "metadata": {
    "collapsed": false
   },
   "outputs": [
    {
     "name": "stdout",
     "output_type": "stream",
     "text": [
      "Overall health is critical\n"
     ]
    }
   ],
   "source": [
    "#Health of all alarms\n",
    "sample_test_data = test_data[1:]\n",
    " \n",
    "#print model.predict(sample_test_data)\n",
    "scores = model.predict(sample_test_data, output_type='margin')\n",
    "\n",
    "if scores.sum() > 0:\n",
    "    print \"Overall health is critical\"\n",
    "else:\n",
    "    print \"Overall health is OK\""
   ]
  },
  {
   "cell_type": "code",
   "execution_count": null,
   "metadata": {
    "collapsed": true
   },
   "outputs": [],
   "source": []
  }
 ],
 "metadata": {
  "kernelspec": {
   "display_name": "Python [Root]",
   "language": "python",
   "name": "Python [Root]"
  },
  "language_info": {
   "codemirror_mode": {
    "name": "ipython",
    "version": 2
   },
   "file_extension": ".py",
   "mimetype": "text/x-python",
   "name": "python",
   "nbconvert_exporter": "python",
   "pygments_lexer": "ipython2",
   "version": "2.7.11"
  }
 },
 "nbformat": 4,
 "nbformat_minor": 0
}
