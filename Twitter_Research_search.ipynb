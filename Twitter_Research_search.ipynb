{
  "nbformat": 4,
  "nbformat_minor": 0,
  "metadata": {
    "colab": {
      "name": "Twitter Research - search.ipynb",
      "provenance": [],
      "authorship_tag": "ABX9TyNxdIqVWlxrM6Wsb3IJ+awX",
      "include_colab_link": true
    },
    "kernelspec": {
      "name": "python3",
      "display_name": "Python 3"
    }
  },
  "cells": [
    {
      "cell_type": "markdown",
      "metadata": {
        "id": "view-in-github",
        "colab_type": "text"
      },
      "source": [
        "<a href=\"https://colab.research.google.com/github/arnabmy/MachineLearning/blob/master/Twitter_Research_search.ipynb\" target=\"_parent\"><img src=\"https://colab.research.google.com/assets/colab-badge.svg\" alt=\"Open In Colab\"/></a>"
      ]
    },
    {
      "cell_type": "code",
      "metadata": {
        "id": "a1memY6nrhR2",
        "colab_type": "code",
        "colab": {
          "base_uri": "https://localhost:8080/",
          "height": 191
        },
        "outputId": "16d74092-3b14-42d9-a011-d0ca4e065f00"
      },
      "source": [
        "!pip install tweepy"
      ],
      "execution_count": 1,
      "outputs": [
        {
          "output_type": "stream",
          "text": [
            "Requirement already satisfied: tweepy in /usr/local/lib/python3.6/dist-packages (3.6.0)\n",
            "Requirement already satisfied: requests-oauthlib>=0.7.0 in /usr/local/lib/python3.6/dist-packages (from tweepy) (1.3.0)\n",
            "Requirement already satisfied: PySocks>=1.5.7 in /usr/local/lib/python3.6/dist-packages (from tweepy) (1.7.1)\n",
            "Requirement already satisfied: six>=1.10.0 in /usr/local/lib/python3.6/dist-packages (from tweepy) (1.12.0)\n",
            "Requirement already satisfied: requests>=2.11.1 in /usr/local/lib/python3.6/dist-packages (from tweepy) (2.21.0)\n",
            "Requirement already satisfied: oauthlib>=3.0.0 in /usr/local/lib/python3.6/dist-packages (from requests-oauthlib>=0.7.0->tweepy) (3.1.0)\n",
            "Requirement already satisfied: idna<2.9,>=2.5 in /usr/local/lib/python3.6/dist-packages (from requests>=2.11.1->tweepy) (2.8)\n",
            "Requirement already satisfied: certifi>=2017.4.17 in /usr/local/lib/python3.6/dist-packages (from requests>=2.11.1->tweepy) (2019.11.28)\n",
            "Requirement already satisfied: chardet<3.1.0,>=3.0.2 in /usr/local/lib/python3.6/dist-packages (from requests>=2.11.1->tweepy) (3.0.4)\n",
            "Requirement already satisfied: urllib3<1.25,>=1.21.1 in /usr/local/lib/python3.6/dist-packages (from requests>=2.11.1->tweepy) (1.24.3)\n"
          ],
          "name": "stdout"
        }
      ]
    },
    {
      "cell_type": "code",
      "metadata": {
        "id": "3-R1yyBFru4N",
        "colab_type": "code",
        "colab": {}
      },
      "source": [
        "import tweepy\n",
        "\n",
        "access_token='365065089-n7QjTJtXfoN3S5z0ext5Fi5IgsVVIh0FCHnlrmic'\n",
        "access_token_secret='ACJ88lAqzk94HFLC1VKqpCbzSqPCJYsVFlRY4liLMdXfD'\n",
        "\n",
        "consumer_key='2vVUBP1RTiigrxvfUkt6GSV34'\n",
        "consumer_secret='TN7FeCgwZuyysS6qdLtJ8hAD1st8jv6FeYgDD9Bovh3zmaH58F'\n",
        "\n"
      ],
      "execution_count": 0,
      "outputs": []
    },
    {
      "cell_type": "code",
      "metadata": {
        "id": "Zfcc2Nf6sCEC",
        "colab_type": "code",
        "colab": {}
      },
      "source": [
        "# Creating the authentication object\n",
        "auth = tweepy.OAuthHandler(consumer_key, consumer_secret)\n",
        "# Setting your access token and secret\n",
        "auth.set_access_token(access_token, access_token_secret)\n",
        "# Creating the API object while passing in auth information\n",
        "api = tweepy.API(auth) "
      ],
      "execution_count": 0,
      "outputs": []
    },
    {
      "cell_type": "code",
      "metadata": {
        "id": "5zzLQ3v7sEYA",
        "colab_type": "code",
        "colab": {
          "base_uri": "https://localhost:8080/",
          "height": 381
        },
        "outputId": "2ff8e3f8-6542-4c1e-fabc-a7f946aaadcb"
      },
      "source": [
        "# Creating the API object while passing in auth information\n",
        "api = tweepy.API(auth)\n",
        "\n",
        "# The Twitter user who we want to get tweets from\n",
        "name = \"health\"\n",
        "# Number of tweets to pull\n",
        "tweetCount = 20\n",
        "\n",
        "# Calling the user_timeline function with our parameters\n",
        "results = api.user_timeline(id=name, count=tweetCount)\n",
        "\n",
        "# foreach through all tweets pulled\n",
        "for tweet in results:\n",
        "   # printing the text stored inside the tweet object\n",
        "   print(tweet.text)"
      ],
      "execution_count": 8,
      "outputs": [
        {
          "output_type": "stream",
          "text": [
            "RT @BNONews: BREAKING: New coronavirus strain has officially surpassed 1,000 confirmed cases around the world https://t.co/KxdT2gTzDf\n",
            "Death toll from Wuhan novel coronavrius climbs to 17 https://t.co/rlCeqf59hf\n",
            "RT @SkyNewsBreak: Chinese state media report that the head of a Chinese government expert team Zhong Nanshan says human-to-human transmissi…\n",
            "139 new cases of mysterious new Sars-like China coronavirus reported. Three people have died. https://t.co/bN4pzq53bo\n",
            "RT @Reuters: U.S. vaping-related deaths rise to 57, cases of illness to 2,602 https://t.co/EMvFxI96Ex https://t.co/sAzuqORq0y\n",
            "RT @AP: A preliminary investigation into viral pneumonia illnesses sickening dozens of people in and around China identifies the possible c…\n",
            "RT @Reuters: Drug developers take fresh aim at 'guided-missile' cancer drugs https://t.co/ueXa85gjEg https://t.co/8Df0p5TdrU\n",
            "RT @science: Study suggests caring for a small plant at work can help reduce stress. The image shows a small air plant used in the study. h…\n",
            "RT @science: Immune Amnesia: Study finds measles can wipe the immune system's memory of other illnesses https://t.co/0llPGDDLNZ\n",
            "STD cases growing in USA: The U.S. saw more than 2.4 million reported cases of chlamydia, gonorrhea and syphilis in… https://t.co/0zbpk37RNI\n",
            "RT @CNBCnow: BREAKING: Vaping lung cases surge to more than 1,000 with at least 18 deaths, CDC says https://t.co/GaaktV8xhz\n",
            "RT @Reuters: Los Angeles County resident dies of lung illness, fifth U.S. death possibly tied to vaping https://t.co/SGhtSOFxTR https://t.c…\n",
            "Dozens who lived in same West Hanovr  neighborhood diagnosed with brain tumors https://t.co/YOWYADG8WF\n",
            "RT @science: Take a Warm Bath Before Bedtime for Better Sleep say Scientists https://t.co/sMTzHWPCSW https://t.co/aDl5YCILjX\n",
            "RT @Reuters: San Francisco will become the first major city in the United States to ban the sale of e-cigarettes as officials look to contr…\n",
            "Number of ebola cases in DRC passes the 2,000 mark with 1,346 deaths. https://t.co/u7AvpbcdeI\n",
            "RT @BNONews: Number of measles cases in the U.S. reaches 971, the highest number since 1992 - AP\n",
            "RT @CNBCnow: JUST IN: Walgreens to raise tobacco buying age to 21 in September amid FDA pressure\n",
            "https://t.co/6ggZJajC5l\n",
            "RT @cnnbrk: The US measles outbreak is at the second-highest level in 25 years, with 2019's biggest weekly jump just reported https://t.co/…\n",
            "RT @BNONews: New York City declares measles outbreak a public health emergency, mandates vaccinations for those who may have been exposed.…\n"
          ],
          "name": "stdout"
        }
      ]
    },
    {
      "cell_type": "code",
      "metadata": {
        "id": "dDq5ywgesMNM",
        "colab_type": "code",
        "colab": {
          "base_uri": "https://localhost:8080/",
          "height": 696
        },
        "outputId": "cf186c29-6a07-432c-a496-2c2bff694c28"
      },
      "source": [
        "# Creating the API object while passing in auth information\n",
        "api = tweepy.API(auth)\n",
        "\n",
        "# The search term you want to find\n",
        "query = \"walnuts\"\n",
        "# Language code (follows ISO 639-1 standards)\n",
        "language = \"en\"\n",
        "\n",
        "# Calling the user_timeline function with our parameters\n",
        "results = api.search(q=query, lang=language)\n",
        "\n",
        "# foreach through all tweets pulled\n",
        "for tweet in results:\n",
        "   # printing the text stored inside the tweet object\n",
        "   print(tweet.user.screen_name,\"Tweeted:\",tweet.text)"
      ],
      "execution_count": 10,
      "outputs": [
        {
          "output_type": "stream",
          "text": [
            "bigbodypresents Tweeted: @Will__Murray I'll picture you as Paulie Walnuts\n",
            "paully_walnuts Tweeted: RT @PFF: The Senior Bowl edition of the PFF Draft Guide is LIVE!\n",
            "\n",
            "https://t.co/1qImOZ5w28\n",
            "agargmd Tweeted: My colleague enjoying the leftovers from my #soycurls adobo with the wild rice and walnuts her husband made.… https://t.co/XYeWGh3m1U\n",
            "like_finechina Tweeted: RT @LeArielleSimone: Foods that keep your body and mind strong:\n",
            "\n",
            "- almonds\n",
            "- avocado\n",
            "- beans\n",
            "- berries\n",
            "- cashews\n",
            "- cherries\n",
            "- flaxseed\n",
            "- ka…\n",
            "kenyan_comet Tweeted: RT @huneybuttagayou: Baked Brie w/t fig jam topping &amp; chopped walnuts by me. \n",
            "Tarte à l’oignon in the back also by me 👩🏽‍🍳💋 \n",
            "\n",
            "Dinner party…\n",
            "Talkaboutt_m Tweeted: I never realized how good walnuts taste in a salad😭 onions too omg\n",
            "JanetTu20750902 Tweeted: '2–3 oz of walnuts' daily may benefit heart and gut health https://t.co/RFzxBsSdAC via @healthline\n",
            "cacaobunni Tweeted: RT @huneybuttagayou: Baked Brie w/t fig jam topping &amp; chopped walnuts by me. \n",
            "Tarte à l’oignon in the back also by me 👩🏽‍🍳💋 \n",
            "\n",
            "Dinner party…\n",
            "DamirPopovic Tweeted: Made banana bread for the first time. Put walnuts in it and some shaved chocolate on top. Turned out ok, a little t… https://t.co/oTpL19IZqL\n",
            "Aditya78473628 Tweeted: RT @AdityaRajKaul: 'There is emptiness all around. A sense of doom. God is witness.', the old man says while walking around the houses of K…\n",
            "FettKeven Tweeted: RT @Somasray: Do try this vegetarian steamed rice snack done with rice flour, pomegranate juice, walnuts &amp; pumpkin seeds! It goes well with…\n",
            "TallGlassofStyL Tweeted: RT @huneybuttagayou: Baked Brie w/t fig jam topping &amp; chopped walnuts by me. \n",
            "Tarte à l’oignon in the back also by me 👩🏽‍🍳💋 \n",
            "\n",
            "Dinner party…\n",
            "vishwa_samvad Tweeted: RT @AdityaRajKaul: 'There is emptiness all around. A sense of doom. God is witness.', the old man says while walking around the houses of K…\n",
            "huneybuttagayou Tweeted: Baked Brie w/t fig jam topping &amp; chopped walnuts by me. \n",
            "Tarte à l’oignon in the back also by me 👩🏽‍🍳💋 \n",
            "\n",
            "Dinner par… https://t.co/01HU2ZvKBk\n",
            "MNoriega50 Tweeted: @booksanescape @cristyblue17 @SmackeyCracks @Yes_We_Can_44_ @lunaticopresid1 @hillsemailsrver @Erniedougls1… https://t.co/49M6hbbHDV\n"
          ],
          "name": "stdout"
        }
      ]
    },
    {
      "cell_type": "code",
      "metadata": {
        "id": "Ldn7yc7ls7WE",
        "colab_type": "code",
        "colab": {}
      },
      "source": [
        ""
      ],
      "execution_count": 0,
      "outputs": []
    }
  ]
}